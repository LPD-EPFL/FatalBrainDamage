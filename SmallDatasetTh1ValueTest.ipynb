{
 "cells": [
  {
   "cell_type": "code",
   "execution_count": 1,
   "metadata": {},
   "outputs": [
    {
     "name": "stderr",
     "output_type": "stream",
     "text": [
      "Using TensorFlow backend.\n"
     ]
    }
   ],
   "source": [
    "%load_ext autoreload\n",
    "%autoreload 2\n",
    "%matplotlib inline\n",
    "from helpers import *\n",
    "from matplotlib import pyplot as plt\n",
    "import numpy as np\n",
    "from experiment_mnist import *\n",
    "from experiment_constant import *\n",
    "from experiment_random import *\n",
    "from scipy.special import expit\n",
    "import pandas as pd\n",
    "import seaborn as sns"
   ]
  },
  {
   "cell_type": "code",
   "execution_count": 96,
   "metadata": {},
   "outputs": [],
   "source": [
    "x_train = np.random.randn(10, 100)\n",
    "y_train = np.sum(x_train, axis = 1) / 10"
   ]
  },
  {
   "cell_type": "code",
   "execution_count": 97,
   "metadata": {},
   "outputs": [
    {
     "data": {
      "text/plain": [
       "array([ 0.01058191,  0.48103066,  0.92924492, -0.70529067, -0.7672039 ,\n",
       "        0.25735404,  0.47644801,  0.16920577,  0.24380091, -0.95144637])"
      ]
     },
     "execution_count": 97,
     "metadata": {},
     "output_type": "execute_result"
    }
   ],
   "source": [
    "y_train"
   ]
  },
  {
   "cell_type": "code",
   "execution_count": 98,
   "metadata": {},
   "outputs": [],
   "source": [
    "model = Sequential()\n",
    "model.add(Dense(20, input_shape = (100, ),\n",
    "                    kernel_initializer = Constant(np.random.randn(3, 20) * np.sqrt(2. / 3)),\n",
    "                    activation = get_custom_activation(1, 'sigmoid'),\n",
    "                    bias_initializer = 'random_normal'))\n",
    "model.add(Dense(20, input_shape = (20, ),\n",
    "                    kernel_initializer = Constant(np.random.randn(20,20) * np.sqrt(2. / 20)),\n",
    "                    activation = get_custom_activation(1, 'sigmoid'),\n",
    "                    bias_initializer = 'random_normal'))\n",
    "model.add(Dense(1, kernel_initializer = Constant(np.random.randn(20, 1) * np.sqrt(2. / 20)),\n",
    "                    activation = 'linear',\n",
    "                    bias_initializer = 'random_normal'))\n",
    "model.compile(loss=keras.losses.mean_absolute_error,\n",
    "              optimizer=keras.optimizers.SGD(),\n",
    "              metrics=['mean_absolute_error'])"
   ]
  },
  {
   "cell_type": "markdown",
   "metadata": {},
   "source": [
    "### Test first:\n",
    "$$\\sum\\limits_{i,j}\\frac{\\partial y_k}{\\partial w_{ij}}w_{ij}=\\sum\\limits_{j}\\frac{\\partial y_k}{\\partial x_j}x_j\n",
    "    = -\\frac{1}{p}(\\mathbb{E}_\\xi\\Delta_L^k+O(p^2))$$"
   ]
  },
  {
   "cell_type": "code",
   "execution_count": null,
   "metadata": {},
   "outputs": [],
   "source": []
  },
  {
   "cell_type": "code",
   "execution_count": 106,
   "metadata": {},
   "outputs": [
    {
     "name": "stderr",
     "output_type": "stream",
     "text": [
      "100%|██████████| 10/10 [00:10<00:00,  1.13s/it]\n"
     ]
    }
   ],
   "source": [
    "loss = []\n",
    "errors = []\n",
    "p = 0.1\n",
    "for i in tqdm(range(10)):\n",
    "    history = model.fit(x_train, y_train, epochs = 1, batch_size = 500, verbose = False)\n",
    "    W = model.get_weights()[0::2]\n",
    "    B = model.get_weights()[1::2]\n",
    "    exp = ConstantExperiment([100, 20, 20, 1], [p, 0], 1, W, B, 'sigmoid', do_print = False)\n",
    "    err = np.mean([exp.get_exact_error_v3(x) for x in x_train])\n",
    "    errors += [err]\n",
    "    loss += [history.history['loss'][0]]"
   ]
  },
  {
   "cell_type": "code",
   "execution_count": 111,
   "metadata": {},
   "outputs": [
    {
     "data": {
      "image/png": "[encoded data removed]",
      "text/plain": [
       "<Figure size 432x288 with 1 Axes>"
      ]
     },
     "metadata": {
      "needs_background": "light"
     },
     "output_type": "display_data"
    }
   ],
   "source": [
    "plt.figure()\n",
    "plt.plot(loss, label = 'Train loss')\n",
    "plt.plot(np.array(errors) * 30, label = 'Error')\n",
    "plt.legend()\n",
    "plt.show()"
   ]
  },
  {
   "cell_type": "code",
   "execution_count": 42,
   "metadata": {},
   "outputs": [],
   "source": []
  },
  {
   "cell_type": "code",
   "execution_count": 81,
   "metadata": {},
   "outputs": [],
   "source": []
  },
  {
   "cell_type": "code",
   "execution_count": 82,
   "metadata": {},
   "outputs": [
    {
     "data": {
      "text/plain": [
       "0.05780722268306074"
      ]
     },
     "execution_count": 82,
     "metadata": {},
     "output_type": "execute_result"
    }
   ],
   "source": [
    "np.mean([exp.get_exact_error_v3(x) for x in x_train])"
   ]
  },
  {
   "cell_type": "code",
   "execution_count": 92,
   "metadata": {},
   "outputs": [
    {
     "data": {
      "text/plain": [
       "array([[0.04681731]])"
      ]
     },
     "execution_count": 92,
     "metadata": {},
     "output_type": "execute_result"
    }
   ],
   "source": [
    "exp.get_exact_error_v3(x_train[0])"
   ]
  },
  {
   "cell_type": "code",
   "execution_count": null,
   "metadata": {},
   "outputs": [],
   "source": []
  }
 ],
 "metadata": {
  "kernelspec": {
   "display_name": "Python 3",
   "language": "python",
   "name": "python3"
  },
  "language_info": {
   "codemirror_mode": {
    "name": "ipython",
    "version": 3
   },
   "file_extension": ".py",
   "mimetype": "text/x-python",
   "name": "python",
   "nbconvert_exporter": "python",
   "pygments_lexer": "ipython3",
   "version": "3.6.6"
  }
 },
 "nbformat": 4,
 "nbformat_minor": 2
}
