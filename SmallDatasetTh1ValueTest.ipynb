{
 "cells": [
  {
   "cell_type": "code",
   "execution_count": 32,
   "metadata": {},
   "outputs": [
    {
     "name": "stdout",
     "output_type": "stream",
     "text": [
      "The autoreload extension is already loaded. To reload it, use:\n",
      "  %reload_ext autoreload\n"
     ]
    }
   ],
   "source": [
    "%load_ext autoreload\n",
    "%autoreload 2\n",
    "%matplotlib inline\n",
    "from helpers import *\n",
    "from matplotlib import pyplot as plt\n",
    "import numpy as np\n",
    "from experiment_mnist import *\n",
    "from experiment_constant import *\n",
    "from experiment_random import *\n",
    "from scipy.special import expit\n",
    "import pandas as pd\n",
    "import seaborn as sns"
   ]
  },
  {
   "cell_type": "code",
   "execution_count": 33,
   "metadata": {},
   "outputs": [],
   "source": [
    "p = 1e-2\n",
    "exp = RandomExperiment([100, 21, 22, 23, 1], [p, 0, 0], 1, 'sigmoid')\n",
    "model = exp.model_no_dropout"
   ]
  },
  {
   "cell_type": "markdown",
   "metadata": {},
   "source": [
    "### Testing theorem 1:\n",
    "$$\\sum\\limits_{i,j}\\frac{\\partial y_k}{\\partial w_{ij}}w_{ij}=\\sum\\limits_{j}\\frac{\\partial y_k}{\\partial x_j}x_j\n",
    "    = -\\frac{1}{p}(\\mathbb{E}_\\xi\\Delta_L^k+O(p^2))$$"
   ]
  },
  {
   "cell_type": "code",
   "execution_count": 34,
   "metadata": {},
   "outputs": [],
   "source": [
    "some_x = -np.random.rand(100) * 100"
   ]
  },
  {
   "cell_type": "code",
   "execution_count": 35,
   "metadata": {},
   "outputs": [],
   "source": [
    "def val_for_some_x(tensor):\n",
    "    \"\"\" Evaluate tensor for some fixed input \"\"\"\n",
    "    return sess.run(tensor, feed_dict = {model.layers[0].input.name: [some_x]})"
   ]
  },
  {
   "cell_type": "code",
   "execution_count": 36,
   "metadata": {},
   "outputs": [],
   "source": [
    "def grad_and_sum(output, variable):\n",
    "    \"\"\" Calculate sum(doutput/dvariable * variable) \"\"\"\n",
    "    dydvar = tf.gradients(model.layers[-1].output, variable)[0]\n",
    "    mult = tf.multiply(dydvar, variable)\n",
    "    return tf.reduce_sum(mult)"
   ]
  },
  {
   "cell_type": "code",
   "execution_count": 37,
   "metadata": {},
   "outputs": [],
   "source": [
    "def calc_and_print(layer = 0):\n",
    "    \"\"\" Calculate and print quantities from Th1 for a layer \"\"\"\n",
    "    dydx = grad_and_sum(model.layers[-1].output, model.layers[layer].input)\n",
    "    dydw = grad_and_sum(model.layers[-1].output, model.layers[layer].weights[0])\n",
    "    return(val_for_some_x(dydx), val_for_some_x(dydw))"
   ]
  },
  {
   "cell_type": "code",
   "execution_count": 38,
   "metadata": {},
   "outputs": [
    {
     "name": "stdout",
     "output_type": "stream",
     "text": [
      "0 (6.1103376e-05, 6.110314e-05)\n",
      "1 (-0.0016422537, -0.0016422544)\n",
      "2 (-0.017006662, -0.017006658)\n",
      "3 (0.14561379, 0.14561379)\n"
     ]
    }
   ],
   "source": [
    "model.predict(some_x.reshape(1, -1))\n",
    "for layer in range(len(model.layers)):\n",
    "    print(layer, calc_and_print(layer))"
   ]
  },
  {
   "cell_type": "code",
   "execution_count": 45,
   "metadata": {},
   "outputs": [
    {
     "data": {
      "text/plain": [
       "-0.001690919089014642"
      ]
     },
     "execution_count": 45,
     "metadata": {},
     "output_type": "execute_result"
    }
   ],
   "source": [
    "-1. / p * np.mean(exp.get_error(some_x, repetitions = 1000000))"
   ]
  },
  {
   "cell_type": "code",
   "execution_count": 40,
   "metadata": {},
   "outputs": [
    {
     "data": {
      "text/plain": [
       "(array([[1.64225295e-05]]), array([[1.7153025e-05]], dtype=float32))"
      ]
     },
     "execution_count": 40,
     "metadata": {},
     "output_type": "execute_result"
    }
   ],
   "source": [
    "exp.get_exact_error_v3(some_x), exp.get_exact_error_v3_better(some_x)"
   ]
  },
  {
   "cell_type": "code",
   "execution_count": null,
   "metadata": {},
   "outputs": [],
   "source": []
  },
  {
   "cell_type": "code",
   "execution_count": null,
   "metadata": {},
   "outputs": [],
   "source": []
  }
 ],
 "metadata": {
  "kernelspec": {
   "display_name": "Python 3",
   "language": "python",
   "name": "python3"
  },
  "language_info": {
   "codemirror_mode": {
    "name": "ipython",
    "version": 3
   },
   "file_extension": ".py",
   "mimetype": "text/x-python",
   "name": "python",
   "nbconvert_exporter": "python",
   "pygments_lexer": "ipython3",
   "version": "3.6.6"
  }
 },
 "nbformat": 4,
 "nbformat_minor": 2
}
