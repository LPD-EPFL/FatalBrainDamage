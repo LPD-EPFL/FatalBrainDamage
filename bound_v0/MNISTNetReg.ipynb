{
 "cells": [
  {
   "cell_type": "code",
   "execution_count": 1,
   "metadata": {},
   "outputs": [
    {
     "name": "stderr",
     "output_type": "stream",
     "text": [
      "Using TensorFlow backend.\n"
     ]
    }
   ],
   "source": [
    "%matplotlib inline\n",
    "%load_ext autoreload\n",
    "%autoreload 2\n",
    "from matplotlib import pyplot as plt\n",
    "import numpy as np\n",
    "from keras import backend as K\n",
    "from experiment_mnist import *\n",
    "from tfshow import *"
   ]
  },
  {
   "cell_type": "code",
   "execution_count": 2,
   "metadata": {},
   "outputs": [
    {
     "name": "stdout",
     "output_type": "stream",
     "text": [
      "_________________________________________________________________\n",
      "Layer (type)                 Output Shape              Param #   \n",
      "=================================================================\n",
      "dense_1 (Dense)              (None, 10)                7850      \n",
      "_________________________________________________________________\n",
      "dense_2 (Dense)              (None, 10)                110       \n",
      "=================================================================\n",
      "Total params: 7,960\n",
      "Trainable params: 7,960\n",
      "Non-trainable params: 0\n",
      "_________________________________________________________________\n",
      "Train on 60000 samples, validate on 10000 samples\n",
      "Epoch 1/50\n",
      "60000/60000 [==============================] - 1s 13us/step - loss: 0.0966 - acc: 0.1396 - mean_squared_error: 0.0966 - val_loss: 0.0902 - val_acc: 0.2092 - val_mean_squared_error: 0.0902\n",
      "Epoch 2/50\n",
      "60000/60000 [==============================] - 0s 1us/step - loss: 0.0882 - acc: 0.2664 - mean_squared_error: 0.0882 - val_loss: 0.0856 - val_acc: 0.3271 - val_mean_squared_error: 0.0856\n",
      "Epoch 3/50\n",
      "60000/60000 [==============================] - 0s 1us/step - loss: 0.0842 - acc: 0.3624 - mean_squared_error: 0.0842 - val_loss: 0.0823 - val_acc: 0.3928 - val_mean_squared_error: 0.0823\n",
      "Epoch 4/50\n",
      "60000/60000 [==============================] - 0s 1us/step - loss: 0.0811 - acc: 0.4097 - mean_squared_error: 0.0811 - val_loss: 0.0794 - val_acc: 0.4251 - val_mean_squared_error: 0.0794\n",
      "Epoch 5/50\n",
      "60000/60000 [==============================] - 0s 1us/step - loss: 0.0784 - acc: 0.4419 - mean_squared_error: 0.0784 - val_loss: 0.0770 - val_acc: 0.4556 - val_mean_squared_error: 0.0770\n",
      "Epoch 6/50\n",
      "60000/60000 [==============================] - 0s 1us/step - loss: 0.0761 - acc: 0.4677 - mean_squared_error: 0.0761 - val_loss: 0.0749 - val_acc: 0.4728 - val_mean_squared_error: 0.0749\n",
      "Epoch 7/50\n",
      "60000/60000 [==============================] - 0s 2us/step - loss: 0.0740 - acc: 0.4837 - mean_squared_error: 0.0740 - val_loss: 0.0730 - val_acc: 0.4850 - val_mean_squared_error: 0.0730\n",
      "Epoch 8/50\n",
      "60000/60000 [==============================] - 0s 2us/step - loss: 0.0722 - acc: 0.4998 - mean_squared_error: 0.0722 - val_loss: 0.0711 - val_acc: 0.5112 - val_mean_squared_error: 0.0711\n",
      "Epoch 9/50\n",
      "60000/60000 [==============================] - 0s 2us/step - loss: 0.0704 - acc: 0.5171 - mean_squared_error: 0.0704 - val_loss: 0.0695 - val_acc: 0.5189 - val_mean_squared_error: 0.0695\n",
      "Epoch 10/50\n",
      "60000/60000 [==============================] - 0s 1us/step - loss: 0.0689 - acc: 0.5241 - mean_squared_error: 0.0689 - val_loss: 0.0681 - val_acc: 0.5380 - val_mean_squared_error: 0.0681\n",
      "Epoch 11/50\n",
      "60000/60000 [==============================] - 0s 1us/step - loss: 0.0675 - acc: 0.5422 - mean_squared_error: 0.0675 - val_loss: 0.0668 - val_acc: 0.5519 - val_mean_squared_error: 0.0668\n",
      "Epoch 12/50\n",
      "60000/60000 [==============================] - 0s 1us/step - loss: 0.0662 - acc: 0.5529 - mean_squared_error: 0.0662 - val_loss: 0.0655 - val_acc: 0.5557 - val_mean_squared_error: 0.0655\n",
      "Epoch 13/50\n",
      "60000/60000 [==============================] - 0s 1us/step - loss: 0.0649 - acc: 0.5604 - mean_squared_error: 0.0649 - val_loss: 0.0643 - val_acc: 0.5632 - val_mean_squared_error: 0.0643\n",
      "Epoch 14/50\n",
      "60000/60000 [==============================] - 0s 1us/step - loss: 0.0635 - acc: 0.5676 - mean_squared_error: 0.0635 - val_loss: 0.0629 - val_acc: 0.5694 - val_mean_squared_error: 0.0629\n",
      "Epoch 15/50\n",
      "60000/60000 [==============================] - 0s 2us/step - loss: 0.0623 - acc: 0.5729 - mean_squared_error: 0.0623 - val_loss: 0.0616 - val_acc: 0.5808 - val_mean_squared_error: 0.0616\n",
      "Epoch 16/50\n",
      "60000/60000 [==============================] - 0s 1us/step - loss: 0.0610 - acc: 0.5901 - mean_squared_error: 0.0610 - val_loss: 0.0605 - val_acc: 0.6004 - val_mean_squared_error: 0.0605\n",
      "Epoch 17/50\n",
      "60000/60000 [==============================] - 0s 1us/step - loss: 0.0598 - acc: 0.6035 - mean_squared_error: 0.0598 - val_loss: 0.0593 - val_acc: 0.6018 - val_mean_squared_error: 0.0593\n",
      "Epoch 18/50\n",
      "60000/60000 [==============================] - 0s 1us/step - loss: 0.0588 - acc: 0.6125 - mean_squared_error: 0.0588 - val_loss: 0.0583 - val_acc: 0.6162 - val_mean_squared_error: 0.0583\n",
      "Epoch 19/50\n",
      "60000/60000 [==============================] - 0s 1us/step - loss: 0.0577 - acc: 0.6241 - mean_squared_error: 0.0577 - val_loss: 0.0573 - val_acc: 0.6303 - val_mean_squared_error: 0.0573\n",
      "Epoch 20/50\n",
      "60000/60000 [==============================] - 0s 1us/step - loss: 0.0567 - acc: 0.6364 - mean_squared_error: 0.0567 - val_loss: 0.0566 - val_acc: 0.6384 - val_mean_squared_error: 0.0566\n",
      "Epoch 21/50\n",
      "60000/60000 [==============================] - 0s 1us/step - loss: 0.0559 - acc: 0.6459 - mean_squared_error: 0.0559 - val_loss: 0.0555 - val_acc: 0.6515 - val_mean_squared_error: 0.0555\n",
      "Epoch 22/50\n",
      "60000/60000 [==============================] - 0s 1us/step - loss: 0.0550 - acc: 0.6511 - mean_squared_error: 0.0550 - val_loss: 0.0549 - val_acc: 0.6586 - val_mean_squared_error: 0.0549\n",
      "Epoch 23/50\n",
      "60000/60000 [==============================] - 0s 1us/step - loss: 0.0542 - acc: 0.6633 - mean_squared_error: 0.0542 - val_loss: 0.0539 - val_acc: 0.6943 - val_mean_squared_error: 0.0539\n",
      "Epoch 24/50\n",
      "60000/60000 [==============================] - 0s 2us/step - loss: 0.0534 - acc: 0.6995 - mean_squared_error: 0.0534 - val_loss: 0.0533 - val_acc: 0.7016 - val_mean_squared_error: 0.0533\n",
      "Epoch 25/50\n",
      "60000/60000 [==============================] - 0s 2us/step - loss: 0.0527 - acc: 0.7069 - mean_squared_error: 0.0527 - val_loss: 0.0525 - val_acc: 0.7098 - val_mean_squared_error: 0.0525\n",
      "Epoch 26/50\n",
      "60000/60000 [==============================] - 0s 2us/step - loss: 0.0520 - acc: 0.7142 - mean_squared_error: 0.0520 - val_loss: 0.0519 - val_acc: 0.7165 - val_mean_squared_error: 0.0519\n",
      "Epoch 27/50\n",
      "60000/60000 [==============================] - 0s 1us/step - loss: 0.0514 - acc: 0.7184 - mean_squared_error: 0.0514 - val_loss: 0.0512 - val_acc: 0.7215 - val_mean_squared_error: 0.0512\n",
      "Epoch 28/50\n",
      "60000/60000 [==============================] - 0s 1us/step - loss: 0.0508 - acc: 0.7214 - mean_squared_error: 0.0508 - val_loss: 0.0506 - val_acc: 0.7239 - val_mean_squared_error: 0.0506\n",
      "Epoch 29/50\n",
      "60000/60000 [==============================] - 0s 1us/step - loss: 0.0502 - acc: 0.7245 - mean_squared_error: 0.0502 - val_loss: 0.0502 - val_acc: 0.7264 - val_mean_squared_error: 0.0502\n",
      "Epoch 30/50\n",
      "60000/60000 [==============================] - 0s 2us/step - loss: 0.0496 - acc: 0.7281 - mean_squared_error: 0.0496 - val_loss: 0.0495 - val_acc: 0.7281 - val_mean_squared_error: 0.0495\n",
      "Epoch 31/50\n",
      "60000/60000 [==============================] - 0s 1us/step - loss: 0.0490 - acc: 0.7318 - mean_squared_error: 0.0490 - val_loss: 0.0491 - val_acc: 0.7266 - val_mean_squared_error: 0.0491\n",
      "Epoch 32/50\n",
      "60000/60000 [==============================] - 0s 1us/step - loss: 0.0485 - acc: 0.7361 - mean_squared_error: 0.0485 - val_loss: 0.0485 - val_acc: 0.7357 - val_mean_squared_error: 0.0485\n",
      "Epoch 33/50\n",
      "60000/60000 [==============================] - 0s 1us/step - loss: 0.0479 - acc: 0.7397 - mean_squared_error: 0.0479 - val_loss: 0.0480 - val_acc: 0.7360 - val_mean_squared_error: 0.0480\n",
      "Epoch 34/50\n",
      "60000/60000 [==============================] - 0s 1us/step - loss: 0.0476 - acc: 0.7412 - mean_squared_error: 0.0476 - val_loss: 0.0475 - val_acc: 0.7436 - val_mean_squared_error: 0.0475\n",
      "Epoch 35/50\n",
      "60000/60000 [==============================] - 0s 1us/step - loss: 0.0470 - acc: 0.7448 - mean_squared_error: 0.0470 - val_loss: 0.0470 - val_acc: 0.7489 - val_mean_squared_error: 0.0470\n",
      "Epoch 36/50\n",
      "60000/60000 [==============================] - 0s 2us/step - loss: 0.0466 - acc: 0.7445 - mean_squared_error: 0.0466 - val_loss: 0.0466 - val_acc: 0.7475 - val_mean_squared_error: 0.0466\n",
      "Epoch 37/50\n",
      "60000/60000 [==============================] - 0s 1us/step - loss: 0.0462 - acc: 0.7485 - mean_squared_error: 0.0462 - val_loss: 0.0463 - val_acc: 0.7443 - val_mean_squared_error: 0.0463\n",
      "Epoch 38/50\n",
      "60000/60000 [==============================] - 0s 1us/step - loss: 0.0458 - acc: 0.7504 - mean_squared_error: 0.0458 - val_loss: 0.0459 - val_acc: 0.7464 - val_mean_squared_error: 0.0459\n"
     ]
    },
    {
     "name": "stdout",
     "output_type": "stream",
     "text": [
      "Epoch 39/50\n",
      "60000/60000 [==============================] - 0s 1us/step - loss: 0.0454 - acc: 0.7525 - mean_squared_error: 0.0454 - val_loss: 0.0454 - val_acc: 0.7495 - val_mean_squared_error: 0.0454\n",
      "Epoch 40/50\n",
      "60000/60000 [==============================] - 0s 1us/step - loss: 0.0452 - acc: 0.7512 - mean_squared_error: 0.0452 - val_loss: 0.0452 - val_acc: 0.7501 - val_mean_squared_error: 0.0452\n",
      "Epoch 41/50\n",
      "60000/60000 [==============================] - 0s 1us/step - loss: 0.0447 - acc: 0.7555 - mean_squared_error: 0.0447 - val_loss: 0.0449 - val_acc: 0.7485 - val_mean_squared_error: 0.0449\n",
      "Epoch 42/50\n",
      "60000/60000 [==============================] - 0s 1us/step - loss: 0.0444 - acc: 0.7578 - mean_squared_error: 0.0444 - val_loss: 0.0445 - val_acc: 0.7569 - val_mean_squared_error: 0.0445\n",
      "Epoch 43/50\n",
      "60000/60000 [==============================] - 0s 1us/step - loss: 0.0442 - acc: 0.7587 - mean_squared_error: 0.0442 - val_loss: 0.0443 - val_acc: 0.7599 - val_mean_squared_error: 0.0443\n",
      "Epoch 44/50\n",
      "60000/60000 [==============================] - 0s 1us/step - loss: 0.0438 - acc: 0.7619 - mean_squared_error: 0.0438 - val_loss: 0.0438 - val_acc: 0.7607 - val_mean_squared_error: 0.0438\n",
      "Epoch 45/50\n",
      "60000/60000 [==============================] - 0s 2us/step - loss: 0.0435 - acc: 0.7613 - mean_squared_error: 0.0435 - val_loss: 0.0438 - val_acc: 0.7549 - val_mean_squared_error: 0.0438\n",
      "Epoch 46/50\n",
      "60000/60000 [==============================] - 0s 1us/step - loss: 0.0432 - acc: 0.7627 - mean_squared_error: 0.0432 - val_loss: 0.0437 - val_acc: 0.7610 - val_mean_squared_error: 0.0437\n",
      "Epoch 47/50\n",
      "60000/60000 [==============================] - 0s 1us/step - loss: 0.0430 - acc: 0.7611 - mean_squared_error: 0.0430 - val_loss: 0.0433 - val_acc: 0.7618 - val_mean_squared_error: 0.0433\n",
      "Epoch 48/50\n",
      "60000/60000 [==============================] - 0s 1us/step - loss: 0.0429 - acc: 0.7622 - mean_squared_error: 0.0429 - val_loss: 0.0429 - val_acc: 0.7586 - val_mean_squared_error: 0.0429\n",
      "Epoch 49/50\n",
      "60000/60000 [==============================] - 0s 1us/step - loss: 0.0426 - acc: 0.7637 - mean_squared_error: 0.0426 - val_loss: 0.0426 - val_acc: 0.7631 - val_mean_squared_error: 0.0426\n",
      "Epoch 50/50\n",
      "60000/60000 [==============================] - 0s 1us/step - loss: 0.0422 - acc: 0.7666 - mean_squared_error: 0.0422 - val_loss: 0.0426 - val_acc: 0.7567 - val_mean_squared_error: 0.0426\n"
     ]
    },
    {
     "data": {
      "image/png": "[encoded data removed]",
      "text/plain": [
       "<Figure size 432x288 with 1 Axes>"
      ]
     },
     "metadata": {
      "needs_background": "light"
     },
     "output_type": "display_data"
    },
    {
     "name": "stdout",
     "output_type": "stream",
     "text": [
      "Creating network for 784-dimensional input and 10-dimensional output, with 1 hidden layers\n"
     ]
    }
   ],
   "source": [
    "experiment = MNISTExperiment([10], 0.123, 0.321, epochs = 50, activation = 'sigmoid', reg_type = 0,\n",
    "                             reg_coeff = 0, do_print = True)"
   ]
  },
  {
   "cell_type": "code",
   "execution_count": 3,
   "metadata": {},
   "outputs": [
    {
     "name": "stderr",
     "output_type": "stream",
     "text": [
      "100%|██████████| 50/50 [00:04<00:00, 11.59it/s]\n"
     ]
    },
    {
     "data": {
      "image/png": "[encoded data removed]",
      "text/plain": [
       "<Figure size 432x288 with 1 Axes>"
      ]
     },
     "metadata": {
      "needs_background": "light"
     },
     "output_type": "display_data"
    },
    {
     "name": "stdout",
     "output_type": "stream",
     "text": [
      "Error; maximal over inputs, average over dropout:\n",
      "True values array mean: 0.099935 variance 0.203749\n",
      "Experiment 0.118911 Std 0.207111\n",
      "Equation   0.198686 Std 0.287775\n",
      "Tightness  59.8% Std 72.0%\n"
     ]
    },
    {
     "data": {
      "text/plain": [
       "(0.118910655, 0.20711106, 0.19868623280525208, 0.2877752331330362, 0.20374875)"
      ]
     },
     "execution_count": 3,
     "metadata": {},
     "output_type": "execute_result"
    }
   ],
   "source": [
    "experiment.run(repetitions = 10000, inputs = 50)"
   ]
  },
  {
   "cell_type": "code",
   "execution_count": 4,
   "metadata": {},
   "outputs": [
    {
     "name": "stdout",
     "output_type": "stream",
     "text": [
      "_________________________________________________________________\n",
      "Layer (type)                 Output Shape              Param #   \n",
      "=================================================================\n",
      "dense_7 (Dense)              (None, 10)                7850      \n",
      "_________________________________________________________________\n",
      "lambda_2 (Lambda)            (None, 10)                0         \n",
      "_________________________________________________________________\n",
      "dense_8 (Dense)              (None, 10)                110       \n",
      "=================================================================\n",
      "Total params: 7,960\n",
      "Trainable params: 7,960\n",
      "Non-trainable params: 0\n",
      "_________________________________________________________________\n",
      "Train on 60000 samples, validate on 10000 samples\n",
      "Epoch 1/50\n",
      "60000/60000 [==============================] - 0s 4us/step - loss: 0.0980 - acc: 0.1151 - mean_squared_error: 0.0980 - val_loss: 0.0930 - val_acc: 0.1532 - val_mean_squared_error: 0.0930\n",
      "Epoch 2/50\n",
      "60000/60000 [==============================] - 0s 1us/step - loss: 0.0910 - acc: 0.1775 - mean_squared_error: 0.0910 - val_loss: 0.0885 - val_acc: 0.2001 - val_mean_squared_error: 0.0885\n",
      "Epoch 3/50\n",
      "60000/60000 [==============================] - 0s 1us/step - loss: 0.0872 - acc: 0.2308 - mean_squared_error: 0.0872 - val_loss: 0.0853 - val_acc: 0.2854 - val_mean_squared_error: 0.0853\n",
      "Epoch 4/50\n",
      "60000/60000 [==============================] - 0s 1us/step - loss: 0.0844 - acc: 0.3015 - mean_squared_error: 0.0844 - val_loss: 0.0829 - val_acc: 0.3345 - val_mean_squared_error: 0.0829\n",
      "Epoch 5/50\n",
      "60000/60000 [==============================] - 0s 1us/step - loss: 0.0823 - acc: 0.3559 - mean_squared_error: 0.0823 - val_loss: 0.0808 - val_acc: 0.3870 - val_mean_squared_error: 0.0808\n",
      "Epoch 6/50\n",
      "60000/60000 [==============================] - 0s 1us/step - loss: 0.0804 - acc: 0.3931 - mean_squared_error: 0.0804 - val_loss: 0.0792 - val_acc: 0.4239 - val_mean_squared_error: 0.0792\n",
      "Epoch 7/50\n",
      "60000/60000 [==============================] - 0s 2us/step - loss: 0.0787 - acc: 0.4314 - mean_squared_error: 0.0787 - val_loss: 0.0775 - val_acc: 0.4597 - val_mean_squared_error: 0.0775\n",
      "Epoch 8/50\n",
      "60000/60000 [==============================] - 0s 1us/step - loss: 0.0770 - acc: 0.4556 - mean_squared_error: 0.0770 - val_loss: 0.0758 - val_acc: 0.4780 - val_mean_squared_error: 0.0758\n",
      "Epoch 9/50\n",
      "60000/60000 [==============================] - 0s 1us/step - loss: 0.0755 - acc: 0.4746 - mean_squared_error: 0.0755 - val_loss: 0.0746 - val_acc: 0.4847 - val_mean_squared_error: 0.0746\n",
      "Epoch 10/50\n",
      "60000/60000 [==============================] - 0s 1us/step - loss: 0.0741 - acc: 0.4928 - mean_squared_error: 0.0741 - val_loss: 0.0733 - val_acc: 0.5048 - val_mean_squared_error: 0.0733\n",
      "Epoch 11/50\n",
      "60000/60000 [==============================] - 0s 1us/step - loss: 0.0729 - acc: 0.5159 - mean_squared_error: 0.0729 - val_loss: 0.0721 - val_acc: 0.5280 - val_mean_squared_error: 0.0721\n",
      "Epoch 12/50\n",
      "60000/60000 [==============================] - 0s 2us/step - loss: 0.0717 - acc: 0.5283 - mean_squared_error: 0.0717 - val_loss: 0.0709 - val_acc: 0.5421 - val_mean_squared_error: 0.0709\n",
      "Epoch 13/50\n",
      "60000/60000 [==============================] - 0s 2us/step - loss: 0.0706 - acc: 0.5462 - mean_squared_error: 0.0706 - val_loss: 0.0697 - val_acc: 0.5595 - val_mean_squared_error: 0.0697\n",
      "Epoch 14/50\n",
      "60000/60000 [==============================] - 0s 1us/step - loss: 0.0696 - acc: 0.5587 - mean_squared_error: 0.0696 - val_loss: 0.0687 - val_acc: 0.5788 - val_mean_squared_error: 0.0687\n",
      "Epoch 15/50\n",
      "60000/60000 [==============================] - 0s 2us/step - loss: 0.0685 - acc: 0.5736 - mean_squared_error: 0.0685 - val_loss: 0.0676 - val_acc: 0.5866 - val_mean_squared_error: 0.0676\n",
      "Epoch 16/50\n",
      "60000/60000 [==============================] - 0s 1us/step - loss: 0.0675 - acc: 0.5853 - mean_squared_error: 0.0675 - val_loss: 0.0665 - val_acc: 0.6095 - val_mean_squared_error: 0.0665\n",
      "Epoch 17/50\n",
      "60000/60000 [==============================] - 0s 1us/step - loss: 0.0666 - acc: 0.5990 - mean_squared_error: 0.0666 - val_loss: 0.0656 - val_acc: 0.6229 - val_mean_squared_error: 0.0656\n",
      "Epoch 18/50\n",
      "60000/60000 [==============================] - 0s 1us/step - loss: 0.0656 - acc: 0.6102 - mean_squared_error: 0.0656 - val_loss: 0.0647 - val_acc: 0.6290 - val_mean_squared_error: 0.0647\n",
      "Epoch 19/50\n",
      "60000/60000 [==============================] - 0s 2us/step - loss: 0.0647 - acc: 0.6218 - mean_squared_error: 0.0647 - val_loss: 0.0639 - val_acc: 0.6385 - val_mean_squared_error: 0.0639\n",
      "Epoch 20/50\n",
      "60000/60000 [==============================] - 0s 2us/step - loss: 0.0638 - acc: 0.6380 - mean_squared_error: 0.0638 - val_loss: 0.0629 - val_acc: 0.6500 - val_mean_squared_error: 0.0629\n",
      "Epoch 21/50\n",
      "60000/60000 [==============================] - 0s 2us/step - loss: 0.0631 - acc: 0.6426 - mean_squared_error: 0.0631 - val_loss: 0.0623 - val_acc: 0.6544 - val_mean_squared_error: 0.0623\n",
      "Epoch 22/50\n",
      "60000/60000 [==============================] - 0s 2us/step - loss: 0.0623 - acc: 0.6516 - mean_squared_error: 0.0623 - val_loss: 0.0613 - val_acc: 0.6645 - val_mean_squared_error: 0.0613\n",
      "Epoch 23/50\n",
      "60000/60000 [==============================] - 0s 2us/step - loss: 0.0615 - acc: 0.6569 - mean_squared_error: 0.0615 - val_loss: 0.0608 - val_acc: 0.6711 - val_mean_squared_error: 0.0608\n",
      "Epoch 24/50\n",
      "60000/60000 [==============================] - 0s 1us/step - loss: 0.0609 - acc: 0.6664 - mean_squared_error: 0.0609 - val_loss: 0.0598 - val_acc: 0.6845 - val_mean_squared_error: 0.0598\n",
      "Epoch 25/50\n",
      "60000/60000 [==============================] - 0s 1us/step - loss: 0.0602 - acc: 0.6728 - mean_squared_error: 0.0602 - val_loss: 0.0590 - val_acc: 0.6909 - val_mean_squared_error: 0.0590\n",
      "Epoch 26/50\n",
      "60000/60000 [==============================] - 0s 2us/step - loss: 0.0595 - acc: 0.6789 - mean_squared_error: 0.0595 - val_loss: 0.0588 - val_acc: 0.6841 - val_mean_squared_error: 0.0588\n",
      "Epoch 27/50\n",
      "60000/60000 [==============================] - 0s 2us/step - loss: 0.0589 - acc: 0.6854 - mean_squared_error: 0.0589 - val_loss: 0.0580 - val_acc: 0.6924 - val_mean_squared_error: 0.0580\n",
      "Epoch 28/50\n",
      "60000/60000 [==============================] - 0s 2us/step - loss: 0.0582 - acc: 0.6913 - mean_squared_error: 0.0582 - val_loss: 0.0572 - val_acc: 0.6988 - val_mean_squared_error: 0.0572\n",
      "Epoch 29/50\n",
      "60000/60000 [==============================] - 0s 2us/step - loss: 0.0575 - acc: 0.6952 - mean_squared_error: 0.0575 - val_loss: 0.0568 - val_acc: 0.7129 - val_mean_squared_error: 0.0568\n",
      "Epoch 30/50\n",
      "60000/60000 [==============================] - 0s 2us/step - loss: 0.0570 - acc: 0.7069 - mean_squared_error: 0.0570 - val_loss: 0.0564 - val_acc: 0.7121 - val_mean_squared_error: 0.0564\n",
      "Epoch 31/50\n",
      "60000/60000 [==============================] - 0s 2us/step - loss: 0.0564 - acc: 0.7101 - mean_squared_error: 0.0564 - val_loss: 0.0559 - val_acc: 0.7114 - val_mean_squared_error: 0.0559\n",
      "Epoch 32/50\n",
      "60000/60000 [==============================] - 0s 2us/step - loss: 0.0559 - acc: 0.7132 - mean_squared_error: 0.0559 - val_loss: 0.0553 - val_acc: 0.7186 - val_mean_squared_error: 0.0553\n",
      "Epoch 33/50\n",
      "60000/60000 [==============================] - 0s 2us/step - loss: 0.0555 - acc: 0.7151 - mean_squared_error: 0.0555 - val_loss: 0.0547 - val_acc: 0.7230 - val_mean_squared_error: 0.0547\n",
      "Epoch 34/50\n",
      "60000/60000 [==============================] - 0s 2us/step - loss: 0.0550 - acc: 0.7157 - mean_squared_error: 0.0550 - val_loss: 0.0542 - val_acc: 0.7244 - val_mean_squared_error: 0.0542\n",
      "Epoch 35/50\n",
      "60000/60000 [==============================] - 0s 2us/step - loss: 0.0545 - acc: 0.7178 - mean_squared_error: 0.0545 - val_loss: 0.0540 - val_acc: 0.7233 - val_mean_squared_error: 0.0540\n",
      "Epoch 36/50\n",
      "60000/60000 [==============================] - 0s 2us/step - loss: 0.0541 - acc: 0.7209 - mean_squared_error: 0.0541 - val_loss: 0.0536 - val_acc: 0.7259 - val_mean_squared_error: 0.0536\n",
      "Epoch 37/50\n",
      "60000/60000 [==============================] - 0s 2us/step - loss: 0.0538 - acc: 0.7221 - mean_squared_error: 0.0538 - val_loss: 0.0534 - val_acc: 0.7214 - val_mean_squared_error: 0.0534\n",
      "Epoch 38/50\n"
     ]
    },
    {
     "name": "stdout",
     "output_type": "stream",
     "text": [
      "60000/60000 [==============================] - 0s 1us/step - loss: 0.0534 - acc: 0.7229 - mean_squared_error: 0.0534 - val_loss: 0.0527 - val_acc: 0.7308 - val_mean_squared_error: 0.0527\n",
      "Epoch 39/50\n",
      "60000/60000 [==============================] - 0s 1us/step - loss: 0.0531 - acc: 0.7242 - mean_squared_error: 0.0531 - val_loss: 0.0526 - val_acc: 0.7298 - val_mean_squared_error: 0.0526\n",
      "Epoch 40/50\n",
      "60000/60000 [==============================] - 0s 1us/step - loss: 0.0527 - acc: 0.7267 - mean_squared_error: 0.0527 - val_loss: 0.0526 - val_acc: 0.7245 - val_mean_squared_error: 0.0526\n",
      "Epoch 41/50\n",
      "60000/60000 [==============================] - 0s 1us/step - loss: 0.0525 - acc: 0.7281 - mean_squared_error: 0.0525 - val_loss: 0.0520 - val_acc: 0.7326 - val_mean_squared_error: 0.0520\n",
      "Epoch 42/50\n",
      "60000/60000 [==============================] - 0s 1us/step - loss: 0.0522 - acc: 0.7289 - mean_squared_error: 0.0522 - val_loss: 0.0517 - val_acc: 0.7309 - val_mean_squared_error: 0.0517\n",
      "Epoch 43/50\n",
      "60000/60000 [==============================] - 0s 2us/step - loss: 0.0520 - acc: 0.7282 - mean_squared_error: 0.0520 - val_loss: 0.0515 - val_acc: 0.7357 - val_mean_squared_error: 0.0515\n",
      "Epoch 44/50\n",
      "60000/60000 [==============================] - 0s 2us/step - loss: 0.0517 - acc: 0.7316 - mean_squared_error: 0.0517 - val_loss: 0.0514 - val_acc: 0.7313 - val_mean_squared_error: 0.0514\n",
      "Epoch 45/50\n",
      "60000/60000 [==============================] - 0s 2us/step - loss: 0.0516 - acc: 0.7284 - mean_squared_error: 0.0516 - val_loss: 0.0510 - val_acc: 0.7367 - val_mean_squared_error: 0.0510\n",
      "Epoch 46/50\n",
      "60000/60000 [==============================] - 0s 2us/step - loss: 0.0512 - acc: 0.7297 - mean_squared_error: 0.0512 - val_loss: 0.0508 - val_acc: 0.7388 - val_mean_squared_error: 0.0508\n",
      "Epoch 47/50\n",
      "60000/60000 [==============================] - 0s 2us/step - loss: 0.0509 - acc: 0.7316 - mean_squared_error: 0.0509 - val_loss: 0.0503 - val_acc: 0.7342 - val_mean_squared_error: 0.0503\n",
      "Epoch 48/50\n",
      "60000/60000 [==============================] - 0s 2us/step - loss: 0.0506 - acc: 0.7301 - mean_squared_error: 0.0506 - val_loss: 0.0504 - val_acc: 0.7357 - val_mean_squared_error: 0.0504\n",
      "Epoch 49/50\n",
      "60000/60000 [==============================] - 0s 2us/step - loss: 0.0504 - acc: 0.7315 - mean_squared_error: 0.0504 - val_loss: 0.0503 - val_acc: 0.7350 - val_mean_squared_error: 0.0503\n",
      "Epoch 50/50\n",
      "60000/60000 [==============================] - 0s 2us/step - loss: 0.0505 - acc: 0.7304 - mean_squared_error: 0.0505 - val_loss: 0.0499 - val_acc: 0.7399 - val_mean_squared_error: 0.0499\n"
     ]
    },
    {
     "data": {
      "image/png": "[encoded data removed]",
      "text/plain": [
       "<Figure size 432x288 with 1 Axes>"
      ]
     },
     "metadata": {
      "needs_background": "light"
     },
     "output_type": "display_data"
    },
    {
     "name": "stdout",
     "output_type": "stream",
     "text": [
      "Creating network for 784-dimensional input and 10-dimensional output, with 1 hidden layers\n"
     ]
    }
   ],
   "source": [
    "experiment = MNISTExperiment([10], 0.123, 0.321, epochs = 50, activation = 'sigmoid', reg_type = 0,\n",
    "                             reg_coeff = 0, do_print = True, train_dropout = [0.1, 0.1, 0.1])"
   ]
  },
  {
   "cell_type": "code",
   "execution_count": 5,
   "metadata": {},
   "outputs": [
    {
     "name": "stderr",
     "output_type": "stream",
     "text": [
      "100%|██████████| 50/50 [00:04<00:00, 11.33it/s]\n"
     ]
    },
    {
     "data": {
      "image/png": "[encoded data removed]",
      "text/plain": [
       "<Figure size 432x288 with 1 Axes>"
      ]
     },
     "metadata": {
      "needs_background": "light"
     },
     "output_type": "display_data"
    },
    {
     "name": "stdout",
     "output_type": "stream",
     "text": [
      "Error; maximal over inputs, average over dropout:\n",
      "True values array mean: 0.098186 variance 0.202712\n",
      "Experiment 0.120662 Std 0.167952\n",
      "Equation   0.169747 Std 0.247092\n",
      "Tightness  71.1% Std 68.0%\n"
     ]
    },
    {
     "data": {
      "text/plain": [
       "(0.1206621, 0.16795179, 0.16974703752994538, 0.24709161360325946, 0.20271184)"
      ]
     },
     "execution_count": 5,
     "metadata": {},
     "output_type": "execute_result"
    }
   ],
   "source": [
    "experiment.run(repetitions = 10000, inputs = 50)"
   ]
  },
  {
   "cell_type": "code",
   "execution_count": 6,
   "metadata": {},
   "outputs": [
    {
     "name": "stdout",
     "output_type": "stream",
     "text": [
      "_________________________________________________________________\n",
      "Layer (type)                 Output Shape              Param #   \n",
      "=================================================================\n",
      "dense_13 (Dense)             (None, 10)                7850      \n",
      "_________________________________________________________________\n",
      "dense_14 (Dense)             (None, 10)                110       \n",
      "=================================================================\n",
      "Total params: 7,960\n",
      "Trainable params: 7,960\n",
      "Non-trainable params: 0\n",
      "_________________________________________________________________\n",
      "Train on 60000 samples, validate on 10000 samples\n",
      "Epoch 1/50\n",
      "60000/60000 [==============================] - 0s 4us/step - loss: 0.1098 - acc: 0.0940 - mean_squared_error: 0.1045 - val_loss: 0.0992 - val_acc: 0.1183 - val_mean_squared_error: 0.0942\n",
      "Epoch 2/50\n",
      "60000/60000 [==============================] - 0s 1us/step - loss: 0.0970 - acc: 0.1529 - mean_squared_error: 0.0921 - val_loss: 0.0945 - val_acc: 0.2101 - val_mean_squared_error: 0.0896\n",
      "Epoch 3/50\n",
      "60000/60000 [==============================] - 0s 1us/step - loss: 0.0935 - acc: 0.2214 - mean_squared_error: 0.0887 - val_loss: 0.0921 - val_acc: 0.2647 - val_mean_squared_error: 0.0874\n",
      "Epoch 4/50\n",
      "60000/60000 [==============================] - 0s 1us/step - loss: 0.0914 - acc: 0.2814 - mean_squared_error: 0.0867 - val_loss: 0.0900 - val_acc: 0.3215 - val_mean_squared_error: 0.0853\n",
      "Epoch 5/50\n",
      "60000/60000 [==============================] - 0s 1us/step - loss: 0.0893 - acc: 0.3418 - mean_squared_error: 0.0847 - val_loss: 0.0880 - val_acc: 0.3948 - val_mean_squared_error: 0.0834\n",
      "Epoch 6/50\n",
      "60000/60000 [==============================] - 0s 1us/step - loss: 0.0873 - acc: 0.4023 - mean_squared_error: 0.0827 - val_loss: 0.0860 - val_acc: 0.4382 - val_mean_squared_error: 0.0814\n",
      "Epoch 7/50\n",
      "60000/60000 [==============================] - 0s 1us/step - loss: 0.0855 - acc: 0.4386 - mean_squared_error: 0.0808 - val_loss: 0.0843 - val_acc: 0.4560 - val_mean_squared_error: 0.0796\n",
      "Epoch 8/50\n",
      "60000/60000 [==============================] - 0s 1us/step - loss: 0.0839 - acc: 0.4662 - mean_squared_error: 0.0792 - val_loss: 0.0829 - val_acc: 0.4838 - val_mean_squared_error: 0.0782\n",
      "Epoch 9/50\n",
      "60000/60000 [==============================] - 0s 1us/step - loss: 0.0825 - acc: 0.4941 - mean_squared_error: 0.0777 - val_loss: 0.0816 - val_acc: 0.5058 - val_mean_squared_error: 0.0767\n",
      "Epoch 10/50\n",
      "60000/60000 [==============================] - 0s 1us/step - loss: 0.0812 - acc: 0.5105 - mean_squared_error: 0.0763 - val_loss: 0.0803 - val_acc: 0.5232 - val_mean_squared_error: 0.0753\n",
      "Epoch 11/50\n",
      "60000/60000 [==============================] - 0s 1us/step - loss: 0.0800 - acc: 0.5258 - mean_squared_error: 0.0751 - val_loss: 0.0791 - val_acc: 0.5389 - val_mean_squared_error: 0.0741\n",
      "Epoch 12/50\n",
      "60000/60000 [==============================] - 0s 1us/step - loss: 0.0789 - acc: 0.5445 - mean_squared_error: 0.0739 - val_loss: 0.0780 - val_acc: 0.5662 - val_mean_squared_error: 0.0730\n",
      "Epoch 13/50\n",
      "60000/60000 [==============================] - 0s 1us/step - loss: 0.0779 - acc: 0.5659 - mean_squared_error: 0.0728 - val_loss: 0.0771 - val_acc: 0.5765 - val_mean_squared_error: 0.0719\n",
      "Epoch 14/50\n",
      "60000/60000 [==============================] - 0s 1us/step - loss: 0.0769 - acc: 0.5853 - mean_squared_error: 0.0717 - val_loss: 0.0761 - val_acc: 0.6000 - val_mean_squared_error: 0.0708\n",
      "Epoch 15/50\n",
      "60000/60000 [==============================] - 0s 1us/step - loss: 0.0759 - acc: 0.6005 - mean_squared_error: 0.0706 - val_loss: 0.0751 - val_acc: 0.6284 - val_mean_squared_error: 0.0698\n",
      "Epoch 16/50\n",
      "60000/60000 [==============================] - 0s 1us/step - loss: 0.0750 - acc: 0.6283 - mean_squared_error: 0.0696 - val_loss: 0.0743 - val_acc: 0.6429 - val_mean_squared_error: 0.0689\n",
      "Epoch 17/50\n",
      "60000/60000 [==============================] - 0s 1us/step - loss: 0.0741 - acc: 0.6411 - mean_squared_error: 0.0686 - val_loss: 0.0734 - val_acc: 0.6535 - val_mean_squared_error: 0.0679\n",
      "Epoch 18/50\n",
      "60000/60000 [==============================] - 0s 1us/step - loss: 0.0733 - acc: 0.6517 - mean_squared_error: 0.0677 - val_loss: 0.0726 - val_acc: 0.6826 - val_mean_squared_error: 0.0670\n",
      "Epoch 19/50\n",
      "60000/60000 [==============================] - 0s 1us/step - loss: 0.0724 - acc: 0.6779 - mean_squared_error: 0.0668 - val_loss: 0.0718 - val_acc: 0.6874 - val_mean_squared_error: 0.0662\n",
      "Epoch 20/50\n",
      "60000/60000 [==============================] - 0s 1us/step - loss: 0.0717 - acc: 0.6903 - mean_squared_error: 0.0660 - val_loss: 0.0712 - val_acc: 0.6948 - val_mean_squared_error: 0.0654\n",
      "Epoch 21/50\n",
      "60000/60000 [==============================] - 0s 1us/step - loss: 0.0710 - acc: 0.6998 - mean_squared_error: 0.0652 - val_loss: 0.0704 - val_acc: 0.7085 - val_mean_squared_error: 0.0646\n",
      "Epoch 22/50\n",
      "60000/60000 [==============================] - 0s 1us/step - loss: 0.0704 - acc: 0.7063 - mean_squared_error: 0.0644 - val_loss: 0.0698 - val_acc: 0.7180 - val_mean_squared_error: 0.0639\n",
      "Epoch 23/50\n",
      "60000/60000 [==============================] - 0s 1us/step - loss: 0.0697 - acc: 0.7135 - mean_squared_error: 0.0637 - val_loss: 0.0693 - val_acc: 0.7156 - val_mean_squared_error: 0.0632\n",
      "Epoch 24/50\n",
      "60000/60000 [==============================] - 0s 1us/step - loss: 0.0692 - acc: 0.7185 - mean_squared_error: 0.0630 - val_loss: 0.0688 - val_acc: 0.7233 - val_mean_squared_error: 0.0626\n",
      "Epoch 25/50\n",
      "60000/60000 [==============================] - 0s 1us/step - loss: 0.0686 - acc: 0.7230 - mean_squared_error: 0.0624 - val_loss: 0.0683 - val_acc: 0.7200 - val_mean_squared_error: 0.0620\n",
      "Epoch 26/50\n",
      "60000/60000 [==============================] - 0s 1us/step - loss: 0.0681 - acc: 0.7280 - mean_squared_error: 0.0618 - val_loss: 0.0677 - val_acc: 0.7351 - val_mean_squared_error: 0.0613\n",
      "Epoch 27/50\n",
      "60000/60000 [==============================] - 0s 1us/step - loss: 0.0676 - acc: 0.7368 - mean_squared_error: 0.0611 - val_loss: 0.0672 - val_acc: 0.7396 - val_mean_squared_error: 0.0608\n",
      "Epoch 28/50\n",
      "60000/60000 [==============================] - 0s 1us/step - loss: 0.0671 - acc: 0.7433 - mean_squared_error: 0.0606 - val_loss: 0.0667 - val_acc: 0.7444 - val_mean_squared_error: 0.0602\n",
      "Epoch 29/50\n",
      "60000/60000 [==============================] - 0s 1us/step - loss: 0.0667 - acc: 0.7463 - mean_squared_error: 0.0601 - val_loss: 0.0664 - val_acc: 0.7483 - val_mean_squared_error: 0.0597\n",
      "Epoch 30/50\n",
      "60000/60000 [==============================] - 0s 1us/step - loss: 0.0663 - acc: 0.7511 - mean_squared_error: 0.0596 - val_loss: 0.0660 - val_acc: 0.7500 - val_mean_squared_error: 0.0592\n",
      "Epoch 31/50\n",
      "60000/60000 [==============================] - 0s 2us/step - loss: 0.0659 - acc: 0.7529 - mean_squared_error: 0.0591 - val_loss: 0.0657 - val_acc: 0.7525 - val_mean_squared_error: 0.0588\n",
      "Epoch 32/50\n",
      "60000/60000 [==============================] - 0s 2us/step - loss: 0.0655 - acc: 0.7552 - mean_squared_error: 0.0586 - val_loss: 0.0653 - val_acc: 0.7536 - val_mean_squared_error: 0.0584\n",
      "Epoch 33/50\n",
      "60000/60000 [==============================] - 0s 2us/step - loss: 0.0651 - acc: 0.7590 - mean_squared_error: 0.0582 - val_loss: 0.0649 - val_acc: 0.7560 - val_mean_squared_error: 0.0579\n",
      "Epoch 34/50\n",
      "60000/60000 [==============================] - 0s 1us/step - loss: 0.0648 - acc: 0.7608 - mean_squared_error: 0.0578 - val_loss: 0.0644 - val_acc: 0.7621 - val_mean_squared_error: 0.0574\n",
      "Epoch 35/50\n",
      "60000/60000 [==============================] - 0s 1us/step - loss: 0.0644 - acc: 0.7636 - mean_squared_error: 0.0573 - val_loss: 0.0642 - val_acc: 0.7645 - val_mean_squared_error: 0.0570\n",
      "Epoch 36/50\n",
      "60000/60000 [==============================] - 0s 1us/step - loss: 0.0641 - acc: 0.7661 - mean_squared_error: 0.0570 - val_loss: 0.0639 - val_acc: 0.7695 - val_mean_squared_error: 0.0567\n",
      "Epoch 37/50\n",
      "60000/60000 [==============================] - 0s 2us/step - loss: 0.0637 - acc: 0.7716 - mean_squared_error: 0.0566 - val_loss: 0.0634 - val_acc: 0.7722 - val_mean_squared_error: 0.0562\n",
      "Epoch 38/50\n",
      "60000/60000 [==============================] - 0s 2us/step - loss: 0.0634 - acc: 0.7752 - mean_squared_error: 0.0562 - val_loss: 0.0632 - val_acc: 0.7702 - val_mean_squared_error: 0.0559\n"
     ]
    },
    {
     "name": "stdout",
     "output_type": "stream",
     "text": [
      "Epoch 39/50\n",
      "60000/60000 [==============================] - 0s 1us/step - loss: 0.0631 - acc: 0.7765 - mean_squared_error: 0.0558 - val_loss: 0.0627 - val_acc: 0.7738 - val_mean_squared_error: 0.0554\n",
      "Epoch 40/50\n",
      "60000/60000 [==============================] - 0s 2us/step - loss: 0.0627 - acc: 0.7789 - mean_squared_error: 0.0554 - val_loss: 0.0626 - val_acc: 0.7738 - val_mean_squared_error: 0.0552\n",
      "Epoch 41/50\n",
      "60000/60000 [==============================] - 0s 2us/step - loss: 0.0624 - acc: 0.7783 - mean_squared_error: 0.0550 - val_loss: 0.0621 - val_acc: 0.7764 - val_mean_squared_error: 0.0547\n",
      "Epoch 42/50\n",
      "60000/60000 [==============================] - 0s 1us/step - loss: 0.0621 - acc: 0.7810 - mean_squared_error: 0.0547 - val_loss: 0.0620 - val_acc: 0.7770 - val_mean_squared_error: 0.0545\n",
      "Epoch 43/50\n",
      "60000/60000 [==============================] - 0s 1us/step - loss: 0.0618 - acc: 0.7828 - mean_squared_error: 0.0543 - val_loss: 0.0615 - val_acc: 0.7775 - val_mean_squared_error: 0.0540\n",
      "Epoch 44/50\n",
      "60000/60000 [==============================] - 0s 1us/step - loss: 0.0615 - acc: 0.7807 - mean_squared_error: 0.0539 - val_loss: 0.0611 - val_acc: 0.7801 - val_mean_squared_error: 0.0536\n",
      "Epoch 45/50\n",
      "60000/60000 [==============================] - 0s 1us/step - loss: 0.0610 - acc: 0.7818 - mean_squared_error: 0.0535 - val_loss: 0.0609 - val_acc: 0.7824 - val_mean_squared_error: 0.0533\n",
      "Epoch 46/50\n",
      "60000/60000 [==============================] - 0s 2us/step - loss: 0.0607 - acc: 0.7865 - mean_squared_error: 0.0531 - val_loss: 0.0604 - val_acc: 0.7802 - val_mean_squared_error: 0.0528\n",
      "Epoch 47/50\n",
      "60000/60000 [==============================] - 0s 2us/step - loss: 0.0604 - acc: 0.7870 - mean_squared_error: 0.0527 - val_loss: 0.0602 - val_acc: 0.7839 - val_mean_squared_error: 0.0525\n",
      "Epoch 48/50\n",
      "60000/60000 [==============================] - 0s 1us/step - loss: 0.0600 - acc: 0.7900 - mean_squared_error: 0.0523 - val_loss: 0.0598 - val_acc: 0.7852 - val_mean_squared_error: 0.0521\n",
      "Epoch 49/50\n",
      "60000/60000 [==============================] - 0s 1us/step - loss: 0.0596 - acc: 0.7903 - mean_squared_error: 0.0519 - val_loss: 0.0593 - val_acc: 0.7838 - val_mean_squared_error: 0.0516\n",
      "Epoch 50/50\n",
      "60000/60000 [==============================] - 0s 1us/step - loss: 0.0593 - acc: 0.7917 - mean_squared_error: 0.0516 - val_loss: 0.0589 - val_acc: 0.7863 - val_mean_squared_error: 0.0511\n"
     ]
    },
    {
     "data": {
      "image/png": "[encoded data removed]",
      "text/plain": [
       "<Figure size 432x288 with 1 Axes>"
      ]
     },
     "metadata": {
      "needs_background": "light"
     },
     "output_type": "display_data"
    },
    {
     "name": "stdout",
     "output_type": "stream",
     "text": [
      "Creating network for 784-dimensional input and 10-dimensional output, with 1 hidden layers\n"
     ]
    }
   ],
   "source": [
    "experiment = MNISTExperiment([10], 0.123, 0.321, epochs = 50, activation = 'sigmoid', reg_type = 'delta',\n",
    "                             reg_coeff = 0.01, do_print = True)"
   ]
  },
  {
   "cell_type": "code",
   "execution_count": 7,
   "metadata": {},
   "outputs": [
    {
     "name": "stderr",
     "output_type": "stream",
     "text": [
      "100%|██████████| 50/50 [00:04<00:00, 10.67it/s]\n"
     ]
    },
    {
     "data": {
      "image/png": "[encoded data removed]",
      "text/plain": [
       "<Figure size 432x288 with 1 Axes>"
      ]
     },
     "metadata": {
      "needs_background": "light"
     },
     "output_type": "display_data"
    },
    {
     "name": "stdout",
     "output_type": "stream",
     "text": [
      "Error; maximal over inputs, average over dropout:\n",
      "True values array mean: 0.098290 variance 0.159821\n",
      "Experiment 0.082232 Std 0.133046\n",
      "Equation   0.106816 Std 0.181894\n",
      "Tightness  77.0% Std 73.1%\n"
     ]
    },
    {
     "data": {
      "text/plain": [
       "(0.08223203, 0.13304572, 0.10681621044874191, 0.18189387451236821, 0.15982138)"
      ]
     },
     "execution_count": 7,
     "metadata": {},
     "output_type": "execute_result"
    }
   ],
   "source": [
    "experiment.run(repetitions = 10000, inputs = 50)"
   ]
  },
  {
   "cell_type": "code",
   "execution_count": 8,
   "metadata": {},
   "outputs": [
    {
     "name": "stdout",
     "output_type": "stream",
     "text": [
      "_________________________________________________________________\n",
      "Layer (type)                 Output Shape              Param #   \n",
      "=================================================================\n",
      "dense_19 (Dense)             (None, 10)                7850      \n",
      "_________________________________________________________________\n",
      "dense_20 (Dense)             (None, 10)                110       \n",
      "=================================================================\n",
      "Total params: 7,960\n",
      "Trainable params: 7,960\n",
      "Non-trainable params: 0\n",
      "_________________________________________________________________\n",
      "Train on 60000 samples, validate on 10000 samples\n",
      "Epoch 1/50\n",
      "60000/60000 [==============================] - 0s 4us/step - loss: 0.2880 - acc: 0.1195 - mean_squared_error: 0.1021 - val_loss: 0.2613 - val_acc: 0.2117 - val_mean_squared_error: 0.0916\n",
      "Epoch 2/50\n",
      "60000/60000 [==============================] - 0s 1us/step - loss: 0.2489 - acc: 0.2450 - mean_squared_error: 0.0900 - val_loss: 0.2317 - val_acc: 0.3204 - val_mean_squared_error: 0.0872\n",
      "Epoch 3/50\n",
      "60000/60000 [==============================] - 0s 1us/step - loss: 0.2217 - acc: 0.3165 - mean_squared_error: 0.0865 - val_loss: 0.2073 - val_acc: 0.3597 - val_mean_squared_error: 0.0845\n",
      "Epoch 4/50\n",
      "60000/60000 [==============================] - 0s 1us/step - loss: 0.1989 - acc: 0.3708 - mean_squared_error: 0.0840 - val_loss: 0.1869 - val_acc: 0.3929 - val_mean_squared_error: 0.0825\n",
      "Epoch 5/50\n",
      "60000/60000 [==============================] - 0s 1us/step - loss: 0.1798 - acc: 0.4034 - mean_squared_error: 0.0821 - val_loss: 0.1695 - val_acc: 0.4263 - val_mean_squared_error: 0.0808\n",
      "Epoch 6/50\n",
      "60000/60000 [==============================] - 0s 1us/step - loss: 0.1635 - acc: 0.4250 - mean_squared_error: 0.0805 - val_loss: 0.1547 - val_acc: 0.4465 - val_mean_squared_error: 0.0793\n",
      "Epoch 7/50\n",
      "60000/60000 [==============================] - 0s 1us/step - loss: 0.1496 - acc: 0.4428 - mean_squared_error: 0.0789 - val_loss: 0.1419 - val_acc: 0.4630 - val_mean_squared_error: 0.0776\n",
      "Epoch 8/50\n",
      "60000/60000 [==============================] - 0s 1us/step - loss: 0.1371 - acc: 0.4622 - mean_squared_error: 0.0769 - val_loss: 0.1304 - val_acc: 0.4965 - val_mean_squared_error: 0.0755\n",
      "Epoch 9/50\n",
      "60000/60000 [==============================] - 0s 1us/step - loss: 0.1269 - acc: 0.4823 - mean_squared_error: 0.0754 - val_loss: 0.1210 - val_acc: 0.5148 - val_mean_squared_error: 0.0740\n",
      "Epoch 10/50\n",
      "60000/60000 [==============================] - 0s 1us/step - loss: 0.1183 - acc: 0.5015 - mean_squared_error: 0.0742 - val_loss: 0.1138 - val_acc: 0.5712 - val_mean_squared_error: 0.0733\n",
      "Epoch 11/50\n",
      "60000/60000 [==============================] - 0s 1us/step - loss: 0.1111 - acc: 0.5537 - mean_squared_error: 0.0731 - val_loss: 0.1072 - val_acc: 0.6094 - val_mean_squared_error: 0.0723\n",
      "Epoch 12/50\n",
      "60000/60000 [==============================] - 0s 1us/step - loss: 0.1056 - acc: 0.5808 - mean_squared_error: 0.0727 - val_loss: 0.1020 - val_acc: 0.6120 - val_mean_squared_error: 0.0717\n",
      "Epoch 13/50\n",
      "60000/60000 [==============================] - 0s 1us/step - loss: 0.1000 - acc: 0.6366 - mean_squared_error: 0.0713 - val_loss: 0.0961 - val_acc: 0.6941 - val_mean_squared_error: 0.0696\n",
      "Epoch 14/50\n",
      "60000/60000 [==============================] - 0s 2us/step - loss: 0.0960 - acc: 0.6414 - mean_squared_error: 0.0709 - val_loss: 0.0936 - val_acc: 0.6569 - val_mean_squared_error: 0.0702\n",
      "Epoch 15/50\n",
      "60000/60000 [==============================] - 0s 2us/step - loss: 0.0916 - acc: 0.6656 - mean_squared_error: 0.0694 - val_loss: 0.0883 - val_acc: 0.6872 - val_mean_squared_error: 0.0676\n",
      "Epoch 16/50\n",
      "60000/60000 [==============================] - 0s 2us/step - loss: 0.0879 - acc: 0.6770 - mean_squared_error: 0.0681 - val_loss: 0.0857 - val_acc: 0.6829 - val_mean_squared_error: 0.0671\n",
      "Epoch 17/50\n",
      "60000/60000 [==============================] - 0s 1us/step - loss: 0.0845 - acc: 0.6987 - mean_squared_error: 0.0666 - val_loss: 0.0828 - val_acc: 0.7094 - val_mean_squared_error: 0.0660\n",
      "Epoch 18/50\n",
      "60000/60000 [==============================] - 0s 1us/step - loss: 0.0833 - acc: 0.6691 - mean_squared_error: 0.0670 - val_loss: 0.0805 - val_acc: 0.6430 - val_mean_squared_error: 0.0650\n",
      "Epoch 19/50\n",
      "60000/60000 [==============================] - 0s 1us/step - loss: 0.0788 - acc: 0.6943 - mean_squared_error: 0.0638 - val_loss: 0.0764 - val_acc: 0.7081 - val_mean_squared_error: 0.0622\n",
      "Epoch 20/50\n",
      "60000/60000 [==============================] - 0s 1us/step - loss: 0.0756 - acc: 0.7251 - mean_squared_error: 0.0618 - val_loss: 0.0763 - val_acc: 0.6991 - val_mean_squared_error: 0.0631\n",
      "Epoch 21/50\n",
      "60000/60000 [==============================] - 0s 1us/step - loss: 0.0752 - acc: 0.7021 - mean_squared_error: 0.0623 - val_loss: 0.0753 - val_acc: 0.7520 - val_mean_squared_error: 0.0627\n",
      "Epoch 22/50\n",
      "60000/60000 [==============================] - 0s 1us/step - loss: 0.0741 - acc: 0.7113 - mean_squared_error: 0.0618 - val_loss: 0.0736 - val_acc: 0.6606 - val_mean_squared_error: 0.0615\n",
      "Epoch 23/50\n",
      "60000/60000 [==============================] - 0s 1us/step - loss: 0.0725 - acc: 0.7055 - mean_squared_error: 0.0607 - val_loss: 0.0711 - val_acc: 0.7343 - val_mean_squared_error: 0.0594\n",
      "Epoch 24/50\n",
      "60000/60000 [==============================] - 0s 1us/step - loss: 0.0706 - acc: 0.7350 - mean_squared_error: 0.0591 - val_loss: 0.0716 - val_acc: 0.6532 - val_mean_squared_error: 0.0602\n",
      "Epoch 25/50\n",
      "60000/60000 [==============================] - 0s 1us/step - loss: 0.0696 - acc: 0.7194 - mean_squared_error: 0.0584 - val_loss: 0.0667 - val_acc: 0.7540 - val_mean_squared_error: 0.0556\n",
      "Epoch 26/50\n",
      "60000/60000 [==============================] - 0s 1us/step - loss: 0.0674 - acc: 0.7497 - mean_squared_error: 0.0565 - val_loss: 0.0686 - val_acc: 0.7235 - val_mean_squared_error: 0.0577\n",
      "Epoch 27/50\n",
      "60000/60000 [==============================] - 0s 1us/step - loss: 0.0698 - acc: 0.7112 - mean_squared_error: 0.0589 - val_loss: 0.0659 - val_acc: 0.7720 - val_mean_squared_error: 0.0550\n",
      "Epoch 28/50\n",
      "60000/60000 [==============================] - 0s 1us/step - loss: 0.0660 - acc: 0.7810 - mean_squared_error: 0.0552 - val_loss: 0.0644 - val_acc: 0.7902 - val_mean_squared_error: 0.0537\n",
      "Epoch 29/50\n",
      "60000/60000 [==============================] - 0s 2us/step - loss: 0.0656 - acc: 0.7622 - mean_squared_error: 0.0550 - val_loss: 0.0679 - val_acc: 0.7071 - val_mean_squared_error: 0.0572\n",
      "Epoch 30/50\n",
      "60000/60000 [==============================] - 0s 2us/step - loss: 0.0684 - acc: 0.7189 - mean_squared_error: 0.0576 - val_loss: 0.0641 - val_acc: 0.7845 - val_mean_squared_error: 0.0533\n",
      "Epoch 31/50\n",
      "60000/60000 [==============================] - 0s 2us/step - loss: 0.0636 - acc: 0.7957 - mean_squared_error: 0.0529 - val_loss: 0.0634 - val_acc: 0.7839 - val_mean_squared_error: 0.0528\n",
      "Epoch 32/50\n",
      "60000/60000 [==============================] - 0s 2us/step - loss: 0.0652 - acc: 0.7494 - mean_squared_error: 0.0545 - val_loss: 0.0644 - val_acc: 0.7648 - val_mean_squared_error: 0.0537\n",
      "Epoch 33/50\n",
      "60000/60000 [==============================] - 0s 2us/step - loss: 0.0659 - acc: 0.7438 - mean_squared_error: 0.0551 - val_loss: 0.0644 - val_acc: 0.7762 - val_mean_squared_error: 0.0535\n",
      "Epoch 34/50\n",
      "60000/60000 [==============================] - 0s 1us/step - loss: 0.0647 - acc: 0.7706 - mean_squared_error: 0.0539 - val_loss: 0.0633 - val_acc: 0.7833 - val_mean_squared_error: 0.0524\n",
      "Epoch 35/50\n",
      "60000/60000 [==============================] - 0s 2us/step - loss: 0.0634 - acc: 0.7815 - mean_squared_error: 0.0525 - val_loss: 0.0631 - val_acc: 0.7902 - val_mean_squared_error: 0.0522\n",
      "Epoch 36/50\n",
      "60000/60000 [==============================] - 0s 2us/step - loss: 0.0645 - acc: 0.7576 - mean_squared_error: 0.0536 - val_loss: 0.0654 - val_acc: 0.7654 - val_mean_squared_error: 0.0543\n",
      "Epoch 37/50\n",
      "60000/60000 [==============================] - 0s 1us/step - loss: 0.0643 - acc: 0.7716 - mean_squared_error: 0.0532 - val_loss: 0.0614 - val_acc: 0.8039 - val_mean_squared_error: 0.0502\n",
      "Epoch 38/50\n",
      "60000/60000 [==============================] - 0s 1us/step - loss: 0.0622 - acc: 0.7864 - mean_squared_error: 0.0511 - val_loss: 0.0622 - val_acc: 0.7888 - val_mean_squared_error: 0.0511\n"
     ]
    },
    {
     "name": "stdout",
     "output_type": "stream",
     "text": [
      "Epoch 39/50\n",
      "60000/60000 [==============================] - 0s 1us/step - loss: 0.0628 - acc: 0.7837 - mean_squared_error: 0.0517 - val_loss: 0.0615 - val_acc: 0.7933 - val_mean_squared_error: 0.0503\n",
      "Epoch 40/50\n",
      "60000/60000 [==============================] - 0s 1us/step - loss: 0.0648 - acc: 0.7485 - mean_squared_error: 0.0536 - val_loss: 0.0602 - val_acc: 0.8201 - val_mean_squared_error: 0.0490\n",
      "Epoch 41/50\n",
      "60000/60000 [==============================] - 0s 1us/step - loss: 0.0639 - acc: 0.7770 - mean_squared_error: 0.0526 - val_loss: 0.0616 - val_acc: 0.8280 - val_mean_squared_error: 0.0503\n",
      "Epoch 42/50\n",
      "60000/60000 [==============================] - 0s 1us/step - loss: 0.0611 - acc: 0.8130 - mean_squared_error: 0.0497 - val_loss: 0.0629 - val_acc: 0.7819 - val_mean_squared_error: 0.0516\n",
      "Epoch 43/50\n",
      "60000/60000 [==============================] - 0s 1us/step - loss: 0.0647 - acc: 0.7440 - mean_squared_error: 0.0533 - val_loss: 0.0628 - val_acc: 0.8015 - val_mean_squared_error: 0.0513\n",
      "Epoch 44/50\n",
      "60000/60000 [==============================] - 0s 1us/step - loss: 0.0624 - acc: 0.7807 - mean_squared_error: 0.0509 - val_loss: 0.0605 - val_acc: 0.8094 - val_mean_squared_error: 0.0490\n",
      "Epoch 45/50\n",
      "60000/60000 [==============================] - 0s 1us/step - loss: 0.0620 - acc: 0.7911 - mean_squared_error: 0.0504 - val_loss: 0.0634 - val_acc: 0.7653 - val_mean_squared_error: 0.0518\n",
      "Epoch 46/50\n",
      "60000/60000 [==============================] - 0s 1us/step - loss: 0.0638 - acc: 0.7626 - mean_squared_error: 0.0521 - val_loss: 0.0612 - val_acc: 0.7916 - val_mean_squared_error: 0.0495\n",
      "Epoch 47/50\n",
      "60000/60000 [==============================] - 0s 1us/step - loss: 0.0621 - acc: 0.7964 - mean_squared_error: 0.0504 - val_loss: 0.0646 - val_acc: 0.7421 - val_mean_squared_error: 0.0529\n",
      "Epoch 48/50\n",
      "60000/60000 [==============================] - 0s 1us/step - loss: 0.0625 - acc: 0.7879 - mean_squared_error: 0.0508 - val_loss: 0.0608 - val_acc: 0.7865 - val_mean_squared_error: 0.0490\n",
      "Epoch 49/50\n",
      "60000/60000 [==============================] - 0s 1us/step - loss: 0.0624 - acc: 0.7853 - mean_squared_error: 0.0506 - val_loss: 0.0648 - val_acc: 0.7424 - val_mean_squared_error: 0.0530\n",
      "Epoch 50/50\n",
      "60000/60000 [==============================] - 0s 1us/step - loss: 0.0641 - acc: 0.7599 - mean_squared_error: 0.0522 - val_loss: 0.0632 - val_acc: 0.7567 - val_mean_squared_error: 0.0513\n"
     ]
    },
    {
     "data": {
      "image/png": "[encoded data removed]",
      "text/plain": [
       "<Figure size 432x288 with 1 Axes>"
      ]
     },
     "metadata": {
      "needs_background": "light"
     },
     "output_type": "display_data"
    },
    {
     "name": "stdout",
     "output_type": "stream",
     "text": [
      "Creating network for 784-dimensional input and 10-dimensional output, with 1 hidden layers\n"
     ]
    }
   ],
   "source": [
    "experiment = MNISTExperiment([10], 0.123, 0.321, epochs = 50, activation = 'sigmoid', reg_type = 'l2',\n",
    "                             reg_coeff = 0.01, do_print = True)"
   ]
  },
  {
   "cell_type": "code",
   "execution_count": 9,
   "metadata": {},
   "outputs": [
    {
     "name": "stderr",
     "output_type": "stream",
     "text": [
      "100%|██████████| 50/50 [00:04<00:00, 10.72it/s]\n"
     ]
    },
    {
     "data": {
      "image/png": "[encoded data removed]",
      "text/plain": [
       "<Figure size 432x288 with 1 Axes>"
      ]
     },
     "metadata": {
      "needs_background": "light"
     },
     "output_type": "display_data"
    },
    {
     "name": "stdout",
     "output_type": "stream",
     "text": [
      "Error; maximal over inputs, average over dropout:\n",
      "True values array mean: 0.096809 variance 0.151241\n",
      "Experiment 0.095844 Std 0.119221\n",
      "Equation   0.117603 Std 0.170764\n",
      "Tightness  81.5% Std 69.8%\n"
     ]
    },
    {
     "data": {
      "text/plain": [
       "(0.095843546, 0.11922112, 0.117603289604187, 0.1707637364494864, 0.15124083)"
      ]
     },
     "execution_count": 9,
     "metadata": {},
     "output_type": "execute_result"
    }
   ],
   "source": [
    "experiment.run(repetitions = 10000, inputs = 50)"
   ]
  },
  {
   "cell_type": "markdown",
   "metadata": {},
   "source": [
    "1. Regularization with dropout, l2 and delta result in decrease of error\n",
    "2. Tightness is best for delta"
   ]
  },
  {
   "cell_type": "code",
   "execution_count": null,
   "metadata": {
    "collapsed": true
   },
   "outputs": [],
   "source": []
  }
 ],
 "metadata": {
  "kernelspec": {
   "display_name": "Python 3",
   "language": "python",
   "name": "python3"
  },
  "language_info": {
   "codemirror_mode": {
    "name": "ipython",
    "version": 3
   },
   "file_extension": ".py",
   "mimetype": "text/x-python",
   "name": "python",
   "nbconvert_exporter": "python",
   "pygments_lexer": "ipython3",
   "version": "3.6.6"
  }
 },
 "nbformat": 4,
 "nbformat_minor": 2
}
