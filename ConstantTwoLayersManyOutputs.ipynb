{
 "cells": [
  {
   "cell_type": "code",
   "execution_count": 1,
   "metadata": {},
   "outputs": [
    {
     "name": "stderr",
     "output_type": "stream",
     "text": [
      "/home/sergei/miniconda3/envs/ML/lib/python3.6/site-packages/h5py/__init__.py:36: FutureWarning: Conversion of the second argument of issubdtype from `float` to `np.floating` is deprecated. In future, it will be treated as `np.float64 == np.dtype(float).type`.\n",
      "  from ._conv import register_converters as _register_converters\n",
      "Using TensorFlow backend.\n"
     ]
    }
   ],
   "source": [
    "import numpy as np\n",
    "%matplotlib inline\n",
    "from matplotlib import pyplot as plt\n",
    "from scipy.special import expit\n",
    "from experiment_constant import *"
   ]
  },
  {
   "cell_type": "code",
   "execution_count": 2,
   "metadata": {},
   "outputs": [
    {
     "name": "stdout",
     "output_type": "stream",
     "text": [
      "Creating network for 4-dimensional input and 1-dimensional output, with 2 hidden layers\n",
      "0.802853742 1.00294354442138\n"
     ]
    }
   ],
   "source": [
    "W1 = np.ones((4, 3))\n",
    "W2 = np.ones((3, 2))\n",
    "W3 = np.ones((2, 5))\n",
    "B1 = np.ones((3, 1))\n",
    "B2 = np.ones((2, 1))\n",
    "B3 = np.ones((5, 1))\n",
    "K = 0.123\n",
    "p = 0.321\n",
    "experiment = ConstantExperiment([4, 3, 2, 1], p, K, [W1, W2, W3], [B1, B2, B3], do_print = True)\n",
    "\n",
    "mean_bound, std_bound = experiment.get_mean_std_error()\n",
    "print(mean_bound, std_bound)"
   ]
  },
  {
   "cell_type": "markdown",
   "metadata": {},
   "source": [
    "First layer: 4 input neurons, each having value of 1. Therefore the input is $4$. Maximal output is $1$, output on ones is $\\sigma(4Kx)=\\sigma(16)$. These three neurons fail with probability $p=0.1$.\n",
    "\n",
    "The second level consisting of two neurons receives input error $\\xi\\sim Bin(3, p)$\n",
    "\n",
    "The third and final level receives input error $\\eta_1+(1-\\eta_1)K\\xi+\\eta_2+(1-\\eta_2)K\\eta$\n",
    "\n",
    "Therefore $\\mathbb{E}\\Delta=2p+2(1-p)K3p$\n",
    "\n",
    "And $\\Delta^2=\\eta_1^2+(1-\\eta_1)^2K^2\\xi^2+\\eta_2^2+(1-\\eta_2)^2K^2\\eta^2+\\eta_1(1-\\eta_1)K\\xi+\\eta_2(1-\\eta_2)K\\xi+\\eta_1(1-\\eta_2)K\\xi+\\eta_2(1-\\eta_1)K\\xi+\\eta_1\\eta_2+(1-\\eta_1)(1-\\eta_2)K^2\\xi^2$"
   ]
  },
  {
   "cell_type": "code",
   "execution_count": 3,
   "metadata": {
    "collapsed": true
   },
   "outputs": [],
   "source": [
    "Exi2=(3*p+6*p**2)*K**2\n",
    "assert np.allclose(2*p+2*(1-p)*K*3*p, mean_bound), \"Mean\"\n",
    "assert np.allclose(2*p+2*(1-p)*Exi2+2*p**2+4*p*(1-p)*3*p*K+2*(1-p)**2*Exi2, std_bound ** 2), \"Std\""
   ]
  },
  {
   "cell_type": "code",
   "execution_count": 4,
   "metadata": {},
   "outputs": [
    {
     "name": "stdout",
     "output_type": "stream",
     "text": [
      "Mean error 0.63784, 79.45% from theoretical, norm 0.79\n",
      "Mean error 0.64933, 80.88% from theoretical, norm 0.83\n",
      "Mean error 0.64783, 80.69% from theoretical, norm 0.88\n",
      "Mean error 0.65474, 81.55% from theoretical, norm 0.98\n",
      "Mean error 0.65477, 81.56% from theoretical, norm 1.10\n",
      "Mean error 0.65940, 82.13% from theoretical, norm 1.08\n",
      "Mean error 0.65890, 82.07% from theoretical, norm 1.10\n",
      "Mean error 0.65822, 81.99% from theoretical, norm 1.14\n",
      "Mean error 0.66987, 83.44% from theoretical, norm 1.27\n",
      "Mean error 0.65862, 82.03% from theoretical, norm 1.35\n",
      "Mean error 0.66153, 82.40% from theoretical, norm 1.42\n",
      "Mean error 0.65800, 81.96% from theoretical, norm 1.45\n",
      "Mean error 0.66714, 83.10% from theoretical, norm 1.46\n",
      "Mean error 0.66294, 82.57% from theoretical, norm 1.45\n",
      "Mean error 0.66398, 82.70% from theoretical, norm 1.40\n",
      "Mean error 0.66221, 82.48% from theoretical, norm 1.43\n",
      "Mean error 0.66374, 82.67% from theoretical, norm 1.47\n",
      "Mean error 0.67229, 83.74% from theoretical, norm 1.62\n",
      "Mean error 0.67398, 83.95% from theoretical, norm 1.71\n",
      "Mean error 0.66996, 83.45% from theoretical, norm 1.74\n",
      "Mean error 0.66609, 82.97% from theoretical, norm 1.72\n",
      "Mean error 0.66533, 82.87% from theoretical, norm 1.74\n",
      "Mean error 0.66615, 82.97% from theoretical, norm 1.83\n",
      "Mean error 0.66502, 82.83% from theoretical, norm 1.84\n",
      "Mean error 0.66703, 83.08% from theoretical, norm 1.90\n",
      "Mean error 0.66522, 82.86% from theoretical, norm 1.92\n",
      "Mean error 0.66749, 83.14% from theoretical, norm 1.92\n",
      "Mean error 0.66461, 82.78% from theoretical, norm 1.87\n",
      "Mean error 0.66777, 83.17% from theoretical, norm 1.89\n",
      "Mean error 0.66421, 82.73% from theoretical, norm 1.88\n"
     ]
    },
    {
     "data": {
      "image/png": "[encoded data removed]",
      "text/plain": [
       "<Figure size 432x288 with 1 Axes>"
      ]
     },
     "metadata": {},
     "output_type": "display_data"
    }
   ],
   "source": [
    "# Trying genetic search for x\n",
    "np.random.seed(42)\n",
    "\n",
    "# Setting parameters and creating the experiment\n",
    "N = 4\n",
    "repetitions = 10000\n",
    "to_add = 10\n",
    "to_keep = 5\n",
    "\n",
    "# creating initial inputs\n",
    "data = np.random.randn(to_keep, N)\n",
    "\n",
    "# percents from theoretical bound\n",
    "percents = []\n",
    "\n",
    "maxiter = 30\n",
    "\n",
    "for _ in range(maxiter):\n",
    "  data_ = data\n",
    "\n",
    "  # Randomizing inputs\n",
    "  for input_ in data_:\n",
    "    rand_direction = np.random.randn(to_add, N)\n",
    "    rand_direction /= np.linalg.norm(rand_direction, axis = 0)\n",
    "    rand_direction *= 0.5\n",
    "    input_ = input_ + rand_direction\n",
    "    data = np.vstack((data, input_))\n",
    "\n",
    "  # Computing true values\n",
    "  trues = [experiment.predict_no_dropout(value) for value in data]\n",
    "\n",
    "  # Running the experiment\n",
    "  errors = [experiment.get_error(value, repetitions = repetitions) for value in data]\n",
    "\n",
    "  # List of errors for inputs\n",
    "  error_array = np.mean(np.max(np.abs(errors), axis = 2), axis = 1)\n",
    "\n",
    "  max_exp = np.max(error_array)\n",
    "  \n",
    "  # Choosing maximal error\n",
    "  indices = np.argsort(-error_array)\n",
    "\n",
    "  # Choosing best to_keep entries\n",
    "  data = data[indices[:to_keep]]\n",
    "  \n",
    "  percent = 100 * max_exp / mean_bound\n",
    "  print('Mean error %.5f, %.2f%% from theoretical, norm %.2f' % (max_exp, percent, np.linalg.norm(data.flatten()) / data.shape[0]))\n",
    "  percents.append(percent)\n",
    "  \n",
    "plt.xlabel('Iteration count')\n",
    "plt.ylabel('Percent from theoretical bound')\n",
    "plt.plot(percents)\n",
    "plt.show()"
   ]
  },
  {
   "cell_type": "code",
   "execution_count": 5,
   "metadata": {},
   "outputs": [
    {
     "name": "stdout",
     "output_type": "stream",
     "text": [
      "Mean error 0.63547, 79.15% from theoretical, Std error 0.53156, 53.00% from theoretical, norm 0.78\n",
      "Mean error 0.64819, 80.74% from theoretical, Std error 0.53499, 53.34% from theoretical, norm 0.84\n",
      "Mean error 0.65003, 80.97% from theoretical, Std error 0.53758, 53.60% from theoretical, norm 0.89\n",
      "Mean error 0.64958, 80.91% from theoretical, Std error 0.53861, 53.70% from theoretical, norm 0.99\n",
      "Mean error 0.65428, 81.49% from theoretical, Std error 0.53988, 53.83% from theoretical, norm 1.04\n",
      "Mean error 0.65367, 81.42% from theoretical, Std error 0.54016, 53.86% from theoretical, norm 1.15\n",
      "Mean error 0.66030, 82.24% from theoretical, Std error 0.54490, 54.33% from theoretical, norm 1.22\n",
      "Mean error 0.65929, 82.12% from theoretical, Std error 0.54421, 54.26% from theoretical, norm 1.30\n",
      "Mean error 0.66177, 82.43% from theoretical, Std error 0.54640, 54.48% from theoretical, norm 1.39\n",
      "Mean error 0.66341, 82.63% from theoretical, Std error 0.55141, 54.98% from theoretical, norm 1.46\n",
      "Mean error 0.66180, 82.43% from theoretical, Std error 0.54747, 54.59% from theoretical, norm 1.46\n",
      "Mean error 0.66255, 82.52% from theoretical, Std error 0.54678, 54.52% from theoretical, norm 1.53\n",
      "Mean error 0.66447, 82.76% from theoretical, Std error 0.54597, 54.44% from theoretical, norm 1.56\n",
      "Mean error 0.66576, 82.92% from theoretical, Std error 0.54733, 54.57% from theoretical, norm 1.66\n",
      "Mean error 0.66882, 83.30% from theoretical, Std error 0.54634, 54.47% from theoretical, norm 1.67\n",
      "Mean error 0.66418, 82.73% from theoretical, Std error 0.54889, 54.73% from theoretical, norm 1.76\n",
      "Mean error 0.66254, 82.52% from theoretical, Std error 0.54803, 54.64% from theoretical, norm 1.75\n",
      "Mean error 0.66579, 82.93% from theoretical, Std error 0.54980, 54.82% from theoretical, norm 1.95\n",
      "Mean error 0.66269, 82.54% from theoretical, Std error 0.54860, 54.70% from theoretical, norm 2.00\n",
      "Mean error 0.66859, 83.28% from theoretical, Std error 0.55041, 54.88% from theoretical, norm 2.08\n",
      "Mean error 0.66626, 82.99% from theoretical, Std error 0.54665, 54.50% from theoretical, norm 2.15\n",
      "Mean error 0.66417, 82.73% from theoretical, Std error 0.54773, 54.61% from theoretical, norm 2.29\n",
      "Mean error 0.66953, 83.39% from theoretical, Std error 0.54669, 54.51% from theoretical, norm 2.32\n",
      "Mean error 0.66776, 83.17% from theoretical, Std error 0.55185, 55.02% from theoretical, norm 2.29\n",
      "Mean error 0.67001, 83.45% from theoretical, Std error 0.55114, 54.95% from theoretical, norm 2.34\n",
      "Mean error 0.66863, 83.28% from theoretical, Std error 0.54997, 54.84% from theoretical, norm 2.33\n",
      "Mean error 0.66636, 83.00% from theoretical, Std error 0.55024, 54.86% from theoretical, norm 2.31\n",
      "Mean error 0.67006, 83.46% from theoretical, Std error 0.54985, 54.82% from theoretical, norm 2.38\n",
      "Mean error 0.66412, 82.72% from theoretical, Std error 0.55048, 54.89% from theoretical, norm 2.43\n",
      "Mean error 0.66434, 82.75% from theoretical, Std error 0.54959, 54.80% from theoretical, norm 2.36\n"
     ]
    }
   ],
   "source": [
    "# Trying genetic search for x\n",
    "np.random.seed(42)\n",
    "\n",
    "mean_bound, std_bound = experiment.get_mean_std_error()\n",
    "\n",
    "# creating initial inputs\n",
    "data = np.random.randn(to_keep, N)\n",
    "\n",
    "# percents from theoretical bound\n",
    "percents_mean = []\n",
    "percents_std = []\n",
    "\n",
    "maxiter = 30\n",
    "\n",
    "for _ in range(maxiter):\n",
    "  data_ = data\n",
    "\n",
    "  # Randomizing inputs\n",
    "  for input_ in data_:\n",
    "    rand_direction = np.random.randn(to_add, N)\n",
    "    rand_direction /= np.linalg.norm(rand_direction, axis = 0)\n",
    "    rand_direction *= 0.5\n",
    "    input_ = input_ + rand_direction\n",
    "    data = np.vstack((data, input_))\n",
    "\n",
    "  # Computing true values\n",
    "  trues = [experiment.predict_no_dropout(value) for value in data]\n",
    "\n",
    "  # Running the experiment\n",
    "  errors = [experiment.get_error(value, repetitions = repetitions) for value in data]\n",
    "\n",
    "  # List of errors for inputs\n",
    "  error_std_array  = np.std(np.max(np.abs(errors), axis = 2), axis = 1)\n",
    "  error_mean_array = np.mean(np.max(np.abs(errors), axis = 2), axis = 1)\n",
    "\n",
    "  max_std_exp = np.max(error_std_array)\n",
    "  max_mean_exp = np.max(error_mean_array)\n",
    "  \n",
    "  # Choosing maximal error\n",
    "  indices = np.argsort(-error_std_array)\n",
    "\n",
    "  # Choosing best to_keep entries\n",
    "  data = data[indices[:to_keep]]\n",
    "  \n",
    "  percent_mean = 100 * max_mean_exp / mean_bound\n",
    "  percent_std = 100 * max_std_exp / std_bound\n",
    "  print('Mean error %.5f, %.2f%% from theoretical, Std error %.5f, %.2f%% from theoretical, norm %.2f' % (\n",
    "      max_mean_exp, percent_mean, max_std_exp, percent_std, np.linalg.norm(data.flatten()) / data.shape[0]))\n",
    "  percents_mean.append(percent_mean)\n",
    "  percents_std.append(percent_std)"
   ]
  },
  {
   "cell_type": "code",
   "execution_count": 6,
   "metadata": {
    "scrolled": true
   },
   "outputs": [
    {
     "data": {
      "image/png": "[encoded data removed]",
      "text/plain": [
       "<Figure size 432x288 with 1 Axes>"
      ]
     },
     "metadata": {},
     "output_type": "display_data"
    }
   ],
   "source": [
    "plt.xlabel('Iteration count')\n",
    "plt.ylabel('Percent from theoretical bound')\n",
    "plt.plot(percents_mean, label='Mean')\n",
    "plt.plot(percents_std, label='Std')\n",
    "plt.legend()\n",
    "plt.show()"
   ]
  },
  {
   "cell_type": "code",
   "execution_count": 7,
   "metadata": {},
   "outputs": [
    {
     "data": {
      "text/plain": [
       "0.5993361702749445"
      ]
     },
     "execution_count": 7,
     "metadata": {},
     "output_type": "execute_result"
    }
   ],
   "source": [
    "(std_bound ** 2 - mean_bound ** 2) ** 0.5 / std_bound"
   ]
  },
  {
   "cell_type": "code",
   "execution_count": null,
   "metadata": {
    "collapsed": true
   },
   "outputs": [],
   "source": [
    "# why 104 instead of 100 and 92 instead of 90?"
   ]
  }
 ],
 "metadata": {
  "kernelspec": {
   "display_name": "Python 3",
   "language": "python",
   "name": "python3"
  },
  "language_info": {
   "codemirror_mode": {
    "name": "ipython",
    "version": 3
   },
   "file_extension": ".py",
   "mimetype": "text/x-python",
   "name": "python",
   "nbconvert_exporter": "python",
   "pygments_lexer": "ipython3",
   "version": "3.6.3"
  }
 },
 "nbformat": 4,
 "nbformat_minor": 2
}
