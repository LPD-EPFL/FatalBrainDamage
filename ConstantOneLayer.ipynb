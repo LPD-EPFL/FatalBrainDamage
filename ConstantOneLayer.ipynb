{
 "cells": [
  {
   "cell_type": "code",
   "execution_count": 2,
   "metadata": {},
   "outputs": [],
   "source": [
    "## import numpy as np\n",
    "%matplotlib inline\n",
    "from matplotlib import pyplot as plt\n",
    "from scipy.special import expit\n",
    "from experiment_constant import *"
   ]
  },
  {
   "cell_type": "code",
   "execution_count": 3,
   "metadata": {},
   "outputs": [
    {
     "name": "stdout",
     "output_type": "stream",
     "text": [
      "Creating network for 3-dimensional input and 1-dimensional output, with 1 hidden layers\n"
     ]
    }
   ],
   "source": [
    "W1 = np.ones((3, 2))\n",
    "W2 = np.ones((2, 1))\n",
    "B1 = np.zeros((2, 1))\n",
    "B2 = np.zeros((1, 1))\n",
    "experiment = ConstantExperiment([3, 2, 1], 0.1, 1, [W1, W2], [B1, B2], do_print = True)\n",
    "mean_bound, std_bound = experiment.get_mean_std_error()"
   ]
  },
  {
   "cell_type": "markdown",
   "metadata": {},
   "source": [
    "The resulting random variable is $|2-\\xi| \\cdot \\sigma(4Kx\\cdot 3)$, $\\xi\\sim Bin(2, 1 - p)$.\n",
    "\n",
    "It is $\\sim \\eta\\cdot\\sigma(12)$ where $\\eta\\sim Bin(2, p)$\n",
    "\n",
    "$\\mathbb{E}\\eta=2p=0.2$\n",
    "$\\mathbb{E}\\eta^2=2p(1-p)+4p^2=2p-2p^2+4p^2=2p+2p^2=2p(p+1)$"
   ]
  },
  {
   "cell_type": "code",
   "execution_count": 12,
   "metadata": {},
   "outputs": [],
   "source": [
    "p = 0.1\n",
    "assert np.allclose([mean_bound, std_bound ** 2], [2 * p, 2 * p * (p + 1)]), \"Exact value for theoretical bound\""
   ]
  },
  {
   "cell_type": "code",
   "execution_count": 6,
   "metadata": {},
   "outputs": [
    {
     "name": "stdout",
     "output_type": "stream",
     "text": [
      "Mean error 0.20728, 103.64% from theoretical, norm 0.78\n",
      "Mean error 0.20805, 104.03% from theoretical, norm 0.72\n",
      "Mean error 0.21231, 106.15% from theoretical, norm 0.77\n",
      "Mean error 0.21190, 105.95% from theoretical, norm 0.92\n",
      "Mean error 0.21136, 105.68% from theoretical, norm 1.04\n",
      "Mean error 0.21048, 105.24% from theoretical, norm 1.06\n",
      "Mean error 0.21139, 105.70% from theoretical, norm 1.02\n",
      "Mean error 0.21150, 105.75% from theoretical, norm 1.07\n",
      "Mean error 0.20780, 103.90% from theoretical, norm 1.09\n",
      "Mean error 0.21116, 105.58% from theoretical, norm 1.11\n"
     ]
    },
    {
     "data": {
      "image/png": "[encoded data removed]",
      "text/plain": [
       "<Figure size 432x288 with 1 Axes>"
      ]
     },
     "metadata": {},
     "output_type": "display_data"
    }
   ],
   "source": [
    "# Trying genetic search for x\n",
    "np.random.seed(42)\n",
    "\n",
    "# Setting parameters and creating the experiment\n",
    "N = 3\n",
    "repetitions = 10000\n",
    "to_add = 10\n",
    "to_keep = 5\n",
    "\n",
    "# creating initial inputs\n",
    "data = np.random.randn(to_keep, N)\n",
    "\n",
    "# percents from theoretical bound\n",
    "percents = []\n",
    "\n",
    "maxiter = 10\n",
    "\n",
    "for _ in range(maxiter):\n",
    "  data_ = data\n",
    "\n",
    "  # Randomizing inputs\n",
    "  for input_ in data_:\n",
    "    rand_direction = np.random.randn(to_add, N)\n",
    "    rand_direction /= np.linalg.norm(rand_direction, axis = 0)\n",
    "    rand_direction *= 0.5\n",
    "    input_ = input_ + rand_direction\n",
    "    data = np.vstack((data, input_))\n",
    "\n",
    "  # Computing true values\n",
    "  trues = [experiment.predict_no_dropout(value) for value in data]\n",
    "\n",
    "  # Running the experiment\n",
    "  errors = [experiment.get_error(value, repetitions = repetitions) for value in data]\n",
    "\n",
    "  # List of errors for inputs\n",
    "  error_array = np.mean(np.max(np.abs(errors), axis = 2), axis = 1)\n",
    "\n",
    "  max_exp = np.max(error_array)\n",
    "  \n",
    "  # Choosing maximal error\n",
    "  indices = np.argsort(-error_array)\n",
    "\n",
    "  # Choosing best to_keep entries\n",
    "  data = data[indices[:to_keep]]\n",
    "  \n",
    "  percent = 100 * max_exp / mean_bound\n",
    "  print('Mean error %.5f, %.2f%% from theoretical, norm %.2f' % (max_exp, percent, np.linalg.norm(data.flatten()) / data.shape[0]))\n",
    "  percents.append(percent)\n",
    "  \n",
    "plt.xlabel('Iteration count')\n",
    "plt.ylabel('Percent from theoretical bound')\n",
    "plt.plot(percents)\n",
    "plt.show()"
   ]
  },
  {
   "cell_type": "code",
   "execution_count": 7,
   "metadata": {},
   "outputs": [
    {
     "name": "stdout",
     "output_type": "stream",
     "text": [
      "Mean error 0.20838, 104.19% from theoretical, Std error 0.43193, 92.09% from theoretical, norm 0.74\n",
      "Mean error 0.20630, 103.15% from theoretical, Std error 0.43191, 92.08% from theoretical, norm 0.76\n",
      "Mean error 0.20998, 104.99% from theoretical, Std error 0.43504, 92.75% from theoretical, norm 0.82\n",
      "Mean error 0.21017, 105.09% from theoretical, Std error 0.43576, 92.90% from theoretical, norm 0.75\n",
      "Mean error 0.20939, 104.69% from theoretical, Std error 0.43604, 92.96% from theoretical, norm 0.85\n",
      "Mean error 0.20688, 103.44% from theoretical, Std error 0.43260, 92.23% from theoretical, norm 0.81\n",
      "Mean error 0.20898, 104.49% from theoretical, Std error 0.43341, 92.40% from theoretical, norm 0.85\n",
      "Mean error 0.20698, 103.49% from theoretical, Std error 0.43141, 91.98% from theoretical, norm 0.88\n",
      "Mean error 0.21057, 105.29% from theoretical, Std error 0.43546, 92.84% from theoretical, norm 0.90\n",
      "Mean error 0.21320, 106.60% from theoretical, Std error 0.43513, 92.77% from theoretical, norm 0.97\n",
      "Mean error 0.21030, 105.15% from theoretical, Std error 0.43539, 92.82% from theoretical, norm 0.89\n",
      "Mean error 0.20750, 103.75% from theoretical, Std error 0.43248, 92.20% from theoretical, norm 0.94\n",
      "Mean error 0.20820, 104.10% from theoretical, Std error 0.43824, 93.43% from theoretical, norm 0.96\n",
      "Mean error 0.20898, 104.49% from theoretical, Std error 0.43312, 92.34% from theoretical, norm 1.02\n",
      "Mean error 0.20920, 104.60% from theoretical, Std error 0.43271, 92.25% from theoretical, norm 1.01\n",
      "Mean error 0.21430, 107.15% from theoretical, Std error 0.43481, 92.70% from theoretical, norm 0.92\n",
      "Mean error 0.20815, 104.08% from theoretical, Std error 0.43434, 92.60% from theoretical, norm 0.81\n",
      "Mean error 0.21196, 105.98% from theoretical, Std error 0.43518, 92.78% from theoretical, norm 0.79\n",
      "Mean error 0.21006, 105.03% from theoretical, Std error 0.43368, 92.46% from theoretical, norm 0.81\n",
      "Mean error 0.21102, 105.51% from theoretical, Std error 0.43239, 92.19% from theoretical, norm 0.76\n",
      "Mean error 0.20700, 103.50% from theoretical, Std error 0.43278, 92.27% from theoretical, norm 0.81\n",
      "Mean error 0.20672, 103.36% from theoretical, Std error 0.43163, 92.02% from theoretical, norm 0.82\n",
      "Mean error 0.21208, 106.04% from theoretical, Std error 0.43747, 93.27% from theoretical, norm 0.78\n",
      "Mean error 0.20908, 104.54% from theoretical, Std error 0.43116, 91.92% from theoretical, norm 0.77\n",
      "Mean error 0.20808, 104.04% from theoretical, Std error 0.43441, 92.62% from theoretical, norm 0.81\n",
      "Mean error 0.21057, 105.29% from theoretical, Std error 0.43716, 93.20% from theoretical, norm 0.70\n",
      "Mean error 0.21231, 106.16% from theoretical, Std error 0.43864, 93.52% from theoretical, norm 0.76\n",
      "Mean error 0.20718, 103.59% from theoretical, Std error 0.43225, 92.16% from theoretical, norm 0.69\n",
      "Mean error 0.21226, 106.13% from theoretical, Std error 0.43575, 92.90% from theoretical, norm 0.75\n",
      "Mean error 0.20704, 103.52% from theoretical, Std error 0.43287, 92.29% from theoretical, norm 0.77\n"
     ]
    }
   ],
   "source": [
    "# Trying genetic search for x\n",
    "np.random.seed(42)\n",
    "\n",
    "mean_bound, std_bound = experiment.get_mean_std_error()\n",
    "\n",
    "# creating initial inputs\n",
    "data = np.random.randn(to_keep, N)\n",
    "\n",
    "# percents from theoretical bound\n",
    "percents_mean = []\n",
    "percents_std = []\n",
    "\n",
    "maxiter = 30\n",
    "\n",
    "for _ in range(maxiter):\n",
    "  data_ = data\n",
    "\n",
    "  # Randomizing inputs\n",
    "  for input_ in data_:\n",
    "    rand_direction = np.random.randn(to_add, N)\n",
    "    rand_direction /= np.linalg.norm(rand_direction, axis = 0)\n",
    "    rand_direction *= 0.5\n",
    "    input_ = input_ + rand_direction\n",
    "    data = np.vstack((data, input_))\n",
    "\n",
    "  # Computing true values\n",
    "  trues = [experiment.predict_no_dropout(value) for value in data]\n",
    "\n",
    "  # Running the experiment\n",
    "  errors = [experiment.get_error(value, repetitions = repetitions) for value in data]\n",
    "\n",
    "  # List of errors for inputs\n",
    "  error_std_array  = np.std(np.max(np.abs(errors), axis = 2), axis = 1)\n",
    "  error_mean_array = np.mean(np.max(np.abs(errors), axis = 2), axis = 1)\n",
    "\n",
    "  max_std_exp = np.max(error_std_array)\n",
    "  max_mean_exp = np.max(error_mean_array)\n",
    "  \n",
    "  # Choosing maximal error\n",
    "  indices = np.argsort(-error_std_array)\n",
    "\n",
    "  # Choosing best to_keep entries\n",
    "  data = data[indices[:to_keep]]\n",
    "  \n",
    "  percent_mean = 100 * max_mean_exp / mean_bound\n",
    "  percent_std = 100 * max_std_exp / std_bound\n",
    "  print('Mean error %.5f, %.2f%% from theoretical, Std error %.5f, %.2f%% from theoretical, norm %.2f' % (\n",
    "      max_mean_exp, percent_mean, max_std_exp, percent_std, np.linalg.norm(data.flatten()) / data.shape[0]))\n",
    "  percents_mean.append(percent_mean)\n",
    "  percents_std.append(percent_std)"
   ]
  },
  {
   "cell_type": "code",
   "execution_count": 8,
   "metadata": {},
   "outputs": [
    {
     "data": {
      "image/png": "[encoded data removed]",
      "text/plain": [
       "<Figure size 432x288 with 1 Axes>"
      ]
     },
     "metadata": {},
     "output_type": "display_data"
    }
   ],
   "source": [
    "plt.xlabel('Iteration count')\n",
    "plt.ylabel('Percent from theoretical bound')\n",
    "plt.plot(percents_mean, label='Mean')\n",
    "plt.plot(percents_std, label='Std')\n",
    "plt.legend()\n",
    "plt.show()"
   ]
  },
  {
   "cell_type": "code",
   "execution_count": 12,
   "metadata": {},
   "outputs": [
    {
     "data": {
      "text/plain": [
       "0.904534033733291"
      ]
     },
     "execution_count": 12,
     "metadata": {},
     "output_type": "execute_result"
    }
   ],
   "source": [
    "(std_bound ** 2 - mean_bound ** 2) ** 0.5 / std_bound"
   ]
  },
  {
   "cell_type": "code",
   "execution_count": null,
   "metadata": {
    "collapsed": true
   },
   "outputs": [],
   "source": [
    "# why 104 instead of 100 and 92 instead of 90?"
   ]
  }
 ],
 "metadata": {
  "kernelspec": {
   "display_name": "Python 3",
   "language": "python",
   "name": "python3"
  },
  "language_info": {
   "codemirror_mode": {
    "name": "ipython",
    "version": 3
   },
   "file_extension": ".py",
   "mimetype": "text/x-python",
   "name": "python",
   "nbconvert_exporter": "python",
   "pygments_lexer": "ipython3",
   "version": "3.6.3"
  }
 },
 "nbformat": 4,
 "nbformat_minor": 2
}
