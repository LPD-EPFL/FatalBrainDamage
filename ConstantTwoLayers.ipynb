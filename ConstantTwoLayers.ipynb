{
 "cells": [
  {
   "cell_type": "code",
   "execution_count": 1,
   "metadata": {},
   "outputs": [
    {
     "name": "stderr",
     "output_type": "stream",
     "text": [
      "/home/sergei/miniconda3/envs/ML/lib/python3.6/site-packages/h5py/__init__.py:36: FutureWarning: Conversion of the second argument of issubdtype from `float` to `np.floating` is deprecated. In future, it will be treated as `np.float64 == np.dtype(float).type`.\n",
      "  from ._conv import register_converters as _register_converters\n",
      "Using TensorFlow backend.\n"
     ]
    }
   ],
   "source": [
    "import numpy as np\n",
    "%matplotlib inline\n",
    "from matplotlib import pyplot as plt\n",
    "from scipy.special import expit\n",
    "from experiment_constant import *"
   ]
  },
  {
   "cell_type": "code",
   "execution_count": 28,
   "metadata": {},
   "outputs": [
    {
     "name": "stdout",
     "output_type": "stream",
     "text": [
      "Creating network for 4-dimensional input and 1-dimensional output, with 2 hidden layers\n",
      "0.802853742 1.00294354442138\n"
     ]
    }
   ],
   "source": [
    "W1 = np.ones((4, 3))\n",
    "W2 = np.ones((3, 2))\n",
    "W3 = np.ones((2, 1))\n",
    "B1 = np.ones((3, 1))\n",
    "B2 = np.ones((2, 1))\n",
    "B3 = np.ones((1, 1))\n",
    "K = 0.123\n",
    "p = 0.321\n",
    "experiment = ConstantExperiment([4, 3, 2, 1], p, K, [W1, W2, W3], [B1, B2, B3], do_print = True)\n",
    "\n",
    "mean_bound, std_bound = experiment.get_mean_std_error()\n",
    "print(mean_bound, std_bound)"
   ]
  },
  {
   "cell_type": "markdown",
   "metadata": {},
   "source": [
    "First layer: 4 input neurons, each having value of 1. Therefore the input is $4$. Maximal output is $1$, output on ones is $\\sigma(4Kx)=\\sigma(16)$. These three neurons fail with probability $p=0.1$.\n",
    "\n",
    "The second level consisting of two neurons receives input error $\\xi\\sim Bin(3, p)$\n",
    "\n",
    "The third and final level receives input error $\\eta_1+(1-\\eta_1)K\\xi+\\eta_2+(1-\\eta_2)K\\eta$\n",
    "\n",
    "Therefore $\\mathbb{E}\\Delta=2p+2(1-p)K3p$\n",
    "\n",
    "And $\\Delta^2=\\eta_1^2+(1-\\eta_1)^2K^2\\xi^2+\\eta_2^2+(1-\\eta_2)^2K^2\\eta^2+\\eta_1(1-\\eta_1)K\\xi+\\eta_2(1-\\eta_2)K\\xi+\\eta_1(1-\\eta_2)K\\xi+\\eta_2(1-\\eta_1)K\\xi+\\eta_1\\eta_2+(1-\\eta_1)(1-\\eta_2)K^2\\xi^2$"
   ]
  },
  {
   "cell_type": "code",
   "execution_count": 29,
   "metadata": {},
   "outputs": [],
   "source": [
    "Exi2=(3*p+6*p**2)*K**2\n",
    "assert np.allclose(2*p+2*(1-p)*K*3*p, mean_bound), \"Mean\"\n",
    "assert np.allclose(2*p+2*(1-p)*Exi2+2*p**2+4*p*(1-p)*3*p*K+2*(1-p)**2*Exi2, std_bound ** 2), \"Std\""
   ]
  },
  {
   "cell_type": "code",
   "execution_count": 32,
   "metadata": {},
   "outputs": [
    {
     "name": "stdout",
     "output_type": "stream",
     "text": [
      "Mean error 0.63981, 79.69% from theoretical, norm 0.81\n",
      "Mean error 0.64680, 80.56% from theoretical, norm 0.90\n",
      "Mean error 0.65225, 81.24% from theoretical, norm 0.97\n",
      "Mean error 0.65290, 81.32% from theoretical, norm 1.04\n",
      "Mean error 0.66258, 82.53% from theoretical, norm 1.15\n",
      "Mean error 0.66225, 82.49% from theoretical, norm 1.20\n",
      "Mean error 0.66340, 82.63% from theoretical, norm 1.27\n",
      "Mean error 0.66984, 83.43% from theoretical, norm 1.28\n",
      "Mean error 0.66020, 82.23% from theoretical, norm 1.32\n",
      "Mean error 0.65961, 82.16% from theoretical, norm 1.36\n",
      "Mean error 0.66755, 83.15% from theoretical, norm 1.36\n",
      "Mean error 0.66183, 82.43% from theoretical, norm 1.44\n",
      "Mean error 0.66805, 83.21% from theoretical, norm 1.44\n",
      "Mean error 0.66115, 82.35% from theoretical, norm 1.51\n",
      "Mean error 0.66525, 82.86% from theoretical, norm 1.50\n",
      "Mean error 0.66617, 82.98% from theoretical, norm 1.55\n",
      "Mean error 0.66613, 82.97% from theoretical, norm 1.66\n",
      "Mean error 0.66567, 82.91% from theoretical, norm 1.64\n",
      "Mean error 0.66485, 82.81% from theoretical, norm 1.72\n",
      "Mean error 0.66730, 83.12% from theoretical, norm 1.83\n",
      "Mean error 0.66560, 82.90% from theoretical, norm 1.83\n",
      "Mean error 0.66499, 82.83% from theoretical, norm 1.81\n",
      "Mean error 0.66564, 82.91% from theoretical, norm 1.76\n",
      "Mean error 0.66462, 82.78% from theoretical, norm 1.80\n",
      "Mean error 0.67160, 83.65% from theoretical, norm 1.77\n",
      "Mean error 0.66851, 83.27% from theoretical, norm 1.80\n",
      "Mean error 0.66412, 82.72% from theoretical, norm 1.99\n",
      "Mean error 0.66697, 83.07% from theoretical, norm 1.97\n",
      "Mean error 0.66858, 83.28% from theoretical, norm 2.01\n",
      "Mean error 0.66358, 82.65% from theoretical, norm 2.00\n"
     ]
    },
    {
     "data": {
      "image/png": "[encoded data removed]",
      "text/plain": [
       "<Figure size 432x288 with 1 Axes>"
      ]
     },
     "metadata": {},
     "output_type": "display_data"
    }
   ],
   "source": [
    "# Trying genetic search for x\n",
    "np.random.seed(42)\n",
    "\n",
    "# Setting parameters and creating the experiment\n",
    "N = 4\n",
    "repetitions = 10000\n",
    "to_add = 10\n",
    "to_keep = 5\n",
    "\n",
    "# creating initial inputs\n",
    "data = np.random.randn(to_keep, N)\n",
    "\n",
    "# percents from theoretical bound\n",
    "percents = []\n",
    "\n",
    "maxiter = 30\n",
    "\n",
    "for _ in range(maxiter):\n",
    "  data_ = data\n",
    "\n",
    "  # Randomizing inputs\n",
    "  for input_ in data_:\n",
    "    rand_direction = np.random.randn(to_add, N)\n",
    "    rand_direction /= np.linalg.norm(rand_direction, axis = 0)\n",
    "    rand_direction *= 0.5\n",
    "    input_ = input_ + rand_direction\n",
    "    data = np.vstack((data, input_))\n",
    "\n",
    "  # Computing true values\n",
    "  trues = [experiment.predict_no_dropout(value) for value in data]\n",
    "\n",
    "  # Running the experiment\n",
    "  errors = [experiment.get_error(value, repetitions = repetitions) for value in data]\n",
    "\n",
    "  # List of errors for inputs\n",
    "  error_array = np.mean(np.max(np.abs(errors), axis = 2), axis = 1)\n",
    "\n",
    "  max_exp = np.max(error_array)\n",
    "  \n",
    "  # Choosing maximal error\n",
    "  indices = np.argsort(-error_array)\n",
    "\n",
    "  # Choosing best to_keep entries\n",
    "  data = data[indices[:to_keep]]\n",
    "  \n",
    "  percent = 100 * max_exp / mean_bound\n",
    "  print('Mean error %.5f, %.2f%% from theoretical, norm %.2f' % (max_exp, percent, np.linalg.norm(data.flatten()) / data.shape[0]))\n",
    "  percents.append(percent)\n",
    "  \n",
    "plt.xlabel('Iteration count')\n",
    "plt.ylabel('Percent from theoretical bound')\n",
    "plt.plot(percents)\n",
    "plt.show()"
   ]
  },
  {
   "cell_type": "code",
   "execution_count": 33,
   "metadata": {},
   "outputs": [
    {
     "name": "stdout",
     "output_type": "stream",
     "text": [
      "Mean error 0.64204, 79.97% from theoretical, Std error 0.52893, 52.74% from theoretical, norm 0.81\n",
      "Mean error 0.65061, 81.04% from theoretical, Std error 0.53804, 53.65% from theoretical, norm 0.87\n",
      "Mean error 0.64984, 80.94% from theoretical, Std error 0.53821, 53.66% from theoretical, norm 0.92\n",
      "Mean error 0.65590, 81.70% from theoretical, Std error 0.54233, 54.07% from theoretical, norm 1.10\n",
      "Mean error 0.65835, 82.00% from theoretical, Std error 0.54207, 54.05% from theoretical, norm 1.17\n",
      "Mean error 0.66021, 82.23% from theoretical, Std error 0.54523, 54.36% from theoretical, norm 1.21\n",
      "Mean error 0.66535, 82.87% from theoretical, Std error 0.54756, 54.60% from theoretical, norm 1.31\n",
      "Mean error 0.65735, 81.88% from theoretical, Std error 0.54440, 54.28% from theoretical, norm 1.33\n",
      "Mean error 0.66383, 82.68% from theoretical, Std error 0.54725, 54.56% from theoretical, norm 1.39\n",
      "Mean error 0.65998, 82.20% from theoretical, Std error 0.54689, 54.53% from theoretical, norm 1.49\n",
      "Mean error 0.66424, 82.73% from theoretical, Std error 0.54556, 54.40% from theoretical, norm 1.55\n",
      "Mean error 0.66646, 83.01% from theoretical, Std error 0.54815, 54.65% from theoretical, norm 1.60\n",
      "Mean error 0.66589, 82.94% from theoretical, Std error 0.55315, 55.15% from theoretical, norm 1.63\n",
      "Mean error 0.66479, 82.80% from theoretical, Std error 0.55085, 54.92% from theoretical, norm 1.69\n",
      "Mean error 0.66763, 83.16% from theoretical, Std error 0.54728, 54.57% from theoretical, norm 1.67\n",
      "Mean error 0.66498, 82.83% from theoretical, Std error 0.54976, 54.82% from theoretical, norm 1.66\n",
      "Mean error 0.66323, 82.61% from theoretical, Std error 0.54750, 54.59% from theoretical, norm 1.68\n",
      "Mean error 0.66290, 82.57% from theoretical, Std error 0.54998, 54.84% from theoretical, norm 1.80\n",
      "Mean error 0.66539, 82.88% from theoretical, Std error 0.54653, 54.49% from theoretical, norm 1.91\n",
      "Mean error 0.66713, 83.09% from theoretical, Std error 0.54738, 54.58% from theoretical, norm 1.89\n",
      "Mean error 0.66881, 83.30% from theoretical, Std error 0.54810, 54.65% from theoretical, norm 1.88\n",
      "Mean error 0.66557, 82.90% from theoretical, Std error 0.55039, 54.88% from theoretical, norm 1.96\n",
      "Mean error 0.67042, 83.50% from theoretical, Std error 0.54816, 54.66% from theoretical, norm 1.97\n",
      "Mean error 0.66675, 83.05% from theoretical, Std error 0.54718, 54.56% from theoretical, norm 2.03\n",
      "Mean error 0.66730, 83.12% from theoretical, Std error 0.54853, 54.69% from theoretical, norm 2.00\n",
      "Mean error 0.66409, 82.72% from theoretical, Std error 0.54722, 54.56% from theoretical, norm 1.97\n",
      "Mean error 0.66396, 82.70% from theoretical, Std error 0.54849, 54.69% from theoretical, norm 2.05\n",
      "Mean error 0.66508, 82.84% from theoretical, Std error 0.54808, 54.65% from theoretical, norm 2.09\n",
      "Mean error 0.66923, 83.36% from theoretical, Std error 0.55169, 55.01% from theoretical, norm 2.19\n",
      "Mean error 0.66626, 82.99% from theoretical, Std error 0.54744, 54.58% from theoretical, norm 2.17\n"
     ]
    }
   ],
   "source": [
    "# Trying genetic search for x\n",
    "np.random.seed(42)\n",
    "\n",
    "mean_bound, std_bound = experiment.get_mean_std_error()\n",
    "\n",
    "# creating initial inputs\n",
    "data = np.random.randn(to_keep, N)\n",
    "\n",
    "# percents from theoretical bound\n",
    "percents_mean = []\n",
    "percents_std = []\n",
    "\n",
    "maxiter = 30\n",
    "\n",
    "for _ in range(maxiter):\n",
    "  data_ = data\n",
    "\n",
    "  # Randomizing inputs\n",
    "  for input_ in data_:\n",
    "    rand_direction = np.random.randn(to_add, N)\n",
    "    rand_direction /= np.linalg.norm(rand_direction, axis = 0)\n",
    "    rand_direction *= 0.5\n",
    "    input_ = input_ + rand_direction\n",
    "    data = np.vstack((data, input_))\n",
    "\n",
    "  # Computing true values\n",
    "  trues = [experiment.predict_no_dropout(value) for value in data]\n",
    "\n",
    "  # Running the experiment\n",
    "  errors = [experiment.get_error(value, repetitions = repetitions) for value in data]\n",
    "\n",
    "  # List of errors for inputs\n",
    "  error_std_array  = np.std(np.max(np.abs(errors), axis = 2), axis = 1)\n",
    "  error_mean_array = np.mean(np.max(np.abs(errors), axis = 2), axis = 1)\n",
    "\n",
    "  max_std_exp = np.max(error_std_array)\n",
    "  max_mean_exp = np.max(error_mean_array)\n",
    "  \n",
    "  # Choosing maximal error\n",
    "  indices = np.argsort(-error_std_array)\n",
    "\n",
    "  # Choosing best to_keep entries\n",
    "  data = data[indices[:to_keep]]\n",
    "  \n",
    "  percent_mean = 100 * max_mean_exp / mean_bound\n",
    "  percent_std = 100 * max_std_exp / std_bound\n",
    "  print('Mean error %.5f, %.2f%% from theoretical, Std error %.5f, %.2f%% from theoretical, norm %.2f' % (\n",
    "      max_mean_exp, percent_mean, max_std_exp, percent_std, np.linalg.norm(data.flatten()) / data.shape[0]))\n",
    "  percents_mean.append(percent_mean)\n",
    "  percents_std.append(percent_std)"
   ]
  },
  {
   "cell_type": "code",
   "execution_count": 34,
   "metadata": {},
   "outputs": [
    {
     "data": {
      "image/png": "[encoded data removed]",
      "text/plain": [
       "<Figure size 432x288 with 1 Axes>"
      ]
     },
     "metadata": {},
     "output_type": "display_data"
    }
   ],
   "source": [
    "plt.xlabel('Iteration count')\n",
    "plt.ylabel('Percent from theoretical bound')\n",
    "plt.plot(percents_mean, label='Mean')\n",
    "plt.plot(percents_std, label='Std')\n",
    "plt.legend()\n",
    "plt.show()"
   ]
  },
  {
   "cell_type": "code",
   "execution_count": 35,
   "metadata": {},
   "outputs": [
    {
     "data": {
      "text/plain": [
       "0.5993361702749445"
      ]
     },
     "execution_count": 35,
     "metadata": {},
     "output_type": "execute_result"
    }
   ],
   "source": [
    "(std_bound ** 2 - mean_bound ** 2) ** 0.5 / std_bound"
   ]
  },
  {
   "cell_type": "code",
   "execution_count": null,
   "metadata": {
    "collapsed": true
   },
   "outputs": [],
   "source": [
    "# why 104 instead of 100 and 92 instead of 90?"
   ]
  }
 ],
 "metadata": {
  "kernelspec": {
   "display_name": "Python 3",
   "language": "python",
   "name": "python3"
  },
  "language_info": {
   "codemirror_mode": {
    "name": "ipython",
    "version": 3
   },
   "file_extension": ".py",
   "mimetype": "text/x-python",
   "name": "python",
   "nbconvert_exporter": "python",
   "pygments_lexer": "ipython3",
   "version": "3.6.3"
  }
 },
 "nbformat": 4,
 "nbformat_minor": 2
}
