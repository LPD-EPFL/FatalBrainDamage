{
 "cells": [
  {
   "cell_type": "code",
   "execution_count": 55,
   "metadata": {
    "ExecuteTime": {
     "end_time": "2019-01-20T20:13:59.673640Z",
     "start_time": "2019-01-20T20:13:57.997310Z"
    }
   },
   "outputs": [
    {
     "name": "stdout",
     "output_type": "stream",
     "text": [
      "The autoreload extension is already loaded. To reload it, use:\n",
      "  %reload_ext autoreload\n"
     ]
    }
   ],
   "source": [
    "%load_ext autoreload\n",
    "%autoreload 2\n",
    "%matplotlib inline\n",
    "from experiment_train import *\n",
    "from experiment_datasets import *\n",
    "from helpers import *\n",
    "from tqdm import tqdm\n",
    "import matplotlib"
   ]
  },
  {
   "cell_type": "markdown",
   "metadata": {
    "ExecuteTime": {
     "end_time": "2019-01-20T20:13:59.823133Z",
     "start_time": "2019-01-20T20:13:59.812310Z"
    }
   },
   "source": [
    "Problem: Taylor is WAY OFF for $np>1$...\n",
    "\n",
    "Hypothesis: need to add second term to the mean as only MEAN is off and variance is fine.\n",
    "Need to calculate $L''_{ii}$, diagonal of the Hessian\n",
    "\n",
    "A bit better (for second layer) with it...."
   ]
  },
  {
   "cell_type": "code",
   "execution_count": 262,
   "metadata": {
    "ExecuteTime": {
     "end_time": "2019-01-20T20:13:59.823133Z",
     "start_time": "2019-01-20T20:13:59.812310Z"
    }
   },
   "outputs": [],
   "source": [
    "# tf._hessian_vector_product -- use for VarDelta regularization"
   ]
  },
  {
   "cell_type": "code",
   "execution_count": null,
   "metadata": {
    "ExecuteTime": {
     "end_time": "2019-01-20T20:13:59.823133Z",
     "start_time": "2019-01-20T20:13:59.812310Z"
    }
   },
   "outputs": [],
   "source": []
  },
  {
   "cell_type": "code",
   "execution_count": 263,
   "metadata": {
    "ExecuteTime": {
     "end_time": "2019-01-20T20:13:59.823133Z",
     "start_time": "2019-01-20T20:13:59.812310Z"
    }
   },
   "outputs": [],
   "source": [
    "# network configuration\n",
    "N = [100, 200]\n",
    "\n",
    "def get_p_arr(p):\n",
    "    \"\"\" p array with failure on the first layer \"\"\"\n",
    "    return [0, 0, p]  + [0] * (len(N) - 1)\n",
    "\n",
    "# prob. of failure at inference\n",
    "p_inf = 1e-4\n",
    "p_inference = get_p_arr(p_inf)\n",
    "\n",
    "# prob. of failure at train\n",
    "p_trains = np.linspace(0, 1.2 * p_inf, 10)\n",
    "\n",
    "# Lips. coeff\n",
    "KLips = 1.\n",
    "\n",
    "# activation function\n",
    "activation = 'sigmoid'\n",
    "\n",
    "# number of repeats for error estimation\n",
    "# see below for explanation\n",
    "repetitions = 6\n",
    "\n",
    "# number of runs for each p\n",
    "runs = 10"
   ]
  },
  {
   "cell_type": "code",
   "execution_count": 264,
   "metadata": {},
   "outputs": [
    {
     "name": "stdout",
     "output_type": "stream",
     "text": [
      "_________________________________________________________________\n",
      "Layer (type)                 Output Shape              Param #   \n",
      "=================================================================\n",
      "dense_34 (Dense)             (None, 100)               78500     \n",
      "_________________________________________________________________\n",
      "dense_35 (Dense)             (None, 200)               20200     \n",
      "_________________________________________________________________\n",
      "dense_36 (Dense)             (None, 10)                2010      \n",
      "=================================================================\n",
      "Total params: 100,710\n",
      "Trainable params: 100,710\n",
      "Non-trainable params: 0\n",
      "_________________________________________________________________\n",
      "Train on 60000 samples, validate on 10000 samples\n",
      "Epoch 1/10\n",
      "60000/60000 [==============================] - 2s 36us/step - loss: 109.1019 - categorical_accuracy: 0.7923 - mean_squared_error: 0.0471 - mean_absolute_error: 0.1447 - val_loss: 29.6254 - val_categorical_accuracy: 0.9055 - val_mean_squared_error: 0.0257 - val_mean_absolute_error: 0.1062\n",
      "Epoch 2/10\n",
      "60000/60000 [==============================] - 1s 19us/step - loss: 28.0427 - categorical_accuracy: 0.9051 - mean_squared_error: 0.0250 - mean_absolute_error: 0.1073 - val_loss: 26.8870 - val_categorical_accuracy: 0.9215 - val_mean_squared_error: 0.0211 - val_mean_absolute_error: 0.0960\n",
      "Epoch 3/10\n",
      "60000/60000 [==============================] - 1s 19us/step - loss: 26.2198 - categorical_accuracy: 0.9223 - mean_squared_error: 0.0220 - mean_absolute_error: 0.1026 - val_loss: 25.6203 - val_categorical_accuracy: 0.9328 - val_mean_squared_error: 0.0166 - val_mean_absolute_error: 0.0819\n",
      "Epoch 4/10\n",
      "60000/60000 [==============================] - 1s 19us/step - loss: 25.1183 - categorical_accuracy: 0.9299 - mean_squared_error: 0.0211 - mean_absolute_error: 0.1023 - val_loss: 24.7346 - val_categorical_accuracy: 0.9322 - val_mean_squared_error: 0.0213 - val_mean_absolute_error: 0.1073\n",
      "Epoch 5/10\n",
      "60000/60000 [==============================] - 1s 19us/step - loss: 24.3744 - categorical_accuracy: 0.9364 - mean_squared_error: 0.0205 - mean_absolute_error: 0.1033 - val_loss: 24.1615 - val_categorical_accuracy: 0.9305 - val_mean_squared_error: 0.0253 - val_mean_absolute_error: 0.1224\n",
      "Epoch 6/10\n",
      "60000/60000 [==============================] - 1s 19us/step - loss: 23.9022 - categorical_accuracy: 0.9389 - mean_squared_error: 0.0211 - mean_absolute_error: 0.1067 - val_loss: 23.4349 - val_categorical_accuracy: 0.9446 - val_mean_squared_error: 0.0162 - val_mean_absolute_error: 0.0861\n",
      "Epoch 7/10\n",
      "60000/60000 [==============================] - 1s 19us/step - loss: 23.5995 - categorical_accuracy: 0.9436 - mean_squared_error: 0.0197 - mean_absolute_error: 0.1032 - val_loss: 23.6754 - val_categorical_accuracy: 0.9412 - val_mean_squared_error: 0.0214 - val_mean_absolute_error: 0.1136\n",
      "Epoch 8/10\n",
      "60000/60000 [==============================] - 1s 19us/step - loss: 23.4750 - categorical_accuracy: 0.9459 - mean_squared_error: 0.0208 - mean_absolute_error: 0.1088 - val_loss: 23.5176 - val_categorical_accuracy: 0.9457 - val_mean_squared_error: 0.0216 - val_mean_absolute_error: 0.1123\n",
      "Epoch 9/10\n",
      "60000/60000 [==============================] - 1s 19us/step - loss: 23.3566 - categorical_accuracy: 0.9481 - mean_squared_error: 0.0206 - mean_absolute_error: 0.1094 - val_loss: 23.3858 - val_categorical_accuracy: 0.9481 - val_mean_squared_error: 0.0239 - val_mean_absolute_error: 0.1136\n",
      "Epoch 10/10\n",
      "60000/60000 [==============================] - 1s 19us/step - loss: 23.3260 - categorical_accuracy: 0.9511 - mean_squared_error: 0.0204 - mean_absolute_error: 0.1087 - val_loss: 23.0378 - val_categorical_accuracy: 0.9523 - val_mean_squared_error: 0.0160 - val_mean_absolute_error: 0.0880\n"
     ]
    },
    {
     "data": {
      "image/png": "[encoded data removed]",
      "text/plain": [
       "<Figure size 432x288 with 1 Axes>"
      ]
     },
     "metadata": {
      "needs_background": "light"
     },
     "output_type": "display_data"
    },
    {
     "name": "stdout",
     "output_type": "stream",
     "text": [
      "Creating network for 784-dimensional input and 10-dimensional output, with 2 hidden layers\n",
      "_________________________________________________________________\n",
      "Layer (type)                 Output Shape              Param #   \n",
      "=================================================================\n",
      "dense_37 (Dense)             (None, 100)               78500     \n",
      "_________________________________________________________________\n",
      "dense_38 (Dense)             (None, 200)               20200     \n",
      "_________________________________________________________________\n",
      "Crashes (Lambda)             (None, 200)               0         \n",
      "_________________________________________________________________\n",
      "dense_39 (Dense)             (None, 10)                2010      \n",
      "=================================================================\n",
      "Total params: 100,710\n",
      "Trainable params: 100,710\n",
      "Non-trainable params: 0\n",
      "_________________________________________________________________\n",
      "_________________________________________________________________\n",
      "Layer (type)                 Output Shape              Param #   \n",
      "=================================================================\n",
      "dense_40 (Dense)             (None, 100)               78500     \n",
      "_________________________________________________________________\n",
      "dense_41 (Dense)             (None, 200)               20200     \n",
      "_________________________________________________________________\n",
      "dense_42 (Dense)             (None, 10)                2010      \n",
      "=================================================================\n",
      "Total params: 100,710\n",
      "Trainable params: 100,710\n",
      "Non-trainable params: 0\n",
      "_________________________________________________________________\n"
     ]
    }
   ],
   "source": [
    "exp = MNISTExperiment(N = N, p_inference = p_inference, p_train = get_p_arr(0), KLips = KLips, epochs = 10,\n",
    "                                      activation = activation, reg_type = 'balanced', reg_coeff = 1e-5, do_print = True,\n",
    "                                      name = 'experiment_weights', seed = None, batch_size = 100)"
   ]
  },
  {
   "cell_type": "code",
   "execution_count": 265,
   "metadata": {},
   "outputs": [],
   "source": [
    "truth = exp.y_train"
   ]
  },
  {
   "cell_type": "code",
   "execution_count": 165,
   "metadata": {},
   "outputs": [],
   "source": [
    "def crashing_loss():\n",
    "    prediction = exp.predict_crashing(exp.x_train, repetitions = 1)\n",
    "    prediction = prediction.reshape(60000, 10)\n",
    "    loss = np.mean(np.square(prediction - truth))\n",
    "    return loss"
   ]
  },
  {
   "cell_type": "code",
   "execution_count": 166,
   "metadata": {},
   "outputs": [],
   "source": [
    "def correct_loss():\n",
    "    prediction = exp.predict_correct(exp.x_train)\n",
    "    #prediction = prediction.reshape(60000, 10)\n",
    "    loss = np.mean(np.square(prediction - truth))\n",
    "    return loss"
   ]
  },
  {
   "cell_type": "code",
   "execution_count": 167,
   "metadata": {},
   "outputs": [],
   "source": [
    "correct = correct_loss()"
   ]
  },
  {
   "cell_type": "code",
   "execution_count": 9,
   "metadata": {},
   "outputs": [
    {
     "name": "stderr",
     "output_type": "stream",
     "text": [
      "100%|██████████| 20/20 [00:15<00:00,  1.28it/s]\n"
     ]
    }
   ],
   "source": [
    "crashing = [crashing_loss() for _ in tqdm(range(20))]"
   ]
  },
  {
   "cell_type": "code",
   "execution_count": 10,
   "metadata": {},
   "outputs": [
    {
     "data": {
      "text/plain": [
       "7.7836008603728715"
      ]
     },
     "execution_count": 10,
     "metadata": {},
     "output_type": "execute_result"
    }
   ],
   "source": [
    "correct * 1000"
   ]
  },
  {
   "cell_type": "code",
   "execution_count": 11,
   "metadata": {},
   "outputs": [
    {
     "data": {
      "text/plain": [
       "(array([2., 2., 1., 2., 2., 5., 3., 0., 2., 1.]),\n",
       " array([7.79040083, 7.79100509, 7.79160934, 7.7922136 , 7.79281786,\n",
       "        7.79342211, 7.79402637, 7.79463062, 7.79523488, 7.79583914,\n",
       "        7.79644339]),\n",
       " <a list of 10 Patch objects>)"
      ]
     },
     "execution_count": 11,
     "metadata": {},
     "output_type": "execute_result"
    },
    {
     "data": {
      "image/png": "[encoded data removed]",
      "text/plain": [
       "<Figure size 432x288 with 1 Axes>"
      ]
     },
     "metadata": {
      "needs_background": "light"
     },
     "output_type": "display_data"
    }
   ],
   "source": [
    "plt.hist(np.array(crashing) * 1000)"
   ]
  },
  {
   "cell_type": "code",
   "execution_count": 12,
   "metadata": {},
   "outputs": [],
   "source": [
    "# 1. Experimental evaluation -> quite fast, doesn't ruin things much..."
   ]
  },
  {
   "cell_type": "code",
   "execution_count": null,
   "metadata": {},
   "outputs": [],
   "source": [
    "# computing probability delta of bad crash >= alpha"
   ]
  },
  {
   "cell_type": "code",
   "execution_count": 181,
   "metadata": {},
   "outputs": [],
   "source": [
    "def q_factor(array):\n",
    "    \"\"\" q-balanced factor \"\"\"\n",
    "    array = np.abs(array)\n",
    "    assert np.max(array) > 0, \"Cannot compute q-factor for zero array\"\n",
    "        \n",
    "    return np.min(array) / np.max(array)\n",
    "\n",
    "q = q_factor(np.linalg.norm(exp.W[1], axis = 1) ** 2)"
   ]
  },
  {
   "cell_type": "code",
   "execution_count": 66,
   "metadata": {},
   "outputs": [
    {
     "data": {
      "text/plain": [
       "1189.2539"
      ]
     },
     "execution_count": 66,
     "metadata": {},
     "output_type": "execute_result"
    }
   ],
   "source": [
    "np.linalg.norm(exp.W[1].flatten(), ord = 1)"
   ]
  },
  {
   "cell_type": "code",
   "execution_count": 23,
   "metadata": {},
   "outputs": [
    {
     "data": {
      "text/plain": [
       "0.0001"
      ]
     },
     "execution_count": 23,
     "metadata": {},
     "output_type": "execute_result"
    }
   ],
   "source": [
    "p_inf"
   ]
  },
  {
   "cell_type": "code",
   "execution_count": 177,
   "metadata": {},
   "outputs": [],
   "source": [
    "n = N[1]"
   ]
  },
  {
   "cell_type": "code",
   "execution_count": 178,
   "metadata": {},
   "outputs": [
    {
     "data": {
      "text/plain": [
       "0.02"
      ]
     },
     "execution_count": 178,
     "metadata": {},
     "output_type": "execute_result"
    }
   ],
   "source": [
    "p_inf * n"
   ]
  },
  {
   "cell_type": "code",
   "execution_count": 179,
   "metadata": {},
   "outputs": [],
   "source": [
    "W = np.linalg.norm(exp.W[1], ord = 1, axis = 1)"
   ]
  },
  {
   "cell_type": "code",
   "execution_count": 182,
   "metadata": {},
   "outputs": [
    {
     "data": {
      "text/plain": [
       "0.38271666"
      ]
     },
     "execution_count": 182,
     "metadata": {},
     "output_type": "execute_result"
    }
   ],
   "source": [
    "q"
   ]
  },
  {
   "cell_type": "code",
   "execution_count": 40,
   "metadata": {},
   "outputs": [],
   "source": [
    "# target probability\n",
    "delta_0 = 1e-1"
   ]
  },
  {
   "cell_type": "code",
   "execution_count": 41,
   "metadata": {},
   "outputs": [],
   "source": [
    "a = np.log(2 / delta_0) / (2 * q)"
   ]
  },
  {
   "cell_type": "code",
   "execution_count": 42,
   "metadata": {},
   "outputs": [],
   "source": [
    "t = (a/n)**0.5"
   ]
  },
  {
   "cell_type": "code",
   "execution_count": 43,
   "metadata": {},
   "outputs": [],
   "source": [
    "t = (a / n) ** 0.5\n",
    "alpha = t + p_inf"
   ]
  },
  {
   "cell_type": "code",
   "execution_count": 44,
   "metadata": {},
   "outputs": [
    {
     "data": {
      "text/plain": [
       "(3.6787729679967103, 0.1918012765337267, 0.19190127653372668)"
      ]
     },
     "execution_count": 44,
     "metadata": {},
     "output_type": "execute_result"
    }
   ],
   "source": [
    "a, t, alpha"
   ]
  },
  {
   "cell_type": "code",
   "execution_count": 58,
   "metadata": {},
   "outputs": [],
   "source": [
    "W = exp.model_correct.layers[1].weights[0]"
   ]
  },
  {
   "cell_type": "code",
   "execution_count": 351,
   "metadata": {},
   "outputs": [],
   "source": [
    "sess = get_session()"
   ]
  },
  {
   "cell_type": "code",
   "execution_count": null,
   "metadata": {},
   "outputs": [],
   "source": [
    "sess.run(tf.hessians(exp.loss, W), feed_dict = )"
   ]
  },
  {
   "cell_type": "code",
   "execution_count": 344,
   "metadata": {},
   "outputs": [
    {
     "data": {
      "text/plain": [
       "0.1181999267578125"
      ]
     },
     "execution_count": 344,
     "metadata": {},
     "output_type": "execute_result"
    }
   ],
   "source": [
    "p_inf * np.linalg.norm(exp.W[1].flatten(), ord = 1)"
   ]
  },
  {
   "cell_type": "code",
   "execution_count": 322,
   "metadata": {},
   "outputs": [
    {
     "name": "stdout",
     "output_type": "stream",
     "text": [
      "0.10010000000000001\n"
     ]
    }
   ],
   "source": [
    "t = p_inf * 1000\n",
    "alpha = (p_inf + t)\n",
    "print(alpha)"
   ]
  },
  {
   "cell_type": "code",
   "execution_count": 312,
   "metadata": {},
   "outputs": [],
   "source": [
    "# target probability of big error\n",
    "delta_target = 1e-5"
   ]
  },
  {
   "cell_type": "code",
   "execution_count": 317,
   "metadata": {},
   "outputs": [],
   "source": [
    "#t = np.log(1/delta_target) / (2 * n)"
   ]
  },
  {
   "cell_type": "code",
   "execution_count": null,
   "metadata": {},
   "outputs": [],
   "source": []
  },
  {
   "cell_type": "code",
   "execution_count": 318,
   "metadata": {},
   "outputs": [],
   "source": []
  },
  {
   "cell_type": "code",
   "execution_count": 321,
   "metadata": {},
   "outputs": [
    {
     "data": {
      "text/plain": [
       "0.01"
      ]
     },
     "execution_count": 321,
     "metadata": {},
     "output_type": "execute_result"
    }
   ],
   "source": [
    "n * p_inf"
   ]
  },
  {
   "cell_type": "code",
   "execution_count": 310,
   "metadata": {},
   "outputs": [
    {
     "data": {
      "text/plain": [
       "2.061153622438558e-09"
      ]
     },
     "execution_count": 310,
     "metadata": {},
     "output_type": "execute_result"
    }
   ],
   "source": [
    "# Chernoff bound\n",
    "delta = np.exp(-2*t*n)\n",
    "delta"
   ]
  },
  {
   "cell_type": "code",
   "execution_count": 193,
   "metadata": {},
   "outputs": [
    {
     "data": {
      "text/plain": [
       "0.10999999999999999"
      ]
     },
     "execution_count": 193,
     "metadata": {},
     "output_type": "execute_result"
    }
   ],
   "source": [
    "alpha ** 2"
   ]
  },
  {
   "cell_type": "code",
   "execution_count": 194,
   "metadata": {},
   "outputs": [
    {
     "name": "stdout",
     "output_type": "stream",
     "text": [
      "0.009816558831670864\n",
      "1.228175672145885e-05\n"
     ]
    }
   ],
   "source": [
    "# for CHEBYSHEV\n",
    "print(np.mean(crashing))\n",
    "print(np.std(crashing))\n",
    "a = np.std(crashing) * 3"
   ]
  },
  {
   "cell_type": "code",
   "execution_count": 195,
   "metadata": {},
   "outputs": [
    {
     "name": "stdout",
     "output_type": "stream",
     "text": [
      "0.24644639434772372\n"
     ]
    }
   ],
   "source": [
    "print(np.std(crashing) ** 2 / a ** 2  + delta)"
   ]
  },
  {
   "cell_type": "code",
   "execution_count": 154,
   "metadata": {},
   "outputs": [],
   "source": [
    "def _get_bound_b5_loss(self, data, outputs, weights = None, add_diag_hess = False):\n",
    "    \"\"\" Exact error up to O(alpha^2) \"\"\"\n",
    "\n",
    "    # default value: first hidden layer\n",
    "    if weights is None:\n",
    "        weights = self.model_correct.layers[0].output\n",
    "        self.check_p_layer0()\n",
    "\n",
    "    def get_graph():\n",
    "        # resulting gradient w.r.t. first layer output\n",
    "        grad = []\n",
    "        grad_sq = []\n",
    "\n",
    "        # list of layers\n",
    "        layers = self.model_correct.layers\n",
    "\n",
    "        # loss tensor\n",
    "        loss = self.loss\n",
    "\n",
    "        # w.r.t. first layer output\n",
    "        if self.check_shape:\n",
    "            grad += [tf.reduce_sum(tf.multiply(tf.gradients([loss], [weights])[0], weights), axis=1)]\n",
    "            grad_sq += [tf.reduce_sum(tf.square(tf.multiply(tf.gradients(\n",
    "                [loss], [weights])[0], weights)), axis=1)]\n",
    "        else:\n",
    "            grad += [tf.reduce_sum(tf.multiply(tf.gradients([loss], [weights])[0], weights))]\n",
    "            grad_sq += [tf.reduce_sum(tf.square(tf.multiply(tf.gradients([loss], [weights])[0], weights)))]\n",
    "\n",
    "        # compute the result\n",
    "        p = np.max(p_inference)\n",
    "            \n",
    "        if add_diag_hess:\n",
    "            # squared weights\n",
    "            Wsq = tf.multiply(weights, weights)\n",
    "\n",
    "            wshape = weights.shape\n",
    "            if wshape[0].value is None:\n",
    "                wshape = wshape[1:]\n",
    "            \n",
    "            # diagonal of the hessian. TODO: compute in O(N) instead of O(N^2)\n",
    "            hess_diag = tf.linalg.tensor_diag_part(tf.reshape(tf.hessians([loss], weights)[0], (*wshape, *wshape)))\n",
    "\n",
    "            # quadratic term\n",
    "            S = -0.5 * tf.reduce_sum(tf.multiply(Wsq, hess_diag))\n",
    "            grad[0] += S\n",
    "        \n",
    "        return {'mean': tf.transpose(tf.multiply(-p, grad)), 'std': tf.transpose(tf.sqrt(tf.multiply(p, grad_sq)))}\n",
    "\n",
    "    return self.run_on_input_output(get_graph(), data, outputs)"
   ]
  },
  {
   "cell_type": "code",
   "execution_count": 196,
   "metadata": {},
   "outputs": [],
   "source": [
    "W1 = exp.model_correct.layers[1].output"
   ]
  },
  {
   "cell_type": "code",
   "execution_count": 197,
   "metadata": {},
   "outputs": [],
   "source": [
    "# why is it negative and not equal to the experiment???\n",
    "theory = _get_bound_b5_loss(exp, exp.x_train, exp.y_train, weights = W1, add_diag_hess = False)"
   ]
  },
  {
   "cell_type": "code",
   "execution_count": 200,
   "metadata": {},
   "outputs": [
    {
     "data": {
      "text/plain": [
       "(-3.4397557936293496e-05, 0.002791661591393622)"
      ]
     },
     "execution_count": 200,
     "metadata": {},
     "output_type": "execute_result"
    }
   ],
   "source": [
    "np.mean(theory['mean']), np.mean(theory['std'] ** 2) ** 0.5"
   ]
  },
  {
   "cell_type": "code",
   "execution_count": 99,
   "metadata": {},
   "outputs": [],
   "source": [
    "### Trying for a single object...\n",
    "idx = 10\n",
    "x = exp.x_train[idx:idx+1]\n",
    "y = exp.y_train[idx:idx+1]"
   ]
  },
  {
   "cell_type": "code",
   "execution_count": 156,
   "metadata": {},
   "outputs": [],
   "source": [
    "crashing = exp.predict_crashing(x, repetitions = 1000)#.reshape(1000, 10)\n",
    "correct = exp.predict_correct(x)\n",
    "\n",
    "crashing = np.mean(np.square(crashing - y), axis = 2).reshape(-1)\n",
    "\n",
    "correct = np.mean(np.square(correct - y))\n",
    "\n",
    "delta = crashing - correct\n",
    "\n",
    "np.mean(delta), np.std(delta)"
   ]
  },
  {
   "cell_type": "code",
   "execution_count": 133,
   "metadata": {},
   "outputs": [
    {
     "name": "stdout",
     "output_type": "stream",
     "text": [
      "{'mean': array([[0.00183269]]), 'std': array([[0.000824]])}\n",
      "{'mean': array([[1.0128133e-07]]), 'std': array([[0.000824]])}\n"
     ]
    }
   ],
   "source": [
    "# WTF? here crashing error is less than correct...\n",
    "print(_get_bound_b5_loss(exp, x, y, weights = W1, add_diag_hess = True))\n",
    "print(_get_bound_b5_loss(exp, x, y, weights = W1, add_diag_hess = False))"
   ]
  },
  {
   "cell_type": "code",
   "execution_count": null,
   "metadata": {},
   "outputs": [],
   "source": [
    "exp.get_bound_b3(x)['mean']"
   ]
  },
  {
   "cell_type": "code",
   "execution_count": null,
   "metadata": {},
   "outputs": [],
   "source": [
    "y"
   ]
  },
  {
   "cell_type": "code",
   "execution_count": null,
   "metadata": {},
   "outputs": [],
   "source": []
  },
  {
   "cell_type": "code",
   "execution_count": null,
   "metadata": {},
   "outputs": [],
   "source": [
    "tf.gradients(loss, W0)"
   ]
  },
  {
   "cell_type": "code",
   "execution_count": null,
   "metadata": {},
   "outputs": [],
   "source": [
    "import tensorflow_probability as tfp"
   ]
  },
  {
   "cell_type": "code",
   "execution_count": null,
   "metadata": {},
   "outputs": [],
   "source": [
    "g0 = tf.gradients(loss, W0)[0]"
   ]
  },
  {
   "cell_type": "code",
   "execution_count": null,
   "metadata": {},
   "outputs": [],
   "source": [
    "tf.gradients(loss, W0)"
   ]
  },
  {
   "cell_type": "code",
   "execution_count": null,
   "metadata": {},
   "outputs": [],
   "source": [
    "x = tf.placeholder(tf.float32, shape = (10))"
   ]
  },
  {
   "cell_type": "code",
   "execution_count": null,
   "metadata": {},
   "outputs": [],
   "source": [
    "loss = tf.reduce_sum(tf.square(x))"
   ]
  },
  {
   "cell_type": "code",
   "execution_count": null,
   "metadata": {},
   "outputs": [],
   "source": [
    "g = tf.gradients(loss, x)[0]"
   ]
  },
  {
   "cell_type": "code",
   "execution_count": null,
   "metadata": {},
   "outputs": [],
   "source": [
    "x1 = tf.unstack(x)[0]"
   ]
  },
  {
   "cell_type": "code",
   "execution_count": null,
   "metadata": {},
   "outputs": [],
   "source": [
    "y = tf.square(x)"
   ]
  },
  {
   "cell_type": "code",
   "execution_count": null,
   "metadata": {},
   "outputs": [],
   "source": [
    "tf.gradients(x, x1)"
   ]
  },
  {
   "cell_type": "code",
   "execution_count": null,
   "metadata": {},
   "outputs": [],
   "source": [
    "sess.run(tfp.math.diag_jacobian(g, x), feed_dict = {x: np.random.randn(10, 11)})"
   ]
  },
  {
   "cell_type": "code",
   "execution_count": null,
   "metadata": {},
   "outputs": [],
   "source": [
    "sess.run(tfp.math.diag_jacobian(x, x)[1])"
   ]
  },
  {
   "cell_type": "code",
   "execution_count": null,
   "metadata": {},
   "outputs": [],
   "source": [
    "sess.run(tfp.math.diag_jacobian(g0, W0, sample_shape = [1,1])[1])"
   ]
  },
  {
   "cell_type": "code",
   "execution_count": null,
   "metadata": {},
   "outputs": [],
   "source": [
    "g1 = tf.gradients(g0, W0)"
   ]
  },
  {
   "cell_type": "code",
   "execution_count": null,
   "metadata": {},
   "outputs": [],
   "source": [
    "A = sess.run(g1, feed_dict = {exp.model_correct.input: x, exp.output_tensor: y})[0]"
   ]
  },
  {
   "cell_type": "code",
   "execution_count": null,
   "metadata": {},
   "outputs": [],
   "source": [
    "A"
   ]
  },
  {
   "cell_type": "code",
   "execution_count": 67,
   "metadata": {},
   "outputs": [],
   "source": [
    "# Tail bound test\n",
    "# https://en.wikipedia.org/wiki/Binomial_distribution\n",
    "def kl_num(x, y):\n",
    "    return x * np.log(x / y) + (1 - x) * np.log((1 - x) / (1 - y))"
   ]
  },
  {
   "cell_type": "code",
   "execution_count": 84,
   "metadata": {},
   "outputs": [
    {
     "data": {
      "text/plain": [
       "0.45260976348657705"
      ]
     },
     "execution_count": 84,
     "metadata": {},
     "output_type": "execute_result"
    }
   ],
   "source": [
    "kl_num(0.001,1e-200)"
   ]
  },
  {
   "cell_type": "code",
   "execution_count": 86,
   "metadata": {},
   "outputs": [],
   "source": [
    "# see https://github.com/tensorflow/tensorflow/issues/25040\n",
    "\n",
    "import tensorflow as tf\n",
    "import numpy as np\n",
    "from tensorflow.python.ops import array_ops\n",
    "from tensorflow.python.ops import math_ops\n",
    "from tensorflow import gradients\n",
    "\n",
    "def hessian_vector_product(ys, xs, v):\n",
    "  \"\"\"Multiply the Hessian of `ys` wrt `xs` by `v`.\n",
    "  This is an efficient construction that uses a backprop-like approach\n",
    "  to compute the product between the Hessian and another vector. The\n",
    "  Hessian is usually too large to be explicitly computed or even\n",
    "  represented, but this method allows us to at least multiply by it\n",
    "  for the same big-O cost as backprop.\n",
    "  Implicit Hessian-vector products are the main practical, scalable way\n",
    "  of using second derivatives with neural networks. They allow us to\n",
    "  do things like construct Krylov subspaces and approximate conjugate\n",
    "  gradient descent.\n",
    "  Example: if `y` = 1/2 `x`^T A `x`, then `hessian_vector_product(y,\n",
    "  x, v)` will return an expression that evaluates to the same values\n",
    "  as (A + A.T) `v`.\n",
    "  Args:\n",
    "    ys: A scalar value, or a tensor or list of tensors to be summed to\n",
    "        yield a scalar.\n",
    "    xs: A list of tensors that we should construct the Hessian over.\n",
    "    v: A list of tensors, with the same shapes as xs, that we want to\n",
    "       multiply by the Hessian.\n",
    "  Returns:\n",
    "    A list of tensors (or if the list would be length 1, a single tensor)\n",
    "    containing the product between the Hessian and `v`.\n",
    "  Raises:\n",
    "    ValueError: `xs` and `v` have different length.\n",
    "  \"\"\" \n",
    "\n",
    "  # Validate the input\n",
    "  length = len(xs)\n",
    "  if len(v) != length:\n",
    "    raise ValueError(\"xs and v must have the same length.\")\n",
    "\n",
    "  # First backprop\n",
    "  grads = gradients(ys, xs)\n",
    "\n",
    "  # grads = xs\n",
    "\n",
    "  assert len(grads) == length\n",
    "\n",
    "  elemwise_products = [\n",
    "      math_ops.multiply(grad_elem, array_ops.stop_gradient(v_elem))\n",
    "      for grad_elem, v_elem in zip(grads, v) if grad_elem is not None\n",
    "  ]\n",
    "\n",
    "  # Second backprop  \n",
    "  grads_with_none = gradients(elemwise_products, xs)\n",
    "  return_grads = [\n",
    "      grad_elem if grad_elem is not None \\\n",
    "      else tf.zeros_like(x) \\\n",
    "      for x, grad_elem in zip(xs, grads_with_none)]\n",
    "  \n",
    "  return return_grads\n",
    "\n"
   ]
  },
  {
   "cell_type": "code",
   "execution_count": 106,
   "metadata": {},
   "outputs": [],
   "source": [
    "Ws = exp.model_correct.weights[2:3]"
   ]
  },
  {
   "cell_type": "code",
   "execution_count": 105,
   "metadata": {},
   "outputs": [
    {
     "data": {
      "text/plain": [
       "[<tf.Variable 'dense_9/kernel:0' shape=(784, 100) dtype=float32_ref>,\n",
       " <tf.Variable 'dense_9/bias:0' shape=(100,) dtype=float32_ref>,\n",
       " <tf.Variable 'dense_10/kernel:0' shape=(100, 100) dtype=float32_ref>,\n",
       " <tf.Variable 'dense_10/bias:0' shape=(100,) dtype=float32_ref>,\n",
       " <tf.Variable 'dense_11/kernel:0' shape=(100, 100) dtype=float32_ref>,\n",
       " <tf.Variable 'dense_11/bias:0' shape=(100,) dtype=float32_ref>,\n",
       " <tf.Variable 'dense_12/kernel:0' shape=(100, 10) dtype=float32_ref>,\n",
       " <tf.Variable 'dense_12/bias:0' shape=(10,) dtype=float32_ref>]"
      ]
     },
     "execution_count": 105,
     "metadata": {},
     "output_type": "execute_result"
    }
   ],
   "source": [
    "Ws = "
   ]
  },
  {
   "cell_type": "code",
   "execution_count": 107,
   "metadata": {},
   "outputs": [],
   "source": [
    "sess = get_session()"
   ]
  },
  {
   "cell_type": "code",
   "execution_count": 300,
   "metadata": {},
   "outputs": [],
   "source": [
    "W = exp.model_correct.layers[1].weights[0]"
   ]
  },
  {
   "cell_type": "code",
   "execution_count": 278,
   "metadata": {},
   "outputs": [
    {
     "data": {
      "text/plain": [
       "<tf.Variable 'dense_41/kernel:0' shape=(100, 200) dtype=float32_ref>"
      ]
     },
     "execution_count": 278,
     "metadata": {},
     "output_type": "execute_result"
    }
   ],
   "source": [
    "W"
   ]
  },
  {
   "cell_type": "code",
   "execution_count": 279,
   "metadata": {},
   "outputs": [],
   "source": [
    "hvp = hessian_vector_product(exp.loss, [W], [tf.stop_gradient(W)])[0]"
   ]
  },
  {
   "cell_type": "code",
   "execution_count": 280,
   "metadata": {},
   "outputs": [],
   "source": [
    "wHw = tf.reduce_sum(tf.multiply(tf.abs(hvp), tf.stop_gradient(tf.abs(W))))"
   ]
  },
  {
   "cell_type": "code",
   "execution_count": 281,
   "metadata": {},
   "outputs": [],
   "source": [
    "feed = {exp.model_correct.input: x, exp.output_tensor: y}"
   ]
  },
  {
   "cell_type": "code",
   "execution_count": 188,
   "metadata": {},
   "outputs": [],
   "source": [
    "cert_den = sess.run(wHw, feed_dict = feed)"
   ]
  },
  {
   "cell_type": "code",
   "execution_count": 173,
   "metadata": {},
   "outputs": [],
   "source": [
    "cert_enu = sess.run(tf.reduce_sum(tf.multiply(tf.abs(tf.gradients(exp.loss, W)[0]), tf.abs(W))), feed)"
   ]
  },
  {
   "cell_type": "code",
   "execution_count": 174,
   "metadata": {},
   "outputs": [
    {
     "data": {
      "text/plain": [
       "0.02951110303401947"
      ]
     },
     "execution_count": 174,
     "metadata": {},
     "output_type": "execute_result"
    }
   ],
   "source": [
    "# This is alpha!\n",
    "cert_enu / cert_den / 10"
   ]
  },
  {
   "cell_type": "code",
   "execution_count": 183,
   "metadata": {},
   "outputs": [
    {
     "name": "stdout",
     "output_type": "stream",
     "text": [
      "200 0.38271666\n"
     ]
    }
   ],
   "source": [
    "print(n, q)"
   ]
  },
  {
   "cell_type": "code",
   "execution_count": 184,
   "metadata": {},
   "outputs": [
    {
     "name": "stdout",
     "output_type": "stream",
     "text": [
      "0.03 0.0301\n"
     ]
    }
   ],
   "source": [
    "t = 0.03\n",
    "print(t, t + p_inf)"
   ]
  },
  {
   "cell_type": "code",
   "execution_count": 185,
   "metadata": {},
   "outputs": [
    {
     "data": {
      "text/plain": [
       "1.8691927046718584e-05"
      ]
     },
     "execution_count": 185,
     "metadata": {},
     "output_type": "execute_result"
    }
   ],
   "source": [
    "np.exp(-n*q*kl_num(t + p_inf, p_inf))"
   ]
  },
  {
   "cell_type": "code",
   "execution_count": 159,
   "metadata": {},
   "outputs": [
    {
     "data": {
      "text/plain": [
       "(1.1894852870413295e-05, 0.00018028125517313703)"
      ]
     },
     "execution_count": 159,
     "metadata": {},
     "output_type": "execute_result"
    }
   ],
   "source": [
    "crashing = exp.predict_crashing(x, repetitions = 10000)#.reshape(1000, 10)\n",
    "correct = exp.predict_correct(x)\n",
    "\n",
    "crashing = np.mean(np.square(crashing - y), axis = 2).reshape(-1)\n",
    "\n",
    "correct = np.mean(np.square(correct - y))\n",
    "\n",
    "delta = crashing - correct\n",
    "\n",
    "np.mean(delta), np.std(delta)"
   ]
  },
  {
   "cell_type": "code",
   "execution_count": 187,
   "metadata": {},
   "outputs": [
    {
     "data": {
      "text/plain": [
       "0.0001"
      ]
     },
     "execution_count": 187,
     "metadata": {},
     "output_type": "execute_result"
    }
   ],
   "source": [
    "p_inf"
   ]
  },
  {
   "cell_type": "code",
   "execution_count": 214,
   "metadata": {},
   "outputs": [],
   "source": [
    "wHwg = tf.gradients(wHw, W)"
   ]
  },
  {
   "cell_type": "code",
   "execution_count": 213,
   "metadata": {},
   "outputs": [
    {
     "data": {
      "text/plain": [
       "(100, 200)"
      ]
     },
     "execution_count": 213,
     "metadata": {},
     "output_type": "execute_result"
    }
   ],
   "source": [
    "sess.run(wHwg, feed)[0].shape"
   ]
  },
  {
   "cell_type": "code",
   "execution_count": 284,
   "metadata": {},
   "outputs": [
    {
     "data": {
      "text/plain": [
       "array([[-0.21682757,  0.2660623 , -0.13696536, ...,  0.04763535,\n",
       "        -0.17063715,  0.00432912],\n",
       "       [-0.3852396 , -0.15810953, -0.01746978, ...,  0.09028391,\n",
       "        -0.04298741, -0.01647916],\n",
       "       [ 0.03244729, -0.11132674, -0.1511244 , ..., -0.08711679,\n",
       "         0.02930702, -0.07788351],\n",
       "       ...,\n",
       "       [ 0.00601823,  0.127277  , -0.150358  , ...,  0.07315686,\n",
       "         0.12544541, -0.0302185 ],\n",
       "       [ 0.08320521,  0.01221226,  0.00548319, ..., -0.09786451,\n",
       "        -0.09717263,  0.10645077],\n",
       "       [-0.32533476, -0.1721567 , -0.06282311, ...,  0.38471898,\n",
       "        -0.32876042, -0.28661048]], dtype=float32)"
      ]
     },
     "execution_count": 284,
     "metadata": {},
     "output_type": "execute_result"
    }
   ],
   "source": [
    "W1 = tf.Variable(tf.zeros_like(W))"
   ]
  },
  {
   "cell_type": "code",
   "execution_count": 331,
   "metadata": {},
   "outputs": [],
   "source": [
    "hvp = hessian_vector_product(exp.loss, [W], [W1])[0]\n",
    "wHw = tf.reduce_sum(tf.multiply(tf.abs(hvp), tf.stop_gradient(tf.abs(W1))))"
   ]
  },
  {
   "cell_type": "code",
   "execution_count": 332,
   "metadata": {},
   "outputs": [],
   "source": [
    "a_op = tf.train.AdamOptimizer(0.1).minimize(-wHw)"
   ]
  },
  {
   "cell_type": "code",
   "execution_count": 333,
   "metadata": {},
   "outputs": [
    {
     "data": {
      "text/plain": [
       "array([[-0.21682757,  0.2660623 , -0.13696536, ...,  0.04763535,\n",
       "        -0.17063715,  0.00432912],\n",
       "       [-0.3852396 , -0.15810953, -0.01746978, ...,  0.09028391,\n",
       "        -0.04298741, -0.01647916],\n",
       "       [ 0.03244729, -0.11132674, -0.1511244 , ..., -0.08711679,\n",
       "         0.02930702, -0.07788351],\n",
       "       ...,\n",
       "       [ 0.00601823,  0.127277  , -0.150358  , ...,  0.07315686,\n",
       "         0.12544541, -0.0302185 ],\n",
       "       [ 0.08320521,  0.01221226,  0.00548319, ..., -0.09786451,\n",
       "        -0.09717263,  0.10645077],\n",
       "       [-0.32533476, -0.1721567 , -0.06282311, ...,  0.38471898,\n",
       "        -0.32876042, -0.28661048]], dtype=float32)"
      ]
     },
     "execution_count": 333,
     "metadata": {},
     "output_type": "execute_result"
    }
   ],
   "source": [
    "sess.run(tf.global_variables_initializer())\n",
    "sess.run(W1.assign(W))"
   ]
  },
  {
   "cell_type": "code",
   "execution_count": 356,
   "metadata": {},
   "outputs": [
    {
     "data": {
      "text/plain": [
       "<tf.Variable 'dense_41/kernel:0' shape=(100, 200) dtype=float32_ref>"
      ]
     },
     "execution_count": 356,
     "metadata": {},
     "output_type": "execute_result"
    }
   ],
   "source": [
    "W"
   ]
  },
  {
   "cell_type": "code",
   "execution_count": 355,
   "metadata": {},
   "outputs": [
    {
     "data": {
      "text/plain": [
       "<tf.Tensor 'sub_4:0' shape=(100, 200) dtype=float32>"
      ]
     },
     "execution_count": 355,
     "metadata": {},
     "output_type": "execute_result"
    }
   ],
   "source": [
    "W + (W - W1) / tf.norm(W - W1) * eps"
   ]
  },
  {
   "cell_type": "code",
   "execution_count": 342,
   "metadata": {},
   "outputs": [],
   "source": [
    "nrm = tf.norm(W)"
   ]
  },
  {
   "cell_type": "code",
   "execution_count": 353,
   "metadata": {},
   "outputs": [
    {
     "data": {
      "text/plain": [
       "[1.8591837e-07, None]"
      ]
     },
     "execution_count": 353,
     "metadata": {},
     "output_type": "execute_result"
    }
   ],
   "source": [
    "sess.run([wHw / nrm ** 2, a_op], feed)"
   ]
  },
  {
   "cell_type": "code",
   "execution_count": 259,
   "metadata": {},
   "outputs": [
    {
     "data": {
      "text/plain": [
       "15.261283"
      ]
     },
     "execution_count": 259,
     "metadata": {},
     "output_type": "execute_result"
    }
   ],
   "source": [
    "np.linalg.norm(exp.W[0])"
   ]
  },
  {
   "cell_type": "code",
   "execution_count": null,
   "metadata": {},
   "outputs": [],
   "source": [
    "tf.zeros(W.shape)"
   ]
  },
  {
   "cell_type": "code",
   "execution_count": 305,
   "metadata": {},
   "outputs": [
    {
     "data": {
      "text/plain": [
       "[<tf.Tensor 'gradients_76/dense_41/MatMul_grad/MatMul_1:0' shape=(100, 200) dtype=float32>]"
      ]
     },
     "execution_count": 305,
     "metadata": {},
     "output_type": "execute_result"
    }
   ],
   "source": [
    "hvp"
   ]
  },
  {
   "cell_type": "code",
   "execution_count": 283,
   "metadata": {},
   "outputs": [
    {
     "data": {
      "text/plain": [
       "array([[-0.21682757,  0.2660623 , -0.13696536, ...,  0.04763535,\n",
       "        -0.17063715,  0.00432912],\n",
       "       [-0.3852396 , -0.15810953, -0.01746978, ...,  0.09028391,\n",
       "        -0.04298741, -0.01647916],\n",
       "       [ 0.03244729, -0.11132674, -0.1511244 , ..., -0.08711679,\n",
       "         0.02930702, -0.07788351],\n",
       "       ...,\n",
       "       [ 0.00601823,  0.127277  , -0.150358  , ...,  0.07315686,\n",
       "         0.12544541, -0.0302185 ],\n",
       "       [ 0.08320521,  0.01221226,  0.00548319, ..., -0.09786451,\n",
       "        -0.09717263,  0.10645077],\n",
       "       [-0.32533476, -0.1721567 , -0.06282311, ...,  0.38471898,\n",
       "        -0.32876042, -0.28661048]], dtype=float32)"
      ]
     },
     "execution_count": 283,
     "metadata": {},
     "output_type": "execute_result"
    }
   ],
   "source": []
  },
  {
   "cell_type": "code",
   "execution_count": null,
   "metadata": {},
   "outputs": [],
   "source": []
  }
 ],
 "metadata": {
  "kernelspec": {
   "display_name": "Python 3",
   "language": "python",
   "name": "python3"
  },
  "language_info": {
   "codemirror_mode": {
    "name": "ipython",
    "version": 3
   },
   "file_extension": ".py",
   "mimetype": "text/x-python",
   "name": "python",
   "nbconvert_exporter": "python",
   "pygments_lexer": "ipython3",
   "version": "3.6.8"
  },
  "notify_time": "5",
  "varInspector": {
   "cols": {
    "lenName": 16,
    "lenType": 16,
    "lenVar": 40
   },
   "kernels_config": {
    "python": {
     "delete_cmd_postfix": "",
     "delete_cmd_prefix": "del ",
     "library": "var_list.py",
     "varRefreshCmd": "print(var_dic_list())"
    },
    "r": {
     "delete_cmd_postfix": ") ",
     "delete_cmd_prefix": "rm(",
     "library": "var_list.r",
     "varRefreshCmd": "cat(var_dic_list()) "
    }
   },
   "position": {
    "height": "407px",
    "left": "1561px",
    "right": "20px",
    "top": "120px",
    "width": "339px"
   },
   "types_to_exclude": [
    "module",
    "function",
    "builtin_function_or_method",
    "instance",
    "_Feature"
   ],
   "window_display": false
  }
 },
 "nbformat": 4,
 "nbformat_minor": 2
}
