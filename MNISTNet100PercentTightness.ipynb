{
 "cells": [
  {
   "cell_type": "code",
   "execution_count": 1,
   "metadata": {},
   "outputs": [
    {
     "name": "stderr",
     "output_type": "stream",
     "text": [
      "/home/sergei/miniconda3/envs/ML/lib/python3.6/site-packages/h5py/__init__.py:36: FutureWarning: Conversion of the second argument of issubdtype from `float` to `np.floating` is deprecated. In future, it will be treated as `np.float64 == np.dtype(float).type`.\n",
      "  from ._conv import register_converters as _register_converters\n",
      "Using TensorFlow backend.\n"
     ]
    }
   ],
   "source": [
    "%matplotlib inline\n",
    "%load_ext autoreload\n",
    "%autoreload 2\n",
    "from matplotlib import pyplot as plt\n",
    "import numpy as np\n",
    "from keras import backend as K\n",
    "from experiment_constant import *\n",
    "import pickle\n",
    "from experiment_mnist import *\n",
    "import pickle"
   ]
  },
  {
   "cell_type": "code",
   "execution_count": 2,
   "metadata": {},
   "outputs": [
    {
     "name": "stdout",
     "output_type": "stream",
     "text": [
      "_________________________________________________________________\n",
      "Layer (type)                 Output Shape              Param #   \n",
      "=================================================================\n",
      "dense_1 (Dense)              (None, 10)                7850      \n",
      "_________________________________________________________________\n",
      "dense_2 (Dense)              (None, 10)                110       \n",
      "=================================================================\n",
      "Total params: 7,960\n",
      "Trainable params: 7,960\n",
      "Non-trainable params: 0\n",
      "_________________________________________________________________\n"
     ]
    }
   ],
   "source": [
    "dta = MNISTExperiment([10], 0.1, 10, epochs = 0, activation = 'sigmoid', reg_type = 'delta')\n",
    "x = np.vstack((dta.x_train, dta.x_test))\n",
    "y = np.vstack((dta.y_train, dta.y_test))"
   ]
  },
  {
   "cell_type": "code",
   "execution_count": 3,
   "metadata": {
    "collapsed": true
   },
   "outputs": [],
   "source": [
    "L = 3\n",
    "KLips = 2"
   ]
  },
  {
   "cell_type": "code",
   "execution_count": 46,
   "metadata": {},
   "outputs": [],
   "source": [
    "#P = 0.3\n",
    "#P = [0.3] + [0] * (L - 1)\n",
    "#experiment = MNISTExperiment([11, 12, 13], P, KLips, epochs = 100, activation = 'relu', reg_type = 0,\n",
    "#                             reg_coeff = 0, do_print = True)\n",
    "#for a, b in zip(experiment.model_no_dropout.get_weights(), experiment.model.get_weights()):\n",
    "#    assert np.allclose(a, b)\n",
    "#weights = experiment.model_no_dropout.get_weights()\n",
    "#W = weights[0::2]\n",
    "#B = weights[1::2]\n",
    "#pickle.dump([W, B], open('mnistnet100percenttightness.pkl', 'wb'))"
   ]
  },
  {
   "cell_type": "code",
   "execution_count": 94,
   "metadata": {},
   "outputs": [],
   "source": [
    "[W, B] = pickle.load(open('mnistnet100percenttightness.pkl', 'rb'))\n",
    "experiment = ConstantExperiment([28 ** 2, 11, 12, 13, 10], [0.3, 0, 0], 2, W, B, activation = 'relu')"
   ]
  },
  {
   "cell_type": "code",
   "execution_count": 103,
   "metadata": {
    "collapsed": true
   },
   "outputs": [],
   "source": [
    "experiment.update_C(x[:100])\n",
    "inp = np.random.randn(28 ** 2)\n",
    "errors = experiment.get_error(inp, repetitions = 100000)\n",
    "mean_exp = np.mean(np.abs(errors))"
   ]
  },
  {
   "cell_type": "code",
   "execution_count": 104,
   "metadata": {},
   "outputs": [
    {
     "name": "stdout",
     "output_type": "stream",
     "text": [
      "(12, 11) 11 (12,)\n",
      "(13, 12) 12 (13,)\n",
      "(10, 13) 13 (10,)\n",
      "[3.64311671 2.85905302 3.30008918 2.72395917 3.26099225 3.68167235\n",
      " 2.01637073 1.61472611 2.81574756 3.95522854]\n",
      "0.16563344 0.10257680194030502\n",
      "1.6147261065332417\n"
     ]
    }
   ],
   "source": [
    "experiment.use_Carr = True\n",
    "mean_bound, std_bound = experiment.get_mean_std_error()\n",
    "print(mean_bound)\n",
    "print(mean_exp, np.max(mean_exp / mean_bound))\n",
    "print(np.min(mean_bound))"
   ]
  },
  {
   "cell_type": "code",
   "execution_count": 105,
   "metadata": {},
   "outputs": [
    {
     "name": "stdout",
     "output_type": "stream",
     "text": [
      "10.616377406770198\n",
      "0.01560169101675621\n"
     ]
    }
   ],
   "source": [
    "experiment.use_Carr = False\n",
    "mean_bound, std_bound = experiment.get_mean_std_error()\n",
    "print(mean_bound)\n",
    "print(mean_exp / mean_bound)"
   ]
  },
  {
   "cell_type": "code",
   "execution_count": 54,
   "metadata": {},
   "outputs": [
    {
     "data": {
      "text/plain": [
       "[array([8.612497 , 1.8496076, 3.0671077, 5.8046246, 5.8922067, 3.5370722,\n",
       "        6.495667 , 5.899441 , 8.661816 , 8.796108 , 7.675859 ],\n",
       "       dtype=float32),\n",
       " array([ 3.7647474,  0.0836332, 12.559795 , 14.956848 , 23.763226 ,\n",
       "         7.04802  , 19.932194 ,  6.0037208, 11.83166  , 20.404783 ,\n",
       "         2.6644998, 13.43227  ], dtype=float32),\n",
       " array([3.74121819e+01, 7.88303452e+01, 7.30335617e+01, 8.18573456e+01,\n",
       "        8.90045471e+01, 5.55474701e+01, 5.58552933e+01, 8.06582421e-02,\n",
       "        6.28046513e+00, 2.67623234e+01, 8.15948181e+01, 1.15486176e+02,\n",
       "        7.77129957e-04], dtype=float32)]"
      ]
     },
     "execution_count": 54,
     "metadata": {},
     "output_type": "execute_result"
    }
   ],
   "source": [
    "experiment.C"
   ]
  },
  {
   "cell_type": "code",
   "execution_count": 74,
   "metadata": {},
   "outputs": [
    {
     "name": "stderr",
     "output_type": "stream",
     "text": [
      "100%|██████████| 100/100 [00:01<00:00, 69.47it/s]\n"
     ]
    },
    {
     "data": {
      "image/png": "[encoded data removed]",
      "text/plain": [
       "<Figure size 432x288 with 1 Axes>"
      ]
     },
     "metadata": {
      "needs_background": "light"
     },
     "output_type": "display_data"
    },
    {
     "name": "stdout",
     "output_type": "stream",
     "text": [
      "Error; maximal over inputs, average over dropout:\n",
      "True values array mean: 0.100050 variance 0.221651\n",
      "Experiment 0.496664 Std 0.530274\n",
      "Equation   3.026134 Std 3.443143\n",
      "Tightness  16.4% Std 15.4%\n"
     ]
    },
    {
     "data": {
      "text/plain": [
       "(0.4966644, 0.53027445, 3.0261336995015506, 3.4431429421598683, 0.2216512)"
      ]
     },
     "execution_count": 74,
     "metadata": {},
     "output_type": "execute_result"
    }
   ],
   "source": [
    "experiment.run(repetitions = 1000, inputs = 100)"
   ]
  },
  {
   "cell_type": "code",
   "execution_count": 7,
   "metadata": {
    "collapsed": true
   },
   "outputs": [],
   "source": [
    "#errors = [experiment.get_error(obj, repetitions = 100) for obj in tqdm(x)]"
   ]
  },
  {
   "cell_type": "code",
   "execution_count": 8,
   "metadata": {
    "collapsed": true
   },
   "outputs": [],
   "source": [
    "#np.max(np.mean(np.abs(errors), axis = 1))"
   ]
  },
  {
   "cell_type": "code",
   "execution_count": null,
   "metadata": {
    "collapsed": true
   },
   "outputs": [],
   "source": []
  },
  {
   "cell_type": "code",
   "execution_count": 57,
   "metadata": {
    "collapsed": true
   },
   "outputs": [],
   "source": [
    "def calculate_output(exp, x, p = 0.1):\n",
    "    inp = x\n",
    "    layers = []\n",
    "    assert len(exp.W) == len(exp.B)\n",
    "    for i, (w, b) in enumerate(zip(exp.W, exp.B)):\n",
    "        if i >= 0:\n",
    "            dead_neurons = np.where(np.random.rand(w.shape[0]) <= p)[0]\n",
    "            w = np.copy(w)\n",
    "            w[dead_neurons, :] = 0\n",
    "        is_last = i == len(exp.W) - 1\n",
    "        act = (lambda x : x) if is_last else (lambda x : exp.K * np.maximum(x, 0))\n",
    "        layers.append(np.max(inp))\n",
    "        plt.figure()\n",
    "        plt.title('Activations for layer %d' % i)\n",
    "        #print(inp)\n",
    "        plt.hist(inp.reshape(-1))\n",
    "        xx = np.abs(inp.reshape(-1))\n",
    "        print(np.mean(xx), np.median(xx))\n",
    "        plt.show()\n",
    "        inp = act((inp @ w) + b).reshape(x.shape[0], -1)\n",
    "    return inp, layers"
   ]
  },
  {
   "cell_type": "code",
   "execution_count": 58,
   "metadata": {},
   "outputs": [
    {
     "name": "stdout",
     "output_type": "stream",
     "text": [
      "0.7963218031579156 0.6714158724098459\n"
     ]
    },
    {
     "data": {
      "image/png": "[encoded data removed]",
      "text/plain": [
       "<Figure size 432x288 with 1 Axes>"
      ]
     },
     "metadata": {
      "needs_background": "light"
     },
     "output_type": "display_data"
    },
    {
     "name": "stdout",
     "output_type": "stream",
     "text": [
      "5.1460669829837205 1.4572189445525199\n"
     ]
    },
    {
     "data": {
      "image/png": "[encoded data removed]",
      "text/plain": [
       "<Figure size 432x288 with 1 Axes>"
      ]
     },
     "metadata": {
      "needs_background": "light"
     },
     "output_type": "display_data"
    },
    {
     "name": "stdout",
     "output_type": "stream",
     "text": [
      "11.272123772897139 0.6773603267706271\n"
     ]
    },
    {
     "data": {
      "image/png": "[encoded data removed]",
      "text/plain": [
       "<Figure size 432x288 with 1 Axes>"
      ]
     },
     "metadata": {
      "needs_background": "light"
     },
     "output_type": "display_data"
    },
    {
     "name": "stdout",
     "output_type": "stream",
     "text": [
      "11.448617821620264 0.0\n"
     ]
    },
    {
     "data": {
      "image/png": "[encoded data removed]",
      "text/plain": [
       "<Figure size 432x288 with 1 Axes>"
      ]
     },
     "metadata": {
      "needs_background": "light"
     },
     "output_type": "display_data"
    }
   ],
   "source": [
    "z = calculate_output(experiment, np.random.randn(100, 784), p = 0.5)"
   ]
  },
  {
   "cell_type": "code",
   "execution_count": 59,
   "metadata": {},
   "outputs": [
    {
     "data": {
      "text/plain": [
       "[5.843417, 12.915418, 17.976147]"
      ]
     },
     "execution_count": 59,
     "metadata": {},
     "output_type": "execute_result"
    }
   ],
   "source": [
    "experiment.C"
   ]
  },
  {
   "cell_type": "code",
   "execution_count": 62,
   "metadata": {},
   "outputs": [
    {
     "name": "stdout",
     "output_type": "stream",
     "text": [
      "0.13022236994797937 0.0\n"
     ]
    },
    {
     "data": {
      "image/png": "[encoded data removed]",
      "text/plain": [
       "<Figure size 432x288 with 1 Axes>"
      ]
     },
     "metadata": {
      "needs_background": "light"
     },
     "output_type": "display_data"
    },
    {
     "name": "stdout",
     "output_type": "stream",
     "text": [
      "1.652505331294604 1.231355360427908\n"
     ]
    },
    {
     "data": {
      "image/png": "[encoded data removed]",
      "text/plain": [
       "<Figure size 432x288 with 1 Axes>"
      ]
     },
     "metadata": {
      "needs_background": "light"
     },
     "output_type": "display_data"
    },
    {
     "name": "stdout",
     "output_type": "stream",
     "text": [
      "2.0718027665292333 0.8000847286990598\n"
     ]
    },
    {
     "data": {
      "image/png": "[encoded data removed]",
      "text/plain": [
       "<Figure size 432x288 with 1 Axes>"
      ]
     },
     "metadata": {
      "needs_background": "light"
     },
     "output_type": "display_data"
    },
    {
     "name": "stdout",
     "output_type": "stream",
     "text": [
      "0.7466053837181209 0.43089654008470024\n"
     ]
    },
    {
     "data": {
      "image/png": "[encoded data removed]",
      "text/plain": [
       "<Figure size 432x288 with 1 Axes>"
      ]
     },
     "metadata": {
      "needs_background": "light"
     },
     "output_type": "display_data"
    }
   ],
   "source": [
    "z = calculate_output(experiment, x[:5000, :], p = 0.9)"
   ]
  },
  {
   "cell_type": "code",
   "execution_count": 30,
   "metadata": {},
   "outputs": [
    {
     "data": {
      "text/plain": [
       "(100, 10)"
      ]
     },
     "execution_count": 30,
     "metadata": {},
     "output_type": "execute_result"
    }
   ],
   "source": [
    "x[0].shape"
   ]
  },
  {
   "cell_type": "code",
   "execution_count": 23,
   "metadata": {},
   "outputs": [
    {
     "data": {
      "text/plain": [
       "array([49.82485962, 55.65070724])"
      ]
     },
     "execution_count": 23,
     "metadata": {},
     "output_type": "execute_result"
    }
   ],
   "source": [
    "experiment.C"
   ]
  },
  {
   "cell_type": "code",
   "execution_count": null,
   "metadata": {
    "collapsed": true
   },
   "outputs": [],
   "source": []
  }
 ],
 "metadata": {
  "kernelspec": {
   "display_name": "Python 3",
   "language": "python",
   "name": "python3"
  },
  "language_info": {
   "codemirror_mode": {
    "name": "ipython",
    "version": 3
   },
   "file_extension": ".py",
   "mimetype": "text/x-python",
   "name": "python",
   "nbconvert_exporter": "python",
   "pygments_lexer": "ipython3",
   "version": "3.6.3"
  }
 },
 "nbformat": 4,
 "nbformat_minor": 2
}
