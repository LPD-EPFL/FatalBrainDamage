{
 "cells": [
  {
   "cell_type": "code",
   "execution_count": 1,
   "metadata": {},
   "outputs": [
    {
     "name": "stderr",
     "output_type": "stream",
     "text": [
      "Using TensorFlow backend.\n"
     ]
    },
    {
     "name": "stdout",
     "output_type": "stream",
     "text": [
      "Initialized TensorFlow\n"
     ]
    }
   ],
   "source": [
    "%load_ext autoreload\n",
    "%autoreload 2\n",
    "%matplotlib inline\n",
    "\n",
    "# loading keras and FBD experiment...\n",
    "from keras import backend as K\n",
    "K.set_floatx('float32')\n",
    "from helpers import *\n",
    "from experiment import *\n",
    "from matplotlib import pyplot as plt\n",
    "import pickle\n",
    "from tqdm import tqdm\n",
    "import sys\n",
    "import numpy as np\n",
    "\n",
    "# to show the model\n",
    "from IPython.display import SVG\n",
    "from keras.utils.vis_utils import model_to_dot\n",
    "from keras import Model, Input\n",
    "from keras.layers import Activation, InputLayer\n",
    "\n",
    "# loading resnet\n",
    "from keras.applications.vgg16 import VGG16\n",
    "from keras.preprocessing import image\n",
    "from keras.applications.vgg16 import preprocess_input, decode_predictions\n",
    "\n",
    "# for softplus\n",
    "from vis.utils.utils import apply_modifications\n",
    "from keras.activations import softplus\n",
    "from keras.utils import CustomObjectScope"
   ]
  },
  {
   "cell_type": "code",
   "execution_count": 2,
   "metadata": {},
   "outputs": [],
   "source": [
    "# creating resnet model\n",
    "model = VGG16(weights = 'imagenet')"
   ]
  },
  {
   "cell_type": "code",
   "execution_count": 3,
   "metadata": {},
   "outputs": [],
   "source": [
    "def softplus10(x):\n",
    "    scaler = 10.0\n",
    "    return softplus(x * scaler) / scaler"
   ]
  },
  {
   "cell_type": "code",
   "execution_count": 4,
   "metadata": {},
   "outputs": [],
   "source": [
    "# replacing ReLU with SoftPlus10\n",
    "for i, layer in enumerate(model.layers):\n",
    "    if hasattr(layer, 'activation'):\n",
    "        if layer.activation.__name__ == 'relu':\n",
    "            layer.activation = softplus10\n",
    "            #print(i)\n",
    "            #print(layer.activation.__code__)"
   ]
  },
  {
   "cell_type": "code",
   "execution_count": 5,
   "metadata": {
    "scrolled": true
   },
   "outputs": [
    {
     "name": "stderr",
     "output_type": "stream",
     "text": [
      "/localhome/volodin/miniconda3/envs/neuronfailure/lib/python3.6/site-packages/keras/engine/saving.py:292: UserWarning: No training configuration found in save file: the model was *not* compiled. Compile it manually.\n",
      "  warnings.warn('No training configuration found in save file: '\n"
     ]
    }
   ],
   "source": [
    "with CustomObjectScope({'softplus10': softplus10}):\n",
    "    model = apply_modifications(model)"
   ]
  },
  {
   "cell_type": "code",
   "execution_count": 6,
   "metadata": {},
   "outputs": [],
   "source": [
    "# downscale image side\n",
    "d = 50\n",
    "\n",
    "# new (small) input\n",
    "input_tensor = Input(shape = (d, d, 3))\n",
    "\n",
    "# new model taking small images and upscaling them\n",
    "out = model(Lambda(lambda x : tf.image.resize_images(x, (224, 224)))(input_tensor))\n",
    "model_upscale = Model(inputs = input_tensor, outputs = out)"
   ]
  },
  {
   "cell_type": "code",
   "execution_count": 19,
   "metadata": {},
   "outputs": [
    {
     "data": {
      "text/plain": [
       "<function __main__.softplus10(x)>"
      ]
     },
     "execution_count": 19,
     "metadata": {},
     "output_type": "execute_result"
    }
   ],
   "source": [
    "model_upscale.layers[-1].layers[-2].activation"
   ]
  },
  {
   "cell_type": "code",
   "execution_count": 20,
   "metadata": {},
   "outputs": [
    {
     "data": {
      "image/png": "[encoded data removed]",
      "text/plain": [
       "<Figure size 432x288 with 1 Axes>"
      ]
     },
     "metadata": {
      "needs_background": "light"
     },
     "output_type": "display_data"
    }
   ],
   "source": [
    "# getting picture of a cat\n",
    "img_path = 'cat.jpg'\n",
    "img = image.load_img(img_path, target_size=(d, d))\n",
    "plt.imshow(img)\n",
    "x = image.img_to_array(img)\n",
    "x = np.expand_dims(x, axis=0)\n",
    "x = preprocess_input(x)"
   ]
  },
  {
   "cell_type": "code",
   "execution_count": 21,
   "metadata": {},
   "outputs": [
    {
     "data": {
      "text/plain": [
       "[('n02124075', 'Egyptian_cat', 0.10491509),\n",
       " ('n02129165', 'lion', 0.07763003),\n",
       " ('n02127052', 'lynx', 0.0698496)]"
      ]
     },
     "execution_count": 21,
     "metadata": {},
     "output_type": "execute_result"
    }
   ],
   "source": [
    "decode_predictions(model_upscale.predict(x), top=3)[0]"
   ]
  },
  {
   "cell_type": "code",
   "execution_count": 22,
   "metadata": {},
   "outputs": [],
   "source": [
    "# probability of input failure\n",
    "p = 0.0001"
   ]
  },
  {
   "cell_type": "code",
   "execution_count": 23,
   "metadata": {},
   "outputs": [
    {
     "data": {
      "text/plain": [
       "(7500, 0.75)"
      ]
     },
     "execution_count": 23,
     "metadata": {},
     "output_type": "execute_result"
    }
   ],
   "source": [
    "# calculating np\n",
    "n = np.prod(list(map(int, model_upscale.inputs[0].shape[1:])))\n",
    "n, n * p"
   ]
  },
  {
   "cell_type": "code",
   "execution_count": 24,
   "metadata": {},
   "outputs": [],
   "source": [
    "to_keep = np.array(np.argsort(-model_upscale.predict(x))[0][:5], dtype = np.int32)"
   ]
  },
  {
   "cell_type": "code",
   "execution_count": 25,
   "metadata": {},
   "outputs": [],
   "source": [
    "def SliceLayer(to_keep):\n",
    "    \"\"\" Keep only these components in the layer \"\"\"\n",
    "    return Lambda(lambda x : tf.gather(x, to_keep, axis = 1))"
   ]
  },
  {
   "cell_type": "code",
   "execution_count": 26,
   "metadata": {},
   "outputs": [
    {
     "data": {
      "text/plain": [
       "array([285, 291, 287, 282, 674], dtype=int32)"
      ]
     },
     "execution_count": 26,
     "metadata": {},
     "output_type": "execute_result"
    }
   ],
   "source": [
    "to_keep"
   ]
  },
  {
   "cell_type": "code",
   "execution_count": 27,
   "metadata": {},
   "outputs": [],
   "source": [
    "model_slice = Model(inputs = model_upscale.input, outputs = SliceLayer(to_keep)(model_upscale.output))"
   ]
  },
  {
   "cell_type": "code",
   "execution_count": 28,
   "metadata": {},
   "outputs": [],
   "source": [
    "class ModelInputCrashExperiment(Experiment):\n",
    "    def __init__(self, model, p=0.01, name='exp'):\n",
    "        \"\"\" Get an experiment based on a model, assuming input failures\n",
    "            p failures at input\n",
    "        \"\"\"\n",
    "\n",
    "        # saving p_inference\n",
    "        self.p_inference = [0, p]\n",
    "        \n",
    "        in_shape = model.layers[0].input.shape[1:]\n",
    "        out_shape = model.layers[-1].output.shape[1:]\n",
    "        assert len(out_shape) == 1, \"Only support 1D output\"\n",
    "        out_N = int(out_shape[0])\n",
    "\n",
    "        # rewrite using https://github.com/raghakot/keras-vis/issues/37\n",
    "        self.N = [0, 0, out_N]\n",
    "\n",
    "        def IdentityLayer(input_shape=None):\n",
    "            \"\"\" A layer which does nothing \"\"\"\n",
    "            return Lambda(\n",
    "                lambda x: x + 0, input_shape=input_shape, name='Identity')\n",
    "\n",
    "        # creating correct and crashing models\n",
    "        inp = Input(shape = in_shape)\n",
    "        self.model_correct  = Model(inputs = inp, outputs = model(IdentityLayer     (   input_shape = in_shape)(inp)))\n",
    "        self.model_crashing = Model(inputs = inp, outputs = model(IndependentCrashes(p, input_shape = in_shape)(inp)))"
   ]
  },
  {
   "cell_type": "code",
   "execution_count": 29,
   "metadata": {},
   "outputs": [],
   "source": [
    "# obtaining experiment from a model\n",
    "exp = ModelInputCrashExperiment(model_slice, p = p)"
   ]
  },
  {
   "cell_type": "code",
   "execution_count": 30,
   "metadata": {},
   "outputs": [
    {
     "data": {
      "image/svg+xml": [
       "<svg height=\"191pt\" viewBox=\"0.00 0.00 168.00 191.00\" width=\"168pt\" xmlns=\"http://www.w3.org/2000/svg\" xmlns:xlink=\"http://www.w3.org/1999/xlink\">\n",
       "<g class=\"graph\" id=\"graph0\" transform=\"scale(1 1) rotate(0) translate(4 187)\">\n",
       "<title>G</title>\n",
       "<polygon fill=\"#ffffff\" points=\"-4,4 -4,-187 164,-187 164,4 -4,4\" stroke=\"transparent\"/>\n",
       "<!-- 140017146042632 -->\n",
       "<g class=\"node\" id=\"node1\">\n",
       "<title>140017146042632</title>\n",
       "<polygon fill=\"none\" points=\"0,-146.5 0,-182.5 160,-182.5 160,-146.5 0,-146.5\" stroke=\"#000000\"/>\n",
       "<text fill=\"#000000\" font-family=\"Times,serif\" font-size=\"14.00\" text-anchor=\"middle\" x=\"80\" y=\"-160.8\">input_3: InputLayer</text>\n",
       "</g>\n",
       "<!-- 140017146042688 -->\n",
       "<g class=\"node\" id=\"node2\">\n",
       "<title>140017146042688</title>\n",
       "<polygon fill=\"none\" points=\"9,-73.5 9,-109.5 151,-109.5 151,-73.5 9,-73.5\" stroke=\"#000000\"/>\n",
       "<text fill=\"#000000\" font-family=\"Times,serif\" font-size=\"14.00\" text-anchor=\"middle\" x=\"80\" y=\"-87.8\">Crashes: Lambda</text>\n",
       "</g>\n",
       "<!-- 140017146042632&#45;&gt;140017146042688 -->\n",
       "<g class=\"edge\" id=\"edge1\">\n",
       "<title>140017146042632-&gt;140017146042688</title>\n",
       "<path d=\"M80,-146.4551C80,-138.3828 80,-128.6764 80,-119.6817\" fill=\"none\" stroke=\"#000000\"/>\n",
       "<polygon fill=\"#000000\" points=\"83.5001,-119.5903 80,-109.5904 76.5001,-119.5904 83.5001,-119.5903\" stroke=\"#000000\"/>\n",
       "</g>\n",
       "<!-- 140017146043416 -->\n",
       "<g class=\"node\" id=\"node3\">\n",
       "<title>140017146043416</title>\n",
       "<polygon fill=\"none\" points=\"15,-.5 15,-36.5 145,-36.5 145,-.5 15,-.5\" stroke=\"#000000\"/>\n",
       "<text fill=\"#000000\" font-family=\"Times,serif\" font-size=\"14.00\" text-anchor=\"middle\" x=\"80\" y=\"-14.8\">model_2: Model</text>\n",
       "</g>\n",
       "<!-- 140017146042688&#45;&gt;140017146043416 -->\n",
       "<g class=\"edge\" id=\"edge2\">\n",
       "<title>140017146042688-&gt;140017146043416</title>\n",
       "<path d=\"M80,-73.4551C80,-65.3828 80,-55.6764 80,-46.6817\" fill=\"none\" stroke=\"#000000\"/>\n",
       "<polygon fill=\"#000000\" points=\"83.5001,-46.5903 80,-36.5904 76.5001,-46.5904 83.5001,-46.5903\" stroke=\"#000000\"/>\n",
       "</g>\n",
       "</g>\n",
       "</svg>"
      ],
      "text/plain": [
       "<IPython.core.display.SVG object>"
      ]
     },
     "execution_count": 30,
     "metadata": {},
     "output_type": "execute_result"
    }
   ],
   "source": [
    "# plotting crashing architecture\n",
    "SVG(model_to_dot(exp.model_crashing).create(prog='dot', format='svg'))"
   ]
  },
  {
   "cell_type": "code",
   "execution_count": 31,
   "metadata": {},
   "outputs": [
    {
     "data": {
      "image/svg+xml": [
       "<svg height=\"191pt\" viewBox=\"0.00 0.00 168.00 191.00\" width=\"168pt\" xmlns=\"http://www.w3.org/2000/svg\" xmlns:xlink=\"http://www.w3.org/1999/xlink\">\n",
       "<g class=\"graph\" id=\"graph0\" transform=\"scale(1 1) rotate(0) translate(4 187)\">\n",
       "<title>G</title>\n",
       "<polygon fill=\"#ffffff\" points=\"-4,4 -4,-187 164,-187 164,4 -4,4\" stroke=\"transparent\"/>\n",
       "<!-- 140017146042632 -->\n",
       "<g class=\"node\" id=\"node1\">\n",
       "<title>140017146042632</title>\n",
       "<polygon fill=\"none\" points=\"0,-146.5 0,-182.5 160,-182.5 160,-146.5 0,-146.5\" stroke=\"#000000\"/>\n",
       "<text fill=\"#000000\" font-family=\"Times,serif\" font-size=\"14.00\" text-anchor=\"middle\" x=\"80\" y=\"-160.8\">input_3: InputLayer</text>\n",
       "</g>\n",
       "<!-- 140017146042464 -->\n",
       "<g class=\"node\" id=\"node2\">\n",
       "<title>140017146042464</title>\n",
       "<polygon fill=\"none\" points=\"10,-73.5 10,-109.5 150,-109.5 150,-73.5 10,-73.5\" stroke=\"#000000\"/>\n",
       "<text fill=\"#000000\" font-family=\"Times,serif\" font-size=\"14.00\" text-anchor=\"middle\" x=\"80\" y=\"-87.8\">Identity: Lambda</text>\n",
       "</g>\n",
       "<!-- 140017146042632&#45;&gt;140017146042464 -->\n",
       "<g class=\"edge\" id=\"edge1\">\n",
       "<title>140017146042632-&gt;140017146042464</title>\n",
       "<path d=\"M80,-146.4551C80,-138.3828 80,-128.6764 80,-119.6817\" fill=\"none\" stroke=\"#000000\"/>\n",
       "<polygon fill=\"#000000\" points=\"83.5001,-119.5903 80,-109.5904 76.5001,-119.5904 83.5001,-119.5903\" stroke=\"#000000\"/>\n",
       "</g>\n",
       "<!-- 140017146043416 -->\n",
       "<g class=\"node\" id=\"node3\">\n",
       "<title>140017146043416</title>\n",
       "<polygon fill=\"none\" points=\"15,-.5 15,-36.5 145,-36.5 145,-.5 15,-.5\" stroke=\"#000000\"/>\n",
       "<text fill=\"#000000\" font-family=\"Times,serif\" font-size=\"14.00\" text-anchor=\"middle\" x=\"80\" y=\"-14.8\">model_2: Model</text>\n",
       "</g>\n",
       "<!-- 140017146042464&#45;&gt;140017146043416 -->\n",
       "<g class=\"edge\" id=\"edge2\">\n",
       "<title>140017146042464-&gt;140017146043416</title>\n",
       "<path d=\"M80,-73.4551C80,-65.3828 80,-55.6764 80,-46.6817\" fill=\"none\" stroke=\"#000000\"/>\n",
       "<polygon fill=\"#000000\" points=\"83.5001,-46.5903 80,-36.5904 76.5001,-46.5904 83.5001,-46.5903\" stroke=\"#000000\"/>\n",
       "</g>\n",
       "</g>\n",
       "</svg>"
      ],
      "text/plain": [
       "<IPython.core.display.SVG object>"
      ]
     },
     "execution_count": 31,
     "metadata": {},
     "output_type": "execute_result"
    }
   ],
   "source": [
    "# plotting correct architecture\n",
    "SVG(model_to_dot(exp.model_correct).create(prog='dot', format='svg'))"
   ]
  },
  {
   "cell_type": "code",
   "execution_count": 32,
   "metadata": {},
   "outputs": [],
   "source": [
    "def predict(model, x):\n",
    "    preds = model.predict(x)\n",
    "    result = np.zeros(1000)\n",
    "    preds = model.predict(x)\n",
    "    for i, key in enumerate(to_keep):\n",
    "        result[key] = preds[0][i]\n",
    "    result = result.reshape(-1, 1000)\n",
    "    print('Predicted:', decode_predictions(result, top=3)[0])"
   ]
  },
  {
   "cell_type": "code",
   "execution_count": 36,
   "metadata": {},
   "outputs": [
    {
     "name": "stdout",
     "output_type": "stream",
     "text": [
      "Predicted: [('n02124075', 'Egyptian_cat', 0.10358436405658722), ('n02129165', 'lion', 0.07231560349464417), ('n02127052', 'lynx', 0.06617271155118942)]\n"
     ]
    }
   ],
   "source": [
    "predict(exp.model_crashing, x)"
   ]
  },
  {
   "cell_type": "code",
   "execution_count": 37,
   "metadata": {},
   "outputs": [
    {
     "name": "stdout",
     "output_type": "stream",
     "text": [
      "Predicted: [('n02124075', 'Egyptian_cat', 0.104915089905262), ('n02129165', 'lion', 0.07763002812862396), ('n02127052', 'lynx', 0.06984960287809372)]\n"
     ]
    }
   ],
   "source": [
    "predict(exp.model_correct, x)"
   ]
  },
  {
   "cell_type": "code",
   "execution_count": 38,
   "metadata": {},
   "outputs": [],
   "source": [
    "r = exp.get_bound_b3(x)"
   ]
  },
  {
   "cell_type": "code",
   "execution_count": 39,
   "metadata": {},
   "outputs": [
    {
     "data": {
      "text/plain": [
       "array([-7.1225218e-06, -3.8279309e-06,  3.8466044e-07, -3.0214815e-06,\n",
       "       -3.7422678e-06], dtype=float32)"
      ]
     },
     "execution_count": 39,
     "metadata": {},
     "output_type": "execute_result"
    }
   ],
   "source": [
    "r['mean']"
   ]
  },
  {
   "cell_type": "code",
   "execution_count": 45,
   "metadata": {},
   "outputs": [
    {
     "data": {
      "text/plain": [
       "array([[-4.5405858e-04, -5.6042522e-04, -9.3026331e-04, -3.0546758e-04,\n",
       "        -5.7000030e-05]], dtype=float32)"
      ]
     },
     "execution_count": 45,
     "metadata": {},
     "output_type": "execute_result"
    }
   ],
   "source": [
    "np.mean(exp.compute_error(np.array(x), repetitions = 1000), axis = 1)"
   ]
  },
  {
   "cell_type": "code",
   "execution_count": 46,
   "metadata": {},
   "outputs": [],
   "source": [
    "K = 1000\n",
    "k = 100"
   ]
  },
  {
   "cell_type": "code",
   "execution_count": null,
   "metadata": {},
   "outputs": [
    {
     "name": "stderr",
     "output_type": "stream",
     "text": [
      "  4%|▍         | 4/100 [00:12<04:58,  3.11s/it]"
     ]
    }
   ],
   "source": [
    "datas = [exp.compute_error(np.array(x), repetitions = K) for _ in tqdm(range(k))]"
   ]
  },
  {
   "cell_type": "code",
   "execution_count": 3,
   "metadata": {},
   "outputs": [],
   "source": [
    "fn = 'ConvNetTest-ResNet.pkl'"
   ]
  },
  {
   "cell_type": "code",
   "execution_count": 44,
   "metadata": {
    "deletable": false,
    "editable": false,
    "run_control": {
     "frozen": true
    }
   },
   "outputs": [],
   "source": [
    "pickle.dump(datas, open(fn, 'wb'))"
   ]
  },
  {
   "cell_type": "code",
   "execution_count": 4,
   "metadata": {},
   "outputs": [],
   "source": [
    "datas = pickle.load(open(fn, 'rb'))"
   ]
  },
  {
   "cell_type": "code",
   "execution_count": 15,
   "metadata": {},
   "outputs": [
    {
     "data": {
      "text/plain": [
       "array([[-2.19074500e-04,  3.42124316e-04, -1.05700055e-04,\n",
       "        -9.17126727e-06,  1.58215460e-06]], dtype=float32)"
      ]
     },
     "execution_count": 15,
     "metadata": {},
     "output_type": "execute_result"
    }
   ],
   "source": [
    "np.mean(np.hstack(datas), axis = 1)"
   ]
  },
  {
   "cell_type": "code",
   "execution_count": 42,
   "metadata": {},
   "outputs": [
    {
     "data": {
      "text/plain": [
       "<keras.layers.core.Lambda at 0x7f8824376a90>"
      ]
     },
     "execution_count": 42,
     "metadata": {},
     "output_type": "execute_result"
    }
   ],
   "source": [
    "exp.model_correct.layers[1]"
   ]
  },
  {
   "cell_type": "code",
   "execution_count": 46,
   "metadata": {},
   "outputs": [
    {
     "data": {
      "text/plain": [
       "<tf.Tensor 'input_2:0' shape=(?, 224, 224, 3) dtype=float32>"
      ]
     },
     "execution_count": 46,
     "metadata": {},
     "output_type": "execute_result"
    }
   ],
   "source": [
    "exp.model_correct.layers[0].output"
   ]
  },
  {
   "cell_type": "code",
   "execution_count": null,
   "metadata": {},
   "outputs": [],
   "source": []
  }
 ],
 "metadata": {
  "kernelspec": {
   "display_name": "Python 3",
   "language": "python",
   "name": "python3"
  },
  "language_info": {
   "codemirror_mode": {
    "name": "ipython",
    "version": 3
   },
   "file_extension": ".py",
   "mimetype": "text/x-python",
   "name": "python",
   "nbconvert_exporter": "python",
   "pygments_lexer": "ipython3",
   "version": "3.6.8"
  },
  "varInspector": {
   "cols": {
    "lenName": 16,
    "lenType": 16,
    "lenVar": 40
   },
   "kernels_config": {
    "python": {
     "delete_cmd_postfix": "",
     "delete_cmd_prefix": "del ",
     "library": "var_list.py",
     "varRefreshCmd": "print(var_dic_list())"
    },
    "r": {
     "delete_cmd_postfix": ") ",
     "delete_cmd_prefix": "rm(",
     "library": "var_list.r",
     "varRefreshCmd": "cat(var_dic_list()) "
    }
   },
   "types_to_exclude": [
    "module",
    "function",
    "builtin_function_or_method",
    "instance",
    "_Feature"
   ],
   "window_display": false
  }
 },
 "nbformat": 4,
 "nbformat_minor": 2
}
