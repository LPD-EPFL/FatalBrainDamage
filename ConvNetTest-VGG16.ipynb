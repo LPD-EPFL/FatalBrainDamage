{
 "cells": [
  {
   "cell_type": "code",
   "execution_count": 307,
   "metadata": {},
   "outputs": [
    {
     "name": "stdout",
     "output_type": "stream",
     "text": [
      "The autoreload extension is already loaded. To reload it, use:\n",
      "  %reload_ext autoreload\n"
     ]
    }
   ],
   "source": [
    "%load_ext autoreload\n",
    "%autoreload 2\n",
    "%matplotlib inline\n",
    "\n",
    "# loading keras and FBD experiment...\n",
    "from keras import backend as K\n",
    "K.set_floatx('float32')\n",
    "from helpers import *\n",
    "from experiment import *\n",
    "from matplotlib import pyplot as plt\n",
    "import pickle\n",
    "from tqdm import tqdm\n",
    "import sys\n",
    "import numpy as np\n",
    "\n",
    "# to show the model\n",
    "from IPython.display import SVG\n",
    "from keras.utils.vis_utils import model_to_dot\n",
    "from keras import Model, Input\n",
    "from keras.layers import Activation, InputLayer, Flatten\n",
    "\n",
    "# loading resnet\n",
    "from keras.applications.vgg16 import VGG16\n",
    "from keras.preprocessing import image\n",
    "from keras.applications.vgg16 import preprocess_input, decode_predictions\n",
    "\n",
    "# for softplus\n",
    "from vis.utils.utils import apply_modifications\n",
    "from keras.activations import softplus\n",
    "from keras.utils import CustomObjectScope"
   ]
  },
  {
   "cell_type": "code",
   "execution_count": 308,
   "metadata": {},
   "outputs": [],
   "source": [
    "# creating resnet model\n",
    "model = VGG16(weights = 'imagenet')"
   ]
  },
  {
   "cell_type": "code",
   "execution_count": 309,
   "metadata": {},
   "outputs": [],
   "source": [
    "def softplus10(x):\n",
    "    scaler = 10.0\n",
    "    return softplus(x * scaler) / scaler"
   ]
  },
  {
   "cell_type": "code",
   "execution_count": 310,
   "metadata": {},
   "outputs": [],
   "source": [
    "# replacing ReLU with SoftPlus10\n",
    "for i, layer in enumerate(model.layers):\n",
    "    if hasattr(layer, 'activation'):\n",
    "        if layer.activation.__name__ == 'relu':\n",
    "            layer.activation = softplus10\n",
    "            #print(i)\n",
    "            #print(layer.activation.__code__)"
   ]
  },
  {
   "cell_type": "code",
   "execution_count": 311,
   "metadata": {
    "scrolled": true
   },
   "outputs": [
    {
     "name": "stderr",
     "output_type": "stream",
     "text": [
      "/localhome/volodin/miniconda3/envs/neuronfailure/lib/python3.6/site-packages/keras/engine/saving.py:292: UserWarning: No training configuration found in save file: the model was *not* compiled. Compile it manually.\n",
      "  warnings.warn('No training configuration found in save file: '\n"
     ]
    }
   ],
   "source": [
    "with CustomObjectScope({'softplus10': softplus10}):\n",
    "    model = apply_modifications(model)"
   ]
  },
  {
   "cell_type": "code",
   "execution_count": 312,
   "metadata": {},
   "outputs": [
    {
     "data": {
      "text/plain": [
       "[<keras.engine.input_layer.InputLayer at 0x7f564f891550>,\n",
       " <keras.layers.convolutional.Conv2D at 0x7f564f8915c0>,\n",
       " <keras.layers.convolutional.Conv2D at 0x7f564f891898>,\n",
       " <keras.layers.pooling.MaxPooling2D at 0x7f564f891748>,\n",
       " <keras.layers.convolutional.Conv2D at 0x7f564f891908>,\n",
       " <keras.layers.convolutional.Conv2D at 0x7f564f891a90>,\n",
       " <keras.layers.pooling.MaxPooling2D at 0x7f564f891c18>,\n",
       " <keras.layers.convolutional.Conv2D at 0x7f564f891da0>,\n",
       " <keras.layers.convolutional.Conv2D at 0x7f564f891e48>,\n",
       " <keras.layers.convolutional.Conv2D at 0x7f564f895198>,\n",
       " <keras.layers.pooling.MaxPooling2D at 0x7f564f895320>,\n",
       " <keras.layers.convolutional.Conv2D at 0x7f564f8953c8>,\n",
       " <keras.layers.convolutional.Conv2D at 0x7f564f895550>,\n",
       " <keras.layers.convolutional.Conv2D at 0x7f564f8956d8>,\n",
       " <keras.layers.pooling.MaxPooling2D at 0x7f564f895860>,\n",
       " <keras.layers.convolutional.Conv2D at 0x7f564f895908>,\n",
       " <keras.layers.convolutional.Conv2D at 0x7f564f895a90>,\n",
       " <keras.layers.convolutional.Conv2D at 0x7f564f895c18>,\n",
       " <keras.layers.pooling.MaxPooling2D at 0x7f564f895da0>,\n",
       " <keras.layers.core.Flatten at 0x7f564f895e48>,\n",
       " <keras.layers.core.Dense at 0x7f564f895eb8>,\n",
       " <keras.layers.core.Dense at 0x7f564f89b048>,\n",
       " <keras.layers.core.Dense at 0x7f564f89b198>]"
      ]
     },
     "execution_count": 312,
     "metadata": {},
     "output_type": "execute_result"
    }
   ],
   "source": [
    "model.layers"
   ]
  },
  {
   "cell_type": "code",
   "execution_count": 314,
   "metadata": {},
   "outputs": [
    {
     "name": "stdout",
     "output_type": "stream",
     "text": [
      "Lmax 22 l -1\n"
     ]
    }
   ],
   "source": [
    "# works for L0 (output), does not work after first convolutional layer. Why? Is it because of MaxPooling?\n",
    "l = -1\n",
    "print('Lmax %d l %d' % (len(model.layers) - 1, l))\n",
    "if l == -1:\n",
    "    model_cut = Model(inputs = model.inputs, outputs = model.layers[l].output)\n",
    "else:\n",
    "    model_cut = Model(inputs = model.inputs, outputs = Dense(1, kernel_initializer = 'ones')(Flatten()(model.layers[l].output)))"
   ]
  },
  {
   "cell_type": "code",
   "execution_count": 337,
   "metadata": {},
   "outputs": [],
   "source": [
    "# downscale image side\n",
    "d = 60\n",
    "\n",
    "# new (small) input\n",
    "input_tensor = Input(shape = (d, d, 3))\n",
    "\n",
    "# new model taking small images and upscaling them\n",
    "out = model_cut(Lambda(lambda x : tf.image.resize_images(x, (224, 224)))(input_tensor))\n",
    "model_upscale = Model(inputs = input_tensor, outputs = out)"
   ]
  },
  {
   "cell_type": "code",
   "execution_count": 338,
   "metadata": {},
   "outputs": [
    {
     "data": {
      "image/png": "[encoded data removed]",
      "text/plain": [
       "<Figure size 432x288 with 1 Axes>"
      ]
     },
     "metadata": {
      "needs_background": "light"
     },
     "output_type": "display_data"
    }
   ],
   "source": [
    "# getting picture of a cat\n",
    "img_path = 'cat.jpg'\n",
    "img = image.load_img(img_path, target_size=(d, d))\n",
    "plt.imshow(img)\n",
    "x = image.img_to_array(img)\n",
    "x = np.expand_dims(x, axis=0)\n",
    "#x = preprocess_input(x)"
   ]
  },
  {
   "cell_type": "code",
   "execution_count": 340,
   "metadata": {},
   "outputs": [
    {
     "name": "stdout",
     "output_type": "stream",
     "text": [
      "[('n02127052', 'lynx', 0.76147413), ('n02124075', 'Egyptian_cat', 0.12588786), ('n03958227', 'plastic_bag', 0.019392902)]\n"
     ]
    }
   ],
   "source": [
    "if l == -1:\n",
    "    print(decode_predictions(model_upscale.predict(x), top=3)[0])\n",
    "else:\n",
    "    print(model_upscale.predict(x))"
   ]
  },
  {
   "cell_type": "code",
   "execution_count": 341,
   "metadata": {},
   "outputs": [],
   "source": [
    "# probability of input failure\n",
    "p = 0.0001"
   ]
  },
  {
   "cell_type": "code",
   "execution_count": 342,
   "metadata": {},
   "outputs": [
    {
     "data": {
      "text/plain": [
       "(10800, 1.08)"
      ]
     },
     "execution_count": 342,
     "metadata": {},
     "output_type": "execute_result"
    }
   ],
   "source": [
    "# calculating np\n",
    "n = np.prod(list(map(int, model_upscale.inputs[0].shape[1:])))\n",
    "n, n * p"
   ]
  },
  {
   "cell_type": "code",
   "execution_count": 343,
   "metadata": {},
   "outputs": [],
   "source": [
    "to_keep = np.array(np.argsort(-model_upscale.predict(x))[0][:5], dtype = np.int32)"
   ]
  },
  {
   "cell_type": "code",
   "execution_count": 344,
   "metadata": {},
   "outputs": [],
   "source": [
    "def SliceLayer(to_keep):\n",
    "    \"\"\" Keep only these components in the layer \"\"\"\n",
    "    return Lambda(lambda x : tf.gather(x, to_keep, axis = 1))"
   ]
  },
  {
   "cell_type": "code",
   "execution_count": 345,
   "metadata": {},
   "outputs": [
    {
     "data": {
      "text/plain": [
       "array([287, 285, 728, 279, 281], dtype=int32)"
      ]
     },
     "execution_count": 345,
     "metadata": {},
     "output_type": "execute_result"
    }
   ],
   "source": [
    "to_keep"
   ]
  },
  {
   "cell_type": "code",
   "execution_count": 346,
   "metadata": {},
   "outputs": [],
   "source": [
    "model_slice = Model(inputs = model_upscale.input, outputs = SliceLayer(to_keep)(model_upscale.output))"
   ]
  },
  {
   "cell_type": "code",
   "execution_count": 347,
   "metadata": {},
   "outputs": [],
   "source": [
    "class ModelInputCrashExperiment(Experiment):\n",
    "    def __init__(self, model, p=0.01, name='exp'):\n",
    "        \"\"\" Get an experiment based on a model, assuming input failures\n",
    "            p failures at input\n",
    "        \"\"\"\n",
    "\n",
    "        # saving p_inference\n",
    "        self.p_inference = [0, p]\n",
    "        \n",
    "        in_shape = model.layers[0].input.shape[1:]\n",
    "        out_shape = model.layers[-1].output.shape[1:]\n",
    "        assert len(out_shape) == 1, \"Only support 1D output\"\n",
    "        out_N = int(out_shape[0])\n",
    "\n",
    "        # rewrite using https://github.com/raghakot/keras-vis/issues/37\n",
    "        self.N = [0, 0, out_N]\n",
    "        \n",
    "        def IdentityLayer(input_shape=None):\n",
    "            \"\"\" A layer which does nothing \"\"\"\n",
    "            return Lambda(\n",
    "                lambda x: x + 0, input_shape=input_shape, name='Identity')\n",
    "\n",
    "        # creating correct and crashing models\n",
    "        inp = Input(shape = in_shape)\n",
    "        self.model_correct  = Model(inputs = inp, outputs = model(IdentityLayer     (   input_shape = in_shape)(inp)))\n",
    "        self.model_crashing = Model(inputs = inp, outputs = model(IndependentCrashes(p, input_shape = in_shape)(inp)))"
   ]
  },
  {
   "cell_type": "code",
   "execution_count": 348,
   "metadata": {},
   "outputs": [],
   "source": [
    "# obtaining experiment from a model\n",
    "exp = ModelInputCrashExperiment(model_slice, p = p)"
   ]
  },
  {
   "cell_type": "code",
   "execution_count": 349,
   "metadata": {},
   "outputs": [
    {
     "data": {
      "image/svg+xml": [
       "<svg height=\"191pt\" viewBox=\"0.00 0.00 177.00 191.00\" width=\"177pt\" xmlns=\"http://www.w3.org/2000/svg\" xmlns:xlink=\"http://www.w3.org/1999/xlink\">\n",
       "<g class=\"graph\" id=\"graph0\" transform=\"scale(1 1) rotate(0) translate(4 187)\">\n",
       "<title>G</title>\n",
       "<polygon fill=\"#ffffff\" points=\"-4,4 -4,-187 173,-187 173,4 -4,4\" stroke=\"transparent\"/>\n",
       "<!-- 140008670565432 -->\n",
       "<g class=\"node\" id=\"node1\">\n",
       "<title>140008670565432</title>\n",
       "<polygon fill=\"none\" points=\"0,-146.5 0,-182.5 169,-182.5 169,-146.5 0,-146.5\" stroke=\"#000000\"/>\n",
       "<text fill=\"#000000\" font-family=\"Times,serif\" font-size=\"14.00\" text-anchor=\"middle\" x=\"84.5\" y=\"-160.8\">input_30: InputLayer</text>\n",
       "</g>\n",
       "<!-- 140008670797552 -->\n",
       "<g class=\"node\" id=\"node2\">\n",
       "<title>140008670797552</title>\n",
       "<polygon fill=\"none\" points=\"13.5,-73.5 13.5,-109.5 155.5,-109.5 155.5,-73.5 13.5,-73.5\" stroke=\"#000000\"/>\n",
       "<text fill=\"#000000\" font-family=\"Times,serif\" font-size=\"14.00\" text-anchor=\"middle\" x=\"84.5\" y=\"-87.8\">Crashes: Lambda</text>\n",
       "</g>\n",
       "<!-- 140008670565432&#45;&gt;140008670797552 -->\n",
       "<g class=\"edge\" id=\"edge1\">\n",
       "<title>140008670565432-&gt;140008670797552</title>\n",
       "<path d=\"M84.5,-146.4551C84.5,-138.3828 84.5,-128.6764 84.5,-119.6817\" fill=\"none\" stroke=\"#000000\"/>\n",
       "<polygon fill=\"#000000\" points=\"88.0001,-119.5903 84.5,-109.5904 81.0001,-119.5904 88.0001,-119.5903\" stroke=\"#000000\"/>\n",
       "</g>\n",
       "<!-- 140008670567000 -->\n",
       "<g class=\"node\" id=\"node3\">\n",
       "<title>140008670567000</title>\n",
       "<polygon fill=\"none\" points=\"15,-.5 15,-36.5 154,-36.5 154,-.5 15,-.5\" stroke=\"#000000\"/>\n",
       "<text fill=\"#000000\" font-family=\"Times,serif\" font-size=\"14.00\" text-anchor=\"middle\" x=\"84.5\" y=\"-14.8\">model_50: Model</text>\n",
       "</g>\n",
       "<!-- 140008670797552&#45;&gt;140008670567000 -->\n",
       "<g class=\"edge\" id=\"edge2\">\n",
       "<title>140008670797552-&gt;140008670567000</title>\n",
       "<path d=\"M84.5,-73.4551C84.5,-65.3828 84.5,-55.6764 84.5,-46.6817\" fill=\"none\" stroke=\"#000000\"/>\n",
       "<polygon fill=\"#000000\" points=\"88.0001,-46.5903 84.5,-36.5904 81.0001,-46.5904 88.0001,-46.5903\" stroke=\"#000000\"/>\n",
       "</g>\n",
       "</g>\n",
       "</svg>"
      ],
      "text/plain": [
       "<IPython.core.display.SVG object>"
      ]
     },
     "execution_count": 349,
     "metadata": {},
     "output_type": "execute_result"
    }
   ],
   "source": [
    "# plotting crashing architecture\n",
    "SVG(model_to_dot(exp.model_crashing).create(prog='dot', format='svg'))"
   ]
  },
  {
   "cell_type": "code",
   "execution_count": 350,
   "metadata": {},
   "outputs": [
    {
     "data": {
      "image/svg+xml": [
       "<svg height=\"191pt\" viewBox=\"0.00 0.00 177.00 191.00\" width=\"177pt\" xmlns=\"http://www.w3.org/2000/svg\" xmlns:xlink=\"http://www.w3.org/1999/xlink\">\n",
       "<g class=\"graph\" id=\"graph0\" transform=\"scale(1 1) rotate(0) translate(4 187)\">\n",
       "<title>G</title>\n",
       "<polygon fill=\"#ffffff\" points=\"-4,4 -4,-187 173,-187 173,4 -4,4\" stroke=\"transparent\"/>\n",
       "<!-- 140008670565432 -->\n",
       "<g class=\"node\" id=\"node1\">\n",
       "<title>140008670565432</title>\n",
       "<polygon fill=\"none\" points=\"0,-146.5 0,-182.5 169,-182.5 169,-146.5 0,-146.5\" stroke=\"#000000\"/>\n",
       "<text fill=\"#000000\" font-family=\"Times,serif\" font-size=\"14.00\" text-anchor=\"middle\" x=\"84.5\" y=\"-160.8\">input_30: InputLayer</text>\n",
       "</g>\n",
       "<!-- 140008670794976 -->\n",
       "<g class=\"node\" id=\"node2\">\n",
       "<title>140008670794976</title>\n",
       "<polygon fill=\"none\" points=\"14.5,-73.5 14.5,-109.5 154.5,-109.5 154.5,-73.5 14.5,-73.5\" stroke=\"#000000\"/>\n",
       "<text fill=\"#000000\" font-family=\"Times,serif\" font-size=\"14.00\" text-anchor=\"middle\" x=\"84.5\" y=\"-87.8\">Identity: Lambda</text>\n",
       "</g>\n",
       "<!-- 140008670565432&#45;&gt;140008670794976 -->\n",
       "<g class=\"edge\" id=\"edge1\">\n",
       "<title>140008670565432-&gt;140008670794976</title>\n",
       "<path d=\"M84.5,-146.4551C84.5,-138.3828 84.5,-128.6764 84.5,-119.6817\" fill=\"none\" stroke=\"#000000\"/>\n",
       "<polygon fill=\"#000000\" points=\"88.0001,-119.5903 84.5,-109.5904 81.0001,-119.5904 88.0001,-119.5903\" stroke=\"#000000\"/>\n",
       "</g>\n",
       "<!-- 140008670567000 -->\n",
       "<g class=\"node\" id=\"node3\">\n",
       "<title>140008670567000</title>\n",
       "<polygon fill=\"none\" points=\"15,-.5 15,-36.5 154,-36.5 154,-.5 15,-.5\" stroke=\"#000000\"/>\n",
       "<text fill=\"#000000\" font-family=\"Times,serif\" font-size=\"14.00\" text-anchor=\"middle\" x=\"84.5\" y=\"-14.8\">model_50: Model</text>\n",
       "</g>\n",
       "<!-- 140008670794976&#45;&gt;140008670567000 -->\n",
       "<g class=\"edge\" id=\"edge2\">\n",
       "<title>140008670794976-&gt;140008670567000</title>\n",
       "<path d=\"M84.5,-73.4551C84.5,-65.3828 84.5,-55.6764 84.5,-46.6817\" fill=\"none\" stroke=\"#000000\"/>\n",
       "<polygon fill=\"#000000\" points=\"88.0001,-46.5903 84.5,-36.5904 81.0001,-46.5904 88.0001,-46.5903\" stroke=\"#000000\"/>\n",
       "</g>\n",
       "</g>\n",
       "</svg>"
      ],
      "text/plain": [
       "<IPython.core.display.SVG object>"
      ]
     },
     "execution_count": 350,
     "metadata": {},
     "output_type": "execute_result"
    }
   ],
   "source": [
    "# plotting correct architecture\n",
    "SVG(model_to_dot(exp.model_correct).create(prog='dot', format='svg'))"
   ]
  },
  {
   "cell_type": "code",
   "execution_count": 351,
   "metadata": {},
   "outputs": [],
   "source": [
    "def predict(model, x):\n",
    "    preds = model.predict(x)\n",
    "    result = np.zeros(1000)\n",
    "    preds = model.predict(x)\n",
    "    for i, key in enumerate(to_keep):\n",
    "        result[key] = preds[0][i]\n",
    "    result = result.reshape(-1, 1000)\n",
    "    print('Predicted:', decode_predictions(result, top=3)[0])"
   ]
  },
  {
   "cell_type": "code",
   "execution_count": 352,
   "metadata": {},
   "outputs": [
    {
     "name": "stdout",
     "output_type": "stream",
     "text": [
      "Predicted: [('n02127052', 'lynx', 0.7690790891647339), ('n02124075', 'Egyptian_cat', 0.12496111541986465), ('n03958227', 'plastic_bag', 0.019616752862930298)]\n"
     ]
    }
   ],
   "source": [
    "predict(exp.model_crashing, x)"
   ]
  },
  {
   "cell_type": "code",
   "execution_count": 353,
   "metadata": {},
   "outputs": [
    {
     "name": "stdout",
     "output_type": "stream",
     "text": [
      "Predicted: [('n02127052', 'lynx', 0.7614741325378418), ('n02124075', 'Egyptian_cat', 0.12588785588741302), ('n03958227', 'plastic_bag', 0.01939290203154087)]\n"
     ]
    }
   ],
   "source": [
    "predict(exp.model_correct, x)"
   ]
  },
  {
   "cell_type": "code",
   "execution_count": 354,
   "metadata": {},
   "outputs": [],
   "source": [
    "r = exp.get_bound_b3(x)"
   ]
  },
  {
   "cell_type": "code",
   "execution_count": 355,
   "metadata": {},
   "outputs": [
    {
     "data": {
      "text/plain": [
       "array([-4.0127397e-05,  1.0157621e-05,  3.5976223e-06,  3.2561968e-06,\n",
       "        3.0996734e-06], dtype=float32)"
      ]
     },
     "execution_count": 355,
     "metadata": {},
     "output_type": "execute_result"
    }
   ],
   "source": [
    "r['mean']"
   ]
  },
  {
   "cell_type": "code",
   "execution_count": 360,
   "metadata": {},
   "outputs": [
    {
     "data": {
      "text/plain": [
       "array([[-0.01934077,  0.00588926,  0.00480485, -0.00059335,  0.00091156]],\n",
       "      dtype=float32)"
      ]
     },
     "execution_count": 360,
     "metadata": {},
     "output_type": "execute_result"
    }
   ],
   "source": [
    "np.mean(exp.compute_error(x, repetitions = 1000), axis = 1)"
   ]
  },
  {
   "cell_type": "code",
   "execution_count": 46,
   "metadata": {},
   "outputs": [],
   "source": [
    "K = 1000\n",
    "k = 100"
   ]
  },
  {
   "cell_type": "code",
   "execution_count": 47,
   "metadata": {},
   "outputs": [
    {
     "name": "stderr",
     "output_type": "stream",
     "text": [
      "100%|██████████| 100/100 [05:13<00:00,  3.14s/it]\n"
     ]
    }
   ],
   "source": [
    "datas = [exp.compute_error(np.array(x), repetitions = K) for _ in tqdm(range(k))]"
   ]
  },
  {
   "cell_type": "code",
   "execution_count": 3,
   "metadata": {},
   "outputs": [],
   "source": [
    "fn = 'ConvNetTest-ResNet.pkl'"
   ]
  },
  {
   "cell_type": "code",
   "execution_count": 44,
   "metadata": {
    "deletable": false,
    "editable": false,
    "run_control": {
     "frozen": true
    }
   },
   "outputs": [],
   "source": [
    "pickle.dump(datas, open(fn, 'wb'))"
   ]
  },
  {
   "cell_type": "code",
   "execution_count": 4,
   "metadata": {},
   "outputs": [],
   "source": [
    "datas = pickle.load(open(fn, 'rb'))"
   ]
  },
  {
   "cell_type": "code",
   "execution_count": 48,
   "metadata": {},
   "outputs": [
    {
     "data": {
      "text/plain": [
       "array([[-3.7679126e-04, -9.2434289e-04, -7.7110069e-04, -2.9466470e-04,\n",
       "         3.6037607e-05]], dtype=float32)"
      ]
     },
     "execution_count": 48,
     "metadata": {},
     "output_type": "execute_result"
    }
   ],
   "source": [
    "np.mean(np.hstack(datas), axis = 1)"
   ]
  },
  {
   "cell_type": "code",
   "execution_count": 42,
   "metadata": {},
   "outputs": [
    {
     "data": {
      "text/plain": [
       "<keras.layers.core.Lambda at 0x7f8824376a90>"
      ]
     },
     "execution_count": 42,
     "metadata": {},
     "output_type": "execute_result"
    }
   ],
   "source": [
    "exp.model_correct.layers[1]"
   ]
  },
  {
   "cell_type": "code",
   "execution_count": 46,
   "metadata": {},
   "outputs": [
    {
     "data": {
      "text/plain": [
       "<tf.Tensor 'input_2:0' shape=(?, 224, 224, 3) dtype=float32>"
      ]
     },
     "execution_count": 46,
     "metadata": {},
     "output_type": "execute_result"
    }
   ],
   "source": [
    "exp.model_correct.layers[0].output"
   ]
  },
  {
   "cell_type": "code",
   "execution_count": 306,
   "metadata": {},
   "outputs": [],
   "source": []
  },
  {
   "cell_type": "code",
   "execution_count": null,
   "metadata": {},
   "outputs": [],
   "source": []
  }
 ],
 "metadata": {
  "kernelspec": {
   "display_name": "Python 3",
   "language": "python",
   "name": "python3"
  },
  "language_info": {
   "codemirror_mode": {
    "name": "ipython",
    "version": 3
   },
   "file_extension": ".py",
   "mimetype": "text/x-python",
   "name": "python",
   "nbconvert_exporter": "python",
   "pygments_lexer": "ipython3",
   "version": "3.6.8"
  },
  "varInspector": {
   "cols": {
    "lenName": 16,
    "lenType": 16,
    "lenVar": 40
   },
   "kernels_config": {
    "python": {
     "delete_cmd_postfix": "",
     "delete_cmd_prefix": "del ",
     "library": "var_list.py",
     "varRefreshCmd": "print(var_dic_list())"
    },
    "r": {
     "delete_cmd_postfix": ") ",
     "delete_cmd_prefix": "rm(",
     "library": "var_list.r",
     "varRefreshCmd": "cat(var_dic_list()) "
    }
   },
   "types_to_exclude": [
    "module",
    "function",
    "builtin_function_or_method",
    "instance",
    "_Feature"
   ],
   "window_display": false
  }
 },
 "nbformat": 4,
 "nbformat_minor": 2
}
