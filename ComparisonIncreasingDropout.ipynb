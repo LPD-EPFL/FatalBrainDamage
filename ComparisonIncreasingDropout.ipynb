{
 "cells": [
  {
   "cell_type": "code",
   "execution_count": 8,
   "metadata": {
    "ExecuteTime": {
     "end_time": "2019-01-05T17:37:48.238493Z",
     "start_time": "2019-01-05T17:37:48.223469Z"
    }
   },
   "outputs": [
    {
     "name": "stdout",
     "output_type": "stream",
     "text": [
      "The autoreload extension is already loaded. To reload it, use:\n",
      "  %reload_ext autoreload\n"
     ]
    }
   ],
   "source": [
    "# initialization\n",
    "%load_ext autoreload\n",
    "%autoreload 2\n",
    "%matplotlib inline\n",
    "from experiment_train import *\n",
    "from experiment_datasets import *\n",
    "from helpers import *"
   ]
  },
  {
   "cell_type": "markdown",
   "metadata": {},
   "source": [
    "### Steps:\n",
    "1. Train $M$ networks for each dropout on training $p\\in[0,1]$\n",
    "2. Get mean MAE on test/train for crash/nocrash. How does it behave? **Read papers where Dropout actually works for simple datasets. Do they use scaled or unscaled dropout?**\n",
    "3. Get v1, v2, v3, v4 for each of the networks\n",
    "4. Compute the rank loss if the networks were ordered by these bounds"
   ]
  },
  {
   "cell_type": "code",
   "execution_count": 38,
   "metadata": {
    "ExecuteTime": {
     "end_time": "2019-01-05T18:02:43.090987Z",
     "start_time": "2019-01-05T18:02:43.076776Z"
    }
   },
   "outputs": [],
   "source": [
    "# network configuration\n",
    "N = [100, 50, 50, 30]\n",
    "\n",
    "def get_p_arr(p):\n",
    "    \"\"\" p array with failure on the first layer \"\"\"\n",
    "    return [0, p]  + [0] * len(N)\n",
    "\n",
    "# prob. of failure at inference\n",
    "p_inference = get_p_arr(0.1)\n",
    "\n",
    "# prob. of failure at train\n",
    "p_trains = np.linspace(0, 0.5, 5)\n",
    "\n",
    "# Lips. coeff\n",
    "KLips = 1.\n",
    "\n",
    "# activation function\n",
    "activation = 'sigmoid'\n",
    "\n",
    "# number of repeats for error estimation\n",
    "# see below for explanation\n",
    "repetitions = 10\n",
    "\n",
    "# number of runs for each p\n",
    "runs = 20\n",
    "\n",
    "def get_dataset():\n",
    "    (x_train, y_train), (x_test, y_test) = boston_housing.load_data()\n",
    "    return x_train, y_train, x_test, y_test"
   ]
  },
  {
   "cell_type": "code",
   "execution_count": 39,
   "metadata": {
    "ExecuteTime": {
     "end_time": "2019-01-05T18:02:43.554431Z",
     "start_time": "2019-01-05T18:02:43.521834Z"
    }
   },
   "outputs": [],
   "source": [
    "def get_results(p):\n",
    "    # obtaining the distribution after 10 epochs\n",
    "    results = []\n",
    "    \n",
    "    # current prob. of failure array\n",
    "    p_train = get_p_arr(p)\n",
    "    \n",
    "    def unravel(name, data):\n",
    "        return {name + '_train': data['train'], name + '_test': data['test']}\n",
    "    \n",
    "    for _ in tqdm(range(runs)):\n",
    "        exp = TrainExperiment(*get_dataset(), N = N, p_inference = p_inference, p_train = p_train, KLips = KLips, epochs = 10,\n",
    "                                      activation = activation, reg_type = None, reg_coeff = 0, do_print = False,\n",
    "                                      name = 'experiment_dropout', seed = None, batch_size = 10)\n",
    "        \n",
    "        results += [{**unravel('correct_mae', exp.get_mae_correct()),\n",
    "                     **unravel('crashing_mae', exp.get_mae_crash(repetitions = repetitions)),\n",
    "                     'v2_var': np.mean(exp.get_bound_v2(exp.x_train)['std'] ** 2),\n",
    "                     'v2_mean': np.mean(exp.get_bound_v2(exp.x_train)['mean']),\n",
    "                     \n",
    "                     'v3_var': np.mean(exp.get_bound_v3(exp.x_train)['std'] ** 2),\n",
    "                     'v3_mean': np.mean(exp.get_bound_v3(exp.x_train)['mean']),\n",
    "                               \n",
    "                     'v4_var': np.mean(exp.get_bound_v4(exp.x_train)['std'] ** 2),\n",
    "                     'v4_mean': np.mean(exp.get_bound_v4(exp.x_train)['mean']),\n",
    "                    }]\n",
    "        K.clear_session()\n",
    "        \n",
    "    # list of all keys\n",
    "    keys = list(results[0].keys())\n",
    "    \n",
    "    # return results\n",
    "    return {key: [value[key] for value in results] for key in keys}\n",
    "\n",
    "def process_results_single(results):\n",
    "    for key, value in results.items():\n",
    "        plt.figure()\n",
    "        plt.title('%s: %.3f +- %.3f med %.3f' % (key, np.mean(value), np.std(value), np.median(value)))\n",
    "        plt.hist(value)\n",
    "        plt.xlabel(key)\n",
    "        plt.show()"
   ]
  },
  {
   "cell_type": "code",
   "execution_count": 8,
   "metadata": {
    "deletable": false,
    "editable": false,
    "run_control": {
     "frozen": true
    }
   },
   "outputs": [],
   "source": [
    "exp = TrainExperiment(*get_dataset(), N = N, p_inference = p_inference, p_train = get_p_arr(0.01), KLips = KLips, epochs = 10,\n",
    "                                      activation = activation, reg_type = None, reg_coeff = 0, do_print = False,\n",
    "                                      name = 'experiment_dropout', seed = None, batch_size = 100)"
   ]
  },
  {
   "cell_type": "code",
   "execution_count": 19,
   "metadata": {
    "deletable": false,
    "editable": false,
    "run_control": {
     "frozen": true
    }
   },
   "outputs": [],
   "source": [
    "# array of repetitions values\n",
    "rs = np.arange(30)[1:]"
   ]
  },
  {
   "cell_type": "code",
   "execution_count": null,
   "metadata": {
    "ExecuteTime": {
     "end_time": "2019-01-05T17:34:08.654323Z",
     "start_time": "2019-01-05T17:34:08.633327Z"
    },
    "deletable": false,
    "editable": false,
    "run_control": {
     "frozen": true
    }
   },
   "outputs": [],
   "source": [
    "# obtaining accuracy for each repetition parameter\n",
    "results = [exp.get_mae_crash(repetitions = r) for r in tqdm(rs)]"
   ]
  },
  {
   "cell_type": "code",
   "execution_count": 30,
   "metadata": {
    "deletable": false,
    "editable": false,
    "run_control": {
     "frozen": true
    },
    "scrolled": true
   },
   "outputs": [
    {
     "data": {
      "image/png": "[encoded data removed]",
      "text/plain": [
       "<Figure size 432x288 with 1 Axes>"
      ]
     },
     "metadata": {
      "needs_background": "light"
     },
     "output_type": "display_data"
    }
   ],
   "source": [
    "plt.figure()\n",
    "plt.title('Crash MAE and repetitions')\n",
    "plt.plot([x['train'] for x in results], label = 'train')\n",
    "plt.plot([x['test'] for x in results], label = 'test')\n",
    "plt.plot(range(len(results)), [exp.get_mae_correct()['train']] * len(results), label = 'train_correct')\n",
    "plt.plot(range(len(results)), [exp.get_mae_correct()['test']] * len(results), label = 'test_correct')\n",
    "plt.legend()\n",
    "plt.show()"
   ]
  },
  {
   "cell_type": "code",
   "execution_count": 11,
   "metadata": {
    "ExecuteTime": {
     "end_time": "2019-01-05T17:38:33.658427Z",
     "start_time": "2019-01-05T17:38:33.642392Z"
    },
    "deletable": false,
    "editable": false,
    "run_control": {
     "frozen": true
    }
   },
   "outputs": [],
   "source": [
    "# 10 repetitions is enough"
   ]
  },
  {
   "cell_type": "code",
   "execution_count": 40,
   "metadata": {
    "ExecuteTime": {
     "end_time": "2019-01-05T18:08:12.856933Z",
     "start_time": "2019-01-05T18:02:46.795583Z"
    }
   },
   "outputs": [
    {
     "name": "stderr",
     "output_type": "stream",
     "text": [
      "100%|██████████| 20/20 [01:07<00:00,  3.49s/it]\n",
      "100%|██████████| 20/20 [01:08<00:00,  3.22s/it]\n",
      "100%|██████████| 20/20 [01:03<00:00,  3.13s/it]\n",
      "100%|██████████| 20/20 [01:03<00:00,  3.18s/it]\n",
      "100%|██████████| 20/20 [01:03<00:00,  3.17s/it]\n"
     ]
    }
   ],
   "source": [
    "# obtaining results\n",
    "results_array = [get_results(p) for p in p_trains]"
   ]
  },
  {
   "cell_type": "code",
   "execution_count": 37,
   "metadata": {
    "ExecuteTime": {
     "end_time": "2019-01-05T18:02:37.056603Z",
     "start_time": "2019-01-05T18:02:36.945660Z"
    }
   },
   "outputs": [
    {
     "data": {
      "text/plain": [
       "<matplotlib.legend.Legend at 0x7f9f4d97d8d0>"
      ]
     },
     "execution_count": 37,
     "metadata": {},
     "output_type": "execute_result"
    },
    {
     "data": {
      "image/png": "[encoded data removed]",
      "text/plain": [
       "<Figure size 432x288 with 1 Axes>"
      ]
     },
     "metadata": {
      "needs_background": "light"
     },
     "output_type": "display_data"
    }
   ],
   "source": [
    "plt.figure()\n",
    "\n",
    "def plot_quantity(results_array, name):\n",
    "    means = np.array([np.mean(r[name]) for r in results_array])\n",
    "    stds  = [np.std(r[name]) for r in results_array]\n",
    "    plt.plot(p_trains, means, label = name)\n",
    "    plt.fill_between(p_trains, means - stds, means + stds, alpha = 0.5)\n",
    "\n",
    "plot_quantity(results_array, 'correct_mae_train')\n",
    "plot_quantity(results_array, 'crashing_mae_train')\n",
    "plt.legend()"
   ]
  },
  {
   "cell_type": "code",
   "execution_count": 23,
   "metadata": {
    "ExecuteTime": {
     "end_time": "2019-01-05T17:48:30.511462Z",
     "start_time": "2019-01-05T17:48:30.423001Z"
    }
   },
   "outputs": [
    {
     "data": {
      "text/plain": [
       "<matplotlib.legend.Legend at 0x7f9ff01e4cf8>"
      ]
     },
     "execution_count": 23,
     "metadata": {},
     "output_type": "execute_result"
    },
    {
     "data": {
      "image/png": "[encoded data removed]",
      "text/plain": [
       "<Figure size 432x288 with 1 Axes>"
      ]
     },
     "metadata": {
      "needs_background": "light"
     },
     "output_type": "display_data"
    }
   ],
   "source": [
    "plt.figure()\n",
    "plt.plot(p_trains, [np.mean(r['v4_var']) for r in results_array], label = 'v4_var')\n",
    "#plt.plot(p_trains, [np.mean(np.abs(r['v4_mean'])) for r in results_array], label = 'v4_mean')\n",
    "plt.legend()"
   ]
  },
  {
   "cell_type": "code",
   "execution_count": 24,
   "metadata": {
    "ExecuteTime": {
     "end_time": "2019-01-05T17:48:33.889262Z",
     "start_time": "2019-01-05T17:48:33.790309Z"
    }
   },
   "outputs": [
    {
     "data": {
      "text/plain": [
       "<matplotlib.legend.Legend at 0x7f9f94449a90>"
      ]
     },
     "execution_count": 24,
     "metadata": {},
     "output_type": "execute_result"
    },
    {
     "data": {
      "image/png": "[encoded data removed]",
      "text/plain": [
       "<Figure size 432x288 with 1 Axes>"
      ]
     },
     "metadata": {
      "needs_background": "light"
     },
     "output_type": "display_data"
    }
   ],
   "source": [
    "plt.figure()\n",
    "plt.plot(p_trains, [np.mean(r['v3_var']) for r in results_array], label = 'v3_var')\n",
    "#plt.plot(p_trains, [np.mean(np.abs(r['v3_mean'])) for r in results_array], label = 'v3_mean')\n",
    "plt.legend()"
   ]
  },
  {
   "cell_type": "code",
   "execution_count": 25,
   "metadata": {
    "ExecuteTime": {
     "end_time": "2019-01-05T17:48:35.534350Z",
     "start_time": "2019-01-05T17:48:35.436430Z"
    }
   },
   "outputs": [
    {
     "data": {
      "text/plain": [
       "<matplotlib.legend.Legend at 0x7f9ff055b630>"
      ]
     },
     "execution_count": 25,
     "metadata": {},
     "output_type": "execute_result"
    },
    {
     "data": {
      "image/png": "[encoded data removed]",
      "text/plain": [
       "<Figure size 432x288 with 1 Axes>"
      ]
     },
     "metadata": {
      "needs_background": "light"
     },
     "output_type": "display_data"
    }
   ],
   "source": [
    "plt.figure()\n",
    "plt.plot(p_trains, [np.mean(r['v2_var']) for r in results_array], label = 'v2_var')\n",
    "#plt.plot(p_trains, [np.mean(np.abs(r['v2_mean'])) for r in results_array], label = 'v2_mean')\n",
    "plt.legend()"
   ]
  },
  {
   "cell_type": "code",
   "execution_count": null,
   "metadata": {},
   "outputs": [],
   "source": []
  }
 ],
 "metadata": {
  "kernelspec": {
   "display_name": "Python 3",
   "language": "python",
   "name": "python3"
  },
  "notify_time": "5",
  "varInspector": {
   "cols": {
    "lenName": 16,
    "lenType": 16,
    "lenVar": 40
   },
   "kernels_config": {
    "python": {
     "delete_cmd_postfix": "",
     "delete_cmd_prefix": "del ",
     "library": "var_list.py",
     "varRefreshCmd": "print(var_dic_list())"
    },
    "r": {
     "delete_cmd_postfix": ") ",
     "delete_cmd_prefix": "rm(",
     "library": "var_list.r",
     "varRefreshCmd": "cat(var_dic_list()) "
    }
   },
   "position": {
    "height": "515px",
    "left": "1484px",
    "right": "20px",
    "top": "120px",
    "width": "438px"
   },
   "types_to_exclude": [
    "module",
    "function",
    "builtin_function_or_method",
    "instance",
    "_Feature"
   ],
   "window_display": true
  }
 },
 "nbformat": 4,
 "nbformat_minor": 2
}
