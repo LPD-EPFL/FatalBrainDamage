{
 "cells": [
  {
   "cell_type": "code",
   "execution_count": 1,
   "metadata": {},
   "outputs": [
    {
     "name": "stderr",
     "output_type": "stream",
     "text": [
      "Using TensorFlow backend.\n"
     ]
    },
    {
     "name": "stdout",
     "output_type": "stream",
     "text": [
      "Initialized TensorFlow\n"
     ]
    }
   ],
   "source": [
    "%load_ext autoreload\n",
    "%autoreload 2\n",
    "%matplotlib inline\n",
    "from experiment_train import *\n",
    "from experiment_datasets import *\n",
    "from helpers import *"
   ]
  },
  {
   "cell_type": "markdown",
   "metadata": {},
   "source": [
    "### Steps:\n",
    "1. Train $M$ networks for each dropout on training $p\\in[0,1]$\n",
    "2. Get mean MAE on test/train for crash/nocrash. How does it behave? **This part can be taken from some paper!**\n",
    "3. Get v1, v2, v3, v4 for each of the networks\n",
    "4. Compute the rank loss if the networks were ordered by these bounds"
   ]
  },
  {
   "cell_type": "code",
   "execution_count": 116,
   "metadata": {},
   "outputs": [],
   "source": [
    "# network configuration\n",
    "N = [100, 50]\n",
    "\n",
    "def get_p_arr(p):\n",
    "    \"\"\" p array with failure on the first layer \"\"\"\n",
    "    return [0, p]  + [0] * len(N)\n",
    "\n",
    "# prob. of failure at inference\n",
    "p_inference = get_p_arr(0.05)\n",
    "\n",
    "# prob. of failure at train\n",
    "p_train = get_p_arr(0.00)\n",
    "\n",
    "# Lips. coeff\n",
    "KLips = 1.\n",
    "\n",
    "# activation function\n",
    "activation = 'sigmoid'\n",
    "\n",
    "# number of repeats for error estimation\n",
    "repetitions = 2000"
   ]
  },
  {
   "cell_type": "code",
   "execution_count": 123,
   "metadata": {},
   "outputs": [],
   "source": [
    "# obtaining the distribution after 10 epochs\n",
    "results1 = []"
   ]
  },
  {
   "cell_type": "code",
   "execution_count": 124,
   "metadata": {},
   "outputs": [
    {
     "name": "stderr",
     "output_type": "stream",
     "text": [
      "\n",
      "  0%|          | 0/10 [00:00<?, ?it/s]\u001b[A\n",
      " 10%|█         | 1/10 [00:08<01:17,  8.64s/it]\u001b[A\n",
      " 20%|██        | 2/10 [00:17<01:09,  8.63s/it]\u001b[A\n",
      " 30%|███       | 3/10 [00:26<01:00,  8.69s/it]\u001b[A\n",
      " 40%|████      | 4/10 [00:35<00:53,  8.86s/it]\u001b[A\n",
      " 50%|█████     | 5/10 [00:44<00:44,  9.00s/it]\u001b[A\n",
      " 60%|██████    | 6/10 [00:53<00:36,  9.09s/it]\u001b[A\n",
      " 70%|███████   | 7/10 [01:03<00:27,  9.08s/it]\u001b[A\n",
      " 80%|████████  | 8/10 [01:12<00:18,  9.13s/it]\u001b[A\n",
      " 90%|█████████ | 9/10 [01:21<00:09,  9.28s/it]\u001b[A\n",
      "100%|██████████| 10/10 [01:31<00:00,  9.34s/it]\u001b[A\n",
      "\u001b[A"
     ]
    }
   ],
   "source": [
    "for _ in tqdm(range(10)):\n",
    "    # for some reason, running regression results in lower accuracy with dropout at inference than without\n",
    "    exp = BostonHousingExperiment(N = N, p_inference = p_inference, p_train = p_train, KLips = KLips, epochs = 10,\n",
    "                                  activation = activation, reg_type = None, reg_coeff = 0, do_print = False,\n",
    "                                  name = 'experiment_dropout_first', seed = None, batch_size = 10000)\n",
    "    results1 += [np.mean(exp.get_bound_v3(exp.x_train)['std'] ** 2)]\n",
    "    #results1 += [{'correct': exp.get_mae_correct(),\n",
    "    #'crashing': exp.get_mae_crash(repetitions = repetitions)}]"
   ]
  },
  {
   "cell_type": "code",
   "execution_count": 136,
   "metadata": {},
   "outputs": [
    {
     "name": "stdout",
     "output_type": "stream",
     "text": [
      "0.018648542 0.017702142\n"
     ]
    },
    {
     "data": {
      "image/png": "[encoded data removed]",
      "text/plain": [
       "<Figure size 432x288 with 1 Axes>"
      ]
     },
     "metadata": {
      "needs_background": "light"
     },
     "output_type": "display_data"
    }
   ],
   "source": [
    "plt.hist(results1)\n",
    "print(np.mean(results1), np.median(results1))\n",
    "plt.show()"
   ]
  },
  {
   "cell_type": "code",
   "execution_count": 132,
   "metadata": {},
   "outputs": [],
   "source": [
    "# prob. of failure at train\n",
    "p_train = get_p_arr(0.05)\n",
    "results2 = []"
   ]
  },
  {
   "cell_type": "code",
   "execution_count": 134,
   "metadata": {},
   "outputs": [
    {
     "name": "stderr",
     "output_type": "stream",
     "text": [
      "\n",
      "\n",
      "  0%|          | 0/10 [00:00<?, ?it/s]\u001b[A\u001b[A\n",
      "\n",
      " 10%|█         | 1/10 [00:09<01:26,  9.58s/it]\u001b[A\u001b[A\n",
      "\n",
      " 20%|██        | 2/10 [00:19<01:17,  9.73s/it]\u001b[A\u001b[A\n",
      "\n",
      " 30%|███       | 3/10 [00:29<01:08,  9.78s/it]\u001b[A\u001b[A\n",
      "\n",
      " 40%|████      | 4/10 [00:39<00:59,  9.88s/it]\u001b[A\u001b[A\n",
      "\n",
      " 50%|█████     | 5/10 [00:49<00:49, 10.00s/it]\u001b[A\u001b[A\n",
      "\n",
      " 60%|██████    | 6/10 [01:00<00:40, 10.03s/it]\u001b[A\u001b[A\n",
      "\n",
      " 70%|███████   | 7/10 [01:10<00:30, 10.24s/it]\u001b[A\u001b[A\n",
      "\n",
      " 80%|████████  | 8/10 [01:21<00:20, 10.29s/it]\u001b[A\u001b[A\n",
      "\n",
      " 90%|█████████ | 9/10 [01:31<00:10, 10.34s/it]\u001b[A\u001b[A\n",
      "\n",
      "100%|██████████| 10/10 [01:42<00:00, 10.36s/it]\u001b[A\u001b[A\n",
      "\n",
      "\u001b[A\u001b[A"
     ]
    }
   ],
   "source": [
    "for _ in tqdm(range(10)):\n",
    "    # for some reason, running regression results in lower accuracy with dropout at inference than without\n",
    "    exp = BostonHousingExperiment(N = N, p_inference = p_inference, p_train = p_train, KLips = KLips, epochs = 10,\n",
    "                                  activation = activation, reg_type = None, reg_coeff = 0, do_print = False,\n",
    "                                  name = 'experiment_dropout_first', seed = None, batch_size = 10000)\n",
    "    results2 += [np.mean(exp.get_bound_v3(exp.x_train)['std'] ** 2)]\n",
    "    #results2 += [{'correct': exp.get_mae_correct(),\n",
    "    #'crashing': exp.get_mae_crash(repetitions = repetitions)}]"
   ]
  },
  {
   "cell_type": "code",
   "execution_count": 138,
   "metadata": {},
   "outputs": [
    {
     "name": "stdout",
     "output_type": "stream",
     "text": [
      "0.017030794 0.014633126\n"
     ]
    },
    {
     "data": {
      "image/png": "[encoded data removed]",
      "text/plain": [
       "<Figure size 432x288 with 1 Axes>"
      ]
     },
     "metadata": {
      "needs_background": "light"
     },
     "output_type": "display_data"
    }
   ],
   "source": [
    "plt.hist(results2)\n",
    "print(np.mean(results2), np.median(results2))\n",
    "plt.show()"
   ]
  },
  {
   "cell_type": "code",
   "execution_count": null,
   "metadata": {},
   "outputs": [],
   "source": []
  },
  {
   "cell_type": "code",
   "execution_count": 114,
   "metadata": {},
   "outputs": [],
   "source": [
    "keyval = [(key+' '+key1, val1) for d in results2 for key, val in d.items() for key1, val1 in val.items()]\n",
    "keyval = {key: [x[1] for x in keyval if x[0] == key] for key in set([x[0] for x in keyval])}"
   ]
  },
  {
   "cell_type": "code",
   "execution_count": 115,
   "metadata": {},
   "outputs": [
    {
     "name": "stdout",
     "output_type": "stream",
     "text": [
      "correct test 20.327742556841933\n",
      "correct train 19.655879041456647\n",
      "crashing test 20.50601555531738\n",
      "crashing train 19.833659149689176\n"
     ]
    },
    {
     "data": {
      "image/png": "[encoded data removed]",
      "text/plain": [
       "<Figure size 432x288 with 1 Axes>"
      ]
     },
     "metadata": {
      "needs_background": "light"
     },
     "output_type": "display_data"
    }
   ],
   "source": [
    "for key, val in keyval.items():\n",
    "    plt.hist(val, label = key, alpha = 0.5)\n",
    "plt.legend()\n",
    "for key, val in keyval.items():\n",
    "    print(key, np.mean(val))"
   ]
  },
  {
   "cell_type": "code",
   "execution_count": 109,
   "metadata": {},
   "outputs": [],
   "source": [
    "keyval = [(key+' '+key1, val1) for d in results1 for key, val in d.items() for key1, val1 in val.items()]\n",
    "keyval = {key: [x[1] for x in keyval if x[0] == key] for key in set([x[0] for x in keyval])}"
   ]
  },
  {
   "cell_type": "code",
   "execution_count": 111,
   "metadata": {},
   "outputs": [
    {
     "name": "stdout",
     "output_type": "stream",
     "text": [
      "correct test 19.3787531110469\n",
      "correct train 18.69920689306342\n",
      "crashing test 19.56062218259532\n",
      "crashing train 18.88076041454707\n"
     ]
    }
   ],
   "source": []
  },
  {
   "cell_type": "code",
   "execution_count": null,
   "metadata": {},
   "outputs": [],
   "source": []
  }
 ],
 "metadata": {
  "kernelspec": {
   "display_name": "Python 3",
   "language": "python",
   "name": "python3"
  },
  "language_info": {
   "codemirror_mode": {
    "name": "ipython",
    "version": 3
   },
   "file_extension": ".py",
   "mimetype": "text/x-python",
   "name": "python",
   "nbconvert_exporter": "python",
   "pygments_lexer": "ipython3",
   "version": "3.6.6"
  }
 },
 "nbformat": 4,
 "nbformat_minor": 2
}
