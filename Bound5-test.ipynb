{
 "cells": [
  {
   "cell_type": "code",
   "execution_count": 20,
   "metadata": {},
   "outputs": [],
   "source": [
    "import numpy as np\n",
    "import itertools\n",
    "%matplotlib inline\n",
    "from matplotlib import pyplot as plt\n",
    "from functools import partial"
   ]
  },
  {
   "cell_type": "markdown",
   "metadata": {},
   "source": [
    "Testing the following equations for $\\Delta(w,u)=f(w+u)-f(w)$\n",
    "$$\n",
    "\\mathbb{E}\\Delta(w,u)=f'_i\\mathbb{E}u+\\frac{1}{2}f''_{ii}\\mathbb{V}ar u+\\frac{1}{2}\\mathbb{E}u^Tf''_{ij}\\mathbb{E}u+\\mathcal{O}(\\alpha^3)\n",
    "$$\n",
    "\n",
    "$$\n",
    "\\mathbb{E}\\Delta(w,u)=(f'_i)^2\\mathbb{V}ar u+(f'_{i}\\mathbb{E} u)^2+\\mathcal{O}(\\alpha^3)\n",
    "$$\n",
    "\n",
    "Will use Gaussian input $\\mathbb{R}^d\\ni x\\sim N(\\mu_x,\\sigma_x^2 I)$, one hidden layer with $\\sigma(x)=\\frac{1}{1+e^{-x}}$ and Gaussian weights $w\\in\\mathbb{R}^d$ with $w\\sim N(\\mu_w,\\sigma_w^2 I)$\n",
    "\n",
    "The distribution of crashes of inputs is Bernoulli with parameter $p$."
   ]
  },
  {
   "cell_type": "code",
   "execution_count": 42,
   "metadata": {},
   "outputs": [],
   "source": [
    "mu_x = 1\n",
    "sigma_x = 0.2\n",
    "mu_w = 0.05\n",
    "sigma_w = 0.1\n",
    "d = 10\n",
    "p = 0.1"
   ]
  },
  {
   "cell_type": "code",
   "execution_count": 43,
   "metadata": {},
   "outputs": [],
   "source": [
    "# generating x and w\n",
    "x = np.random.randn(d, 1) * sigma_x + mu_x\n",
    "w = np.random.randn(d, 1) * sigma_w + mu_w"
   ]
  },
  {
   "cell_type": "code",
   "execution_count": 44,
   "metadata": {},
   "outputs": [],
   "source": [
    "def sigma(x):\n",
    "    \"\"\" Activation fcn \"\"\"\n",
    "    return 1. / (1 + np.exp(-x))\n",
    "\n",
    "def sigma_dot(x):\n",
    "    \"\"\" Derivative of sigma \"\"\"\n",
    "    return sigma(x) * (1. - sigma(x))\n",
    "\n",
    "def sigma_ddot(x):\n",
    "    \"\"\" Double derivative of sigma \"\"\"\n",
    "    return sigma(x) * (1. - sigma(x)) * (1. - 2 * sigma(x))"
   ]
  },
  {
   "cell_type": "code",
   "execution_count": 45,
   "metadata": {},
   "outputs": [],
   "source": [
    "def compute_mean_and_var_bernoulli_twosided(fcn, p, threshold = lambda x : True):\n",
    "    \"\"\" Compute expectation and variance of fcn given Bernoulli crashes w.p. p\n",
    "        Two sided: w.p. p/2 +x, w.p. p/2 -x\n",
    "    \"\"\"\n",
    "    # all combinations\n",
    "    combinations = list(itertools.product([0, 1, 2], repeat=len(x)))\n",
    "    \n",
    "    # resulting expectation of fcn\n",
    "    result_f = 0.\n",
    "    \n",
    "    # resulting expectation of fcn^2\n",
    "    result_f_sq = 0.\n",
    "    \n",
    "    # number of entries in x\n",
    "    n = len(x)\n",
    "\n",
    "    # all probs\n",
    "    probs = 0\n",
    "    \n",
    "    for c in combinations:\n",
    "        # crashing inputs\n",
    "        x1 = np.multiply(x.reshape(-1), c)\n",
    "        \n",
    "        # number of crashes\n",
    "        k = len(c) - np.sum(np.array(c) != 1)\n",
    "        \n",
    "        # probability of this event\n",
    "        prob = p ** k * (1 - p) ** (n - k) / 2\n",
    "        \n",
    "        # how much vector is changed in norm?\n",
    "        alpha = np.linalg.norm(x.reshape(-1) - x1) / np.linalg.norm(x)\n",
    "        \n",
    "        # not suitable -> skipping this crash\n",
    "        if not threshold(x1):\n",
    "            continue\n",
    "        \n",
    "        # adding to fracs distribution\n",
    "        fracs.append(alpha)\n",
    "        \n",
    "        #print(n, k, prob, fcn(x1))\n",
    "        \n",
    "        # computing expectation\n",
    "        result_f += fcn(x1) * prob\n",
    "        result_f_sq += fcn(x1) ** 2 * prob\n",
    "        \n",
    "        probs += prob\n",
    "        \n",
    "    result_f /= probs\n",
    "    result_f_sq /= probs\n",
    "        \n",
    "    return result_f, result_f_sq - result_f ** 2"
   ]
  },
  {
   "cell_type": "code",
   "execution_count": 46,
   "metadata": {},
   "outputs": [],
   "source": [
    "def compute_mean_and_var_bernoulli(fcn, p, threshold = lambda x : True):\n",
    "    \"\"\" Compute expectation and variance of fcn given Bernoulli crashes w.p. p\n",
    "        Two sided: w.p. p/2 +x, w.p. p/2 -x\n",
    "    \"\"\"\n",
    "    # all combinations\n",
    "    combinations = list(itertools.product([0, 1], repeat=len(x)))\n",
    "    \n",
    "    # resulting expectation of fcn\n",
    "    result_f = 0.\n",
    "    \n",
    "    # resulting expectation of fcn^2\n",
    "    result_f_sq = 0.\n",
    "    \n",
    "    # number of entries in x\n",
    "    n = len(x)\n",
    "\n",
    "    # all probs\n",
    "    probs = 0\n",
    "    \n",
    "    for c in combinations:\n",
    "        # crashing inputs\n",
    "        x1 = np.multiply(x.reshape(-1), c)\n",
    "        \n",
    "        # number of crashes\n",
    "        k = len(c) - np.sum(c)\n",
    "        \n",
    "        # probability of this event\n",
    "        prob = p ** k * (1 - p) ** (n - k)\n",
    "        \n",
    "        # how much vector is changed in norm?\n",
    "        alpha = np.linalg.norm(x.reshape(-1) - x1) / np.linalg.norm(x)\n",
    "        \n",
    "        # not suitable -> skipping this crash\n",
    "        if not threshold(x1):\n",
    "            continue\n",
    "        \n",
    "        # adding to fracs distribution\n",
    "        fracs.append(alpha)\n",
    "        \n",
    "        #print(n, k, prob, fcn(x1))\n",
    "        \n",
    "        # computing expectation\n",
    "        result_f += fcn(x1) * prob\n",
    "        result_f_sq += fcn(x1) ** 2 * prob\n",
    "        \n",
    "        probs += prob\n",
    "        \n",
    "    result_f /= probs\n",
    "    result_f_sq /= probs\n",
    "        \n",
    "    return result_f, result_f_sq - result_f ** 2"
   ]
  },
  {
   "cell_type": "code",
   "execution_count": 47,
   "metadata": {},
   "outputs": [],
   "source": [
    "def nn(x):\n",
    "    \"\"\" Neural network at pt x \"\"\"\n",
    "    return np.mean(sigma(x.T @ w))"
   ]
  },
  {
   "cell_type": "code",
   "execution_count": 48,
   "metadata": {},
   "outputs": [],
   "source": [
    "z = np.mean(x.T @ w)\n",
    "def delta(x1):\n",
    "    \"\"\" Error delta(input crash) \"\"\"\n",
    "    return nn(x1) - nn(x)"
   ]
  },
  {
   "cell_type": "code",
   "execution_count": 49,
   "metadata": {},
   "outputs": [
    {
     "data": {
      "text/plain": [
       "(0.4967277342115286, 0.621690029006334)"
      ]
     },
     "execution_count": 49,
     "metadata": {},
     "output_type": "execute_result"
    }
   ],
   "source": [
    "z, sigma(z)"
   ]
  },
  {
   "cell_type": "code",
   "execution_count": null,
   "metadata": {},
   "outputs": [],
   "source": []
  },
  {
   "cell_type": "code",
   "execution_count": 50,
   "metadata": {},
   "outputs": [],
   "source": [
    "def experiment(distribution):\n",
    "    \"\"\" Calculate experiment for distribution \"\"\"\n",
    "    # fractions of change in norm\n",
    "    global fracs\n",
    "    fracs = []\n",
    "\n",
    "    # Delta (experimental)\n",
    "    EDelta, VarDelta = distribution(delta)\n",
    "\n",
    "    # plotting alphas\n",
    "    plt.figure()\n",
    "    plt.hist(fracs)\n",
    "    plt.show()\n",
    "\n",
    "    # Error (experimental)\n",
    "    Eu, Varu = distribution(lambda z : np.array(z) - x.reshape(-1))\n",
    "\n",
    "    print(Eu, Varu)\n",
    "    \n",
    "    # derivatives\n",
    "    f_i = sigma_dot(z) * w\n",
    "    f_ij = sigma_ddot(z) * w @ w.T\n",
    "    f_ii = f_ij.diagonal()\n",
    "\n",
    "    EDelta_theory = (np.dot(f_i.T, Eu) + 0.5 * np.dot(f_ii, Varu) + 0.5 * Eu.T @ f_ij @ Eu)[0]\n",
    "    VarDelta_theory = (np.dot(f_i.T ** 2, Varu) + np.dot(f_i.T, Eu) ** 2)[0]\n",
    "    \n",
    "    print(EDelta, EDelta_theory)\n",
    "    print(VarDelta, VarDelta_theory)"
   ]
  },
  {
   "cell_type": "code",
   "execution_count": 51,
   "metadata": {},
   "outputs": [
    {
     "data": {
      "image/png": "[encoded data removed]",
      "text/plain": [
       "<Figure size 432x288 with 1 Axes>"
      ]
     },
     "metadata": {
      "needs_background": "light"
     },
     "output_type": "display_data"
    },
    {
     "name": "stdout",
     "output_type": "stream",
     "text": [
      "[-0.0977315  -0.07633141 -0.10817022 -0.07276091 -0.10588762 -0.06602459\n",
      " -0.09390895 -0.07824882 -0.10254912 -0.0768122 ] [0.08596301 0.05243836 0.10530718 0.04764735 0.10090969 0.03923322\n",
      " 0.07937002 0.05510591 0.09464689 0.05310103]\n",
      "-0.01194531601744227 -0.011979223244082966\n",
      "0.0004534249323901253 0.0005732559433800351\n"
     ]
    }
   ],
   "source": [
    "experiment(partial(compute_mean_and_var_bernoulli, threshold = lambda x : True, p = p))"
   ]
  },
  {
   "cell_type": "code",
   "execution_count": 52,
   "metadata": {},
   "outputs": [
    {
     "data": {
      "image/png": "[encoded data removed]",
      "text/plain": [
       "<Figure size 432x288 with 1 Axes>"
      ]
     },
     "metadata": {
      "needs_background": "light"
     },
     "output_type": "display_data"
    },
    {
     "name": "stdout",
     "output_type": "stream",
     "text": [
      "[ 3.45865774e-17 -2.62568258e-18 -1.24040867e-17  1.90135635e-18\n",
      " -2.53514180e-18 -9.05407785e-20  3.62163114e-19  0.00000000e+00\n",
      "  0.00000000e+00  0.00000000e+00] [0.90487376 0.55198274 1.10849661 0.50155105 1.06220731 0.41298131\n",
      " 0.83547391 0.58006217 0.99628305 0.55895817]\n",
      "-0.002302491527228326 -0.002378838260710424\n",
      "0.004471956981356697 0.00459760451205248\n"
     ]
    }
   ],
   "source": [
    "experiment(partial(compute_mean_and_var_bernoulli_twosided, threshold = lambda x : True, p = p))"
   ]
  },
  {
   "cell_type": "markdown",
   "metadata": {},
   "source": [
    "Is it true that $P\\{u|\\|u\\|\\geq\\alpha \\|w\\|\\}$ is small?"
   ]
  },
  {
   "cell_type": "code",
   "execution_count": 68,
   "metadata": {},
   "outputs": [],
   "source": [
    "def compute_prob_delta_small(p, alpha_0 = 0.5):\n",
    "    \"\"\" Compute expectation and variance of fcn given Bernoulli crashes w.p. p\n",
    "        Two sided: w.p. p/2 +x, w.p. p/2 -x\n",
    "    \"\"\"\n",
    "    # all combinations\n",
    "    combinations = list(itertools.product([0, 1], repeat=len(x)))\n",
    "    \n",
    "    # number of entries in x\n",
    "    n = len(x)\n",
    "\n",
    "    # all probs\n",
    "    probs = 0\n",
    "    \n",
    "    probs_small = 0\n",
    "    deltas = {n_: [] for n_ in range(len(x) + 1)}\n",
    "    \n",
    "    for c in combinations:\n",
    "        # crashing inputs\n",
    "        x1 = np.multiply(x.reshape(-1), c)\n",
    "        \n",
    "        # number of crashes\n",
    "        k = len(c) - np.sum(c)\n",
    "        \n",
    "        # probability of this event\n",
    "        prob = p ** k * (1 - p) ** (n - k)\n",
    "        \n",
    "        # how much vector is changed in norm?\n",
    "        alpha = np.linalg.norm(x.reshape(-1) - x1) ** 2 / np.linalg.norm(x) ** 2\n",
    "        \n",
    "        deltas[k].append(alpha)\n",
    "        \n",
    "        probs += prob\n",
    "        \n",
    "        if alpha <= alpha_0:\n",
    "            probs_small += prob\n",
    "    return (probs - probs_small) / probs, deltas"
   ]
  },
  {
   "cell_type": "code",
   "execution_count": 69,
   "metadata": {},
   "outputs": [],
   "source": [
    "p, deltas = compute_prob_delta_small(p, 0.5)"
   ]
  },
  {
   "cell_type": "code",
   "execution_count": 70,
   "metadata": {},
   "outputs": [
    {
     "data": {
      "image/png": "[encoded data removed]",
      "text/plain": [
       "<Figure size 432x288 with 1 Axes>"
      ]
     },
     "metadata": {
      "needs_background": "light"
     },
     "output_type": "display_data"
    }
   ],
   "source": [
    "plt.figure()\n",
    "for k in sorted(deltas.keys()):\n",
    "    h = deltas[k]\n",
    "    plt.hist(h, alpha = 0.5, label = '%d' % k)\n",
    "plt.legend()\n",
    "plt.show()"
   ]
  },
  {
   "cell_type": "markdown",
   "metadata": {},
   "source": [
    "Answer: kinda for $\\leq 3$ crashes $\\alpha\\leq 0.5$"
   ]
  },
  {
   "cell_type": "code",
   "execution_count": 72,
   "metadata": {},
   "outputs": [
    {
     "data": {
      "text/plain": [
       "[<matplotlib.lines.Line2D at 0x7fdf0ddafe48>]"
      ]
     },
     "execution_count": 72,
     "metadata": {},
     "output_type": "execute_result"
    },
    {
     "data": {
      "image/png": "[encoded data removed]",
      "text/plain": [
       "<Figure size 432x288 with 1 Axes>"
      ]
     },
     "metadata": {
      "needs_background": "light"
     },
     "output_type": "display_data"
    }
   ],
   "source": [
    "# Plotting squared norm change with growing f\n",
    "plt.plot([np.mean(deltas[k]) for k in sorted(deltas.keys())])"
   ]
  },
  {
   "cell_type": "code",
   "execution_count": null,
   "metadata": {},
   "outputs": [],
   "source": []
  }
 ],
 "metadata": {
  "kernelspec": {
   "display_name": "Python 3",
   "language": "python",
   "name": "python3"
  },
  "language_info": {
   "codemirror_mode": {
    "name": "ipython",
    "version": 3
   },
   "file_extension": ".py",
   "mimetype": "text/x-python",
   "name": "python",
   "nbconvert_exporter": "python",
   "pygments_lexer": "ipython3",
   "version": "3.6.8"
  },
  "varInspector": {
   "cols": {
    "lenName": 16,
    "lenType": 16,
    "lenVar": 40
   },
   "kernels_config": {
    "python": {
     "delete_cmd_postfix": "",
     "delete_cmd_prefix": "del ",
     "library": "var_list.py",
     "varRefreshCmd": "print(var_dic_list())"
    },
    "r": {
     "delete_cmd_postfix": ") ",
     "delete_cmd_prefix": "rm(",
     "library": "var_list.r",
     "varRefreshCmd": "cat(var_dic_list()) "
    }
   },
   "types_to_exclude": [
    "module",
    "function",
    "builtin_function_or_method",
    "instance",
    "_Feature"
   ],
   "window_display": false
  }
 },
 "nbformat": 4,
 "nbformat_minor": 2
}
