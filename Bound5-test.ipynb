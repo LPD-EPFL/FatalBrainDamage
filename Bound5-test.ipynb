{
 "cells": [
  {
   "cell_type": "code",
   "execution_count": 203,
   "metadata": {},
   "outputs": [],
   "source": [
    "import numpy as np\n",
    "import itertools\n",
    "%matplotlib inline\n",
    "from matplotlib import pyplot as plt"
   ]
  },
  {
   "cell_type": "markdown",
   "metadata": {},
   "source": [
    "Testing the following equations for $\\Delta(w,u)=f(w+u)-f(w)$\n",
    "$$\n",
    "\\mathbb{E}\\Delta(w,u)=f'_i\\mathbb{E}u+\\frac{1}{2}f''_{ii}\\mathbb{V}ar u+\\frac{1}{2}\\mathbb{E}u^Tf''_{ij}\\mathbb{E}u+\\mathcal{O}(\\alpha^3)\n",
    "$$\n",
    "\n",
    "$$\n",
    "\\mathbb{E}\\Delta(w,u)=(f'_i)^2\\mathbb{V}ar u+(f'_{i}\\mathbb{E} u)^2+\\mathcal{O}(\\alpha^3)\n",
    "$$\n",
    "\n",
    "Will use Gaussian input $\\mathbb{R}^d\\ni x\\sim N(\\mu_x,\\sigma_x^2 I)$, one hidden layer with $\\sigma(x)=\\frac{1}{1+e^{-x}}$ and Gaussian weights $w\\in\\mathbb{R}^d$ with $w\\sim N(\\mu_w,\\sigma_w^2 I)$\n",
    "\n",
    "The distribution of crashes of inputs is Bernoulli with parameter $p$."
   ]
  },
  {
   "cell_type": "code",
   "execution_count": 309,
   "metadata": {},
   "outputs": [],
   "source": [
    "mu_x = 0.5\n",
    "sigma_x = 1\n",
    "mu_w = 0.1\n",
    "sigma_w = 1\n",
    "d = 10\n",
    "p = 0.2"
   ]
  },
  {
   "cell_type": "code",
   "execution_count": 310,
   "metadata": {},
   "outputs": [],
   "source": [
    "# generating x and w\n",
    "x = np.random.randn(d, 1) * sigma_x + mu_x\n",
    "w = np.random.randn(d, 1) * sigma_w + mu_w"
   ]
  },
  {
   "cell_type": "code",
   "execution_count": 311,
   "metadata": {},
   "outputs": [],
   "source": [
    "def sigma(x):\n",
    "    \"\"\" Activation fcn \"\"\"\n",
    "    return 1. / (1 + np.exp(-x))\n",
    "\n",
    "def sigma_dot(x):\n",
    "    \"\"\" Derivative of sigma \"\"\"\n",
    "    return sigma(x) * (1. - sigma(x))\n",
    "\n",
    "def sigma_ddot(x):\n",
    "    \"\"\" Double derivative of sigma \"\"\"\n",
    "    return sigma(x) * (1. - sigma(x)) * (1. - 2 * sigma(x))"
   ]
  },
  {
   "cell_type": "code",
   "execution_count": 312,
   "metadata": {},
   "outputs": [],
   "source": [
    "fracs = []"
   ]
  },
  {
   "cell_type": "code",
   "execution_count": 356,
   "metadata": {},
   "outputs": [],
   "source": [
    "def compute_mean_and_var(fcn, p):\n",
    "    \"\"\" Compute expectation and variance of fcn given Bernoulli crashes w.p. p \"\"\"\n",
    "    # all combinations\n",
    "    combinations = list(itertools.product([0, 1], repeat=len(x)))\n",
    "    \n",
    "    # resulting expectation of fcn\n",
    "    result_f = 0.\n",
    "    \n",
    "    # resulting expectation of fcn^2\n",
    "    result_f_sq = 0.\n",
    "    \n",
    "    # number of entries in x\n",
    "    n = len(x)\n",
    "\n",
    "    # all probs\n",
    "    probs = 0\n",
    "    \n",
    "    for c in combinations:\n",
    "        # crashing inputs\n",
    "        x1 = np.multiply(x.reshape(-1), c)\n",
    "        \n",
    "        # number of crashes\n",
    "        k = len(c) - np.sum(c)\n",
    "        \n",
    "        # probability of this event\n",
    "        prob = p ** k * (1 - p) ** (n - k)\n",
    "        \n",
    "        # how much vector is changed in norm?\n",
    "        alpha = np.linalg.norm(x.reshape(-1) - x1) / np.linalg.norm(x)\n",
    "        \n",
    "        #if alpha > 0.2:\n",
    "#            continue\n",
    "        \n",
    "        fracs.append(prob * alpha)\n",
    "        \n",
    "        #print(n, k, prob, fcn(x1))\n",
    "        \n",
    "        # computing expectation\n",
    "        result_f += fcn(x1) * prob\n",
    "        result_f_sq += fcn(x1) ** 2 * prob\n",
    "        \n",
    "        probs += prob\n",
    "        \n",
    "    result_f /= probs\n",
    "    result_f_sq /= probs\n",
    "        \n",
    "    return result_f, result_f_sq - result_f ** 2"
   ]
  },
  {
   "cell_type": "code",
   "execution_count": 357,
   "metadata": {},
   "outputs": [],
   "source": [
    "def nn(x):\n",
    "    \"\"\" Neural network at pt x \"\"\"\n",
    "    return np.mean(sigma(x.T @ w))"
   ]
  },
  {
   "cell_type": "code",
   "execution_count": 358,
   "metadata": {},
   "outputs": [],
   "source": [
    "z = np.mean(x.T @ w)\n",
    "def delta(x1):\n",
    "    \"\"\" Error delta(input crash) \"\"\"\n",
    "    return nn(x1) - nn(x)"
   ]
  },
  {
   "cell_type": "code",
   "execution_count": 359,
   "metadata": {},
   "outputs": [
    {
     "data": {
      "text/plain": [
       "(-0.09624014219911475, 0.05918526677072737)"
      ]
     },
     "execution_count": 359,
     "metadata": {},
     "output_type": "execute_result"
    }
   ],
   "source": [
    "compute_mean_and_var(delta, p)"
   ]
  },
  {
   "cell_type": "code",
   "execution_count": 360,
   "metadata": {},
   "outputs": [
    {
     "data": {
      "text/plain": [
       "(array([3.11e+03, 2.50e+01, 9.60e+01, 1.40e+01, 4.00e+00, 0.00e+00,\n",
       "        0.00e+00, 0.00e+00, 1.20e+01, 3.00e+00]),\n",
       " array([0.        , 0.00146157, 0.00292314, 0.00438471, 0.00584628,\n",
       "        0.00730786, 0.00876943, 0.010231  , 0.01169257, 0.01315414,\n",
       "        0.01461571]),\n",
       " <a list of 10 Patch objects>)"
      ]
     },
     "execution_count": 360,
     "metadata": {},
     "output_type": "execute_result"
    },
    {
     "data": {
      "image/png": "[encoded data removed]",
      "text/plain": [
       "<Figure size 432x288 with 1 Axes>"
      ]
     },
     "metadata": {
      "needs_background": "light"
     },
     "output_type": "display_data"
    }
   ],
   "source": [
    "plt.hist(fracs)"
   ]
  },
  {
   "cell_type": "code",
   "execution_count": 361,
   "metadata": {},
   "outputs": [],
   "source": [
    "Eu = -p * w\n",
    "Varu = (p - p ** 2) * w ** 2"
   ]
  },
  {
   "cell_type": "code",
   "execution_count": 362,
   "metadata": {},
   "outputs": [],
   "source": [
    "f_i = sigma_dot(z) * x\n",
    "f_ij = sigma_ddot(z) * x @ x.T\n",
    "f_ii = f_ij.diagonal()"
   ]
  },
  {
   "cell_type": "code",
   "execution_count": 363,
   "metadata": {},
   "outputs": [
    {
     "data": {
      "text/plain": [
       "array([[-0.14305369]])"
      ]
     },
     "execution_count": 363,
     "metadata": {},
     "output_type": "execute_result"
    }
   ],
   "source": [
    "np.dot(f_i.T, Eu) + 0.5 * np.dot(f_ii, Varu) + 0.5 * Eu.T @ f_ij @ Eu"
   ]
  },
  {
   "cell_type": "code",
   "execution_count": 364,
   "metadata": {},
   "outputs": [
    {
     "data": {
      "text/plain": [
       "array([[0.06063277]])"
      ]
     },
     "execution_count": 364,
     "metadata": {},
     "output_type": "execute_result"
    }
   ],
   "source": [
    "np.dot(f_i.T, Eu) ** 2 + np.dot(f_i.T ** 2, Varu)"
   ]
  },
  {
   "cell_type": "code",
   "execution_count": 365,
   "metadata": {},
   "outputs": [
    {
     "data": {
      "text/plain": [
       "array([[-0.04349106]])"
      ]
     },
     "execution_count": 365,
     "metadata": {},
     "output_type": "execute_result"
    }
   ],
   "source": [
    "np.dot(f_i.T, Eu)"
   ]
  },
  {
   "cell_type": "code",
   "execution_count": null,
   "metadata": {},
   "outputs": [],
   "source": []
  },
  {
   "cell_type": "code",
   "execution_count": null,
   "metadata": {},
   "outputs": [],
   "source": []
  }
 ],
 "metadata": {
  "kernelspec": {
   "display_name": "Python 3",
   "language": "python",
   "name": "python3"
  },
  "language_info": {
   "codemirror_mode": {
    "name": "ipython",
    "version": 3
   },
   "file_extension": ".py",
   "mimetype": "text/x-python",
   "name": "python",
   "nbconvert_exporter": "python",
   "pygments_lexer": "ipython3",
   "version": "3.6.8"
  },
  "varInspector": {
   "cols": {
    "lenName": 16,
    "lenType": 16,
    "lenVar": 40
   },
   "kernels_config": {
    "python": {
     "delete_cmd_postfix": "",
     "delete_cmd_prefix": "del ",
     "library": "var_list.py",
     "varRefreshCmd": "print(var_dic_list())"
    },
    "r": {
     "delete_cmd_postfix": ") ",
     "delete_cmd_prefix": "rm(",
     "library": "var_list.r",
     "varRefreshCmd": "cat(var_dic_list()) "
    }
   },
   "types_to_exclude": [
    "module",
    "function",
    "builtin_function_or_method",
    "instance",
    "_Feature"
   ],
   "window_display": false
  }
 },
 "nbformat": 4,
 "nbformat_minor": 2
}
