{
 "cells": [
  {
   "cell_type": "code",
   "execution_count": 1,
   "metadata": {
    "ExecuteTime": {
     "end_time": "2019-01-05T18:13:06.862418Z",
     "start_time": "2019-01-05T18:13:05.487974Z"
    }
   },
   "outputs": [
    {
     "name": "stderr",
     "output_type": "stream",
     "text": [
      "Using TensorFlow backend.\n"
     ]
    },
    {
     "name": "stdout",
     "output_type": "stream",
     "text": [
      "Initialized TensorFlow\n"
     ]
    }
   ],
   "source": [
    "%load_ext autoreload\n",
    "%autoreload 2\n",
    "%matplotlib inline\n",
    "from experiment_train import *\n",
    "from experiment_datasets import *\n",
    "from helpers import *"
   ]
  },
  {
   "cell_type": "markdown",
   "metadata": {},
   "source": [
    "### Steps:\n",
    "1. Train $M$ networks for each dropout on training $p\\in[0,1]$\n",
    "2. Get mean MAE on test/train for crash/nocrash. How does it behave? **Read papers where Dropout actually works for simple datasets. Do they use scaled or unscaled dropout?**\n",
    "3. Get v1, v2, v3, v4 for each of the networks\n",
    "4. Compute the rank loss if the networks were ordered by these bounds\n",
    "5. What should be the batch size? Does keras update crashes at each iteration?\n",
    "\n",
    "Currently, the problem is at the 2nd stage: I cannot make a network more MAE-resilient towards crashes on the Boston dataset. MNIST shows promising results if I use a smaller p_train than p_inference and batch size 100. Should I make it less? Should I make it bigger? How do I test it? Should I look at the tensorflow graph? Or should I read keras documentation?\n",
    "\n",
    "Keras Dropout calls K.dropout which calls tf.nn.dropout, which by default creates a noise equal to the argument in shape, meaning that for 10 objects it will create 10 random dropout configurations\n",
    "\n",
    "OK, it works for MNIST but doesn't work for the Boston dataset. Let's forget about the Boston dataset.\n",
    "\n",
    "NEXT STEP: re-test it on bigger p, then go to steps 3, 4, 5 etc"
   ]
  },
  {
   "cell_type": "code",
   "execution_count": 10,
   "metadata": {
    "ExecuteTime": {
     "end_time": "2019-01-05T18:23:24.073623Z",
     "start_time": "2019-01-05T18:23:24.035984Z"
    }
   },
   "outputs": [],
   "source": [
    "# network configuration\n",
    "N = [100, 50]\n",
    "\n",
    "def get_p_arr(p):\n",
    "    \"\"\" p array with failure on the first layer \"\"\"\n",
    "    return [0, p]  + [0] * len(N)\n",
    "\n",
    "# prob. of failure at inference\n",
    "p_inference = get_p_arr(0.05)\n",
    "\n",
    "# prob. of failure at train\n",
    "p_trains = np.linspace(0, 0.03, 5)\n",
    "\n",
    "# Lips. coeff\n",
    "KLips = 1.\n",
    "\n",
    "# activation function\n",
    "activation = 'sigmoid'\n",
    "\n",
    "# number of repeats for error estimation\n",
    "# see below for explanation\n",
    "repetitions = 6\n",
    "\n",
    "# number of runs for each p\n",
    "runs = 5"
   ]
  },
  {
   "cell_type": "code",
   "execution_count": 11,
   "metadata": {
    "ExecuteTime": {
     "end_time": "2019-01-05T18:23:24.889661Z",
     "start_time": "2019-01-05T18:23:24.867947Z"
    }
   },
   "outputs": [],
   "source": [
    "def get_results(p):\n",
    "    # obtaining the distribution after 10 epochs\n",
    "    results = []\n",
    "    \n",
    "    # current prob. of failure array\n",
    "    p_train = get_p_arr(p)\n",
    "    \n",
    "    def unravel(name, data):\n",
    "        return {name + '_' + key: data[key] for key in data.keys()}\n",
    "    \n",
    "    for _ in tqdm(range(runs)):\n",
    "        exp = MNISTExperiment(N = N, p_inference = p_inference, p_train = p_train, KLips = KLips, epochs = 10,\n",
    "                                      activation = activation, reg_type = None, reg_coeff = 0, do_print = False,\n",
    "                                      name = 'experiment_dropout', seed = None, batch_size = 100)\n",
    "        \n",
    "        results += [{**unravel('correct_acc', exp.get_accuracy_correct(test_only = True)),\n",
    "                     **unravel('crashing_acc', exp.get_accuracy_crash(test_only = True, repetitions = repetitions))\n",
    "                    }]\n",
    "        \n",
    "        # freeing up the memory\n",
    "        K.clear_session()\n",
    "        \n",
    "    # list of all keys\n",
    "    keys = list(results[0].keys())\n",
    "    \n",
    "    # return results\n",
    "    return {key: [value[key] for value in results] for key in keys}\n",
    "\n",
    "def process_results_single(results):\n",
    "    for key, value in results.items():\n",
    "        plt.figure()\n",
    "        plt.title('%s: %.3f +- %.3f med %.3f' % (key, np.mean(value), np.std(value), np.median(value)))\n",
    "        plt.hist(value)\n",
    "        plt.xlabel(key)\n",
    "        plt.show()"
   ]
  },
  {
   "cell_type": "code",
   "execution_count": 4,
   "metadata": {
    "deletable": false,
    "editable": false,
    "run_control": {
     "frozen": true
    }
   },
   "outputs": [],
   "source": [
    "exp = MNISTExperiment(N = N, p_inference = p_inference, p_train = get_p_arr(0.01), KLips = KLips, epochs = 10,\n",
    "                                      activation = activation, reg_type = None, reg_coeff = 0, do_print = False,\n",
    "                                      name = 'experiment_dropout', seed = None, batch_size = 100)"
   ]
  },
  {
   "cell_type": "code",
   "execution_count": 5,
   "metadata": {
    "deletable": false,
    "editable": false,
    "run_control": {
     "frozen": true
    }
   },
   "outputs": [],
   "source": [
    "# array of repetitions values\n",
    "rs = np.arange(10)[1:]"
   ]
  },
  {
   "cell_type": "code",
   "execution_count": 6,
   "metadata": {
    "deletable": false,
    "editable": false,
    "run_control": {
     "frozen": true
    }
   },
   "outputs": [
    {
     "name": "stderr",
     "output_type": "stream",
     "text": [
      "100%|██████████| 9/9 [00:37<00:00,  5.60s/it]\n"
     ]
    }
   ],
   "source": [
    "# obtaining accuracy for each repetition parameter\n",
    "results = [exp.get_accuracy_crash(repetitions = r) for r in tqdm(rs)]"
   ]
  },
  {
   "cell_type": "code",
   "execution_count": 10,
   "metadata": {
    "deletable": false,
    "editable": false,
    "run_control": {
     "frozen": true
    }
   },
   "outputs": [
    {
     "data": {
      "image/png": "[encoded data removed]",
      "text/plain": [
       "<Figure size 432x288 with 1 Axes>"
      ]
     },
     "metadata": {
      "needs_background": "light"
     },
     "output_type": "display_data"
    }
   ],
   "source": [
    "plt.figure()\n",
    "plt.title('Crash accuracy and repetitions')\n",
    "plt.plot(rs, [x['train'] for x in results], label = 'train')\n",
    "plt.plot(rs, [exp.get_accuracy_correct()['train']] * len(rs), label = 'true_train')\n",
    "plt.plot(rs, [exp.get_accuracy_correct()['test']] * len(rs), label = 'true_test')\n",
    "plt.plot(rs, [x['test'] for x in results], label = 'test')\n",
    "plt.legend()\n",
    "plt.show()"
   ]
  },
  {
   "cell_type": "code",
   "execution_count": 11,
   "metadata": {
    "deletable": false,
    "editable": false,
    "run_control": {
     "frozen": true
    }
   },
   "outputs": [
    {
     "name": "stderr",
     "output_type": "stream",
     "text": [
      "100%|██████████| 9/9 [00:35<00:00,  5.17s/it]\n"
     ]
    }
   ],
   "source": [
    "# obtaining accuracy for each repetition parameter\n",
    "results = [exp.get_mae_crash(repetitions = r) for r in tqdm(rs)]"
   ]
  },
  {
   "cell_type": "code",
   "execution_count": 14,
   "metadata": {
    "deletable": false,
    "editable": false,
    "run_control": {
     "frozen": true
    }
   },
   "outputs": [
    {
     "data": {
      "image/png": "[encoded data removed]",
      "text/plain": [
       "<Figure size 432x288 with 1 Axes>"
      ]
     },
     "metadata": {
      "needs_background": "light"
     },
     "output_type": "display_data"
    }
   ],
   "source": [
    "plt.figure()\n",
    "plt.title('Crash MAE and repetitions')\n",
    "plt.plot(rs, [x['train'] for x in results], label = 'train')\n",
    "plt.plot(rs, [exp.get_mae_correct()['train']] * len(rs), label = 'correct_train')\n",
    "plt.plot(rs, [exp.get_mae_correct()['test']] * len(rs), label = 'correct_test')\n",
    "plt.plot(rs, [x['test'] for x in results], label = 'test')\n",
    "plt.legend()\n",
    "plt.show()"
   ]
  },
  {
   "cell_type": "code",
   "execution_count": 4,
   "metadata": {
    "deletable": false,
    "editable": false,
    "run_control": {
     "frozen": true
    }
   },
   "outputs": [],
   "source": [
    "# 6 repetitions of the dataset is enough"
   ]
  },
  {
   "cell_type": "code",
   "execution_count": 12,
   "metadata": {
    "ExecuteTime": {
     "end_time": "2019-01-05T18:29:31.449951Z",
     "start_time": "2019-01-05T18:23:27.902559Z"
    }
   },
   "outputs": [
    {
     "name": "stderr",
     "output_type": "stream",
     "text": [
      "100%|██████████| 5/5 [00:59<00:00, 11.92s/it]\n",
      "100%|██████████| 5/5 [01:04<00:00, 13.10s/it]\n",
      "100%|██████████| 5/5 [01:17<00:00, 15.33s/it]\n",
      "100%|██████████| 5/5 [01:22<00:00, 15.99s/it]\n",
      "100%|██████████| 5/5 [01:19<00:00, 15.50s/it]\n"
     ]
    }
   ],
   "source": [
    "# obtaining results\n",
    "results_array = [get_results(p) for p in p_trains]"
   ]
  },
  {
   "cell_type": "code",
   "execution_count": 14,
   "metadata": {
    "ExecuteTime": {
     "end_time": "2019-01-05T18:30:14.182197Z",
     "start_time": "2019-01-05T18:30:14.066621Z"
    }
   },
   "outputs": [
    {
     "data": {
      "text/plain": [
       "<matplotlib.legend.Legend at 0x7f761c3b7ba8>"
      ]
     },
     "execution_count": 14,
     "metadata": {},
     "output_type": "execute_result"
    },
    {
     "data": {
      "image/png": "[encoded data removed]",
      "text/plain": [
       "<Figure size 432x288 with 1 Axes>"
      ]
     },
     "metadata": {
      "needs_background": "light"
     },
     "output_type": "display_data"
    }
   ],
   "source": [
    "plt.figure()\n",
    "\n",
    "def plot_quantity(results_array, name):\n",
    "    means = np.array([np.mean(r[name]) for r in results_array])\n",
    "    stds  = [np.std(r[name]) for r in results_array]\n",
    "    plt.plot(p_trains, means, label = name)\n",
    "    plt.fill_between(p_trains, means - stds, means + stds, alpha = 0.5)\n",
    "\n",
    "plot_quantity(results_array, 'correct_acc_test')\n",
    "plot_quantity(results_array, 'crashing_acc_test')\n",
    "plt.legend()"
   ]
  },
  {
   "cell_type": "code",
   "execution_count": null,
   "metadata": {},
   "outputs": [],
   "source": []
  }
 ],
 "metadata": {
  "kernelspec": {
   "display_name": "Python 3",
   "language": "python",
   "name": "python3"
  },
  "language_info": {
   "codemirror_mode": {
    "name": "ipython",
    "version": 3
   },
   "file_extension": ".py",
   "mimetype": "text/x-python",
   "name": "python",
   "nbconvert_exporter": "python",
   "pygments_lexer": "ipython3",
   "version": "3.6.6"
  },
  "notify_time": "5",
  "varInspector": {
   "cols": {
    "lenName": 16,
    "lenType": 16,
    "lenVar": 40
   },
   "kernels_config": {
    "python": {
     "delete_cmd_postfix": "",
     "delete_cmd_prefix": "del ",
     "library": "var_list.py",
     "varRefreshCmd": "print(var_dic_list())"
    },
    "r": {
     "delete_cmd_postfix": ") ",
     "delete_cmd_prefix": "rm(",
     "library": "var_list.r",
     "varRefreshCmd": "cat(var_dic_list()) "
    }
   },
   "position": {
    "height": "407px",
    "left": "1561px",
    "right": "20px",
    "top": "120px",
    "width": "339px"
   },
   "types_to_exclude": [
    "module",
    "function",
    "builtin_function_or_method",
    "instance",
    "_Feature"
   ],
   "window_display": true
  }
 },
 "nbformat": 4,
 "nbformat_minor": 2
}
