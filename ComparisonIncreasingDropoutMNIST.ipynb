{
 "cells": [
  {
   "cell_type": "code",
   "execution_count": 1,
   "metadata": {
    "ExecuteTime": {
     "end_time": "2019-01-05T18:08:17.220409Z",
     "start_time": "2019-01-05T18:08:15.964967Z"
    }
   },
   "outputs": [
    {
     "name": "stderr",
     "output_type": "stream",
     "text": [
      "Using TensorFlow backend.\n"
     ]
    },
    {
     "name": "stdout",
     "output_type": "stream",
     "text": [
      "Initialized TensorFlow\n"
     ]
    }
   ],
   "source": [
    "%load_ext autoreload\n",
    "%autoreload 2\n",
    "%matplotlib inline\n",
    "from experiment_train import *\n",
    "from experiment_datasets import *\n",
    "from helpers import *"
   ]
  },
  {
   "cell_type": "markdown",
   "metadata": {},
   "source": [
    "### Steps:\n",
    "1. Train $M$ networks for each dropout on training $p\\in[0,1]$\n",
    "2. Get mean MAE on test/train for crash/nocrash. How does it behave? **Read papers where Dropout actually works for simple datasets. Do they use scaled or unscaled dropout?**\n",
    "3. Get v1, v2, v3, v4 for each of the networks\n",
    "4. Compute the rank loss if the networks were ordered by these bounds\n",
    "5. What should be the batch size? Does keras update crashes at each iteration?"
   ]
  },
  {
   "cell_type": "code",
   "execution_count": 4,
   "metadata": {
    "ExecuteTime": {
     "end_time": "2019-01-05T18:08:39.599279Z",
     "start_time": "2019-01-05T18:08:39.583444Z"
    }
   },
   "outputs": [],
   "source": [
    "# network configuration\n",
    "N = [100, 50]\n",
    "\n",
    "def get_p_arr(p):\n",
    "    \"\"\" p array with failure on the first layer \"\"\"\n",
    "    return [0, p]  + [0] * len(N)\n",
    "\n",
    "# prob. of failure at inference\n",
    "p_inference = get_p_arr(0.05)\n",
    "\n",
    "# prob. of failure at train\n",
    "p_trains = np.linspace(0, 0.5, 10)\n",
    "\n",
    "# Lips. coeff\n",
    "KLips = 1.\n",
    "\n",
    "# activation function\n",
    "activation = 'sigmoid'\n",
    "\n",
    "# number of repeats for error estimation\n",
    "# see below for explanation\n",
    "repetitions = 6\n",
    "\n",
    "# number of runs for each p\n",
    "runs = 20"
   ]
  },
  {
   "cell_type": "code",
   "execution_count": 7,
   "metadata": {
    "ExecuteTime": {
     "end_time": "2019-01-05T18:09:36.687294Z",
     "start_time": "2019-01-05T18:09:36.671216Z"
    }
   },
   "outputs": [],
   "source": [
    "def get_results(p):\n",
    "    # obtaining the distribution after 10 epochs\n",
    "    results = []\n",
    "    \n",
    "    # current prob. of failure array\n",
    "    p_train = get_p_arr(p)\n",
    "    \n",
    "    def unravel(name, data):\n",
    "        return {name + '_' + key: data[key] for key in data.keys()}\n",
    "    \n",
    "    for _ in tqdm(range(runs)):\n",
    "        exp = MNISTExperiment(N = N, p_inference = p_inference, p_train = p_train, KLips = KLips, epochs = 10,\n",
    "                                      activation = activation, reg_type = None, reg_coeff = 0, do_print = False,\n",
    "                                      name = 'experiment_dropout', seed = None, batch_size = 100)\n",
    "        \n",
    "        results += [{**unravel('correct_acc', exp.get_accuracy_correct(test_only = True)),\n",
    "                     **unravel('crashing_acc', exp.get_accuracy_crash(test_only = True, repetitions = repetitions))\n",
    "                    }]\n",
    "        \n",
    "        # freeing up the memory\n",
    "        K.clear_session()\n",
    "        \n",
    "    # list of all keys\n",
    "    keys = list(results[0].keys())\n",
    "    \n",
    "    # return results\n",
    "    return {key: [value[key] for value in results] for key in keys}\n",
    "\n",
    "def process_results_single(results):\n",
    "    for key, value in results.items():\n",
    "        plt.figure()\n",
    "        plt.title('%s: %.3f +- %.3f med %.3f' % (key, np.mean(value), np.std(value), np.median(value)))\n",
    "        plt.hist(value)\n",
    "        plt.xlabel(key)\n",
    "        plt.show()"
   ]
  },
  {
   "cell_type": "code",
   "execution_count": 4,
   "metadata": {
    "deletable": false,
    "editable": false,
    "run_control": {
     "frozen": true
    }
   },
   "outputs": [],
   "source": [
    "exp = MNISTExperiment(N = N, p_inference = p_inference, p_train = get_p_arr(0.01), KLips = KLips, epochs = 10,\n",
    "                                      activation = activation, reg_type = None, reg_coeff = 0, do_print = False,\n",
    "                                      name = 'experiment_dropout', seed = None, batch_size = 100)"
   ]
  },
  {
   "cell_type": "code",
   "execution_count": 5,
   "metadata": {
    "deletable": false,
    "editable": false,
    "run_control": {
     "frozen": true
    }
   },
   "outputs": [],
   "source": [
    "# array of repetitions values\n",
    "rs = np.arange(10)[1:]"
   ]
  },
  {
   "cell_type": "code",
   "execution_count": 6,
   "metadata": {
    "deletable": false,
    "editable": false,
    "run_control": {
     "frozen": true
    }
   },
   "outputs": [
    {
     "name": "stderr",
     "output_type": "stream",
     "text": [
      "100%|██████████| 9/9 [00:37<00:00,  5.60s/it]\n"
     ]
    }
   ],
   "source": [
    "# obtaining accuracy for each repetition parameter\n",
    "results = [exp.get_accuracy_crash(repetitions = r) for r in tqdm(rs)]"
   ]
  },
  {
   "cell_type": "code",
   "execution_count": 10,
   "metadata": {
    "deletable": false,
    "editable": false,
    "run_control": {
     "frozen": true
    }
   },
   "outputs": [
    {
     "data": {
      "image/png": "[encoded data removed]",
      "text/plain": [
       "<Figure size 432x288 with 1 Axes>"
      ]
     },
     "metadata": {
      "needs_background": "light"
     },
     "output_type": "display_data"
    }
   ],
   "source": [
    "plt.figure()\n",
    "plt.title('Crash accuracy and repetitions')\n",
    "plt.plot(rs, [x['train'] for x in results], label = 'train')\n",
    "plt.plot(rs, [exp.get_accuracy_correct()['train']] * len(rs), label = 'true_train')\n",
    "plt.plot(rs, [exp.get_accuracy_correct()['test']] * len(rs), label = 'true_test')\n",
    "plt.plot(rs, [x['test'] for x in results], label = 'test')\n",
    "plt.legend()\n",
    "plt.show()"
   ]
  },
  {
   "cell_type": "code",
   "execution_count": 11,
   "metadata": {
    "deletable": false,
    "editable": false,
    "run_control": {
     "frozen": true
    }
   },
   "outputs": [
    {
     "name": "stderr",
     "output_type": "stream",
     "text": [
      "100%|██████████| 9/9 [00:35<00:00,  5.17s/it]\n"
     ]
    }
   ],
   "source": [
    "# obtaining accuracy for each repetition parameter\n",
    "results = [exp.get_mae_crash(repetitions = r) for r in tqdm(rs)]"
   ]
  },
  {
   "cell_type": "code",
   "execution_count": 14,
   "metadata": {
    "deletable": false,
    "editable": false,
    "run_control": {
     "frozen": true
    }
   },
   "outputs": [
    {
     "data": {
      "image/png": "[encoded data removed]",
      "text/plain": [
       "<Figure size 432x288 with 1 Axes>"
      ]
     },
     "metadata": {
      "needs_background": "light"
     },
     "output_type": "display_data"
    }
   ],
   "source": [
    "plt.figure()\n",
    "plt.title('Crash MAE and repetitions')\n",
    "plt.plot(rs, [x['train'] for x in results], label = 'train')\n",
    "plt.plot(rs, [exp.get_mae_correct()['train']] * len(rs), label = 'correct_train')\n",
    "plt.plot(rs, [exp.get_mae_correct()['test']] * len(rs), label = 'correct_test')\n",
    "plt.plot(rs, [x['test'] for x in results], label = 'test')\n",
    "plt.legend()\n",
    "plt.show()"
   ]
  },
  {
   "cell_type": "code",
   "execution_count": 4,
   "metadata": {
    "deletable": false,
    "editable": false,
    "run_control": {
     "frozen": true
    }
   },
   "outputs": [],
   "source": [
    "# 6 repetitions of the dataset is enough"
   ]
  },
  {
   "cell_type": "code",
   "execution_count": null,
   "metadata": {
    "ExecuteTime": {
     "start_time": "2019-01-05T18:09:41.728Z"
    }
   },
   "outputs": [
    {
     "name": "stderr",
     "output_type": "stream",
     "text": [
      "\n",
      "  0%|          | 0/20 [00:00<?, ?it/s]\u001b[A"
     ]
    }
   ],
   "source": [
    "get_results(0.01)"
   ]
  },
  {
   "cell_type": "code",
   "execution_count": null,
   "metadata": {},
   "outputs": [],
   "source": []
  },
  {
   "cell_type": "code",
   "execution_count": null,
   "metadata": {},
   "outputs": [],
   "source": []
  }
 ],
 "metadata": {
  "kernelspec": {
   "display_name": "Python 3",
   "language": "python",
   "name": "python3"
  },
  "notify_time": "5",
  "varInspector": {
   "cols": {
    "lenName": 16,
    "lenType": 16,
    "lenVar": 40
   },
   "kernels_config": {
    "python": {
     "delete_cmd_postfix": "",
     "delete_cmd_prefix": "del ",
     "library": "var_list.py",
     "varRefreshCmd": "print(var_dic_list())"
    },
    "r": {
     "delete_cmd_postfix": ") ",
     "delete_cmd_prefix": "rm(",
     "library": "var_list.r",
     "varRefreshCmd": "cat(var_dic_list()) "
    }
   },
   "position": {
    "height": "407px",
    "left": "1561px",
    "right": "20px",
    "top": "120px",
    "width": "339px"
   },
   "types_to_exclude": [
    "module",
    "function",
    "builtin_function_or_method",
    "instance",
    "_Feature"
   ],
   "window_display": true
  }
 },
 "nbformat": 4,
 "nbformat_minor": 2
}
