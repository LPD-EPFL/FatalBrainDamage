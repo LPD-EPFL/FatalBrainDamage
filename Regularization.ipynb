{
 "cells": [
  {
   "cell_type": "markdown",
   "metadata": {},
   "source": [
    "1. Take network config from MNIST Dropout experiment +\n",
    "2. Take p_fail_inference from the same experiment, choose p_fail_train from CV\n",
    "p_fail_train = 0.02, p_fail_inference = 0.05\n",
    "3. Try regularizing with the bound by subclassing Experiment and adding a separate loss to the model +\n",
    "4. Compare BestDropout vs Bestv3Regularization vs Bestv4Regularization\n",
    "\n",
    "Note that this method does not require any randomness, so even if it's as good as dropout, it still makes a difference. The problem might be that computing the gradient of the gradient is costly... However, the dimensionality stays the same"
   ]
  },
  {
   "cell_type": "code",
   "execution_count": 1,
   "metadata": {
    "ExecuteTime": {
     "end_time": "2019-01-09T10:40:11.151710Z",
     "start_time": "2019-01-09T10:40:09.658243Z"
    }
   },
   "outputs": [
    {
     "name": "stderr",
     "output_type": "stream",
     "text": [
      "Using TensorFlow backend.\n"
     ]
    },
    {
     "name": "stdout",
     "output_type": "stream",
     "text": [
      "Initialized TensorFlow\n"
     ]
    }
   ],
   "source": [
    "%load_ext autoreload\n",
    "%autoreload 2\n",
    "%matplotlib inline\n",
    "from experiment_train import *\n",
    "from experiment_datasets import *\n",
    "from helpers import *"
   ]
  },
  {
   "cell_type": "code",
   "execution_count": 3,
   "metadata": {
    "ExecuteTime": {
     "end_time": "2019-01-09T10:40:17.855833Z",
     "start_time": "2019-01-09T10:40:17.842640Z"
    }
   },
   "outputs": [],
   "source": [
    "# network configuration\n",
    "N = [100, 50]\n",
    "\n",
    "def get_p_arr(p):\n",
    "    \"\"\" p array with failure on the first layer \"\"\"\n",
    "    return [0, p]  + [0] * len(N)\n",
    "\n",
    "# prob. of failure at inference\n",
    "p_inf = 0.05\n",
    "p_inference = get_p_arr(p_inf)\n",
    "\n",
    "# prob. of failure at train\n",
    "p_trains = np.linspace(0, 1.2 * p_inf, 10)\n",
    "\n",
    "# Lips. coeff\n",
    "KLips = 1.\n",
    "\n",
    "# activation function\n",
    "activation = 'sigmoid'\n",
    "\n",
    "# number of repeats for error estimation\n",
    "# see below for explanation\n",
    "repetitions = 6\n",
    "\n",
    "# number of runs for each p\n",
    "runs = 10"
   ]
  },
  {
   "cell_type": "code",
   "execution_count": 61,
   "metadata": {
    "ExecuteTime": {
     "end_time": "2019-01-09T11:18:12.197915Z",
     "start_time": "2019-01-09T11:18:12.176209Z"
    }
   },
   "outputs": [],
   "source": [
    "class MNISTExperimentRegularized(TrainExperiment):\n",
    "    def __init__(self, N, p_inference = None, p_train = None, KLips = 1, epochs = 20, activation = 'sigmoid',\n",
    "                 reg_type = None, reg_coeff = 0.01, do_print = False, name = 'exp', seed = 0,\n",
    "                 batch_size = 10000, reg_bound = None, reg_bound_coeff = 0.0):\n",
    "        \"\"\" Get a trained with MSE loss network with configuration (N, P, activation) and reg_type(reg_coeff) with name. The last layer is linear\n",
    "                N: array with shapes [hidden1, hidden2, ..., hiddenLast]. Input and output shapes are determined automatically\n",
    "                p_inference: array with [p_input, p_h1, ..., p_hlast, p_output]: inference failure probabilities\n",
    "                Ptrain: same for the train\n",
    "                Regularizes the network with the v3 bound\n",
    "                Set reg_bound to v2/v3/v4 string and reg_bound_coeff to some value\n",
    "        \"\"\"\n",
    "        \n",
    "        # remembering the dataset\n",
    "        self.x_train, self.y_train, self.x_test, self.y_test = get_mnist(out_max = 1.0, in_max = 1.0)\n",
    "        x_train, y_train, x_test, y_test = self.x_train, self.y_train, self.x_test, self.y_test\n",
    "\n",
    "        # fixing Pinference\n",
    "        if p_inference == None:\n",
    "            p_inference = [0] * (len(N) + 2)\n",
    "\n",
    "        # fixing Ptrain\n",
    "        if p_train == None:\n",
    "            p_train = [0] * (len(N) + 2)\n",
    "\n",
    "        # obtaining input/output shape\n",
    "        input_shape = x_train[0].size\n",
    "        output_shape = y_train[0].size\n",
    "\n",
    "        # full array of shapes\n",
    "        N = [input_shape] + N + [output_shape]\n",
    "\n",
    "        # input check\n",
    "        assert len(p_inference) == len(p_train), \"Pinference and p_train must have the same length\"\n",
    "        assert len(N) == len(p_train), \"Ptrain must have two more elements compared to N\"\n",
    "        assert input_shape > 0, \"Input must exist\"\n",
    "        assert output_shape > 0, \"Output must exist\"\n",
    "\n",
    "        # filling in the task\n",
    "        self.task = 'classification'\n",
    "        \n",
    "        # seeding the weights generation\n",
    "        np.random.seed(seed)\n",
    "\n",
    "        # creating weight initialization\n",
    "        W, B = [], []\n",
    "        for i in range(1, len(N)):\n",
    "            W += [np.random.randn(N[i], N[i - 1]) * np.sqrt(2. / N[i - 1]) / KLips]\n",
    "            B += [np.random.randn(N[i])]\n",
    "\n",
    "        # print?\n",
    "        do_print_ = True if do_print == True else False\n",
    "    \n",
    "        # by default, no regularization with a bound\n",
    "        bound_loss = tf.Variable(0.0)\n",
    "    \n",
    "        # creating a model\n",
    "        model, parameters = create_fc_crashing_model(N, W, B, p_train, KLips = KLips, func = activation,\n",
    "                                         reg_type = reg_type, reg_coeff = reg_coeff, do_print = do_print_,\n",
    "                                         do_compile = False)\n",
    "        \n",
    "        # saving parameters to allow for the bound method to create the graph...\n",
    "        self.p_inference = p_inference\n",
    "        self.N = N\n",
    "        self.model_correct = model\n",
    "    \n",
    "        # if bound type is set...\n",
    "        if reg_bound:\n",
    "            # obtaining the bound method by name\n",
    "            bound_method = getattr(self, 'get_bound_%s' % reg_bound)\n",
    "\n",
    "            # calling on some dummy data to create the graph\n",
    "            bound_method(np.random.randn(1, N[0]))\n",
    "            \n",
    "            # obtaining the std bound graph\n",
    "            bound_loss = getattr(self, '__cache_get_bound_%s_get_graph_args_()_kwargs_{}' % reg_bound)['std'] ** 2\n",
    "            \n",
    "            # regularization = coeff * mean over the dataset\n",
    "            bound_loss = tf.reduce_mean(bound_loss) * reg_bound_coeff\n",
    "        \n",
    "        # obtaining its original loss\n",
    "        orig_loss = parameters['loss']\n",
    "        \n",
    "        # adding bound loss to parameter\n",
    "        parameters['loss'] = lambda y_true, y_pred: orig_loss(y_true, y_pred) + bound_loss\n",
    "        \n",
    "        # compiling the model\n",
    "        model.compile(**parameters)\n",
    "    \n",
    "        # fitting the model on the train data\n",
    "        history = model.fit(x_train, y_train, verbose = do_print_, batch_size = batch_size, epochs = epochs, validation_data = (x_test, y_test))\n",
    "    \n",
    "        # plotting the loss\n",
    "        if do_print and epochs > 0:\n",
    "    \n",
    "          # determining what to plot (target)\n",
    "          if self.task == 'classification':\n",
    "            target = 'categorical_accuracy'\n",
    "          else: raise NotImplementedError(\"Plotting for this task is not supported\")\n",
    "    \n",
    "          # plotting\n",
    "          plt.figure()\n",
    "          plt.plot(history.history['val_' + target], label = 'val_' + target)\n",
    "          plt.plot(history.history[target], label = target)\n",
    "          plt.legend()\n",
    "          plt.savefig('training_' + name + '.png')\n",
    "          plt.show()\n",
    "        \n",
    "          # plotting\n",
    "          plt.figure()\n",
    "          plt.plot(history.history['loss'], label = 'loss')\n",
    "          plt.legend()\n",
    "          plt.show()\n",
    "    \n",
    "        # obtaining trained weights and biases\n",
    "        W = model.get_weights()[0::2]\n",
    "        W = [w.T for w in W]\n",
    "        B = model.get_weights()[1::2]\n",
    "    \n",
    "        # creating \"crashing\" and \"normal\" models\n",
    "        Experiment.__init__(self, N, W, B, p_inference, KLips = KLips, activation = activation, do_print = do_print_, name = name)"
   ]
  },
  {
   "cell_type": "code",
   "execution_count": 63,
   "metadata": {
    "ExecuteTime": {
     "end_time": "2019-01-09T11:18:57.553526Z",
     "start_time": "2019-01-09T11:18:40.934230Z"
    }
   },
   "outputs": [
    {
     "data": {
      "image/png": "[encoded data removed]",
      "text/plain": [
       "<Figure size 432x288 with 1 Axes>"
      ]
     },
     "metadata": {
      "needs_background": "light"
     },
     "output_type": "display_data"
    },
    {
     "data": {
      "image/png": "[encoded data removed]",
      "text/plain": [
       "<Figure size 432x288 with 1 Axes>"
      ]
     },
     "metadata": {
      "needs_background": "light"
     },
     "output_type": "display_data"
    }
   ],
   "source": [
    "exp = MNISTExperimentRegularized(N, p_inference = p_inference, KLips = KLips, epochs = 50,\n",
    "                                 activation = activation, seed = None,\n",
    "                                 reg_bound = 'v3', reg_bound_coeff = 0.01, do_print = 'plot')"
   ]
  }
 ],
 "metadata": {
  "kernelspec": {
   "display_name": "Python 3",
   "language": "python",
   "name": "python3"
  },
  "language_info": {
   "codemirror_mode": {
    "name": "ipython",
    "version": 3
   },
   "file_extension": ".py",
   "mimetype": "text/x-python",
   "name": "python",
   "nbconvert_exporter": "python",
   "pygments_lexer": "ipython3",
   "version": "3.6.6"
  },
  "varInspector": {
   "cols": {
    "lenName": 16,
    "lenType": 16,
    "lenVar": 40
   },
   "kernels_config": {
    "python": {
     "delete_cmd_postfix": "",
     "delete_cmd_prefix": "del ",
     "library": "var_list.py",
     "varRefreshCmd": "print(var_dic_list())"
    },
    "r": {
     "delete_cmd_postfix": ") ",
     "delete_cmd_prefix": "rm(",
     "library": "var_list.r",
     "varRefreshCmd": "cat(var_dic_list()) "
    }
   },
   "types_to_exclude": [
    "module",
    "function",
    "builtin_function_or_method",
    "instance",
    "_Feature"
   ],
   "window_display": false
  }
 },
 "nbformat": 4,
 "nbformat_minor": 2
}
