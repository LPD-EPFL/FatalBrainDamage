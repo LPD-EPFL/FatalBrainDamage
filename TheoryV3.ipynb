{
 "cells": [
  {
   "cell_type": "code",
   "execution_count": 42,
   "metadata": {},
   "outputs": [],
   "source": [
    "%matplotlib inline\n",
    "from matplotlib import pyplot as plt\n",
    "import numpy as np"
   ]
  },
  {
   "cell_type": "code",
   "execution_count": 43,
   "metadata": {},
   "outputs": [],
   "source": [
    "def relu(x):\n",
    "    x = np.copy(x)\n",
    "    x[x < 0] = 0\n",
    "    return x"
   ]
  },
  {
   "cell_type": "code",
   "execution_count": 55,
   "metadata": {},
   "outputs": [],
   "source": [
    "# input dimension\n",
    "n = 100\n",
    "\n",
    "# output dimension\n",
    "m = 100\n",
    "\n",
    "# number of points\n",
    "k = 10000\n",
    "\n",
    "# inputs\n",
    "x0 = np.random.randn(n, 1) * 100\n",
    "X = np.random.randn(n, k) + x0\n",
    "\n",
    "# weight matrix\n",
    "W = [np.random.randn(m, n) for _ in range(10)]\n",
    "\n",
    "# biases\n",
    "b = np.random.randn(m, 1)\n",
    "\n",
    "# computing outputs\n",
    "for w in W:\n",
    "    X = relu(w @ X + b)"
   ]
  },
  {
   "cell_type": "code",
   "execution_count": 56,
   "metadata": {},
   "outputs": [
    {
     "data": {
      "text/plain": [
       "(array([   9.,   88.,  520., 1681., 2840., 2729., 1559.,  474.,   93.,\n",
       "           7.]),\n",
       " array([2.93713634e+10, 2.96428698e+10, 2.99143761e+10, 3.01858824e+10,\n",
       "        3.04573888e+10, 3.07288951e+10, 3.10004014e+10, 3.12719078e+10,\n",
       "        3.15434141e+10, 3.18149205e+10, 3.20864268e+10]),\n",
       " <a list of 10 Patch objects>)"
      ]
     },
     "execution_count": 56,
     "metadata": {},
     "output_type": "execute_result"
    },
    {
     "data": {
      "image/png": "[encoded data removed]",
      "text/plain": [
       "<Figure size 432x288 with 1 Axes>"
      ]
     },
     "metadata": {
      "needs_background": "light"
     },
     "output_type": "display_data"
    }
   ],
   "source": [
    "plt.hist(X[1, :])"
   ]
  },
  {
   "cell_type": "code",
   "execution_count": 57,
   "metadata": {},
   "outputs": [
    {
     "name": "stdout",
     "output_type": "stream",
     "text": [
      "8.461652379496469 19.270151958351942\n",
      "8.49872781300166 19.27420141638459\n",
      "8.418829428389165 19.448753720803236\n",
      "8.449801773687012 20.006623089936433\n",
      "8.48965239274474 19.327245889204164\n",
      "8.482621975142996 19.052850176399232\n",
      "8.439654171361065 19.363814813127284\n",
      "8.488690153353964 19.931436062333297\n",
      "8.587671868438255 19.599712365036545\n",
      "8.406016774161053 19.194673460776908\n"
     ]
    }
   ],
   "source": [
    "p = 0.01\n",
    "for w in W:\n",
    "    sp = np.linalg.eig(w.T @ w)[0] ** 0.5\n",
    "    print(np.mean(sp), np.max(sp))"
   ]
  },
  {
   "cell_type": "code",
   "execution_count": 61,
   "metadata": {},
   "outputs": [
    {
     "data": {
      "text/plain": [
       "1.0"
      ]
     },
     "execution_count": 61,
     "metadata": {},
     "output_type": "execute_result"
    }
   ],
   "source": [
    "10**len(W)/1e10"
   ]
  },
  {
   "cell_type": "code",
   "execution_count": null,
   "metadata": {},
   "outputs": [],
   "source": []
  }
 ],
 "metadata": {
  "kernelspec": {
   "display_name": "Python 3",
   "language": "python",
   "name": "python3"
  },
  "language_info": {
   "codemirror_mode": {
    "name": "ipython",
    "version": 3
   },
   "file_extension": ".py",
   "mimetype": "text/x-python",
   "name": "python",
   "nbconvert_exporter": "python",
   "pygments_lexer": "ipython3",
   "version": "3.6.6"
  }
 },
 "nbformat": 4,
 "nbformat_minor": 2
}
