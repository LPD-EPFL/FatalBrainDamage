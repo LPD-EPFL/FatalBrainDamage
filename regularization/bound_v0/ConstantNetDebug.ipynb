{
 "cells": [
  {
   "cell_type": "code",
   "execution_count": 2,
   "metadata": {},
   "outputs": [],
   "source": [
    "import numpy as np\n",
    "%matplotlib inline\n",
    "from matplotlib import pyplot as plt\n",
    "from scipy.special import expit\n",
    "from experiment_constant import *"
   ]
  },
  {
   "cell_type": "code",
   "execution_count": 3,
   "metadata": {},
   "outputs": [
    {
     "name": "stdout",
     "output_type": "stream",
     "text": [
      "Creating network for 3-dimensional input and 1-dimensional output, with 1 hidden layers\n"
     ]
    }
   ],
   "source": [
    "W1 = np.ones((3, 2))\n",
    "W2 = np.ones((2, 1))\n",
    "B1 = np.zeros((2, 1))\n",
    "B2 = np.zeros((1, 1))\n",
    "net = ConstantExperiment([3, 2, 1], 0.1, 1, [W1, W2], [B1, B2], do_print = True)"
   ]
  },
  {
   "cell_type": "code",
   "execution_count": 4,
   "metadata": {},
   "outputs": [
    {
     "name": "stdout",
     "output_type": "stream",
     "text": [
      "(0.2, 0.469041575982343)\n"
     ]
    }
   ],
   "source": [
    "print(net.get_mean_std_error())\n",
    "assert np.allclose(net.get_mean_std_error(), [1. / 5, 22 ** 0.5 / 10]), \"Theoretical variance and mean for one hidden layer\""
   ]
  },
  {
   "cell_type": "code",
   "execution_count": 22,
   "metadata": {},
   "outputs": [
    {
     "data": {
      "text/plain": [
       "0.19994259"
      ]
     },
     "execution_count": 22,
     "metadata": {},
     "output_type": "execute_result"
    }
   ],
   "source": [
    "#np.std(np.abs(net.get_error(np.random.randn(3), repetitions = 100000)))\n",
    "np.mean(np.abs(net.get_error(np.ones(3), repetitions = 1000000)))"
   ]
  },
  {
   "cell_type": "code",
   "execution_count": 17,
   "metadata": {},
   "outputs": [
    {
     "data": {
      "text/plain": [
       "0.17992700273194362"
      ]
     },
     "execution_count": 17,
     "metadata": {},
     "output_type": "execute_result"
    }
   ],
   "source": [
    "expit(3*expit(1))*2*0.1"
   ]
  },
  {
   "cell_type": "code",
   "execution_count": 30,
   "metadata": {},
   "outputs": [
    {
     "data": {
      "text/plain": [
       "0.42462364"
      ]
     },
     "execution_count": 30,
     "metadata": {},
     "output_type": "execute_result"
    }
   ],
   "source": [
    "np.std(np.abs(net.get_error(np.ones(3), repetitions = 100000)))"
   ]
  },
  {
   "cell_type": "code",
   "execution_count": null,
   "metadata": {
    "collapsed": true
   },
   "outputs": [],
   "source": []
  }
 ],
 "metadata": {
  "kernelspec": {
   "display_name": "Python 3",
   "language": "python",
   "name": "python3"
  },
  "language_info": {
   "codemirror_mode": {
    "name": "ipython",
    "version": 3
   },
   "file_extension": ".py",
   "mimetype": "text/x-python",
   "name": "python",
   "nbconvert_exporter": "python",
   "pygments_lexer": "ipython3",
   "version": "3.6.3"
  }
 },
 "nbformat": 4,
 "nbformat_minor": 2
}
