{
 "cells": [
  {
   "cell_type": "markdown",
   "metadata": {},
   "source": [
    "### Test of regularization with error network"
   ]
  },
  {
   "cell_type": "code",
   "execution_count": 1,
   "metadata": {},
   "outputs": [
    {
     "name": "stderr",
     "output_type": "stream",
     "text": [
      "Using TensorFlow backend.\n"
     ]
    }
   ],
   "source": [
    "import os\n",
    "os.environ[\"CUDA_DEVICE_ORDER\"]=\"PCI_BUS_ID\"   # see issue #152\n",
    "os.environ[\"CUDA_VISIBLE_DEVICES\"]=\"0\"\n",
    "\n",
    "import tensorflow as tf\n",
    "from keras.backend.tensorflow_backend import set_session\n",
    "\n",
    "config = tf.ConfigProto()\n",
    "config.gpu_options.per_process_gpu_memory_fraction = 0.5\n",
    "config.gpu_options.allow_growth = True\n",
    "set_session(tf.Session(config=config))\n",
    "\n",
    "import numpy as np\n",
    "%matplotlib inline\n",
    "from matplotlib import pyplot as plt\n",
    "\n",
    "import keras\n",
    "from keras import backend as K\n",
    "from keras.models import Sequential\n",
    "from keras.layers import Dense, Dropout, Flatten\n",
    "from keras.layers.core import Lambda\n",
    "from keras.initializers import Constant\n",
    "from keras.regularizers import l1, l2\n",
    "from experiment_constant import *\n",
    "from helpers import *\n",
    "from functools import partial"
   ]
  },
  {
   "cell_type": "code",
   "execution_count": 2,
   "metadata": {},
   "outputs": [],
   "source": [
    "x_train, y_train, x_test, y_test = get_mnist()"
   ]
  },
  {
   "cell_type": "code",
   "execution_count": 3,
   "metadata": {},
   "outputs": [],
   "source": [
    "# max per layer variable\n",
    "C1 = K.variable(value = np.zeros((11, 1)))\n",
    "C2 = K.variable(value = np.zeros((12, 1)))\n",
    "C3 = K.variable(value = np.zeros((13, 1)))\n",
    "C = [C1, C2, C3]"
   ]
  },
  {
   "cell_type": "code",
   "execution_count": 4,
   "metadata": {},
   "outputs": [],
   "source": [
    "# first layer of error network\n",
    "errors = {0: K.variable(value = np.zeros((11, 1)))}"
   ]
  },
  {
   "cell_type": "code",
   "execution_count": 5,
   "metadata": {},
   "outputs": [
    {
     "name": "stdout",
     "output_type": "stream",
     "text": [
      "Error is_last = 0 1 = W(pC + K(1-p) DeltaOld) p = 0.100000 C = <tf.Variable 'Variable:0' shape=(11, 1) dtype=float32_ref> K = 1.110000 DeltaOld = <tf.Variable 'Variable_3:0' shape=(11, 1) dtype=float32_ref> W = Tensor(\"dense_2/weight_regularizer/Abs:0\", shape=(11, 12), dtype=float32)\n",
      "Error is_last = 0 2 = W(pC + K(1-p) DeltaOld) p = 0.200000 C = <tf.Variable 'Variable_1:0' shape=(12, 1) dtype=float32_ref> K = 1.110000 DeltaOld = Tensor(\"dense_2/weight_regularizer/MatMul:0\", shape=(12, 1), dtype=float32) W = Tensor(\"dense_3/weight_regularizer/Abs:0\", shape=(12, 13), dtype=float32)\n",
      "Error is_last = 1 3 = W(pC + K(1-p) DeltaOld) p = 0.300000 C = <tf.Variable 'Variable_2:0' shape=(13, 1) dtype=float32_ref> K = 1.110000 DeltaOld = Tensor(\"dense_3/weight_regularizer/MatMul:0\", shape=(13, 1), dtype=float32) W = Tensor(\"dense_4/weight_regularizer/Abs:0\", shape=(13, 10), dtype=float32)\n"
     ]
    }
   ],
   "source": [
    "# defining the network\n",
    "model = Sequential()\n",
    "model.add(Dense(11, kernel_initializer = 'random_normal', bias_initializer = 'random_normal', activation = lambda x : K.relu(1.11 * x), input_shape = (784,)))\n",
    "model.add(Dense(12, kernel_initializer = 'random_normal', bias_initializer = 'random_normal', activation = lambda x : K.relu(1.11 * x), kernel_regularizer = get_kernel_reg_v2(1, errors, False, C1, 0.1, 1.11, 0)))\n",
    "model.add(Dense(13, kernel_initializer = 'random_normal', bias_initializer = 'random_normal', activation = lambda x : K.relu(1.11 * x), kernel_regularizer = get_kernel_reg_v2(2, errors, False, C2, 0.2, 1.11, 0)))\n",
    "model.add(Dense(10, kernel_initializer = 'random_normal', bias_initializer = 'random_normal', activation = 'linear', kernel_regularizer = get_kernel_reg_v2(3, errors, True, C3, 0.3, 1.11, 0.01)))"
   ]
  },
  {
   "cell_type": "code",
   "execution_count": 6,
   "metadata": {},
   "outputs": [],
   "source": [
    "# calculating mean per neuron bound\n",
    "inp = model.input\n",
    "outputs = [K.mean(K.abs(layer.output), axis = 0) for layer in model.layers]\n",
    "mean_per_neuron = lambda x : (K.function([inp, K.learning_phase()], outputs))([x, 1])"
   ]
  },
  {
   "cell_type": "code",
   "execution_count": 7,
   "metadata": {},
   "outputs": [],
   "source": [
    "# calculating delta network output\n",
    "delta_network = lambda : (K.function([K.learning_phase()], [K.mean(errors[3])]))([1])[0]"
   ]
  },
  {
   "cell_type": "code",
   "execution_count": 8,
   "metadata": {},
   "outputs": [],
   "source": [
    "# compiling the model\n",
    "model.compile(loss=keras.losses.mean_squared_error,\n",
    "              optimizer=keras.optimizers.Adadelta(),\n",
    "              metrics=['accuracy', 'mean_squared_error'])"
   ]
  },
  {
   "cell_type": "code",
   "execution_count": 9,
   "metadata": {},
   "outputs": [
    {
     "name": "stdout",
     "output_type": "stream",
     "text": [
      "Train on 60000 samples, validate on 10000 samples\n",
      "Epoch 1/1\n",
      "60000/60000 [==============================] - 1s 9us/step - loss: 0.1290 - acc: 0.0851 - mean_squared_error: 0.1290 - val_loss: 0.1050 - val_acc: 0.0995 - val_mean_squared_error: 0.1050\n",
      "Train on 60000 samples, validate on 10000 samples\n",
      "Epoch 1/1\n",
      "60000/60000 [==============================] - 0s 4us/step - loss: 0.1076 - acc: 0.1066 - mean_squared_error: 0.1031 - val_loss: 0.1028 - val_acc: 0.1210 - val_mean_squared_error: 0.0985\n",
      "Train on 60000 samples, validate on 10000 samples\n",
      "Epoch 1/1\n",
      "60000/60000 [==============================] - 0s 4us/step - loss: 0.1021 - acc: 0.1232 - mean_squared_error: 0.0976 - val_loss: 0.0989 - val_acc: 0.1362 - val_mean_squared_error: 0.0946\n",
      "Train on 60000 samples, validate on 10000 samples\n",
      "Epoch 1/1\n",
      "60000/60000 [==============================] - 0s 4us/step - loss: 0.0987 - acc: 0.1425 - mean_squared_error: 0.0940 - val_loss: 0.0963 - val_acc: 0.1664 - val_mean_squared_error: 0.0918\n",
      "Train on 60000 samples, validate on 10000 samples\n",
      "Epoch 1/1\n",
      "60000/60000 [==============================] - 0s 4us/step - loss: 0.0963 - acc: 0.1760 - mean_squared_error: 0.0914 - val_loss: 0.0943 - val_acc: 0.2053 - val_mean_squared_error: 0.0896\n",
      "Train on 60000 samples, validate on 10000 samples\n",
      "Epoch 1/1\n",
      "60000/60000 [==============================] - 0s 4us/step - loss: 0.0944 - acc: 0.2113 - mean_squared_error: 0.0893 - val_loss: 0.0925 - val_acc: 0.2391 - val_mean_squared_error: 0.0876\n",
      "Train on 60000 samples, validate on 10000 samples\n",
      "Epoch 1/1\n",
      "60000/60000 [==============================] - 0s 4us/step - loss: 0.0928 - acc: 0.2361 - mean_squared_error: 0.0876 - val_loss: 0.0918 - val_acc: 0.2594 - val_mean_squared_error: 0.0867\n",
      "Train on 60000 samples, validate on 10000 samples\n",
      "Epoch 1/1\n",
      "60000/60000 [==============================] - 0s 4us/step - loss: 0.0921 - acc: 0.2601 - mean_squared_error: 0.0870 - val_loss: 0.0918 - val_acc: 0.2640 - val_mean_squared_error: 0.0868\n",
      "Train on 60000 samples, validate on 10000 samples\n",
      "Epoch 1/1\n",
      "60000/60000 [==============================] - 0s 4us/step - loss: 0.0916 - acc: 0.2715 - mean_squared_error: 0.0865 - val_loss: 0.0903 - val_acc: 0.3143 - val_mean_squared_error: 0.0853\n",
      "Train on 60000 samples, validate on 10000 samples\n",
      "Epoch 1/1\n",
      "60000/60000 [==============================] - 0s 4us/step - loss: 0.0900 - acc: 0.3150 - mean_squared_error: 0.0851 - val_loss: 0.0886 - val_acc: 0.3522 - val_mean_squared_error: 0.0837\n",
      "Train on 60000 samples, validate on 10000 samples\n",
      "Epoch 1/1\n",
      "60000/60000 [==============================] - 0s 4us/step - loss: 0.0886 - acc: 0.3419 - mean_squared_error: 0.0836 - val_loss: 0.0876 - val_acc: 0.3660 - val_mean_squared_error: 0.0828\n",
      "Train on 60000 samples, validate on 10000 samples\n",
      "Epoch 1/1\n",
      "60000/60000 [==============================] - 0s 4us/step - loss: 0.0877 - acc: 0.3574 - mean_squared_error: 0.0827 - val_loss: 0.0867 - val_acc: 0.3784 - val_mean_squared_error: 0.0819\n",
      "Train on 60000 samples, validate on 10000 samples\n",
      "Epoch 1/1\n",
      "60000/60000 [==============================] - 0s 4us/step - loss: 0.0866 - acc: 0.3717 - mean_squared_error: 0.0816 - val_loss: 0.0854 - val_acc: 0.3991 - val_mean_squared_error: 0.0806\n",
      "Train on 60000 samples, validate on 10000 samples\n",
      "Epoch 1/1\n",
      "60000/60000 [==============================] - 0s 4us/step - loss: 0.0854 - acc: 0.3844 - mean_squared_error: 0.0805 - val_loss: 0.0847 - val_acc: 0.4072 - val_mean_squared_error: 0.0799\n",
      "Train on 60000 samples, validate on 10000 samples\n",
      "Epoch 1/1\n",
      "60000/60000 [==============================] - 0s 4us/step - loss: 0.0846 - acc: 0.3970 - mean_squared_error: 0.0796 - val_loss: 0.0835 - val_acc: 0.4212 - val_mean_squared_error: 0.0786\n",
      "Train on 60000 samples, validate on 10000 samples\n",
      "Epoch 1/1\n",
      "60000/60000 [==============================] - 0s 4us/step - loss: 0.0835 - acc: 0.4075 - mean_squared_error: 0.0786 - val_loss: 0.0830 - val_acc: 0.4286 - val_mean_squared_error: 0.0781\n",
      "Train on 60000 samples, validate on 10000 samples\n",
      "Epoch 1/1\n",
      "60000/60000 [==============================] - 0s 4us/step - loss: 0.0828 - acc: 0.4171 - mean_squared_error: 0.0779 - val_loss: 0.0816 - val_acc: 0.4427 - val_mean_squared_error: 0.0768\n",
      "Train on 60000 samples, validate on 10000 samples\n",
      "Epoch 1/1\n",
      "60000/60000 [==============================] - 0s 4us/step - loss: 0.0818 - acc: 0.4267 - mean_squared_error: 0.0769 - val_loss: 0.0809 - val_acc: 0.4518 - val_mean_squared_error: 0.0761\n",
      "Train on 60000 samples, validate on 10000 samples\n",
      "Epoch 1/1\n",
      "60000/60000 [==============================] - 0s 4us/step - loss: 0.0808 - acc: 0.4346 - mean_squared_error: 0.0759 - val_loss: 0.0795 - val_acc: 0.4597 - val_mean_squared_error: 0.0746\n",
      "Train on 60000 samples, validate on 10000 samples\n",
      "Epoch 1/1\n",
      "60000/60000 [==============================] - 0s 4us/step - loss: 0.0796 - acc: 0.4442 - mean_squared_error: 0.0748 - val_loss: 0.0787 - val_acc: 0.4649 - val_mean_squared_error: 0.0738\n",
      "Train on 60000 samples, validate on 10000 samples\n",
      "Epoch 1/1\n",
      "60000/60000 [==============================] - 0s 4us/step - loss: 0.0787 - acc: 0.4482 - mean_squared_error: 0.0738 - val_loss: 0.0774 - val_acc: 0.4752 - val_mean_squared_error: 0.0726\n",
      "Train on 60000 samples, validate on 10000 samples\n",
      "Epoch 1/1\n",
      "60000/60000 [==============================] - 0s 4us/step - loss: 0.0777 - acc: 0.4550 - mean_squared_error: 0.0729 - val_loss: 0.0768 - val_acc: 0.4830 - val_mean_squared_error: 0.0720\n",
      "Train on 60000 samples, validate on 10000 samples\n",
      "Epoch 1/1\n",
      "60000/60000 [==============================] - 0s 4us/step - loss: 0.0770 - acc: 0.4600 - mean_squared_error: 0.0721 - val_loss: 0.0761 - val_acc: 0.4921 - val_mean_squared_error: 0.0713\n",
      "Train on 60000 samples, validate on 10000 samples\n",
      "Epoch 1/1\n",
      "60000/60000 [==============================] - 0s 4us/step - loss: 0.0761 - acc: 0.4656 - mean_squared_error: 0.0713 - val_loss: 0.0752 - val_acc: 0.4984 - val_mean_squared_error: 0.0705\n",
      "Train on 60000 samples, validate on 10000 samples\n",
      "Epoch 1/1\n",
      "60000/60000 [==============================] - 0s 4us/step - loss: 0.0752 - acc: 0.4700 - mean_squared_error: 0.0705 - val_loss: 0.0745 - val_acc: 0.5051 - val_mean_squared_error: 0.0698\n",
      "Train on 60000 samples, validate on 10000 samples\n",
      "Epoch 1/1\n",
      "60000/60000 [==============================] - 0s 4us/step - loss: 0.0745 - acc: 0.4727 - mean_squared_error: 0.0698 - val_loss: 0.0735 - val_acc: 0.5081 - val_mean_squared_error: 0.0689\n",
      "Train on 60000 samples, validate on 10000 samples\n",
      "Epoch 1/1\n",
      "60000/60000 [==============================] - 0s 4us/step - loss: 0.0734 - acc: 0.4799 - mean_squared_error: 0.0687 - val_loss: 0.0719 - val_acc: 0.5115 - val_mean_squared_error: 0.0674\n",
      "Train on 60000 samples, validate on 10000 samples\n",
      "Epoch 1/1\n",
      "60000/60000 [==============================] - 0s 4us/step - loss: 0.0723 - acc: 0.4847 - mean_squared_error: 0.0676 - val_loss: 0.0713 - val_acc: 0.5131 - val_mean_squared_error: 0.0667\n",
      "Train on 60000 samples, validate on 10000 samples\n",
      "Epoch 1/1\n",
      "60000/60000 [==============================] - 0s 4us/step - loss: 0.0715 - acc: 0.4894 - mean_squared_error: 0.0668 - val_loss: 0.0704 - val_acc: 0.5177 - val_mean_squared_error: 0.0658\n",
      "Train on 60000 samples, validate on 10000 samples\n",
      "Epoch 1/1\n",
      "60000/60000 [==============================] - 0s 4us/step - loss: 0.0707 - acc: 0.4936 - mean_squared_error: 0.0660 - val_loss: 0.0698 - val_acc: 0.5193 - val_mean_squared_error: 0.0651\n",
      "Train on 60000 samples, validate on 10000 samples\n",
      "Epoch 1/1\n",
      "60000/60000 [==============================] - 0s 4us/step - loss: 0.0703 - acc: 0.4940 - mean_squared_error: 0.0655 - val_loss: 0.0701 - val_acc: 0.5188 - val_mean_squared_error: 0.0654\n",
      "Train on 60000 samples, validate on 10000 samples\n",
      "Epoch 1/1\n",
      "60000/60000 [==============================] - 0s 4us/step - loss: 0.0701 - acc: 0.4957 - mean_squared_error: 0.0654 - val_loss: 0.0694 - val_acc: 0.5185 - val_mean_squared_error: 0.0648\n",
      "Train on 60000 samples, validate on 10000 samples\n",
      "Epoch 1/1\n",
      "60000/60000 [==============================] - 0s 4us/step - loss: 0.0696 - acc: 0.4974 - mean_squared_error: 0.0649 - val_loss: 0.0690 - val_acc: 0.5162 - val_mean_squared_error: 0.0644\n",
      "Train on 60000 samples, validate on 10000 samples\n",
      "Epoch 1/1\n"
     ]
    },
    {
     "name": "stdout",
     "output_type": "stream",
     "text": [
      "60000/60000 [==============================] - 0s 4us/step - loss: 0.0690 - acc: 0.4958 - mean_squared_error: 0.0644 - val_loss: 0.0682 - val_acc: 0.5156 - val_mean_squared_error: 0.0636\n",
      "Train on 60000 samples, validate on 10000 samples\n",
      "Epoch 1/1\n",
      "60000/60000 [==============================] - 0s 4us/step - loss: 0.0684 - acc: 0.4965 - mean_squared_error: 0.0637 - val_loss: 0.0676 - val_acc: 0.5129 - val_mean_squared_error: 0.0630\n",
      "Train on 60000 samples, validate on 10000 samples\n",
      "Epoch 1/1\n",
      "60000/60000 [==============================] - 0s 4us/step - loss: 0.0678 - acc: 0.4978 - mean_squared_error: 0.0631 - val_loss: 0.0667 - val_acc: 0.5173 - val_mean_squared_error: 0.0621\n",
      "Train on 60000 samples, validate on 10000 samples\n",
      "Epoch 1/1\n",
      "60000/60000 [==============================] - 0s 4us/step - loss: 0.0670 - acc: 0.5038 - mean_squared_error: 0.0623 - val_loss: 0.0659 - val_acc: 0.5235 - val_mean_squared_error: 0.0613\n",
      "Train on 60000 samples, validate on 10000 samples\n",
      "Epoch 1/1\n",
      "60000/60000 [==============================] - 0s 4us/step - loss: 0.0663 - acc: 0.5092 - mean_squared_error: 0.0616 - val_loss: 0.0653 - val_acc: 0.5259 - val_mean_squared_error: 0.0607\n",
      "Train on 60000 samples, validate on 10000 samples\n",
      "Epoch 1/1\n",
      "60000/60000 [==============================] - 0s 4us/step - loss: 0.0658 - acc: 0.5120 - mean_squared_error: 0.0612 - val_loss: 0.0652 - val_acc: 0.5251 - val_mean_squared_error: 0.0606\n",
      "Train on 60000 samples, validate on 10000 samples\n",
      "Epoch 1/1\n",
      "60000/60000 [==============================] - 0s 4us/step - loss: 0.0655 - acc: 0.5129 - mean_squared_error: 0.0609 - val_loss: 0.0644 - val_acc: 0.5293 - val_mean_squared_error: 0.0598\n",
      "Train on 60000 samples, validate on 10000 samples\n",
      "Epoch 1/1\n",
      "60000/60000 [==============================] - 0s 4us/step - loss: 0.0649 - acc: 0.5157 - mean_squared_error: 0.0603 - val_loss: 0.0638 - val_acc: 0.5326 - val_mean_squared_error: 0.0592\n",
      "Train on 60000 samples, validate on 10000 samples\n",
      "Epoch 1/1\n",
      "60000/60000 [==============================] - 0s 4us/step - loss: 0.0644 - acc: 0.5186 - mean_squared_error: 0.0598 - val_loss: 0.0634 - val_acc: 0.5334 - val_mean_squared_error: 0.0589\n",
      "Train on 60000 samples, validate on 10000 samples\n",
      "Epoch 1/1\n",
      "60000/60000 [==============================] - 0s 4us/step - loss: 0.0641 - acc: 0.5197 - mean_squared_error: 0.0596 - val_loss: 0.0632 - val_acc: 0.5339 - val_mean_squared_error: 0.0587\n",
      "Train on 60000 samples, validate on 10000 samples\n",
      "Epoch 1/1\n",
      "60000/60000 [==============================] - 0s 4us/step - loss: 0.0639 - acc: 0.5202 - mean_squared_error: 0.0594 - val_loss: 0.0627 - val_acc: 0.5357 - val_mean_squared_error: 0.0583\n",
      "Train on 60000 samples, validate on 10000 samples\n",
      "Epoch 1/1\n",
      "60000/60000 [==============================] - 0s 4us/step - loss: 0.0635 - acc: 0.5221 - mean_squared_error: 0.0590 - val_loss: 0.0628 - val_acc: 0.5330 - val_mean_squared_error: 0.0583\n",
      "Train on 60000 samples, validate on 10000 samples\n",
      "Epoch 1/1\n",
      "60000/60000 [==============================] - 0s 4us/step - loss: 0.0637 - acc: 0.5216 - mean_squared_error: 0.0592 - val_loss: 0.0628 - val_acc: 0.5306 - val_mean_squared_error: 0.0583\n",
      "Train on 60000 samples, validate on 10000 samples\n",
      "Epoch 1/1\n",
      "60000/60000 [==============================] - 0s 4us/step - loss: 0.0633 - acc: 0.5236 - mean_squared_error: 0.0588 - val_loss: 0.0616 - val_acc: 0.5354 - val_mean_squared_error: 0.0572\n",
      "Train on 60000 samples, validate on 10000 samples\n",
      "Epoch 1/1\n",
      "60000/60000 [==============================] - 0s 4us/step - loss: 0.0620 - acc: 0.5294 - mean_squared_error: 0.0576 - val_loss: 0.0609 - val_acc: 0.5388 - val_mean_squared_error: 0.0566\n",
      "Train on 60000 samples, validate on 10000 samples\n",
      "Epoch 1/1\n",
      "60000/60000 [==============================] - 0s 4us/step - loss: 0.0616 - acc: 0.5310 - mean_squared_error: 0.0573 - val_loss: 0.0609 - val_acc: 0.5395 - val_mean_squared_error: 0.0566\n",
      "Train on 60000 samples, validate on 10000 samples\n",
      "Epoch 1/1\n",
      "60000/60000 [==============================] - 0s 4us/step - loss: 0.0614 - acc: 0.5328 - mean_squared_error: 0.0571 - val_loss: 0.0604 - val_acc: 0.5421 - val_mean_squared_error: 0.0561\n",
      "Train on 60000 samples, validate on 10000 samples\n",
      "Epoch 1/1\n",
      "60000/60000 [==============================] - 0s 4us/step - loss: 0.0610 - acc: 0.5338 - mean_squared_error: 0.0567 - val_loss: 0.0599 - val_acc: 0.5456 - val_mean_squared_error: 0.0557\n",
      "Train on 60000 samples, validate on 10000 samples\n",
      "Epoch 1/1\n",
      "60000/60000 [==============================] - 0s 4us/step - loss: 0.0609 - acc: 0.5325 - mean_squared_error: 0.0566 - val_loss: 0.0595 - val_acc: 0.5504 - val_mean_squared_error: 0.0553\n",
      "Train on 60000 samples, validate on 10000 samples\n",
      "Epoch 1/1\n",
      "60000/60000 [==============================] - 0s 4us/step - loss: 0.0607 - acc: 0.5330 - mean_squared_error: 0.0565 - val_loss: 0.0601 - val_acc: 0.5544 - val_mean_squared_error: 0.0560\n",
      "Train on 60000 samples, validate on 10000 samples\n",
      "Epoch 1/1\n",
      "60000/60000 [==============================] - 0s 4us/step - loss: 0.0614 - acc: 0.5292 - mean_squared_error: 0.0574 - val_loss: 0.0618 - val_acc: 0.5513 - val_mean_squared_error: 0.0577\n",
      "Train on 60000 samples, validate on 10000 samples\n",
      "Epoch 1/1\n",
      "60000/60000 [==============================] - 0s 4us/step - loss: 0.0617 - acc: 0.5332 - mean_squared_error: 0.0577 - val_loss: 0.0591 - val_acc: 0.5557 - val_mean_squared_error: 0.0551\n",
      "Train on 60000 samples, validate on 10000 samples\n",
      "Epoch 1/1\n",
      "60000/60000 [==============================] - 0s 4us/step - loss: 0.0595 - acc: 0.5404 - mean_squared_error: 0.0556 - val_loss: 0.0589 - val_acc: 0.5584 - val_mean_squared_error: 0.0550\n",
      "Train on 60000 samples, validate on 10000 samples\n",
      "Epoch 1/1\n",
      "60000/60000 [==============================] - 0s 4us/step - loss: 0.0597 - acc: 0.5394 - mean_squared_error: 0.0557 - val_loss: 0.0587 - val_acc: 0.5595 - val_mean_squared_error: 0.0548\n",
      "Train on 60000 samples, validate on 10000 samples\n",
      "Epoch 1/1\n",
      "60000/60000 [==============================] - 0s 4us/step - loss: 0.0593 - acc: 0.5411 - mean_squared_error: 0.0554 - val_loss: 0.0581 - val_acc: 0.5621 - val_mean_squared_error: 0.0542\n",
      "Train on 60000 samples, validate on 10000 samples\n",
      "Epoch 1/1\n",
      "60000/60000 [==============================] - 0s 4us/step - loss: 0.0587 - acc: 0.5441 - mean_squared_error: 0.0548 - val_loss: 0.0574 - val_acc: 0.5638 - val_mean_squared_error: 0.0536\n",
      "Train on 60000 samples, validate on 10000 samples\n",
      "Epoch 1/1\n",
      "60000/60000 [==============================] - 0s 4us/step - loss: 0.0583 - acc: 0.5467 - mean_squared_error: 0.0544 - val_loss: 0.0573 - val_acc: 0.5650 - val_mean_squared_error: 0.0535\n",
      "Train on 60000 samples, validate on 10000 samples\n",
      "Epoch 1/1\n",
      "60000/60000 [==============================] - 0s 4us/step - loss: 0.0582 - acc: 0.5472 - mean_squared_error: 0.0543 - val_loss: 0.0573 - val_acc: 0.5659 - val_mean_squared_error: 0.0535\n",
      "Train on 60000 samples, validate on 10000 samples\n",
      "Epoch 1/1\n",
      "60000/60000 [==============================] - 0s 4us/step - loss: 0.0581 - acc: 0.5468 - mean_squared_error: 0.0543 - val_loss: 0.0572 - val_acc: 0.5657 - val_mean_squared_error: 0.0534\n",
      "Train on 60000 samples, validate on 10000 samples\n",
      "Epoch 1/1\n",
      "60000/60000 [==============================] - 0s 4us/step - loss: 0.0578 - acc: 0.5489 - mean_squared_error: 0.0540 - val_loss: 0.0568 - val_acc: 0.5680 - val_mean_squared_error: 0.0530\n",
      "Train on 60000 samples, validate on 10000 samples\n",
      "Epoch 1/1\n",
      "60000/60000 [==============================] - 0s 4us/step - loss: 0.0573 - acc: 0.5514 - mean_squared_error: 0.0536 - val_loss: 0.0563 - val_acc: 0.5705 - val_mean_squared_error: 0.0525\n",
      "Train on 60000 samples, validate on 10000 samples\n",
      "Epoch 1/1\n",
      "60000/60000 [==============================] - 0s 4us/step - loss: 0.0570 - acc: 0.5542 - mean_squared_error: 0.0532 - val_loss: 0.0560 - val_acc: 0.5718 - val_mean_squared_error: 0.0522\n",
      "Train on 60000 samples, validate on 10000 samples\n",
      "Epoch 1/1\n",
      "60000/60000 [==============================] - 0s 4us/step - loss: 0.0570 - acc: 0.5528 - mean_squared_error: 0.0532 - val_loss: 0.0562 - val_acc: 0.5718 - val_mean_squared_error: 0.0525\n",
      "Train on 60000 samples, validate on 10000 samples\n",
      "Epoch 1/1\n"
     ]
    },
    {
     "name": "stdout",
     "output_type": "stream",
     "text": [
      "60000/60000 [==============================] - 0s 4us/step - loss: 0.0570 - acc: 0.5536 - mean_squared_error: 0.0533 - val_loss: 0.0558 - val_acc: 0.5749 - val_mean_squared_error: 0.0521\n",
      "Train on 60000 samples, validate on 10000 samples\n",
      "Epoch 1/1\n",
      "60000/60000 [==============================] - 0s 4us/step - loss: 0.0563 - acc: 0.5581 - mean_squared_error: 0.0527 - val_loss: 0.0550 - val_acc: 0.5781 - val_mean_squared_error: 0.0513\n",
      "Train on 60000 samples, validate on 10000 samples\n",
      "Epoch 1/1\n",
      "60000/60000 [==============================] - 0s 4us/step - loss: 0.0557 - acc: 0.5607 - mean_squared_error: 0.0520 - val_loss: 0.0544 - val_acc: 0.5809 - val_mean_squared_error: 0.0508\n",
      "Train on 60000 samples, validate on 10000 samples\n",
      "Epoch 1/1\n",
      "60000/60000 [==============================] - 0s 4us/step - loss: 0.0554 - acc: 0.5620 - mean_squared_error: 0.0517 - val_loss: 0.0543 - val_acc: 0.5840 - val_mean_squared_error: 0.0506\n",
      "Train on 60000 samples, validate on 10000 samples\n",
      "Epoch 1/1\n",
      "60000/60000 [==============================] - 0s 4us/step - loss: 0.0552 - acc: 0.5662 - mean_squared_error: 0.0515 - val_loss: 0.0540 - val_acc: 0.5891 - val_mean_squared_error: 0.0504\n",
      "Train on 60000 samples, validate on 10000 samples\n",
      "Epoch 1/1\n",
      "60000/60000 [==============================] - 0s 4us/step - loss: 0.0550 - acc: 0.5689 - mean_squared_error: 0.0513 - val_loss: 0.0539 - val_acc: 0.5985 - val_mean_squared_error: 0.0502\n",
      "Train on 60000 samples, validate on 10000 samples\n",
      "Epoch 1/1\n",
      "60000/60000 [==============================] - 0s 4us/step - loss: 0.0549 - acc: 0.5717 - mean_squared_error: 0.0513 - val_loss: 0.0541 - val_acc: 0.6111 - val_mean_squared_error: 0.0504\n",
      "Train on 60000 samples, validate on 10000 samples\n",
      "Epoch 1/1\n",
      "60000/60000 [==============================] - 0s 4us/step - loss: 0.0551 - acc: 0.5773 - mean_squared_error: 0.0516 - val_loss: 0.0545 - val_acc: 0.6269 - val_mean_squared_error: 0.0510\n",
      "Train on 60000 samples, validate on 10000 samples\n",
      "Epoch 1/1\n",
      "60000/60000 [==============================] - 0s 4us/step - loss: 0.0552 - acc: 0.5885 - mean_squared_error: 0.0517 - val_loss: 0.0544 - val_acc: 0.6249 - val_mean_squared_error: 0.0508\n",
      "Train on 60000 samples, validate on 10000 samples\n",
      "Epoch 1/1\n",
      "60000/60000 [==============================] - 0s 4us/step - loss: 0.0551 - acc: 0.5885 - mean_squared_error: 0.0516 - val_loss: 0.0541 - val_acc: 0.6306 - val_mean_squared_error: 0.0506\n",
      "Train on 60000 samples, validate on 10000 samples\n",
      "Epoch 1/1\n",
      "60000/60000 [==============================] - 0s 4us/step - loss: 0.0546 - acc: 0.5953 - mean_squared_error: 0.0511 - val_loss: 0.0532 - val_acc: 0.6355 - val_mean_squared_error: 0.0498\n",
      "Train on 60000 samples, validate on 10000 samples\n",
      "Epoch 1/1\n",
      "60000/60000 [==============================] - 0s 4us/step - loss: 0.0538 - acc: 0.6004 - mean_squared_error: 0.0504 - val_loss: 0.0525 - val_acc: 0.6412 - val_mean_squared_error: 0.0490\n",
      "Train on 60000 samples, validate on 10000 samples\n",
      "Epoch 1/1\n",
      "60000/60000 [==============================] - 0s 4us/step - loss: 0.0533 - acc: 0.6042 - mean_squared_error: 0.0498 - val_loss: 0.0523 - val_acc: 0.6489 - val_mean_squared_error: 0.0488\n",
      "Train on 60000 samples, validate on 10000 samples\n",
      "Epoch 1/1\n",
      "60000/60000 [==============================] - 0s 4us/step - loss: 0.0531 - acc: 0.6110 - mean_squared_error: 0.0496 - val_loss: 0.0520 - val_acc: 0.6569 - val_mean_squared_error: 0.0486\n",
      "Train on 60000 samples, validate on 10000 samples\n",
      "Epoch 1/1\n",
      "60000/60000 [==============================] - 0s 4us/step - loss: 0.0529 - acc: 0.6145 - mean_squared_error: 0.0494 - val_loss: 0.0521 - val_acc: 0.6627 - val_mean_squared_error: 0.0486\n",
      "Train on 60000 samples, validate on 10000 samples\n",
      "Epoch 1/1\n",
      "60000/60000 [==============================] - 0s 4us/step - loss: 0.0528 - acc: 0.6168 - mean_squared_error: 0.0494 - val_loss: 0.0520 - val_acc: 0.6689 - val_mean_squared_error: 0.0486\n",
      "Train on 60000 samples, validate on 10000 samples\n",
      "Epoch 1/1\n",
      "60000/60000 [==============================] - 0s 4us/step - loss: 0.0527 - acc: 0.6209 - mean_squared_error: 0.0493 - val_loss: 0.0518 - val_acc: 0.6750 - val_mean_squared_error: 0.0484\n",
      "Train on 60000 samples, validate on 10000 samples\n",
      "Epoch 1/1\n",
      "60000/60000 [==============================] - 0s 4us/step - loss: 0.0527 - acc: 0.6246 - mean_squared_error: 0.0493 - val_loss: 0.0523 - val_acc: 0.6754 - val_mean_squared_error: 0.0489\n",
      "Train on 60000 samples, validate on 10000 samples\n",
      "Epoch 1/1\n",
      "60000/60000 [==============================] - 0s 4us/step - loss: 0.0530 - acc: 0.6225 - mean_squared_error: 0.0496 - val_loss: 0.0521 - val_acc: 0.6779 - val_mean_squared_error: 0.0487\n",
      "Train on 60000 samples, validate on 10000 samples\n",
      "Epoch 1/1\n",
      "60000/60000 [==============================] - 0s 4us/step - loss: 0.0528 - acc: 0.6278 - mean_squared_error: 0.0494 - val_loss: 0.0515 - val_acc: 0.6795 - val_mean_squared_error: 0.0482\n",
      "Train on 60000 samples, validate on 10000 samples\n",
      "Epoch 1/1\n",
      "60000/60000 [==============================] - 0s 4us/step - loss: 0.0522 - acc: 0.6313 - mean_squared_error: 0.0488 - val_loss: 0.0511 - val_acc: 0.6799 - val_mean_squared_error: 0.0477\n",
      "Train on 60000 samples, validate on 10000 samples\n",
      "Epoch 1/1\n",
      "60000/60000 [==============================] - 0s 4us/step - loss: 0.0519 - acc: 0.6359 - mean_squared_error: 0.0485 - val_loss: 0.0510 - val_acc: 0.6839 - val_mean_squared_error: 0.0476\n",
      "Train on 60000 samples, validate on 10000 samples\n",
      "Epoch 1/1\n",
      "60000/60000 [==============================] - 0s 4us/step - loss: 0.0516 - acc: 0.6413 - mean_squared_error: 0.0483 - val_loss: 0.0506 - val_acc: 0.6869 - val_mean_squared_error: 0.0472\n",
      "Train on 60000 samples, validate on 10000 samples\n",
      "Epoch 1/1\n",
      "60000/60000 [==============================] - 0s 4us/step - loss: 0.0515 - acc: 0.6427 - mean_squared_error: 0.0481 - val_loss: 0.0509 - val_acc: 0.6876 - val_mean_squared_error: 0.0475\n",
      "Train on 60000 samples, validate on 10000 samples\n",
      "Epoch 1/1\n",
      "60000/60000 [==============================] - 0s 4us/step - loss: 0.0517 - acc: 0.6434 - mean_squared_error: 0.0483 - val_loss: 0.0511 - val_acc: 0.6846 - val_mean_squared_error: 0.0477\n",
      "Train on 60000 samples, validate on 10000 samples\n",
      "Epoch 1/1\n",
      "60000/60000 [==============================] - 0s 4us/step - loss: 0.0516 - acc: 0.6468 - mean_squared_error: 0.0482 - val_loss: 0.0502 - val_acc: 0.6913 - val_mean_squared_error: 0.0469\n",
      "Train on 60000 samples, validate on 10000 samples\n",
      "Epoch 1/1\n",
      "60000/60000 [==============================] - 0s 4us/step - loss: 0.0510 - acc: 0.6518 - mean_squared_error: 0.0477 - val_loss: 0.0502 - val_acc: 0.6936 - val_mean_squared_error: 0.0468\n",
      "Train on 60000 samples, validate on 10000 samples\n",
      "Epoch 1/1\n",
      "60000/60000 [==============================] - 0s 4us/step - loss: 0.0508 - acc: 0.6569 - mean_squared_error: 0.0474 - val_loss: 0.0499 - val_acc: 0.6989 - val_mean_squared_error: 0.0465\n",
      "Train on 60000 samples, validate on 10000 samples\n",
      "Epoch 1/1\n",
      "60000/60000 [==============================] - 0s 4us/step - loss: 0.0505 - acc: 0.6587 - mean_squared_error: 0.0471 - val_loss: 0.0499 - val_acc: 0.6964 - val_mean_squared_error: 0.0465\n",
      "Train on 60000 samples, validate on 10000 samples\n",
      "Epoch 1/1\n",
      "60000/60000 [==============================] - 0s 4us/step - loss: 0.0505 - acc: 0.6629 - mean_squared_error: 0.0471 - val_loss: 0.0498 - val_acc: 0.6979 - val_mean_squared_error: 0.0465\n",
      "Train on 60000 samples, validate on 10000 samples\n",
      "Epoch 1/1\n",
      "60000/60000 [==============================] - 0s 4us/step - loss: 0.0503 - acc: 0.6653 - mean_squared_error: 0.0469 - val_loss: 0.0494 - val_acc: 0.7027 - val_mean_squared_error: 0.0460\n",
      "Train on 60000 samples, validate on 10000 samples\n",
      "Epoch 1/1\n",
      "60000/60000 [==============================] - 0s 4us/step - loss: 0.0501 - acc: 0.6666 - mean_squared_error: 0.0467 - val_loss: 0.0496 - val_acc: 0.6979 - val_mean_squared_error: 0.0462\n",
      "Train on 60000 samples, validate on 10000 samples\n",
      "Epoch 1/1\n",
      "60000/60000 [==============================] - 0s 4us/step - loss: 0.0502 - acc: 0.6674 - mean_squared_error: 0.0468 - val_loss: 0.0499 - val_acc: 0.6975 - val_mean_squared_error: 0.0465\n",
      "Train on 60000 samples, validate on 10000 samples\n",
      "Epoch 1/1\n"
     ]
    },
    {
     "name": "stdout",
     "output_type": "stream",
     "text": [
      "30000/60000 [==============>...............] - ETA: 0s - loss: 0.0511 - acc: 0.6839 - mean_squared_error: 0.0477\b\b\b\b\b\b\b\b\b\b\b\b\b\b\b\b\b\b\b\b\b\b\b\b\b\b\b\b\b\b\b\b\b\b\b\b\b\b\b\b\b\b\b\b\b\b\b\b\b\b\b\b\b\b\b\b\b\b\b\b\b\b\b\b\b\b\b\b\b\b\b\b\b\b\b\b\b\b\b\b\b\b\b\b\b\b\b\b\b\b\b\b\b\b\b\b\b\b\b\b\b\b\b\b\b\b\b\b\b\b\b\b\r",
      "60000/60000 [==============================] - 0s 4us/step - loss: 0.0501 - acc: 0.6695 - mean_squared_error: 0.0467 - val_loss: 0.0487 - val_acc: 0.7036 - val_mean_squared_error: 0.0453\n"
     ]
    }
   ],
   "source": [
    "# training the model\n",
    "history = []\n",
    "deltas = []\n",
    "for i in range(100):\n",
    "    history += [model.fit(x_train, y_train, validation_data = (x_test, y_test), epochs = 1, batch_size = 30000)]\n",
    "    for C_, v in zip(C, mean_per_neuron(x_train)):\n",
    "        K.set_value(C_, v.reshape(-1, 1))\n",
    "    deltas += [delta_network()]"
   ]
  },
  {
   "cell_type": "code",
   "execution_count": 16,
   "metadata": {},
   "outputs": [],
   "source": [
    "# obtaining accuracy\n",
    "acc = [x for h in history for x in h.history['acc']]\n",
    "val_acc = [x for h in history for x in h.history['val_acc']]"
   ]
  },
  {
   "cell_type": "code",
   "execution_count": 17,
   "metadata": {},
   "outputs": [
    {
     "data": {
      "image/png": "[encoded data removed]",
      "text/plain": [
       "<Figure size 432x288 with 1 Axes>"
      ]
     },
     "metadata": {
      "needs_background": "light"
     },
     "output_type": "display_data"
    }
   ],
   "source": [
    "# plotting the training data\n",
    "plt.figure()\n",
    "plt.title('Accuracy while training')\n",
    "plt.xlabel('Epoch')\n",
    "plt.ylabel('Accuracy/Error')\n",
    "plt.plot(acc, label = 'Accuracy')\n",
    "plt.plot(val_acc, label = 'Validation accuracy')\n",
    "plt.plot(deltas, label = 'Error Network Output')\n",
    "plt.legend()\n",
    "plt.show()"
   ]
  },
  {
   "cell_type": "code",
   "execution_count": 12,
   "metadata": {},
   "outputs": [
    {
     "data": {
      "text/plain": [
       "0.3416772"
      ]
     },
     "execution_count": 12,
     "metadata": {},
     "output_type": "execute_result"
    }
   ],
   "source": [
    "# obtaining the delta network bound (TF)\n",
    "for C_, v in zip(C, mean_per_neuron(x_train)):\n",
    "    K.set_value(C_, v.reshape(-1, 1))\n",
    "delta_network()"
   ]
  },
  {
   "cell_type": "code",
   "execution_count": 13,
   "metadata": {},
   "outputs": [],
   "source": [
    "# obtaining weights\n",
    "W = model.get_weights()[::2]\n",
    "B = model.get_weights()[1::2]"
   ]
  },
  {
   "cell_type": "code",
   "execution_count": 14,
   "metadata": {},
   "outputs": [],
   "source": [
    "# Creating a constant experiment\n",
    "experiment = ConstantExperiment([784, 11, 12, 13, 10], [0.1, 0.2, 0.3], 1.11, W, B, 'relu')"
   ]
  },
  {
   "cell_type": "code",
   "execution_count": 18,
   "metadata": {},
   "outputs": [],
   "source": [
    "# Checking that C was calculated correctly\n",
    "experiment.create_supplementary_functions()\n",
    "experiment.update_C(x_train)\n",
    "assert all([np.allclose(K.get_value(C1).flatten(), C2) for C1, C2 in zip(C, experiment.C)]), \"C calculation\""
   ]
  },
  {
   "cell_type": "code",
   "execution_count": 19,
   "metadata": {},
   "outputs": [
    {
     "data": {
      "text/plain": [
       "0.3416771713154462"
      ]
     },
     "execution_count": 19,
     "metadata": {},
     "output_type": "execute_result"
    }
   ],
   "source": [
    "# Calculating mean error bound (numpy)\n",
    "np.mean(experiment.get_mean_error_v2())"
   ]
  },
  {
   "cell_type": "code",
   "execution_count": 20,
   "metadata": {},
   "outputs": [],
   "source": [
    "# Checking that numpy and TF implementations coincide\n",
    "assert all([np.allclose(K.get_value(errors[i]).flatten(), delta) for i, delta in zip(range(0, 4), experiment.EDeltaArr)]), \"Bound\""
   ]
  },
  {
   "cell_type": "code",
   "execution_count": null,
   "metadata": {},
   "outputs": [],
   "source": []
  }
 ],
 "metadata": {
  "kernelspec": {
   "display_name": "Python 3",
   "language": "python",
   "name": "python3"
  },
  "language_info": {
   "codemirror_mode": {
    "name": "ipython",
    "version": 3
   },
   "file_extension": ".py",
   "mimetype": "text/x-python",
   "name": "python",
   "nbconvert_exporter": "python",
   "pygments_lexer": "ipython3",
   "version": "3.6.6"
  }
 },
 "nbformat": 4,
 "nbformat_minor": 2
}
