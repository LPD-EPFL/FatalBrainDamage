{
 "cells": [
  {
   "cell_type": "code",
   "execution_count": 1,
   "metadata": {},
   "outputs": [],
   "source": [
    "import numpy as np"
   ]
  },
  {
   "cell_type": "markdown",
   "metadata": {},
   "source": [
    "Testing equations:\n",
    "1. $\\mathbb{E}_\\xi\\Delta_L=p\\sum\\left(y(\\vec{x}-x_i)-y(\\vec{x})\\right)+O(p^2)$\n",
    "2. $\\mathbb{E}_\\xi\\Delta_L=-p\\nabla_x y_L(x)+O(p^2x_i^2)$\n",
    "3. $Var_\\xi\\Delta_L=p\\sum\\left(y(\\vec{x}-x_i)-y(\\vec{x})\\right)^2+O(p^2)$\n",
    "4. $Var_\\xi\\Delta_L=p(\\nabla_x y_L(x))^2x^2+O(p^2x_i^2)$\n",
    "5. $Var_\\xi\\Delta_L=pW^2_LK^2_{L-1}\\odot W^2_{L-1}...W_2^2K_1^2\\odot W_1^2x^2+O(p^2x_i^2w^2)$\n",
    "\n",
    "Testing theorems:\n",
    "1. $\\mathbb{E}_{x}\\mathbb{E}_{\\xi}\\Delta_L=O(p^2x_i^2)$\n",
    "2. \t$\\sum\\limits_{i,j}\\frac{\\partial y_k}{\\partial w_{ij}}w_{ij}=\\sum\\limits_{j}\\frac{\\partial y_k}{\\partial x_j}x_j\n",
    "    = -\\frac{1}{p}(\\mathbb{E}_\\xi\\Delta_L^k+O(p^2))$"
   ]
  },
  {
   "cell_type": "code",
   "execution_count": null,
   "metadata": {},
   "outputs": [],
   "source": []
  }
 ],
 "metadata": {
  "kernelspec": {
   "display_name": "Python 3",
   "language": "python",
   "name": "python3"
  },
  "language_info": {
   "codemirror_mode": {
    "name": "ipython",
    "version": 3
   },
   "file_extension": ".py",
   "mimetype": "text/x-python",
   "name": "python",
   "nbconvert_exporter": "python",
   "pygments_lexer": "ipython3",
   "version": "3.6.6"
  }
 },
 "nbformat": 4,
 "nbformat_minor": 2
}
