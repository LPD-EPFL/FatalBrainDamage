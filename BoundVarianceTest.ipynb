{
 "cells": [
  {
   "cell_type": "code",
   "execution_count": 1,
   "metadata": {},
   "outputs": [
    {
     "name": "stderr",
     "output_type": "stream",
     "text": [
      "Using TensorFlow backend.\n"
     ]
    }
   ],
   "source": [
    "%load_ext autoreload\n",
    "%autoreload 2\n",
    "%matplotlib inline\n",
    "from helpers import *\n",
    "from matplotlib import pyplot as plt\n",
    "import numpy as np\n",
    "from experiment_mnist import *\n",
    "from experiment_constant import *\n",
    "from experiment_random import *\n",
    "from scipy.special import expit\n",
    "import pandas as pd\n",
    "import seaborn as sns"
   ]
  },
  {
   "cell_type": "markdown",
   "metadata": {},
   "source": [
    "Testing equations:\n",
    "1. $\\mathbb{E}_\\xi\\Delta_L=p\\sum\\left(y(\\vec{x}-x_i)-y(\\vec{x})\\right)+O(p^2)$\n",
    "2. $\\mathbb{E}_\\xi\\Delta_L=-p\\nabla_x y_L(x)x+O(p^2x_i^2)$\n",
    "3. $Var_\\xi\\Delta_L=p\\sum\\left(y(\\vec{x}-x_i)-y(\\vec{x})\\right)^2+O(p^2)$\n",
    "4. $Var_\\xi\\Delta_L=p(\\nabla_x y_L(x))^2x^2+O(p^2x_i^2)$\n",
    "5. $Var_\\xi\\Delta_L=pW^2_LK^2_{L-1}\\odot W^2_{L-1}...W_2^2K_1^2\\odot W_1^2x^2+O(p^2x_i^2w^2)$\n",
    "\n",
    "Testing theorems:\n",
    "1. $\\mathbb{E}_{x}\\mathbb{E}_{\\xi}\\Delta_L=O(p^2x_i^2)$\n",
    "2. \t$\\sum\\limits_{i,j}\\frac{\\partial y_k}{\\partial w_{ij}}w_{ij}=\\sum\\limits_{j}\\frac{\\partial y_k}{\\partial x_j}x_j\n",
    "    = -\\frac{1}{p}(\\mathbb{E}_\\xi\\Delta_L^k+O(p^2))$"
   ]
  },
  {
   "cell_type": "code",
   "execution_count": 2,
   "metadata": {},
   "outputs": [],
   "source": [
    "# pfailure for the first layer\n",
    "p = 1e-2"
   ]
  },
  {
   "cell_type": "code",
   "execution_count": 3,
   "metadata": {},
   "outputs": [],
   "source": [
    "# run with random weights and multiple inputs\n",
    "exp = RandomExperiment([50, 50, 50, 50, 50, 2], [p, 0, 0, 0], 1, activation = 'relu', std_weight = 3, mean_weight = 0.1)"
   ]
  },
  {
   "cell_type": "code",
   "execution_count": 4,
   "metadata": {},
   "outputs": [],
   "source": [
    "# get input and calculate error\n",
    "x = np.random.randn(50)"
   ]
  },
  {
   "cell_type": "code",
   "execution_count": 5,
   "metadata": {},
   "outputs": [
    {
     "name": "stdout",
     "output_type": "stream",
     "text": [
      "[-1.039729  -1.0509831] [2.7573924 2.7872312]\n"
     ]
    }
   ],
   "source": [
    "errors = exp.get_error(x, repetitions = 10000)\n",
    "print(np.mean(errors, axis = 0), np.std(errors, axis = 0))"
   ]
  },
  {
   "cell_type": "markdown",
   "metadata": {},
   "source": [
    "Testing $\\mathbb{E}_\\xi\\Delta_L=p\\sum\\left(y(\\vec{x}-x_i)-y(\\vec{x})\\right)+O(p^2)$\n",
    "and $\\mathbb{E}_\\xi\\Delta_L=-p\\nabla_x y_L(x)x+O(p^2x_i^2)$"
   ]
  },
  {
   "cell_type": "code",
   "execution_count": 6,
   "metadata": {},
   "outputs": [
    {
     "name": "stdout",
     "output_type": "stream",
     "text": [
      "[[-1.1040183 -1.1159732]]\n",
      "[[-1.10401503]\n",
      " [-1.115974  ]]\n",
      "[[-1.1040149 -1.115974 ]]\n"
     ]
    }
   ],
   "source": [
    "print(exp.get_exact_error_v3_better(x))\n",
    "print(exp.get_exact_error_v3(x))\n",
    "print(exp.get_exact_error_v3_tf(x))"
   ]
  },
  {
   "cell_type": "markdown",
   "metadata": {},
   "source": [
    "Testing\n",
    "3. $Var_\\xi\\Delta_L=p\\sum\\left(y(\\vec{x}-x_i)-y(\\vec{x})\\right)^2+O(p^2)$\n",
    "4. $Var_\\xi\\Delta_L=p(\\nabla_x y_L(x))^2x^2+O(p^2x_i^2)$\n",
    "5. $Var_\\xi\\Delta_L=pW^2_LK^2_{L-1}\\odot W^2_{L-1}...W_2^2K_1^2\\odot W_1^2x^2+O(p^2x_i^2w^2)$"
   ]
  },
  {
   "cell_type": "code",
   "execution_count": 7,
   "metadata": {},
   "outputs": [
    {
     "name": "stdout",
     "output_type": "stream",
     "text": [
      "[[2.8867362 2.9179544]]\n",
      "[[2.88673   2.9179554]]\n"
     ]
    }
   ],
   "source": [
    "print(exp.get_exact_std_error_v3_better(x))\n",
    "print(exp.get_exact_std_error_v3_tf(x))"
   ]
  },
  {
   "cell_type": "code",
   "execution_count": 8,
   "metadata": {},
   "outputs": [
    {
     "name": "stdout",
     "output_type": "stream",
     "text": [
      "This function does not result in true variance: self.get_exact_std_error_v3\n"
     ]
    },
    {
     "data": {
      "text/plain": [
       "array([[0.01458473],\n",
       "       [0.01494555]])"
      ]
     },
     "execution_count": 8,
     "metadata": {},
     "output_type": "execute_result"
    }
   ],
   "source": [
    "# not so good, not included\n",
    "exp.get_exact_std_error_v3(x)"
   ]
  },
  {
   "cell_type": "markdown",
   "metadata": {},
   "source": [
    "### Testing theorems\n",
    "1. $\\mathbb{E}_{x}\\mathbb{E}_{\\xi}\\Delta_L=O(p^2x_i^2)$\n",
    "2. \t$\\sum\\limits_{i,j}\\frac{\\partial y_k}{\\partial w_{ij}}w_{ij}=\\sum\\limits_{j}\\frac{\\partial y_k}{\\partial x_j}x_j\n",
    "    = -\\frac{1}{p}(\\mathbb{E}_\\xi\\Delta_L^k+O(p^2))$"
   ]
  },
  {
   "cell_type": "code",
   "execution_count": 40,
   "metadata": {},
   "outputs": [],
   "source": [
    "# pfailure for the first layer\n",
    "p = 1e-2"
   ]
  },
  {
   "cell_type": "code",
   "execution_count": 90,
   "metadata": {},
   "outputs": [
    {
     "name": "stdout",
     "output_type": "stream",
     "text": [
      "784 200\n",
      "200 200\n",
      "200 200\n",
      "200 10\n",
      "_________________________________________________________________\n",
      "Layer (type)                 Output Shape              Param #   \n",
      "=================================================================\n",
      "dense_595 (Dense)            (None, 200)               157000    \n",
      "_________________________________________________________________\n",
      "dense_596 (Dense)            (None, 200)               40200     \n",
      "_________________________________________________________________\n",
      "dense_597 (Dense)            (None, 200)               40200     \n",
      "_________________________________________________________________\n",
      "dense_598 (Dense)            (None, 10)                2010      \n",
      "=================================================================\n",
      "Total params: 239,410\n",
      "Trainable params: 239,410\n",
      "Non-trainable params: 0\n",
      "_________________________________________________________________\n",
      "Train on 60000 samples, validate on 10000 samples\n",
      "Epoch 1/50\n",
      "60000/60000 [==============================] - 1s 21us/step - loss: 0.2488 - acc: 0.1162 - mean_squared_error: 0.2488 - val_loss: 0.1335 - val_acc: 0.2227 - val_mean_squared_error: 0.1335\n",
      "Epoch 2/50\n",
      "60000/60000 [==============================] - 0s 4us/step - loss: 0.1100 - acc: 0.2343 - mean_squared_error: 0.1100 - val_loss: 0.0946 - val_acc: 0.1658 - val_mean_squared_error: 0.0946\n",
      "Epoch 3/50\n",
      "60000/60000 [==============================] - 0s 4us/step - loss: 0.0913 - acc: 0.2991 - mean_squared_error: 0.0913 - val_loss: 0.0787 - val_acc: 0.3782 - val_mean_squared_error: 0.0787\n",
      "Epoch 4/50\n",
      "60000/60000 [==============================] - 0s 4us/step - loss: 0.0726 - acc: 0.5212 - mean_squared_error: 0.0726 - val_loss: 0.0663 - val_acc: 0.5809 - val_mean_squared_error: 0.0663\n",
      "Epoch 5/50\n",
      "60000/60000 [==============================] - 0s 4us/step - loss: 0.0655 - acc: 0.6175 - mean_squared_error: 0.0655 - val_loss: 0.0652 - val_acc: 0.5979 - val_mean_squared_error: 0.0652\n",
      "Epoch 6/50\n",
      "60000/60000 [==============================] - 0s 4us/step - loss: 0.0680 - acc: 0.5957 - mean_squared_error: 0.0680 - val_loss: 0.0692 - val_acc: 0.5482 - val_mean_squared_error: 0.0692\n",
      "Epoch 7/50\n",
      "60000/60000 [==============================] - 0s 4us/step - loss: 0.0692 - acc: 0.5944 - mean_squared_error: 0.0692 - val_loss: 0.0741 - val_acc: 0.4433 - val_mean_squared_error: 0.0741\n",
      "Epoch 8/50\n",
      "60000/60000 [==============================] - 0s 4us/step - loss: 0.0761 - acc: 0.5355 - mean_squared_error: 0.0761 - val_loss: 0.0612 - val_acc: 0.6308 - val_mean_squared_error: 0.0612\n",
      "Epoch 9/50\n",
      "60000/60000 [==============================] - 0s 4us/step - loss: 0.0587 - acc: 0.6806 - mean_squared_error: 0.0587 - val_loss: 0.0597 - val_acc: 0.7177 - val_mean_squared_error: 0.0597\n",
      "Epoch 10/50\n",
      "60000/60000 [==============================] - 0s 4us/step - loss: 0.0616 - acc: 0.6704 - mean_squared_error: 0.0616 - val_loss: 0.0593 - val_acc: 0.7141 - val_mean_squared_error: 0.0593\n",
      "Epoch 11/50\n",
      "60000/60000 [==============================] - 0s 4us/step - loss: 0.0581 - acc: 0.6969 - mean_squared_error: 0.0581 - val_loss: 0.0550 - val_acc: 0.7356 - val_mean_squared_error: 0.0550\n",
      "Epoch 12/50\n",
      "60000/60000 [==============================] - 0s 4us/step - loss: 0.0571 - acc: 0.7022 - mean_squared_error: 0.0571 - val_loss: 0.0552 - val_acc: 0.7414 - val_mean_squared_error: 0.0552\n",
      "Epoch 13/50\n",
      "60000/60000 [==============================] - 0s 4us/step - loss: 0.0563 - acc: 0.7216 - mean_squared_error: 0.0563 - val_loss: 0.0644 - val_acc: 0.7541 - val_mean_squared_error: 0.0644\n",
      "Epoch 14/50\n",
      "60000/60000 [==============================] - 0s 4us/step - loss: 0.0601 - acc: 0.7030 - mean_squared_error: 0.0601 - val_loss: 0.0527 - val_acc: 0.8060 - val_mean_squared_error: 0.0527\n",
      "Epoch 15/50\n",
      "60000/60000 [==============================] - 0s 4us/step - loss: 0.0551 - acc: 0.7304 - mean_squared_error: 0.0551 - val_loss: 0.0540 - val_acc: 0.7452 - val_mean_squared_error: 0.0540\n",
      "Epoch 16/50\n",
      "60000/60000 [==============================] - 0s 4us/step - loss: 0.0521 - acc: 0.7481 - mean_squared_error: 0.0521 - val_loss: 0.0552 - val_acc: 0.7479 - val_mean_squared_error: 0.0552\n",
      "Epoch 17/50\n",
      "60000/60000 [==============================] - 0s 4us/step - loss: 0.0567 - acc: 0.7322 - mean_squared_error: 0.0567 - val_loss: 0.0508 - val_acc: 0.7694 - val_mean_squared_error: 0.0508\n",
      "Epoch 18/50\n",
      "60000/60000 [==============================] - 0s 4us/step - loss: 0.0496 - acc: 0.7764 - mean_squared_error: 0.0496 - val_loss: 0.0493 - val_acc: 0.7544 - val_mean_squared_error: 0.0493\n",
      "Epoch 19/50\n",
      "60000/60000 [==============================] - 0s 4us/step - loss: 0.0473 - acc: 0.7901 - mean_squared_error: 0.0473 - val_loss: 0.0435 - val_acc: 0.7930 - val_mean_squared_error: 0.0435\n",
      "Epoch 20/50\n",
      "60000/60000 [==============================] - 0s 4us/step - loss: 0.0460 - acc: 0.7949 - mean_squared_error: 0.0460 - val_loss: 0.0503 - val_acc: 0.7711 - val_mean_squared_error: 0.0503\n",
      "Epoch 21/50\n",
      "60000/60000 [==============================] - 0s 4us/step - loss: 0.0523 - acc: 0.7677 - mean_squared_error: 0.0523 - val_loss: 0.0462 - val_acc: 0.8226 - val_mean_squared_error: 0.0462\n",
      "Epoch 22/50\n",
      "60000/60000 [==============================] - 0s 4us/step - loss: 0.0432 - acc: 0.8193 - mean_squared_error: 0.0432 - val_loss: 0.0403 - val_acc: 0.8480 - val_mean_squared_error: 0.0403\n",
      "Epoch 23/50\n",
      "60000/60000 [==============================] - 0s 4us/step - loss: 0.0439 - acc: 0.8141 - mean_squared_error: 0.0439 - val_loss: 0.0461 - val_acc: 0.7841 - val_mean_squared_error: 0.0461\n",
      "Epoch 24/50\n",
      "60000/60000 [==============================] - 0s 4us/step - loss: 0.0482 - acc: 0.7718 - mean_squared_error: 0.0482 - val_loss: 0.0469 - val_acc: 0.7273 - val_mean_squared_error: 0.0469\n",
      "Epoch 25/50\n",
      "60000/60000 [==============================] - 0s 4us/step - loss: 0.0447 - acc: 0.7877 - mean_squared_error: 0.0447 - val_loss: 0.0433 - val_acc: 0.7958 - val_mean_squared_error: 0.0433\n",
      "Epoch 26/50\n",
      "60000/60000 [==============================] - 0s 4us/step - loss: 0.0479 - acc: 0.7996 - mean_squared_error: 0.0479 - val_loss: 0.0440 - val_acc: 0.8064 - val_mean_squared_error: 0.0440\n",
      "Epoch 27/50\n",
      "60000/60000 [==============================] - 0s 4us/step - loss: 0.0422 - acc: 0.8330 - mean_squared_error: 0.0422 - val_loss: 0.0435 - val_acc: 0.8199 - val_mean_squared_error: 0.0435\n",
      "Epoch 28/50\n",
      "60000/60000 [==============================] - 0s 4us/step - loss: 0.0477 - acc: 0.8190 - mean_squared_error: 0.0477 - val_loss: 0.0481 - val_acc: 0.8247 - val_mean_squared_error: 0.0481\n",
      "Epoch 29/50\n",
      "60000/60000 [==============================] - 0s 4us/step - loss: 0.0506 - acc: 0.8124 - mean_squared_error: 0.0506 - val_loss: 0.0428 - val_acc: 0.8351 - val_mean_squared_error: 0.0428\n",
      "Epoch 30/50\n",
      "60000/60000 [==============================] - 0s 4us/step - loss: 0.0401 - acc: 0.8331 - mean_squared_error: 0.0401 - val_loss: 0.0376 - val_acc: 0.8589 - val_mean_squared_error: 0.0376\n",
      "Epoch 31/50\n",
      "60000/60000 [==============================] - 0s 4us/step - loss: 0.0396 - acc: 0.8360 - mean_squared_error: 0.0396 - val_loss: 0.0384 - val_acc: 0.8707 - val_mean_squared_error: 0.0384\n",
      "Epoch 32/50\n",
      "60000/60000 [==============================] - 0s 4us/step - loss: 0.0389 - acc: 0.8486 - mean_squared_error: 0.0389 - val_loss: 0.0367 - val_acc: 0.8720 - val_mean_squared_error: 0.0367\n",
      "Epoch 33/50\n",
      "60000/60000 [==============================] - 0s 4us/step - loss: 0.0370 - acc: 0.8469 - mean_squared_error: 0.0370 - val_loss: 0.0356 - val_acc: 0.8477 - val_mean_squared_error: 0.0356\n",
      "Epoch 34/50\n",
      "60000/60000 [==============================] - 0s 4us/step - loss: 0.0406 - acc: 0.8243 - mean_squared_error: 0.0406 - val_loss: 0.0440 - val_acc: 0.8232 - val_mean_squared_error: 0.0440\n",
      "Epoch 35/50\n",
      "60000/60000 [==============================] - 0s 4us/step - loss: 0.0392 - acc: 0.8398 - mean_squared_error: 0.0392 - val_loss: 0.0327 - val_acc: 0.8733 - val_mean_squared_error: 0.0327\n",
      "Epoch 36/50\n",
      "60000/60000 [==============================] - 0s 4us/step - loss: 0.0350 - acc: 0.8600 - mean_squared_error: 0.0350 - val_loss: 0.0389 - val_acc: 0.8485 - val_mean_squared_error: 0.0389\n",
      "Epoch 37/50\n"
     ]
    },
    {
     "name": "stdout",
     "output_type": "stream",
     "text": [
      "60000/60000 [==============================] - 0s 4us/step - loss: 0.0397 - acc: 0.8399 - mean_squared_error: 0.0397 - val_loss: 0.0350 - val_acc: 0.8584 - val_mean_squared_error: 0.0350\n",
      "Epoch 38/50\n",
      "60000/60000 [==============================] - 0s 4us/step - loss: 0.0360 - acc: 0.8614 - mean_squared_error: 0.0360 - val_loss: 0.0345 - val_acc: 0.8729 - val_mean_squared_error: 0.0345\n",
      "Epoch 39/50\n",
      "60000/60000 [==============================] - 0s 4us/step - loss: 0.0362 - acc: 0.8642 - mean_squared_error: 0.0362 - val_loss: 0.0356 - val_acc: 0.8663 - val_mean_squared_error: 0.0356\n",
      "Epoch 40/50\n",
      "60000/60000 [==============================] - 0s 4us/step - loss: 0.0382 - acc: 0.8501 - mean_squared_error: 0.0382 - val_loss: 0.0404 - val_acc: 0.8307 - val_mean_squared_error: 0.0404\n",
      "Epoch 41/50\n",
      "60000/60000 [==============================] - 0s 4us/step - loss: 0.0397 - acc: 0.8400 - mean_squared_error: 0.0397 - val_loss: 0.0361 - val_acc: 0.8548 - val_mean_squared_error: 0.0361\n",
      "Epoch 42/50\n",
      "60000/60000 [==============================] - 0s 4us/step - loss: 0.0375 - acc: 0.8632 - mean_squared_error: 0.0375 - val_loss: 0.0382 - val_acc: 0.8696 - val_mean_squared_error: 0.0382\n",
      "Epoch 43/50\n",
      "60000/60000 [==============================] - 0s 4us/step - loss: 0.0373 - acc: 0.8689 - mean_squared_error: 0.0373 - val_loss: 0.0343 - val_acc: 0.8806 - val_mean_squared_error: 0.0343\n",
      "Epoch 44/50\n",
      "60000/60000 [==============================] - 0s 4us/step - loss: 0.0344 - acc: 0.8756 - mean_squared_error: 0.0344 - val_loss: 0.0319 - val_acc: 0.8835 - val_mean_squared_error: 0.0319\n",
      "Epoch 45/50\n",
      "60000/60000 [==============================] - 0s 4us/step - loss: 0.0325 - acc: 0.8766 - mean_squared_error: 0.0325 - val_loss: 0.0325 - val_acc: 0.8726 - val_mean_squared_error: 0.0325\n",
      "Epoch 46/50\n",
      "60000/60000 [==============================] - 0s 4us/step - loss: 0.0364 - acc: 0.8609 - mean_squared_error: 0.0364 - val_loss: 0.0358 - val_acc: 0.8622 - val_mean_squared_error: 0.0358\n",
      "Epoch 47/50\n",
      "60000/60000 [==============================] - 0s 4us/step - loss: 0.0331 - acc: 0.8731 - mean_squared_error: 0.0331 - val_loss: 0.0293 - val_acc: 0.8828 - val_mean_squared_error: 0.0293\n",
      "Epoch 48/50\n",
      "60000/60000 [==============================] - 0s 4us/step - loss: 0.0318 - acc: 0.8800 - mean_squared_error: 0.0318 - val_loss: 0.0360 - val_acc: 0.8591 - val_mean_squared_error: 0.0360\n",
      "Epoch 49/50\n",
      "60000/60000 [==============================] - 0s 4us/step - loss: 0.0373 - acc: 0.8584 - mean_squared_error: 0.0373 - val_loss: 0.0326 - val_acc: 0.8703 - val_mean_squared_error: 0.0326\n",
      "Epoch 50/50\n",
      "60000/60000 [==============================] - 0s 4us/step - loss: 0.0328 - acc: 0.8710 - mean_squared_error: 0.0328 - val_loss: 0.0327 - val_acc: 0.8767 - val_mean_squared_error: 0.0327\n"
     ]
    },
    {
     "data": {
      "image/png": "[encoded data removed]",
      "text/plain": [
       "<Figure size 432x288 with 1 Axes>"
      ]
     },
     "metadata": {
      "needs_background": "light"
     },
     "output_type": "display_data"
    },
    {
     "name": "stdout",
     "output_type": "stream",
     "text": [
      "Creating network for 784-dimensional input and 10-dimensional output, with 3 hidden layers\n"
     ]
    }
   ],
   "source": [
    "exp = MNISTExperiment([200, 200, 200], [p, 0, 0], 1, epochs = 50, activation = 'sigmoid', reg_type = 0, do_print = True)"
   ]
  },
  {
   "cell_type": "code",
   "execution_count": 91,
   "metadata": {},
   "outputs": [],
   "source": [
    "ps = np.linspace(1e-3,5e-3,10)"
   ]
  },
  {
   "cell_type": "code",
   "execution_count": 98,
   "metadata": {},
   "outputs": [
    {
     "name": "stderr",
     "output_type": "stream",
     "text": [
      "100%|██████████| 100/100 [03:02<00:00,  1.78s/it]\n",
      "  0%|          | 0/100 [00:00<?, ?it/s]"
     ]
    },
    {
     "name": "stdout",
     "output_type": "stream",
     "text": [
      "0.001\n"
     ]
    },
    {
     "name": "stderr",
     "output_type": "stream",
     "text": [
      "100%|██████████| 100/100 [03:06<00:00,  1.82s/it]\n",
      "  0%|          | 0/100 [00:00<?, ?it/s]"
     ]
    },
    {
     "name": "stdout",
     "output_type": "stream",
     "text": [
      "0.0014444444444444444\n"
     ]
    },
    {
     "name": "stderr",
     "output_type": "stream",
     "text": [
      "100%|██████████| 100/100 [03:05<00:00,  1.84s/it]\n",
      "  0%|          | 0/100 [00:00<?, ?it/s]"
     ]
    },
    {
     "name": "stdout",
     "output_type": "stream",
     "text": [
      "0.001888888888888889\n"
     ]
    },
    {
     "name": "stderr",
     "output_type": "stream",
     "text": [
      "100%|██████████| 100/100 [03:02<00:00,  1.81s/it]\n",
      "  0%|          | 0/100 [00:00<?, ?it/s]"
     ]
    },
    {
     "name": "stdout",
     "output_type": "stream",
     "text": [
      "0.0023333333333333335\n"
     ]
    },
    {
     "name": "stderr",
     "output_type": "stream",
     "text": [
      "100%|██████████| 100/100 [03:07<00:00,  1.86s/it]\n",
      "  0%|          | 0/100 [00:00<?, ?it/s]"
     ]
    },
    {
     "name": "stdout",
     "output_type": "stream",
     "text": [
      "0.002777777777777778\n"
     ]
    },
    {
     "name": "stderr",
     "output_type": "stream",
     "text": [
      "100%|██████████| 100/100 [03:04<00:00,  1.83s/it]\n",
      "  0%|          | 0/100 [00:00<?, ?it/s]"
     ]
    },
    {
     "name": "stdout",
     "output_type": "stream",
     "text": [
      "0.0032222222222222222\n"
     ]
    },
    {
     "name": "stderr",
     "output_type": "stream",
     "text": [
      "100%|██████████| 100/100 [03:05<00:00,  1.83s/it]\n",
      "  0%|          | 0/100 [00:00<?, ?it/s]"
     ]
    },
    {
     "name": "stdout",
     "output_type": "stream",
     "text": [
      "0.003666666666666667\n"
     ]
    },
    {
     "name": "stderr",
     "output_type": "stream",
     "text": [
      "100%|██████████| 100/100 [03:05<00:00,  1.83s/it]\n",
      "  0%|          | 0/100 [00:00<?, ?it/s]"
     ]
    },
    {
     "name": "stdout",
     "output_type": "stream",
     "text": [
      "0.004111111111111111\n"
     ]
    },
    {
     "name": "stderr",
     "output_type": "stream",
     "text": [
      "100%|██████████| 100/100 [03:07<00:00,  1.89s/it]\n",
      "  0%|          | 0/100 [00:00<?, ?it/s]"
     ]
    },
    {
     "name": "stdout",
     "output_type": "stream",
     "text": [
      "0.004555555555555556\n"
     ]
    },
    {
     "name": "stderr",
     "output_type": "stream",
     "text": [
      "100%|██████████| 100/100 [03:07<00:00,  1.87s/it]"
     ]
    },
    {
     "name": "stdout",
     "output_type": "stream",
     "text": [
      "0.005\n"
     ]
    },
    {
     "name": "stderr",
     "output_type": "stream",
     "text": [
      "\n"
     ]
    }
   ],
   "source": [
    "res = []\n",
    "for p in ps:\n",
    "    exp1 = ConstantExperiment(exp.N, [p, 0, 0], 1, exp.W, exp.B)\n",
    "    errors = []\n",
    "    for sample in tqdm(np.random.choice(range(len(exp.x_train)), 100, replace = False)):\n",
    "        x = exp.x_train[sample]\n",
    "        error = exp1.get_error(x, repetitions = 50000)\n",
    "        mean_error = np.mean(error, axis = 1)\n",
    "        errors += [mean_error]\n",
    "    errors = np.mean(errors, axis = 0)\n",
    "    res += [np.mean(np.abs(mean_error))]\n",
    "    print(p)"
   ]
  },
  {
   "cell_type": "code",
   "execution_count": 99,
   "metadata": {},
   "outputs": [
    {
     "data": {
      "text/plain": [
       "<matplotlib.collections.PathCollection at 0x7f61fd210978>"
      ]
     },
     "execution_count": 99,
     "metadata": {},
     "output_type": "execute_result"
    },
    {
     "data": {
      "image/png": "[encoded data removed]",
      "text/plain": [
       "<Figure size 432x288 with 1 Axes>"
      ]
     },
     "metadata": {
      "needs_background": "light"
     },
     "output_type": "display_data"
    }
   ],
   "source": [
    "plt.title('Error(p)')\n",
    "plt.xlabel('p_1, 1/1000')\n",
    "plt.ylabel('Mean abs. error on object, 1/1000')\n",
    "res = np.array(res)\n",
    "plt.scatter(ps * 1000, res * 1000)"
   ]
  },
  {
   "cell_type": "code",
   "execution_count": null,
   "metadata": {},
   "outputs": [],
   "source": [
    "# does not work for some reason\n",
    "# exp.get_exact_std_error_v3_tf(exp.x_train[:2])"
   ]
  }
 ],
 "metadata": {
  "kernelspec": {
   "display_name": "Python 3",
   "language": "python",
   "name": "python3"
  },
  "language_info": {
   "codemirror_mode": {
    "name": "ipython",
    "version": 3
   },
   "file_extension": ".py",
   "mimetype": "text/x-python",
   "name": "python",
   "nbconvert_exporter": "python",
   "pygments_lexer": "ipython3",
   "version": "3.6.6"
  }
 },
 "nbformat": 4,
 "nbformat_minor": 2
}
