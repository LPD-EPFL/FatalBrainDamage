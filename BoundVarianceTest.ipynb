{
 "cells": [
  {
   "cell_type": "code",
   "execution_count": 1,
   "metadata": {},
   "outputs": [
    {
     "name": "stderr",
     "output_type": "stream",
     "text": [
      "Using TensorFlow backend.\n"
     ]
    }
   ],
   "source": [
    "%load_ext autoreload\n",
    "%autoreload 2\n",
    "%matplotlib inline\n",
    "from helpers import *\n",
    "from matplotlib import pyplot as plt\n",
    "import numpy as np\n",
    "from experiment_mnist import *\n",
    "from experiment_constant import *\n",
    "from experiment_random import *\n",
    "from scipy.special import expit\n",
    "import pandas as pd\n",
    "import seaborn as sns"
   ]
  },
  {
   "cell_type": "markdown",
   "metadata": {},
   "source": [
    "Testing equations:\n",
    "1. $\\mathbb{E}_\\xi\\Delta_L=p\\sum\\left(y(\\vec{x}-x_i)-y(\\vec{x})\\right)+O(p^2)$\n",
    "2. $\\mathbb{E}_\\xi\\Delta_L=-p\\nabla_x y_L(x)x+O(p^2x_i^2)$\n",
    "3. $Var_\\xi\\Delta_L=p\\sum\\left(y(\\vec{x}-x_i)-y(\\vec{x})\\right)^2+O(p^2)$\n",
    "4. $Var_\\xi\\Delta_L=p(\\nabla_x y_L(x))^2x^2+O(p^2x_i^2)$\n",
    "5. $Var_\\xi\\Delta_L=pW^2_LK^2_{L-1}\\odot W^2_{L-1}...W_2^2K_1^2\\odot W_1^2x^2+O(p^2x_i^2w^2)$\n",
    "\n",
    "Testing theorems:\n",
    "1. $\\mathbb{E}_{x}\\mathbb{E}_{\\xi}\\Delta_L=O(p^2x_i^2)$\n",
    "2. \t$\\sum\\limits_{i,j}\\frac{\\partial y_k}{\\partial w_{ij}}w_{ij}=\\sum\\limits_{j}\\frac{\\partial y_k}{\\partial x_j}x_j\n",
    "    = -\\frac{1}{p}(\\mathbb{E}_\\xi\\Delta_L^k+O(p^2))$"
   ]
  },
  {
   "cell_type": "code",
   "execution_count": 2,
   "metadata": {},
   "outputs": [],
   "source": [
    "# pfailure for the first layer\n",
    "p = 1e-2"
   ]
  },
  {
   "cell_type": "code",
   "execution_count": 31,
   "metadata": {},
   "outputs": [],
   "source": [
    "# run with random weights and multiple inputs\n",
    "exp = RandomExperiment([50, 50, 50, 50, 50, 2], [p, 0, 0, 0], 1, activation = 'relu', std_weight = 3, mean_weight = 0.1)"
   ]
  },
  {
   "cell_type": "code",
   "execution_count": 32,
   "metadata": {},
   "outputs": [],
   "source": [
    "# get input and calculate error\n",
    "x = np.random.randn(50)"
   ]
  },
  {
   "cell_type": "code",
   "execution_count": 33,
   "metadata": {},
   "outputs": [
    {
     "name": "stdout",
     "output_type": "stream",
     "text": [
      "[-2.6607046 -2.3084924] [4.9939656 4.3327928]\n"
     ]
    }
   ],
   "source": [
    "errors = exp.get_error(x, repetitions = 10000)\n",
    "print(np.mean(errors, axis = 0), np.std(errors, axis = 0))"
   ]
  },
  {
   "cell_type": "markdown",
   "metadata": {},
   "source": [
    "Testing $\\mathbb{E}_\\xi\\Delta_L=p\\sum\\left(y(\\vec{x}-x_i)-y(\\vec{x})\\right)+O(p^2)$\n",
    "and $\\mathbb{E}_\\xi\\Delta_L=-p\\nabla_x y_L(x)x+O(p^2x_i^2)$"
   ]
  },
  {
   "cell_type": "code",
   "execution_count": 34,
   "metadata": {},
   "outputs": [
    {
     "name": "stdout",
     "output_type": "stream",
     "text": [
      "[[-2.6334872 -2.2849035]]\n",
      "[[-2.63348504]\n",
      " [-2.28490954]]\n",
      "[[-2.633485  -2.2849097]]\n"
     ]
    }
   ],
   "source": [
    "print(exp.get_exact_error_v3_better(x))\n",
    "print(exp.get_exact_error_v3(x))\n",
    "print(exp.get_exact_error_v3_tf(x))"
   ]
  },
  {
   "cell_type": "markdown",
   "metadata": {},
   "source": [
    "Testing\n",
    "3. $Var_\\xi\\Delta_L=p\\sum\\left(y(\\vec{x}-x_i)-y(\\vec{x})\\right)^2+O(p^2)$\n",
    "4. $Var_\\xi\\Delta_L=p(\\nabla_x y_L(x))^2x^2+O(p^2x_i^2)$\n",
    "5. $Var_\\xi\\Delta_L=pW^2_LK^2_{L-1}\\odot W^2_{L-1}...W_2^2K_1^2\\odot W_1^2x^2+O(p^2x_i^2w^2)$"
   ]
  },
  {
   "cell_type": "code",
   "execution_count": 42,
   "metadata": {},
   "outputs": [
    {
     "name": "stdout",
     "output_type": "stream",
     "text": [
      "[[4.9761105 4.3172855]]\n",
      "[[4.9761086 4.317294 ]]\n"
     ]
    }
   ],
   "source": [
    "print(exp.get_exact_std_error_v3_better(x))\n",
    "print(exp.get_exact_std_error_v3_tf(x))"
   ]
  },
  {
   "cell_type": "code",
   "execution_count": null,
   "metadata": {},
   "outputs": [],
   "source": []
  }
 ],
 "metadata": {
  "kernelspec": {
   "display_name": "Python 3",
   "language": "python",
   "name": "python3"
  },
  "language_info": {
   "codemirror_mode": {
    "name": "ipython",
    "version": 3
   },
   "file_extension": ".py",
   "mimetype": "text/x-python",
   "name": "python",
   "nbconvert_exporter": "python",
   "pygments_lexer": "ipython3",
   "version": "3.6.6"
  }
 },
 "nbformat": 4,
 "nbformat_minor": 2
}
