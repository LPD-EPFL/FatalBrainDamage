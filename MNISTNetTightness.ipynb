{
 "cells": [
  {
   "cell_type": "code",
   "execution_count": 1,
   "metadata": {},
   "outputs": [
    {
     "name": "stderr",
     "output_type": "stream",
     "text": [
      "Using TensorFlow backend.\n"
     ]
    }
   ],
   "source": [
    "%matplotlib inline\n",
    "%load_ext autoreload\n",
    "%autoreload 2\n",
    "from matplotlib import pyplot as plt\n",
    "import numpy as np\n",
    "from keras import backend as K\n",
    "from experiment_constant import *\n",
    "import pickle\n",
    "from experiment_mnist import *\n",
    "import pickle"
   ]
  },
  {
   "cell_type": "code",
   "execution_count": 2,
   "metadata": {},
   "outputs": [
    {
     "name": "stdout",
     "output_type": "stream",
     "text": [
      "_________________________________________________________________\n",
      "Layer (type)                 Output Shape              Param #   \n",
      "=================================================================\n",
      "dense_1 (Dense)              (None, 10)                7850      \n",
      "_________________________________________________________________\n",
      "dense_2 (Dense)              (None, 10)                110       \n",
      "=================================================================\n",
      "Total params: 7,960\n",
      "Trainable params: 7,960\n",
      "Non-trainable params: 0\n",
      "_________________________________________________________________\n"
     ]
    }
   ],
   "source": [
    "dta = MNISTExperiment([10], 0.1, 10, epochs = 0, activation = 'sigmoid', reg_type = 'delta')\n",
    "x = np.vstack((dta.x_train, dta.x_test))\n",
    "y = np.vstack((dta.y_train, dta.y_test))"
   ]
  },
  {
   "cell_type": "code",
   "execution_count": 3,
   "metadata": {},
   "outputs": [],
   "source": [
    "L = 3\n",
    "KLips = 2"
   ]
  },
  {
   "cell_type": "code",
   "execution_count": 4,
   "metadata": {},
   "outputs": [],
   "source": [
    "#P = 0.3\n",
    "#P = [0.3] + [0] * (L - 1)\n",
    "#experiment = MNISTExperiment([11, 12, 13], P, KLips, epochs = 100, activation = 'relu', reg_type = 0,\n",
    "#                             reg_coeff = 0, do_print = True)\n",
    "#for a, b in zip(experiment.model_no_dropout.get_weights(), experiment.model.get_weights()):\n",
    "#    assert np.allclose(a, b)\n",
    "#weights = experiment.model_no_dropout.get_weights()\n",
    "#W = weights[0::2]\n",
    "#B = weights[1::2]\n",
    "#pickle.dump([W, B], open('mnistnet100percenttightness.pkl', 'wb'))"
   ]
  },
  {
   "cell_type": "code",
   "execution_count": 5,
   "metadata": {},
   "outputs": [],
   "source": [
    "[W, B] = pickle.load(open('mnistnet100percenttightness.pkl', 'rb'))\n",
    "experiment = ConstantExperiment([28 ** 2, 11, 12, 13, 10], [0.3, 0, 0], 2, W, B, activation = 'relu')"
   ]
  },
  {
   "cell_type": "code",
   "execution_count": 6,
   "metadata": {},
   "outputs": [],
   "source": [
    "experiment.update_C(x[:1000])\n",
    "inp = x[5]#np.random.randn(28 ** 2)\n",
    "errors = experiment.get_error(inp, repetitions = 1000)\n",
    "mean_exp = np.mean(np.abs(errors))"
   ]
  },
  {
   "cell_type": "code",
   "execution_count": 19,
   "metadata": {},
   "outputs": [
    {
     "name": "stdout",
     "output_type": "stream",
     "text": [
      "0.0060024266772954185\n"
     ]
    }
   ],
   "source": [
    "mean_bound, std_bound = experiment.get_mean_std_error()\n",
    "#print(mean_bound)\n",
    "ratio = mean_exp / mean_bound\n",
    "print(ratio)"
   ]
  },
  {
   "cell_type": "code",
   "execution_count": 20,
   "metadata": {},
   "outputs": [
    {
     "name": "stdout",
     "output_type": "stream",
     "text": [
      "0.02166155108784596\n"
     ]
    }
   ],
   "source": [
    "mean_bound = experiment.get_mean_error_v2()\n",
    "#print(mean_bound)\n",
    "print(np.mean(mean_exp / mean_bound))"
   ]
  },
  {
   "cell_type": "code",
   "execution_count": null,
   "metadata": {},
   "outputs": [],
   "source": []
  }
 ],
 "metadata": {
  "kernelspec": {
   "display_name": "Python 3",
   "language": "python",
   "name": "python3"
  },
  "language_info": {
   "codemirror_mode": {
    "name": "ipython",
    "version": 3
   },
   "file_extension": ".py",
   "mimetype": "text/x-python",
   "name": "python",
   "nbconvert_exporter": "python",
   "pygments_lexer": "ipython3",
   "version": "3.6.6"
  }
 },
 "nbformat": 4,
 "nbformat_minor": 2
}
