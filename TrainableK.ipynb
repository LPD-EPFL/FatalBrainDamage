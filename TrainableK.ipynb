{
 "cells": [
  {
   "cell_type": "code",
   "execution_count": 1,
   "metadata": {},
   "outputs": [
    {
     "name": "stderr",
     "output_type": "stream",
     "text": [
      "/home/sergei/miniconda3/envs/ML/lib/python3.6/site-packages/h5py/__init__.py:36: FutureWarning: Conversion of the second argument of issubdtype from `float` to `np.floating` is deprecated. In future, it will be treated as `np.float64 == np.dtype(float).type`.\n",
      "  from ._conv import register_converters as _register_converters\n",
      "Using TensorFlow backend.\n"
     ]
    }
   ],
   "source": [
    "import numpy as np\n",
    "import keras\n",
    "from keras.datasets import mnist\n",
    "from keras import backend as K\n",
    "from keras.models import Sequential\n",
    "from keras.layers import Dense\n",
    "%matplotlib inline\n",
    "from matplotlib import pyplot as plt"
   ]
  },
  {
   "cell_type": "code",
   "execution_count": 2,
   "metadata": {
    "collapsed": true
   },
   "outputs": [],
   "source": [
    "# loading the dataset\n",
    "scaler = 1\n",
    "(x_train, y_train), (x_test, y_test) = mnist.load_data()\n",
    "x_train = np.array([elem.flatten() / 255. for elem in x_train])\n",
    "x_test = np.array([elem.flatten() / 255. for elem in x_test])\n",
    "y_train = np.array([[scaler if i == digit else 0 for i in range(10)] for digit in y_train.flatten()])\n",
    "y_test = np.array([[scaler if i == digit else 0 for i in range(10)] for digit in y_test.flatten()])"
   ]
  },
  {
   "cell_type": "code",
   "execution_count": 3,
   "metadata": {
    "collapsed": true
   },
   "outputs": [],
   "source": [
    "# returns a custom ReLU function with learnable K\n",
    "all_Ks = []\n",
    "descriptions = []\n",
    "def get_act(name = ' '):\n",
    "    val = K.variable(value = 1, name = str(name))\n",
    "    all_Ks.append(val)\n",
    "    def custom_activation(x):\n",
    "        return K.relu(x * val)\n",
    "    return custom_activation"
   ]
  },
  {
   "cell_type": "code",
   "execution_count": 4,
   "metadata": {},
   "outputs": [
    {
     "name": "stdout",
     "output_type": "stream",
     "text": [
      "Train on 60000 samples, validate on 10000 samples\n",
      "Epoch 1/100\n",
      "60000/60000 [==============================] - 1s 24us/step - loss: 0.1004 - acc: 0.1048 - mean_squared_error: 0.1004 - val_loss: 0.0943 - val_acc: 0.1267 - val_mean_squared_error: 0.0943\n",
      "Epoch 2/100\n",
      "60000/60000 [==============================] - 1s 17us/step - loss: 0.0932 - acc: 0.1374 - mean_squared_error: 0.0932 - val_loss: 0.0915 - val_acc: 0.1644 - val_mean_squared_error: 0.0915\n",
      "Epoch 3/100\n",
      "60000/60000 [==============================] - 1s 17us/step - loss: 0.0908 - acc: 0.1778 - mean_squared_error: 0.0908 - val_loss: 0.0893 - val_acc: 0.2041 - val_mean_squared_error: 0.0893\n",
      "Epoch 4/100\n",
      "60000/60000 [==============================] - 1s 16us/step - loss: 0.0886 - acc: 0.2239 - mean_squared_error: 0.0886 - val_loss: 0.0872 - val_acc: 0.2604 - val_mean_squared_error: 0.0872\n",
      "Epoch 5/100\n",
      "60000/60000 [==============================] - 1s 17us/step - loss: 0.0866 - acc: 0.2810 - mean_squared_error: 0.0866 - val_loss: 0.0854 - val_acc: 0.3207 - val_mean_squared_error: 0.0854\n",
      "Epoch 6/100\n",
      "60000/60000 [==============================] - 1s 17us/step - loss: 0.0848 - acc: 0.3380 - mean_squared_error: 0.0848 - val_loss: 0.0836 - val_acc: 0.3698 - val_mean_squared_error: 0.0836\n",
      "Epoch 7/100\n",
      "60000/60000 [==============================] - 1s 17us/step - loss: 0.0830 - acc: 0.3812 - mean_squared_error: 0.0830 - val_loss: 0.0818 - val_acc: 0.4074 - val_mean_squared_error: 0.0818\n",
      "Epoch 8/100\n",
      "60000/60000 [==============================] - 1s 17us/step - loss: 0.0811 - acc: 0.4158 - mean_squared_error: 0.0811 - val_loss: 0.0796 - val_acc: 0.4320 - val_mean_squared_error: 0.0796\n",
      "Epoch 9/100\n",
      "60000/60000 [==============================] - 1s 19us/step - loss: 0.0788 - acc: 0.4377 - mean_squared_error: 0.0788 - val_loss: 0.0772 - val_acc: 0.4506 - val_mean_squared_error: 0.0772\n",
      "Epoch 10/100\n",
      "60000/60000 [==============================] - 1s 20us/step - loss: 0.0765 - acc: 0.4547 - mean_squared_error: 0.0765 - val_loss: 0.0748 - val_acc: 0.4700 - val_mean_squared_error: 0.0748\n",
      "Epoch 11/100\n",
      "60000/60000 [==============================] - 1s 18us/step - loss: 0.0741 - acc: 0.4753 - mean_squared_error: 0.0741 - val_loss: 0.0723 - val_acc: 0.4927 - val_mean_squared_error: 0.0723\n",
      "Epoch 12/100\n",
      "60000/60000 [==============================] - 1s 17us/step - loss: 0.0714 - acc: 0.4976 - mean_squared_error: 0.0714 - val_loss: 0.0694 - val_acc: 0.5234 - val_mean_squared_error: 0.0694\n",
      "Epoch 13/100\n",
      "60000/60000 [==============================] - 1s 18us/step - loss: 0.0685 - acc: 0.5222 - mean_squared_error: 0.0685 - val_loss: 0.0663 - val_acc: 0.5467 - val_mean_squared_error: 0.0663\n",
      "Epoch 14/100\n",
      "60000/60000 [==============================] - 1s 18us/step - loss: 0.0656 - acc: 0.5459 - mean_squared_error: 0.0656 - val_loss: 0.0636 - val_acc: 0.5681 - val_mean_squared_error: 0.0636\n",
      "Epoch 15/100\n",
      "60000/60000 [==============================] - 1s 17us/step - loss: 0.0632 - acc: 0.5663 - mean_squared_error: 0.0632 - val_loss: 0.0614 - val_acc: 0.5857 - val_mean_squared_error: 0.0614\n",
      "Epoch 16/100\n",
      "60000/60000 [==============================] - 1s 18us/step - loss: 0.0611 - acc: 0.5852 - mean_squared_error: 0.0611 - val_loss: 0.0595 - val_acc: 0.6046 - val_mean_squared_error: 0.0595\n",
      "Epoch 17/100\n",
      "60000/60000 [==============================] - 1s 18us/step - loss: 0.0593 - acc: 0.6027 - mean_squared_error: 0.0593 - val_loss: 0.0579 - val_acc: 0.6198 - val_mean_squared_error: 0.0579\n",
      "Epoch 18/100\n",
      "60000/60000 [==============================] - 1s 18us/step - loss: 0.0578 - acc: 0.6190 - mean_squared_error: 0.0578 - val_loss: 0.0564 - val_acc: 0.6367 - val_mean_squared_error: 0.0564\n",
      "Epoch 19/100\n",
      "60000/60000 [==============================] - 1s 17us/step - loss: 0.0563 - acc: 0.6341 - mean_squared_error: 0.0563 - val_loss: 0.0550 - val_acc: 0.6501 - val_mean_squared_error: 0.0550\n",
      "Epoch 20/100\n",
      "60000/60000 [==============================] - 1s 17us/step - loss: 0.0549 - acc: 0.6502 - mean_squared_error: 0.0549 - val_loss: 0.0538 - val_acc: 0.6624 - val_mean_squared_error: 0.0538\n",
      "Epoch 21/100\n",
      "60000/60000 [==============================] - 1s 17us/step - loss: 0.0537 - acc: 0.6620 - mean_squared_error: 0.0537 - val_loss: 0.0526 - val_acc: 0.6779 - val_mean_squared_error: 0.0526\n",
      "Epoch 22/100\n",
      "60000/60000 [==============================] - 1s 17us/step - loss: 0.0525 - acc: 0.6737 - mean_squared_error: 0.0525 - val_loss: 0.0515 - val_acc: 0.6863 - val_mean_squared_error: 0.0515\n",
      "Epoch 23/100\n",
      "60000/60000 [==============================] - 1s 17us/step - loss: 0.0515 - acc: 0.6835 - mean_squared_error: 0.0515 - val_loss: 0.0504 - val_acc: 0.6999 - val_mean_squared_error: 0.0504\n",
      "Epoch 24/100\n",
      "60000/60000 [==============================] - 1s 17us/step - loss: 0.0506 - acc: 0.6932 - mean_squared_error: 0.0506 - val_loss: 0.0494 - val_acc: 0.7072 - val_mean_squared_error: 0.0494\n",
      "Epoch 25/100\n",
      "60000/60000 [==============================] - 1s 17us/step - loss: 0.0496 - acc: 0.7021 - mean_squared_error: 0.0496 - val_loss: 0.0489 - val_acc: 0.7150 - val_mean_squared_error: 0.0489\n",
      "Epoch 26/100\n",
      "60000/60000 [==============================] - 1s 17us/step - loss: 0.0488 - acc: 0.7106 - mean_squared_error: 0.0488 - val_loss: 0.0478 - val_acc: 0.7242 - val_mean_squared_error: 0.0478\n",
      "Epoch 27/100\n",
      "60000/60000 [==============================] - 1s 20us/step - loss: 0.0478 - acc: 0.7189 - mean_squared_error: 0.0478 - val_loss: 0.0469 - val_acc: 0.7353 - val_mean_squared_error: 0.0469\n",
      "Epoch 28/100\n",
      "60000/60000 [==============================] - 1s 21us/step - loss: 0.0471 - acc: 0.7248 - mean_squared_error: 0.0471 - val_loss: 0.0463 - val_acc: 0.7440 - val_mean_squared_error: 0.0463\n",
      "Epoch 29/100\n",
      "60000/60000 [==============================] - 1s 22us/step - loss: 0.0462 - acc: 0.7345 - mean_squared_error: 0.0462 - val_loss: 0.0454 - val_acc: 0.7527 - val_mean_squared_error: 0.0454\n",
      "Epoch 30/100\n",
      "60000/60000 [==============================] - 1s 20us/step - loss: 0.0456 - acc: 0.7387 - mean_squared_error: 0.0456 - val_loss: 0.0447 - val_acc: 0.7553 - val_mean_squared_error: 0.0447\n",
      "Epoch 31/100\n",
      "60000/60000 [==============================] - 1s 19us/step - loss: 0.0446 - acc: 0.7466 - mean_squared_error: 0.0446 - val_loss: 0.0439 - val_acc: 0.7640 - val_mean_squared_error: 0.0439\n",
      "Epoch 32/100\n",
      "60000/60000 [==============================] - 1s 18us/step - loss: 0.0444 - acc: 0.7451 - mean_squared_error: 0.0444 - val_loss: 0.0439 - val_acc: 0.7628 - val_mean_squared_error: 0.0439\n",
      "Epoch 33/100\n",
      "60000/60000 [==============================] - 1s 17us/step - loss: 0.0438 - acc: 0.7493 - mean_squared_error: 0.0438 - val_loss: 0.0425 - val_acc: 0.7746 - val_mean_squared_error: 0.0425\n",
      "Epoch 34/100\n",
      "60000/60000 [==============================] - 1s 17us/step - loss: 0.0428 - acc: 0.7606 - mean_squared_error: 0.0428 - val_loss: 0.0420 - val_acc: 0.7782 - val_mean_squared_error: 0.0420\n",
      "Epoch 35/100\n",
      "60000/60000 [==============================] - 1s 17us/step - loss: 0.0421 - acc: 0.7636 - mean_squared_error: 0.0421 - val_loss: 0.0411 - val_acc: 0.7828 - val_mean_squared_error: 0.0411\n",
      "Epoch 36/100\n",
      "60000/60000 [==============================] - 1s 21us/step - loss: 0.0412 - acc: 0.7706 - mean_squared_error: 0.0412 - val_loss: 0.0408 - val_acc: 0.7853 - val_mean_squared_error: 0.0408\n",
      "Epoch 37/100\n",
      "60000/60000 [==============================] - 1s 17us/step - loss: 0.0409 - acc: 0.7691 - mean_squared_error: 0.0409 - val_loss: 0.0404 - val_acc: 0.7864 - val_mean_squared_error: 0.0404\n",
      "Epoch 38/100\n",
      "60000/60000 [==============================] - 1s 17us/step - loss: 0.0404 - acc: 0.7734 - mean_squared_error: 0.0404 - val_loss: 0.0397 - val_acc: 0.7908 - val_mean_squared_error: 0.0397\n",
      "Epoch 39/100\n",
      "60000/60000 [==============================] - 1s 17us/step - loss: 0.0396 - acc: 0.7798 - mean_squared_error: 0.0396 - val_loss: 0.0390 - val_acc: 0.7966 - val_mean_squared_error: 0.0390\n",
      "Epoch 40/100\n",
      "60000/60000 [==============================] - 1s 17us/step - loss: 0.0391 - acc: 0.7828 - mean_squared_error: 0.0391 - val_loss: 0.0382 - val_acc: 0.8029 - val_mean_squared_error: 0.0382\n",
      "Epoch 41/100\n"
     ]
    },
    {
     "name": "stdout",
     "output_type": "stream",
     "text": [
      "60000/60000 [==============================] - 1s 17us/step - loss: 0.0385 - acc: 0.7868 - mean_squared_error: 0.0385 - val_loss: 0.0377 - val_acc: 0.8033 - val_mean_squared_error: 0.0377\n",
      "Epoch 42/100\n",
      "60000/60000 [==============================] - 1s 19us/step - loss: 0.0378 - acc: 0.7916 - mean_squared_error: 0.0378 - val_loss: 0.0369 - val_acc: 0.8104 - val_mean_squared_error: 0.0369\n",
      "Epoch 43/100\n",
      "60000/60000 [==============================] - 1s 16us/step - loss: 0.0372 - acc: 0.7947 - mean_squared_error: 0.0372 - val_loss: 0.0367 - val_acc: 0.8085 - val_mean_squared_error: 0.0367\n",
      "Epoch 44/100\n",
      "60000/60000 [==============================] - 1s 18us/step - loss: 0.0366 - acc: 0.7994 - mean_squared_error: 0.0366 - val_loss: 0.0356 - val_acc: 0.8122 - val_mean_squared_error: 0.0356\n",
      "Epoch 45/100\n",
      "60000/60000 [==============================] - 1s 21us/step - loss: 0.0356 - acc: 0.8088 - mean_squared_error: 0.0356 - val_loss: 0.0353 - val_acc: 0.8124 - val_mean_squared_error: 0.0353\n",
      "Epoch 46/100\n",
      "60000/60000 [==============================] - 1s 20us/step - loss: 0.0357 - acc: 0.8037 - mean_squared_error: 0.0357 - val_loss: 0.0348 - val_acc: 0.8167 - val_mean_squared_error: 0.0348\n",
      "Epoch 47/100\n",
      "60000/60000 [==============================] - 1s 17us/step - loss: 0.0348 - acc: 0.8115 - mean_squared_error: 0.0348 - val_loss: 0.0343 - val_acc: 0.8195 - val_mean_squared_error: 0.0343\n",
      "Epoch 48/100\n",
      "60000/60000 [==============================] - 1s 18us/step - loss: 0.0345 - acc: 0.8152 - mean_squared_error: 0.0345 - val_loss: 0.0336 - val_acc: 0.8248 - val_mean_squared_error: 0.0336\n",
      "Epoch 49/100\n",
      "60000/60000 [==============================] - 2s 28us/step - loss: 0.0341 - acc: 0.8160 - mean_squared_error: 0.0341 - val_loss: 0.0333 - val_acc: 0.8253 - val_mean_squared_error: 0.0333\n",
      "Epoch 50/100\n",
      "60000/60000 [==============================] - 1s 20us/step - loss: 0.0336 - acc: 0.8199 - mean_squared_error: 0.0336 - val_loss: 0.0329 - val_acc: 0.8266 - val_mean_squared_error: 0.0329\n",
      "Epoch 51/100\n",
      "60000/60000 [==============================] - 1s 23us/step - loss: 0.0331 - acc: 0.8240 - mean_squared_error: 0.0331 - val_loss: 0.0327 - val_acc: 0.8281 - val_mean_squared_error: 0.0327\n",
      "Epoch 52/100\n",
      "60000/60000 [==============================] - 1s 23us/step - loss: 0.0330 - acc: 0.8235 - mean_squared_error: 0.0330 - val_loss: 0.0319 - val_acc: 0.8319 - val_mean_squared_error: 0.0319\n",
      "Epoch 53/100\n",
      "60000/60000 [==============================] - 1s 20us/step - loss: 0.0321 - acc: 0.8291 - mean_squared_error: 0.0321 - val_loss: 0.0316 - val_acc: 0.8340 - val_mean_squared_error: 0.0316\n",
      "Epoch 54/100\n",
      "60000/60000 [==============================] - 1s 22us/step - loss: 0.0318 - acc: 0.8319 - mean_squared_error: 0.0318 - val_loss: 0.0309 - val_acc: 0.8365 - val_mean_squared_error: 0.0309\n",
      "Epoch 55/100\n",
      "60000/60000 [==============================] - 1s 21us/step - loss: 0.0314 - acc: 0.8344 - mean_squared_error: 0.0314 - val_loss: 0.0305 - val_acc: 0.8387 - val_mean_squared_error: 0.0305\n",
      "Epoch 56/100\n",
      "60000/60000 [==============================] - 1s 19us/step - loss: 0.0309 - acc: 0.8374 - mean_squared_error: 0.0309 - val_loss: 0.0303 - val_acc: 0.8401 - val_mean_squared_error: 0.0303\n",
      "Epoch 57/100\n",
      "60000/60000 [==============================] - 1s 21us/step - loss: 0.0308 - acc: 0.8374 - mean_squared_error: 0.0308 - val_loss: 0.0305 - val_acc: 0.8408 - val_mean_squared_error: 0.0305\n",
      "Epoch 58/100\n",
      "60000/60000 [==============================] - 1s 20us/step - loss: 0.0305 - acc: 0.8385 - mean_squared_error: 0.0305 - val_loss: 0.0293 - val_acc: 0.8475 - val_mean_squared_error: 0.0293\n",
      "Epoch 59/100\n",
      "60000/60000 [==============================] - 1s 22us/step - loss: 0.0297 - acc: 0.8447 - mean_squared_error: 0.0297 - val_loss: 0.0293 - val_acc: 0.8465 - val_mean_squared_error: 0.0293\n",
      "Epoch 60/100\n",
      "60000/60000 [==============================] - 1s 22us/step - loss: 0.0294 - acc: 0.8453 - mean_squared_error: 0.0294 - val_loss: 0.0287 - val_acc: 0.8478 - val_mean_squared_error: 0.0287\n",
      "Epoch 61/100\n",
      "60000/60000 [==============================] - 1s 22us/step - loss: 0.0292 - acc: 0.8446 - mean_squared_error: 0.0292 - val_loss: 0.0287 - val_acc: 0.8502 - val_mean_squared_error: 0.0287\n",
      "Epoch 62/100\n",
      "60000/60000 [==============================] - 2s 25us/step - loss: 0.0289 - acc: 0.8471 - mean_squared_error: 0.0289 - val_loss: 0.0283 - val_acc: 0.8525 - val_mean_squared_error: 0.0283\n",
      "Epoch 63/100\n",
      "60000/60000 [==============================] - 1s 21us/step - loss: 0.0288 - acc: 0.8488 - mean_squared_error: 0.0288 - val_loss: 0.0284 - val_acc: 0.8512 - val_mean_squared_error: 0.0284\n",
      "Epoch 64/100\n",
      "60000/60000 [==============================] - 1s 18us/step - loss: 0.0287 - acc: 0.8491 - mean_squared_error: 0.0287 - val_loss: 0.0281 - val_acc: 0.8540 - val_mean_squared_error: 0.0281\n",
      "Epoch 65/100\n",
      "60000/60000 [==============================] - 1s 20us/step - loss: 0.0285 - acc: 0.8505 - mean_squared_error: 0.0285 - val_loss: 0.0274 - val_acc: 0.8553 - val_mean_squared_error: 0.0274\n",
      "Epoch 66/100\n",
      "60000/60000 [==============================] - 1s 18us/step - loss: 0.0279 - acc: 0.8539 - mean_squared_error: 0.0279 - val_loss: 0.0273 - val_acc: 0.8571 - val_mean_squared_error: 0.0273\n",
      "Epoch 67/100\n",
      "60000/60000 [==============================] - 1s 18us/step - loss: 0.0279 - acc: 0.8542 - mean_squared_error: 0.0279 - val_loss: 0.0273 - val_acc: 0.8586 - val_mean_squared_error: 0.0273\n",
      "Epoch 68/100\n",
      "60000/60000 [==============================] - 1s 18us/step - loss: 0.0280 - acc: 0.8540 - mean_squared_error: 0.0280 - val_loss: 0.0274 - val_acc: 0.8559 - val_mean_squared_error: 0.0274\n",
      "Epoch 69/100\n",
      "60000/60000 [==============================] - 1s 18us/step - loss: 0.0279 - acc: 0.8542 - mean_squared_error: 0.0279 - val_loss: 0.0266 - val_acc: 0.8601 - val_mean_squared_error: 0.0266\n",
      "Epoch 70/100\n",
      "60000/60000 [==============================] - 1s 19us/step - loss: 0.0270 - acc: 0.8586 - mean_squared_error: 0.0270 - val_loss: 0.0263 - val_acc: 0.8610 - val_mean_squared_error: 0.0263\n",
      "Epoch 71/100\n",
      "60000/60000 [==============================] - 1s 18us/step - loss: 0.0270 - acc: 0.8582 - mean_squared_error: 0.0270 - val_loss: 0.0261 - val_acc: 0.8614 - val_mean_squared_error: 0.0261\n",
      "Epoch 72/100\n",
      "60000/60000 [==============================] - 1s 17us/step - loss: 0.0266 - acc: 0.8608 - mean_squared_error: 0.0266 - val_loss: 0.0258 - val_acc: 0.8638 - val_mean_squared_error: 0.0258\n",
      "Epoch 73/100\n",
      "60000/60000 [==============================] - 1s 17us/step - loss: 0.0264 - acc: 0.8621 - mean_squared_error: 0.0264 - val_loss: 0.0259 - val_acc: 0.8643 - val_mean_squared_error: 0.0259\n",
      "Epoch 74/100\n",
      "60000/60000 [==============================] - 1s 19us/step - loss: 0.0265 - acc: 0.8608 - mean_squared_error: 0.0265 - val_loss: 0.0254 - val_acc: 0.8673 - val_mean_squared_error: 0.0254\n",
      "Epoch 75/100\n",
      "60000/60000 [==============================] - 1s 18us/step - loss: 0.0260 - acc: 0.8644 - mean_squared_error: 0.0260 - val_loss: 0.0252 - val_acc: 0.8677 - val_mean_squared_error: 0.0252\n",
      "Epoch 76/100\n",
      "60000/60000 [==============================] - 1s 18us/step - loss: 0.0258 - acc: 0.8662 - mean_squared_error: 0.0258 - val_loss: 0.0251 - val_acc: 0.8691 - val_mean_squared_error: 0.0251\n",
      "Epoch 77/100\n",
      "60000/60000 [==============================] - 1s 18us/step - loss: 0.0256 - acc: 0.8664 - mean_squared_error: 0.0256 - val_loss: 0.0251 - val_acc: 0.8693 - val_mean_squared_error: 0.0251\n",
      "Epoch 78/100\n",
      "60000/60000 [==============================] - 1s 20us/step - loss: 0.0258 - acc: 0.8653 - mean_squared_error: 0.0258 - val_loss: 0.0251 - val_acc: 0.8701 - val_mean_squared_error: 0.0251\n",
      "Epoch 79/100\n",
      "60000/60000 [==============================] - 1s 19us/step - loss: 0.0254 - acc: 0.8672 - mean_squared_error: 0.0254 - val_loss: 0.0247 - val_acc: 0.8719 - val_mean_squared_error: 0.0247\n",
      "Epoch 80/100\n",
      "60000/60000 [==============================] - 1s 22us/step - loss: 0.0251 - acc: 0.8701 - mean_squared_error: 0.0251 - val_loss: 0.0244 - val_acc: 0.8749 - val_mean_squared_error: 0.0244\n",
      "Epoch 81/100\n",
      "60000/60000 [==============================] - 2s 26us/step - loss: 0.0253 - acc: 0.8691 - mean_squared_error: 0.0253 - val_loss: 0.0247 - val_acc: 0.8729 - val_mean_squared_error: 0.0247\n"
     ]
    },
    {
     "name": "stdout",
     "output_type": "stream",
     "text": [
      "Epoch 82/100\n",
      "60000/60000 [==============================] - 1s 21us/step - loss: 0.0254 - acc: 0.8693 - mean_squared_error: 0.0254 - val_loss: 0.0245 - val_acc: 0.8745 - val_mean_squared_error: 0.0245\n",
      "Epoch 83/100\n",
      "60000/60000 [==============================] - 1s 22us/step - loss: 0.0250 - acc: 0.8706 - mean_squared_error: 0.0250 - val_loss: 0.0239 - val_acc: 0.8769 - val_mean_squared_error: 0.0239\n",
      "Epoch 84/100\n",
      "60000/60000 [==============================] - 1s 21us/step - loss: 0.0246 - acc: 0.8733 - mean_squared_error: 0.0246 - val_loss: 0.0237 - val_acc: 0.8776 - val_mean_squared_error: 0.0237\n",
      "Epoch 85/100\n",
      "60000/60000 [==============================] - 2s 39us/step - loss: 0.0246 - acc: 0.8732 - mean_squared_error: 0.0246 - val_loss: 0.0241 - val_acc: 0.8755 - val_mean_squared_error: 0.0241\n",
      "Epoch 86/100\n",
      "60000/60000 [==============================] - 2s 37us/step - loss: 0.0247 - acc: 0.8729 - mean_squared_error: 0.0247 - val_loss: 0.0237 - val_acc: 0.8777 - val_mean_squared_error: 0.0237\n",
      "Epoch 87/100\n",
      "60000/60000 [==============================] - 2s 35us/step - loss: 0.0242 - acc: 0.8761 - mean_squared_error: 0.0242 - val_loss: 0.0233 - val_acc: 0.8799 - val_mean_squared_error: 0.0233\n",
      "Epoch 88/100\n",
      "60000/60000 [==============================] - 1s 20us/step - loss: 0.0239 - acc: 0.8771 - mean_squared_error: 0.0239 - val_loss: 0.0234 - val_acc: 0.8806 - val_mean_squared_error: 0.0234\n",
      "Epoch 89/100\n",
      "60000/60000 [==============================] - 2s 35us/step - loss: 0.0240 - acc: 0.8760 - mean_squared_error: 0.0240 - val_loss: 0.0233 - val_acc: 0.8796 - val_mean_squared_error: 0.0233\n",
      "Epoch 90/100\n",
      "60000/60000 [==============================] - 2s 40us/step - loss: 0.0240 - acc: 0.8758 - mean_squared_error: 0.0240 - val_loss: 0.0230 - val_acc: 0.8824 - val_mean_squared_error: 0.0230\n",
      "Epoch 91/100\n",
      "60000/60000 [==============================] - 2s 32us/step - loss: 0.0237 - acc: 0.8781 - mean_squared_error: 0.0237 - val_loss: 0.0229 - val_acc: 0.8823 - val_mean_squared_error: 0.0229\n",
      "Epoch 92/100\n",
      "60000/60000 [==============================] - 1s 21us/step - loss: 0.0234 - acc: 0.8787 - mean_squared_error: 0.0234 - val_loss: 0.0228 - val_acc: 0.8832 - val_mean_squared_error: 0.0228\n",
      "Epoch 93/100\n",
      "60000/60000 [==============================] - 1s 21us/step - loss: 0.0234 - acc: 0.8802 - mean_squared_error: 0.0234 - val_loss: 0.0229 - val_acc: 0.8825 - val_mean_squared_error: 0.0229\n",
      "Epoch 94/100\n",
      "60000/60000 [==============================] - 1s 22us/step - loss: 0.0236 - acc: 0.8788 - mean_squared_error: 0.0236 - val_loss: 0.0229 - val_acc: 0.8831 - val_mean_squared_error: 0.0229\n",
      "Epoch 95/100\n",
      "60000/60000 [==============================] - 1s 20us/step - loss: 0.0235 - acc: 0.8789 - mean_squared_error: 0.0235 - val_loss: 0.0231 - val_acc: 0.8837 - val_mean_squared_error: 0.0231\n",
      "Epoch 96/100\n",
      "60000/60000 [==============================] - 1s 20us/step - loss: 0.0238 - acc: 0.8762 - mean_squared_error: 0.0238 - val_loss: 0.0230 - val_acc: 0.8837 - val_mean_squared_error: 0.0230\n",
      "Epoch 97/100\n",
      "60000/60000 [==============================] - 1s 20us/step - loss: 0.0235 - acc: 0.8787 - mean_squared_error: 0.0235 - val_loss: 0.0230 - val_acc: 0.8841 - val_mean_squared_error: 0.0230\n",
      "Epoch 98/100\n",
      "60000/60000 [==============================] - 1s 16us/step - loss: 0.0234 - acc: 0.8789 - mean_squared_error: 0.0234 - val_loss: 0.0223 - val_acc: 0.8865 - val_mean_squared_error: 0.0223\n",
      "Epoch 99/100\n",
      "60000/60000 [==============================] - 1s 19us/step - loss: 0.0228 - acc: 0.8828 - mean_squared_error: 0.0228 - val_loss: 0.0221 - val_acc: 0.8879 - val_mean_squared_error: 0.0221\n",
      "Epoch 100/100\n",
      "60000/60000 [==============================] - 1s 16us/step - loss: 0.0226 - acc: 0.8836 - mean_squared_error: 0.0226 - val_loss: 0.0219 - val_acc: 0.8883 - val_mean_squared_error: 0.0219\n"
     ]
    }
   ],
   "source": [
    "# creating a model\n",
    "all_Ks = []\n",
    "model = Sequential()\n",
    "model.add(Dense(10, input_shape = (784, ), activation = get_act(1)))\n",
    "model.add(Dense(10, input_shape = (784, ), activation = get_act(2)))\n",
    "model.add(Dense(10, input_shape = (784, ), activation = get_act(3)))\n",
    "\n",
    "# adding K as trainable parameters\n",
    "model.layers[-1].trainable_weights.extend(all_Ks)\n",
    "\n",
    "# training the model\n",
    "model.compile(loss=keras.losses.mean_squared_error,\n",
    "              optimizer=keras.optimizers.Adadelta(),\n",
    "              metrics=['accuracy', 'mean_squared_error'])\n",
    "history = model.fit(x_train, y_train, validation_data = (x_test, y_test), epochs = 100, batch_size = 10000)"
   ]
  },
  {
   "cell_type": "code",
   "execution_count": 5,
   "metadata": {},
   "outputs": [
    {
     "data": {
      "image/png": "[encoded data removed]",
      "text/plain": [
       "<Figure size 432x288 with 1 Axes>"
      ]
     },
     "metadata": {},
     "output_type": "display_data"
    }
   ],
   "source": [
    "# showing the learning curve\n",
    "plt.figure()\n",
    "plt.title('Learning curve')\n",
    "plt.xlabel('Epoch')\n",
    "plt.ylabel('Accuracy')\n",
    "plt.plot(history.history['acc'], label = 'Accuracy')\n",
    "plt.plot(history.history['val_acc'], label = 'Validation accuracy')\n",
    "plt.legend()\n",
    "plt.show()"
   ]
  },
  {
   "cell_type": "code",
   "execution_count": 6,
   "metadata": {},
   "outputs": [
    {
     "data": {
      "text/plain": [
       "[1.1291296, 1.1425389, 1.1780086]"
      ]
     },
     "execution_count": 6,
     "metadata": {},
     "output_type": "execute_result"
    }
   ],
   "source": [
    "# showing the Lipschitz coefficients K\n",
    "[K.get_value(x) for x in all_Ks]"
   ]
  },
  {
   "cell_type": "code",
   "execution_count": 9,
   "metadata": {},
   "outputs": [
    {
     "data": {
      "text/plain": [
       "['1:0', '2:0', '3:0']"
      ]
     },
     "execution_count": 9,
     "metadata": {},
     "output_type": "execute_result"
    }
   ],
   "source": [
    "# names\n",
    "[x.name for x in all_Ks]"
   ]
  },
  {
   "cell_type": "code",
   "execution_count": null,
   "metadata": {
    "collapsed": true
   },
   "outputs": [],
   "source": []
  }
 ],
 "metadata": {
  "kernelspec": {
   "display_name": "Python 3",
   "language": "python",
   "name": "python3"
  },
  "language_info": {
   "codemirror_mode": {
    "name": "ipython",
    "version": 3
   },
   "file_extension": ".py",
   "mimetype": "text/x-python",
   "name": "python",
   "nbconvert_exporter": "python",
   "pygments_lexer": "ipython3",
   "version": "3.6.3"
  }
 },
 "nbformat": 4,
 "nbformat_minor": 2
}
