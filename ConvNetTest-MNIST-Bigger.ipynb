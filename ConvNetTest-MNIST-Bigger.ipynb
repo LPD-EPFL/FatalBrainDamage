{
 "cells": [
  {
   "cell_type": "code",
   "execution_count": 1,
   "metadata": {},
   "outputs": [
    {
     "name": "stderr",
     "output_type": "stream",
     "text": [
      "Using TensorFlow backend.\n"
     ]
    },
    {
     "name": "stdout",
     "output_type": "stream",
     "text": [
      "Initialized TensorFlow\n"
     ]
    }
   ],
   "source": [
    "%load_ext autoreload\n",
    "%autoreload 2\n",
    "%matplotlib inline\n",
    "\n",
    "# loading keras and FBD experiment...\n",
    "from keras import backend as K\n",
    "from helpers import *\n",
    "from experiment import *\n",
    "from matplotlib import pyplot as plt\n",
    "import pickle\n",
    "from tqdm import tqdm\n",
    "import sys\n",
    "import numpy as np\n",
    "\n",
    "# to show the model\n",
    "from IPython.display import SVG\n",
    "from keras.utils.vis_utils import model_to_dot\n",
    "from keras import Model, Input\n",
    "\n",
    "# loading resnet\n",
    "from keras.applications.resnet50 import ResNet50\n",
    "from keras.preprocessing import image\n",
    "from keras.applications.resnet50 import preprocess_input, decode_predictions"
   ]
  },
  {
   "cell_type": "code",
   "execution_count": 86,
   "metadata": {},
   "outputs": [
    {
     "name": "stdout",
     "output_type": "stream",
     "text": [
      "x_train shape: (60000, 28, 28, 1)\n",
      "60000 train samples\n",
      "10000 test samples\n",
      "Train on 60000 samples, validate on 10000 samples\n",
      "Epoch 1/3\n",
      "60000/60000 [==============================] - 5s 83us/step - loss: 2.3138 - acc: 0.1098 - val_loss: 2.3011 - val_acc: 0.1135\n",
      "Epoch 2/3\n",
      "60000/60000 [==============================] - 5s 81us/step - loss: 2.1793 - acc: 0.1681 - val_loss: 0.4174 - val_acc: 0.8720\n",
      "Epoch 3/3\n",
      "60000/60000 [==============================] - 5s 80us/step - loss: 0.2723 - acc: 0.9178 - val_loss: 0.0787 - val_acc: 0.9754\n"
     ]
    },
    {
     "data": {
      "image/png": "[encoded data removed]",
      "text/plain": [
       "<Figure size 432x288 with 1 Axes>"
      ]
     },
     "metadata": {
      "needs_background": "light"
     },
     "output_type": "display_data"
    },
    {
     "name": "stdout",
     "output_type": "stream",
     "text": [
      "Test loss: 0.07869544848471414\n",
      "Test accuracy: 0.9754\n"
     ]
    }
   ],
   "source": [
    "# see https://github.com/keras-team/keras/blob/master/examples/mnist_cnn.py\n",
    "from __future__ import print_function\n",
    "import keras\n",
    "from keras.datasets import mnist\n",
    "from keras.models import Sequential\n",
    "from keras.layers import Dense, Dropout, Flatten\n",
    "from keras.layers import Conv2D, MaxPooling2D, AveragePooling2D\n",
    "from keras import backend as K\n",
    "\n",
    "batch_size = 128\n",
    "num_classes = 10\n",
    "epochs = 3\n",
    "\n",
    "# input image dimensions\n",
    "img_rows, img_cols = 28, 28\n",
    "\n",
    "# the data, split between train and test sets\n",
    "(x_train, y_train), (x_test, y_test) = mnist.load_data()\n",
    "\n",
    "if K.image_data_format() == 'channels_first':\n",
    "    x_train = x_train.reshape(x_train.shape[0], 1, img_rows, img_cols)\n",
    "    x_test = x_test.reshape(x_test.shape[0], 1, img_rows, img_cols)\n",
    "    input_shape = (1, img_rows, img_cols)\n",
    "else:\n",
    "    x_train = x_train.reshape(x_train.shape[0], img_rows, img_cols, 1)\n",
    "    x_test = x_test.reshape(x_test.shape[0], img_rows, img_cols, 1)\n",
    "    input_shape = (img_rows, img_cols, 1)\n",
    "\n",
    "x_train = x_train.astype('float32')\n",
    "x_test = x_test.astype('float32')\n",
    "x_train /= 255\n",
    "x_test /= 255\n",
    "print('x_train shape:', x_train.shape)\n",
    "print(x_train.shape[0], 'train samples')\n",
    "print(x_test.shape[0], 'test samples')\n",
    "\n",
    "# convert class vectors to binary class matrices\n",
    "y_train = keras.utils.to_categorical(y_train, num_classes)\n",
    "y_test = keras.utils.to_categorical(y_test, num_classes)\n",
    "\n",
    "model = Sequential()\n",
    "model.add(Conv2D(32, kernel_size=(3, 3),\n",
    "                 activation='softplus',\n",
    "                 input_shape=input_shape))\n",
    "model.add(Conv2D(64, (3, 3), activation='softplus'))\n",
    "model.add(AveragePooling2D(pool_size=(2, 2)))\n",
    "\n",
    "model.add(Conv2D(64, (3, 3), activation='softplus'))\n",
    "model.add(Conv2D(64, (3, 3), activation='softplus'))\n",
    "model.add(AveragePooling2D(pool_size=(2, 2)))\n",
    "\n",
    "model.add(Dropout(0.25))\n",
    "model.add(Flatten())\n",
    "model.add(Dense(128, activation='softplus'))\n",
    "model.add(Dropout(0.5))\n",
    "model.add(Dense(num_classes, activation='softmax'))\n",
    "\n",
    "model.compile(loss=keras.losses.categorical_crossentropy,\n",
    "              optimizer=keras.optimizers.Adadelta(),\n",
    "              metrics=['accuracy'])\n",
    "\n",
    "history = model.fit(x_train, y_train,\n",
    "          batch_size=batch_size,\n",
    "          epochs=epochs,\n",
    "          verbose=1,\n",
    "          validation_data=(x_test, y_test))\n",
    "plt.figure()\n",
    "plt.plot(history.history['acc'], label = 'acc')\n",
    "plt.plot(history.history['val_acc'], label = 'val_acc')\n",
    "plt.show()\n",
    "score = model.evaluate(x_test, y_test, verbose=0)\n",
    "print('Test loss:', score[0])\n",
    "print('Test accuracy:', score[1])"
   ]
  },
  {
   "cell_type": "code",
   "execution_count": 87,
   "metadata": {},
   "outputs": [],
   "source": [
    "# probability of input failure\n",
    "p = 0.001"
   ]
  },
  {
   "cell_type": "code",
   "execution_count": 88,
   "metadata": {},
   "outputs": [
    {
     "data": {
      "text/plain": [
       "0.784"
      ]
     },
     "execution_count": 88,
     "metadata": {},
     "output_type": "execute_result"
    }
   ],
   "source": [
    "# calculating np\n",
    "np.prod(list(map(int, model.inputs[0].shape[1:]))) * p"
   ]
  },
  {
   "cell_type": "code",
   "execution_count": 89,
   "metadata": {},
   "outputs": [
    {
     "data": {
      "text/plain": [
       "<matplotlib.image.AxesImage at 0x7f78dc326550>"
      ]
     },
     "execution_count": 89,
     "metadata": {},
     "output_type": "execute_result"
    },
    {
     "data": {
      "image/png": "[encoded data removed]",
      "text/plain": [
       "<Figure size 432x288 with 1 Axes>"
      ]
     },
     "metadata": {
      "needs_background": "light"
     },
     "output_type": "display_data"
    }
   ],
   "source": [
    "x = np.array([x_train[2]])\n",
    "plt.imshow(x.reshape(28, 28))"
   ]
  },
  {
   "cell_type": "code",
   "execution_count": 90,
   "metadata": {},
   "outputs": [],
   "source": [
    "class ModelInputCrashExperiment(Experiment):\n",
    "    def __init__(self, model, p=0.01, name='exp'):\n",
    "        \"\"\" Get an experiment based on a model, assuming input failures\n",
    "            p failures at input\n",
    "        \"\"\"\n",
    "\n",
    "        # saving p_inference\n",
    "        self.p_inference = [0, p]\n",
    "        \n",
    "        in_shape = model.layers[0].input.shape[1:]\n",
    "        out_shape = model.layers[-1].output.shape[1:]\n",
    "        assert len(out_shape) == 1, \"Only support 1D output\"\n",
    "        out_N = int(out_shape[0])\n",
    "\n",
    "        # rewrite using https://github.com/raghakot/keras-vis/issues/37\n",
    "        self.N = [0, 0, out_N]\n",
    "\n",
    "        def IdentityLayer(input_shape=None):\n",
    "            \"\"\" A layer which does nothing \"\"\"\n",
    "            return Lambda(\n",
    "                lambda x: x + 0, input_shape=input_shape, name='Identity')\n",
    "\n",
    "        # creating correct and crashing models\n",
    "        inp = Input(shape = in_shape)\n",
    "        self.model_correct  = Model(inputs = inp, outputs = model(IdentityLayer     (   input_shape = in_shape)(inp)))\n",
    "        self.model_crashing = Model(inputs = inp, outputs = model(IndependentCrashes(p, input_shape = in_shape)(inp)))"
   ]
  },
  {
   "cell_type": "code",
   "execution_count": 91,
   "metadata": {},
   "outputs": [],
   "source": [
    "# obtaining experiment from a model\n",
    "exp = ModelInputCrashExperiment(model, p = p)"
   ]
  },
  {
   "cell_type": "code",
   "execution_count": 92,
   "metadata": {},
   "outputs": [
    {
     "data": {
      "image/svg+xml": [
       "<svg height=\"191pt\" viewBox=\"0.00 0.00 201.00 191.00\" width=\"201pt\" xmlns=\"http://www.w3.org/2000/svg\" xmlns:xlink=\"http://www.w3.org/1999/xlink\">\n",
       "<g class=\"graph\" id=\"graph0\" transform=\"scale(1 1) rotate(0) translate(4 187)\">\n",
       "<title>G</title>\n",
       "<polygon fill=\"#ffffff\" points=\"-4,4 -4,-187 197,-187 197,4 -4,4\" stroke=\"transparent\"/>\n",
       "<!-- 140157066816256 -->\n",
       "<g class=\"node\" id=\"node1\">\n",
       "<title>140157066816256</title>\n",
       "<polygon fill=\"none\" points=\"16.5,-146.5 16.5,-182.5 176.5,-182.5 176.5,-146.5 16.5,-146.5\" stroke=\"#000000\"/>\n",
       "<text fill=\"#000000\" font-family=\"Times,serif\" font-size=\"14.00\" text-anchor=\"middle\" x=\"96.5\" y=\"-160.8\">input_3: InputLayer</text>\n",
       "</g>\n",
       "<!-- 140157066896440 -->\n",
       "<g class=\"node\" id=\"node2\">\n",
       "<title>140157066896440</title>\n",
       "<polygon fill=\"none\" points=\"25.5,-73.5 25.5,-109.5 167.5,-109.5 167.5,-73.5 25.5,-73.5\" stroke=\"#000000\"/>\n",
       "<text fill=\"#000000\" font-family=\"Times,serif\" font-size=\"14.00\" text-anchor=\"middle\" x=\"96.5\" y=\"-87.8\">Crashes: Lambda</text>\n",
       "</g>\n",
       "<!-- 140157066816256&#45;&gt;140157066896440 -->\n",
       "<g class=\"edge\" id=\"edge1\">\n",
       "<title>140157066816256-&gt;140157066896440</title>\n",
       "<path d=\"M96.5,-146.4551C96.5,-138.3828 96.5,-128.6764 96.5,-119.6817\" fill=\"none\" stroke=\"#000000\"/>\n",
       "<polygon fill=\"#000000\" points=\"100.0001,-119.5903 96.5,-109.5904 93.0001,-119.5904 100.0001,-119.5903\" stroke=\"#000000\"/>\n",
       "</g>\n",
       "<!-- 140157085434152 -->\n",
       "<g class=\"node\" id=\"node3\">\n",
       "<title>140157085434152</title>\n",
       "<polygon fill=\"none\" points=\"0,-.5 0,-36.5 193,-36.5 193,-.5 0,-.5\" stroke=\"#000000\"/>\n",
       "<text fill=\"#000000\" font-family=\"Times,serif\" font-size=\"14.00\" text-anchor=\"middle\" x=\"96.5\" y=\"-14.8\">sequential_3: Sequential</text>\n",
       "</g>\n",
       "<!-- 140157066896440&#45;&gt;140157085434152 -->\n",
       "<g class=\"edge\" id=\"edge2\">\n",
       "<title>140157066896440-&gt;140157085434152</title>\n",
       "<path d=\"M96.5,-73.4551C96.5,-65.3828 96.5,-55.6764 96.5,-46.6817\" fill=\"none\" stroke=\"#000000\"/>\n",
       "<polygon fill=\"#000000\" points=\"100.0001,-46.5903 96.5,-36.5904 93.0001,-46.5904 100.0001,-46.5903\" stroke=\"#000000\"/>\n",
       "</g>\n",
       "</g>\n",
       "</svg>"
      ],
      "text/plain": [
       "<IPython.core.display.SVG object>"
      ]
     },
     "execution_count": 92,
     "metadata": {},
     "output_type": "execute_result"
    }
   ],
   "source": [
    "# plotting crashing architecture\n",
    "SVG(model_to_dot(exp.model_crashing).create(prog='dot', format='svg'))"
   ]
  },
  {
   "cell_type": "code",
   "execution_count": 93,
   "metadata": {},
   "outputs": [
    {
     "data": {
      "image/svg+xml": [
       "<svg height=\"191pt\" viewBox=\"0.00 0.00 201.00 191.00\" width=\"201pt\" xmlns=\"http://www.w3.org/2000/svg\" xmlns:xlink=\"http://www.w3.org/1999/xlink\">\n",
       "<g class=\"graph\" id=\"graph0\" transform=\"scale(1 1) rotate(0) translate(4 187)\">\n",
       "<title>G</title>\n",
       "<polygon fill=\"#ffffff\" points=\"-4,4 -4,-187 197,-187 197,4 -4,4\" stroke=\"transparent\"/>\n",
       "<!-- 140157066816256 -->\n",
       "<g class=\"node\" id=\"node1\">\n",
       "<title>140157066816256</title>\n",
       "<polygon fill=\"none\" points=\"16.5,-146.5 16.5,-182.5 176.5,-182.5 176.5,-146.5 16.5,-146.5\" stroke=\"#000000\"/>\n",
       "<text fill=\"#000000\" font-family=\"Times,serif\" font-size=\"14.00\" text-anchor=\"middle\" x=\"96.5\" y=\"-160.8\">input_3: InputLayer</text>\n",
       "</g>\n",
       "<!-- 140157066817264 -->\n",
       "<g class=\"node\" id=\"node2\">\n",
       "<title>140157066817264</title>\n",
       "<polygon fill=\"none\" points=\"26.5,-73.5 26.5,-109.5 166.5,-109.5 166.5,-73.5 26.5,-73.5\" stroke=\"#000000\"/>\n",
       "<text fill=\"#000000\" font-family=\"Times,serif\" font-size=\"14.00\" text-anchor=\"middle\" x=\"96.5\" y=\"-87.8\">Identity: Lambda</text>\n",
       "</g>\n",
       "<!-- 140157066816256&#45;&gt;140157066817264 -->\n",
       "<g class=\"edge\" id=\"edge1\">\n",
       "<title>140157066816256-&gt;140157066817264</title>\n",
       "<path d=\"M96.5,-146.4551C96.5,-138.3828 96.5,-128.6764 96.5,-119.6817\" fill=\"none\" stroke=\"#000000\"/>\n",
       "<polygon fill=\"#000000\" points=\"100.0001,-119.5903 96.5,-109.5904 93.0001,-119.5904 100.0001,-119.5903\" stroke=\"#000000\"/>\n",
       "</g>\n",
       "<!-- 140157085434152 -->\n",
       "<g class=\"node\" id=\"node3\">\n",
       "<title>140157085434152</title>\n",
       "<polygon fill=\"none\" points=\"0,-.5 0,-36.5 193,-36.5 193,-.5 0,-.5\" stroke=\"#000000\"/>\n",
       "<text fill=\"#000000\" font-family=\"Times,serif\" font-size=\"14.00\" text-anchor=\"middle\" x=\"96.5\" y=\"-14.8\">sequential_3: Sequential</text>\n",
       "</g>\n",
       "<!-- 140157066817264&#45;&gt;140157085434152 -->\n",
       "<g class=\"edge\" id=\"edge2\">\n",
       "<title>140157066817264-&gt;140157085434152</title>\n",
       "<path d=\"M96.5,-73.4551C96.5,-65.3828 96.5,-55.6764 96.5,-46.6817\" fill=\"none\" stroke=\"#000000\"/>\n",
       "<polygon fill=\"#000000\" points=\"100.0001,-46.5903 96.5,-36.5904 93.0001,-46.5904 100.0001,-46.5903\" stroke=\"#000000\"/>\n",
       "</g>\n",
       "</g>\n",
       "</svg>"
      ],
      "text/plain": [
       "<IPython.core.display.SVG object>"
      ]
     },
     "execution_count": 93,
     "metadata": {},
     "output_type": "execute_result"
    }
   ],
   "source": [
    "# plotting correct architecture\n",
    "SVG(model_to_dot(exp.model_correct).create(prog='dot', format='svg'))"
   ]
  },
  {
   "cell_type": "code",
   "execution_count": 94,
   "metadata": {},
   "outputs": [],
   "source": [
    "def predict(model, x):\n",
    "    preds = model.predict(x)[0]\n",
    "    sort = np.argsort(-preds)[:3]\n",
    "    print(' '.join(['%d: %.20f%%' % (i, 100 * preds[i]) for i in sort]))"
   ]
  },
  {
   "cell_type": "code",
   "execution_count": 114,
   "metadata": {},
   "outputs": [
    {
     "name": "stdout",
     "output_type": "stream",
     "text": [
      "4: 99.99458789825439453125% 9: 0.00380352939828298986% 2: 0.00154218087118351832%\n"
     ]
    }
   ],
   "source": [
    "predict(exp.model_crashing, x)"
   ]
  },
  {
   "cell_type": "code",
   "execution_count": 115,
   "metadata": {},
   "outputs": [
    {
     "name": "stdout",
     "output_type": "stream",
     "text": [
      "4: 99.99606609344482421875% 9: 0.00251223591476446018% 2: 0.00137957495098817162%\n"
     ]
    }
   ],
   "source": [
    "predict(exp.model_correct, x)"
   ]
  },
  {
   "cell_type": "code",
   "execution_count": 116,
   "metadata": {},
   "outputs": [
    {
     "data": {
      "text/plain": [
       "array([ 3.3809990e-12,  2.7856153e-10,  1.5450233e-07,  2.0372997e-09,\n",
       "       -4.0790033e-07,  2.3449689e-10,  3.4189032e-10,  3.6633345e-09,\n",
       "        9.7196140e-11,  2.4693006e-07], dtype=float32)"
      ]
     },
     "execution_count": 116,
     "metadata": {},
     "output_type": "execute_result"
    }
   ],
   "source": [
    "exp.get_bound_b3(x)['mean']"
   ]
  },
  {
   "cell_type": "code",
   "execution_count": 118,
   "metadata": {},
   "outputs": [
    {
     "data": {
      "text/plain": [
       "array([[ 5.2915840e-12,  4.2566181e-10,  2.2281540e-07,  3.0880416e-09,\n",
       "        -5.7124731e-07,  3.6956849e-10,  5.1005300e-10,  5.3649267e-09,\n",
       "         1.6160433e-10,  3.3934302e-07]], dtype=float32)"
      ]
     },
     "execution_count": 118,
     "metadata": {},
     "output_type": "execute_result"
    }
   ],
   "source": [
    "np.mean(exp.compute_error(np.array(x), repetitions = 100000), axis = 1)"
   ]
  },
  {
   "cell_type": "code",
   "execution_count": null,
   "metadata": {},
   "outputs": [],
   "source": []
  }
 ],
 "metadata": {
  "kernelspec": {
   "display_name": "Python 3",
   "language": "python",
   "name": "python3"
  },
  "language_info": {
   "codemirror_mode": {
    "name": "ipython",
    "version": 3
   },
   "file_extension": ".py",
   "mimetype": "text/x-python",
   "name": "python",
   "nbconvert_exporter": "python",
   "pygments_lexer": "ipython3",
   "version": "3.6.8"
  },
  "varInspector": {
   "cols": {
    "lenName": 16,
    "lenType": 16,
    "lenVar": 40
   },
   "kernels_config": {
    "python": {
     "delete_cmd_postfix": "",
     "delete_cmd_prefix": "del ",
     "library": "var_list.py",
     "varRefreshCmd": "print(var_dic_list())"
    },
    "r": {
     "delete_cmd_postfix": ") ",
     "delete_cmd_prefix": "rm(",
     "library": "var_list.r",
     "varRefreshCmd": "cat(var_dic_list()) "
    }
   },
   "types_to_exclude": [
    "module",
    "function",
    "builtin_function_or_method",
    "instance",
    "_Feature"
   ],
   "window_display": false
  }
 },
 "nbformat": 4,
 "nbformat_minor": 2
}
