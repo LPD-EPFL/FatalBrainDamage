{
 "cells": [
  {
   "cell_type": "code",
   "execution_count": 8,
   "metadata": {},
   "outputs": [],
   "source": [
    "%matplotlib inline\n",
    "import numpy as np\n",
    "from matplotlib import pyplot as plt\n",
    "from scipy.special import expit\n",
    "from experiment_random import *\n",
    "from tqdm import tqdm\n",
    "from tensorflow import set_random_seed\n",
    "import tensorflow as tf"
   ]
  },
  {
   "cell_type": "code",
   "execution_count": 20,
   "metadata": {},
   "outputs": [],
   "source": [
    "# Helpers test\n",
    "assert(norm1([1,1,1]) == 3.0, \"Norm1 test\")\n",
    "assert(norm2([1,1,1]) == 3.0 ** 0.5, \"Norm2 test\")\n",
    "assert(dot_abs([1,2,3], [-1,-2,3]) == 1 + 4 + 9, \"Dot abs test\")\n",
    "assert(norm1_minus_dot_abs([1,2,3],[-1,-2,3]) == 36 - 14, \"Norm1 minus dot_abs test\")\n",
    "with tf.Session() as sess:\n",
    "    assert(np.allclose(expit(4 * 3.14 * 0.1), get_custom_activation(3.14)(0.1).eval()))"
   ]
  },
  {
   "cell_type": "code",
   "execution_count": null,
   "metadata": {
    "collapsed": true
   },
   "outputs": [],
   "source": []
  },
  {
   "cell_type": "code",
   "execution_count": 91,
   "metadata": {},
   "outputs": [
    {
     "name": "stdout",
     "output_type": "stream",
     "text": [
      "Creating network for 2-dimensional input and 4-dimensional output, with 1 hidden layers\n"
     ]
    }
   ],
   "source": [
    "np.random.seed(42)\n",
    "layers = [2, 3, 4]\n",
    "experiment = RandomExperiment(N = layers, P = 0.1, KLips = 0.1, do_print = True)"
   ]
  },
  {
   "cell_type": "code",
   "execution_count": 92,
   "metadata": {
    "collapsed": true
   },
   "outputs": [],
   "source": [
    "w1 = experiment.W[0]\n",
    "w2 = experiment.W[1]\n",
    "b1 = experiment.B[0]\n",
    "b2 = experiment.B[1]"
   ]
  },
  {
   "cell_type": "code",
   "execution_count": 93,
   "metadata": {
    "collapsed": true
   },
   "outputs": [],
   "source": [
    "np.random.seed(42)\n",
    "x = np.random.randn(1, layers[0])"
   ]
  },
  {
   "cell_type": "code",
   "execution_count": 94,
   "metadata": {},
   "outputs": [
    {
     "data": {
      "text/plain": [
       "array([[0.41819113, 0.2520001 , 0.2819485 , 0.5752469 ]], dtype=float32)"
      ]
     },
     "execution_count": 94,
     "metadata": {},
     "output_type": "execute_result"
    }
   ],
   "source": [
    "experiment.model_no_dropout.predict(x)"
   ]
  },
  {
   "cell_type": "code",
   "execution_count": 95,
   "metadata": {},
   "outputs": [
    {
     "data": {
      "text/plain": [
       "array([[0.41819114, 0.25200011, 0.2819485 , 0.57524691]])"
      ]
     },
     "execution_count": 95,
     "metadata": {},
     "output_type": "execute_result"
    }
   ],
   "source": [
    "expit(4 * experiment.K * (expit(4 * experiment.K * (x @ w1 + b1)) @ w2 + b2))"
   ]
  },
  {
   "cell_type": "code",
   "execution_count": 96,
   "metadata": {},
   "outputs": [
    {
     "data": {
      "text/plain": [
       "array([[0.40944374, 0.22986974, 0.2621686 , 0.5838267 ]], dtype=float32)"
      ]
     },
     "execution_count": 96,
     "metadata": {},
     "output_type": "execute_result"
    }
   ],
   "source": [
    "np.random.seed(42)\n",
    "set_random_seed(42)\n",
    "experiment.model.predict(x)"
   ]
  },
  {
   "cell_type": "code",
   "execution_count": null,
   "metadata": {
    "collapsed": true
   },
   "outputs": [],
   "source": []
  }
 ],
 "metadata": {
  "kernelspec": {
   "display_name": "Python 3",
   "language": "python",
   "name": "python3"
  },
  "language_info": {
   "codemirror_mode": {
    "name": "ipython",
    "version": 3
   },
   "file_extension": ".py",
   "mimetype": "text/x-python",
   "name": "python",
   "nbconvert_exporter": "python",
   "pygments_lexer": "ipython3",
   "version": "3.6.3"
  }
 },
 "nbformat": 4,
 "nbformat_minor": 2
}
