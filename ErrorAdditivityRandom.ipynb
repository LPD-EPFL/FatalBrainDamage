{
 "cells": [
  {
   "cell_type": "code",
   "execution_count": 91,
   "metadata": {},
   "outputs": [
    {
     "name": "stdout",
     "output_type": "stream",
     "text": [
      "The autoreload extension is already loaded. To reload it, use:\n",
      "  %reload_ext autoreload\n"
     ]
    }
   ],
   "source": [
    "%load_ext autoreload\n",
    "%autoreload 2\n",
    "%matplotlib inline\n",
    "from helpers import *\n",
    "from matplotlib import pyplot as plt\n",
    "import numpy as np\n",
    "from experiment_random import *\n",
    "import pandas as pd\n",
    "import seaborn as sns"
   ]
  },
  {
   "cell_type": "code",
   "execution_count": 92,
   "metadata": {},
   "outputs": [],
   "source": [
    "# probability of failure\n",
    "p = 1e-2\n",
    "\n",
    "# layers configuration\n",
    "N = [50, 51, 52, 53]\n",
    "\n",
    "# some inputs to test on\n",
    "np.random.seed(42)\n",
    "data = np.random.randn(5, N[0]) + 0.1"
   ]
  },
  {
   "cell_type": "code",
   "execution_count": 93,
   "metadata": {},
   "outputs": [],
   "source": [
    "def compute_error_for_crashes(fail_layers, repetitions = 10000, seed = 42):\n",
    "    \"\"\" Compute error on data experimentally if layers from\n",
    "        fail_layers are crashed, return mean and std\n",
    "    \"\"\"\n",
    "    \n",
    "    # sanity check\n",
    "    assert(len(fail_layers) == len(N))\n",
    "    \n",
    "    # obtaining p_inference: failing layers from fail_layers\n",
    "    p_inference = [p if fail_layers[i] else 0 for i in range(len(fail_layers))]\n",
    "    \n",
    "    # fixing the random seed to obtain the same weights each time\n",
    "    np.random.seed(seed)\n",
    "    \n",
    "    # creating the experiment\n",
    "    exp = RandomExperiment(N, p_inference = p_inference, activation = 'relu',\n",
    "                           std_weight = 3, mean_weight = 0.1, do_print = False)\n",
    "    \n",
    "    # computing error manually\n",
    "    errors = exp.compute_error(data, repetitions = repetitions)\n",
    "    \n",
    "    # returning mean and std\n",
    "    return np.mean(errors, axis = 1), np.std(errors, axis = 1) ** 2"
   ]
  },
  {
   "cell_type": "code",
   "execution_count": 94,
   "metadata": {},
   "outputs": [],
   "source": [
    "def boolean_cube(size):\n",
    "    \"\"\" Return a boolean cube of length size \"\"\"\n",
    "    if size == 1:\n",
    "        return [[0], [1]]\n",
    "    else:\n",
    "        r = boolean_cube(size - 1)\n",
    "        return [[0] + x for x in r] + [[1] + x for x in r]"
   ]
  },
  {
   "cell_type": "code",
   "execution_count": 95,
   "metadata": {},
   "outputs": [],
   "source": [
    "# sanity check\n",
    "assert boolean_cube(2) == [[0, 0], [0, 1], [1, 0], [1, 1]], \"Boolean cube must return the correct value\""
   ]
  },
  {
   "cell_type": "code",
   "execution_count": 96,
   "metadata": {},
   "outputs": [],
   "source": [
    "# obtaining boolean cube (fail all possible layer configurations, including input)\n",
    "cube = boolean_cube(len(N))\n",
    "cube = [tuple(x) for x in cube]"
   ]
  },
  {
   "cell_type": "code",
   "execution_count": 97,
   "metadata": {},
   "outputs": [
    {
     "name": "stderr",
     "output_type": "stream",
     "text": [
      "\n",
      "\n",
      "  0%|          | 0/16 [00:00<?, ?it/s]\u001b[A\u001b[A\n",
      "\n",
      "  6%|▋         | 1/16 [00:05<01:18,  5.25s/it]\u001b[A\u001b[A\n",
      "\n",
      " 12%|█▎        | 2/16 [00:10<01:15,  5.38s/it]\u001b[A\u001b[A\n",
      "\n",
      " 19%|█▉        | 3/16 [00:16<01:10,  5.40s/it]\u001b[A\u001b[A\n",
      "\n",
      " 25%|██▌       | 4/16 [00:22<01:05,  5.50s/it]\u001b[A\u001b[A\n",
      "\n",
      " 31%|███▏      | 5/16 [00:27<01:00,  5.54s/it]\u001b[A\u001b[A\n",
      "\n",
      " 38%|███▊      | 6/16 [00:33<00:55,  5.58s/it]\u001b[A\u001b[A\n",
      "\n",
      " 44%|████▍     | 7/16 [00:39<00:50,  5.66s/it]\u001b[A\u001b[A\n",
      "\n",
      " 50%|█████     | 8/16 [00:45<00:46,  5.76s/it]\u001b[A\u001b[A\n",
      "\n",
      " 56%|█████▋    | 9/16 [00:51<00:40,  5.81s/it]\u001b[A\u001b[A\n",
      "\n",
      " 62%|██████▎   | 10/16 [00:58<00:37,  6.22s/it]\u001b[A\u001b[A\n",
      "\n",
      " 69%|██████▉   | 11/16 [01:04<00:30,  6.16s/it]\u001b[A\u001b[A\n",
      "\n",
      " 75%|███████▌  | 12/16 [01:10<00:24,  6.22s/it]\u001b[A\u001b[A\n",
      "\n",
      " 81%|████████▏ | 13/16 [01:17<00:19,  6.34s/it]\u001b[A\u001b[A\n",
      "\n",
      " 88%|████████▊ | 14/16 [01:24<00:13,  6.51s/it]\u001b[A\u001b[A\n",
      "\n",
      " 94%|█████████▍| 15/16 [01:30<00:06,  6.43s/it]\u001b[A\u001b[A\n",
      "\n",
      "100%|██████████| 16/16 [01:37<00:00,  6.46s/it]\u001b[A\u001b[A\n",
      "\n",
      "\u001b[A\u001b[A"
     ]
    }
   ],
   "source": [
    "# obtaining data for each configuration\n",
    "results = {conf: compute_error_for_crashes(conf, repetitions = 50000) for conf in tqdm(cube)}"
   ]
  },
  {
   "cell_type": "code",
   "execution_count": 98,
   "metadata": {},
   "outputs": [],
   "source": [
    "def disjoint(a, b):\n",
    "    \"\"\" Returns true iff configurations a and b are disjoint \"\"\"\n",
    "    for x, y in zip(a, b):\n",
    "        if x and y: return False\n",
    "    return True\n",
    "\n",
    "def s(a, b):\n",
    "    \"\"\" Returns the sum of tuples, element-wise \"\"\"\n",
    "    return tuple([x + y for x, y in zip(a, b)])\n",
    "\n",
    "def leq(a, b):\n",
    "    \"\"\" True iff a <= b lexicographically \"\"\"\n",
    "    for x, y in zip(a, b):\n",
    "        if x > y: return False\n",
    "        if x < y: return True\n",
    "    return True"
   ]
  },
  {
   "cell_type": "code",
   "execution_count": 99,
   "metadata": {},
   "outputs": [],
   "source": [
    "all_mean = []\n",
    "all_std = []\n",
    "# loop over the cube\n",
    "for a in cube:\n",
    "    # second loop over the cube\n",
    "    for b in cube:\n",
    "        # if a and b are disjoint and a <= b and a is not trivial\n",
    "        if disjoint(a, b) and leq(a, b) and a != (0,0,0,0):\n",
    "            # sum of a, b\n",
    "            c = s(a, b)\n",
    "            \n",
    "            # a: mean and std\n",
    "            da_mean, da_std = results[a]\n",
    "            \n",
    "            # b: mean and std\n",
    "            db_mean, db_std = results[b]\n",
    "            \n",
    "            # sum(a, b): mean and std\n",
    "            dc_mean, dc_std = results[c]\n",
    "            \n",
    "            # difference in mean from linearity\n",
    "            dx_mean = dc_mean - da_mean - db_mean\n",
    "            \n",
    "            # difference in std from linearity\n",
    "            dx_std  = dc_std - da_std - db_std\n",
    "            \n",
    "            # printing results\n",
    "            all_mean += [np.linalg.norm(dx_mean) / np.linalg.norm(dc_mean)]\n",
    "            all_std  += [np.linalg.norm(dx_std)/ np.linalg.norm(dc_std)]"
   ]
  },
  {
   "cell_type": "code",
   "execution_count": 104,
   "metadata": {},
   "outputs": [
    {
     "data": {
      "image/png": "[encoded data removed]",
      "text/plain": [
       "<Figure size 432x288 with 1 Axes>"
      ]
     },
     "metadata": {
      "needs_background": "light"
     },
     "output_type": "display_data"
    }
   ],
   "source": [
    "plt.title('Mean and std$^2$: deviation from linearity for p = %.2f' % p)\n",
    "plt.hist(np.array(all_mean) * 100, alpha = 0.5, label = 'mean')\n",
    "plt.hist(np.array(all_std) * 100, alpha = 0.5, label = 'std$^2$')\n",
    "plt.xlabel('$\\|\\Delta_{a\\cup b}-\\Delta_a-\\Delta_b\\|$, %')\n",
    "plt.legend()\n",
    "plt.savefig('figures/error_additivity_mean_std.eps', bbox_inches = 'tight')\n",
    "plt.show()"
   ]
  },
  {
   "cell_type": "code",
   "execution_count": null,
   "metadata": {},
   "outputs": [],
   "source": []
  }
 ],
 "metadata": {
  "kernelspec": {
   "display_name": "Python 3",
   "language": "python",
   "name": "python3"
  },
  "language_info": {
   "codemirror_mode": {
    "name": "ipython",
    "version": 3
   },
   "file_extension": ".py",
   "mimetype": "text/x-python",
   "name": "python",
   "nbconvert_exporter": "python",
   "pygments_lexer": "ipython3",
   "version": "3.6.6"
  }
 },
 "nbformat": 4,
 "nbformat_minor": 2
}
