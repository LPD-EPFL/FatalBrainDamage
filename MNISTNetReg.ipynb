{
 "cells": [
  {
   "cell_type": "code",
   "execution_count": 2,
   "metadata": {
    "colab": {
     "base_uri": "https://localhost:8080/",
     "height": 35
    },
    "colab_type": "code",
    "id": "UqbM2LCENx59",
    "outputId": "2573c17d-261f-484f-80ce-f1a274fc3196"
   },
   "outputs": [
    {
     "name": "stderr",
     "output_type": "stream",
     "text": [
      "/home/sergei/miniconda3/envs/ML/lib/python3.6/site-packages/h5py/__init__.py:36: FutureWarning: Conversion of the second argument of issubdtype from `float` to `np.floating` is deprecated. In future, it will be treated as `np.float64 == np.dtype(float).type`.\n",
      "  from ._conv import register_converters as _register_converters\n",
      "Using TensorFlow backend.\n"
     ]
    }
   ],
   "source": [
    "%matplotlib inline\n",
    "%load_ext autoreload\n",
    "%autoreload 2\n",
    "from matplotlib import pyplot as plt\n",
    "import numpy as np\n",
    "from tqdm import tqdm\n",
    "from experiment_mnist import *"
   ]
  },
  {
   "cell_type": "code",
   "execution_count": null,
   "metadata": {
    "collapsed": true
   },
   "outputs": [],
   "source": [
    "# net with L hidden layers:\n",
    "# input layer 0\n",
    "# output layer L+1\n",
    "# hidden 1...L\n",
    "# EDelta1 -- for 1 hidden layer, therefore it's error for L+1 th layer\n",
    "# gradient_error\n",
    "def dEDelta_dW(self, top_index, bot_index):\n",
    "    if top_index + 1 == bot_index:\n",
    "        return self.K + self.C[] * P[target_layer] * W\n",
    "    elif top_index + 1 < bot_index:\n",
    "        return np.zeros(N[bot_index])\n",
    "    else:\n",
    "        return dEDelta_dW(self, top_index - 1, bot_index) * self.K * (1 - self.P[bot_index]) * Wnorm(L+1)"
   ]
  },
  {
   "cell_type": "code",
   "execution_count": null,
   "metadata": {},
   "outputs": [],
   "source": [
    "P = 0.123 # 0.001 gives 170%. Why?\n",
    "K = 0.1\n",
    "experiment = MNISTExperiment(N = [10], P = P, epochs = 75, KLips = K, activation = 'relu', do_print = True)"
   ]
  },
  {
   "cell_type": "code",
   "execution_count": null,
   "metadata": {
    "collapsed": true
   },
   "outputs": [],
   "source": []
  }
 ],
 "metadata": {
  "accelerator": "GPU",
  "colab": {
   "collapsed_sections": [],
   "include_colab_link": true,
   "name": "DropoutErrorVarianceKerasColab.ipynb",
   "provenance": [],
   "version": "0.3.2"
  },
  "kernelspec": {
   "display_name": "Python 3",
   "language": "python",
   "name": "python3"
  },
  "language_info": {
   "codemirror_mode": {
    "name": "ipython",
    "version": 3
   },
   "file_extension": ".py",
   "mimetype": "text/x-python",
   "name": "python",
   "nbconvert_exporter": "python",
   "pygments_lexer": "ipython3",
   "version": "3.6.3"
  }
 },
 "nbformat": 4,
 "nbformat_minor": 1
}
