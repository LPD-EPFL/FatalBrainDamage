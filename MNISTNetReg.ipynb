{
 "cells": [
  {
   "cell_type": "code",
   "execution_count": 1,
   "metadata": {
    "colab": {
     "base_uri": "https://localhost:8080/",
     "height": 35
    },
    "colab_type": "code",
    "id": "UqbM2LCENx59",
    "outputId": "2573c17d-261f-484f-80ce-f1a274fc3196"
   },
   "outputs": [
    {
     "name": "stderr",
     "output_type": "stream",
     "text": [
      "/home/sergei/miniconda3/envs/ML/lib/python3.6/site-packages/h5py/__init__.py:36: FutureWarning: Conversion of the second argument of issubdtype from `float` to `np.floating` is deprecated. In future, it will be treated as `np.float64 == np.dtype(float).type`.\n",
      "  from ._conv import register_converters as _register_converters\n",
      "Using TensorFlow backend.\n"
     ]
    }
   ],
   "source": [
    "%matplotlib inline\n",
    "%load_ext autoreload\n",
    "%autoreload 2\n",
    "from matplotlib import pyplot as plt\n",
    "import numpy as np\n",
    "from keras import backend as K\n",
    "from tqdm import tqdm\n",
    "from experiment_mnist import *"
   ]
  },
  {
   "cell_type": "code",
   "execution_count": 2,
   "metadata": {},
   "outputs": [
    {
     "data": {
      "image/png": "[encoded data removed]",
      "text/plain": [
       "<Figure size 432x288 with 1 Axes>"
      ]
     },
     "metadata": {},
     "output_type": "display_data"
    },
    {
     "name": "stdout",
     "output_type": "stream",
     "text": [
      "Creating network for 784-dimensional input and 10-dimensional output, with 2 hidden layers\n"
     ]
    }
   ],
   "source": [
    "P = 0.123 # 0.001 gives 170%. Why?\n",
    "KLips = 1\n",
    "experiment = MNISTExperiment(N = [10, 10], P = P, epochs = 1, KLips = KLips, activation = 'relu', do_print = True)"
   ]
  },
  {
   "cell_type": "code",
   "execution_count": 3,
   "metadata": {},
   "outputs": [
    {
     "name": "stderr",
     "output_type": "stream",
     "text": [
      "100%|██████████| 1/1 [00:00<00:00,  2.03it/s]\n"
     ]
    },
    {
     "data": {
      "image/png": "[encoded data removed]",
      "text/plain": [
       "<Figure size 432x288 with 1 Axes>"
      ]
     },
     "metadata": {},
     "output_type": "display_data"
    },
    {
     "name": "stdout",
     "output_type": "stream",
     "text": [
      "Error; maximal over inputs, average over dropout:\n",
      "True values array mean: -0.187188 variance 0.140824\n",
      "Experiment 0.167284 Std 0.186306\n",
      "Equation   2.521945 Std 3.541805\n",
      "Tightness  6.6% Std 5.3%\n"
     ]
    },
    {
     "data": {
      "text/plain": [
       "array([[ 0.45394886, -0.45394886, -0.45394886, -0.45394886,  0.45394886,\n",
       "        -0.45394886, -0.45394886, -0.45394886,  0.45394886, -0.45394886],\n",
       "       [ 0.        ,  0.        ,  0.        ,  0.        ,  0.        ,\n",
       "         0.        ,  0.        ,  0.        ,  0.        ,  0.        ],\n",
       "       [ 0.        ,  0.        ,  0.        ,  0.        ,  0.        ,\n",
       "         0.        ,  0.        ,  0.        ,  0.        ,  0.        ],\n",
       "       [ 0.        ,  0.        ,  0.        ,  0.        ,  0.        ,\n",
       "         0.        ,  0.        ,  0.        ,  0.        ,  0.        ],\n",
       "       [ 0.        ,  0.        ,  0.        ,  0.        ,  0.        ,\n",
       "         0.        ,  0.        ,  0.        ,  0.        ,  0.        ],\n",
       "       [ 0.        ,  0.        ,  0.        ,  0.        ,  0.        ,\n",
       "         0.        ,  0.        ,  0.        ,  0.        ,  0.        ],\n",
       "       [ 0.        ,  0.        ,  0.        ,  0.        ,  0.        ,\n",
       "         0.        ,  0.        ,  0.        ,  0.        ,  0.        ],\n",
       "       [ 0.        ,  0.        ,  0.        ,  0.        ,  0.        ,\n",
       "         0.        ,  0.        ,  0.        ,  0.        ,  0.        ],\n",
       "       [ 0.        ,  0.        ,  0.        ,  0.        ,  0.        ,\n",
       "         0.        ,  0.        ,  0.        ,  0.        ,  0.        ],\n",
       "       [ 0.        ,  0.        ,  0.        ,  0.        ,  0.        ,\n",
       "         0.        ,  0.        ,  0.        ,  0.        ,  0.        ]])"
      ]
     },
     "execution_count": 3,
     "metadata": {},
     "output_type": "execute_result"
    }
   ],
   "source": [
    "experiment.run(inputs = 1)\n",
    "experiment.get_mean_std_error()\n",
    "experiment.dEDelta_dW(1, 2)"
   ]
  },
  {
   "cell_type": "code",
   "execution_count": 4,
   "metadata": {},
   "outputs": [],
   "source": [
    "from helpers import *"
   ]
  },
  {
   "cell_type": "code",
   "execution_count": 5,
   "metadata": {
    "collapsed": true
   },
   "outputs": [],
   "source": [
    "# probability per layer (constant here)\n",
    "p_layer = 0.1\n",
    "\n",
    "# maximal value per layer (constant here)\n",
    "C_layer = 1.0\n",
    "\n",
    "# Lipschitz coefficient\n",
    "KLips = 1\n",
    "\n",
    "# array of Erf for layers\n",
    "errors = {-1: 0}\n",
    "\n",
    "# regularization strength\n",
    "lambda_ = 0.01\n",
    "\n",
    "def get_kernel_reg(layer):\n",
    "    \"\"\" Get a Erf regularizer for layer\"\"\"\n",
    "    \n",
    "    def kernel_reg(w, layer = layer):\n",
    "        \"\"\" Regularizer for a layer \"\"\"\n",
    "        # Maximal 1-norm over output neuron\n",
    "        wnorm1 = K.max(K.sum(K.abs(w), axis = 0))\n",
    "        \n",
    "        # error (induction)\n",
    "        error = (p_layer * C_layer + KLips * (1 - p_layer) * errors[layer - 1]) * wnorm1\n",
    "        \n",
    "        # saving the error for the next call\n",
    "        errors[layer] = error\n",
    "        \n",
    "        # returning the error scaled\n",
    "        return error * lambda_\n",
    "    \n",
    "    # returning the function\n",
    "    return kernel_reg"
   ]
  },
  {
   "cell_type": "code",
   "execution_count": 6,
   "metadata": {},
   "outputs": [],
   "source": [
    "def create_random_weight_model(Ns, KLips, func = 'sigmoid'):\n",
    "  \"\"\" Create some simple network with given dropout prob, weights and Lipschitz coefficient for sigmoid \"\"\"\n",
    "  \n",
    "  # creating model\n",
    "  model = Sequential()\n",
    "\n",
    "  # adding layers\n",
    "  for i in range(len(Ns) - 1):\n",
    "    # is last layer (with output)?\n",
    "    is_last = i + 2 == len(Ns)\n",
    "    \n",
    "    # adding dense layer with sigmoid for hidden and linear for last layer\n",
    "    model.add(Dense(Ns[i + 1], input_shape = (Ns[i], ),\n",
    "                    kernel_initializer = 'random_normal',\n",
    "                    activation = 'linear' if is_last else get_custom_activation(KLips, func),\n",
    "                    bias_initializer = 'random_normal',\n",
    "                    kernel_regularizer = get_kernel_reg(i)))\n",
    "\n",
    "  model.compile(loss=keras.losses.mean_squared_error,\n",
    "              optimizer=keras.optimizers.Adadelta(),\n",
    "              metrics=['accuracy', 'mean_squared_error'])\n",
    "\n",
    "  model.summary()\n",
    "  return model"
   ]
  },
  {
   "cell_type": "code",
   "execution_count": 7,
   "metadata": {},
   "outputs": [
    {
     "name": "stdout",
     "output_type": "stream",
     "text": [
      "_________________________________________________________________\n",
      "Layer (type)                 Output Shape              Param #   \n",
      "=================================================================\n",
      "dense_10 (Dense)             (None, 100)               78500     \n",
      "_________________________________________________________________\n",
      "dense_11 (Dense)             (None, 100)               10100     \n",
      "_________________________________________________________________\n",
      "dense_12 (Dense)             (None, 100)               10100     \n",
      "_________________________________________________________________\n",
      "dense_13 (Dense)             (None, 10)                1010      \n",
      "=================================================================\n",
      "Total params: 99,710\n",
      "Trainable params: 99,710\n",
      "Non-trainable params: 0\n",
      "_________________________________________________________________\n"
     ]
    }
   ],
   "source": [
    "model = create_random_weight_model([28**2,100,100,100,10], 1.0, func = 'relu')"
   ]
  },
  {
   "cell_type": "code",
   "execution_count": 8,
   "metadata": {},
   "outputs": [
    {
     "name": "stdout",
     "output_type": "stream",
     "text": [
      "Epoch 1/5\n",
      "60000/60000 [==============================] - 21s 347us/step - loss: 0.5954 - acc: 0.8096 - mean_squared_error: 0.0927\n",
      "Epoch 2/5\n",
      "60000/60000 [==============================] - 26s 427us/step - loss: 0.0673 - acc: 0.9413 - mean_squared_error: 0.0139\n",
      "Epoch 3/5\n",
      "60000/60000 [==============================] - 18s 306us/step - loss: 0.0299 - acc: 0.9513 - mean_squared_error: 0.0116\n",
      "Epoch 4/5\n",
      "60000/60000 [==============================] - 20s 336us/step - loss: 0.0227 - acc: 0.9568 - mean_squared_error: 0.0104\n",
      "Epoch 5/5\n",
      "60000/60000 [==============================] - 19s 316us/step - loss: 0.0204 - acc: 0.9597 - mean_squared_error: 0.0097\n"
     ]
    }
   ],
   "source": [
    "history = model.fit(experiment.x_train, experiment.y_train, epochs=5, verbose = True)"
   ]
  }
 ],
 "metadata": {
  "accelerator": "GPU",
  "colab": {
   "collapsed_sections": [],
   "include_colab_link": true,
   "name": "DropoutErrorVarianceKerasColab.ipynb",
   "provenance": [],
   "version": "0.3.2"
  },
  "kernelspec": {
   "display_name": "Python 3",
   "language": "python",
   "name": "python3"
  },
  "language_info": {
   "codemirror_mode": {
    "name": "ipython",
    "version": 3
   },
   "file_extension": ".py",
   "mimetype": "text/x-python",
   "name": "python",
   "nbconvert_exporter": "python",
   "pygments_lexer": "ipython3",
   "version": "3.6.3"
  }
 },
 "nbformat": 4,
 "nbformat_minor": 1
}
