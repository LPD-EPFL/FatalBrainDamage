{
  "nbformat": 4,
  "nbformat_minor": 0,
  "metadata": {
    "colab": {
      "name": "DropoutErrorVarianceKerasColab.ipynb",
      "version": "0.3.2",
      "provenance": [],
      "collapsed_sections": [],
      "include_colab_link": true
    },
    "kernelspec": {
      "name": "python3",
      "display_name": "Python 3"
    },
    "accelerator": "GPU"
  },
  "cells": [
    {
      "cell_type": "markdown",
      "metadata": {
        "id": "view-in-github",
        "colab_type": "text"
      },
      "source": [
        "[View in Colaboratory](https://colab.research.google.com/github/sergeivolodin/ProbabilisticNeuronFailureCode/blob/master/DropoutErrorVarianceKerasColab.ipynb)"
      ]
    },
    {
      "metadata": {
        "id": "UqbM2LCENx59",
        "colab_type": "code",
        "colab": {
          "base_uri": "https://localhost:8080/",
          "height": 35
        },
        "outputId": "39a52cc5-124d-47ce-d1ea-db6788d0887e"
      },
      "cell_type": "code",
      "source": [
        "# keras, np, plt imports\n",
        "import numpy as np\n",
        "import keras\n",
        "from keras.models import Sequential\n",
        "from keras.layers import Dense, Dropout\n",
        "from keras.layers.core import Lambda\n",
        "from keras.optimizers import SGD\n",
        "from keras.initializers import Constant\n",
        "from keras import backend as K\n",
        "from keras.utils import plot_model\n",
        "from functools import partial\n",
        "from IPython.display import SVG\n",
        "from keras.utils.vis_utils import model_to_dot\n",
        "from tqdm import tqdm\n",
        "%matplotlib inline\n",
        "from matplotlib import pyplot as plt"
      ],
      "execution_count": 1,
      "outputs": [
        {
          "output_type": "stream",
          "text": [
            "Using TensorFlow backend.\n"
          ],
          "name": "stderr"
        }
      ]
    },
    {
      "metadata": {
        "id": "9YlePO9bN2Z8",
        "colab_type": "code",
        "colab": {}
      },
      "cell_type": "code",
      "source": [
        "def PermanentDropout(p_fail):\n",
        "  \"\"\" Make dropout work when using predict(), not only when using train \"\"\"\n",
        "  return Lambda(lambda x: K.dropout(x, level=p_fail))\n",
        "  \n",
        "def create_model(p_fails, layer_weights, layer_biases, KLips):\n",
        "  \"\"\" Create some simple network with given dropout prob, weights and Lipschitz coefficient for sigmoid \"\"\"\n",
        "  \n",
        "  # checking if length matches\n",
        "  assert(len(p_fails) == len(layer_weights))\n",
        "  assert(len(layer_biases) == len(layer_weights))\n",
        "  \n",
        "  # creating model\n",
        "  model = Sequential()\n",
        "  \n",
        "  # adding layers\n",
        "  for i, (p_fail, w, b) in enumerate(zip(p_fails, layer_weights, layer_biases)):\n",
        "    # is last layer (with output)?\n",
        "    is_last = i + 1 == len(p_fails)\n",
        "    \n",
        "    # adding dense layer with sigmoid for hidden and linear for last layer\n",
        "    model.add(Dense(w.shape[1], input_shape = (w.shape[0], ),\n",
        "                    kernel_initializer = Constant(w),\n",
        "                    #activation = 'linear' if is_last else get_custom_activation(KLips),\n",
        "                    activation = get_custom_activation(KLips),\n",
        "                    bias_initializer = Constant(b)))\n",
        "    \n",
        "    # adding dropout to all layers but last\n",
        "    if not is_last and p_fail > 0:\n",
        "      model.add(PermanentDropout(p_fail))\n",
        "  \n",
        "  # compiling model with some loss and some optimizer (they are unused)\n",
        "  model.compile(loss='binary_crossentropy', optimizer = 'sgd')\n",
        "  #model.summary()\n",
        "  return model\n",
        "\n",
        "# calculate first norm\n",
        "norm1 = partial(np.linalg.norm, ord = 1)\n",
        "\n",
        "# calculate second norm\n",
        "norm2 = partial(np.linalg.norm, ord = 2)\n",
        "\n",
        "def dot_abs(x, y):\n",
        "  \"\"\" Dot product between absolute values of vectors x, y \"\"\"\n",
        "  return np.dot(np.abs(x), np.abs(y))\n",
        "\n",
        "def norm1_minus_dot_abs(x, y):\n",
        "  \"\"\" Product of first norms - dot product between absolute values \"\"\"\n",
        "  return norm1(x) * norm2(y) - dot_abs(x, y)\n",
        "\n",
        "def get_custom_activation(KLips):\n",
        "  \"\"\" Get custom sigmoid activation with given Lipschitz constant \"\"\"\n",
        "  def custom_activation(x):\n",
        "    return K.sigmoid(4 * KLips * x)\n",
        "  return custom_activation\n",
        "\n",
        "class Experiment():\n",
        "  \"\"\" One experiment on neuron crash, contains a fixed weights network \"\"\"\n",
        "  def __init__(self, N, P, KLips, do_print = False):\n",
        "    \"\"\" Initialize using given number of neurons per layer N (array), probability of failure P, and the Lipschitz coefficient \"\"\"\n",
        "    \n",
        "    print('Creating network for %d dimensional input and 1-dimensional output, with %d hidden layers' % (N[0], len(N) - 1))\n",
        "    \n",
        "    # checking if the length is correct. Last layer cannot have failures so P is shorter than N\n",
        "    assert(len(N) == len(P) + 1)\n",
        "    \n",
        "    # sqving N, last layer has 1 neuron\n",
        "    self.N = N + [1]\n",
        "    \n",
        "    # saving P, last layer has zero probability of failure\n",
        "    self.P = P + [0]\n",
        "    \n",
        "    # maximal value of output from neuron (1 since using sigmoid)\n",
        "    self.C = 1.\n",
        "    \n",
        "    # saving K\n",
        "    self.K = KLips\n",
        "    \n",
        "  def init_random(self):\n",
        "    \"\"\" Fill in the weights and initialize models \"\"\"\n",
        "    \n",
        "    # array with weight matrices\n",
        "    self.W = []\n",
        "    \n",
        "    # array with biases\n",
        "    self.B = []\n",
        "    \n",
        "    # loop over layers\n",
        "    for i in range(1, len(self.N)):\n",
        "      # creating w and b\n",
        "      w = np.random.randn(self.N[i - 1], self.N[i]) / (self.N[i - 1]) * 5\n",
        "      b = np.random.randn(self.N[i]) / self.N[i] ** 2\n",
        "      \n",
        "      # adding them to the array\n",
        "      self.W.append(w)\n",
        "      self.B.append(b)\n",
        "      \n",
        "    # creating \"crashing\" model\n",
        "    self.model = create_model(self.P, self.W, self.B, self.K)\n",
        "    \n",
        "    # creating correct model\n",
        "    self.model_no_dropout = create_model([0] * len(self.P), self.W, self.B, self.K)\n",
        "    \n",
        "  def predict_no_dropout(self, data):\n",
        "    \"\"\" Get correct network output for a given input vector \"\"\"\n",
        "    return self.model_no_dropout.predict(np.array([data]))[0][0]\n",
        "  \n",
        "  def predict(self, data, repetitions = 100):\n",
        "    \"\"\" Get crashed network outputs for given input vector and number of repetitions \"\"\"\n",
        "    data = np.repeat(np.array([data]), repetitions, axis = 0)\n",
        "    return self.model.predict(data).T[0]\n",
        "  \n",
        "  def plot_error(experiment, errors):\n",
        "    \"\"\" Plot the histogram of error  \"\"\"\n",
        "    \n",
        "    # plotting\n",
        "    plt.title('Network error histogram plot')\n",
        "    plt.xlabel('Network output error')\n",
        "    plt.ylabel('Frequency')\n",
        "    plt.hist(errors, density = True)\n",
        "    #plt.plot([true, true], [0, 1], label = 'True value')\n",
        "    #plt.legend()\n",
        "    plt.show()\n",
        "  \n",
        "  def get_error(experiment, inp, repetitions = 100):\n",
        "    \"\"\" Return error between crashed and correct networks \"\"\"\n",
        "    return experiment.predict(inp, repetitions = repetitions) - experiment.predict_no_dropout(inp)\n",
        "  \n",
        "  def get_wb(self, layer):\n",
        "    \"\"\" Get weight and bias matrix \"\"\"\n",
        "    return np.vstack((self.W[layer], self.B[layer]))\n",
        "  \n",
        "  def get_max_f(self, layer, func):\n",
        "    \"\"\" Maximize func(weights) over neurons in layer \"\"\"\n",
        "    wb = self.get_wb(layer)\n",
        "    res = [func(w_neuron) for w_neuron in wb.T]\n",
        "    return np.max(res)\n",
        "  \n",
        "  def get_max_f_xy(self, layer, func):\n",
        "    \"\"\" Maximize func(w1, w2) over neurons in layer \"\"\"\n",
        "    wb = self.get_wb(layer)\n",
        "    res = [func(w_neuron1, w_neuron2) for w_neuron1 in wb.T for w_neuron2 in wb.T]\n",
        "    return np.max(res)\n",
        "  \n",
        "  def get_mean_std_error(self):\n",
        "    \"\"\" Get theoretical bound for mean and std of error given weights \"\"\"\n",
        "    \n",
        "    # Expectation of error\n",
        "    EDelta = 0.\n",
        "    \n",
        "    # Expectation of error squared\n",
        "    EDelta2 = 0.\n",
        "    \n",
        "    # Array of expectations\n",
        "    EDeltaArr = [0]\n",
        "    \n",
        "    # Array of expectations of squares\n",
        "    EDelta2Arr = [0]\n",
        "    \n",
        "    # Loop over layers\n",
        "    for layer in range(len(self.W)):\n",
        "      # probability of failure of a single neuron\n",
        "      p_l = self.P[layer]\n",
        "      \n",
        "      # maximal 1-norm of weights\n",
        "      w_1_norm = self.get_max_f(layer, norm1)\n",
        "      \n",
        "      # alpha from article for layer\n",
        "      alpha = self.get_max_f_xy(layer, dot_abs)\n",
        "      \n",
        "      # beta from article for layer\n",
        "      beta = self.get_max_f_xy(layer, norm1_minus_dot_abs)\n",
        "      \n",
        "      # a, b from article for EDelta2 (note that old EDelta is used)\n",
        "      a = self.C ** 2 * p_l * (alpha + p_l * beta) + 2 * self.K * self.C * p_l * (1 - p_l) * beta * EDelta\n",
        "      b = self.K ** 2 * (1 - p_l) * (alpha + (1 - p_l) * beta)\n",
        "      \n",
        "      # Updating EDelta2\n",
        "      EDelta2 = a + b * EDelta2\n",
        "      \n",
        "      # Updating EDelta\n",
        "      EDelta = p_l * w_1_norm * self.C + self.K * w_1_norm * (1 - p_l) * EDelta\n",
        "      \n",
        "      # Adding new values to arrays\n",
        "      EDeltaArr.append(EDelta)\n",
        "      EDelta2Arr.append(EDelta2)\n",
        "      \n",
        "    # Debug output\n",
        "    #print(EDeltaArr)\n",
        "    #print(EDelta2Arr)\n",
        "    \n",
        "    # Returning mean and sqrt(std^2)\n",
        "    return EDelta, EDelta2 ** 0.5\n",
        "  \n",
        "def run_experiment(L = 3, N = 10, p = 0.1, repetitions = 10000, inputs = 50, K = 0.1, do_plot = True, do_print = True, do_tqdm = True):\n",
        "  \"\"\" Run a single experiment with a fixed network \"\"\"\n",
        "  \n",
        "  # Creating an experiment\n",
        "  experiment = Experiment([N] * L, [p] * (L - 1), K)\n",
        "  experiment.init_random()\n",
        "  #print(experiment.W)\n",
        "  #print(experiment.B)\n",
        "  \n",
        "  # Creating input data\n",
        "  data = np.random.randn(inputs, N) / K * 10 # TODO: Results in VERY LOW true value variance, How to fix?\n",
        "  #data = np.random.randint(-1, 1, size = (inputs, N))\n",
        "  \n",
        "  # Computing true values\n",
        "  trues = [experiment.predict_no_dropout(value) for value in data]\n",
        "  \n",
        "  #print(data)\n",
        "  #print(trues)\n",
        "  \n",
        "  # Running the experiment\n",
        "  tqdm_ = tqdm if do_tqdm else (lambda x : x)\n",
        "  errors = [experiment.get_error(value, repetitions = repetitions) for value in tqdm_(data)]\n",
        "  \n",
        "  # Computing Maximal Absolute Mean/Std Error over \n",
        "  errors_abs = np.abs(errors)\n",
        "  means = np.mean(errors_abs, axis = 1)\n",
        "  stds = np.std(errors_abs, axis = 1)\n",
        "  mean_exp = np.max(means)\n",
        "  std_exp = np.max(stds)\n",
        "  \n",
        "  # Computing bound values\n",
        "  mean_bound, std_bound = experiment.get_mean_std_error()\n",
        "  \n",
        "  # Plotting the error histogram\n",
        "  if do_plot:\n",
        "    experiment.plot_error(np.array(errors).reshape(-1))\n",
        "  \n",
        "  # Printing results summary\n",
        "  if do_print:\n",
        "    print('Error; maximal over inputs, average over dropout:')\n",
        "    print('True values array mean: %f variance %f' % (np.mean(trues), np.std(trues)))\n",
        "    print('Experiment %f Std %f' % (mean_exp, std_exp))\n",
        "    print('Equation   %f Std %f' % (mean_bound, std_bound))\n",
        "    print('Tightness  %.1f%% Std %.1f%%' % (100 * mean_exp / mean_bound, 100 * std_exp / std_bound))\n",
        "    \n",
        "  # Returning summary\n",
        "  return mean_exp, std_exp, mean_bound, std_bound, np.std(trues)"
      ],
      "execution_count": 0,
      "outputs": []
    },
    {
      "metadata": {
        "id": "H7rkvDrmEPhQ",
        "colab_type": "code",
        "colab": {
          "base_uri": "https://localhost:8080/",
          "height": 513
        },
        "outputId": "cbf7f303-04fc-48d9-a6e8-3cc21df4ac77"
      },
      "cell_type": "code",
      "source": [
        "run_experiment(inputs = 50, N = 5, L = 10, do_print = True)"
      ],
      "execution_count": 20,
      "outputs": [
        {
          "output_type": "stream",
          "text": [
            "Creating network for 5 dimensional input and 1-dimensional output, with 9 hidden layers\n"
          ],
          "name": "stdout"
        },
        {
          "output_type": "stream",
          "text": [
            "100%|██████████| 50/50 [00:36<00:00,  1.39it/s]\n"
          ],
          "name": "stderr"
        },
        {
          "output_type": "display_data",
          "data": {
            "image/png": "[encoded data removed]",
            "text/plain": [
              "<matplotlib.figure.Figure at 0x7f1d2ad74c50>"
            ]
          },
          "metadata": {
            "tags": []
          }
        },
        {
          "output_type": "stream",
          "text": [
            "Error; maximal over inputs, average over dropout:\n",
            "True values array mean: 0.573178 variance 0.000000\n",
            "Experiment 0.025151 Std 0.026171\n",
            "Equation   0.611387 Std 0.489590\n",
            "Tightness  4.1% Std 5.3%\n"
          ],
          "name": "stdout"
        },
        {
          "output_type": "execute_result",
          "data": {
            "text/plain": [
              "(0.02515114,\n",
              " 0.026171263,\n",
              " 0.6113871621006959,\n",
              " 0.48959017413755745,\n",
              " 3.5990544e-07)"
            ]
          },
          "metadata": {
            "tags": []
          },
          "execution_count": 20
        }
      ]
    },
    {
      "metadata": {
        "id": "eyL8CgrgjHlo",
        "colab_type": "code",
        "colab": {
          "base_uri": "https://localhost:8080/",
          "height": 35
        },
        "outputId": "0c1f36db-25ae-4668-d871-584647c9b187"
      },
      "cell_type": "code",
      "source": [
        "Ls = range(2, 11)\n",
        "results = [run_experiment(inputs = 5, L = L, N = 10, K = 0.01, do_tqdm = False, do_plot = False, do_print = False) for L in tqdm(Ls)]"
      ],
      "execution_count": 4,
      "outputs": [
        {
          "output_type": "stream",
          "text": [
            "100%|██████████| 9/9 [00:30<00:00,  4.01s/it]\n"
          ],
          "name": "stderr"
        }
      ]
    },
    {
      "metadata": {
        "id": "9NXSYE1im5RX",
        "colab_type": "code",
        "colab": {
          "base_uri": "https://localhost:8080/",
          "height": 295
        },
        "outputId": "cc70b304-b1be-42b8-f501-0724812a56fa"
      },
      "cell_type": "code",
      "source": [
        "mean_exp, std_exp, mean_bound, std_bound, std_true = [np.array(x) for x in zip(*results)]\n",
        "plt.figure()\n",
        "plt.title('Errors w.r.t. number of layers')\n",
        "plt.xlabel('Number of layers')\n",
        "plt.ylabel('Network absolute error')\n",
        "plt.plot(Ls, mean_exp, label = 'Experimental mean')\n",
        "plt.fill_between(Ls, mean_exp - std_exp, mean_exp + std_exp, alpha = 0.3)\n",
        "plt.plot(Ls, mean_bound, label = 'Theoretical mean')\n",
        "plt.fill_between(Ls, mean_bound - std_bound, mean_bound + std_bound, alpha = 0.3)\n",
        "plt.plot(Ls, std_true, label = 'True output variance')\n",
        "plt.legend()\n",
        "plt.show()"
      ],
      "execution_count": 5,
      "outputs": [
        {
          "output_type": "display_data",
          "data": {
            "image/png": "[encoded data removed]",
            "text/plain": [
              "<matplotlib.figure.Figure at 0x7f32346a0b70>"
            ]
          },
          "metadata": {
            "tags": []
          }
        }
      ]
    },
    {
      "metadata": {
        "id": "4WueSdxsp3HD",
        "colab_type": "code",
        "colab": {}
      },
      "cell_type": "code",
      "source": [
        "# Trying genetic search for x"
      ],
      "execution_count": 0,
      "outputs": []
    },
    {
      "metadata": {
        "id": "dgDCVdBKeCKN",
        "colab_type": "code",
        "colab": {
          "base_uri": "https://localhost:8080/",
          "height": 734
        },
        "outputId": "897afbc9-780b-421a-dbbd-988cf3912927"
      },
      "cell_type": "code",
      "source": [
        "np.random.seed(42)\n",
        "\n",
        "# Setting parameters and creating the experiment\n",
        "N = 5\n",
        "L = 2\n",
        "p = 0.1\n",
        "K_ = 0.1\n",
        "repetitions = 10000\n",
        "to_add = 10\n",
        "to_keep = 5\n",
        "experiment = Experiment([N] * L, [p] * (L - 1), K_)\n",
        "\n",
        "mean_bound, std_bound = experiment.get_mean_std_error()\n",
        "\n",
        "# creating initial inputs\n",
        "data = np.random.randn(to_keep, N)\n",
        "\n",
        "# percents from theoretical bound\n",
        "percents = []\n",
        "\n",
        "maxiter = 25\n",
        "\n",
        "for _ in range(maxiter):\n",
        "  data_ = data\n",
        "\n",
        "  # Randomizing inputs\n",
        "  for input_ in data_:\n",
        "    rand_direction = np.random.randn(to_add, N)\n",
        "    rand_direction /= np.linalg.norm(rand_direction, axis = 0)\n",
        "    rand_direction *= 0.5\n",
        "    input_ = input_ + rand_direction\n",
        "    data = np.vstack((data, input_))\n",
        "\n",
        "  # Computing true values\n",
        "  trues = [experiment.predict_no_dropout(value) for value in data]\n",
        "\n",
        "  # Running the experiment\n",
        "  errors = [experiment.get_error(value, repetitions = repetitions) for value in data]\n",
        "\n",
        "  # List of errors for inputs\n",
        "  error_array = np.mean(np.abs(errors), axis = 1)\n",
        "\n",
        "  max_exp = np.max(error_array)\n",
        "  \n",
        "  # Choosing maximal error\n",
        "  indices = np.argsort(-error_array)\n",
        "\n",
        "  # Choosing best to_keep entries\n",
        "  data = data[indices[:to_keep]]\n",
        "  \n",
        "  percent = 100 * max_exp / mean_bound\n",
        "  print('Mean error %.5f, %.2f%% from theoretical, norm %.2f' % (max_exp, percent, np.linalg.norm(data.flatten()) / data.shape[0]))\n",
        "  percents.append(percent)\n",
        "  \n",
        "plt.xlabel('Iteration count')\n",
        "plt.ylabel('Percent from theoretical bound')\n",
        "plt.plot(percents)\n",
        "plt.show()"
      ],
      "execution_count": 16,
      "outputs": [
        {
          "output_type": "stream",
          "text": [
            "Mean error 0.03659, 10.49% from theoretical, norm 0.81\n",
            "Mean error 0.03823, 10.96% from theoretical, norm 0.92\n",
            "Mean error 0.04017, 11.52% from theoretical, norm 1.04\n",
            "Mean error 0.04160, 11.93% from theoretical, norm 1.21\n",
            "Mean error 0.04362, 12.51% from theoretical, norm 1.37\n",
            "Mean error 0.04431, 12.71% from theoretical, norm 1.50\n",
            "Mean error 0.04567, 13.10% from theoretical, norm 1.61\n",
            "Mean error 0.04603, 13.20% from theoretical, norm 1.73\n",
            "Mean error 0.04609, 13.22% from theoretical, norm 1.73\n",
            "Mean error 0.04668, 13.39% from theoretical, norm 1.85\n",
            "Mean error 0.04687, 13.44% from theoretical, norm 1.90\n",
            "Mean error 0.04661, 13.36% from theoretical, norm 1.97\n",
            "Mean error 0.04680, 13.42% from theoretical, norm 2.01\n",
            "Mean error 0.04768, 13.67% from theoretical, norm 2.06\n",
            "Mean error 0.04756, 13.64% from theoretical, norm 2.14\n",
            "Mean error 0.04786, 13.72% from theoretical, norm 2.28\n",
            "Mean error 0.04749, 13.62% from theoretical, norm 2.35\n",
            "Mean error 0.04788, 13.73% from theoretical, norm 2.44\n",
            "Mean error 0.04812, 13.80% from theoretical, norm 2.46\n",
            "Mean error 0.04810, 13.79% from theoretical, norm 2.48\n",
            "Mean error 0.04804, 13.78% from theoretical, norm 2.52\n",
            "Mean error 0.04902, 14.06% from theoretical, norm 2.48\n",
            "Mean error 0.04856, 13.92% from theoretical, norm 2.53\n",
            "Mean error 0.04821, 13.83% from theoretical, norm 2.69\n",
            "Mean error 0.04869, 13.96% from theoretical, norm 2.67\n"
          ],
          "name": "stdout"
        },
        {
          "output_type": "display_data",
          "data": {
            "image/png": "[encoded data removed]",
            "text/plain": [
              "<matplotlib.figure.Figure at 0x7f1d2d0c8f60>"
            ]
          },
          "metadata": {
            "tags": []
          }
        }
      ]
    },
    {
      "metadata": {
        "id": "PJ2k-brRJBmM",
        "colab_type": "code",
        "colab": {
          "base_uri": "https://localhost:8080/",
          "height": 54
        },
        "outputId": "6fe7bf9d-5476-41b9-e1d7-9247d3c1a56b"
      },
      "cell_type": "code",
      "source": [
        "from keras.datasets import mnist\n",
        "from keras.layers import Flatten\n",
        "\n",
        "(x_train, y_train), (x_test, y_test) = mnist.load_data()"
      ],
      "execution_count": 21,
      "outputs": [
        {
          "output_type": "stream",
          "text": [
            "Downloading data from https://s3.amazonaws.com/img-datasets/mnist.npz\n",
            "11493376/11490434 [==============================] - 0s 0us/step\n"
          ],
          "name": "stdout"
        }
      ]
    },
    {
      "metadata": {
        "id": "1yHNLVqdpw4j",
        "colab_type": "code",
        "colab": {
          "base_uri": "https://localhost:8080/",
          "height": 302
        },
        "outputId": "90ad74ac-eaf5-457c-e82c-e0c227f69231"
      },
      "cell_type": "code",
      "source": [
        "plt.imshow(x_train[15])\n",
        "x_train = np.array([elem.flatten() for elem in x_train])\n",
        "x_test = np.array([elem.flatten() for elem in x_test])\n",
        "y_train = np.array([[1 if i == digit else 0 for i in range(10)] for digit in tqdm(y_train.flatten())])\n",
        "y_test = np.array([[1 if i == digit else 0 for i in range(10)] for digit in tqdm(y_test.flatten())])"
      ],
      "execution_count": 22,
      "outputs": [
        {
          "output_type": "stream",
          "text": [
            "100%|██████████| 60000/60000 [00:01<00:00, 46004.32it/s]\n",
            "100%|██████████| 10000/10000 [00:00<00:00, 52425.46it/s]\n"
          ],
          "name": "stderr"
        },
        {
          "output_type": "display_data",
          "data": {
            "image/png": "[encoded data removed]",
            "text/plain": [
              "<matplotlib.figure.Figure at 0x7f1d2a502cf8>"
            ]
          },
          "metadata": {
            "tags": []
          }
        }
      ]
    },
    {
      "metadata": {
        "id": "d8NcbUZFpzue",
        "colab_type": "code",
        "colab": {}
      },
      "cell_type": "code",
      "source": [
        "def create_trainable_model(Ns, KLips):\n",
        "  \"\"\" Create some simple network with given dropout prob, weights and Lipschitz coefficient for sigmoid \"\"\"\n",
        "  \n",
        "  # creating model\n",
        "  model = Sequential()\n",
        "\n",
        "  # adding layers\n",
        "  for i in range(len(Ns) - 1):\n",
        "    # adding dense layer with sigmoid for hidden and linear for last layer\n",
        "    model.add(Dense(Ns[i + 1], input_shape = (Ns[i], ),\n",
        "                    kernel_initializer = 'random_normal',\n",
        "                    activation = get_custom_activation(KLips),\n",
        "                    bias_initializer = 'zeros'))\n",
        "\n",
        "  model.compile(loss=keras.losses.categorical_crossentropy,\n",
        "              optimizer=keras.optimizers.Adadelta(),\n",
        "              metrics=['accuracy'])\n",
        "\n",
        "  model.summary()\n",
        "  return model"
      ],
      "execution_count": 0,
      "outputs": []
    },
    {
      "metadata": {
        "id": "yH_t8Nt2p2qL",
        "colab_type": "code",
        "colab": {
          "base_uri": "https://localhost:8080/",
          "height": 599
        },
        "outputId": "cd2e5750-d892-401e-b7c4-74113cf5e372"
      },
      "cell_type": "code",
      "source": [
        "model = create_trainable_model([28 ** 2,100,10], 1)\n",
        "history = model.fit(x_train, y_train, batch_size=100, epochs=10, verbose=1, validation_data = (x_test, y_test))"
      ],
      "execution_count": 24,
      "outputs": [
        {
          "output_type": "stream",
          "text": [
            "_________________________________________________________________\n",
            "Layer (type)                 Output Shape              Param #   \n",
            "=================================================================\n",
            "dense_101 (Dense)            (None, 100)               78500     \n",
            "_________________________________________________________________\n",
            "dense_102 (Dense)            (None, 10)                1010      \n",
            "=================================================================\n",
            "Total params: 79,510\n",
            "Trainable params: 79,510\n",
            "Non-trainable params: 0\n",
            "_________________________________________________________________\n",
            "Train on 60000 samples, validate on 10000 samples\n",
            "Epoch 1/10\n",
            "60000/60000 [==============================] - 4s 74us/step - loss: 0.6446 - acc: 0.7990 - val_loss: 0.3997 - val_acc: 0.8820\n",
            "Epoch 2/10\n",
            "60000/60000 [==============================] - 4s 66us/step - loss: 0.3872 - acc: 0.8817 - val_loss: 0.3622 - val_acc: 0.8896\n",
            "Epoch 3/10\n",
            "60000/60000 [==============================] - 4s 70us/step - loss: 0.3444 - acc: 0.8951 - val_loss: 0.3152 - val_acc: 0.9041\n",
            "Epoch 4/10\n",
            "60000/60000 [==============================] - 4s 71us/step - loss: 0.3084 - acc: 0.9076 - val_loss: 0.2828 - val_acc: 0.9166\n",
            "Epoch 5/10\n",
            "60000/60000 [==============================] - 4s 74us/step - loss: 0.2823 - acc: 0.9147 - val_loss: 0.2713 - val_acc: 0.9185\n",
            "Epoch 6/10\n",
            "60000/60000 [==============================] - 5s 76us/step - loss: 0.2714 - acc: 0.9182 - val_loss: 0.2445 - val_acc: 0.9263\n",
            "Epoch 7/10\n",
            "60000/60000 [==============================] - 4s 74us/step - loss: 0.2570 - acc: 0.9224 - val_loss: 0.2566 - val_acc: 0.9225\n",
            "Epoch 8/10\n",
            "60000/60000 [==============================] - 4s 72us/step - loss: 0.2426 - acc: 0.9274 - val_loss: 0.2410 - val_acc: 0.9275\n",
            "Epoch 9/10\n",
            "60000/60000 [==============================] - 4s 65us/step - loss: 0.2406 - acc: 0.9273 - val_loss: 0.2370 - val_acc: 0.9279\n",
            "Epoch 10/10\n",
            "60000/60000 [==============================] - 4s 66us/step - loss: 0.2311 - acc: 0.9298 - val_loss: 0.2226 - val_acc: 0.9335\n"
          ],
          "name": "stdout"
        }
      ]
    },
    {
      "metadata": {
        "id": "fr5GoWtnp37U",
        "colab_type": "code",
        "colab": {
          "base_uri": "https://localhost:8080/",
          "height": 269
        },
        "outputId": "42829b57-ba75-407e-f289-32dfcf8cae75"
      },
      "cell_type": "code",
      "source": [
        "plt.figure()\n",
        "plt.plot(history.history['val_acc'], label = 'Validation accuracy')\n",
        "plt.plot(history.history['acc'], label = 'Accuracy')\n",
        "plt.legend()\n",
        "plt.show()"
      ],
      "execution_count": 25,
      "outputs": [
        {
          "output_type": "display_data",
          "data": {
            "image/png": "[encoded data removed]",
            "text/plain": [
              "<matplotlib.figure.Figure at 0x7f1d2620f080>"
            ]
          },
          "metadata": {
            "tags": []
          }
        }
      ]
    },
    {
      "metadata": {
        "id": "tYCnU_Cvp79C",
        "colab_type": "code",
        "colab": {
          "base_uri": "https://localhost:8080/",
          "height": 302
        },
        "outputId": "2431c180-f4c0-4700-ec17-74c7a6fcf508"
      },
      "cell_type": "code",
      "source": [
        "w1 = model.get_weights()[0]\n",
        "b1 = model.get_weights()[1]\n",
        "w2 = model.get_weights()[2]\n",
        "b2 = model.get_weights()[3]\n",
        "\n",
        "idx = 144\n",
        "print(np.argmax((x_train[idx] @ w1 + b1) @ w2 + b2))\n",
        "plt.imshow(x_train[idx].reshape(28, 28))"
      ],
      "execution_count": 26,
      "outputs": [
        {
          "output_type": "stream",
          "text": [
            "8\n"
          ],
          "name": "stdout"
        },
        {
          "output_type": "execute_result",
          "data": {
            "text/plain": [
              "<matplotlib.image.AxesImage at 0x7f1d25a25320>"
            ]
          },
          "metadata": {
            "tags": []
          },
          "execution_count": 26
        },
        {
          "output_type": "display_data",
          "data": {
            "image/png": "[encoded data removed]",
            "text/plain": [
              "<matplotlib.figure.Figure at 0x7f1d2621a278>"
            ]
          },
          "metadata": {
            "tags": []
          }
        }
      ]
    },
    {
      "metadata": {
        "id": "XWJALvOQp-gb",
        "colab_type": "code",
        "colab": {}
      },
      "cell_type": "code",
      "source": [
        "W = model.get_weights()[0::2]\n",
        "B = model.get_weights()[1::2]"
      ],
      "execution_count": 0,
      "outputs": []
    },
    {
      "metadata": {
        "id": "896iwwZRp_y3",
        "colab_type": "code",
        "colab": {}
      },
      "cell_type": "code",
      "source": [
        ""
      ],
      "execution_count": 0,
      "outputs": []
    }
  ]
}