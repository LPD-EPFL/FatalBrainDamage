{
  "nbformat": 4,
  "nbformat_minor": 0,
  "metadata": {
    "colab": {
      "name": "DropoutErrorVarianceKerasColab.ipynb",
      "version": "0.3.2",
      "provenance": [],
      "collapsed_sections": [],
      "include_colab_link": true
    },
    "kernelspec": {
      "name": "python3",
      "display_name": "Python 3"
    },
    "accelerator": "GPU"
  },
  "cells": [
    {
      "cell_type": "markdown",
      "metadata": {
        "id": "view-in-github",
        "colab_type": "text"
      },
      "source": [
        "[View in Colaboratory](https://colab.research.google.com/github/sergeivolodin/ProbabilisticNeuronFailureCode/blob/master/DropoutErrorVarianceKerasColab.ipynb)"
      ]
    },
    {
      "metadata": {
        "id": "UqbM2LCENx59",
        "colab_type": "code",
        "colab": {
          "base_uri": "https://localhost:8080/",
          "height": 35
        },
        "outputId": "34a5ae87-385c-4f52-9ccd-aa628b126112"
      },
      "cell_type": "code",
      "source": [
        "# keras, np, plt imports\n",
        "import numpy as np\n",
        "import keras\n",
        "from keras.models import Sequential\n",
        "from keras.layers import Dense, Dropout\n",
        "from keras.layers.core import Lambda\n",
        "from keras.optimizers import SGD\n",
        "from keras.initializers import Constant\n",
        "from keras import backend as K\n",
        "from keras.utils import plot_model\n",
        "from functools import partial\n",
        "from IPython.display import SVG\n",
        "from keras.utils.vis_utils import model_to_dot\n",
        "%matplotlib inline\n",
        "from matplotlib import pyplot as plt"
      ],
      "execution_count": 1,
      "outputs": [
        {
          "output_type": "stream",
          "text": [
            "Using TensorFlow backend.\n"
          ],
          "name": "stderr"
        }
      ]
    },
    {
      "metadata": {
        "id": "9YlePO9bN2Z8",
        "colab_type": "code",
        "colab": {}
      },
      "cell_type": "code",
      "source": [
        "def PermanentDropout(p_fail):\n",
        "  \"\"\" Make dropout work when using predict(), not only when using train \"\"\"\n",
        "  return Lambda(lambda x: K.dropout(x, level=p_fail))\n",
        "  \n",
        "def create_model(p_fails, layer_weights, layer_biases, KLips):\n",
        "  \"\"\" Create some simple network with given dropout prob, weights and Lipschitz coefficient for sigmoid \"\"\"\n",
        "  \n",
        "  # checking if length matches\n",
        "  assert(len(p_fails) == len(layer_weights))\n",
        "  assert(len(layer_biases) == len(layer_weights))\n",
        "  \n",
        "  # creating model\n",
        "  model = Sequential()\n",
        "  \n",
        "  # adding layers\n",
        "  for i, (p_fail, w, b) in enumerate(zip(p_fails, layer_weights, layer_biases)):\n",
        "    # is last layer (with output)?\n",
        "    is_last = i + 1 == len(p_fails)\n",
        "    \n",
        "    # adding dense layer with sigmoid for hidden and linear for last layer\n",
        "    model.add(Dense(w.shape[1], input_shape = (w.shape[0], ),\n",
        "                    kernel_initializer = Constant(w),\n",
        "                    #activation = 'linear' if is_last else get_custom_activation(KLips),\n",
        "                    activation = get_custom_activation(KLips),\n",
        "                    bias_initializer = Constant(b)))\n",
        "    \n",
        "    # adding dropout to all layers but last\n",
        "    if not is_last and p_fail > 0:\n",
        "      model.add(PermanentDropout(p_fail))\n",
        "  \n",
        "  # compiling model with some loss and some optimizer (they are unused)\n",
        "  model.compile(loss='binary_crossentropy', optimizer = 'sgd')\n",
        "  #model.summary()\n",
        "  return model\n",
        "\n",
        "# calculate first norm\n",
        "norm1 = partial(np.linalg.norm, ord = 1)\n",
        "\n",
        "# calculate second norm\n",
        "norm2 = partial(np.linalg.norm, ord = 2)\n",
        "\n",
        "def dot_abs(x, y):\n",
        "  \"\"\" Dot product between absolute values of vectors x, y \"\"\"\n",
        "  return np.dot(np.abs(x), np.abs(y))\n",
        "\n",
        "def norm1_minus_dot_abs(x, y):\n",
        "  \"\"\" Product of first norms - dot product between absolute values \"\"\"\n",
        "  return norm1(x) * norm2(y) - dot_abs(x, y)\n",
        "\n",
        "def get_custom_activation(KLips):\n",
        "  \"\"\" Get custom sigmoid activation with given Lipschitz constant \"\"\"\n",
        "  def custom_activation(x):\n",
        "    return K.sigmoid(4 * KLips * x)\n",
        "  return custom_activation\n",
        "\n",
        "class Experiment():\n",
        "  \"\"\" One experiment on neuron crash, contains a fixed weights network \"\"\"\n",
        "  def __init__(self, N, P, KLips):\n",
        "    \"\"\" Initialize using given number of neurons per layer N (array), probability of failure P, and the Lipschitz coefficient \"\"\"\n",
        "    \n",
        "    # checking if the length is correct. Last layer cannot have failures so P is shorter than N\n",
        "    assert(len(N) == len(P) + 1)\n",
        "    \n",
        "    # sqving N, last layer has 1 neuron\n",
        "    self.N = N + [1]\n",
        "    \n",
        "    # saving P, last layer has zero probability of failure\n",
        "    self.P = P + [0]\n",
        "    \n",
        "    # maximal value of output from neuron (1 since using sigmoid)\n",
        "    self.C = 1.\n",
        "    \n",
        "    # saving K\n",
        "    self.K = KLips\n",
        "    \n",
        "    # populating models\n",
        "    self.init_weights()\n",
        "    \n",
        "  def init_weights(self):\n",
        "    \"\"\" Fill in the weights and initialize models \"\"\"\n",
        "    \n",
        "    # array with weight matrices\n",
        "    self.W = []\n",
        "    \n",
        "    # array with biases\n",
        "    self.B = []\n",
        "    \n",
        "    # loop over layers\n",
        "    for i in range(1, len(self.N)):\n",
        "      # creating w and b\n",
        "      w = np.random.randn(self.N[i - 1], self.N[i]) / (self.N[i - 1])\n",
        "      b = np.random.randn(self.N[i]) / self.N[i]\n",
        "      \n",
        "      # adding them to the array\n",
        "      self.W.append(w)\n",
        "      self.B.append(b)\n",
        "      \n",
        "    # creating \"crashing\" model\n",
        "    self.model = create_model(self.P, self.W, self.B, self.K)\n",
        "    \n",
        "    # creating correct model\n",
        "    self.model_no_dropout = create_model([0] * len(self.P), self.W, self.B, self.K)\n",
        "    \n",
        "  def predict_no_dropout(self, data):\n",
        "    \"\"\" Get correct network output for a given input vector \"\"\"\n",
        "    return self.model_no_dropout.predict(np.array([data]))[0][0]\n",
        "  \n",
        "  def predict(self, data, repetitions = 100):\n",
        "    \"\"\" Get crashed network outputs for given input vector and number of repetitions \"\"\"\n",
        "    data = np.repeat(np.array([data]), repetitions, axis = 0)\n",
        "    return self.model.predict(data).T[0]\n",
        "  \n",
        "  def plot_error(experiment, inp, repetitions = 100):\n",
        "    \"\"\" Plot the histogram of error for given input vector and number of repetitions \"\"\"\n",
        "    # Get output from crashed network\n",
        "    results = experiment.predict(inp, repetitions = repetitions)\n",
        "    \n",
        "    # Get correct output\n",
        "    true = experiment.predict_no_dropout(inp)\n",
        "    \n",
        "    # plotting\n",
        "    plt.title('Network error P=' + ', '.join([str(v) for v in experiment.P[:-1]]) +\n",
        "              ' N=' + ', '.join([str(v) for v in experiment.N[:-1]]))\n",
        "    plt.xlabel('Network output')\n",
        "    plt.ylabel('Frequency')\n",
        "    plt.hist(results, density = True)\n",
        "    plt.plot([true, true], [0, 1], label = 'True value')\n",
        "    plt.legend()\n",
        "    plt.show()\n",
        "    \n",
        "    # returning error\n",
        "    return results - true\n",
        "  \n",
        "  def get_error(experiment, inp, repetitions = 100):\n",
        "    \"\"\" Return error between crashed and correct networks \"\"\"\n",
        "    return experiment.predict(inp, repetitions = repetitions) - experiment.predict_no_dropout(inp)\n",
        "  \n",
        "  def get_wb(self, layer):\n",
        "    \"\"\" Get weight and bias matrix \"\"\"\n",
        "    return np.vstack((self.W[layer], self.B[layer]))\n",
        "  \n",
        "  def get_max_f(self, layer, func):\n",
        "    \"\"\" Maximize func(weights) over neurons in layer \"\"\"\n",
        "    wb = self.get_wb(layer)\n",
        "    res = [func(w_neuron) for w_neuron in wb.T]\n",
        "    return np.max(res)\n",
        "  \n",
        "  def get_max_f_xy(self, layer, func):\n",
        "    \"\"\" Maximize func(w1, w2) over neurons in layer \"\"\"\n",
        "    wb = self.get_wb(layer)\n",
        "    res = [func(w_neuron1, w_neuron2) for w_neuron1 in wb.T for w_neuron2 in wb.T]\n",
        "    return np.max(res)\n",
        "  \n",
        "  def get_mean_std_error(self):\n",
        "    \"\"\" Get theoretical bound for mean and std of error given weights \"\"\"\n",
        "    \n",
        "    # Expectation of error\n",
        "    EDelta = 0.\n",
        "    \n",
        "    # Expectation of error squared\n",
        "    EDelta2 = 0.\n",
        "    \n",
        "    # Array of expectations\n",
        "    EDeltaArr = [0]\n",
        "    \n",
        "    # Array of expectations of squares\n",
        "    EDelta2Arr = [0]\n",
        "    \n",
        "    # Loop over layers\n",
        "    for layer in range(len(self.W)):\n",
        "      # probability of failure of a single neuron\n",
        "      p_l = self.P[layer]\n",
        "      \n",
        "      # maximal 1-norm of weights\n",
        "      w_1_norm = self.get_max_f(layer, norm1)\n",
        "      \n",
        "      # alpha from article for layer\n",
        "      alpha = self.get_max_f_xy(layer, dot_abs)\n",
        "      \n",
        "      # beta from article for layer\n",
        "      beta = self.get_max_f_xy(layer, norm1_minus_dot_abs)\n",
        "      \n",
        "      # a, b from article for EDelta2 (note that old EDelta is used)\n",
        "      a = self.C ** 2 * p_l * (alpha + p_l * beta) + 2 * self.K * self.C * p_l * (1 - p_l) * beta * EDelta\n",
        "      b = self.K ** 2 * (1 - p_l) * (alpha + (1 - p_l) * beta)\n",
        "      \n",
        "      # Updating EDelta2\n",
        "      EDelta2 = a + b * EDelta2\n",
        "      \n",
        "      # Updating EDelta\n",
        "      EDelta = p_l * w_1_norm * self.C + self.K * w_1_norm * (1 - p_l) * EDelta\n",
        "      \n",
        "      # Adding new values to arrays\n",
        "      EDeltaArr.append(EDelta)\n",
        "      EDelta2Arr.append(EDelta2)\n",
        "      \n",
        "    # Debug output\n",
        "    #print(EDeltaArr)\n",
        "    #print(EDelta2Arr)\n",
        "    \n",
        "    # Returning mean and sqrt(std^2)\n",
        "    return EDelta, EDelta2 ** 0.5"
      ],
      "execution_count": 0,
      "outputs": []
    },
    {
      "metadata": {
        "id": "lTOIJdWSObMo",
        "colab_type": "code",
        "colab": {}
      },
      "cell_type": "code",
      "source": [
        "# Creating an experiment\n",
        "experiment = Experiment([100, 100, 100, 100, 100, 100], [0.01, 0.01, 0.01, 0.01, 0.01], 0.001)"
      ],
      "execution_count": 0,
      "outputs": []
    },
    {
      "metadata": {
        "id": "a8hFn_eXnYit",
        "colab_type": "code",
        "colab": {
          "base_uri": "https://localhost:8080/",
          "height": 385
        },
        "outputId": "fd3bc00b-5cc8-4b97-bc62-a8fca85297b3"
      },
      "cell_type": "code",
      "source": [
        "# Running the experiment\n",
        "error = experiment.plot_error(np.ones(100), repetitions = 100000)\n",
        "mean_exp, std_exp = np.mean(np.abs(error)), np.std(error)\n",
        "mean_bound, std_bound = experiment.get_mean_std_error()\n",
        "print('Experiment AbsMean %f Std %f' % (mean_exp, std_exp))\n",
        "print('Equation   AbsMean %f Std %f' % (mean_bound, std_bound))\n",
        "print('Exp/Equat. AbsMean %f Std %f' % (mean_exp / mean_bound, std_exp / std_bound))"
      ],
      "execution_count": 8,
      "outputs": [
        {
          "output_type": "display_data",
          "data": {
            "image/png": "[encoded data removed]",
            "text/plain": [
              "<matplotlib.figure.Figure at 0x7f015cf60780>"
            ]
          },
          "metadata": {
            "tags": []
          }
        },
        {
          "output_type": "stream",
          "text": [
            "[0, 0.010090600771809611, 0.009382846714305792, 0.00982910249486965, 0.009899039351304813, 0.00975404927947805, 2.2171771543021148e-05]\n",
            "[0, 0.0001558726559609668, 0.00014989769907184088, 0.00014479784914144211, 0.00014093887082009598, 0.0001552607822724327, 5.600792764405212e-10]\n",
            "Experiment AbsMean 0.000003 Std 0.000004\n",
            "Equation   AbsMean 0.000022 Std 0.000024\n",
            "Exp/Equat. AbsMean 0.128974 Std 0.186720\n"
          ],
          "name": "stdout"
        }
      ]
    },
    {
      "metadata": {
        "id": "H1a2J4v7UzUK",
        "colab_type": "code",
        "colab": {}
      },
      "cell_type": "code",
      "source": [
        "\n"
      ],
      "execution_count": 0,
      "outputs": []
    }
  ]
}