{
  "nbformat": 4,
  "nbformat_minor": 0,
  "metadata": {
    "colab": {
      "name": "DropoutErrorVarianceKerasColab.ipynb",
      "version": "0.3.2",
      "provenance": [],
      "collapsed_sections": [],
      "include_colab_link": true
    },
    "kernelspec": {
      "name": "python3",
      "display_name": "Python 3"
    },
    "accelerator": "GPU"
  },
  "cells": [
    {
      "cell_type": "markdown",
      "metadata": {
        "id": "view-in-github",
        "colab_type": "text"
      },
      "source": [
        "[View in Colaboratory](https://colab.research.google.com/github/sergeivolodin/ProbabilisticNeuronFailureCode/blob/master/DropoutErrorVarianceKerasColab.ipynb)"
      ]
    },
    {
      "metadata": {
        "id": "UqbM2LCENx59",
        "colab_type": "code",
        "colab": {}
      },
      "cell_type": "code",
      "source": [
        "import numpy as np\n",
        "import keras\n",
        "from keras.models import Sequential\n",
        "from keras.layers import Dense\n",
        "from keras.layers import Dropout\n",
        "from keras.layers.core import Lambda\n",
        "from keras.optimizers import SGD\n",
        "from keras.initializers import Constant\n",
        "from keras import backend as K\n",
        "from keras.utils import plot_model\n",
        "from functools import partial\n",
        "from IPython.display import SVG\n",
        "from keras.utils.vis_utils import model_to_dot\n",
        "%matplotlib inline\n",
        "from matplotlib import pyplot as plt"
      ],
      "execution_count": 0,
      "outputs": []
    },
    {
      "metadata": {
        "id": "9YlePO9bN2Z8",
        "colab_type": "code",
        "colab": {}
      },
      "cell_type": "code",
      "source": [
        "def PermanentDropout(p_fail):\n",
        "  \"\"\" Make dropout work using predict() \"\"\"\n",
        "  return Lambda(lambda x: K.dropout(x, level=p_fail))\n",
        "  \n",
        "def create_model(p_fails, layer_weights, layer_biases, KLips):\n",
        "  \"\"\" Create some simple network \"\"\"\n",
        "  assert(len(p_fails) == len(layer_weights))\n",
        "  assert(len(layer_biases) == len(layer_weights))\n",
        "  \n",
        "  model = Sequential()\n",
        "  for i, (p_fail, w, b) in enumerate(zip(p_fails, layer_weights, layer_biases)):\n",
        "    is_last = i + 1 == len(p_fails)\n",
        "    model.add(Dense(w.shape[1], input_shape = (w.shape[0], ),\n",
        "                    kernel_initializer = Constant(w),\n",
        "                    activation = 'linear' if is_last else get_custom_activation(KLips),\n",
        "                    bias_initializer = Constant(b)))\n",
        "    if not is_last and p_fail > 0:\n",
        "      model.add(PermanentDropout(p_fail))\n",
        "  \n",
        "  model.compile(loss='binary_crossentropy', optimizer = 'sgd')\n",
        "  #model.summary()\n",
        "  return model\n",
        "\n",
        "norm1 = partial(np.linalg.norm, ord = 1)\n",
        "norm2 = partial(np.linalg.norm, ord = 2)\n",
        "def dot_abs(x, y):\n",
        "  return np.dot(np.abs(x), np.abs(y))\n",
        "def norm1_minus_dot_abs(x, y):\n",
        "  return norm1(x) * norm2(y) - dot_abs(x, y)\n",
        "\n",
        "def get_custom_activation(KLips):\n",
        "  def custom_activation(x):\n",
        "    return K.sigmoid(4 * KLips * x)\n",
        "  return custom_activation\n",
        "\n",
        "class Experiment():\n",
        "  def __init__(self, N, P, KLips):\n",
        "    assert(len(N) == len(P) + 1)\n",
        "    self.N = N + [1]\n",
        "    self.P = P + [0]\n",
        "    self.model = None\n",
        "    self.C = 1.\n",
        "    self.K = KLips\n",
        "    self.init_weights()\n",
        "  def init_weights(self):\n",
        "    self.W = []\n",
        "    self.B = []\n",
        "    for i in range(1, len(self.N)):\n",
        "      w = np.random.randn(self.N[i - 1], self.N[i]) / (self.N[i - 1])\n",
        "      b = np.random.randn(self.N[i]) / self.N[i]\n",
        "      self.W.append(w)\n",
        "      self.B.append(b)\n",
        "    self.model = create_model(self.P, self.W, self.B, self.K)\n",
        "    self.model_no_dropout = create_model([0] * len(self.P), self.W, self.B, self.K)\n",
        "  def predict_no_dropout(self, data):\n",
        "    return self.model_no_dropout.predict(np.array([data]))[0][0]\n",
        "  def predict(self, data, repetitions = 100):\n",
        "    data = np.repeat(np.array([data]), repetitions, axis = 0)\n",
        "    return self.model.predict(data).T[0]\n",
        "  def plot_error(experiment, inp, repetitions = 100):\n",
        "    results = experiment.predict(inp, repetitions = repetitions)\n",
        "    true = experiment.predict_no_dropout(inp)\n",
        "    plt.title('Network error P=' + ', '.join([str(v) for v in experiment.P[:-1]]) +\n",
        "              ' N=' + ', '.join([str(v) for v in experiment.N[:-1]]))\n",
        "    plt.xlabel('Network output')\n",
        "    plt.ylabel('Frequency')\n",
        "    plt.hist(results, density = True)\n",
        "    plt.plot([true, true], [0, 1], label = 'True value')\n",
        "    plt.legend()\n",
        "    plt.show()\n",
        "    return results - true\n",
        "  def get_error(experiment, inp, repetitions = 100):\n",
        "    return experiment.predict(inp, repetitions = repetitions) - experiment.predict_no_dropout(inp)\n",
        "  def get_wb(self, layer):\n",
        "    return np.vstack((self.W[layer], self.B[layer]))\n",
        "  def get_max_f(self, layer, func):\n",
        "    wb = self.get_wb(layer)\n",
        "    res = [func(w_neuron) for w_neuron in wb.T]\n",
        "    return np.max(res)\n",
        "  def get_max_f_xy(self, layer, func):\n",
        "    wb = self.get_wb(layer)\n",
        "    res = [func(w_neuron1, w_neuron2) for w_neuron1 in wb.T for w_neuron2 in wb.T]\n",
        "    return np.max(res)\n",
        "  def get_mean_std_error(self):\n",
        "    EDelta = 0.\n",
        "    EDelta2 = 0.\n",
        "    EDeltaArr = [0]\n",
        "    EDelta2Arr = [0]\n",
        "    for layer in range(len(self.W)):\n",
        "      p_l = self.P[layer]\n",
        "      w_1_norm = self.get_max_f(layer, norm1)\n",
        "      alpha = self.get_max_f_xy(layer, dot_abs)\n",
        "      beta = self.get_max_f_xy(layer, norm1_minus_dot_abs)\n",
        "      a = self.C ** 2 * p_l * (alpha + p_l * beta) + 2 * self.K * self.C * p_l * (1 - p_l) * beta * EDelta\n",
        "      b = self.K ** 2 * (1 - p_l) * (alpha + (1 - p_l) * beta)\n",
        "      EDelta2 = a + b * EDelta2\n",
        "      EDelta = p_l * w_1_norm * self.C + self.K * w_1_norm * (1 - p_l) * EDelta\n",
        "      EDeltaArr.append(EDelta)\n",
        "      EDelta2Arr.append(EDelta2)\n",
        "    print(EDeltaArr, EDelta2Arr)\n",
        "    return EDelta, EDelta2 ** 0.5"
      ],
      "execution_count": 0,
      "outputs": []
    },
    {
      "metadata": {
        "id": "lTOIJdWSObMo",
        "colab_type": "code",
        "colab": {
          "base_uri": "https://localhost:8080/",
          "height": 369
        },
        "outputId": "dc5ec4d0-6f96-4288-a4ae-8939f7c146ef"
      },
      "cell_type": "code",
      "source": [
        "experiment = Experiment([100, 100, 100, 100, 100, 100], [0.01, 0.01, 0.01, 0.01, 0.01], 0.001)\n",
        "error = experiment.plot_error(np.ones(100), repetitions = 10000)\n",
        "print('AbsMean %f Std %f' % (np.mean(np.abs(error)), np.std(error)))\n",
        "print('Equation AbsMean %f Std %f' % experiment.get_mean_std_error())"
      ],
      "execution_count": 106,
      "outputs": [
        {
          "output_type": "display_data",
          "data": {
            "image/png": "[encoded data removed]",
            "text/plain": [
              "<matplotlib.figure.Figure at 0x7f6d8f67ff98>"
            ]
          },
          "metadata": {
            "tags": []
          }
        },
        {
          "output_type": "stream",
          "text": [
            "AbsMean 0.003017 Std 0.004711\n",
            "[0, 0.009305290435565989, 0.00976995247649731, 0.00988653252681622, 0.010417382377298863, 0.009563955882414056, 1.4469034068154024e-05] [0, 0.00014626876525120278, 0.00014836631893919922, 0.00015155232348125462, 0.00017107816102004318, 0.00015348656072871358, 1.7946113377105907e-10]\n",
            "Equation AbsMean 0.000014 Std 0.000013\n"
          ],
          "name": "stdout"
        }
      ]
    },
    {
      "metadata": {
        "id": "a8hFn_eXnYit",
        "colab_type": "code",
        "colab": {}
      },
      "cell_type": "code",
      "source": [
        ""
      ],
      "execution_count": 0,
      "outputs": []
    }
  ]
}