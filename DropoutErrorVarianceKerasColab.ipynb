{
  "nbformat": 4,
  "nbformat_minor": 0,
  "metadata": {
    "colab": {
      "name": "DropoutErrorVarianceKerasColab.ipynb",
      "version": "0.3.2",
      "provenance": [],
      "collapsed_sections": [],
      "include_colab_link": true
    },
    "kernelspec": {
      "name": "python3",
      "display_name": "Python 3"
    },
    "accelerator": "GPU"
  },
  "cells": [
    {
      "cell_type": "markdown",
      "metadata": {
        "id": "view-in-github",
        "colab_type": "text"
      },
      "source": [
        "[View in Colaboratory](https://colab.research.google.com/github/sergeivolodin/ProbabilisticNeuronFailureCode/blob/master/DropoutErrorVarianceKerasColab.ipynb)"
      ]
    },
    {
      "metadata": {
        "id": "UqbM2LCENx59",
        "colab_type": "code",
        "colab": {
          "base_uri": "https://localhost:8080/",
          "height": 35
        },
        "outputId": "2573c17d-261f-484f-80ce-f1a274fc3196"
      },
      "cell_type": "code",
      "source": [
        "# keras, np, plt imports\n",
        "import numpy as np\n",
        "import keras\n",
        "from keras import backend as K\n",
        "from keras.models import Sequential\n",
        "from keras.layers import Dense, Dropout, Flatten\n",
        "from keras.layers.core import Lambda\n",
        "from keras.optimizers import SGD\n",
        "from keras.initializers import Constant\n",
        "from keras.utils import plot_model\n",
        "from keras.utils.vis_utils import model_to_dot\n",
        "from keras.datasets import mnist\n",
        "from functools import partial\n",
        "from IPython.display import SVG\n",
        "from tqdm import tqdm\n",
        "%matplotlib inline\n",
        "from matplotlib import pyplot as plt"
      ],
      "execution_count": 1,
      "outputs": [
        {
          "output_type": "stream",
          "text": [
            "Using TensorFlow backend.\n"
          ],
          "name": "stderr"
        }
      ]
    },
    {
      "metadata": {
        "id": "9YlePO9bN2Z8",
        "colab_type": "code",
        "colab": {}
      },
      "cell_type": "code",
      "source": [
        "def PermanentDropout(p_fail):\n",
        "  \"\"\" Make dropout work when using predict(), not only on train \"\"\"\n",
        "  return Lambda(lambda x: K.dropout(x, level=p_fail))\n",
        "\n",
        "# calculate first norm\n",
        "norm1 = partial(np.linalg.norm, ord = 1)\n",
        "\n",
        "# calculate second norm\n",
        "norm2 = partial(np.linalg.norm, ord = 2)\n",
        "\n",
        "def dot_abs(x, y):\n",
        "  \"\"\" Dot product between absolute values of vectors x, y \"\"\"\n",
        "  return np.dot(np.abs(x), np.abs(y))\n",
        "\n",
        "def norm1_minus_dot_abs(x, y):\n",
        "  \"\"\" Product of first norms - dot product between absolute values \"\"\"\n",
        "  return norm1(x) * norm2(y) - dot_abs(x, y)\n",
        "\n",
        "def get_custom_activation(KLips):\n",
        "  \"\"\" Get custom sigmoid activation with given Lipschitz constant \"\"\"\n",
        "  def custom_activation(x):\n",
        "    return K.sigmoid(4 * KLips * x)\n",
        "  return custom_activation\n",
        "\n",
        "def create_random_weight_model(Ns, KLips):\n",
        "  \"\"\" Create some simple network with given dropout prob, weights and Lipschitz coefficient for sigmoid \"\"\"\n",
        "  \n",
        "  # creating model\n",
        "  model = Sequential()\n",
        "\n",
        "  # adding layers\n",
        "  for i in range(len(Ns) - 1):\n",
        "    # adding dense layer with sigmoid for hidden and linear for last layer\n",
        "    model.add(Dense(Ns[i + 1], input_shape = (Ns[i], ),\n",
        "                    kernel_initializer = 'random_normal',\n",
        "                    activation = get_custom_activation(KLips),\n",
        "                    bias_initializer = 'zeros'))\n",
        "\n",
        "  model.compile(loss=keras.losses.categorical_crossentropy,\n",
        "              optimizer=keras.optimizers.Adadelta(),\n",
        "              metrics=['accuracy'])\n",
        "\n",
        "  model.summary()\n",
        "  return model\n",
        "\n",
        "def create_model(p_fails, layer_weights, layer_biases, KLips):\n",
        "  \"\"\" Create some simple network with given dropout prob, weights and Lipschitz coefficient for sigmoid \"\"\"\n",
        "  \n",
        "  # checking if length matches\n",
        "  assert(len(p_fails) == len(layer_weights))\n",
        "  assert(len(layer_biases) == len(layer_weights))\n",
        "  \n",
        "  # creating model\n",
        "  model = Sequential()\n",
        "  \n",
        "  # adding layers\n",
        "  for i, (p_fail, w, b) in enumerate(zip(p_fails, layer_weights, layer_biases)):\n",
        "    # is last layer (with output)?\n",
        "    is_last = i + 1 == len(p_fails)\n",
        "    \n",
        "    # adding dense layer with sigmoid for hidden and linear for last layer\n",
        "    model.add(Dense(w.shape[1], input_shape = (w.shape[0], ),\n",
        "                    kernel_initializer = Constant(w),\n",
        "                    activation = get_custom_activation(KLips),\n",
        "                    bias_initializer = Constant(b)))\n",
        "    \n",
        "    # adding dropout to all layers but last\n",
        "    if not is_last and p_fail > 0:\n",
        "      model.add(PermanentDropout(p_fail))\n",
        "  \n",
        "  # compiling model with some loss and some optimizer (they are unused)\n",
        "  model.compile(loss=keras.losses.categorical_crossentropy,\n",
        "              optimizer=keras.optimizers.Adadelta(),\n",
        "              metrics=['accuracy'])\n",
        "  #model.summary()\n",
        "  return model\n",
        "\n",
        "class Experiment():\n",
        "  \"\"\" One experiment on neuron crash, contains a fixed weights network \"\"\"\n",
        "  def __init__(self, N, P, KLips, do_print = False):\n",
        "    \"\"\" Initialize using given number of neurons per layer N (array), probability of failure P, and the Lipschitz coefficient \"\"\"\n",
        "    \n",
        "    if do_print:\n",
        "      print('Creating network for %d-dimensional input and %d-dimensional output, with %d hidden layers' % (N[0], N[-1], len(N) - 2))\n",
        "    \n",
        "    # saving N\n",
        "    self.N = N\n",
        "    \n",
        "    # making list if P is a number\n",
        "    if type(P) == float:\n",
        "      P = [P] * (len(N) - 2)\n",
        "      \n",
        "    # checking if the length is correct. Last and first layers cannot have failures so P is shorter than N\n",
        "    assert(len(N) == len(P) + 2)\n",
        "      \n",
        "    # saving P, last layer has zero probability of failure\n",
        "    self.P = P + [0.0]\n",
        "    \n",
        "    # maximal value of output from neuron (1 since using sigmoid)\n",
        "    self.C = 1.\n",
        "    \n",
        "    # saving K\n",
        "    self.K = KLips\n",
        "    \n",
        "  def predict_no_dropout(self, data):\n",
        "    \"\"\" Get correct network output for a given input vector \"\"\"\n",
        "    return self.model_no_dropout.predict(np.array([data]))[0]\n",
        "  \n",
        "  def predict(self, data, repetitions = 100):\n",
        "    \"\"\" Get crashed network outputs for given input vector and number of repetitions \"\"\"\n",
        "    data = np.repeat(np.array([data]), repetitions, axis = 0)\n",
        "    return self.model.predict(data)\n",
        "  \n",
        "  def plot_error(experiment, errors):\n",
        "    \"\"\" Plot the histogram of error  \"\"\"\n",
        "    \n",
        "    # plotting\n",
        "    plt.title('Network error histogram plot')\n",
        "    plt.xlabel('Network output error')\n",
        "    plt.ylabel('Frequency')\n",
        "    plt.hist(errors, density = True)\n",
        "    #plt.plot([true, true], [0, 1], label = 'True value')\n",
        "    #plt.legend()\n",
        "    plt.show()\n",
        "  \n",
        "  def get_error(experiment, inp, repetitions = 100):\n",
        "    \"\"\" Return error between crashed and correct networks \"\"\"\n",
        "    return experiment.predict(inp, repetitions = repetitions) - experiment.predict_no_dropout(inp)\n",
        "  \n",
        "  def get_wb(self, layer):\n",
        "    \"\"\" Get weight and bias matrix \"\"\"\n",
        "    return np.vstack((self.W[layer], self.B[layer]))\n",
        "  \n",
        "  def get_max_f(self, layer, func):\n",
        "    \"\"\" Maximize func(weights) over neurons in layer \"\"\"\n",
        "    wb = self.get_wb(layer)\n",
        "    res = [func(w_neuron) for w_neuron in wb.T]\n",
        "    return np.max(res)\n",
        "  \n",
        "  def get_max_f_xy(self, layer, func):\n",
        "    \"\"\" Maximize func(w1, w2) over neurons in layer \"\"\"\n",
        "    wb = self.get_wb(layer)\n",
        "    res = [func(w_neuron1, w_neuron2) for w_neuron1 in wb.T for w_neuron2 in wb.T]\n",
        "    return np.max(res)\n",
        "  \n",
        "  def get_mean_std_error(self):\n",
        "    \"\"\" Get theoretical bound for mean and std of error given weights \"\"\"\n",
        "    \n",
        "    # Expectation of error\n",
        "    EDelta = 0.\n",
        "    \n",
        "    # Expectation of error squared\n",
        "    EDelta2 = 0.\n",
        "    \n",
        "    # Array of expectations\n",
        "    EDeltaArr = [0]\n",
        "    \n",
        "    # Array of expectations of squares\n",
        "    EDelta2Arr = [0]\n",
        "    \n",
        "    # Loop over layers\n",
        "    for layer in range(len(self.W)):\n",
        "      # probability of failure of a single neuron\n",
        "      p_l = self.P[layer]\n",
        "      \n",
        "      # maximal 1-norm of weights\n",
        "      w_1_norm = self.get_max_f(layer, norm1)\n",
        "      \n",
        "      # alpha from article for layer\n",
        "      alpha = self.get_max_f_xy(layer, dot_abs)\n",
        "      \n",
        "      # beta from article for layer\n",
        "      beta = self.get_max_f_xy(layer, norm1_minus_dot_abs)\n",
        "      \n",
        "      # a, b from article for EDelta2 (note that old EDelta is used)\n",
        "      a = self.C ** 2 * p_l * (alpha + p_l * beta) + 2 * self.K * self.C * p_l * (1 - p_l) * beta * EDelta\n",
        "      b = self.K ** 2 * (1 - p_l) * (alpha + (1 - p_l) * beta)\n",
        "      \n",
        "      # Updating EDelta2\n",
        "      EDelta2 = a + b * EDelta2\n",
        "      \n",
        "      # Updating EDelta\n",
        "      EDelta = p_l * w_1_norm * self.C + self.K * w_1_norm * (1 - p_l) * EDelta\n",
        "      \n",
        "      # Adding new values to arrays\n",
        "      EDeltaArr.append(EDelta)\n",
        "      EDelta2Arr.append(EDelta2)\n",
        "      \n",
        "    # Debug output\n",
        "    #print(EDeltaArr)\n",
        "    #print(EDelta2Arr)\n",
        "    \n",
        "    # Returning mean and sqrt(std^2)\n",
        "    return EDelta, EDelta2 ** 0.5\n",
        "  \n",
        "  def run(self, repetitions = 10000, inputs = 50, do_plot = True, do_print = True, do_tqdm = True):\n",
        "    \"\"\" Run a single experiment with a fixed network \"\"\"\n",
        "\n",
        "    # Creating input data\n",
        "    data = self.get_inputs(inputs)\n",
        "\n",
        "    # Computing true values\n",
        "    trues = [self.predict_no_dropout(value) for value in data]\n",
        "\n",
        "    # Running the experiment\n",
        "    tqdm_ = tqdm if do_tqdm else (lambda x : x)\n",
        "    errors = [self.get_error(value, repetitions = repetitions) for value in tqdm_(data)]\n",
        "    \n",
        "    # Computing Maximal Absolute Mean/Std Error over \n",
        "    errors_abs = np.max(np.abs(errors), axis = 2)\n",
        "    means = np.mean(errors_abs, axis = 1)\n",
        "    stds = np.std(errors_abs, axis = 1)\n",
        "    mean_exp = np.max(means)\n",
        "    std_exp = np.max(stds)\n",
        "\n",
        "    # Computing bound values\n",
        "    mean_bound, std_bound = self.get_mean_std_error()\n",
        "\n",
        "    # Plotting the error histogram\n",
        "    if do_plot:\n",
        "      self.plot_error(np.array(errors).reshape(-1))\n",
        "\n",
        "    # Printing results summary\n",
        "    if do_print:\n",
        "      print('Error; maximal over inputs, average over dropout:')\n",
        "      print('True values array mean: %f variance %f' % (np.mean(trues), np.std(trues)))\n",
        "      print('Experiment %f Std %f' % (mean_exp, std_exp))\n",
        "      print('Equation   %f Std %f' % (mean_bound, std_bound))\n",
        "      print('Tightness  %.1f%% Std %.1f%%' % (100 * mean_exp / mean_bound, 100 * std_exp / std_bound))\n",
        "\n",
        "    # Returning summary\n",
        "    return mean_exp, std_exp, mean_bound, std_bound, np.std(trues)\n",
        "\n",
        "class RandomExperiment(Experiment):\n",
        "  def __init__(self, N, P, KLips, do_print = False):\n",
        "    \"\"\" Fill in the weights and initialize models \"\"\"\n",
        "    Experiment.__init__(self, N, P, KLips, do_print)\n",
        "    \n",
        "    # array with weight matrices\n",
        "    self.W = []\n",
        "    \n",
        "    # array with biases\n",
        "    self.B = []\n",
        "    \n",
        "    # loop over layers\n",
        "    for i in range(1, len(self.N)):\n",
        "      # creating w and b\n",
        "      w = np.random.randn(self.N[i - 1], self.N[i]) / (self.N[i - 1]) * 5\n",
        "      b = np.random.randn(self.N[i]) / self.N[i] ** 2\n",
        "      \n",
        "      # adding them to the array\n",
        "      self.W.append(w)\n",
        "      self.B.append(b)\n",
        "      \n",
        "    # creating \"crashing\" model\n",
        "    self.model = create_model(self.P, self.W, self.B, self.K)\n",
        "    \n",
        "    # creating correct model\n",
        "    self.model_no_dropout = create_model([0] * len(self.P), self.W, self.B, self.K)\n",
        "    \n",
        "  def get_inputs(self, how_many):\n",
        "    return np.random.randn(how_many, self.N[0])"
      ],
      "execution_count": 0,
      "outputs": []
    },
    {
      "metadata": {
        "id": "H7rkvDrmEPhQ",
        "colab_type": "code",
        "colab": {
          "base_uri": "https://localhost:8080/",
          "height": 440
        },
        "outputId": "4a87d24d-9bba-4851-8d36-fb89ab509e10"
      },
      "cell_type": "code",
      "source": [
        "RandomExperiment(N = [10, 10, 5], P = 0.1, KLips = 0.1, do_print = True).run(inputs = 6, repetitions = 10000, do_print = True, do_plot = True, do_tqdm = True)"
      ],
      "execution_count": 3,
      "outputs": [
        {
          "output_type": "stream",
          "text": [
            "Creating network for 10-dimensional input and 5-dimensional output, with 1 hidden layers\n"
          ],
          "name": "stdout"
        },
        {
          "output_type": "stream",
          "text": [
            "100%|██████████| 6/6 [00:02<00:00,  2.94it/s]\n"
          ],
          "name": "stderr"
        },
        {
          "output_type": "display_data",
          "data": {
            "image/png": "[encoded data removed]",
            "text/plain": [
              "<matplotlib.figure.Figure at 0x7fe3bd6cb668>"
            ]
          },
          "metadata": {
            "tags": []
          }
        },
        {
          "output_type": "stream",
          "text": [
            "Error; maximal over inputs, average over dropout:\n",
            "True values array mean: 0.500692 variance 0.042885\n",
            "Experiment 0.033990 Std 0.027948\n",
            "Equation   0.196389 Std 0.180351\n",
            "Tightness  17.3% Std 15.5%\n"
          ],
          "name": "stdout"
        },
        {
          "output_type": "execute_result",
          "data": {
            "text/plain": [
              "(0.03399035, 0.027948234, 0.1963887852644049, 0.18035096167473552, 0.042885114)"
            ]
          },
          "metadata": {
            "tags": []
          },
          "execution_count": 3
        }
      ]
    },
    {
      "metadata": {
        "id": "eyL8CgrgjHlo",
        "colab_type": "code",
        "colab": {
          "base_uri": "https://localhost:8080/",
          "height": 35
        },
        "outputId": "a5c2f0b3-37f2-49f6-d72d-26e7c79060e1"
      },
      "cell_type": "code",
      "source": [
        "Ls = range(2, 11)\n",
        "results = [RandomExperiment(P = 0.01, N = [10] * L + [1], KLips = 0.01).run(inputs = 5, do_tqdm = False, do_plot = False, do_print = False) for L in tqdm(Ls)]"
      ],
      "execution_count": 4,
      "outputs": [
        {
          "output_type": "stream",
          "text": [
            "100%|██████████| 9/9 [00:27<00:00,  3.59s/it]\n"
          ],
          "name": "stderr"
        }
      ]
    },
    {
      "metadata": {
        "id": "9NXSYE1im5RX",
        "colab_type": "code",
        "colab": {
          "base_uri": "https://localhost:8080/",
          "height": 295
        },
        "outputId": "adf40493-acfa-44ca-f502-0c96e4ab690a"
      },
      "cell_type": "code",
      "source": [
        "mean_exp, std_exp, mean_bound, std_bound, std_true = [np.array(x) for x in zip(*results)]\n",
        "plt.figure()\n",
        "plt.title('Errors w.r.t. number of layers')\n",
        "plt.xlabel('Number of layers')\n",
        "plt.ylabel('Network absolute error')\n",
        "plt.plot(Ls, mean_exp, label = 'Experimental mean')\n",
        "plt.fill_between(Ls, mean_exp - std_exp, mean_exp + std_exp, alpha = 0.3)\n",
        "plt.plot(Ls, mean_bound, label = 'Theoretical mean')\n",
        "plt.fill_between(Ls, mean_bound - std_bound, mean_bound + std_bound, alpha = 0.3)\n",
        "plt.plot(Ls, std_true, label = 'True output variance')\n",
        "plt.legend()\n",
        "plt.show()"
      ],
      "execution_count": 5,
      "outputs": [
        {
          "output_type": "display_data",
          "data": {
            "image/png": "[encoded data removed]",
            "text/plain": [
              "<matplotlib.figure.Figure at 0x7fe3a9b8cf60>"
            ]
          },
          "metadata": {
            "tags": []
          }
        }
      ]
    },
    {
      "metadata": {
        "id": "dgDCVdBKeCKN",
        "colab_type": "code",
        "colab": {
          "base_uri": "https://localhost:8080/",
          "height": 463
        },
        "outputId": "1866c3b8-d6cd-4be0-a3b9-b88f3917e399"
      },
      "cell_type": "code",
      "source": [
        "np.random.seed(42)\n",
        "\n",
        "# Setting parameters and creating the experiment\n",
        "N = 5\n",
        "L = 2\n",
        "p = 0.1\n",
        "K_ = 0.1\n",
        "repetitions = 10000\n",
        "to_add = 10\n",
        "to_keep = 5\n",
        "experiment = RandomExperiment([N] * L + [1], [p] * (L - 1), K_)\n",
        "\n",
        "mean_bound, std_bound = experiment.get_mean_std_error()\n",
        "\n",
        "# creating initial inputs\n",
        "data = np.random.randn(to_keep, N)\n",
        "\n",
        "# percents from theoretical bound\n",
        "percents = []\n",
        "\n",
        "maxiter = 10\n",
        "\n",
        "for _ in range(maxiter):\n",
        "  data_ = data\n",
        "\n",
        "  # Randomizing inputs\n",
        "  for input_ in data_:\n",
        "    rand_direction = np.random.randn(to_add, N)\n",
        "    rand_direction /= np.linalg.norm(rand_direction, axis = 0)\n",
        "    rand_direction *= 0.5\n",
        "    input_ = input_ + rand_direction\n",
        "    data = np.vstack((data, input_))\n",
        "\n",
        "  # Computing true values\n",
        "  trues = [experiment.predict_no_dropout(value) for value in data]\n",
        "\n",
        "  # Running the experiment\n",
        "  errors = [experiment.get_error(value, repetitions = repetitions) for value in data]\n",
        "\n",
        "  # List of errors for inputs\n",
        "  error_array = np.mean(np.max(np.abs(errors), axis = 2), axis = 1)\n",
        "\n",
        "  max_exp = np.max(error_array)\n",
        "  \n",
        "  # Choosing maximal error\n",
        "  indices = np.argsort(-error_array)\n",
        "\n",
        "  # Choosing best to_keep entries\n",
        "  data = data[indices[:to_keep]]\n",
        "  \n",
        "  percent = 100 * max_exp / mean_bound\n",
        "  print('Mean error %.5f, %.2f%% from theoretical, norm %.2f' % (max_exp, percent, np.linalg.norm(data.flatten()) / data.shape[0]))\n",
        "  percents.append(percent)\n",
        "  \n",
        "plt.xlabel('Iteration count')\n",
        "plt.ylabel('Percent from theoretical bound')\n",
        "plt.plot(percents)\n",
        "plt.show()"
      ],
      "execution_count": 6,
      "outputs": [
        {
          "output_type": "stream",
          "text": [
            "Mean error 0.03659, 10.49% from theoretical, norm 0.81\n",
            "Mean error 0.03823, 10.96% from theoretical, norm 0.92\n",
            "Mean error 0.04017, 11.52% from theoretical, norm 1.04\n",
            "Mean error 0.04160, 11.93% from theoretical, norm 1.21\n",
            "Mean error 0.04362, 12.51% from theoretical, norm 1.37\n",
            "Mean error 0.04431, 12.71% from theoretical, norm 1.50\n",
            "Mean error 0.04567, 13.10% from theoretical, norm 1.61\n",
            "Mean error 0.04603, 13.20% from theoretical, norm 1.73\n",
            "Mean error 0.04609, 13.22% from theoretical, norm 1.73\n",
            "Mean error 0.04668, 13.39% from theoretical, norm 1.85\n"
          ],
          "name": "stdout"
        },
        {
          "output_type": "display_data",
          "data": {
            "image/png": "[encoded data removed]",
            "text/plain": [
              "<matplotlib.figure.Figure at 0x7fe3a941c438>"
            ]
          },
          "metadata": {
            "tags": []
          }
        }
      ]
    },
    {
      "metadata": {
        "id": "4WueSdxsp3HD",
        "colab_type": "code",
        "colab": {}
      },
      "cell_type": "code",
      "source": [
        "# Trying genetic search for x"
      ],
      "execution_count": 0,
      "outputs": []
    },
    {
      "metadata": {
        "id": "PJ2k-brRJBmM",
        "colab_type": "code",
        "colab": {
          "base_uri": "https://localhost:8080/",
          "height": 54
        },
        "outputId": "eac7b3c5-7829-4741-b544-de0c13d65d46"
      },
      "cell_type": "code",
      "source": [
        "(x_train, y_train), (x_test, y_test) = mnist.load_data()"
      ],
      "execution_count": 8,
      "outputs": [
        {
          "output_type": "stream",
          "text": [
            "Downloading data from https://s3.amazonaws.com/img-datasets/mnist.npz\n",
            "11493376/11490434 [==============================] - 11s 1us/step\n"
          ],
          "name": "stdout"
        }
      ]
    },
    {
      "metadata": {
        "id": "1yHNLVqdpw4j",
        "colab_type": "code",
        "colab": {
          "base_uri": "https://localhost:8080/",
          "height": 302
        },
        "outputId": "deaddb00-b0bf-40f8-8d16-ba9d95f5ca7a"
      },
      "cell_type": "code",
      "source": [
        "plt.imshow(x_train[15])\n",
        "x_train = np.array([elem.flatten() for elem in x_train])\n",
        "x_test = np.array([elem.flatten() for elem in x_test])\n",
        "y_train = np.array([[1 if i == digit else 0 for i in range(10)] for digit in tqdm(y_train.flatten())])\n",
        "y_test = np.array([[1 if i == digit else 0 for i in range(10)] for digit in tqdm(y_test.flatten())])"
      ],
      "execution_count": 9,
      "outputs": [
        {
          "output_type": "stream",
          "text": [
            "100%|██████████| 60000/60000 [00:01<00:00, 55815.36it/s]\n",
            "100%|██████████| 10000/10000 [00:00<00:00, 52114.87it/s]\n"
          ],
          "name": "stderr"
        },
        {
          "output_type": "display_data",
          "data": {
            "image/png": "[encoded data removed]",
            "text/plain": [
              "<matplotlib.figure.Figure at 0x7fe3a94ce320>"
            ]
          },
          "metadata": {
            "tags": []
          }
        }
      ]
    },
    {
      "metadata": {
        "id": "d8NcbUZFpzue",
        "colab_type": "code",
        "colab": {}
      },
      "cell_type": "code",
      "source": [
        "def create_trainable_model(Ns, KLips):\n",
        "  \"\"\" Create some simple network with given dropout prob, weights and Lipschitz coefficient for sigmoid \"\"\"\n",
        "  \n",
        "  # creating model\n",
        "  model = Sequential()\n",
        "\n",
        "  # adding layers\n",
        "  for i in range(len(Ns) - 1):\n",
        "    # adding dense layer with sigmoid for hidden and linear for last layer\n",
        "    model.add(Dense(Ns[i + 1], input_shape = (Ns[i], ),\n",
        "                    kernel_initializer = 'random_normal',\n",
        "                    activation = get_custom_activation(KLips),\n",
        "                    bias_initializer = 'zeros'))\n",
        "\n",
        "  model.compile(loss=keras.losses.categorical_crossentropy,\n",
        "              optimizer=keras.optimizers.Adadelta(),\n",
        "              metrics=['accuracy'])\n",
        "\n",
        "  model.summary()\n",
        "  return model"
      ],
      "execution_count": 0,
      "outputs": []
    },
    {
      "metadata": {
        "id": "yH_t8Nt2p2qL",
        "colab_type": "code",
        "colab": {
          "base_uri": "https://localhost:8080/",
          "height": 599
        },
        "outputId": "205b59a4-5f83-4956-a314-23e6faa1055c"
      },
      "cell_type": "code",
      "source": [
        "model = create_trainable_model([28 ** 2,100,10], 1)\n",
        "history = model.fit(x_train, y_train, batch_size=100, epochs=10, verbose=1, validation_data = (x_test, y_test))"
      ],
      "execution_count": 11,
      "outputs": [
        {
          "output_type": "stream",
          "text": [
            "_________________________________________________________________\n",
            "Layer (type)                 Output Shape              Param #   \n",
            "=================================================================\n",
            "dense_117 (Dense)            (None, 100)               78500     \n",
            "_________________________________________________________________\n",
            "dense_118 (Dense)            (None, 10)                1010      \n",
            "=================================================================\n",
            "Total params: 79,510\n",
            "Trainable params: 79,510\n",
            "Non-trainable params: 0\n",
            "_________________________________________________________________\n",
            "Train on 60000 samples, validate on 10000 samples\n",
            "Epoch 1/10\n",
            "60000/60000 [==============================] - 4s 65us/step - loss: 0.6363 - acc: 0.8016 - val_loss: 0.4056 - val_acc: 0.8756\n",
            "Epoch 2/10\n",
            "60000/60000 [==============================] - 4s 58us/step - loss: 0.3780 - acc: 0.8835 - val_loss: 0.3462 - val_acc: 0.8952\n",
            "Epoch 3/10\n",
            "60000/60000 [==============================] - 4s 58us/step - loss: 0.3318 - acc: 0.8989 - val_loss: 0.2993 - val_acc: 0.9082\n",
            "Epoch 4/10\n",
            "60000/60000 [==============================] - 3s 58us/step - loss: 0.2999 - acc: 0.9089 - val_loss: 0.2829 - val_acc: 0.9110\n",
            "Epoch 5/10\n",
            "60000/60000 [==============================] - 4s 58us/step - loss: 0.2734 - acc: 0.9164 - val_loss: 0.2672 - val_acc: 0.9165\n",
            "Epoch 6/10\n",
            "60000/60000 [==============================] - 4s 59us/step - loss: 0.2593 - acc: 0.9214 - val_loss: 0.2545 - val_acc: 0.9222\n",
            "Epoch 7/10\n",
            "60000/60000 [==============================] - 3s 58us/step - loss: 0.2489 - acc: 0.9250 - val_loss: 0.2446 - val_acc: 0.9249\n",
            "Epoch 8/10\n",
            "60000/60000 [==============================] - 4s 59us/step - loss: 0.2346 - acc: 0.9293 - val_loss: 0.2280 - val_acc: 0.9304\n",
            "Epoch 9/10\n",
            "60000/60000 [==============================] - 4s 58us/step - loss: 0.2260 - acc: 0.9311 - val_loss: 0.2272 - val_acc: 0.9322\n",
            "Epoch 10/10\n",
            "60000/60000 [==============================] - 3s 58us/step - loss: 0.2181 - acc: 0.9338 - val_loss: 0.2291 - val_acc: 0.9317\n"
          ],
          "name": "stdout"
        }
      ]
    },
    {
      "metadata": {
        "id": "fr5GoWtnp37U",
        "colab_type": "code",
        "colab": {
          "base_uri": "https://localhost:8080/",
          "height": 269
        },
        "outputId": "bda026a3-7a22-41ce-f069-871ccb7e1cca"
      },
      "cell_type": "code",
      "source": [
        "plt.figure()\n",
        "plt.plot(history.history['val_acc'], label = 'Validation accuracy')\n",
        "plt.plot(history.history['acc'], label = 'Accuracy')\n",
        "plt.legend()\n",
        "plt.show()"
      ],
      "execution_count": 12,
      "outputs": [
        {
          "output_type": "display_data",
          "data": {
            "image/png": "[encoded data removed]",
            "text/plain": [
              "<matplotlib.figure.Figure at 0x7fe3a3a02e80>"
            ]
          },
          "metadata": {
            "tags": []
          }
        }
      ]
    },
    {
      "metadata": {
        "id": "tYCnU_Cvp79C",
        "colab_type": "code",
        "colab": {
          "base_uri": "https://localhost:8080/",
          "height": 302
        },
        "outputId": "5f63876c-4b1e-4f25-feae-33a82a96c94f"
      },
      "cell_type": "code",
      "source": [
        "w1 = model.get_weights()[0]\n",
        "b1 = model.get_weights()[1]\n",
        "w2 = model.get_weights()[2]\n",
        "b2 = model.get_weights()[3]\n",
        "\n",
        "idx = 144\n",
        "print(np.argmax((x_train[idx] @ w1 + b1) @ w2 + b2))\n",
        "plt.imshow(x_train[idx].reshape(28, 28))"
      ],
      "execution_count": 13,
      "outputs": [
        {
          "output_type": "stream",
          "text": [
            "8\n"
          ],
          "name": "stdout"
        },
        {
          "output_type": "execute_result",
          "data": {
            "text/plain": [
              "<matplotlib.image.AxesImage at 0x7fe3a37cb0b8>"
            ]
          },
          "metadata": {
            "tags": []
          },
          "execution_count": 13
        },
        {
          "output_type": "display_data",
          "data": {
            "image/png": "[encoded data removed]",
            "text/plain": [
              "<matplotlib.figure.Figure at 0x7fe3a3a09be0>"
            ]
          },
          "metadata": {
            "tags": []
          }
        }
      ]
    },
    {
      "metadata": {
        "id": "XWJALvOQp-gb",
        "colab_type": "code",
        "colab": {}
      },
      "cell_type": "code",
      "source": [
        "W = model.get_weights()[0::2]\n",
        "B = model.get_weights()[1::2]"
      ],
      "execution_count": 0,
      "outputs": []
    },
    {
      "metadata": {
        "id": "896iwwZRp_y3",
        "colab_type": "code",
        "colab": {}
      },
      "cell_type": "code",
      "source": [
        "# Next steps:\n",
        "# 1. Make Experiment() abstract, move random code to RandomExperiment()\n",
        "# 2. Implement MNISTExperiment()\n",
        "# 3. Check if on MNIST the gap between theory and experiment is still high, on images as data"
      ],
      "execution_count": 0,
      "outputs": []
    },
    {
      "metadata": {
        "id": "QkPopO51rL1l",
        "colab_type": "code",
        "colab": {}
      },
      "cell_type": "code",
      "source": [
        ""
      ],
      "execution_count": 0,
      "outputs": []
    }
  ]
}