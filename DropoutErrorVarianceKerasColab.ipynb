{
  "nbformat": 4,
  "nbformat_minor": 0,
  "metadata": {
    "colab": {
      "name": "DropoutErrorVarianceKerasColab.ipynb",
      "version": "0.3.2",
      "provenance": [],
      "collapsed_sections": [],
      "include_colab_link": true
    },
    "kernelspec": {
      "name": "python3",
      "display_name": "Python 3"
    },
    "accelerator": "GPU"
  },
  "cells": [
    {
      "cell_type": "markdown",
      "metadata": {
        "id": "view-in-github",
        "colab_type": "text"
      },
      "source": [
        "[View in Colaboratory](https://colab.research.google.com/github/sergeivolodin/ProbabilisticNeuronFailureCode/blob/master/DropoutErrorVarianceKerasColab.ipynb)"
      ]
    },
    {
      "metadata": {
        "id": "UqbM2LCENx59",
        "colab_type": "code",
        "colab": {
          "base_uri": "https://localhost:8080/",
          "height": 35
        },
        "outputId": "4f4d01e1-71de-4f02-caab-ddd32d17da74"
      },
      "cell_type": "code",
      "source": [
        "import numpy as np\n",
        "import keras\n",
        "from keras.models import Sequential\n",
        "from keras.layers import Dense\n",
        "from keras.layers import Dropout\n",
        "from keras.layers.core import Lambda\n",
        "from keras.optimizers import SGD\n",
        "from keras.initializers import Constant\n",
        "from keras import backend as K\n",
        "from keras.utils import plot_model\n",
        "from IPython.display import SVG\n",
        "from keras.utils.vis_utils import model_to_dot\n",
        "%matplotlib inline\n",
        "from matplotlib import pyplot as plt"
      ],
      "execution_count": 1,
      "outputs": [
        {
          "output_type": "stream",
          "text": [
            "Using TensorFlow backend.\n"
          ],
          "name": "stderr"
        }
      ]
    },
    {
      "metadata": {
        "id": "9YlePO9bN2Z8",
        "colab_type": "code",
        "colab": {}
      },
      "cell_type": "code",
      "source": [
        "def PermanentDropout(p_fail):\n",
        "  \"\"\" Make dropout work using predict() \"\"\"\n",
        "  return Lambda(lambda x: K.dropout(x, level=p_fail))\n",
        "  \n",
        "def create_model(p_fails, layer_weights, layer_biases):\n",
        "  \"\"\" Create some simple network \"\"\"\n",
        "  assert(len(p_fails) == len(layer_weights))\n",
        "  assert(len(layer_biases) == len(layer_weights))\n",
        "  \n",
        "  model = Sequential()\n",
        "  for i, (p_fail, w, b) in enumerate(zip(p_fails, layer_weights, layer_biases)):\n",
        "    is_last = i + 1 == len(p_fails)\n",
        "    model.add(Dense(w.shape[1], input_shape = (w.shape[0], ),\n",
        "                    kernel_initializer = Constant(w),\n",
        "                    activation = 'linear' if is_last else 'sigmoid',\n",
        "                    bias_initializer = Constant(b)))\n",
        "    if not is_last and p_fail > 0:\n",
        "      model.add(PermanentDropout(p_fail))\n",
        "  \n",
        "  model.compile(loss='binary_crossentropy', optimizer = 'sgd')\n",
        "  #model.summary()\n",
        "  return model\n",
        "\n",
        "class Experiment():\n",
        "  def __init__(self, N, P):\n",
        "    assert(len(N) == len(P) + 1)\n",
        "    self.N = N + [1]\n",
        "    self.P = P + [0]\n",
        "    self.model = None\n",
        "    self.init_weights()\n",
        "  def init_weights(self):\n",
        "    self.W = []\n",
        "    self.B = []\n",
        "    for i in range(1, len(self.N)):\n",
        "      w = np.random.randn(self.N[i - 1], self.N[i])\n",
        "      b = np.random.randn(self.N[i])\n",
        "      self.W.append(w)\n",
        "      self.B.append(b)\n",
        "    self.model = create_model(self.P, self.W, self.B)\n",
        "    self.model_no_dropout = create_model([0] * len(self.P), self.W, self.B)\n",
        "  def predict_no_dropout(self, data):\n",
        "    return self.model_no_dropout.predict(np.array([data]))[0][0]\n",
        "  def predict(self, data, repetitions = 100):\n",
        "    data = np.repeat(np.array([data]), repetitions, axis = 0)\n",
        "    return self.model.predict(data).T[0]\n",
        "  def plot_error(experiment, inp, repetitions = 100):\n",
        "    results = experiment.predict(inp, repetitions = repetitions)\n",
        "    true = experiment.predict_no_dropout(inp)\n",
        "    plt.title('Network error P=' + ', '.join([str(v) for v in experiment.P[:-1]]) +\n",
        "              ' N=' + ', '.join([str(v) for v in experiment.N[:-1]]))\n",
        "    plt.xlabel('Network output')\n",
        "    plt.ylabel('Frequency')\n",
        "    plt.hist(results, density = True)\n",
        "    plt.plot([true, true], [0, 1], label = 'True value')\n",
        "    plt.legend()\n",
        "    plt.show()\n",
        "    return results - true\n",
        "  def get_error(experiment, inp, repetitions = 100):\n",
        "    return experiment.predict(inp, repetitions = repetitions) - experiment.predict_no_dropout(inp)\n",
        "  def get_mean_error(self):\n",
        "    pass\n",
        "    #C = 1\n",
        "    #K = ...\n",
        "  def get_std_error(self):\n",
        "    pass"
      ],
      "execution_count": 0,
      "outputs": []
    },
    {
      "metadata": {
        "id": "lTOIJdWSObMo",
        "colab_type": "code",
        "colab": {
          "base_uri": "https://localhost:8080/",
          "height": 330
        },
        "outputId": "e58bd4f4-ec0f-4f96-e338-44275cc4a3ad"
      },
      "cell_type": "code",
      "source": [
        "experiment = Experiment([5, 3, 3], [0.5, 0.5])\n",
        "experiment.plot_error(np.zeros(5), repetitions = 10000)"
      ],
      "execution_count": 74,
      "outputs": [
        {
          "output_type": "display_data",
          "data": {
            "image/png": "[encoded data removed]",
            "text/plain": [
              "<matplotlib.figure.Figure at 0x7ff3ff744b38>"
            ]
          },
          "metadata": {
            "tags": []
          }
        },
        {
          "output_type": "execute_result",
          "data": {
            "text/plain": [
              "array([ 0.73687357, -0.04692471,  0.04456872, ..., -0.27754414,\n",
              "        0.13859552, -0.34103817], dtype=float32)"
            ]
          },
          "metadata": {
            "tags": []
          },
          "execution_count": 74
        }
      ]
    },
    {
      "metadata": {
        "id": "3sl8T9FuYyl0",
        "colab_type": "code",
        "colab": {}
      },
      "cell_type": "code",
      "source": [
        ""
      ],
      "execution_count": 0,
      "outputs": []
    }
  ]
}