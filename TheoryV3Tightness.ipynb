{
 "cells": [
  {
   "cell_type": "code",
   "execution_count": 26,
   "metadata": {},
   "outputs": [
    {
     "name": "stdout",
     "output_type": "stream",
     "text": [
      "The autoreload extension is already loaded. To reload it, use:\n",
      "  %reload_ext autoreload\n"
     ]
    }
   ],
   "source": [
    "%load_ext autoreload\n",
    "%autoreload 2\n",
    "\n",
    "import os\n",
    "os.environ[\"CUDA_DEVICE_ORDER\"]=\"PCI_BUS_ID\"   # see issue #152\n",
    "os.environ[\"CUDA_VISIBLE_DEVICES\"]=\"0\"\n",
    "\n",
    "import tensorflow as tf\n",
    "from keras.backend.tensorflow_backend import set_session\n",
    "\n",
    "%matplotlib inline\n",
    "from matplotlib import pyplot as plt\n",
    "import numpy as np\n",
    "from experiment_mnist import *"
   ]
  },
  {
   "cell_type": "code",
   "execution_count": 50,
   "metadata": {},
   "outputs": [
    {
     "name": "stdout",
     "output_type": "stream",
     "text": [
      "784 200\n",
      "200 200\n",
      "200 200\n",
      "200 100\n",
      "100 50\n",
      "50 10\n",
      "_________________________________________________________________\n",
      "Layer (type)                 Output Shape              Param #   \n",
      "=================================================================\n",
      "dense_29 (Dense)             (None, 200)               157000    \n",
      "_________________________________________________________________\n",
      "dense_30 (Dense)             (None, 200)               40200     \n",
      "_________________________________________________________________\n",
      "dense_31 (Dense)             (None, 200)               40200     \n",
      "_________________________________________________________________\n",
      "dense_32 (Dense)             (None, 100)               20100     \n",
      "_________________________________________________________________\n",
      "dense_33 (Dense)             (None, 50)                5050      \n",
      "_________________________________________________________________\n",
      "dense_34 (Dense)             (None, 10)                510       \n",
      "=================================================================\n",
      "Total params: 263,060\n",
      "Trainable params: 263,060\n",
      "Non-trainable params: 0\n",
      "_________________________________________________________________\n",
      "Train on 60000 samples, validate on 10000 samples\n",
      "Epoch 1/100\n",
      "60000/60000 [==============================] - 1s 9us/step - loss: 0.2137 - acc: 0.1390 - mean_squared_error: 0.2137 - val_loss: 0.0960 - val_acc: 0.2384 - val_mean_squared_error: 0.0960\n",
      "Epoch 2/100\n",
      "60000/60000 [==============================] - 0s 4us/step - loss: 0.0896 - acc: 0.3159 - mean_squared_error: 0.0896 - val_loss: 0.0823 - val_acc: 0.4074 - val_mean_squared_error: 0.0823\n",
      "Epoch 3/100\n",
      "60000/60000 [==============================] - 0s 4us/step - loss: 0.0786 - acc: 0.4630 - mean_squared_error: 0.0786 - val_loss: 0.0736 - val_acc: 0.5252 - val_mean_squared_error: 0.0736\n",
      "Epoch 4/100\n",
      "60000/60000 [==============================] - 0s 4us/step - loss: 0.0710 - acc: 0.5643 - mean_squared_error: 0.0710 - val_loss: 0.0670 - val_acc: 0.6164 - val_mean_squared_error: 0.0670\n",
      "Epoch 5/100\n",
      "60000/60000 [==============================] - 0s 4us/step - loss: 0.0650 - acc: 0.6383 - mean_squared_error: 0.0650 - val_loss: 0.0618 - val_acc: 0.6786 - val_mean_squared_error: 0.0618\n",
      "Epoch 6/100\n",
      "60000/60000 [==============================] - 0s 4us/step - loss: 0.0616 - acc: 0.6781 - mean_squared_error: 0.0616 - val_loss: 0.0625 - val_acc: 0.6972 - val_mean_squared_error: 0.0625\n",
      "Epoch 7/100\n",
      "60000/60000 [==============================] - 0s 4us/step - loss: 0.0599 - acc: 0.7020 - mean_squared_error: 0.0599 - val_loss: 0.0560 - val_acc: 0.7406 - val_mean_squared_error: 0.0560\n",
      "Epoch 8/100\n",
      "60000/60000 [==============================] - 0s 4us/step - loss: 0.0551 - acc: 0.7431 - mean_squared_error: 0.0551 - val_loss: 0.0541 - val_acc: 0.7523 - val_mean_squared_error: 0.0541\n",
      "Epoch 9/100\n",
      "60000/60000 [==============================] - 0s 4us/step - loss: 0.0537 - acc: 0.7601 - mean_squared_error: 0.0537 - val_loss: 0.0510 - val_acc: 0.7706 - val_mean_squared_error: 0.0510\n",
      "Epoch 10/100\n",
      "60000/60000 [==============================] - 0s 4us/step - loss: 0.0498 - acc: 0.7839 - mean_squared_error: 0.0498 - val_loss: 0.0478 - val_acc: 0.7920 - val_mean_squared_error: 0.0478\n",
      "Epoch 11/100\n",
      "60000/60000 [==============================] - 0s 4us/step - loss: 0.0467 - acc: 0.8035 - mean_squared_error: 0.0467 - val_loss: 0.0454 - val_acc: 0.8050 - val_mean_squared_error: 0.0454\n",
      "Epoch 12/100\n",
      "60000/60000 [==============================] - 0s 4us/step - loss: 0.0452 - acc: 0.8129 - mean_squared_error: 0.0452 - val_loss: 0.0441 - val_acc: 0.8159 - val_mean_squared_error: 0.0441\n",
      "Epoch 13/100\n",
      "60000/60000 [==============================] - 0s 4us/step - loss: 0.0441 - acc: 0.8166 - mean_squared_error: 0.0441 - val_loss: 0.0433 - val_acc: 0.8252 - val_mean_squared_error: 0.0433\n",
      "Epoch 14/100\n",
      "60000/60000 [==============================] - 0s 4us/step - loss: 0.0428 - acc: 0.8257 - mean_squared_error: 0.0428 - val_loss: 0.0409 - val_acc: 0.8387 - val_mean_squared_error: 0.0409\n",
      "Epoch 15/100\n",
      "60000/60000 [==============================] - 0s 4us/step - loss: 0.0400 - acc: 0.8425 - mean_squared_error: 0.0400 - val_loss: 0.0386 - val_acc: 0.8517 - val_mean_squared_error: 0.0386\n",
      "Epoch 16/100\n",
      "60000/60000 [==============================] - 0s 4us/step - loss: 0.0383 - acc: 0.8510 - mean_squared_error: 0.0383 - val_loss: 0.0373 - val_acc: 0.8575 - val_mean_squared_error: 0.0373\n",
      "Epoch 17/100\n",
      "60000/60000 [==============================] - 0s 4us/step - loss: 0.0373 - acc: 0.8569 - mean_squared_error: 0.0373 - val_loss: 0.0366 - val_acc: 0.8674 - val_mean_squared_error: 0.0366\n",
      "Epoch 18/100\n",
      "60000/60000 [==============================] - 0s 4us/step - loss: 0.0359 - acc: 0.8634 - mean_squared_error: 0.0359 - val_loss: 0.0351 - val_acc: 0.8722 - val_mean_squared_error: 0.0351\n",
      "Epoch 19/100\n",
      "60000/60000 [==============================] - 0s 4us/step - loss: 0.0350 - acc: 0.8619 - mean_squared_error: 0.0350 - val_loss: 0.0345 - val_acc: 0.8724 - val_mean_squared_error: 0.0345\n",
      "Epoch 20/100\n",
      "60000/60000 [==============================] - 0s 4us/step - loss: 0.0338 - acc: 0.8682 - mean_squared_error: 0.0338 - val_loss: 0.0326 - val_acc: 0.8811 - val_mean_squared_error: 0.0326\n",
      "Epoch 21/100\n",
      "60000/60000 [==============================] - 0s 4us/step - loss: 0.0326 - acc: 0.8755 - mean_squared_error: 0.0326 - val_loss: 0.0322 - val_acc: 0.8845 - val_mean_squared_error: 0.0322\n",
      "Epoch 22/100\n",
      "60000/60000 [==============================] - 0s 4us/step - loss: 0.0317 - acc: 0.8834 - mean_squared_error: 0.0317 - val_loss: 0.0312 - val_acc: 0.8874 - val_mean_squared_error: 0.0312\n",
      "Epoch 23/100\n",
      "60000/60000 [==============================] - 0s 4us/step - loss: 0.0312 - acc: 0.8863 - mean_squared_error: 0.0312 - val_loss: 0.0311 - val_acc: 0.8874 - val_mean_squared_error: 0.0311\n",
      "Epoch 24/100\n",
      "60000/60000 [==============================] - 0s 4us/step - loss: 0.0312 - acc: 0.8834 - mean_squared_error: 0.0312 - val_loss: 0.0305 - val_acc: 0.8892 - val_mean_squared_error: 0.0305\n",
      "Epoch 25/100\n",
      "60000/60000 [==============================] - 0s 4us/step - loss: 0.0300 - acc: 0.8885 - mean_squared_error: 0.0300 - val_loss: 0.0286 - val_acc: 0.8972 - val_mean_squared_error: 0.0286\n",
      "Epoch 26/100\n",
      "60000/60000 [==============================] - 0s 4us/step - loss: 0.0284 - acc: 0.8955 - mean_squared_error: 0.0284 - val_loss: 0.0278 - val_acc: 0.9000 - val_mean_squared_error: 0.0278\n",
      "Epoch 27/100\n",
      "60000/60000 [==============================] - 0s 4us/step - loss: 0.0277 - acc: 0.8984 - mean_squared_error: 0.0277 - val_loss: 0.0270 - val_acc: 0.9039 - val_mean_squared_error: 0.0270\n",
      "Epoch 28/100\n",
      "60000/60000 [==============================] - 0s 4us/step - loss: 0.0270 - acc: 0.9013 - mean_squared_error: 0.0270 - val_loss: 0.0263 - val_acc: 0.9061 - val_mean_squared_error: 0.0263\n",
      "Epoch 29/100\n",
      "60000/60000 [==============================] - 0s 4us/step - loss: 0.0268 - acc: 0.9002 - mean_squared_error: 0.0268 - val_loss: 0.0268 - val_acc: 0.9027 - val_mean_squared_error: 0.0268\n",
      "Epoch 30/100\n",
      "60000/60000 [==============================] - 0s 4us/step - loss: 0.0266 - acc: 0.9003 - mean_squared_error: 0.0266 - val_loss: 0.0257 - val_acc: 0.9074 - val_mean_squared_error: 0.0257\n",
      "Epoch 31/100\n",
      "60000/60000 [==============================] - 0s 4us/step - loss: 0.0256 - acc: 0.9051 - mean_squared_error: 0.0256 - val_loss: 0.0253 - val_acc: 0.9104 - val_mean_squared_error: 0.0253\n",
      "Epoch 32/100\n",
      "60000/60000 [==============================] - 0s 4us/step - loss: 0.0251 - acc: 0.9083 - mean_squared_error: 0.0251 - val_loss: 0.0243 - val_acc: 0.9136 - val_mean_squared_error: 0.0243\n",
      "Epoch 33/100\n",
      "60000/60000 [==============================] - 0s 4us/step - loss: 0.0241 - acc: 0.9112 - mean_squared_error: 0.0241 - val_loss: 0.0237 - val_acc: 0.9155 - val_mean_squared_error: 0.0237\n",
      "Epoch 34/100\n",
      "60000/60000 [==============================] - 0s 4us/step - loss: 0.0238 - acc: 0.9128 - mean_squared_error: 0.0238 - val_loss: 0.0236 - val_acc: 0.9154 - val_mean_squared_error: 0.0236\n",
      "Epoch 35/100\n",
      "60000/60000 [==============================] - 0s 4us/step - loss: 0.0235 - acc: 0.9141 - mean_squared_error: 0.0235 - val_loss: 0.0231 - val_acc: 0.9166 - val_mean_squared_error: 0.0231\n"
     ]
    },
    {
     "name": "stdout",
     "output_type": "stream",
     "text": [
      "Epoch 36/100\n",
      "60000/60000 [==============================] - 0s 4us/step - loss: 0.0231 - acc: 0.9157 - mean_squared_error: 0.0231 - val_loss: 0.0227 - val_acc: 0.9188 - val_mean_squared_error: 0.0227\n",
      "Epoch 37/100\n",
      "60000/60000 [==============================] - 0s 4us/step - loss: 0.0230 - acc: 0.9162 - mean_squared_error: 0.0230 - val_loss: 0.0225 - val_acc: 0.9192 - val_mean_squared_error: 0.0225\n",
      "Epoch 38/100\n",
      "60000/60000 [==============================] - 0s 4us/step - loss: 0.0223 - acc: 0.9187 - mean_squared_error: 0.0223 - val_loss: 0.0217 - val_acc: 0.9216 - val_mean_squared_error: 0.0217\n",
      "Epoch 39/100\n",
      "60000/60000 [==============================] - 0s 4us/step - loss: 0.0218 - acc: 0.9206 - mean_squared_error: 0.0218 - val_loss: 0.0215 - val_acc: 0.9211 - val_mean_squared_error: 0.0215\n",
      "Epoch 40/100\n",
      "60000/60000 [==============================] - 0s 4us/step - loss: 0.0215 - acc: 0.9214 - mean_squared_error: 0.0215 - val_loss: 0.0210 - val_acc: 0.9229 - val_mean_squared_error: 0.0210\n",
      "Epoch 41/100\n",
      "60000/60000 [==============================] - 0s 4us/step - loss: 0.0210 - acc: 0.9234 - mean_squared_error: 0.0210 - val_loss: 0.0207 - val_acc: 0.9249 - val_mean_squared_error: 0.0207\n",
      "Epoch 42/100\n",
      "60000/60000 [==============================] - 0s 4us/step - loss: 0.0209 - acc: 0.9234 - mean_squared_error: 0.0209 - val_loss: 0.0209 - val_acc: 0.9257 - val_mean_squared_error: 0.0209\n",
      "Epoch 43/100\n",
      "60000/60000 [==============================] - 0s 4us/step - loss: 0.0211 - acc: 0.9217 - mean_squared_error: 0.0211 - val_loss: 0.0207 - val_acc: 0.9268 - val_mean_squared_error: 0.0207\n",
      "Epoch 44/100\n",
      "60000/60000 [==============================] - 0s 4us/step - loss: 0.0207 - acc: 0.9223 - mean_squared_error: 0.0207 - val_loss: 0.0203 - val_acc: 0.9266 - val_mean_squared_error: 0.0203\n",
      "Epoch 45/100\n",
      "60000/60000 [==============================] - 0s 4us/step - loss: 0.0201 - acc: 0.9250 - mean_squared_error: 0.0201 - val_loss: 0.0199 - val_acc: 0.9273 - val_mean_squared_error: 0.0199\n",
      "Epoch 46/100\n",
      "60000/60000 [==============================] - 0s 4us/step - loss: 0.0200 - acc: 0.9254 - mean_squared_error: 0.0200 - val_loss: 0.0195 - val_acc: 0.9291 - val_mean_squared_error: 0.0195\n",
      "Epoch 47/100\n",
      "60000/60000 [==============================] - 0s 4us/step - loss: 0.0194 - acc: 0.9276 - mean_squared_error: 0.0194 - val_loss: 0.0191 - val_acc: 0.9302 - val_mean_squared_error: 0.0191\n",
      "Epoch 48/100\n",
      "60000/60000 [==============================] - 0s 4us/step - loss: 0.0191 - acc: 0.9288 - mean_squared_error: 0.0191 - val_loss: 0.0189 - val_acc: 0.9309 - val_mean_squared_error: 0.0189\n",
      "Epoch 49/100\n",
      "60000/60000 [==============================] - 0s 4us/step - loss: 0.0188 - acc: 0.9298 - mean_squared_error: 0.0188 - val_loss: 0.0185 - val_acc: 0.9323 - val_mean_squared_error: 0.0185\n",
      "Epoch 50/100\n",
      "60000/60000 [==============================] - 0s 4us/step - loss: 0.0186 - acc: 0.9311 - mean_squared_error: 0.0186 - val_loss: 0.0184 - val_acc: 0.9309 - val_mean_squared_error: 0.0184\n",
      "Epoch 51/100\n",
      "60000/60000 [==============================] - 0s 4us/step - loss: 0.0183 - acc: 0.9316 - mean_squared_error: 0.0183 - val_loss: 0.0181 - val_acc: 0.9325 - val_mean_squared_error: 0.0181\n",
      "Epoch 52/100\n",
      "60000/60000 [==============================] - 0s 4us/step - loss: 0.0180 - acc: 0.9327 - mean_squared_error: 0.0180 - val_loss: 0.0180 - val_acc: 0.9326 - val_mean_squared_error: 0.0180\n",
      "Epoch 53/100\n",
      "60000/60000 [==============================] - 0s 4us/step - loss: 0.0180 - acc: 0.9331 - mean_squared_error: 0.0180 - val_loss: 0.0179 - val_acc: 0.9332 - val_mean_squared_error: 0.0179\n",
      "Epoch 54/100\n",
      "60000/60000 [==============================] - 0s 4us/step - loss: 0.0177 - acc: 0.9340 - mean_squared_error: 0.0177 - val_loss: 0.0174 - val_acc: 0.9346 - val_mean_squared_error: 0.0174\n",
      "Epoch 55/100\n",
      "60000/60000 [==============================] - 0s 4us/step - loss: 0.0174 - acc: 0.9339 - mean_squared_error: 0.0174 - val_loss: 0.0174 - val_acc: 0.9352 - val_mean_squared_error: 0.0174\n",
      "Epoch 56/100\n",
      "60000/60000 [==============================] - 0s 4us/step - loss: 0.0172 - acc: 0.9351 - mean_squared_error: 0.0172 - val_loss: 0.0171 - val_acc: 0.9359 - val_mean_squared_error: 0.0171\n",
      "Epoch 57/100\n",
      "60000/60000 [==============================] - 0s 4us/step - loss: 0.0172 - acc: 0.9355 - mean_squared_error: 0.0172 - val_loss: 0.0172 - val_acc: 0.9353 - val_mean_squared_error: 0.0172\n",
      "Epoch 58/100\n",
      "60000/60000 [==============================] - 0s 4us/step - loss: 0.0173 - acc: 0.9358 - mean_squared_error: 0.0173 - val_loss: 0.0172 - val_acc: 0.9381 - val_mean_squared_error: 0.0172\n",
      "Epoch 59/100\n",
      "60000/60000 [==============================] - 0s 4us/step - loss: 0.0172 - acc: 0.9365 - mean_squared_error: 0.0172 - val_loss: 0.0170 - val_acc: 0.9376 - val_mean_squared_error: 0.0170\n",
      "Epoch 60/100\n",
      "60000/60000 [==============================] - 0s 4us/step - loss: 0.0168 - acc: 0.9374 - mean_squared_error: 0.0168 - val_loss: 0.0165 - val_acc: 0.9385 - val_mean_squared_error: 0.0165\n",
      "Epoch 61/100\n",
      "60000/60000 [==============================] - 0s 4us/step - loss: 0.0163 - acc: 0.9388 - mean_squared_error: 0.0163 - val_loss: 0.0161 - val_acc: 0.9403 - val_mean_squared_error: 0.0161\n",
      "Epoch 62/100\n",
      "60000/60000 [==============================] - 0s 4us/step - loss: 0.0161 - acc: 0.9392 - mean_squared_error: 0.0161 - val_loss: 0.0160 - val_acc: 0.9399 - val_mean_squared_error: 0.0160\n",
      "Epoch 63/100\n",
      "60000/60000 [==============================] - 0s 4us/step - loss: 0.0160 - acc: 0.9392 - mean_squared_error: 0.0160 - val_loss: 0.0160 - val_acc: 0.9401 - val_mean_squared_error: 0.0160\n",
      "Epoch 64/100\n",
      "60000/60000 [==============================] - 0s 4us/step - loss: 0.0160 - acc: 0.9398 - mean_squared_error: 0.0160 - val_loss: 0.0159 - val_acc: 0.9400 - val_mean_squared_error: 0.0159\n",
      "Epoch 65/100\n",
      "60000/60000 [==============================] - 0s 4us/step - loss: 0.0157 - acc: 0.9399 - mean_squared_error: 0.0157 - val_loss: 0.0157 - val_acc: 0.9411 - val_mean_squared_error: 0.0157\n",
      "Epoch 66/100\n",
      "60000/60000 [==============================] - 0s 4us/step - loss: 0.0155 - acc: 0.9416 - mean_squared_error: 0.0155 - val_loss: 0.0154 - val_acc: 0.9422 - val_mean_squared_error: 0.0154\n",
      "Epoch 67/100\n",
      "60000/60000 [==============================] - 0s 4us/step - loss: 0.0153 - acc: 0.9419 - mean_squared_error: 0.0153 - val_loss: 0.0153 - val_acc: 0.9423 - val_mean_squared_error: 0.0153\n",
      "Epoch 68/100\n",
      "60000/60000 [==============================] - 0s 4us/step - loss: 0.0152 - acc: 0.9426 - mean_squared_error: 0.0152 - val_loss: 0.0151 - val_acc: 0.9439 - val_mean_squared_error: 0.0151\n",
      "Epoch 69/100\n",
      "60000/60000 [==============================] - 0s 4us/step - loss: 0.0151 - acc: 0.9424 - mean_squared_error: 0.0151 - val_loss: 0.0151 - val_acc: 0.9447 - val_mean_squared_error: 0.0151\n",
      "Epoch 70/100\n",
      "60000/60000 [==============================] - 0s 4us/step - loss: 0.0150 - acc: 0.9434 - mean_squared_error: 0.0150 - val_loss: 0.0149 - val_acc: 0.9435 - val_mean_squared_error: 0.0149\n",
      "Epoch 71/100\n",
      "60000/60000 [==============================] - 0s 4us/step - loss: 0.0148 - acc: 0.9435 - mean_squared_error: 0.0148 - val_loss: 0.0150 - val_acc: 0.9426 - val_mean_squared_error: 0.0150\n",
      "Epoch 72/100\n",
      "60000/60000 [==============================] - 0s 4us/step - loss: 0.0149 - acc: 0.9434 - mean_squared_error: 0.0149 - val_loss: 0.0150 - val_acc: 0.9433 - val_mean_squared_error: 0.0150\n",
      "Epoch 73/100\n",
      "60000/60000 [==============================] - 0s 4us/step - loss: 0.0149 - acc: 0.9431 - mean_squared_error: 0.0149 - val_loss: 0.0149 - val_acc: 0.9429 - val_mean_squared_error: 0.0149\n",
      "Epoch 74/100\n",
      "60000/60000 [==============================] - 0s 4us/step - loss: 0.0146 - acc: 0.9444 - mean_squared_error: 0.0146 - val_loss: 0.0147 - val_acc: 0.9440 - val_mean_squared_error: 0.0147\n",
      "Epoch 75/100\n",
      "60000/60000 [==============================] - 0s 4us/step - loss: 0.0145 - acc: 0.9448 - mean_squared_error: 0.0145 - val_loss: 0.0146 - val_acc: 0.9440 - val_mean_squared_error: 0.0146\n",
      "Epoch 76/100\n",
      "60000/60000 [==============================] - 0s 4us/step - loss: 0.0144 - acc: 0.9453 - mean_squared_error: 0.0144 - val_loss: 0.0146 - val_acc: 0.9437 - val_mean_squared_error: 0.0146\n"
     ]
    },
    {
     "name": "stdout",
     "output_type": "stream",
     "text": [
      "Epoch 77/100\n",
      "60000/60000 [==============================] - 0s 4us/step - loss: 0.0143 - acc: 0.9460 - mean_squared_error: 0.0143 - val_loss: 0.0143 - val_acc: 0.9448 - val_mean_squared_error: 0.0143\n",
      "Epoch 78/100\n",
      "60000/60000 [==============================] - 0s 4us/step - loss: 0.0141 - acc: 0.9465 - mean_squared_error: 0.0141 - val_loss: 0.0142 - val_acc: 0.9454 - val_mean_squared_error: 0.0142\n",
      "Epoch 79/100\n",
      "60000/60000 [==============================] - 0s 4us/step - loss: 0.0139 - acc: 0.9468 - mean_squared_error: 0.0139 - val_loss: 0.0139 - val_acc: 0.9460 - val_mean_squared_error: 0.0139\n",
      "Epoch 80/100\n",
      "60000/60000 [==============================] - 0s 4us/step - loss: 0.0139 - acc: 0.9473 - mean_squared_error: 0.0139 - val_loss: 0.0140 - val_acc: 0.9457 - val_mean_squared_error: 0.0140\n",
      "Epoch 81/100\n",
      "60000/60000 [==============================] - 0s 4us/step - loss: 0.0138 - acc: 0.9474 - mean_squared_error: 0.0138 - val_loss: 0.0139 - val_acc: 0.9472 - val_mean_squared_error: 0.0139\n",
      "Epoch 82/100\n",
      "60000/60000 [==============================] - 0s 4us/step - loss: 0.0138 - acc: 0.9476 - mean_squared_error: 0.0138 - val_loss: 0.0139 - val_acc: 0.9467 - val_mean_squared_error: 0.0139\n",
      "Epoch 83/100\n",
      "60000/60000 [==============================] - 0s 4us/step - loss: 0.0136 - acc: 0.9483 - mean_squared_error: 0.0136 - val_loss: 0.0137 - val_acc: 0.9475 - val_mean_squared_error: 0.0137\n",
      "Epoch 84/100\n",
      "60000/60000 [==============================] - 0s 4us/step - loss: 0.0134 - acc: 0.9489 - mean_squared_error: 0.0134 - val_loss: 0.0135 - val_acc: 0.9483 - val_mean_squared_error: 0.0135\n",
      "Epoch 85/100\n",
      "60000/60000 [==============================] - 0s 4us/step - loss: 0.0133 - acc: 0.9493 - mean_squared_error: 0.0133 - val_loss: 0.0133 - val_acc: 0.9489 - val_mean_squared_error: 0.0133\n",
      "Epoch 86/100\n",
      "60000/60000 [==============================] - 0s 4us/step - loss: 0.0131 - acc: 0.9493 - mean_squared_error: 0.0131 - val_loss: 0.0132 - val_acc: 0.9489 - val_mean_squared_error: 0.0132\n",
      "Epoch 87/100\n",
      "60000/60000 [==============================] - 0s 4us/step - loss: 0.0130 - acc: 0.9497 - mean_squared_error: 0.0130 - val_loss: 0.0132 - val_acc: 0.9490 - val_mean_squared_error: 0.0132\n",
      "Epoch 88/100\n",
      "60000/60000 [==============================] - 0s 4us/step - loss: 0.0129 - acc: 0.9500 - mean_squared_error: 0.0129 - val_loss: 0.0131 - val_acc: 0.9500 - val_mean_squared_error: 0.0131\n",
      "Epoch 89/100\n",
      "60000/60000 [==============================] - 0s 4us/step - loss: 0.0129 - acc: 0.9506 - mean_squared_error: 0.0129 - val_loss: 0.0131 - val_acc: 0.9497 - val_mean_squared_error: 0.0131\n",
      "Epoch 90/100\n",
      "60000/60000 [==============================] - 0s 4us/step - loss: 0.0128 - acc: 0.9506 - mean_squared_error: 0.0128 - val_loss: 0.0129 - val_acc: 0.9498 - val_mean_squared_error: 0.0129\n",
      "Epoch 91/100\n",
      "60000/60000 [==============================] - 0s 4us/step - loss: 0.0127 - acc: 0.9511 - mean_squared_error: 0.0127 - val_loss: 0.0128 - val_acc: 0.9505 - val_mean_squared_error: 0.0128\n",
      "Epoch 92/100\n",
      "60000/60000 [==============================] - 0s 4us/step - loss: 0.0125 - acc: 0.9518 - mean_squared_error: 0.0125 - val_loss: 0.0127 - val_acc: 0.9511 - val_mean_squared_error: 0.0127\n",
      "Epoch 93/100\n",
      "60000/60000 [==============================] - 0s 4us/step - loss: 0.0125 - acc: 0.9517 - mean_squared_error: 0.0125 - val_loss: 0.0127 - val_acc: 0.9509 - val_mean_squared_error: 0.0127\n",
      "Epoch 94/100\n",
      "60000/60000 [==============================] - 0s 4us/step - loss: 0.0125 - acc: 0.9518 - mean_squared_error: 0.0125 - val_loss: 0.0126 - val_acc: 0.9511 - val_mean_squared_error: 0.0126\n",
      "Epoch 95/100\n",
      "60000/60000 [==============================] - 0s 4us/step - loss: 0.0123 - acc: 0.9522 - mean_squared_error: 0.0123 - val_loss: 0.0125 - val_acc: 0.9516 - val_mean_squared_error: 0.0125\n",
      "Epoch 96/100\n",
      "60000/60000 [==============================] - 0s 4us/step - loss: 0.0122 - acc: 0.9529 - mean_squared_error: 0.0122 - val_loss: 0.0125 - val_acc: 0.9516 - val_mean_squared_error: 0.0125\n",
      "Epoch 97/100\n",
      "60000/60000 [==============================] - 0s 4us/step - loss: 0.0122 - acc: 0.9530 - mean_squared_error: 0.0122 - val_loss: 0.0125 - val_acc: 0.9509 - val_mean_squared_error: 0.0125\n",
      "Epoch 98/100\n",
      "60000/60000 [==============================] - 0s 4us/step - loss: 0.0122 - acc: 0.9529 - mean_squared_error: 0.0122 - val_loss: 0.0124 - val_acc: 0.9517 - val_mean_squared_error: 0.0124\n",
      "Epoch 99/100\n",
      "60000/60000 [==============================] - 0s 4us/step - loss: 0.0121 - acc: 0.9532 - mean_squared_error: 0.0121 - val_loss: 0.0123 - val_acc: 0.9519 - val_mean_squared_error: 0.0123\n",
      "Epoch 100/100\n",
      "60000/60000 [==============================] - 0s 4us/step - loss: 0.0121 - acc: 0.9535 - mean_squared_error: 0.0121 - val_loss: 0.0123 - val_acc: 0.9520 - val_mean_squared_error: 0.0123\n"
     ]
    },
    {
     "data": {
      "image/png": "[encoded data removed]",
      "text/plain": [
       "<Figure size 432x288 with 1 Axes>"
      ]
     },
     "metadata": {
      "needs_background": "light"
     },
     "output_type": "display_data"
    },
    {
     "name": "stdout",
     "output_type": "stream",
     "text": [
      "Creating network for 784-dimensional input and 10-dimensional output, with 5 hidden layers\n"
     ]
    }
   ],
   "source": [
    "p = 0.01\n",
    "exp = MNISTExperiment([200, 200, 200, 100, 50], [p, 0, 0, 0, 0], 1, epochs = 100, activation = 'relu', reg_type = 0, do_print = True,\n",
    "                     train_dropout = )"
   ]
  },
  {
   "cell_type": "code",
   "execution_count": 67,
   "metadata": {},
   "outputs": [
    {
     "name": "stderr",
     "output_type": "stream",
     "text": [
      "100%|██████████| 100/100 [00:14<00:00,  6.81it/s]\n"
     ]
    },
    {
     "data": {
      "image/png": "[encoded data removed]",
      "text/plain": [
       "<Figure size 432x288 with 1 Axes>"
      ]
     },
     "metadata": {
      "needs_background": "light"
     },
     "output_type": "display_data"
    },
    {
     "name": "stdout",
     "output_type": "stream",
     "text": [
      "Error; maximal over inputs, average over dropout:\n",
      "True values array mean: 0.094906 variance 0.272316\n",
      "Experiment 0.027967 Std 0.058525\n",
      "Equation   7058.768388 Std 9438.558767\n",
      "Tightness  0.0% Std 0.0%\n"
     ]
    },
    {
     "data": {
      "text/plain": [
       "(0.027967243,\n",
       " 0.058524635,\n",
       " 7058.768387796904,\n",
       " 9438.558767432269,\n",
       " 0.09490564,\n",
       " 0.27231646,\n",
       " array([582.5456867 , 485.30049963, 542.55188751, 442.51224209,\n",
       "        578.91542955, 578.42738262, 615.8305963 , 600.91966687,\n",
       "        555.62431678, 553.94665216]),\n",
       " 0.014234424086902377)"
      ]
     },
     "execution_count": 67,
     "metadata": {},
     "output_type": "execute_result"
    }
   ],
   "source": [
    "exp.run(repetitions = 10000, inputs = 100)"
   ]
  },
  {
   "cell_type": "code",
   "execution_count": 64,
   "metadata": {},
   "outputs": [
    {
     "data": {
      "text/plain": [
       "0.014123350954600801"
      ]
     },
     "execution_count": 64,
     "metadata": {},
     "output_type": "execute_result"
    }
   ],
   "source": [
    "exp.get_mean_bound_v3()"
   ]
  },
  {
   "cell_type": "code",
   "execution_count": 63,
   "metadata": {},
   "outputs": [
    {
     "data": {
      "text/plain": [
       "[0.0, 0.01, 0, 0, 0, 0]"
      ]
     },
     "execution_count": 63,
     "metadata": {},
     "output_type": "execute_result"
    }
   ],
   "source": [
    "exp.P"
   ]
  }
 ],
 "metadata": {
  "kernelspec": {
   "display_name": "Python 3",
   "language": "python",
   "name": "python3"
  },
  "language_info": {
   "codemirror_mode": {
    "name": "ipython",
    "version": 3
   },
   "file_extension": ".py",
   "mimetype": "text/x-python",
   "name": "python",
   "nbconvert_exporter": "python",
   "pygments_lexer": "ipython3",
   "version": "3.6.6"
  }
 },
 "nbformat": 4,
 "nbformat_minor": 2
}
