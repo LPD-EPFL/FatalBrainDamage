{
 "cells": [
  {
   "cell_type": "code",
   "execution_count": 5,
   "metadata": {},
   "outputs": [
    {
     "name": "stdout",
     "output_type": "stream",
     "text": [
      "The autoreload extension is already loaded. To reload it, use:\n",
      "  %reload_ext autoreload\n"
     ]
    }
   ],
   "source": [
    "%load_ext autoreload\n",
    "%autoreload 2\n",
    "\n",
    "import os\n",
    "os.environ[\"CUDA_DEVICE_ORDER\"]=\"PCI_BUS_ID\"   # see issue #152\n",
    "os.environ[\"CUDA_VISIBLE_DEVICES\"]=\"0\"\n",
    "\n",
    "import tensorflow as tf\n",
    "from keras.backend.tensorflow_backend import set_session\n",
    "\n",
    "%matplotlib inline\n",
    "from matplotlib import pyplot as plt\n",
    "import numpy as np\n",
    "from experiment_mnist import *\n",
    "from experiment_constant import *\n",
    "from experiment_random import *\n",
    "from scipy.special import expit"
   ]
  },
  {
   "cell_type": "code",
   "execution_count": 75,
   "metadata": {},
   "outputs": [
    {
     "name": "stdout",
     "output_type": "stream",
     "text": [
      "784 200\n",
      "200 200\n",
      "200 200\n",
      "200 100\n",
      "100 50\n",
      "50 10\n",
      "_________________________________________________________________\n",
      "Layer (type)                 Output Shape              Param #   \n",
      "=================================================================\n",
      "dense_1 (Dense)              (None, 200)               157000    \n",
      "_________________________________________________________________\n",
      "dense_2 (Dense)              (None, 200)               40200     \n",
      "_________________________________________________________________\n",
      "dense_3 (Dense)              (None, 200)               40200     \n",
      "_________________________________________________________________\n",
      "dense_4 (Dense)              (None, 100)               20100     \n",
      "_________________________________________________________________\n",
      "dense_5 (Dense)              (None, 50)                5050      \n",
      "_________________________________________________________________\n",
      "dense_6 (Dense)              (None, 10)                510       \n",
      "=================================================================\n",
      "Total params: 263,060\n",
      "Trainable params: 263,060\n",
      "Non-trainable params: 0\n",
      "_________________________________________________________________\n",
      "Train on 60000 samples, validate on 10000 samples\n",
      "Epoch 1/100\n",
      "60000/60000 [==============================] - 0s 8us/step - loss: 0.1369 - acc: 0.1515 - mean_squared_error: 0.1369 - val_loss: 0.0873 - val_acc: 0.3359 - val_mean_squared_error: 0.0873\n",
      "Epoch 2/100\n",
      "60000/60000 [==============================] - 0s 4us/step - loss: 0.0808 - acc: 0.4071 - mean_squared_error: 0.0808 - val_loss: 0.0725 - val_acc: 0.5265 - val_mean_squared_error: 0.0725\n",
      "Epoch 3/100\n",
      "60000/60000 [==============================] - 0s 4us/step - loss: 0.0703 - acc: 0.5519 - mean_squared_error: 0.0703 - val_loss: 0.0672 - val_acc: 0.6163 - val_mean_squared_error: 0.0672\n",
      "Epoch 4/100\n",
      "60000/60000 [==============================] - 0s 4us/step - loss: 0.0649 - acc: 0.6267 - mean_squared_error: 0.0649 - val_loss: 0.0589 - val_acc: 0.6989 - val_mean_squared_error: 0.0589\n",
      "Epoch 5/100\n",
      "60000/60000 [==============================] - 0s 4us/step - loss: 0.0580 - acc: 0.7063 - mean_squared_error: 0.0580 - val_loss: 0.0552 - val_acc: 0.7339 - val_mean_squared_error: 0.0552\n",
      "Epoch 6/100\n",
      "60000/60000 [==============================] - 0s 4us/step - loss: 0.0541 - acc: 0.7429 - mean_squared_error: 0.0541 - val_loss: 0.0505 - val_acc: 0.7708 - val_mean_squared_error: 0.0505\n",
      "Epoch 7/100\n",
      "60000/60000 [==============================] - 0s 4us/step - loss: 0.0499 - acc: 0.7787 - mean_squared_error: 0.0499 - val_loss: 0.0470 - val_acc: 0.7972 - val_mean_squared_error: 0.0470\n",
      "Epoch 8/100\n",
      "60000/60000 [==============================] - 0s 4us/step - loss: 0.0468 - acc: 0.7973 - mean_squared_error: 0.0468 - val_loss: 0.0448 - val_acc: 0.8039 - val_mean_squared_error: 0.0448\n",
      "Epoch 9/100\n",
      "60000/60000 [==============================] - 0s 4us/step - loss: 0.0445 - acc: 0.8121 - mean_squared_error: 0.0445 - val_loss: 0.0423 - val_acc: 0.8202 - val_mean_squared_error: 0.0423\n",
      "Epoch 10/100\n",
      "60000/60000 [==============================] - 0s 4us/step - loss: 0.0423 - acc: 0.8230 - mean_squared_error: 0.0423 - val_loss: 0.0411 - val_acc: 0.8265 - val_mean_squared_error: 0.0411\n",
      "Epoch 11/100\n",
      "60000/60000 [==============================] - 0s 4us/step - loss: 0.0410 - acc: 0.8286 - mean_squared_error: 0.0410 - val_loss: 0.0383 - val_acc: 0.8451 - val_mean_squared_error: 0.0383\n",
      "Epoch 12/100\n",
      "60000/60000 [==============================] - 0s 4us/step - loss: 0.0379 - acc: 0.8507 - mean_squared_error: 0.0379 - val_loss: 0.0364 - val_acc: 0.8626 - val_mean_squared_error: 0.0364\n",
      "Epoch 13/100\n",
      "60000/60000 [==============================] - 0s 4us/step - loss: 0.0365 - acc: 0.8590 - mean_squared_error: 0.0365 - val_loss: 0.0347 - val_acc: 0.8719 - val_mean_squared_error: 0.0347\n",
      "Epoch 14/100\n",
      "60000/60000 [==============================] - 0s 4us/step - loss: 0.0348 - acc: 0.8674 - mean_squared_error: 0.0348 - val_loss: 0.0330 - val_acc: 0.8795 - val_mean_squared_error: 0.0330\n",
      "Epoch 15/100\n",
      "60000/60000 [==============================] - 0s 4us/step - loss: 0.0333 - acc: 0.8737 - mean_squared_error: 0.0333 - val_loss: 0.0320 - val_acc: 0.8832 - val_mean_squared_error: 0.0320\n",
      "Epoch 16/100\n",
      "60000/60000 [==============================] - 0s 4us/step - loss: 0.0321 - acc: 0.8778 - mean_squared_error: 0.0321 - val_loss: 0.0308 - val_acc: 0.8850 - val_mean_squared_error: 0.0308\n",
      "Epoch 17/100\n",
      "60000/60000 [==============================] - 0s 4us/step - loss: 0.0313 - acc: 0.8793 - mean_squared_error: 0.0313 - val_loss: 0.0298 - val_acc: 0.8895 - val_mean_squared_error: 0.0298\n",
      "Epoch 18/100\n",
      "60000/60000 [==============================] - 0s 4us/step - loss: 0.0300 - acc: 0.8864 - mean_squared_error: 0.0300 - val_loss: 0.0282 - val_acc: 0.8958 - val_mean_squared_error: 0.0282\n",
      "Epoch 19/100\n",
      "60000/60000 [==============================] - 0s 4us/step - loss: 0.0285 - acc: 0.8922 - mean_squared_error: 0.0285 - val_loss: 0.0277 - val_acc: 0.8974 - val_mean_squared_error: 0.0277\n",
      "Epoch 20/100\n",
      "60000/60000 [==============================] - 0s 4us/step - loss: 0.0282 - acc: 0.8939 - mean_squared_error: 0.0282 - val_loss: 0.0269 - val_acc: 0.9008 - val_mean_squared_error: 0.0269\n",
      "Epoch 21/100\n",
      "60000/60000 [==============================] - 0s 4us/step - loss: 0.0272 - acc: 0.8967 - mean_squared_error: 0.0272 - val_loss: 0.0261 - val_acc: 0.9020 - val_mean_squared_error: 0.0261\n",
      "Epoch 22/100\n",
      "60000/60000 [==============================] - 0s 4us/step - loss: 0.0263 - acc: 0.8994 - mean_squared_error: 0.0263 - val_loss: 0.0254 - val_acc: 0.9039 - val_mean_squared_error: 0.0254\n",
      "Epoch 23/100\n",
      "60000/60000 [==============================] - 0s 4us/step - loss: 0.0256 - acc: 0.9017 - mean_squared_error: 0.0256 - val_loss: 0.0248 - val_acc: 0.9062 - val_mean_squared_error: 0.0248\n",
      "Epoch 24/100\n",
      "60000/60000 [==============================] - 0s 4us/step - loss: 0.0251 - acc: 0.9022 - mean_squared_error: 0.0251 - val_loss: 0.0242 - val_acc: 0.9072 - val_mean_squared_error: 0.0242\n",
      "Epoch 25/100\n",
      "60000/60000 [==============================] - 0s 4us/step - loss: 0.0243 - acc: 0.9055 - mean_squared_error: 0.0243 - val_loss: 0.0233 - val_acc: 0.9099 - val_mean_squared_error: 0.0233\n",
      "Epoch 26/100\n",
      "60000/60000 [==============================] - 0s 4us/step - loss: 0.0236 - acc: 0.9070 - mean_squared_error: 0.0236 - val_loss: 0.0229 - val_acc: 0.9112 - val_mean_squared_error: 0.0229\n",
      "Epoch 27/100\n",
      "60000/60000 [==============================] - 0s 4us/step - loss: 0.0231 - acc: 0.9089 - mean_squared_error: 0.0231 - val_loss: 0.0224 - val_acc: 0.9130 - val_mean_squared_error: 0.0224\n",
      "Epoch 28/100\n",
      "60000/60000 [==============================] - 0s 4us/step - loss: 0.0226 - acc: 0.9106 - mean_squared_error: 0.0226 - val_loss: 0.0220 - val_acc: 0.9143 - val_mean_squared_error: 0.0220\n",
      "Epoch 29/100\n",
      "60000/60000 [==============================] - 0s 4us/step - loss: 0.0220 - acc: 0.9140 - mean_squared_error: 0.0220 - val_loss: 0.0210 - val_acc: 0.9177 - val_mean_squared_error: 0.0210\n",
      "Epoch 30/100\n",
      "60000/60000 [==============================] - 0s 4us/step - loss: 0.0213 - acc: 0.9161 - mean_squared_error: 0.0213 - val_loss: 0.0207 - val_acc: 0.9208 - val_mean_squared_error: 0.0207\n",
      "Epoch 31/100\n",
      "60000/60000 [==============================] - 0s 4us/step - loss: 0.0211 - acc: 0.9166 - mean_squared_error: 0.0211 - val_loss: 0.0206 - val_acc: 0.9210 - val_mean_squared_error: 0.0206\n",
      "Epoch 32/100\n",
      "60000/60000 [==============================] - 0s 4us/step - loss: 0.0208 - acc: 0.9176 - mean_squared_error: 0.0208 - val_loss: 0.0202 - val_acc: 0.9221 - val_mean_squared_error: 0.0202\n",
      "Epoch 33/100\n",
      "60000/60000 [==============================] - 0s 4us/step - loss: 0.0205 - acc: 0.9187 - mean_squared_error: 0.0205 - val_loss: 0.0199 - val_acc: 0.9225 - val_mean_squared_error: 0.0199\n",
      "Epoch 34/100\n",
      "60000/60000 [==============================] - 0s 4us/step - loss: 0.0203 - acc: 0.9195 - mean_squared_error: 0.0203 - val_loss: 0.0198 - val_acc: 0.9225 - val_mean_squared_error: 0.0198\n",
      "Epoch 35/100\n",
      "60000/60000 [==============================] - 0s 4us/step - loss: 0.0197 - acc: 0.9214 - mean_squared_error: 0.0197 - val_loss: 0.0190 - val_acc: 0.9252 - val_mean_squared_error: 0.0190\n"
     ]
    },
    {
     "name": "stdout",
     "output_type": "stream",
     "text": [
      "Epoch 36/100\n",
      "60000/60000 [==============================] - 0s 4us/step - loss: 0.0192 - acc: 0.9229 - mean_squared_error: 0.0192 - val_loss: 0.0189 - val_acc: 0.9253 - val_mean_squared_error: 0.0189\n",
      "Epoch 37/100\n",
      "60000/60000 [==============================] - 0s 4us/step - loss: 0.0190 - acc: 0.9236 - mean_squared_error: 0.0190 - val_loss: 0.0187 - val_acc: 0.9258 - val_mean_squared_error: 0.0187\n",
      "Epoch 38/100\n",
      "60000/60000 [==============================] - 0s 4us/step - loss: 0.0188 - acc: 0.9244 - mean_squared_error: 0.0188 - val_loss: 0.0183 - val_acc: 0.9263 - val_mean_squared_error: 0.0183\n",
      "Epoch 39/100\n",
      "60000/60000 [==============================] - 0s 4us/step - loss: 0.0185 - acc: 0.9259 - mean_squared_error: 0.0185 - val_loss: 0.0180 - val_acc: 0.9280 - val_mean_squared_error: 0.0180\n",
      "Epoch 40/100\n",
      "60000/60000 [==============================] - 0s 4us/step - loss: 0.0181 - acc: 0.9260 - mean_squared_error: 0.0181 - val_loss: 0.0177 - val_acc: 0.9286 - val_mean_squared_error: 0.0177\n",
      "Epoch 41/100\n",
      "60000/60000 [==============================] - 0s 4us/step - loss: 0.0178 - acc: 0.9278 - mean_squared_error: 0.0178 - val_loss: 0.0174 - val_acc: 0.9291 - val_mean_squared_error: 0.0174\n",
      "Epoch 42/100\n",
      "60000/60000 [==============================] - 0s 4us/step - loss: 0.0175 - acc: 0.9287 - mean_squared_error: 0.0175 - val_loss: 0.0172 - val_acc: 0.9302 - val_mean_squared_error: 0.0172\n",
      "Epoch 43/100\n",
      "60000/60000 [==============================] - 0s 4us/step - loss: 0.0173 - acc: 0.9298 - mean_squared_error: 0.0173 - val_loss: 0.0169 - val_acc: 0.9307 - val_mean_squared_error: 0.0169\n",
      "Epoch 44/100\n",
      "60000/60000 [==============================] - 0s 4us/step - loss: 0.0170 - acc: 0.9302 - mean_squared_error: 0.0170 - val_loss: 0.0167 - val_acc: 0.9316 - val_mean_squared_error: 0.0167\n",
      "Epoch 45/100\n",
      "60000/60000 [==============================] - 0s 4us/step - loss: 0.0169 - acc: 0.9315 - mean_squared_error: 0.0169 - val_loss: 0.0168 - val_acc: 0.9308 - val_mean_squared_error: 0.0168\n",
      "Epoch 46/100\n",
      "60000/60000 [==============================] - 0s 4us/step - loss: 0.0168 - acc: 0.9320 - mean_squared_error: 0.0168 - val_loss: 0.0166 - val_acc: 0.9313 - val_mean_squared_error: 0.0166\n",
      "Epoch 47/100\n",
      "60000/60000 [==============================] - 0s 4us/step - loss: 0.0166 - acc: 0.9324 - mean_squared_error: 0.0166 - val_loss: 0.0164 - val_acc: 0.9326 - val_mean_squared_error: 0.0164\n",
      "Epoch 48/100\n",
      "60000/60000 [==============================] - 0s 4us/step - loss: 0.0164 - acc: 0.9328 - mean_squared_error: 0.0164 - val_loss: 0.0162 - val_acc: 0.9323 - val_mean_squared_error: 0.0162\n",
      "Epoch 49/100\n",
      "60000/60000 [==============================] - 0s 4us/step - loss: 0.0163 - acc: 0.9338 - mean_squared_error: 0.0163 - val_loss: 0.0161 - val_acc: 0.9328 - val_mean_squared_error: 0.0161\n",
      "Epoch 50/100\n",
      "60000/60000 [==============================] - 0s 4us/step - loss: 0.0160 - acc: 0.9340 - mean_squared_error: 0.0160 - val_loss: 0.0158 - val_acc: 0.9334 - val_mean_squared_error: 0.0158\n",
      "Epoch 51/100\n",
      "60000/60000 [==============================] - 0s 4us/step - loss: 0.0158 - acc: 0.9356 - mean_squared_error: 0.0158 - val_loss: 0.0155 - val_acc: 0.9347 - val_mean_squared_error: 0.0155\n",
      "Epoch 52/100\n",
      "60000/60000 [==============================] - 0s 4us/step - loss: 0.0155 - acc: 0.9364 - mean_squared_error: 0.0155 - val_loss: 0.0153 - val_acc: 0.9355 - val_mean_squared_error: 0.0153\n",
      "Epoch 53/100\n",
      "60000/60000 [==============================] - 0s 4us/step - loss: 0.0153 - acc: 0.9370 - mean_squared_error: 0.0153 - val_loss: 0.0152 - val_acc: 0.9360 - val_mean_squared_error: 0.0152\n",
      "Epoch 54/100\n",
      "60000/60000 [==============================] - 0s 4us/step - loss: 0.0151 - acc: 0.9375 - mean_squared_error: 0.0151 - val_loss: 0.0151 - val_acc: 0.9356 - val_mean_squared_error: 0.0151\n",
      "Epoch 55/100\n",
      "60000/60000 [==============================] - 0s 4us/step - loss: 0.0150 - acc: 0.9377 - mean_squared_error: 0.0150 - val_loss: 0.0150 - val_acc: 0.9363 - val_mean_squared_error: 0.0150\n",
      "Epoch 56/100\n",
      "60000/60000 [==============================] - 0s 4us/step - loss: 0.0149 - acc: 0.9382 - mean_squared_error: 0.0149 - val_loss: 0.0148 - val_acc: 0.9374 - val_mean_squared_error: 0.0148\n",
      "Epoch 57/100\n",
      "60000/60000 [==============================] - 0s 4us/step - loss: 0.0146 - acc: 0.9391 - mean_squared_error: 0.0146 - val_loss: 0.0146 - val_acc: 0.9383 - val_mean_squared_error: 0.0146\n",
      "Epoch 58/100\n",
      "60000/60000 [==============================] - 0s 4us/step - loss: 0.0145 - acc: 0.9399 - mean_squared_error: 0.0145 - val_loss: 0.0144 - val_acc: 0.9389 - val_mean_squared_error: 0.0144\n",
      "Epoch 59/100\n",
      "60000/60000 [==============================] - 0s 4us/step - loss: 0.0143 - acc: 0.9404 - mean_squared_error: 0.0143 - val_loss: 0.0144 - val_acc: 0.9396 - val_mean_squared_error: 0.0144\n",
      "Epoch 60/100\n",
      "60000/60000 [==============================] - 0s 4us/step - loss: 0.0143 - acc: 0.9407 - mean_squared_error: 0.0143 - val_loss: 0.0143 - val_acc: 0.9398 - val_mean_squared_error: 0.0143\n",
      "Epoch 61/100\n",
      "60000/60000 [==============================] - 0s 4us/step - loss: 0.0142 - acc: 0.9409 - mean_squared_error: 0.0142 - val_loss: 0.0144 - val_acc: 0.9396 - val_mean_squared_error: 0.0144\n",
      "Epoch 62/100\n",
      "60000/60000 [==============================] - 0s 4us/step - loss: 0.0142 - acc: 0.9412 - mean_squared_error: 0.0142 - val_loss: 0.0143 - val_acc: 0.9400 - val_mean_squared_error: 0.0143\n",
      "Epoch 63/100\n",
      "60000/60000 [==============================] - 0s 4us/step - loss: 0.0141 - acc: 0.9419 - mean_squared_error: 0.0141 - val_loss: 0.0141 - val_acc: 0.9404 - val_mean_squared_error: 0.0141\n",
      "Epoch 64/100\n",
      "60000/60000 [==============================] - 0s 4us/step - loss: 0.0139 - acc: 0.9428 - mean_squared_error: 0.0139 - val_loss: 0.0139 - val_acc: 0.9418 - val_mean_squared_error: 0.0139\n",
      "Epoch 65/100\n",
      "60000/60000 [==============================] - 0s 4us/step - loss: 0.0137 - acc: 0.9435 - mean_squared_error: 0.0137 - val_loss: 0.0138 - val_acc: 0.9417 - val_mean_squared_error: 0.0138\n",
      "Epoch 66/100\n",
      "60000/60000 [==============================] - 0s 4us/step - loss: 0.0137 - acc: 0.9433 - mean_squared_error: 0.0137 - val_loss: 0.0138 - val_acc: 0.9425 - val_mean_squared_error: 0.0138\n",
      "Epoch 67/100\n",
      "60000/60000 [==============================] - 0s 4us/step - loss: 0.0136 - acc: 0.9438 - mean_squared_error: 0.0136 - val_loss: 0.0137 - val_acc: 0.9423 - val_mean_squared_error: 0.0137\n",
      "Epoch 68/100\n",
      "60000/60000 [==============================] - 0s 4us/step - loss: 0.0135 - acc: 0.9438 - mean_squared_error: 0.0135 - val_loss: 0.0135 - val_acc: 0.9433 - val_mean_squared_error: 0.0135\n",
      "Epoch 69/100\n",
      "60000/60000 [==============================] - 0s 4us/step - loss: 0.0133 - acc: 0.9449 - mean_squared_error: 0.0133 - val_loss: 0.0133 - val_acc: 0.9431 - val_mean_squared_error: 0.0133\n",
      "Epoch 70/100\n",
      "60000/60000 [==============================] - 0s 4us/step - loss: 0.0131 - acc: 0.9456 - mean_squared_error: 0.0131 - val_loss: 0.0133 - val_acc: 0.9437 - val_mean_squared_error: 0.0133\n",
      "Epoch 71/100\n",
      "60000/60000 [==============================] - 0s 4us/step - loss: 0.0130 - acc: 0.9457 - mean_squared_error: 0.0130 - val_loss: 0.0132 - val_acc: 0.9441 - val_mean_squared_error: 0.0132\n",
      "Epoch 72/100\n",
      "60000/60000 [==============================] - 0s 4us/step - loss: 0.0129 - acc: 0.9458 - mean_squared_error: 0.0129 - val_loss: 0.0130 - val_acc: 0.9444 - val_mean_squared_error: 0.0130\n",
      "Epoch 73/100\n",
      "60000/60000 [==============================] - 0s 4us/step - loss: 0.0128 - acc: 0.9463 - mean_squared_error: 0.0128 - val_loss: 0.0130 - val_acc: 0.9446 - val_mean_squared_error: 0.0130\n",
      "Epoch 74/100\n",
      "60000/60000 [==============================] - 0s 4us/step - loss: 0.0128 - acc: 0.9464 - mean_squared_error: 0.0128 - val_loss: 0.0130 - val_acc: 0.9455 - val_mean_squared_error: 0.0130\n",
      "Epoch 75/100\n",
      "60000/60000 [==============================] - 0s 4us/step - loss: 0.0127 - acc: 0.9470 - mean_squared_error: 0.0127 - val_loss: 0.0128 - val_acc: 0.9456 - val_mean_squared_error: 0.0128\n",
      "Epoch 76/100\n",
      "60000/60000 [==============================] - 0s 4us/step - loss: 0.0126 - acc: 0.9475 - mean_squared_error: 0.0126 - val_loss: 0.0127 - val_acc: 0.9462 - val_mean_squared_error: 0.0127\n"
     ]
    },
    {
     "name": "stdout",
     "output_type": "stream",
     "text": [
      "Epoch 77/100\n",
      "60000/60000 [==============================] - 0s 4us/step - loss: 0.0125 - acc: 0.9475 - mean_squared_error: 0.0125 - val_loss: 0.0127 - val_acc: 0.9464 - val_mean_squared_error: 0.0127\n",
      "Epoch 78/100\n",
      "60000/60000 [==============================] - 0s 4us/step - loss: 0.0124 - acc: 0.9482 - mean_squared_error: 0.0124 - val_loss: 0.0126 - val_acc: 0.9469 - val_mean_squared_error: 0.0126\n",
      "Epoch 79/100\n",
      "60000/60000 [==============================] - 0s 4us/step - loss: 0.0123 - acc: 0.9485 - mean_squared_error: 0.0123 - val_loss: 0.0125 - val_acc: 0.9469 - val_mean_squared_error: 0.0125\n",
      "Epoch 80/100\n",
      "60000/60000 [==============================] - 0s 4us/step - loss: 0.0122 - acc: 0.9490 - mean_squared_error: 0.0122 - val_loss: 0.0124 - val_acc: 0.9469 - val_mean_squared_error: 0.0124\n",
      "Epoch 81/100\n",
      "60000/60000 [==============================] - 0s 4us/step - loss: 0.0121 - acc: 0.9488 - mean_squared_error: 0.0121 - val_loss: 0.0123 - val_acc: 0.9476 - val_mean_squared_error: 0.0123\n",
      "Epoch 82/100\n",
      "60000/60000 [==============================] - 0s 4us/step - loss: 0.0120 - acc: 0.9497 - mean_squared_error: 0.0120 - val_loss: 0.0122 - val_acc: 0.9476 - val_mean_squared_error: 0.0122\n",
      "Epoch 83/100\n",
      "60000/60000 [==============================] - 0s 4us/step - loss: 0.0119 - acc: 0.9502 - mean_squared_error: 0.0119 - val_loss: 0.0121 - val_acc: 0.9484 - val_mean_squared_error: 0.0121\n",
      "Epoch 84/100\n",
      "60000/60000 [==============================] - 0s 4us/step - loss: 0.0118 - acc: 0.9508 - mean_squared_error: 0.0118 - val_loss: 0.0120 - val_acc: 0.9486 - val_mean_squared_error: 0.0120\n",
      "Epoch 85/100\n",
      "60000/60000 [==============================] - 0s 4us/step - loss: 0.0117 - acc: 0.9511 - mean_squared_error: 0.0117 - val_loss: 0.0120 - val_acc: 0.9480 - val_mean_squared_error: 0.0120\n",
      "Epoch 86/100\n",
      "60000/60000 [==============================] - 0s 4us/step - loss: 0.0116 - acc: 0.9516 - mean_squared_error: 0.0116 - val_loss: 0.0119 - val_acc: 0.9481 - val_mean_squared_error: 0.0119\n",
      "Epoch 87/100\n",
      "60000/60000 [==============================] - 0s 4us/step - loss: 0.0116 - acc: 0.9518 - mean_squared_error: 0.0116 - val_loss: 0.0119 - val_acc: 0.9474 - val_mean_squared_error: 0.0119\n",
      "Epoch 88/100\n",
      "60000/60000 [==============================] - 0s 4us/step - loss: 0.0115 - acc: 0.9520 - mean_squared_error: 0.0115 - val_loss: 0.0118 - val_acc: 0.9486 - val_mean_squared_error: 0.0118\n",
      "Epoch 89/100\n",
      "60000/60000 [==============================] - 0s 4us/step - loss: 0.0114 - acc: 0.9524 - mean_squared_error: 0.0114 - val_loss: 0.0118 - val_acc: 0.9496 - val_mean_squared_error: 0.0118\n",
      "Epoch 90/100\n",
      "60000/60000 [==============================] - 0s 4us/step - loss: 0.0114 - acc: 0.9526 - mean_squared_error: 0.0114 - val_loss: 0.0117 - val_acc: 0.9484 - val_mean_squared_error: 0.0117\n",
      "Epoch 91/100\n",
      "60000/60000 [==============================] - 0s 4us/step - loss: 0.0113 - acc: 0.9529 - mean_squared_error: 0.0113 - val_loss: 0.0116 - val_acc: 0.9492 - val_mean_squared_error: 0.0116\n",
      "Epoch 92/100\n",
      "60000/60000 [==============================] - 0s 4us/step - loss: 0.0112 - acc: 0.9529 - mean_squared_error: 0.0112 - val_loss: 0.0115 - val_acc: 0.9491 - val_mean_squared_error: 0.0115\n",
      "Epoch 93/100\n",
      "60000/60000 [==============================] - 0s 4us/step - loss: 0.0111 - acc: 0.9536 - mean_squared_error: 0.0111 - val_loss: 0.0115 - val_acc: 0.9496 - val_mean_squared_error: 0.0115\n",
      "Epoch 94/100\n",
      "60000/60000 [==============================] - 0s 4us/step - loss: 0.0111 - acc: 0.9536 - mean_squared_error: 0.0111 - val_loss: 0.0114 - val_acc: 0.9504 - val_mean_squared_error: 0.0114\n",
      "Epoch 95/100\n",
      "60000/60000 [==============================] - 0s 4us/step - loss: 0.0111 - acc: 0.9537 - mean_squared_error: 0.0111 - val_loss: 0.0115 - val_acc: 0.9502 - val_mean_squared_error: 0.0115\n",
      "Epoch 96/100\n",
      "60000/60000 [==============================] - 0s 4us/step - loss: 0.0111 - acc: 0.9536 - mean_squared_error: 0.0111 - val_loss: 0.0115 - val_acc: 0.9490 - val_mean_squared_error: 0.0115\n",
      "Epoch 97/100\n",
      "60000/60000 [==============================] - 0s 4us/step - loss: 0.0110 - acc: 0.9539 - mean_squared_error: 0.0110 - val_loss: 0.0114 - val_acc: 0.9505 - val_mean_squared_error: 0.0114\n",
      "Epoch 98/100\n",
      "60000/60000 [==============================] - 0s 4us/step - loss: 0.0109 - acc: 0.9544 - mean_squared_error: 0.0109 - val_loss: 0.0113 - val_acc: 0.9510 - val_mean_squared_error: 0.0113\n",
      "Epoch 99/100\n",
      "60000/60000 [==============================] - 0s 4us/step - loss: 0.0108 - acc: 0.9548 - mean_squared_error: 0.0108 - val_loss: 0.0112 - val_acc: 0.9510 - val_mean_squared_error: 0.0112\n",
      "Epoch 100/100\n",
      "60000/60000 [==============================] - 0s 4us/step - loss: 0.0107 - acc: 0.9547 - mean_squared_error: 0.0107 - val_loss: 0.0111 - val_acc: 0.9510 - val_mean_squared_error: 0.0111\n"
     ]
    },
    {
     "data": {
      "image/png": "[encoded data removed]",
      "text/plain": [
       "<Figure size 432x288 with 1 Axes>"
      ]
     },
     "metadata": {
      "needs_background": "light"
     },
     "output_type": "display_data"
    },
    {
     "name": "stdout",
     "output_type": "stream",
     "text": [
      "Creating network for 784-dimensional input and 10-dimensional output, with 5 hidden layers\n"
     ]
    },
    {
     "data": {
      "image/png": "[encoded data removed]",
      "text/plain": [
       "<Figure size 432x288 with 1 Axes>"
      ]
     },
     "metadata": {
      "needs_background": "light"
     },
     "output_type": "display_data"
    },
    {
     "name": "stdout",
     "output_type": "stream",
     "text": [
      "Error; maximal over inputs, average over dropout:\n",
      "True values array mean: 0.099750 variance 0.288583\n",
      "Experiment 0.130296 Std 0.116256\n",
      "Equation   60875.430784 Std 65343.993648\n",
      "Tightness  0.0% Std 0.0%\n",
      "784 200\n",
      "200 200\n",
      "200 200\n",
      "200 100\n",
      "100 50\n",
      "50 10\n",
      "_________________________________________________________________\n",
      "Layer (type)                 Output Shape              Param #   \n",
      "=================================================================\n",
      "dense_1 (Dense)              (None, 200)               157000    \n",
      "_________________________________________________________________\n",
      "lambda_1 (Lambda)            (None, 200)               0         \n",
      "_________________________________________________________________\n",
      "dense_2 (Dense)              (None, 200)               40200     \n",
      "_________________________________________________________________\n",
      "dense_3 (Dense)              (None, 200)               40200     \n",
      "_________________________________________________________________\n",
      "dense_4 (Dense)              (None, 100)               20100     \n",
      "_________________________________________________________________\n",
      "dense_5 (Dense)              (None, 50)                5050      \n",
      "_________________________________________________________________\n",
      "dense_6 (Dense)              (None, 10)                510       \n",
      "=================================================================\n",
      "Total params: 263,060\n",
      "Trainable params: 263,060\n",
      "Non-trainable params: 0\n",
      "_________________________________________________________________\n",
      "Train on 60000 samples, validate on 10000 samples\n",
      "Epoch 1/100\n",
      "60000/60000 [==============================] - 1s 9us/step - loss: 0.1468 - acc: 0.1261 - mean_squared_error: 0.1468 - val_loss: 0.0890 - val_acc: 0.2816 - val_mean_squared_error: 0.0890\n",
      "Epoch 2/100\n",
      "60000/60000 [==============================] - 0s 4us/step - loss: 0.0837 - acc: 0.3752 - mean_squared_error: 0.0837 - val_loss: 0.0758 - val_acc: 0.5042 - val_mean_squared_error: 0.0758\n",
      "Epoch 3/100\n",
      "60000/60000 [==============================] - 0s 4us/step - loss: 0.0725 - acc: 0.5525 - mean_squared_error: 0.0725 - val_loss: 0.0667 - val_acc: 0.6250 - val_mean_squared_error: 0.0667\n",
      "Epoch 4/100\n",
      "60000/60000 [==============================] - 0s 4us/step - loss: 0.0646 - acc: 0.6477 - mean_squared_error: 0.0646 - val_loss: 0.0603 - val_acc: 0.6955 - val_mean_squared_error: 0.0603\n",
      "Epoch 5/100\n",
      "60000/60000 [==============================] - 0s 4us/step - loss: 0.0606 - acc: 0.6896 - mean_squared_error: 0.0606 - val_loss: 0.0596 - val_acc: 0.7086 - val_mean_squared_error: 0.0596\n",
      "Epoch 6/100\n",
      "60000/60000 [==============================] - 0s 4us/step - loss: 0.0568 - acc: 0.7199 - mean_squared_error: 0.0568 - val_loss: 0.0530 - val_acc: 0.7575 - val_mean_squared_error: 0.0530\n",
      "Epoch 7/100\n",
      "60000/60000 [==============================] - 0s 4us/step - loss: 0.0525 - acc: 0.7519 - mean_squared_error: 0.0525 - val_loss: 0.0502 - val_acc: 0.7782 - val_mean_squared_error: 0.0502\n",
      "Epoch 8/100\n",
      "60000/60000 [==============================] - 0s 4us/step - loss: 0.0494 - acc: 0.7734 - mean_squared_error: 0.0494 - val_loss: 0.0473 - val_acc: 0.7972 - val_mean_squared_error: 0.0473\n",
      "Epoch 9/100\n",
      "60000/60000 [==============================] - 0s 4us/step - loss: 0.0469 - acc: 0.7894 - mean_squared_error: 0.0469 - val_loss: 0.0447 - val_acc: 0.8180 - val_mean_squared_error: 0.0447\n",
      "Epoch 10/100\n",
      "60000/60000 [==============================] - 0s 4us/step - loss: 0.0441 - acc: 0.8087 - mean_squared_error: 0.0441 - val_loss: 0.0419 - val_acc: 0.8339 - val_mean_squared_error: 0.0419\n",
      "Epoch 11/100\n",
      "60000/60000 [==============================] - 0s 4us/step - loss: 0.0423 - acc: 0.8211 - mean_squared_error: 0.0423 - val_loss: 0.0410 - val_acc: 0.8383 - val_mean_squared_error: 0.0410\n",
      "Epoch 12/100\n",
      "60000/60000 [==============================] - 0s 4us/step - loss: 0.0409 - acc: 0.8291 - mean_squared_error: 0.0409 - val_loss: 0.0392 - val_acc: 0.8437 - val_mean_squared_error: 0.0392\n",
      "Epoch 13/100\n",
      "60000/60000 [==============================] - 0s 4us/step - loss: 0.0411 - acc: 0.8270 - mean_squared_error: 0.0411 - val_loss: 0.0401 - val_acc: 0.8306 - val_mean_squared_error: 0.0401\n",
      "Epoch 14/100\n",
      "60000/60000 [==============================] - 0s 4us/step - loss: 0.0386 - acc: 0.8413 - mean_squared_error: 0.0386 - val_loss: 0.0359 - val_acc: 0.8531 - val_mean_squared_error: 0.0359\n",
      "Epoch 15/100\n",
      "60000/60000 [==============================] - 0s 4us/step - loss: 0.0365 - acc: 0.8510 - mean_squared_error: 0.0365 - val_loss: 0.0352 - val_acc: 0.8528 - val_mean_squared_error: 0.0352\n",
      "Epoch 16/100\n",
      "60000/60000 [==============================] - 0s 4us/step - loss: 0.0353 - acc: 0.8559 - mean_squared_error: 0.0353 - val_loss: 0.0338 - val_acc: 0.8616 - val_mean_squared_error: 0.0338\n",
      "Epoch 17/100\n",
      "60000/60000 [==============================] - 0s 4us/step - loss: 0.0339 - acc: 0.8622 - mean_squared_error: 0.0339 - val_loss: 0.0326 - val_acc: 0.8691 - val_mean_squared_error: 0.0326\n",
      "Epoch 18/100\n",
      "60000/60000 [==============================] - 0s 4us/step - loss: 0.0328 - acc: 0.8679 - mean_squared_error: 0.0328 - val_loss: 0.0318 - val_acc: 0.8724 - val_mean_squared_error: 0.0318\n",
      "Epoch 19/100\n",
      "60000/60000 [==============================] - 0s 4us/step - loss: 0.0318 - acc: 0.8725 - mean_squared_error: 0.0318 - val_loss: 0.0306 - val_acc: 0.8789 - val_mean_squared_error: 0.0306\n",
      "Epoch 20/100\n",
      "60000/60000 [==============================] - 0s 4us/step - loss: 0.0308 - acc: 0.8759 - mean_squared_error: 0.0308 - val_loss: 0.0293 - val_acc: 0.8848 - val_mean_squared_error: 0.0293\n",
      "Epoch 21/100\n",
      "60000/60000 [==============================] - 0s 4us/step - loss: 0.0297 - acc: 0.8815 - mean_squared_error: 0.0297 - val_loss: 0.0286 - val_acc: 0.8895 - val_mean_squared_error: 0.0286\n",
      "Epoch 22/100\n",
      "60000/60000 [==============================] - 0s 4us/step - loss: 0.0295 - acc: 0.8823 - mean_squared_error: 0.0295 - val_loss: 0.0299 - val_acc: 0.8876 - val_mean_squared_error: 0.0299\n",
      "Epoch 23/100\n",
      "60000/60000 [==============================] - 0s 4us/step - loss: 0.0299 - acc: 0.8821 - mean_squared_error: 0.0299 - val_loss: 0.0281 - val_acc: 0.8957 - val_mean_squared_error: 0.0281\n",
      "Epoch 24/100\n",
      "60000/60000 [==============================] - 0s 4us/step - loss: 0.0281 - acc: 0.8884 - mean_squared_error: 0.0281 - val_loss: 0.0266 - val_acc: 0.8995 - val_mean_squared_error: 0.0266\n",
      "Epoch 25/100\n",
      "60000/60000 [==============================] - 0s 4us/step - loss: 0.0271 - acc: 0.8919 - mean_squared_error: 0.0271 - val_loss: 0.0264 - val_acc: 0.8999 - val_mean_squared_error: 0.0264\n",
      "Epoch 26/100\n",
      "60000/60000 [==============================] - 0s 4us/step - loss: 0.0269 - acc: 0.8937 - mean_squared_error: 0.0269 - val_loss: 0.0259 - val_acc: 0.9001 - val_mean_squared_error: 0.0259\n",
      "Epoch 27/100\n",
      "60000/60000 [==============================] - 0s 4us/step - loss: 0.0261 - acc: 0.8967 - mean_squared_error: 0.0261 - val_loss: 0.0251 - val_acc: 0.9031 - val_mean_squared_error: 0.0251\n",
      "Epoch 28/100\n",
      "60000/60000 [==============================] - 0s 4us/step - loss: 0.0253 - acc: 0.8991 - mean_squared_error: 0.0253 - val_loss: 0.0243 - val_acc: 0.9060 - val_mean_squared_error: 0.0243\n",
      "Epoch 29/100\n",
      "60000/60000 [==============================] - 0s 4us/step - loss: 0.0250 - acc: 0.9002 - mean_squared_error: 0.0250 - val_loss: 0.0244 - val_acc: 0.9061 - val_mean_squared_error: 0.0244\n",
      "Epoch 30/100\n",
      "60000/60000 [==============================] - 0s 4us/step - loss: 0.0246 - acc: 0.9019 - mean_squared_error: 0.0246 - val_loss: 0.0240 - val_acc: 0.9052 - val_mean_squared_error: 0.0240\n",
      "Epoch 31/100\n",
      "60000/60000 [==============================] - 0s 4us/step - loss: 0.0242 - acc: 0.9040 - mean_squared_error: 0.0242 - val_loss: 0.0234 - val_acc: 0.9080 - val_mean_squared_error: 0.0234\n",
      "Epoch 32/100\n",
      "60000/60000 [==============================] - 0s 4us/step - loss: 0.0240 - acc: 0.9051 - mean_squared_error: 0.0240 - val_loss: 0.0236 - val_acc: 0.9079 - val_mean_squared_error: 0.0236\n",
      "Epoch 33/100\n",
      "60000/60000 [==============================] - 0s 4us/step - loss: 0.0239 - acc: 0.9061 - mean_squared_error: 0.0239 - val_loss: 0.0233 - val_acc: 0.9079 - val_mean_squared_error: 0.0233\n",
      "Epoch 34/100\n",
      "60000/60000 [==============================] - 0s 4us/step - loss: 0.0236 - acc: 0.9066 - mean_squared_error: 0.0236 - val_loss: 0.0227 - val_acc: 0.9094 - val_mean_squared_error: 0.0227\n",
      "Epoch 35/100\n",
      "60000/60000 [==============================] - 0s 4us/step - loss: 0.0228 - acc: 0.9097 - mean_squared_error: 0.0228 - val_loss: 0.0222 - val_acc: 0.9111 - val_mean_squared_error: 0.0222\n",
      "Epoch 36/100\n",
      "60000/60000 [==============================] - 0s 4us/step - loss: 0.0225 - acc: 0.9113 - mean_squared_error: 0.0225 - val_loss: 0.0219 - val_acc: 0.9123 - val_mean_squared_error: 0.0219\n",
      "Epoch 37/100\n",
      "60000/60000 [==============================] - 0s 4us/step - loss: 0.0223 - acc: 0.9128 - mean_squared_error: 0.0223 - val_loss: 0.0217 - val_acc: 0.9145 - val_mean_squared_error: 0.0217\n",
      "Epoch 38/100\n",
      "60000/60000 [==============================] - 0s 4us/step - loss: 0.0217 - acc: 0.9145 - mean_squared_error: 0.0217 - val_loss: 0.0211 - val_acc: 0.9151 - val_mean_squared_error: 0.0211\n",
      "Epoch 39/100\n",
      "60000/60000 [==============================] - 0s 4us/step - loss: 0.0213 - acc: 0.9150 - mean_squared_error: 0.0213 - val_loss: 0.0208 - val_acc: 0.9171 - val_mean_squared_error: 0.0208\n",
      "Epoch 40/100\n",
      "60000/60000 [==============================] - 0s 4us/step - loss: 0.0211 - acc: 0.9157 - mean_squared_error: 0.0211 - val_loss: 0.0206 - val_acc: 0.9171 - val_mean_squared_error: 0.0206\n",
      "Epoch 41/100\n",
      "60000/60000 [==============================] - 0s 4us/step - loss: 0.0207 - acc: 0.9177 - mean_squared_error: 0.0207 - val_loss: 0.0202 - val_acc: 0.9200 - val_mean_squared_error: 0.0202\n",
      "Epoch 42/100\n",
      "60000/60000 [==============================] - 0s 4us/step - loss: 0.0207 - acc: 0.9172 - mean_squared_error: 0.0207 - val_loss: 0.0203 - val_acc: 0.9195 - val_mean_squared_error: 0.0203\n",
      "Epoch 43/100\n",
      "60000/60000 [==============================] - 0s 4us/step - loss: 0.0206 - acc: 0.9182 - mean_squared_error: 0.0206 - val_loss: 0.0201 - val_acc: 0.9202 - val_mean_squared_error: 0.0201\n",
      "Epoch 44/100\n",
      "60000/60000 [==============================] - 0s 4us/step - loss: 0.0203 - acc: 0.9195 - mean_squared_error: 0.0203 - val_loss: 0.0198 - val_acc: 0.9215 - val_mean_squared_error: 0.0198\n",
      "Epoch 45/100\n",
      "60000/60000 [==============================] - 0s 4us/step - loss: 0.0200 - acc: 0.9200 - mean_squared_error: 0.0200 - val_loss: 0.0196 - val_acc: 0.9227 - val_mean_squared_error: 0.0196\n",
      "Epoch 46/100\n",
      "60000/60000 [==============================] - 0s 4us/step - loss: 0.0196 - acc: 0.9228 - mean_squared_error: 0.0196 - val_loss: 0.0191 - val_acc: 0.9244 - val_mean_squared_error: 0.0191\n",
      "Epoch 47/100\n",
      "60000/60000 [==============================] - 0s 4us/step - loss: 0.0194 - acc: 0.9234 - mean_squared_error: 0.0194 - val_loss: 0.0191 - val_acc: 0.9234 - val_mean_squared_error: 0.0191\n",
      "Epoch 48/100\n",
      "60000/60000 [==============================] - 0s 4us/step - loss: 0.0194 - acc: 0.9230 - mean_squared_error: 0.0194 - val_loss: 0.0189 - val_acc: 0.9248 - val_mean_squared_error: 0.0189\n",
      "Epoch 49/100\n",
      "60000/60000 [==============================] - 0s 4us/step - loss: 0.0191 - acc: 0.9232 - mean_squared_error: 0.0191 - val_loss: 0.0186 - val_acc: 0.9256 - val_mean_squared_error: 0.0186\n",
      "Epoch 50/100\n",
      "60000/60000 [==============================] - 0s 4us/step - loss: 0.0188 - acc: 0.9247 - mean_squared_error: 0.0188 - val_loss: 0.0183 - val_acc: 0.9261 - val_mean_squared_error: 0.0183\n",
      "Epoch 51/100\n",
      "60000/60000 [==============================] - 0s 4us/step - loss: 0.0185 - acc: 0.9264 - mean_squared_error: 0.0185 - val_loss: 0.0180 - val_acc: 0.9273 - val_mean_squared_error: 0.0180\n",
      "Epoch 52/100\n",
      "60000/60000 [==============================] - 0s 4us/step - loss: 0.0185 - acc: 0.9265 - mean_squared_error: 0.0185 - val_loss: 0.0182 - val_acc: 0.9281 - val_mean_squared_error: 0.0182\n",
      "Epoch 53/100\n",
      "60000/60000 [==============================] - 0s 4us/step - loss: 0.0184 - acc: 0.9265 - mean_squared_error: 0.0184 - val_loss: 0.0179 - val_acc: 0.9294 - val_mean_squared_error: 0.0179\n",
      "Epoch 54/100\n",
      "60000/60000 [==============================] - 0s 4us/step - loss: 0.0180 - acc: 0.9283 - mean_squared_error: 0.0180 - val_loss: 0.0177 - val_acc: 0.9304 - val_mean_squared_error: 0.0177\n",
      "Epoch 55/100\n",
      "60000/60000 [==============================] - 0s 4us/step - loss: 0.0180 - acc: 0.9282 - mean_squared_error: 0.0180 - val_loss: 0.0177 - val_acc: 0.9298 - val_mean_squared_error: 0.0177\n",
      "Epoch 56/100\n",
      "60000/60000 [==============================] - 0s 4us/step - loss: 0.0178 - acc: 0.9299 - mean_squared_error: 0.0178 - val_loss: 0.0175 - val_acc: 0.9310 - val_mean_squared_error: 0.0175\n",
      "Epoch 57/100\n",
      "60000/60000 [==============================] - 0s 4us/step - loss: 0.0177 - acc: 0.9297 - mean_squared_error: 0.0177 - val_loss: 0.0173 - val_acc: 0.9297 - val_mean_squared_error: 0.0173\n",
      "Epoch 58/100\n",
      "60000/60000 [==============================] - 0s 4us/step - loss: 0.0174 - acc: 0.9298 - mean_squared_error: 0.0174 - val_loss: 0.0170 - val_acc: 0.9309 - val_mean_squared_error: 0.0170\n",
      "Epoch 59/100\n",
      "60000/60000 [==============================] - 0s 4us/step - loss: 0.0170 - acc: 0.9311 - mean_squared_error: 0.0170 - val_loss: 0.0167 - val_acc: 0.9298 - val_mean_squared_error: 0.0167\n",
      "Epoch 60/100\n",
      "60000/60000 [==============================] - 0s 4us/step - loss: 0.0170 - acc: 0.9318 - mean_squared_error: 0.0170 - val_loss: 0.0169 - val_acc: 0.9320 - val_mean_squared_error: 0.0169\n",
      "Epoch 61/100\n",
      "60000/60000 [==============================] - 0s 4us/step - loss: 0.0170 - acc: 0.9318 - mean_squared_error: 0.0170 - val_loss: 0.0167 - val_acc: 0.9317 - val_mean_squared_error: 0.0167\n",
      "Epoch 62/100\n",
      "60000/60000 [==============================] - 0s 4us/step - loss: 0.0167 - acc: 0.9321 - mean_squared_error: 0.0167 - val_loss: 0.0164 - val_acc: 0.9333 - val_mean_squared_error: 0.0164\n",
      "Epoch 63/100\n",
      "60000/60000 [==============================] - 0s 4us/step - loss: 0.0165 - acc: 0.9332 - mean_squared_error: 0.0165 - val_loss: 0.0164 - val_acc: 0.9330 - val_mean_squared_error: 0.0164\n",
      "Epoch 64/100\n",
      "60000/60000 [==============================] - 0s 4us/step - loss: 0.0164 - acc: 0.9339 - mean_squared_error: 0.0164 - val_loss: 0.0161 - val_acc: 0.9344 - val_mean_squared_error: 0.0161\n",
      "Epoch 65/100\n",
      "60000/60000 [==============================] - 0s 4us/step - loss: 0.0163 - acc: 0.9340 - mean_squared_error: 0.0163 - val_loss: 0.0161 - val_acc: 0.9335 - val_mean_squared_error: 0.0161\n",
      "Epoch 66/100\n",
      "60000/60000 [==============================] - 0s 4us/step - loss: 0.0162 - acc: 0.9346 - mean_squared_error: 0.0162 - val_loss: 0.0160 - val_acc: 0.9344 - val_mean_squared_error: 0.0160\n",
      "Epoch 67/100\n",
      "60000/60000 [==============================] - 0s 4us/step - loss: 0.0162 - acc: 0.9352 - mean_squared_error: 0.0162 - val_loss: 0.0160 - val_acc: 0.9357 - val_mean_squared_error: 0.0160\n",
      "Epoch 68/100\n",
      "60000/60000 [==============================] - 0s 4us/step - loss: 0.0162 - acc: 0.9345 - mean_squared_error: 0.0162 - val_loss: 0.0159 - val_acc: 0.9350 - val_mean_squared_error: 0.0159\n",
      "Epoch 69/100\n",
      "60000/60000 [==============================] - 0s 4us/step - loss: 0.0161 - acc: 0.9358 - mean_squared_error: 0.0161 - val_loss: 0.0159 - val_acc: 0.9363 - val_mean_squared_error: 0.0159\n",
      "Epoch 70/100\n",
      "60000/60000 [==============================] - 0s 4us/step - loss: 0.0158 - acc: 0.9368 - mean_squared_error: 0.0158 - val_loss: 0.0156 - val_acc: 0.9368 - val_mean_squared_error: 0.0156\n",
      "Epoch 71/100\n",
      "60000/60000 [==============================] - 0s 4us/step - loss: 0.0157 - acc: 0.9363 - mean_squared_error: 0.0157 - val_loss: 0.0157 - val_acc: 0.9372 - val_mean_squared_error: 0.0157\n",
      "Epoch 72/100\n",
      "60000/60000 [==============================] - 0s 4us/step - loss: 0.0157 - acc: 0.9372 - mean_squared_error: 0.0157 - val_loss: 0.0154 - val_acc: 0.9375 - val_mean_squared_error: 0.0154\n",
      "Epoch 73/100\n",
      "60000/60000 [==============================] - 0s 4us/step - loss: 0.0155 - acc: 0.9372 - mean_squared_error: 0.0155 - val_loss: 0.0152 - val_acc: 0.9370 - val_mean_squared_error: 0.0152\n",
      "Epoch 74/100\n",
      "60000/60000 [==============================] - 0s 4us/step - loss: 0.0153 - acc: 0.9381 - mean_squared_error: 0.0153 - val_loss: 0.0152 - val_acc: 0.9396 - val_mean_squared_error: 0.0152\n",
      "Epoch 75/100\n"
     ]
    },
    {
     "name": "stdout",
     "output_type": "stream",
     "text": [
      "60000/60000 [==============================] - 0s 4us/step - loss: 0.0152 - acc: 0.9389 - mean_squared_error: 0.0152 - val_loss: 0.0150 - val_acc: 0.9378 - val_mean_squared_error: 0.0150\n",
      "Epoch 76/100\n",
      "60000/60000 [==============================] - 0s 4us/step - loss: 0.0149 - acc: 0.9399 - mean_squared_error: 0.0149 - val_loss: 0.0148 - val_acc: 0.9380 - val_mean_squared_error: 0.0148\n",
      "Epoch 77/100\n",
      "60000/60000 [==============================] - 0s 4us/step - loss: 0.0148 - acc: 0.9397 - mean_squared_error: 0.0148 - val_loss: 0.0147 - val_acc: 0.9404 - val_mean_squared_error: 0.0147\n",
      "Epoch 78/100\n",
      "60000/60000 [==============================] - 0s 4us/step - loss: 0.0147 - acc: 0.9403 - mean_squared_error: 0.0147 - val_loss: 0.0146 - val_acc: 0.9399 - val_mean_squared_error: 0.0146\n",
      "Epoch 79/100\n",
      "60000/60000 [==============================] - 0s 4us/step - loss: 0.0147 - acc: 0.9407 - mean_squared_error: 0.0147 - val_loss: 0.0147 - val_acc: 0.9400 - val_mean_squared_error: 0.0147\n",
      "Epoch 80/100\n",
      "60000/60000 [==============================] - 0s 4us/step - loss: 0.0146 - acc: 0.9411 - mean_squared_error: 0.0146 - val_loss: 0.0145 - val_acc: 0.9410 - val_mean_squared_error: 0.0145\n",
      "Epoch 81/100\n",
      "60000/60000 [==============================] - 0s 4us/step - loss: 0.0145 - acc: 0.9416 - mean_squared_error: 0.0145 - val_loss: 0.0145 - val_acc: 0.9419 - val_mean_squared_error: 0.0145\n",
      "Epoch 82/100\n",
      "60000/60000 [==============================] - 0s 4us/step - loss: 0.0144 - acc: 0.9413 - mean_squared_error: 0.0144 - val_loss: 0.0144 - val_acc: 0.9406 - val_mean_squared_error: 0.0144\n",
      "Epoch 83/100\n",
      "60000/60000 [==============================] - 0s 4us/step - loss: 0.0144 - acc: 0.9419 - mean_squared_error: 0.0144 - val_loss: 0.0144 - val_acc: 0.9412 - val_mean_squared_error: 0.0144\n",
      "Epoch 84/100\n",
      "60000/60000 [==============================] - 0s 4us/step - loss: 0.0143 - acc: 0.9414 - mean_squared_error: 0.0143 - val_loss: 0.0142 - val_acc: 0.9428 - val_mean_squared_error: 0.0142\n",
      "Epoch 85/100\n",
      "60000/60000 [==============================] - 0s 4us/step - loss: 0.0141 - acc: 0.9417 - mean_squared_error: 0.0141 - val_loss: 0.0141 - val_acc: 0.9417 - val_mean_squared_error: 0.0141\n",
      "Epoch 86/100\n",
      "60000/60000 [==============================] - 0s 4us/step - loss: 0.0142 - acc: 0.9419 - mean_squared_error: 0.0142 - val_loss: 0.0141 - val_acc: 0.9432 - val_mean_squared_error: 0.0141\n",
      "Epoch 87/100\n",
      "60000/60000 [==============================] - 0s 4us/step - loss: 0.0141 - acc: 0.9423 - mean_squared_error: 0.0141 - val_loss: 0.0140 - val_acc: 0.9417 - val_mean_squared_error: 0.0140\n",
      "Epoch 88/100\n",
      "60000/60000 [==============================] - 0s 4us/step - loss: 0.0139 - acc: 0.9428 - mean_squared_error: 0.0139 - val_loss: 0.0139 - val_acc: 0.9431 - val_mean_squared_error: 0.0139\n",
      "Epoch 89/100\n",
      "60000/60000 [==============================] - 0s 4us/step - loss: 0.0139 - acc: 0.9434 - mean_squared_error: 0.0139 - val_loss: 0.0137 - val_acc: 0.9449 - val_mean_squared_error: 0.0137\n",
      "Epoch 90/100\n",
      "60000/60000 [==============================] - 0s 4us/step - loss: 0.0137 - acc: 0.9445 - mean_squared_error: 0.0137 - val_loss: 0.0137 - val_acc: 0.9439 - val_mean_squared_error: 0.0137\n",
      "Epoch 91/100\n",
      "60000/60000 [==============================] - 0s 4us/step - loss: 0.0136 - acc: 0.9436 - mean_squared_error: 0.0136 - val_loss: 0.0134 - val_acc: 0.9454 - val_mean_squared_error: 0.0134\n",
      "Epoch 92/100\n",
      "60000/60000 [==============================] - 0s 4us/step - loss: 0.0135 - acc: 0.9446 - mean_squared_error: 0.0135 - val_loss: 0.0135 - val_acc: 0.9421 - val_mean_squared_error: 0.0135\n",
      "Epoch 93/100\n",
      "60000/60000 [==============================] - 0s 4us/step - loss: 0.0134 - acc: 0.9458 - mean_squared_error: 0.0134 - val_loss: 0.0135 - val_acc: 0.9441 - val_mean_squared_error: 0.0135\n",
      "Epoch 94/100\n",
      "60000/60000 [==============================] - 0s 4us/step - loss: 0.0134 - acc: 0.9452 - mean_squared_error: 0.0134 - val_loss: 0.0133 - val_acc: 0.9455 - val_mean_squared_error: 0.0133\n",
      "Epoch 95/100\n",
      "60000/60000 [==============================] - 0s 4us/step - loss: 0.0133 - acc: 0.9461 - mean_squared_error: 0.0133 - val_loss: 0.0133 - val_acc: 0.9438 - val_mean_squared_error: 0.0133\n",
      "Epoch 96/100\n",
      "60000/60000 [==============================] - 0s 4us/step - loss: 0.0132 - acc: 0.9457 - mean_squared_error: 0.0132 - val_loss: 0.0132 - val_acc: 0.9441 - val_mean_squared_error: 0.0132\n",
      "Epoch 97/100\n",
      "60000/60000 [==============================] - 0s 4us/step - loss: 0.0130 - acc: 0.9461 - mean_squared_error: 0.0130 - val_loss: 0.0131 - val_acc: 0.9451 - val_mean_squared_error: 0.0131\n",
      "Epoch 98/100\n",
      "60000/60000 [==============================] - 0s 4us/step - loss: 0.0131 - acc: 0.9466 - mean_squared_error: 0.0131 - val_loss: 0.0131 - val_acc: 0.9453 - val_mean_squared_error: 0.0131\n",
      "Epoch 99/100\n",
      "60000/60000 [==============================] - 0s 4us/step - loss: 0.0130 - acc: 0.9468 - mean_squared_error: 0.0130 - val_loss: 0.0130 - val_acc: 0.9473 - val_mean_squared_error: 0.0130\n",
      "Epoch 100/100\n",
      "60000/60000 [==============================] - 0s 4us/step - loss: 0.0129 - acc: 0.9469 - mean_squared_error: 0.0129 - val_loss: 0.0130 - val_acc: 0.9466 - val_mean_squared_error: 0.0130\n"
     ]
    },
    {
     "data": {
      "image/png": "[encoded data removed]",
      "text/plain": [
       "<Figure size 432x288 with 1 Axes>"
      ]
     },
     "metadata": {
      "needs_background": "light"
     },
     "output_type": "display_data"
    },
    {
     "name": "stdout",
     "output_type": "stream",
     "text": [
      "Creating network for 784-dimensional input and 10-dimensional output, with 5 hidden layers\n"
     ]
    },
    {
     "data": {
      "image/png": "[encoded data removed]",
      "text/plain": [
       "<Figure size 432x288 with 1 Axes>"
      ]
     },
     "metadata": {
      "needs_background": "light"
     },
     "output_type": "display_data"
    },
    {
     "name": "stdout",
     "output_type": "stream",
     "text": [
      "Error; maximal over inputs, average over dropout:\n",
      "True values array mean: 0.101479 variance 0.297024\n",
      "Experiment 0.086436 Std 0.098036\n",
      "Equation   21589.093681 Std 23119.409804\n",
      "Tightness  0.0% Std 0.0%\n",
      "784 200\n",
      "200 200\n",
      "200 200\n",
      "200 100\n",
      "100 50\n",
      "50 10\n",
      "_________________________________________________________________\n",
      "Layer (type)                 Output Shape              Param #   \n",
      "=================================================================\n",
      "dense_1 (Dense)              (None, 200)               157000    \n",
      "_________________________________________________________________\n",
      "lambda_1 (Lambda)            (None, 200)               0         \n",
      "_________________________________________________________________\n",
      "dense_2 (Dense)              (None, 200)               40200     \n",
      "_________________________________________________________________\n",
      "dense_3 (Dense)              (None, 200)               40200     \n",
      "_________________________________________________________________\n",
      "dense_4 (Dense)              (None, 100)               20100     \n",
      "_________________________________________________________________\n",
      "dense_5 (Dense)              (None, 50)                5050      \n",
      "_________________________________________________________________\n",
      "dense_6 (Dense)              (None, 10)                510       \n",
      "=================================================================\n",
      "Total params: 263,060\n",
      "Trainable params: 263,060\n",
      "Non-trainable params: 0\n",
      "_________________________________________________________________\n",
      "Train on 60000 samples, validate on 10000 samples\n",
      "Epoch 1/100\n",
      "60000/60000 [==============================] - 1s 9us/step - loss: 0.1303 - acc: 0.1652 - mean_squared_error: 0.1303 - val_loss: 0.0909 - val_acc: 0.3001 - val_mean_squared_error: 0.0909\n",
      "Epoch 2/100\n",
      "60000/60000 [==============================] - 0s 4us/step - loss: 0.0840 - acc: 0.3995 - mean_squared_error: 0.0840 - val_loss: 0.0749 - val_acc: 0.5267 - val_mean_squared_error: 0.0749\n",
      "Epoch 3/100\n",
      "60000/60000 [==============================] - 0s 4us/step - loss: 0.0719 - acc: 0.5698 - mean_squared_error: 0.0719 - val_loss: 0.0670 - val_acc: 0.6290 - val_mean_squared_error: 0.0670\n",
      "Epoch 4/100\n",
      "60000/60000 [==============================] - 0s 4us/step - loss: 0.0651 - acc: 0.6565 - mean_squared_error: 0.0651 - val_loss: 0.0616 - val_acc: 0.6941 - val_mean_squared_error: 0.0616\n",
      "Epoch 5/100\n",
      "60000/60000 [==============================] - 0s 4us/step - loss: 0.0601 - acc: 0.7103 - mean_squared_error: 0.0601 - val_loss: 0.0571 - val_acc: 0.7332 - val_mean_squared_error: 0.0571\n",
      "Epoch 6/100\n",
      "60000/60000 [==============================] - 0s 4us/step - loss: 0.0560 - acc: 0.7440 - mean_squared_error: 0.0560 - val_loss: 0.0532 - val_acc: 0.7573 - val_mean_squared_error: 0.0532\n",
      "Epoch 7/100\n",
      "60000/60000 [==============================] - 0s 4us/step - loss: 0.0524 - acc: 0.7699 - mean_squared_error: 0.0524 - val_loss: 0.0509 - val_acc: 0.7771 - val_mean_squared_error: 0.0509\n",
      "Epoch 8/100\n",
      "60000/60000 [==============================] - 0s 4us/step - loss: 0.0507 - acc: 0.7778 - mean_squared_error: 0.0507 - val_loss: 0.0482 - val_acc: 0.7978 - val_mean_squared_error: 0.0482\n",
      "Epoch 9/100\n",
      "60000/60000 [==============================] - 0s 4us/step - loss: 0.0471 - acc: 0.8003 - mean_squared_error: 0.0471 - val_loss: 0.0443 - val_acc: 0.8237 - val_mean_squared_error: 0.0443\n",
      "Epoch 10/100\n",
      "60000/60000 [==============================] - 0s 4us/step - loss: 0.0441 - acc: 0.8183 - mean_squared_error: 0.0441 - val_loss: 0.0421 - val_acc: 0.8329 - val_mean_squared_error: 0.0421\n",
      "Epoch 11/100\n",
      "60000/60000 [==============================] - 0s 4us/step - loss: 0.0419 - acc: 0.8295 - mean_squared_error: 0.0419 - val_loss: 0.0400 - val_acc: 0.8433 - val_mean_squared_error: 0.0400\n",
      "Epoch 12/100\n",
      "60000/60000 [==============================] - 0s 4us/step - loss: 0.0396 - acc: 0.8425 - mean_squared_error: 0.0396 - val_loss: 0.0380 - val_acc: 0.8491 - val_mean_squared_error: 0.0380\n",
      "Epoch 13/100\n",
      "60000/60000 [==============================] - 0s 4us/step - loss: 0.0383 - acc: 0.8483 - mean_squared_error: 0.0383 - val_loss: 0.0372 - val_acc: 0.8519 - val_mean_squared_error: 0.0372\n",
      "Epoch 14/100\n",
      "60000/60000 [==============================] - 0s 4us/step - loss: 0.0371 - acc: 0.8513 - mean_squared_error: 0.0371 - val_loss: 0.0357 - val_acc: 0.8561 - val_mean_squared_error: 0.0357\n",
      "Epoch 15/100\n",
      "60000/60000 [==============================] - 0s 4us/step - loss: 0.0354 - acc: 0.8589 - mean_squared_error: 0.0354 - val_loss: 0.0339 - val_acc: 0.8669 - val_mean_squared_error: 0.0339\n",
      "Epoch 16/100\n",
      "60000/60000 [==============================] - 0s 4us/step - loss: 0.0340 - acc: 0.8645 - mean_squared_error: 0.0340 - val_loss: 0.0329 - val_acc: 0.8690 - val_mean_squared_error: 0.0329\n",
      "Epoch 17/100\n",
      "60000/60000 [==============================] - 0s 4us/step - loss: 0.0330 - acc: 0.8692 - mean_squared_error: 0.0330 - val_loss: 0.0319 - val_acc: 0.8734 - val_mean_squared_error: 0.0319\n",
      "Epoch 18/100\n",
      "60000/60000 [==============================] - 0s 4us/step - loss: 0.0314 - acc: 0.8778 - mean_squared_error: 0.0314 - val_loss: 0.0303 - val_acc: 0.8812 - val_mean_squared_error: 0.0303\n",
      "Epoch 19/100\n",
      "60000/60000 [==============================] - 0s 4us/step - loss: 0.0304 - acc: 0.8809 - mean_squared_error: 0.0304 - val_loss: 0.0298 - val_acc: 0.8838 - val_mean_squared_error: 0.0298\n",
      "Epoch 20/100\n",
      "60000/60000 [==============================] - 0s 4us/step - loss: 0.0299 - acc: 0.8825 - mean_squared_error: 0.0299 - val_loss: 0.0294 - val_acc: 0.8843 - val_mean_squared_error: 0.0294\n",
      "Epoch 21/100\n",
      "60000/60000 [==============================] - 0s 4us/step - loss: 0.0295 - acc: 0.8846 - mean_squared_error: 0.0295 - val_loss: 0.0286 - val_acc: 0.8864 - val_mean_squared_error: 0.0286\n",
      "Epoch 22/100\n",
      "60000/60000 [==============================] - 0s 4us/step - loss: 0.0285 - acc: 0.8872 - mean_squared_error: 0.0285 - val_loss: 0.0275 - val_acc: 0.8910 - val_mean_squared_error: 0.0275\n",
      "Epoch 23/100\n",
      "60000/60000 [==============================] - 0s 4us/step - loss: 0.0275 - acc: 0.8901 - mean_squared_error: 0.0275 - val_loss: 0.0269 - val_acc: 0.8908 - val_mean_squared_error: 0.0269\n",
      "Epoch 24/100\n",
      "60000/60000 [==============================] - 0s 4us/step - loss: 0.0267 - acc: 0.8940 - mean_squared_error: 0.0267 - val_loss: 0.0258 - val_acc: 0.8978 - val_mean_squared_error: 0.0258\n",
      "Epoch 25/100\n",
      "60000/60000 [==============================] - 0s 4us/step - loss: 0.0260 - acc: 0.8978 - mean_squared_error: 0.0260 - val_loss: 0.0255 - val_acc: 0.8982 - val_mean_squared_error: 0.0255\n",
      "Epoch 26/100\n",
      "60000/60000 [==============================] - 0s 4us/step - loss: 0.0258 - acc: 0.8970 - mean_squared_error: 0.0258 - val_loss: 0.0256 - val_acc: 0.8981 - val_mean_squared_error: 0.0256\n",
      "Epoch 27/100\n",
      "60000/60000 [==============================] - 0s 4us/step - loss: 0.0255 - acc: 0.8976 - mean_squared_error: 0.0255 - val_loss: 0.0243 - val_acc: 0.9029 - val_mean_squared_error: 0.0243\n",
      "Epoch 28/100\n",
      "60000/60000 [==============================] - 0s 4us/step - loss: 0.0245 - acc: 0.9030 - mean_squared_error: 0.0245 - val_loss: 0.0237 - val_acc: 0.9021 - val_mean_squared_error: 0.0237\n",
      "Epoch 29/100\n",
      "60000/60000 [==============================] - 0s 4us/step - loss: 0.0239 - acc: 0.9038 - mean_squared_error: 0.0239 - val_loss: 0.0235 - val_acc: 0.9043 - val_mean_squared_error: 0.0235\n",
      "Epoch 30/100\n",
      "60000/60000 [==============================] - 0s 4us/step - loss: 0.0235 - acc: 0.9062 - mean_squared_error: 0.0235 - val_loss: 0.0229 - val_acc: 0.9058 - val_mean_squared_error: 0.0229\n",
      "Epoch 31/100\n",
      "60000/60000 [==============================] - 0s 4us/step - loss: 0.0231 - acc: 0.9078 - mean_squared_error: 0.0231 - val_loss: 0.0227 - val_acc: 0.9067 - val_mean_squared_error: 0.0227\n",
      "Epoch 32/100\n",
      "60000/60000 [==============================] - 0s 4us/step - loss: 0.0228 - acc: 0.9088 - mean_squared_error: 0.0228 - val_loss: 0.0221 - val_acc: 0.9110 - val_mean_squared_error: 0.0221\n",
      "Epoch 33/100\n",
      "60000/60000 [==============================] - 0s 4us/step - loss: 0.0222 - acc: 0.9110 - mean_squared_error: 0.0222 - val_loss: 0.0218 - val_acc: 0.9101 - val_mean_squared_error: 0.0218\n",
      "Epoch 34/100\n",
      "60000/60000 [==============================] - 0s 4us/step - loss: 0.0219 - acc: 0.9120 - mean_squared_error: 0.0219 - val_loss: 0.0215 - val_acc: 0.9096 - val_mean_squared_error: 0.0215\n",
      "Epoch 35/100\n",
      "60000/60000 [==============================] - 0s 4us/step - loss: 0.0215 - acc: 0.9130 - mean_squared_error: 0.0215 - val_loss: 0.0211 - val_acc: 0.9127 - val_mean_squared_error: 0.0211\n",
      "Epoch 36/100\n",
      "60000/60000 [==============================] - 0s 4us/step - loss: 0.0212 - acc: 0.9143 - mean_squared_error: 0.0212 - val_loss: 0.0207 - val_acc: 0.9169 - val_mean_squared_error: 0.0207\n",
      "Epoch 37/100\n",
      "60000/60000 [==============================] - 0s 4us/step - loss: 0.0207 - acc: 0.9163 - mean_squared_error: 0.0207 - val_loss: 0.0204 - val_acc: 0.9168 - val_mean_squared_error: 0.0204\n",
      "Epoch 38/100\n",
      "60000/60000 [==============================] - 0s 4us/step - loss: 0.0205 - acc: 0.9170 - mean_squared_error: 0.0205 - val_loss: 0.0201 - val_acc: 0.9179 - val_mean_squared_error: 0.0201\n",
      "Epoch 39/100\n",
      "60000/60000 [==============================] - 0s 4us/step - loss: 0.0202 - acc: 0.9185 - mean_squared_error: 0.0202 - val_loss: 0.0202 - val_acc: 0.9155 - val_mean_squared_error: 0.0202\n",
      "Epoch 40/100\n",
      "60000/60000 [==============================] - 0s 4us/step - loss: 0.0201 - acc: 0.9181 - mean_squared_error: 0.0201 - val_loss: 0.0196 - val_acc: 0.9192 - val_mean_squared_error: 0.0196\n",
      "Epoch 41/100\n",
      "60000/60000 [==============================] - 0s 4us/step - loss: 0.0199 - acc: 0.9194 - mean_squared_error: 0.0199 - val_loss: 0.0195 - val_acc: 0.9189 - val_mean_squared_error: 0.0195\n",
      "Epoch 42/100\n",
      "60000/60000 [==============================] - 0s 4us/step - loss: 0.0196 - acc: 0.9205 - mean_squared_error: 0.0196 - val_loss: 0.0194 - val_acc: 0.9206 - val_mean_squared_error: 0.0194\n",
      "Epoch 43/100\n",
      "60000/60000 [==============================] - 0s 4us/step - loss: 0.0192 - acc: 0.9218 - mean_squared_error: 0.0192 - val_loss: 0.0188 - val_acc: 0.9223 - val_mean_squared_error: 0.0188\n",
      "Epoch 44/100\n",
      "60000/60000 [==============================] - 0s 4us/step - loss: 0.0188 - acc: 0.9231 - mean_squared_error: 0.0188 - val_loss: 0.0186 - val_acc: 0.9219 - val_mean_squared_error: 0.0186\n",
      "Epoch 45/100\n",
      "60000/60000 [==============================] - 0s 4us/step - loss: 0.0186 - acc: 0.9237 - mean_squared_error: 0.0186 - val_loss: 0.0183 - val_acc: 0.9239 - val_mean_squared_error: 0.0183\n",
      "Epoch 46/100\n",
      "60000/60000 [==============================] - 0s 4us/step - loss: 0.0185 - acc: 0.9240 - mean_squared_error: 0.0185 - val_loss: 0.0185 - val_acc: 0.9259 - val_mean_squared_error: 0.0185\n",
      "Epoch 47/100\n",
      "60000/60000 [==============================] - 0s 4us/step - loss: 0.0184 - acc: 0.9247 - mean_squared_error: 0.0184 - val_loss: 0.0182 - val_acc: 0.9242 - val_mean_squared_error: 0.0182\n",
      "Epoch 48/100\n",
      "60000/60000 [==============================] - 0s 4us/step - loss: 0.0183 - acc: 0.9251 - mean_squared_error: 0.0183 - val_loss: 0.0180 - val_acc: 0.9261 - val_mean_squared_error: 0.0180\n",
      "Epoch 49/100\n",
      "60000/60000 [==============================] - 0s 4us/step - loss: 0.0182 - acc: 0.9258 - mean_squared_error: 0.0182 - val_loss: 0.0178 - val_acc: 0.9258 - val_mean_squared_error: 0.0178\n",
      "Epoch 50/100\n",
      "60000/60000 [==============================] - 0s 4us/step - loss: 0.0177 - acc: 0.9268 - mean_squared_error: 0.0177 - val_loss: 0.0174 - val_acc: 0.9279 - val_mean_squared_error: 0.0174\n",
      "Epoch 51/100\n",
      "60000/60000 [==============================] - 0s 4us/step - loss: 0.0175 - acc: 0.9274 - mean_squared_error: 0.0175 - val_loss: 0.0173 - val_acc: 0.9277 - val_mean_squared_error: 0.0173\n",
      "Epoch 52/100\n",
      "60000/60000 [==============================] - 0s 4us/step - loss: 0.0172 - acc: 0.9300 - mean_squared_error: 0.0172 - val_loss: 0.0171 - val_acc: 0.9281 - val_mean_squared_error: 0.0171\n",
      "Epoch 53/100\n",
      "60000/60000 [==============================] - 0s 4us/step - loss: 0.0170 - acc: 0.9303 - mean_squared_error: 0.0170 - val_loss: 0.0167 - val_acc: 0.9293 - val_mean_squared_error: 0.0167\n",
      "Epoch 54/100\n",
      "60000/60000 [==============================] - 0s 4us/step - loss: 0.0168 - acc: 0.9310 - mean_squared_error: 0.0168 - val_loss: 0.0168 - val_acc: 0.9285 - val_mean_squared_error: 0.0168\n",
      "Epoch 55/100\n",
      "60000/60000 [==============================] - 0s 4us/step - loss: 0.0167 - acc: 0.9309 - mean_squared_error: 0.0167 - val_loss: 0.0166 - val_acc: 0.9328 - val_mean_squared_error: 0.0166\n",
      "Epoch 56/100\n",
      "60000/60000 [==============================] - 0s 4us/step - loss: 0.0165 - acc: 0.9317 - mean_squared_error: 0.0165 - val_loss: 0.0165 - val_acc: 0.9299 - val_mean_squared_error: 0.0165\n",
      "Epoch 57/100\n",
      "60000/60000 [==============================] - 0s 4us/step - loss: 0.0164 - acc: 0.9318 - mean_squared_error: 0.0164 - val_loss: 0.0164 - val_acc: 0.9314 - val_mean_squared_error: 0.0164\n",
      "Epoch 58/100\n",
      "60000/60000 [==============================] - 0s 4us/step - loss: 0.0164 - acc: 0.9318 - mean_squared_error: 0.0164 - val_loss: 0.0164 - val_acc: 0.9310 - val_mean_squared_error: 0.0164\n",
      "Epoch 59/100\n",
      "60000/60000 [==============================] - 0s 4us/step - loss: 0.0163 - acc: 0.9317 - mean_squared_error: 0.0163 - val_loss: 0.0163 - val_acc: 0.9323 - val_mean_squared_error: 0.0163\n",
      "Epoch 60/100\n",
      "60000/60000 [==============================] - 0s 4us/step - loss: 0.0161 - acc: 0.9338 - mean_squared_error: 0.0161 - val_loss: 0.0160 - val_acc: 0.9314 - val_mean_squared_error: 0.0160\n",
      "Epoch 61/100\n",
      "60000/60000 [==============================] - 0s 4us/step - loss: 0.0159 - acc: 0.9346 - mean_squared_error: 0.0159 - val_loss: 0.0159 - val_acc: 0.9326 - val_mean_squared_error: 0.0159\n",
      "Epoch 62/100\n",
      "60000/60000 [==============================] - 0s 4us/step - loss: 0.0157 - acc: 0.9345 - mean_squared_error: 0.0157 - val_loss: 0.0158 - val_acc: 0.9338 - val_mean_squared_error: 0.0158\n",
      "Epoch 63/100\n",
      "60000/60000 [==============================] - 0s 4us/step - loss: 0.0156 - acc: 0.9356 - mean_squared_error: 0.0156 - val_loss: 0.0157 - val_acc: 0.9308 - val_mean_squared_error: 0.0157\n",
      "Epoch 64/100\n",
      "60000/60000 [==============================] - 0s 4us/step - loss: 0.0155 - acc: 0.9354 - mean_squared_error: 0.0155 - val_loss: 0.0155 - val_acc: 0.9358 - val_mean_squared_error: 0.0155\n",
      "Epoch 65/100\n",
      "60000/60000 [==============================] - 0s 4us/step - loss: 0.0154 - acc: 0.9368 - mean_squared_error: 0.0154 - val_loss: 0.0154 - val_acc: 0.9335 - val_mean_squared_error: 0.0154\n",
      "Epoch 66/100\n",
      "60000/60000 [==============================] - 0s 4us/step - loss: 0.0152 - acc: 0.9369 - mean_squared_error: 0.0152 - val_loss: 0.0153 - val_acc: 0.9361 - val_mean_squared_error: 0.0153\n",
      "Epoch 67/100\n",
      "60000/60000 [==============================] - 0s 4us/step - loss: 0.0151 - acc: 0.9367 - mean_squared_error: 0.0151 - val_loss: 0.0152 - val_acc: 0.9347 - val_mean_squared_error: 0.0152\n",
      "Epoch 68/100\n",
      "60000/60000 [==============================] - 0s 4us/step - loss: 0.0149 - acc: 0.9375 - mean_squared_error: 0.0149 - val_loss: 0.0149 - val_acc: 0.9349 - val_mean_squared_error: 0.0149\n",
      "Epoch 69/100\n",
      "60000/60000 [==============================] - 0s 4us/step - loss: 0.0148 - acc: 0.9383 - mean_squared_error: 0.0148 - val_loss: 0.0149 - val_acc: 0.9357 - val_mean_squared_error: 0.0149\n",
      "Epoch 70/100\n",
      "60000/60000 [==============================] - 0s 4us/step - loss: 0.0147 - acc: 0.9380 - mean_squared_error: 0.0147 - val_loss: 0.0148 - val_acc: 0.9373 - val_mean_squared_error: 0.0148\n",
      "Epoch 71/100\n",
      "60000/60000 [==============================] - 0s 4us/step - loss: 0.0146 - acc: 0.9391 - mean_squared_error: 0.0146 - val_loss: 0.0148 - val_acc: 0.9367 - val_mean_squared_error: 0.0148\n",
      "Epoch 72/100\n",
      "60000/60000 [==============================] - 0s 4us/step - loss: 0.0145 - acc: 0.9390 - mean_squared_error: 0.0145 - val_loss: 0.0147 - val_acc: 0.9355 - val_mean_squared_error: 0.0147\n",
      "Epoch 73/100\n",
      "60000/60000 [==============================] - 0s 4us/step - loss: 0.0144 - acc: 0.9401 - mean_squared_error: 0.0144 - val_loss: 0.0146 - val_acc: 0.9367 - val_mean_squared_error: 0.0146\n",
      "Epoch 74/100\n",
      "60000/60000 [==============================] - 0s 4us/step - loss: 0.0143 - acc: 0.9405 - mean_squared_error: 0.0143 - val_loss: 0.0145 - val_acc: 0.9374 - val_mean_squared_error: 0.0145\n",
      "Epoch 75/100\n"
     ]
    },
    {
     "name": "stdout",
     "output_type": "stream",
     "text": [
      "60000/60000 [==============================] - 0s 4us/step - loss: 0.0142 - acc: 0.9401 - mean_squared_error: 0.0142 - val_loss: 0.0143 - val_acc: 0.9379 - val_mean_squared_error: 0.0143\n",
      "Epoch 76/100\n",
      "60000/60000 [==============================] - 0s 4us/step - loss: 0.0141 - acc: 0.9412 - mean_squared_error: 0.0141 - val_loss: 0.0143 - val_acc: 0.9377 - val_mean_squared_error: 0.0143\n",
      "Epoch 77/100\n",
      "60000/60000 [==============================] - 0s 4us/step - loss: 0.0140 - acc: 0.9414 - mean_squared_error: 0.0140 - val_loss: 0.0142 - val_acc: 0.9381 - val_mean_squared_error: 0.0142\n",
      "Epoch 78/100\n",
      "60000/60000 [==============================] - 0s 4us/step - loss: 0.0139 - acc: 0.9418 - mean_squared_error: 0.0139 - val_loss: 0.0141 - val_acc: 0.9377 - val_mean_squared_error: 0.0141\n",
      "Epoch 79/100\n",
      "60000/60000 [==============================] - 0s 4us/step - loss: 0.0138 - acc: 0.9415 - mean_squared_error: 0.0138 - val_loss: 0.0139 - val_acc: 0.9396 - val_mean_squared_error: 0.0139\n",
      "Epoch 80/100\n",
      "60000/60000 [==============================] - 0s 4us/step - loss: 0.0137 - acc: 0.9425 - mean_squared_error: 0.0137 - val_loss: 0.0137 - val_acc: 0.9411 - val_mean_squared_error: 0.0137\n",
      "Epoch 81/100\n",
      "60000/60000 [==============================] - 0s 4us/step - loss: 0.0136 - acc: 0.9427 - mean_squared_error: 0.0136 - val_loss: 0.0136 - val_acc: 0.9407 - val_mean_squared_error: 0.0136\n",
      "Epoch 82/100\n",
      "60000/60000 [==============================] - 0s 4us/step - loss: 0.0134 - acc: 0.9432 - mean_squared_error: 0.0134 - val_loss: 0.0136 - val_acc: 0.9411 - val_mean_squared_error: 0.0136\n",
      "Epoch 83/100\n",
      "60000/60000 [==============================] - 0s 4us/step - loss: 0.0134 - acc: 0.9438 - mean_squared_error: 0.0134 - val_loss: 0.0136 - val_acc: 0.9404 - val_mean_squared_error: 0.0136\n",
      "Epoch 84/100\n",
      "60000/60000 [==============================] - 0s 4us/step - loss: 0.0133 - acc: 0.9440 - mean_squared_error: 0.0133 - val_loss: 0.0134 - val_acc: 0.9414 - val_mean_squared_error: 0.0134\n",
      "Epoch 85/100\n",
      "60000/60000 [==============================] - 0s 4us/step - loss: 0.0132 - acc: 0.9441 - mean_squared_error: 0.0132 - val_loss: 0.0135 - val_acc: 0.9411 - val_mean_squared_error: 0.0135\n",
      "Epoch 86/100\n",
      "60000/60000 [==============================] - 0s 4us/step - loss: 0.0131 - acc: 0.9447 - mean_squared_error: 0.0131 - val_loss: 0.0132 - val_acc: 0.9420 - val_mean_squared_error: 0.0132\n",
      "Epoch 87/100\n",
      "60000/60000 [==============================] - 0s 4us/step - loss: 0.0130 - acc: 0.9447 - mean_squared_error: 0.0130 - val_loss: 0.0132 - val_acc: 0.9423 - val_mean_squared_error: 0.0132\n",
      "Epoch 88/100\n",
      "60000/60000 [==============================] - 0s 4us/step - loss: 0.0129 - acc: 0.9451 - mean_squared_error: 0.0129 - val_loss: 0.0132 - val_acc: 0.9426 - val_mean_squared_error: 0.0132\n",
      "Epoch 89/100\n",
      "60000/60000 [==============================] - 0s 4us/step - loss: 0.0130 - acc: 0.9455 - mean_squared_error: 0.0130 - val_loss: 0.0132 - val_acc: 0.9424 - val_mean_squared_error: 0.0132\n",
      "Epoch 90/100\n",
      "60000/60000 [==============================] - 0s 4us/step - loss: 0.0128 - acc: 0.9459 - mean_squared_error: 0.0128 - val_loss: 0.0131 - val_acc: 0.9446 - val_mean_squared_error: 0.0131\n",
      "Epoch 91/100\n",
      "60000/60000 [==============================] - 0s 4us/step - loss: 0.0128 - acc: 0.9464 - mean_squared_error: 0.0128 - val_loss: 0.0130 - val_acc: 0.9440 - val_mean_squared_error: 0.0130\n",
      "Epoch 92/100\n",
      "60000/60000 [==============================] - 0s 4us/step - loss: 0.0127 - acc: 0.9462 - mean_squared_error: 0.0127 - val_loss: 0.0129 - val_acc: 0.9426 - val_mean_squared_error: 0.0129\n",
      "Epoch 93/100\n",
      "60000/60000 [==============================] - 0s 4us/step - loss: 0.0126 - acc: 0.9463 - mean_squared_error: 0.0126 - val_loss: 0.0128 - val_acc: 0.9441 - val_mean_squared_error: 0.0128\n",
      "Epoch 94/100\n",
      "60000/60000 [==============================] - 0s 4us/step - loss: 0.0125 - acc: 0.9470 - mean_squared_error: 0.0125 - val_loss: 0.0127 - val_acc: 0.9443 - val_mean_squared_error: 0.0127\n",
      "Epoch 95/100\n",
      "60000/60000 [==============================] - 0s 4us/step - loss: 0.0124 - acc: 0.9470 - mean_squared_error: 0.0124 - val_loss: 0.0127 - val_acc: 0.9447 - val_mean_squared_error: 0.0127\n",
      "Epoch 96/100\n",
      "60000/60000 [==============================] - 0s 4us/step - loss: 0.0123 - acc: 0.9479 - mean_squared_error: 0.0123 - val_loss: 0.0127 - val_acc: 0.9427 - val_mean_squared_error: 0.0127\n",
      "Epoch 97/100\n",
      "60000/60000 [==============================] - 0s 4us/step - loss: 0.0123 - acc: 0.9482 - mean_squared_error: 0.0123 - val_loss: 0.0126 - val_acc: 0.9433 - val_mean_squared_error: 0.0126\n",
      "Epoch 98/100\n",
      "60000/60000 [==============================] - 0s 4us/step - loss: 0.0122 - acc: 0.9482 - mean_squared_error: 0.0122 - val_loss: 0.0126 - val_acc: 0.9430 - val_mean_squared_error: 0.0126\n",
      "Epoch 99/100\n",
      "60000/60000 [==============================] - 0s 4us/step - loss: 0.0121 - acc: 0.9486 - mean_squared_error: 0.0121 - val_loss: 0.0123 - val_acc: 0.9470 - val_mean_squared_error: 0.0123\n",
      "Epoch 100/100\n",
      "60000/60000 [==============================] - 0s 4us/step - loss: 0.0120 - acc: 0.9485 - mean_squared_error: 0.0120 - val_loss: 0.0123 - val_acc: 0.9452 - val_mean_squared_error: 0.0123\n"
     ]
    },
    {
     "data": {
      "image/png": "[encoded data removed]",
      "text/plain": [
       "<Figure size 432x288 with 1 Axes>"
      ]
     },
     "metadata": {
      "needs_background": "light"
     },
     "output_type": "display_data"
    },
    {
     "name": "stdout",
     "output_type": "stream",
     "text": [
      "Creating network for 784-dimensional input and 10-dimensional output, with 5 hidden layers\n"
     ]
    },
    {
     "data": {
      "image/png": "[encoded data removed]",
      "text/plain": [
       "<Figure size 432x288 with 1 Axes>"
      ]
     },
     "metadata": {
      "needs_background": "light"
     },
     "output_type": "display_data"
    },
    {
     "name": "stdout",
     "output_type": "stream",
     "text": [
      "Error; maximal over inputs, average over dropout:\n",
      "True values array mean: 0.100786 variance 0.296503\n",
      "Experiment 0.076997 Std 0.081442\n",
      "Equation   19076.929234 Std 20362.484774\n",
      "Tightness  0.0% Std 0.0%\n"
     ]
    }
   ],
   "source": [
    "results = []\n",
    "p = 0.001\n",
    "p_trains = np.linspace(0, 0.05, 3)\n",
    "for p_train in p_trains:\n",
    "    exp = MNISTExperiment([200, 200, 200, 100, 50], [p, 0, 0, 0, 0], 1, epochs = 100, activation = 'relu', reg_type = 0, do_print = True,\n",
    "                         train_dropout_l1 = p_train)\n",
    "    exp_mean, _, v1_mean, _, _, _, v2, v3_mean = exp.run(repetitions = 10000, inputs = 50, do_tqdm = False)\n",
    "    v2_mean = np.mean(v2)\n",
    "    \n",
    "    # filling in l1, l2\n",
    "    l1 = 0\n",
    "    l2 = 0\n",
    "    for W in exp.W:\n",
    "        l1 += np.linalg.norm(W, ord = 1)\n",
    "        l2 += np.linalg.norm(W, ord = 2)\n",
    "\n",
    "    data = [exp_mean, v1_mean, v2_mean, v3_mean, l1, l2]\n",
    "    # Important: freeing up the memory\n",
    "    K.clear_session()\n",
    "    results += [data]"
   ]
  },
  {
   "cell_type": "code",
   "execution_count": 76,
   "metadata": {},
   "outputs": [
    {
     "data": {
      "image/png": "[encoded data removed]",
      "text/plain": [
       "<Figure size 432x288 with 1 Axes>"
      ]
     },
     "metadata": {
      "needs_background": "light"
     },
     "output_type": "display_data"
    },
    {
     "data": {
      "image/png": "[encoded data removed]",
      "text/plain": [
       "<Figure size 432x288 with 1 Axes>"
      ]
     },
     "metadata": {
      "needs_background": "light"
     },
     "output_type": "display_data"
    },
    {
     "data": {
      "image/png": "[encoded data removed]",
      "text/plain": [
       "<Figure size 432x288 with 1 Axes>"
      ]
     },
     "metadata": {
      "needs_background": "light"
     },
     "output_type": "display_data"
    },
    {
     "data": {
      "image/png": "[encoded data removed]",
      "text/plain": [
       "<Figure size 432x288 with 1 Axes>"
      ]
     },
     "metadata": {
      "needs_background": "light"
     },
     "output_type": "display_data"
    },
    {
     "data": {
      "image/png": "[encoded data removed]",
      "text/plain": [
       "<Figure size 432x288 with 1 Axes>"
      ]
     },
     "metadata": {
      "needs_background": "light"
     },
     "output_type": "display_data"
    },
    {
     "data": {
      "image/png": "[encoded data removed]",
      "text/plain": [
       "<Figure size 432x288 with 1 Axes>"
      ]
     },
     "metadata": {
      "needs_background": "light"
     },
     "output_type": "display_data"
    }
   ],
   "source": [
    "bounds = ['experiment', 'v1', 'v2', 'v3', 'l1', 'l2']\n",
    "for i, b in enumerate(bounds):\n",
    "    plt.figure()\n",
    "    plt.title('Error %s test' % b)\n",
    "    plt.xlabel('p_train')\n",
    "    plt.ylabel('Error value')\n",
    "    plot_exp = [r[0] for r in results]\n",
    "    plot_bound = [r[i] for r in results]\n",
    "    plt.scatter(p_trains, plot_bound)# np.array(plot_exp) / plot_bound)\n",
    "    plt.show()"
   ]
  },
  {
   "cell_type": "code",
   "execution_count": 549,
   "metadata": {},
   "outputs": [],
   "source": [
    "p = 0.000001"
   ]
  },
  {
   "cell_type": "code",
   "execution_count": 550,
   "metadata": {},
   "outputs": [
    {
     "name": "stdout",
     "output_type": "stream",
     "text": [
      "784 200\n",
      "200 200\n",
      "200 200\n",
      "200 10\n",
      "_________________________________________________________________\n",
      "Layer (type)                 Output Shape              Param #   \n",
      "=================================================================\n",
      "dense_257 (Dense)            (None, 200)               157000    \n",
      "_________________________________________________________________\n",
      "dense_258 (Dense)            (None, 200)               40200     \n",
      "_________________________________________________________________\n",
      "dense_259 (Dense)            (None, 200)               40200     \n",
      "_________________________________________________________________\n",
      "dense_260 (Dense)            (None, 10)                2010      \n",
      "=================================================================\n",
      "Total params: 239,410\n",
      "Trainable params: 239,410\n",
      "Non-trainable params: 0\n",
      "_________________________________________________________________\n",
      "Train on 60000 samples, validate on 10000 samples\n",
      "Epoch 1/100\n",
      "60000/60000 [==============================] - 1s 13us/step - loss: 0.2307 - acc: 0.1714 - mean_squared_error: 0.2307 - val_loss: 0.0987 - val_acc: 0.3273 - val_mean_squared_error: 0.0987\n",
      "Epoch 2/100\n",
      "60000/60000 [==============================] - 0s 4us/step - loss: 0.0865 - acc: 0.4432 - mean_squared_error: 0.0865 - val_loss: 0.0744 - val_acc: 0.5695 - val_mean_squared_error: 0.0744\n",
      "Epoch 3/100\n",
      "60000/60000 [==============================] - 0s 4us/step - loss: 0.0712 - acc: 0.6031 - mean_squared_error: 0.0712 - val_loss: 0.0662 - val_acc: 0.6644 - val_mean_squared_error: 0.0662\n",
      "Epoch 4/100\n",
      "60000/60000 [==============================] - 0s 4us/step - loss: 0.0651 - acc: 0.6703 - mean_squared_error: 0.0651 - val_loss: 0.0605 - val_acc: 0.7237 - val_mean_squared_error: 0.0605\n",
      "Epoch 5/100\n",
      "60000/60000 [==============================] - 0s 4us/step - loss: 0.0586 - acc: 0.7254 - mean_squared_error: 0.0586 - val_loss: 0.0547 - val_acc: 0.7681 - val_mean_squared_error: 0.0547\n",
      "Epoch 6/100\n",
      "60000/60000 [==============================] - 0s 4us/step - loss: 0.0543 - acc: 0.7597 - mean_squared_error: 0.0543 - val_loss: 0.0518 - val_acc: 0.7866 - val_mean_squared_error: 0.0518\n",
      "Epoch 7/100\n",
      "60000/60000 [==============================] - 0s 4us/step - loss: 0.0520 - acc: 0.7764 - mean_squared_error: 0.0520 - val_loss: 0.0498 - val_acc: 0.7964 - val_mean_squared_error: 0.0498\n",
      "Epoch 8/100\n",
      "60000/60000 [==============================] - 0s 4us/step - loss: 0.0494 - acc: 0.7922 - mean_squared_error: 0.0494 - val_loss: 0.0461 - val_acc: 0.8181 - val_mean_squared_error: 0.0461\n",
      "Epoch 9/100\n",
      "60000/60000 [==============================] - 0s 4us/step - loss: 0.0460 - acc: 0.8146 - mean_squared_error: 0.0460 - val_loss: 0.0437 - val_acc: 0.8314 - val_mean_squared_error: 0.0437\n",
      "Epoch 10/100\n",
      "60000/60000 [==============================] - 0s 4us/step - loss: 0.0443 - acc: 0.8266 - mean_squared_error: 0.0443 - val_loss: 0.0425 - val_acc: 0.8389 - val_mean_squared_error: 0.0425\n",
      "Epoch 11/100\n",
      "60000/60000 [==============================] - 0s 4us/step - loss: 0.0425 - acc: 0.8367 - mean_squared_error: 0.0425 - val_loss: 0.0403 - val_acc: 0.8511 - val_mean_squared_error: 0.0403\n",
      "Epoch 12/100\n",
      "60000/60000 [==============================] - 0s 4us/step - loss: 0.0406 - acc: 0.8486 - mean_squared_error: 0.0406 - val_loss: 0.0390 - val_acc: 0.8572 - val_mean_squared_error: 0.0390\n",
      "Epoch 13/100\n",
      "60000/60000 [==============================] - 0s 4us/step - loss: 0.0400 - acc: 0.8512 - mean_squared_error: 0.0400 - val_loss: 0.0383 - val_acc: 0.8605 - val_mean_squared_error: 0.0383\n",
      "Epoch 14/100\n",
      "60000/60000 [==============================] - 0s 4us/step - loss: 0.0385 - acc: 0.8581 - mean_squared_error: 0.0385 - val_loss: 0.0367 - val_acc: 0.8680 - val_mean_squared_error: 0.0367\n",
      "Epoch 15/100\n",
      "60000/60000 [==============================] - 0s 4us/step - loss: 0.0373 - acc: 0.8636 - mean_squared_error: 0.0373 - val_loss: 0.0363 - val_acc: 0.8692 - val_mean_squared_error: 0.0363\n",
      "Epoch 16/100\n",
      "60000/60000 [==============================] - 0s 4us/step - loss: 0.0364 - acc: 0.8686 - mean_squared_error: 0.0364 - val_loss: 0.0347 - val_acc: 0.8769 - val_mean_squared_error: 0.0347\n",
      "Epoch 17/100\n",
      "60000/60000 [==============================] - 0s 4us/step - loss: 0.0349 - acc: 0.8761 - mean_squared_error: 0.0349 - val_loss: 0.0339 - val_acc: 0.8801 - val_mean_squared_error: 0.0339\n",
      "Epoch 18/100\n",
      "60000/60000 [==============================] - 0s 4us/step - loss: 0.0348 - acc: 0.8778 - mean_squared_error: 0.0348 - val_loss: 0.0345 - val_acc: 0.8796 - val_mean_squared_error: 0.0345\n",
      "Epoch 19/100\n",
      "60000/60000 [==============================] - 0s 4us/step - loss: 0.0343 - acc: 0.8793 - mean_squared_error: 0.0343 - val_loss: 0.0324 - val_acc: 0.8858 - val_mean_squared_error: 0.0324\n",
      "Epoch 20/100\n",
      "60000/60000 [==============================] - 0s 4us/step - loss: 0.0328 - acc: 0.8859 - mean_squared_error: 0.0328 - val_loss: 0.0322 - val_acc: 0.8887 - val_mean_squared_error: 0.0322\n",
      "Epoch 21/100\n",
      "60000/60000 [==============================] - 0s 4us/step - loss: 0.0327 - acc: 0.8862 - mean_squared_error: 0.0327 - val_loss: 0.0315 - val_acc: 0.8909 - val_mean_squared_error: 0.0315\n",
      "Epoch 22/100\n",
      "60000/60000 [==============================] - 0s 4us/step - loss: 0.0314 - acc: 0.8900 - mean_squared_error: 0.0314 - val_loss: 0.0296 - val_acc: 0.8973 - val_mean_squared_error: 0.0296\n",
      "Epoch 23/100\n",
      "60000/60000 [==============================] - 0s 4us/step - loss: 0.0298 - acc: 0.8977 - mean_squared_error: 0.0298 - val_loss: 0.0288 - val_acc: 0.9021 - val_mean_squared_error: 0.0288\n",
      "Epoch 24/100\n",
      "60000/60000 [==============================] - 0s 4us/step - loss: 0.0290 - acc: 0.9004 - mean_squared_error: 0.0290 - val_loss: 0.0282 - val_acc: 0.9045 - val_mean_squared_error: 0.0282\n",
      "Epoch 25/100\n",
      "60000/60000 [==============================] - 0s 4us/step - loss: 0.0285 - acc: 0.9026 - mean_squared_error: 0.0285 - val_loss: 0.0278 - val_acc: 0.9071 - val_mean_squared_error: 0.0278\n",
      "Epoch 26/100\n",
      "60000/60000 [==============================] - 0s 4us/step - loss: 0.0283 - acc: 0.9045 - mean_squared_error: 0.0283 - val_loss: 0.0283 - val_acc: 0.9055 - val_mean_squared_error: 0.0283\n",
      "Epoch 27/100\n",
      "60000/60000 [==============================] - 0s 4us/step - loss: 0.0286 - acc: 0.9029 - mean_squared_error: 0.0286 - val_loss: 0.0279 - val_acc: 0.9061 - val_mean_squared_error: 0.0279\n",
      "Epoch 28/100\n",
      "60000/60000 [==============================] - 0s 4us/step - loss: 0.0280 - acc: 0.9045 - mean_squared_error: 0.0280 - val_loss: 0.0270 - val_acc: 0.9097 - val_mean_squared_error: 0.0270\n",
      "Epoch 29/100\n",
      "60000/60000 [==============================] - 0s 4us/step - loss: 0.0273 - acc: 0.9069 - mean_squared_error: 0.0273 - val_loss: 0.0263 - val_acc: 0.9122 - val_mean_squared_error: 0.0263\n",
      "Epoch 30/100\n",
      "60000/60000 [==============================] - 0s 4us/step - loss: 0.0267 - acc: 0.9093 - mean_squared_error: 0.0267 - val_loss: 0.0260 - val_acc: 0.9143 - val_mean_squared_error: 0.0260\n",
      "Epoch 31/100\n",
      "60000/60000 [==============================] - 0s 4us/step - loss: 0.0264 - acc: 0.9112 - mean_squared_error: 0.0264 - val_loss: 0.0259 - val_acc: 0.9144 - val_mean_squared_error: 0.0259\n",
      "Epoch 32/100\n",
      "60000/60000 [==============================] - 0s 4us/step - loss: 0.0261 - acc: 0.9124 - mean_squared_error: 0.0261 - val_loss: 0.0253 - val_acc: 0.9154 - val_mean_squared_error: 0.0253\n",
      "Epoch 33/100\n",
      "60000/60000 [==============================] - 0s 4us/step - loss: 0.0254 - acc: 0.9148 - mean_squared_error: 0.0254 - val_loss: 0.0245 - val_acc: 0.9183 - val_mean_squared_error: 0.0245\n",
      "Epoch 34/100\n",
      "60000/60000 [==============================] - 0s 4us/step - loss: 0.0245 - acc: 0.9181 - mean_squared_error: 0.0245 - val_loss: 0.0239 - val_acc: 0.9203 - val_mean_squared_error: 0.0239\n",
      "Epoch 35/100\n",
      "60000/60000 [==============================] - 0s 4us/step - loss: 0.0245 - acc: 0.9191 - mean_squared_error: 0.0245 - val_loss: 0.0244 - val_acc: 0.9204 - val_mean_squared_error: 0.0244\n",
      "Epoch 36/100\n",
      "60000/60000 [==============================] - 0s 4us/step - loss: 0.0246 - acc: 0.9183 - mean_squared_error: 0.0246 - val_loss: 0.0239 - val_acc: 0.9211 - val_mean_squared_error: 0.0239\n",
      "Epoch 37/100\n",
      "60000/60000 [==============================] - 0s 4us/step - loss: 0.0239 - acc: 0.9201 - mean_squared_error: 0.0239 - val_loss: 0.0235 - val_acc: 0.9225 - val_mean_squared_error: 0.0235\n",
      "Epoch 38/100\n",
      "60000/60000 [==============================] - 0s 4us/step - loss: 0.0236 - acc: 0.9213 - mean_squared_error: 0.0236 - val_loss: 0.0235 - val_acc: 0.9231 - val_mean_squared_error: 0.0235\n",
      "Epoch 39/100\n",
      "60000/60000 [==============================] - 0s 4us/step - loss: 0.0238 - acc: 0.9195 - mean_squared_error: 0.0238 - val_loss: 0.0232 - val_acc: 0.9241 - val_mean_squared_error: 0.0232\n",
      "Epoch 40/100\n",
      "60000/60000 [==============================] - 0s 4us/step - loss: 0.0230 - acc: 0.9233 - mean_squared_error: 0.0230 - val_loss: 0.0225 - val_acc: 0.9253 - val_mean_squared_error: 0.0225\n",
      "Epoch 41/100\n",
      "60000/60000 [==============================] - 0s 4us/step - loss: 0.0225 - acc: 0.9256 - mean_squared_error: 0.0225 - val_loss: 0.0222 - val_acc: 0.9256 - val_mean_squared_error: 0.0222\n",
      "Epoch 42/100\n",
      "60000/60000 [==============================] - 0s 4us/step - loss: 0.0224 - acc: 0.9254 - mean_squared_error: 0.0224 - val_loss: 0.0220 - val_acc: 0.9266 - val_mean_squared_error: 0.0220\n",
      "Epoch 43/100\n",
      "60000/60000 [==============================] - 0s 4us/step - loss: 0.0221 - acc: 0.9262 - mean_squared_error: 0.0221 - val_loss: 0.0216 - val_acc: 0.9266 - val_mean_squared_error: 0.0216\n",
      "Epoch 44/100\n",
      "60000/60000 [==============================] - 0s 4us/step - loss: 0.0217 - acc: 0.9282 - mean_squared_error: 0.0217 - val_loss: 0.0213 - val_acc: 0.9292 - val_mean_squared_error: 0.0213\n",
      "Epoch 45/100\n",
      "60000/60000 [==============================] - 0s 4us/step - loss: 0.0217 - acc: 0.9278 - mean_squared_error: 0.0217 - val_loss: 0.0215 - val_acc: 0.9289 - val_mean_squared_error: 0.0215\n",
      "Epoch 46/100\n",
      "60000/60000 [==============================] - 0s 4us/step - loss: 0.0217 - acc: 0.9283 - mean_squared_error: 0.0217 - val_loss: 0.0212 - val_acc: 0.9297 - val_mean_squared_error: 0.0212\n",
      "Epoch 47/100\n",
      "60000/60000 [==============================] - 0s 4us/step - loss: 0.0212 - acc: 0.9306 - mean_squared_error: 0.0212 - val_loss: 0.0209 - val_acc: 0.9302 - val_mean_squared_error: 0.0209\n",
      "Epoch 48/100\n",
      "60000/60000 [==============================] - 0s 4us/step - loss: 0.0212 - acc: 0.9290 - mean_squared_error: 0.0212 - val_loss: 0.0212 - val_acc: 0.9294 - val_mean_squared_error: 0.0212\n",
      "Epoch 49/100\n",
      "60000/60000 [==============================] - 0s 4us/step - loss: 0.0212 - acc: 0.9293 - mean_squared_error: 0.0212 - val_loss: 0.0205 - val_acc: 0.9318 - val_mean_squared_error: 0.0205\n",
      "Epoch 50/100\n",
      "60000/60000 [==============================] - 0s 4us/step - loss: 0.0205 - acc: 0.9324 - mean_squared_error: 0.0205 - val_loss: 0.0201 - val_acc: 0.9336 - val_mean_squared_error: 0.0201\n",
      "Epoch 51/100\n",
      "60000/60000 [==============================] - 0s 4us/step - loss: 0.0202 - acc: 0.9336 - mean_squared_error: 0.0202 - val_loss: 0.0199 - val_acc: 0.9348 - val_mean_squared_error: 0.0199\n",
      "Epoch 52/100\n",
      "60000/60000 [==============================] - 0s 4us/step - loss: 0.0202 - acc: 0.9328 - mean_squared_error: 0.0202 - val_loss: 0.0202 - val_acc: 0.9336 - val_mean_squared_error: 0.0202\n",
      "Epoch 53/100\n",
      "60000/60000 [==============================] - 0s 4us/step - loss: 0.0203 - acc: 0.9331 - mean_squared_error: 0.0203 - val_loss: 0.0200 - val_acc: 0.9343 - val_mean_squared_error: 0.0200\n",
      "Epoch 54/100\n",
      "60000/60000 [==============================] - 0s 4us/step - loss: 0.0203 - acc: 0.9330 - mean_squared_error: 0.0203 - val_loss: 0.0203 - val_acc: 0.9340 - val_mean_squared_error: 0.0203\n",
      "Epoch 55/100\n",
      "60000/60000 [==============================] - 0s 4us/step - loss: 0.0201 - acc: 0.9337 - mean_squared_error: 0.0201 - val_loss: 0.0198 - val_acc: 0.9344 - val_mean_squared_error: 0.0198\n",
      "Epoch 56/100\n",
      "60000/60000 [==============================] - 0s 4us/step - loss: 0.0198 - acc: 0.9341 - mean_squared_error: 0.0198 - val_loss: 0.0197 - val_acc: 0.9345 - val_mean_squared_error: 0.0197\n",
      "Epoch 57/100\n",
      "60000/60000 [==============================] - 0s 4us/step - loss: 0.0197 - acc: 0.9352 - mean_squared_error: 0.0197 - val_loss: 0.0197 - val_acc: 0.9345 - val_mean_squared_error: 0.0197\n",
      "Epoch 58/100\n",
      "60000/60000 [==============================] - 0s 4us/step - loss: 0.0195 - acc: 0.9357 - mean_squared_error: 0.0195 - val_loss: 0.0192 - val_acc: 0.9362 - val_mean_squared_error: 0.0192\n",
      "Epoch 59/100\n",
      "60000/60000 [==============================] - 0s 4us/step - loss: 0.0191 - acc: 0.9364 - mean_squared_error: 0.0191 - val_loss: 0.0190 - val_acc: 0.9368 - val_mean_squared_error: 0.0190\n",
      "Epoch 60/100\n",
      "60000/60000 [==============================] - 0s 4us/step - loss: 0.0191 - acc: 0.9366 - mean_squared_error: 0.0191 - val_loss: 0.0188 - val_acc: 0.9373 - val_mean_squared_error: 0.0188\n",
      "Epoch 61/100\n",
      "60000/60000 [==============================] - 0s 4us/step - loss: 0.0189 - acc: 0.9373 - mean_squared_error: 0.0189 - val_loss: 0.0188 - val_acc: 0.9375 - val_mean_squared_error: 0.0188\n",
      "Epoch 62/100\n",
      "60000/60000 [==============================] - 0s 4us/step - loss: 0.0187 - acc: 0.9372 - mean_squared_error: 0.0187 - val_loss: 0.0186 - val_acc: 0.9384 - val_mean_squared_error: 0.0186\n",
      "Epoch 63/100\n",
      "60000/60000 [==============================] - 0s 4us/step - loss: 0.0186 - acc: 0.9377 - mean_squared_error: 0.0186 - val_loss: 0.0184 - val_acc: 0.9394 - val_mean_squared_error: 0.0184\n",
      "Epoch 64/100\n",
      "60000/60000 [==============================] - 0s 4us/step - loss: 0.0184 - acc: 0.9390 - mean_squared_error: 0.0184 - val_loss: 0.0183 - val_acc: 0.9391 - val_mean_squared_error: 0.0183\n",
      "Epoch 65/100\n",
      "60000/60000 [==============================] - 0s 4us/step - loss: 0.0182 - acc: 0.9393 - mean_squared_error: 0.0182 - val_loss: 0.0180 - val_acc: 0.9395 - val_mean_squared_error: 0.0180\n",
      "Epoch 66/100\n",
      "60000/60000 [==============================] - 0s 4us/step - loss: 0.0181 - acc: 0.9392 - mean_squared_error: 0.0181 - val_loss: 0.0180 - val_acc: 0.9400 - val_mean_squared_error: 0.0180\n",
      "Epoch 67/100\n",
      "60000/60000 [==============================] - 0s 4us/step - loss: 0.0180 - acc: 0.9399 - mean_squared_error: 0.0180 - val_loss: 0.0177 - val_acc: 0.9409 - val_mean_squared_error: 0.0177\n",
      "Epoch 68/100\n",
      "60000/60000 [==============================] - 0s 4us/step - loss: 0.0178 - acc: 0.9403 - mean_squared_error: 0.0178 - val_loss: 0.0176 - val_acc: 0.9404 - val_mean_squared_error: 0.0176\n",
      "Epoch 69/100\n",
      "60000/60000 [==============================] - 0s 4us/step - loss: 0.0177 - acc: 0.9405 - mean_squared_error: 0.0177 - val_loss: 0.0176 - val_acc: 0.9410 - val_mean_squared_error: 0.0176\n",
      "Epoch 70/100\n",
      "60000/60000 [==============================] - 0s 4us/step - loss: 0.0176 - acc: 0.9411 - mean_squared_error: 0.0176 - val_loss: 0.0175 - val_acc: 0.9417 - val_mean_squared_error: 0.0175\n",
      "Epoch 71/100\n",
      "60000/60000 [==============================] - 0s 4us/step - loss: 0.0177 - acc: 0.9410 - mean_squared_error: 0.0177 - val_loss: 0.0175 - val_acc: 0.9416 - val_mean_squared_error: 0.0175\n",
      "Epoch 72/100\n",
      "60000/60000 [==============================] - 0s 4us/step - loss: 0.0174 - acc: 0.9423 - mean_squared_error: 0.0174 - val_loss: 0.0173 - val_acc: 0.9421 - val_mean_squared_error: 0.0173\n",
      "Epoch 73/100\n",
      "60000/60000 [==============================] - 0s 4us/step - loss: 0.0173 - acc: 0.9429 - mean_squared_error: 0.0173 - val_loss: 0.0172 - val_acc: 0.9422 - val_mean_squared_error: 0.0172\n",
      "Epoch 74/100\n",
      "60000/60000 [==============================] - 0s 4us/step - loss: 0.0172 - acc: 0.9427 - mean_squared_error: 0.0172 - val_loss: 0.0171 - val_acc: 0.9419 - val_mean_squared_error: 0.0171\n",
      "Epoch 75/100\n",
      "60000/60000 [==============================] - 0s 4us/step - loss: 0.0171 - acc: 0.9433 - mean_squared_error: 0.0171 - val_loss: 0.0172 - val_acc: 0.9424 - val_mean_squared_error: 0.0172\n",
      "Epoch 76/100\n",
      "60000/60000 [==============================] - 0s 4us/step - loss: 0.0173 - acc: 0.9426 - mean_squared_error: 0.0173 - val_loss: 0.0173 - val_acc: 0.9432 - val_mean_squared_error: 0.0173\n",
      "Epoch 77/100\n",
      "60000/60000 [==============================] - 0s 4us/step - loss: 0.0170 - acc: 0.9432 - mean_squared_error: 0.0170 - val_loss: 0.0170 - val_acc: 0.9432 - val_mean_squared_error: 0.0170\n",
      "Epoch 78/100\n"
     ]
    },
    {
     "name": "stdout",
     "output_type": "stream",
     "text": [
      "60000/60000 [==============================] - 0s 4us/step - loss: 0.0169 - acc: 0.9441 - mean_squared_error: 0.0169 - val_loss: 0.0168 - val_acc: 0.9432 - val_mean_squared_error: 0.0168\n",
      "Epoch 79/100\n",
      "60000/60000 [==============================] - 0s 4us/step - loss: 0.0167 - acc: 0.9446 - mean_squared_error: 0.0167 - val_loss: 0.0167 - val_acc: 0.9444 - val_mean_squared_error: 0.0167\n",
      "Epoch 80/100\n",
      "60000/60000 [==============================] - 0s 4us/step - loss: 0.0167 - acc: 0.9449 - mean_squared_error: 0.0167 - val_loss: 0.0166 - val_acc: 0.9433 - val_mean_squared_error: 0.0166\n",
      "Epoch 81/100\n",
      "60000/60000 [==============================] - 0s 4us/step - loss: 0.0165 - acc: 0.9453 - mean_squared_error: 0.0165 - val_loss: 0.0164 - val_acc: 0.9444 - val_mean_squared_error: 0.0164\n",
      "Epoch 82/100\n",
      "60000/60000 [==============================] - 0s 4us/step - loss: 0.0163 - acc: 0.9460 - mean_squared_error: 0.0163 - val_loss: 0.0162 - val_acc: 0.9452 - val_mean_squared_error: 0.0162\n",
      "Epoch 83/100\n",
      "60000/60000 [==============================] - 0s 4us/step - loss: 0.0161 - acc: 0.9459 - mean_squared_error: 0.0161 - val_loss: 0.0162 - val_acc: 0.9455 - val_mean_squared_error: 0.0162\n",
      "Epoch 84/100\n",
      "60000/60000 [==============================] - 0s 4us/step - loss: 0.0161 - acc: 0.9463 - mean_squared_error: 0.0161 - val_loss: 0.0161 - val_acc: 0.9451 - val_mean_squared_error: 0.0161\n",
      "Epoch 85/100\n",
      "60000/60000 [==============================] - 0s 4us/step - loss: 0.0160 - acc: 0.9464 - mean_squared_error: 0.0160 - val_loss: 0.0160 - val_acc: 0.9457 - val_mean_squared_error: 0.0160\n",
      "Epoch 86/100\n",
      "60000/60000 [==============================] - 0s 4us/step - loss: 0.0160 - acc: 0.9467 - mean_squared_error: 0.0160 - val_loss: 0.0160 - val_acc: 0.9461 - val_mean_squared_error: 0.0160\n",
      "Epoch 87/100\n",
      "60000/60000 [==============================] - 0s 4us/step - loss: 0.0159 - acc: 0.9467 - mean_squared_error: 0.0159 - val_loss: 0.0159 - val_acc: 0.9467 - val_mean_squared_error: 0.0159\n",
      "Epoch 88/100\n",
      "60000/60000 [==============================] - 0s 4us/step - loss: 0.0158 - acc: 0.9467 - mean_squared_error: 0.0158 - val_loss: 0.0158 - val_acc: 0.9471 - val_mean_squared_error: 0.0158\n",
      "Epoch 89/100\n",
      "60000/60000 [==============================] - 0s 4us/step - loss: 0.0158 - acc: 0.9477 - mean_squared_error: 0.0158 - val_loss: 0.0158 - val_acc: 0.9468 - val_mean_squared_error: 0.0158\n",
      "Epoch 90/100\n",
      "60000/60000 [==============================] - 0s 4us/step - loss: 0.0157 - acc: 0.9478 - mean_squared_error: 0.0157 - val_loss: 0.0157 - val_acc: 0.9462 - val_mean_squared_error: 0.0157\n",
      "Epoch 91/100\n",
      "60000/60000 [==============================] - 0s 4us/step - loss: 0.0156 - acc: 0.9481 - mean_squared_error: 0.0156 - val_loss: 0.0156 - val_acc: 0.9466 - val_mean_squared_error: 0.0156\n",
      "Epoch 92/100\n",
      "60000/60000 [==============================] - 0s 4us/step - loss: 0.0155 - acc: 0.9476 - mean_squared_error: 0.0155 - val_loss: 0.0157 - val_acc: 0.9458 - val_mean_squared_error: 0.0157\n",
      "Epoch 93/100\n",
      "60000/60000 [==============================] - 0s 4us/step - loss: 0.0155 - acc: 0.9484 - mean_squared_error: 0.0155 - val_loss: 0.0156 - val_acc: 0.9463 - val_mean_squared_error: 0.0156\n",
      "Epoch 94/100\n",
      "60000/60000 [==============================] - 0s 4us/step - loss: 0.0155 - acc: 0.9485 - mean_squared_error: 0.0155 - val_loss: 0.0154 - val_acc: 0.9470 - val_mean_squared_error: 0.0154\n",
      "Epoch 95/100\n",
      "60000/60000 [==============================] - 0s 4us/step - loss: 0.0152 - acc: 0.9488 - mean_squared_error: 0.0152 - val_loss: 0.0152 - val_acc: 0.9464 - val_mean_squared_error: 0.0152\n",
      "Epoch 96/100\n",
      "60000/60000 [==============================] - 0s 4us/step - loss: 0.0151 - acc: 0.9497 - mean_squared_error: 0.0151 - val_loss: 0.0152 - val_acc: 0.9475 - val_mean_squared_error: 0.0152\n",
      "Epoch 97/100\n",
      "60000/60000 [==============================] - 0s 4us/step - loss: 0.0150 - acc: 0.9498 - mean_squared_error: 0.0150 - val_loss: 0.0151 - val_acc: 0.9472 - val_mean_squared_error: 0.0151\n",
      "Epoch 98/100\n",
      "60000/60000 [==============================] - 0s 4us/step - loss: 0.0150 - acc: 0.9497 - mean_squared_error: 0.0150 - val_loss: 0.0151 - val_acc: 0.9475 - val_mean_squared_error: 0.0151\n",
      "Epoch 99/100\n",
      "60000/60000 [==============================] - 0s 4us/step - loss: 0.0151 - acc: 0.9498 - mean_squared_error: 0.0151 - val_loss: 0.0151 - val_acc: 0.9481 - val_mean_squared_error: 0.0151\n",
      "Epoch 100/100\n",
      "60000/60000 [==============================] - 0s 4us/step - loss: 0.0150 - acc: 0.9498 - mean_squared_error: 0.0150 - val_loss: 0.0151 - val_acc: 0.9476 - val_mean_squared_error: 0.0151\n"
     ]
    },
    {
     "data": {
      "image/png": "[encoded data removed]",
      "text/plain": [
       "<Figure size 432x288 with 1 Axes>"
      ]
     },
     "metadata": {
      "needs_background": "light"
     },
     "output_type": "display_data"
    },
    {
     "name": "stdout",
     "output_type": "stream",
     "text": [
      "Creating network for 784-dimensional input and 10-dimensional output, with 3 hidden layers\n"
     ]
    }
   ],
   "source": [
    "exp = MNISTExperiment([200, 200, 200], [p, 0, 0], 1, epochs = 100, activation = 'relu', reg_type = 0, do_print = True)"
   ]
  },
  {
   "cell_type": "code",
   "execution_count": 551,
   "metadata": {},
   "outputs": [],
   "source": [
    "exp1 = exp"
   ]
  },
  {
   "cell_type": "code",
   "execution_count": 552,
   "metadata": {},
   "outputs": [],
   "source": [
    "#p = 0.0001\n",
    "#exp = RandomExperiment([2,2,2], [p],1,activation='relu')\n",
    "#exp = exp1\n",
    "#s=4\n",
    "#exp = ConstantExperiment(exp1.N[:-s], exp1.P[1:-s], 1, exp1.W[:-s], exp1.B[:-s], activation = 'relu', do_print = True)"
   ]
  },
  {
   "cell_type": "code",
   "execution_count": 553,
   "metadata": {},
   "outputs": [],
   "source": [
    "#x0 = exp1.x_train[5].reshape(-1,1)\n",
    "x0 = np.random.randn(exp.N[0], 1) * 3\n",
    "def relu(x):\n",
    "    x = np.copy(x)\n",
    "    x[x < 0] = 0\n",
    "    return x"
   ]
  },
  {
   "cell_type": "code",
   "execution_count": 554,
   "metadata": {},
   "outputs": [
    {
     "name": "stdout",
     "output_type": "stream",
     "text": [
      "0.43 1.4774538335278793\n",
      "0.52 1.702907487807714\n",
      "0.385 1.146723346782906\n",
      "1.0 1.9204239583108023\n"
     ]
    }
   ],
   "source": [
    "x = x0\n",
    "error = None\n",
    "ifail = 0\n",
    "ilast = len(exp.W) - 1\n",
    "for i, (w, b) in enumerate(zip(exp.W, exp.B)):\n",
    "    # computing the next layer\n",
    "    x = np.copy((w.T @ x) + b.reshape(-1, 1))\n",
    "    xgeq0 = 1. * np.ones((len(x), 1))\n",
    "    \n",
    "    # applying activation fcn\n",
    "    if i < ilast:\n",
    "        xgeq0 = 1. * (x >= 0)\n",
    "        x = relu(x)\n",
    "        \n",
    "    print(np.mean(xgeq0), np.mean(np.abs(x)))\n",
    "        \n",
    "    # if error starts from this level, take -px as initial error\n",
    "    if i == ifail:\n",
    "        #print(\"Initializing error\", i, x.shape, x, p, error, xgeq0)\n",
    "        error = np.copy(-p * x)\n",
    "    elif i > ifail:\n",
    "        #print(\"Updating error\", i, x.shape, error, xgeq0)\n",
    "        #assert xgeq0.shape == (w.T @ error).shape\n",
    "        error = np.copy(np.multiply(xgeq0, w.T @ error))"
   ]
  },
  {
   "cell_type": "code",
   "execution_count": 555,
   "metadata": {},
   "outputs": [
    {
     "data": {
      "text/plain": [
       "array([[ 1.23448818e-08],\n",
       "       [-7.37654753e-06],\n",
       "       [-7.37217951e-07],\n",
       "       [ 4.15233244e-07],\n",
       "       [-3.16671527e-06],\n",
       "       [-2.40705484e-06],\n",
       "       [-1.25264069e-07],\n",
       "       [ 4.52651435e-07],\n",
       "       [ 3.40005002e-06],\n",
       "       [-9.23063419e-07]])"
      ]
     },
     "execution_count": 555,
     "metadata": {},
     "output_type": "execute_result"
    }
   ],
   "source": [
    "error"
   ]
  },
  {
   "cell_type": "code",
   "execution_count": 556,
   "metadata": {},
   "outputs": [],
   "source": [
    "err = exp.get_error(x0.reshape(-1), repetitions = 1000000)\n",
    "s1 = np.mean(err, axis = 0)\n",
    "err = exp.get_error(x0.reshape(-1), repetitions = 1000000)\n",
    "s2 = np.mean(err, axis = 0)"
   ]
  },
  {
   "cell_type": "code",
   "execution_count": 557,
   "metadata": {},
   "outputs": [
    {
     "data": {
      "text/plain": [
       "(array([ 6.3542329e-06, -1.3821793e-05, -2.9966020e-06,  8.1289818e-06,\n",
       "        -3.1406350e-06, -1.5319779e-06, -1.9535141e-06, -6.8086052e-07,\n",
       "        -1.1249477e-06, -7.6875885e-06], dtype=float32),\n",
       " array([ 1.2152029e-05, -1.8033130e-05, -6.4219103e-06,  4.4030689e-06,\n",
       "        -9.7144459e-07,  3.1240340e-06, -2.8069096e-06, -5.8309261e-06,\n",
       "        -2.6853343e-06, -1.0687488e-05], dtype=float32))"
      ]
     },
     "execution_count": 557,
     "metadata": {},
     "output_type": "execute_result"
    }
   ],
   "source": [
    "s1, s2"
   ]
  },
  {
   "cell_type": "code",
   "execution_count": 457,
   "metadata": {},
   "outputs": [
    {
     "data": {
      "text/plain": [
       "1.658147443985708e-08"
      ]
     },
     "execution_count": 457,
     "metadata": {},
     "output_type": "execute_result"
    }
   ],
   "source": [
    "tr = exp.predict_no_dropout(x0.reshape(-1))\n",
    "np.mean(tr.reshape(-1)-x.reshape(-1))"
   ]
  },
  {
   "cell_type": "code",
   "execution_count": 274,
   "metadata": {},
   "outputs": [
    {
     "data": {
      "text/plain": [
       "array([[ 0.00906865],\n",
       "       [ 0.13316192],\n",
       "       [-0.60544071],\n",
       "       [ 0.55902065],\n",
       "       [-0.59266642],\n",
       "       [ 0.39996527],\n",
       "       [ 0.7521938 ],\n",
       "       [ 0.78563649],\n",
       "       [-0.45320313],\n",
       "       [ 0.2815291 ]])"
      ]
     },
     "execution_count": 274,
     "metadata": {},
     "output_type": "execute_result"
    }
   ],
   "source": [
    "x"
   ]
  },
  {
   "cell_type": "code",
   "execution_count": 201,
   "metadata": {},
   "outputs": [
    {
     "data": {
      "text/plain": [
       "array([[ 4, 10, 18],\n",
       "       [-4, -6,  3]])"
      ]
     },
     "execution_count": 201,
     "metadata": {},
     "output_type": "execute_result"
    }
   ],
   "source": [
    "np.multiply([[1,2,3],[4,3,-1]],[[4,5,6],[-1,-2,-3]])"
   ]
  },
  {
   "cell_type": "code",
   "execution_count": 251,
   "metadata": {},
   "outputs": [],
   "source": [
    "def get_sample(n = 1000):\n",
    "    res = []\n",
    "    for _ in range(n):\n",
    "        x = x0\n",
    "        ilast = len(exp.W) - 1\n",
    "        for i, (w, b) in enumerate(zip(exp.W, exp.B)):\n",
    "            # computing the next layer\n",
    "            x = np.copy((w.T @ x) + b.reshape(-1, 1))\n",
    "\n",
    "            # applying activation fcn\n",
    "            if i < ilast: x = relu(x)\n",
    "\n",
    "            if i == 0:\n",
    "                crashes = 1. * (np.random.rand(*x.shape) > p)\n",
    "                x = np.multiply(x, crashes)\n",
    "        res += [x]\n",
    "    return res"
   ]
  },
  {
   "cell_type": "code",
   "execution_count": 279,
   "metadata": {},
   "outputs": [],
   "source": [
    "r = get_sample(10000)"
   ]
  },
  {
   "cell_type": "code",
   "execution_count": 281,
   "metadata": {},
   "outputs": [
    {
     "data": {
      "text/plain": [
       "array([ 0.00567185,  0.00088476,  0.02225466, -0.00918438, -0.00282326,\n",
       "        0.00636867,  0.00508297, -0.01020638,  0.00125062,  0.00612541])"
      ]
     },
     "execution_count": 281,
     "metadata": {},
     "output_type": "execute_result"
    }
   ],
   "source": [
    "np.mean(np.array(r).reshape(10000, 10) - tr, axis=0)"
   ]
  },
  {
   "cell_type": "code",
   "execution_count": 263,
   "metadata": {},
   "outputs": [
    {
     "data": {
      "text/plain": [
       "(1000, 10, 1)"
      ]
     },
     "execution_count": 263,
     "metadata": {},
     "output_type": "execute_result"
    }
   ],
   "source": [
    "np.array(r).shape"
   ]
  },
  {
   "cell_type": "code",
   "execution_count": 260,
   "metadata": {},
   "outputs": [
    {
     "data": {
      "text/plain": [
       "(10,)"
      ]
     },
     "execution_count": 260,
     "metadata": {},
     "output_type": "execute_result"
    }
   ],
   "source": [
    "tr.shape"
   ]
  },
  {
   "cell_type": "code",
   "execution_count": 160,
   "metadata": {},
   "outputs": [
    {
     "name": "stdout",
     "output_type": "stream",
     "text": [
      "784 50\n",
      "50 50\n",
      "50 10\n",
      "_________________________________________________________________\n",
      "Layer (type)                 Output Shape              Param #   \n",
      "=================================================================\n",
      "dense_98 (Dense)             (None, 50)                39250     \n",
      "_________________________________________________________________\n",
      "dense_99 (Dense)             (None, 50)                2550      \n",
      "_________________________________________________________________\n",
      "dense_100 (Dense)            (None, 10)                510       \n",
      "=================================================================\n",
      "Total params: 42,310\n",
      "Trainable params: 42,310\n",
      "Non-trainable params: 0\n",
      "_________________________________________________________________\n",
      "Train on 60000 samples, validate on 10000 samples\n",
      "Epoch 1/50\n",
      "60000/60000 [==============================] - 1s 9us/step - loss: 0.4492 - acc: 0.1301 - mean_squared_error: 0.4492 - val_loss: 0.1527 - val_acc: 0.1722 - val_mean_squared_error: 0.1527\n",
      "Epoch 2/50\n",
      "60000/60000 [==============================] - 0s 4us/step - loss: 0.1239 - acc: 0.2152 - mean_squared_error: 0.1239 - val_loss: 0.1004 - val_acc: 0.2845 - val_mean_squared_error: 0.1004\n",
      "Epoch 3/50\n",
      "60000/60000 [==============================] - 0s 4us/step - loss: 0.0952 - acc: 0.3166 - mean_squared_error: 0.0952 - val_loss: 0.0878 - val_acc: 0.3786 - val_mean_squared_error: 0.0878\n",
      "Epoch 4/50\n",
      "60000/60000 [==============================] - 0s 4us/step - loss: 0.0853 - acc: 0.4041 - mean_squared_error: 0.0853 - val_loss: 0.0807 - val_acc: 0.4534 - val_mean_squared_error: 0.0807\n",
      "Epoch 5/50\n",
      "60000/60000 [==============================] - 0s 4us/step - loss: 0.0790 - acc: 0.4772 - mean_squared_error: 0.0790 - val_loss: 0.0755 - val_acc: 0.5219 - val_mean_squared_error: 0.0755\n",
      "Epoch 6/50\n",
      "60000/60000 [==============================] - 0s 4us/step - loss: 0.0743 - acc: 0.5407 - mean_squared_error: 0.0743 - val_loss: 0.0714 - val_acc: 0.5801 - val_mean_squared_error: 0.0714\n",
      "Epoch 7/50\n",
      "60000/60000 [==============================] - 0s 4us/step - loss: 0.0705 - acc: 0.5933 - mean_squared_error: 0.0705 - val_loss: 0.0680 - val_acc: 0.6264 - val_mean_squared_error: 0.0680\n",
      "Epoch 8/50\n",
      "60000/60000 [==============================] - 0s 4us/step - loss: 0.0673 - acc: 0.6359 - mean_squared_error: 0.0673 - val_loss: 0.0651 - val_acc: 0.6672 - val_mean_squared_error: 0.0651\n",
      "Epoch 9/50\n",
      "60000/60000 [==============================] - 0s 4us/step - loss: 0.0645 - acc: 0.6702 - mean_squared_error: 0.0645 - val_loss: 0.0625 - val_acc: 0.6974 - val_mean_squared_error: 0.0625\n",
      "Epoch 10/50\n",
      "60000/60000 [==============================] - 0s 4us/step - loss: 0.0621 - acc: 0.6970 - mean_squared_error: 0.0621 - val_loss: 0.0606 - val_acc: 0.7100 - val_mean_squared_error: 0.0606\n",
      "Epoch 11/50\n",
      "60000/60000 [==============================] - 0s 4us/step - loss: 0.0611 - acc: 0.7102 - mean_squared_error: 0.0611 - val_loss: 0.0604 - val_acc: 0.6996 - val_mean_squared_error: 0.0604\n",
      "Epoch 12/50\n",
      "60000/60000 [==============================] - 0s 4us/step - loss: 0.0605 - acc: 0.7163 - mean_squared_error: 0.0605 - val_loss: 0.0592 - val_acc: 0.7092 - val_mean_squared_error: 0.0592\n",
      "Epoch 13/50\n",
      "60000/60000 [==============================] - 0s 4us/step - loss: 0.0592 - acc: 0.7294 - mean_squared_error: 0.0592 - val_loss: 0.0572 - val_acc: 0.7314 - val_mean_squared_error: 0.0572\n",
      "Epoch 14/50\n",
      "60000/60000 [==============================] - 0s 4us/step - loss: 0.0566 - acc: 0.7506 - mean_squared_error: 0.0566 - val_loss: 0.0550 - val_acc: 0.7531 - val_mean_squared_error: 0.0550\n",
      "Epoch 15/50\n",
      "60000/60000 [==============================] - 0s 4us/step - loss: 0.0545 - acc: 0.7682 - mean_squared_error: 0.0545 - val_loss: 0.0530 - val_acc: 0.7720 - val_mean_squared_error: 0.0530\n",
      "Epoch 16/50\n",
      "60000/60000 [==============================] - 0s 4us/step - loss: 0.0530 - acc: 0.7783 - mean_squared_error: 0.0530 - val_loss: 0.0518 - val_acc: 0.7789 - val_mean_squared_error: 0.0518\n",
      "Epoch 17/50\n",
      "60000/60000 [==============================] - 0s 4us/step - loss: 0.0519 - acc: 0.7868 - mean_squared_error: 0.0519 - val_loss: 0.0506 - val_acc: 0.7888 - val_mean_squared_error: 0.0506\n",
      "Epoch 18/50\n",
      "60000/60000 [==============================] - 0s 4us/step - loss: 0.0509 - acc: 0.7922 - mean_squared_error: 0.0509 - val_loss: 0.0498 - val_acc: 0.7950 - val_mean_squared_error: 0.0498\n",
      "Epoch 19/50\n",
      "60000/60000 [==============================] - 0s 4us/step - loss: 0.0500 - acc: 0.7976 - mean_squared_error: 0.0500 - val_loss: 0.0488 - val_acc: 0.8031 - val_mean_squared_error: 0.0488\n",
      "Epoch 20/50\n",
      "60000/60000 [==============================] - 0s 4us/step - loss: 0.0488 - acc: 0.8048 - mean_squared_error: 0.0488 - val_loss: 0.0474 - val_acc: 0.8127 - val_mean_squared_error: 0.0474\n",
      "Epoch 21/50\n",
      "60000/60000 [==============================] - 0s 4us/step - loss: 0.0478 - acc: 0.8088 - mean_squared_error: 0.0478 - val_loss: 0.0465 - val_acc: 0.8215 - val_mean_squared_error: 0.0465\n",
      "Epoch 22/50\n",
      "60000/60000 [==============================] - 0s 4us/step - loss: 0.0469 - acc: 0.8146 - mean_squared_error: 0.0469 - val_loss: 0.0452 - val_acc: 0.8325 - val_mean_squared_error: 0.0452\n",
      "Epoch 23/50\n",
      "60000/60000 [==============================] - 0s 4us/step - loss: 0.0460 - acc: 0.8214 - mean_squared_error: 0.0460 - val_loss: 0.0450 - val_acc: 0.8396 - val_mean_squared_error: 0.0450\n",
      "Epoch 24/50\n",
      "60000/60000 [==============================] - 0s 4us/step - loss: 0.0456 - acc: 0.8250 - mean_squared_error: 0.0456 - val_loss: 0.0443 - val_acc: 0.8451 - val_mean_squared_error: 0.0443\n",
      "Epoch 25/50\n",
      "60000/60000 [==============================] - 0s 4us/step - loss: 0.0446 - acc: 0.8304 - mean_squared_error: 0.0446 - val_loss: 0.0433 - val_acc: 0.8526 - val_mean_squared_error: 0.0433\n",
      "Epoch 26/50\n",
      "60000/60000 [==============================] - 0s 4us/step - loss: 0.0437 - acc: 0.8355 - mean_squared_error: 0.0437 - val_loss: 0.0425 - val_acc: 0.8569 - val_mean_squared_error: 0.0425\n",
      "Epoch 27/50\n",
      "60000/60000 [==============================] - 0s 4us/step - loss: 0.0428 - acc: 0.8408 - mean_squared_error: 0.0428 - val_loss: 0.0412 - val_acc: 0.8608 - val_mean_squared_error: 0.0412\n",
      "Epoch 28/50\n",
      "60000/60000 [==============================] - 0s 4us/step - loss: 0.0419 - acc: 0.8443 - mean_squared_error: 0.0419 - val_loss: 0.0411 - val_acc: 0.8615 - val_mean_squared_error: 0.0411\n",
      "Epoch 29/50\n",
      "60000/60000 [==============================] - 0s 4us/step - loss: 0.0412 - acc: 0.8474 - mean_squared_error: 0.0412 - val_loss: 0.0401 - val_acc: 0.8636 - val_mean_squared_error: 0.0401\n",
      "Epoch 30/50\n",
      "60000/60000 [==============================] - 0s 4us/step - loss: 0.0403 - acc: 0.8499 - mean_squared_error: 0.0403 - val_loss: 0.0390 - val_acc: 0.8669 - val_mean_squared_error: 0.0390\n",
      "Epoch 31/50\n",
      "60000/60000 [==============================] - 0s 4us/step - loss: 0.0395 - acc: 0.8529 - mean_squared_error: 0.0395 - val_loss: 0.0384 - val_acc: 0.8655 - val_mean_squared_error: 0.0384\n",
      "Epoch 32/50\n",
      "60000/60000 [==============================] - 0s 4us/step - loss: 0.0387 - acc: 0.8550 - mean_squared_error: 0.0387 - val_loss: 0.0376 - val_acc: 0.8679 - val_mean_squared_error: 0.0376\n",
      "Epoch 33/50\n",
      "60000/60000 [==============================] - 0s 4us/step - loss: 0.0380 - acc: 0.8593 - mean_squared_error: 0.0380 - val_loss: 0.0368 - val_acc: 0.8708 - val_mean_squared_error: 0.0368\n",
      "Epoch 34/50\n",
      "60000/60000 [==============================] - 0s 4us/step - loss: 0.0371 - acc: 0.8613 - mean_squared_error: 0.0371 - val_loss: 0.0361 - val_acc: 0.8733 - val_mean_squared_error: 0.0361\n",
      "Epoch 35/50\n",
      "60000/60000 [==============================] - 0s 4us/step - loss: 0.0368 - acc: 0.8622 - mean_squared_error: 0.0368 - val_loss: 0.0357 - val_acc: 0.8741 - val_mean_squared_error: 0.0357\n",
      "Epoch 36/50\n",
      "60000/60000 [==============================] - 0s 4us/step - loss: 0.0365 - acc: 0.8615 - mean_squared_error: 0.0365 - val_loss: 0.0356 - val_acc: 0.8724 - val_mean_squared_error: 0.0356\n",
      "Epoch 37/50\n",
      "60000/60000 [==============================] - 0s 4us/step - loss: 0.0360 - acc: 0.8625 - mean_squared_error: 0.0360 - val_loss: 0.0348 - val_acc: 0.8760 - val_mean_squared_error: 0.0348\n",
      "Epoch 38/50\n"
     ]
    },
    {
     "name": "stdout",
     "output_type": "stream",
     "text": [
      "60000/60000 [==============================] - 0s 4us/step - loss: 0.0355 - acc: 0.8658 - mean_squared_error: 0.0355 - val_loss: 0.0348 - val_acc: 0.8750 - val_mean_squared_error: 0.0348\n",
      "Epoch 39/50\n",
      "60000/60000 [==============================] - 0s 4us/step - loss: 0.0354 - acc: 0.8662 - mean_squared_error: 0.0354 - val_loss: 0.0343 - val_acc: 0.8754 - val_mean_squared_error: 0.0343\n",
      "Epoch 40/50\n",
      "60000/60000 [==============================] - 0s 4us/step - loss: 0.0347 - acc: 0.8682 - mean_squared_error: 0.0347 - val_loss: 0.0336 - val_acc: 0.8774 - val_mean_squared_error: 0.0336\n",
      "Epoch 41/50\n",
      "60000/60000 [==============================] - 0s 4us/step - loss: 0.0339 - acc: 0.8702 - mean_squared_error: 0.0339 - val_loss: 0.0328 - val_acc: 0.8811 - val_mean_squared_error: 0.0328\n",
      "Epoch 42/50\n",
      "60000/60000 [==============================] - 0s 4us/step - loss: 0.0334 - acc: 0.8728 - mean_squared_error: 0.0334 - val_loss: 0.0326 - val_acc: 0.8818 - val_mean_squared_error: 0.0326\n",
      "Epoch 43/50\n",
      "60000/60000 [==============================] - 0s 4us/step - loss: 0.0331 - acc: 0.8745 - mean_squared_error: 0.0331 - val_loss: 0.0321 - val_acc: 0.8822 - val_mean_squared_error: 0.0321\n",
      "Epoch 44/50\n",
      "60000/60000 [==============================] - 0s 4us/step - loss: 0.0325 - acc: 0.8755 - mean_squared_error: 0.0325 - val_loss: 0.0314 - val_acc: 0.8865 - val_mean_squared_error: 0.0314\n",
      "Epoch 45/50\n",
      "60000/60000 [==============================] - 0s 4us/step - loss: 0.0320 - acc: 0.8768 - mean_squared_error: 0.0320 - val_loss: 0.0311 - val_acc: 0.8867 - val_mean_squared_error: 0.0311\n",
      "Epoch 46/50\n",
      "60000/60000 [==============================] - 0s 4us/step - loss: 0.0318 - acc: 0.8775 - mean_squared_error: 0.0318 - val_loss: 0.0309 - val_acc: 0.8872 - val_mean_squared_error: 0.0309\n",
      "Epoch 47/50\n",
      "60000/60000 [==============================] - 0s 4us/step - loss: 0.0316 - acc: 0.8809 - mean_squared_error: 0.0316 - val_loss: 0.0307 - val_acc: 0.8890 - val_mean_squared_error: 0.0307\n",
      "Epoch 48/50\n",
      "60000/60000 [==============================] - 0s 4us/step - loss: 0.0313 - acc: 0.8811 - mean_squared_error: 0.0313 - val_loss: 0.0305 - val_acc: 0.8900 - val_mean_squared_error: 0.0305\n",
      "Epoch 49/50\n",
      "60000/60000 [==============================] - 0s 4us/step - loss: 0.0310 - acc: 0.8812 - mean_squared_error: 0.0310 - val_loss: 0.0299 - val_acc: 0.8929 - val_mean_squared_error: 0.0299\n",
      "Epoch 50/50\n",
      "60000/60000 [==============================] - 0s 4us/step - loss: 0.0303 - acc: 0.8827 - mean_squared_error: 0.0303 - val_loss: 0.0293 - val_acc: 0.8944 - val_mean_squared_error: 0.0293\n"
     ]
    },
    {
     "data": {
      "image/png": "[encoded data removed]",
      "text/plain": [
       "<Figure size 432x288 with 1 Axes>"
      ]
     },
     "metadata": {
      "needs_background": "light"
     },
     "output_type": "display_data"
    },
    {
     "name": "stdout",
     "output_type": "stream",
     "text": [
      "Creating network for 784-dimensional input and 10-dimensional output, with 2 hidden layers\n"
     ]
    }
   ],
   "source": [
    "p = 0.2\n",
    "#exp = RandomExperiment([2,2,2,2,2], [p,0,0],1,activation='sigmoid')\n",
    "exp = MNISTExperiment([50, 50], [p, 0], 1, epochs = 50, activation = 'sigmoid', reg_type = 0, do_print = True)"
   ]
  },
  {
   "cell_type": "code",
   "execution_count": 155,
   "metadata": {},
   "outputs": [],
   "source": [
    "def sigmoid(x):\n",
    "    return expit(4 * x)\n",
    "def sigmoid_derivative(x):\n",
    "    r = expit(4 * x)\n",
    "    return 4 * np.multiply(r, 1 - r)"
   ]
  },
  {
   "cell_type": "code",
   "execution_count": 161,
   "metadata": {},
   "outputs": [],
   "source": [
    "def get_error1(x0):\n",
    "  x = x0\n",
    "  error = None\n",
    "  ifail = 0\n",
    "  ilast = len(exp.W) - 1\n",
    "  for i, (w, b) in enumerate(zip(exp.W, exp.B)):\n",
    "    # computing the next layer\n",
    "    x = np.copy((w.T @ x) + b.reshape(-1, 1))\n",
    "    xgeq0 = np.ones((len(x), 1))\n",
    "    \n",
    "    # applying activation fcn\n",
    "    if i < ilast:\n",
    "        xgeq0 = sigmoid_derivative(x)\n",
    "        x = sigmoid(x)\n",
    "        \n",
    "    #print(np.mean(xgeq0), np.mean(np.abs(x)))\n",
    "        \n",
    "    # if error starts from this level, take -px as initial error\n",
    "    if i == ifail:\n",
    "        #print(\"Initializing error\", i, x.shape, x, p, error, xgeq0)\n",
    "        error = np.copy(-p * x)\n",
    "    elif i > ifail:\n",
    "        #print(\"Updating error\", i, x.shape, error, xgeq0)\n",
    "        assert xgeq0.shape == (w.T @ error).shape\n",
    "        error = np.copy(np.multiply(xgeq0, w.T @ error))\n",
    "        #error = w.T @ error\n",
    "  return error.reshape(-1)"
   ]
  },
  {
   "cell_type": "code",
   "execution_count": 162,
   "metadata": {},
   "outputs": [],
   "source": [
    "def get_error2(x0):\n",
    "    err = exp.get_error(x0.reshape(-1), repetitions = 500000)\n",
    "    s1 = np.mean(err, axis = 0)\n",
    "    return s1.reshape(-1)"
   ]
  },
  {
   "cell_type": "code",
   "execution_count": 163,
   "metadata": {},
   "outputs": [
    {
     "name": "stdout",
     "output_type": "stream",
     "text": [
      "[-0.01664383 -0.1011506   0.04110173 -0.00267078 -0.01316006 -0.02418\n",
      "  0.08153918  0.00365235 -0.0289394   0.05012364] [-0.02103631 -0.26770592  0.0727432  -0.01432961 -0.02617468 -0.07943909\n",
      "  0.25342706  0.0481874  -0.08321616  0.15953505]\n",
      "1.0 [0.04282026 1.62367132 0.30845814 0.11365654 0.12687351 0.53869554\n",
      " 1.67565601 0.43415176 0.52911927 1.06660164]\n",
      "[ 0.0050966   0.01837956 -0.02029026  0.01529327 -0.027888   -0.02722566\n",
      "  0.0130094   0.01203307 -0.03059995  0.02082886] [ 0.04013256  0.04246281 -0.06909018  0.03498118 -0.03575125 -0.08377174\n",
      "  0.08272856  0.0308839  -0.12085069  0.09424225]\n",
      "1.0 [0.55183857 0.37932635 0.7686296  0.31009704 0.12385113 0.89063655\n",
      " 1.0981208  0.29691243 1.4215063  1.1563074 ]\n"
     ]
    },
    {
     "ename": "KeyboardInterrupt",
     "evalue": "",
     "output_type": "error",
     "traceback": [
      "\u001b[0;31m---------------------------------------------------------------------------\u001b[0m",
      "\u001b[0;31mKeyboardInterrupt\u001b[0m                         Traceback (most recent call last)",
      "\u001b[0;32m<ipython-input-163-0d7f77d5f33d>\u001b[0m in \u001b[0;36m<module>\u001b[0;34m\u001b[0m\n\u001b[1;32m      6\u001b[0m     \u001b[0;31m#x0 = np.random.randn(exp.N[0], 1) + 0.1\u001b[0m\u001b[0;34m\u001b[0m\u001b[0;34m\u001b[0m\u001b[0m\n\u001b[1;32m      7\u001b[0m     \u001b[0me1\u001b[0m \u001b[0;34m=\u001b[0m \u001b[0mget_error1\u001b[0m\u001b[0;34m(\u001b[0m\u001b[0mx0\u001b[0m\u001b[0;34m)\u001b[0m\u001b[0;34m\u001b[0m\u001b[0m\n\u001b[0;32m----> 8\u001b[0;31m     \u001b[0me2\u001b[0m \u001b[0;34m=\u001b[0m \u001b[0mget_error2\u001b[0m\u001b[0;34m(\u001b[0m\u001b[0mx0\u001b[0m\u001b[0;34m)\u001b[0m\u001b[0;34m\u001b[0m\u001b[0m\n\u001b[0m\u001b[1;32m      9\u001b[0m     \u001b[0mprint\u001b[0m\u001b[0;34m(\u001b[0m\u001b[0me1\u001b[0m\u001b[0;34m,\u001b[0m \u001b[0me2\u001b[0m\u001b[0;34m)\u001b[0m\u001b[0;34m\u001b[0m\u001b[0m\n\u001b[1;32m     10\u001b[0m     \u001b[0mprint\u001b[0m\u001b[0;34m(\u001b[0m\u001b[0mnp\u001b[0m\u001b[0;34m.\u001b[0m\u001b[0mmean\u001b[0m\u001b[0;34m(\u001b[0m\u001b[0mnp\u001b[0m\u001b[0;34m.\u001b[0m\u001b[0msign\u001b[0m\u001b[0;34m(\u001b[0m\u001b[0me1\u001b[0m\u001b[0;34m)\u001b[0m \u001b[0;34m==\u001b[0m \u001b[0mnp\u001b[0m\u001b[0;34m.\u001b[0m\u001b[0msign\u001b[0m\u001b[0;34m(\u001b[0m\u001b[0me2\u001b[0m\u001b[0;34m)\u001b[0m\u001b[0;34m)\u001b[0m\u001b[0;34m,\u001b[0m \u001b[0mnp\u001b[0m\u001b[0;34m.\u001b[0m\u001b[0mabs\u001b[0m\u001b[0;34m(\u001b[0m\u001b[0me1\u001b[0m \u001b[0;34m-\u001b[0m \u001b[0me2\u001b[0m\u001b[0;34m)\u001b[0m \u001b[0;34m/\u001b[0m \u001b[0mnp\u001b[0m\u001b[0;34m.\u001b[0m\u001b[0mmean\u001b[0m\u001b[0;34m(\u001b[0m\u001b[0mnp\u001b[0m\u001b[0;34m.\u001b[0m\u001b[0mabs\u001b[0m\u001b[0;34m(\u001b[0m\u001b[0me2\u001b[0m\u001b[0;34m)\u001b[0m\u001b[0;34m)\u001b[0m\u001b[0;34m)\u001b[0m\u001b[0;34m\u001b[0m\u001b[0m\n",
      "\u001b[0;32m<ipython-input-162-6f828503dedc>\u001b[0m in \u001b[0;36mget_error2\u001b[0;34m(x0)\u001b[0m\n\u001b[1;32m      1\u001b[0m \u001b[0;32mdef\u001b[0m \u001b[0mget_error2\u001b[0m\u001b[0;34m(\u001b[0m\u001b[0mx0\u001b[0m\u001b[0;34m)\u001b[0m\u001b[0;34m:\u001b[0m\u001b[0;34m\u001b[0m\u001b[0m\n\u001b[0;32m----> 2\u001b[0;31m     \u001b[0merr\u001b[0m \u001b[0;34m=\u001b[0m \u001b[0mexp\u001b[0m\u001b[0;34m.\u001b[0m\u001b[0mget_error\u001b[0m\u001b[0;34m(\u001b[0m\u001b[0mx0\u001b[0m\u001b[0;34m.\u001b[0m\u001b[0mreshape\u001b[0m\u001b[0;34m(\u001b[0m\u001b[0;34m-\u001b[0m\u001b[0;36m1\u001b[0m\u001b[0;34m)\u001b[0m\u001b[0;34m,\u001b[0m \u001b[0mrepetitions\u001b[0m \u001b[0;34m=\u001b[0m \u001b[0;36m500000\u001b[0m\u001b[0;34m)\u001b[0m\u001b[0;34m\u001b[0m\u001b[0m\n\u001b[0m\u001b[1;32m      3\u001b[0m     \u001b[0ms1\u001b[0m \u001b[0;34m=\u001b[0m \u001b[0mnp\u001b[0m\u001b[0;34m.\u001b[0m\u001b[0mmean\u001b[0m\u001b[0;34m(\u001b[0m\u001b[0merr\u001b[0m\u001b[0;34m,\u001b[0m \u001b[0maxis\u001b[0m \u001b[0;34m=\u001b[0m \u001b[0;36m0\u001b[0m\u001b[0;34m)\u001b[0m\u001b[0;34m\u001b[0m\u001b[0m\n\u001b[1;32m      4\u001b[0m     \u001b[0;32mreturn\u001b[0m \u001b[0ms1\u001b[0m\u001b[0;34m.\u001b[0m\u001b[0mreshape\u001b[0m\u001b[0;34m(\u001b[0m\u001b[0;34m-\u001b[0m\u001b[0;36m1\u001b[0m\u001b[0;34m)\u001b[0m\u001b[0;34m\u001b[0m\u001b[0m\n",
      "\u001b[0;32m~/code/experiment.py\u001b[0m in \u001b[0;36mget_error\u001b[0;34m(experiment, inp, repetitions)\u001b[0m\n\u001b[1;32m     69\u001b[0m   \u001b[0;32mdef\u001b[0m \u001b[0mget_error\u001b[0m\u001b[0;34m(\u001b[0m\u001b[0mexperiment\u001b[0m\u001b[0;34m,\u001b[0m \u001b[0minp\u001b[0m\u001b[0;34m,\u001b[0m \u001b[0mrepetitions\u001b[0m \u001b[0;34m=\u001b[0m \u001b[0;36m100\u001b[0m\u001b[0;34m)\u001b[0m\u001b[0;34m:\u001b[0m\u001b[0;34m\u001b[0m\u001b[0m\n\u001b[1;32m     70\u001b[0m     \u001b[0;34m\"\"\" Return error between crashed and correct networks \"\"\"\u001b[0m\u001b[0;34m\u001b[0m\u001b[0m\n\u001b[0;32m---> 71\u001b[0;31m     \u001b[0;32mreturn\u001b[0m \u001b[0mexperiment\u001b[0m\u001b[0;34m.\u001b[0m\u001b[0mpredict\u001b[0m\u001b[0;34m(\u001b[0m\u001b[0minp\u001b[0m\u001b[0;34m,\u001b[0m \u001b[0mrepetitions\u001b[0m \u001b[0;34m=\u001b[0m \u001b[0mrepetitions\u001b[0m\u001b[0;34m)\u001b[0m \u001b[0;34m-\u001b[0m \u001b[0mexperiment\u001b[0m\u001b[0;34m.\u001b[0m\u001b[0mpredict_no_dropout\u001b[0m\u001b[0;34m(\u001b[0m\u001b[0minp\u001b[0m\u001b[0;34m)\u001b[0m\u001b[0;34m\u001b[0m\u001b[0m\n\u001b[0m\u001b[1;32m     72\u001b[0m \u001b[0;34m\u001b[0m\u001b[0m\n\u001b[1;32m     73\u001b[0m   \u001b[0;32mdef\u001b[0m \u001b[0mget_wb\u001b[0m\u001b[0;34m(\u001b[0m\u001b[0mself\u001b[0m\u001b[0;34m,\u001b[0m \u001b[0mlayer\u001b[0m\u001b[0;34m)\u001b[0m\u001b[0;34m:\u001b[0m\u001b[0;34m\u001b[0m\u001b[0m\n",
      "\u001b[0;32m~/code/experiment.py\u001b[0m in \u001b[0;36mpredict\u001b[0;34m(self, data, repetitions)\u001b[0m\n\u001b[1;32m     51\u001b[0m     \u001b[0;34m\"\"\" Get crashed network outputs for given input vector and number of repetitions \"\"\"\u001b[0m\u001b[0;34m\u001b[0m\u001b[0m\n\u001b[1;32m     52\u001b[0m     \u001b[0mdata\u001b[0m \u001b[0;34m=\u001b[0m \u001b[0mnp\u001b[0m\u001b[0;34m.\u001b[0m\u001b[0mrepeat\u001b[0m\u001b[0;34m(\u001b[0m\u001b[0mnp\u001b[0m\u001b[0;34m.\u001b[0m\u001b[0marray\u001b[0m\u001b[0;34m(\u001b[0m\u001b[0;34m[\u001b[0m\u001b[0mdata\u001b[0m\u001b[0;34m]\u001b[0m\u001b[0;34m)\u001b[0m\u001b[0;34m,\u001b[0m \u001b[0mrepetitions\u001b[0m\u001b[0;34m,\u001b[0m \u001b[0maxis\u001b[0m \u001b[0;34m=\u001b[0m \u001b[0;36m0\u001b[0m\u001b[0;34m)\u001b[0m\u001b[0;34m\u001b[0m\u001b[0m\n\u001b[0;32m---> 53\u001b[0;31m     \u001b[0;32mreturn\u001b[0m \u001b[0mself\u001b[0m\u001b[0;34m.\u001b[0m\u001b[0mmodel\u001b[0m\u001b[0;34m.\u001b[0m\u001b[0mpredict\u001b[0m\u001b[0;34m(\u001b[0m\u001b[0mdata\u001b[0m\u001b[0;34m)\u001b[0m\u001b[0;34m\u001b[0m\u001b[0m\n\u001b[0m\u001b[1;32m     54\u001b[0m \u001b[0;34m\u001b[0m\u001b[0m\n\u001b[1;32m     55\u001b[0m   \u001b[0;32mdef\u001b[0m \u001b[0mplot_error\u001b[0m\u001b[0;34m(\u001b[0m\u001b[0mexperiment\u001b[0m\u001b[0;34m,\u001b[0m \u001b[0merrors\u001b[0m\u001b[0;34m)\u001b[0m\u001b[0;34m:\u001b[0m\u001b[0;34m\u001b[0m\u001b[0m\n",
      "\u001b[0;32m~/miniconda3/envs/neuronfailure/lib/python3.6/site-packages/keras/engine/training.py\u001b[0m in \u001b[0;36mpredict\u001b[0;34m(self, x, batch_size, verbose, steps)\u001b[0m\n\u001b[1;32m   1167\u001b[0m                                             \u001b[0mbatch_size\u001b[0m\u001b[0;34m=\u001b[0m\u001b[0mbatch_size\u001b[0m\u001b[0;34m,\u001b[0m\u001b[0;34m\u001b[0m\u001b[0m\n\u001b[1;32m   1168\u001b[0m                                             \u001b[0mverbose\u001b[0m\u001b[0;34m=\u001b[0m\u001b[0mverbose\u001b[0m\u001b[0;34m,\u001b[0m\u001b[0;34m\u001b[0m\u001b[0m\n\u001b[0;32m-> 1169\u001b[0;31m                                             steps=steps)\n\u001b[0m\u001b[1;32m   1170\u001b[0m \u001b[0;34m\u001b[0m\u001b[0m\n\u001b[1;32m   1171\u001b[0m     def train_on_batch(self, x, y,\n",
      "\u001b[0;32m~/miniconda3/envs/neuronfailure/lib/python3.6/site-packages/keras/engine/training_arrays.py\u001b[0m in \u001b[0;36mpredict_loop\u001b[0;34m(model, f, ins, batch_size, verbose, steps)\u001b[0m\n\u001b[1;32m    292\u001b[0m                 \u001b[0mins_batch\u001b[0m\u001b[0;34m[\u001b[0m\u001b[0mi\u001b[0m\u001b[0;34m]\u001b[0m \u001b[0;34m=\u001b[0m \u001b[0mins_batch\u001b[0m\u001b[0;34m[\u001b[0m\u001b[0mi\u001b[0m\u001b[0;34m]\u001b[0m\u001b[0;34m.\u001b[0m\u001b[0mtoarray\u001b[0m\u001b[0;34m(\u001b[0m\u001b[0;34m)\u001b[0m\u001b[0;34m\u001b[0m\u001b[0m\n\u001b[1;32m    293\u001b[0m \u001b[0;34m\u001b[0m\u001b[0m\n\u001b[0;32m--> 294\u001b[0;31m             \u001b[0mbatch_outs\u001b[0m \u001b[0;34m=\u001b[0m \u001b[0mf\u001b[0m\u001b[0;34m(\u001b[0m\u001b[0mins_batch\u001b[0m\u001b[0;34m)\u001b[0m\u001b[0;34m\u001b[0m\u001b[0m\n\u001b[0m\u001b[1;32m    295\u001b[0m             \u001b[0mbatch_outs\u001b[0m \u001b[0;34m=\u001b[0m \u001b[0mto_list\u001b[0m\u001b[0;34m(\u001b[0m\u001b[0mbatch_outs\u001b[0m\u001b[0;34m)\u001b[0m\u001b[0;34m\u001b[0m\u001b[0m\n\u001b[1;32m    296\u001b[0m             \u001b[0;32mif\u001b[0m \u001b[0mbatch_index\u001b[0m \u001b[0;34m==\u001b[0m \u001b[0;36m0\u001b[0m\u001b[0;34m:\u001b[0m\u001b[0;34m\u001b[0m\u001b[0m\n",
      "\u001b[0;32m~/miniconda3/envs/neuronfailure/lib/python3.6/site-packages/keras/backend/tensorflow_backend.py\u001b[0m in \u001b[0;36m__call__\u001b[0;34m(self, inputs)\u001b[0m\n\u001b[1;32m   2713\u001b[0m                 \u001b[0;32mreturn\u001b[0m \u001b[0mself\u001b[0m\u001b[0;34m.\u001b[0m\u001b[0m_legacy_call\u001b[0m\u001b[0;34m(\u001b[0m\u001b[0minputs\u001b[0m\u001b[0;34m)\u001b[0m\u001b[0;34m\u001b[0m\u001b[0m\n\u001b[1;32m   2714\u001b[0m \u001b[0;34m\u001b[0m\u001b[0m\n\u001b[0;32m-> 2715\u001b[0;31m             \u001b[0;32mreturn\u001b[0m \u001b[0mself\u001b[0m\u001b[0;34m.\u001b[0m\u001b[0m_call\u001b[0m\u001b[0;34m(\u001b[0m\u001b[0minputs\u001b[0m\u001b[0;34m)\u001b[0m\u001b[0;34m\u001b[0m\u001b[0m\n\u001b[0m\u001b[1;32m   2716\u001b[0m         \u001b[0;32melse\u001b[0m\u001b[0;34m:\u001b[0m\u001b[0;34m\u001b[0m\u001b[0m\n\u001b[1;32m   2717\u001b[0m             \u001b[0;32mif\u001b[0m \u001b[0mpy_any\u001b[0m\u001b[0;34m(\u001b[0m\u001b[0mis_tensor\u001b[0m\u001b[0;34m(\u001b[0m\u001b[0mx\u001b[0m\u001b[0;34m)\u001b[0m \u001b[0;32mfor\u001b[0m \u001b[0mx\u001b[0m \u001b[0;32min\u001b[0m \u001b[0minputs\u001b[0m\u001b[0;34m)\u001b[0m\u001b[0;34m:\u001b[0m\u001b[0;34m\u001b[0m\u001b[0m\n",
      "\u001b[0;32m~/miniconda3/envs/neuronfailure/lib/python3.6/site-packages/keras/backend/tensorflow_backend.py\u001b[0m in \u001b[0;36m_call\u001b[0;34m(self, inputs)\u001b[0m\n\u001b[1;32m   2673\u001b[0m             \u001b[0mfetched\u001b[0m \u001b[0;34m=\u001b[0m \u001b[0mself\u001b[0m\u001b[0;34m.\u001b[0m\u001b[0m_callable_fn\u001b[0m\u001b[0;34m(\u001b[0m\u001b[0;34m*\u001b[0m\u001b[0marray_vals\u001b[0m\u001b[0;34m,\u001b[0m \u001b[0mrun_metadata\u001b[0m\u001b[0;34m=\u001b[0m\u001b[0mself\u001b[0m\u001b[0;34m.\u001b[0m\u001b[0mrun_metadata\u001b[0m\u001b[0;34m)\u001b[0m\u001b[0;34m\u001b[0m\u001b[0m\n\u001b[1;32m   2674\u001b[0m         \u001b[0;32melse\u001b[0m\u001b[0;34m:\u001b[0m\u001b[0;34m\u001b[0m\u001b[0m\n\u001b[0;32m-> 2675\u001b[0;31m             \u001b[0mfetched\u001b[0m \u001b[0;34m=\u001b[0m \u001b[0mself\u001b[0m\u001b[0;34m.\u001b[0m\u001b[0m_callable_fn\u001b[0m\u001b[0;34m(\u001b[0m\u001b[0;34m*\u001b[0m\u001b[0marray_vals\u001b[0m\u001b[0;34m)\u001b[0m\u001b[0;34m\u001b[0m\u001b[0m\n\u001b[0m\u001b[1;32m   2676\u001b[0m         \u001b[0;32mreturn\u001b[0m \u001b[0mfetched\u001b[0m\u001b[0;34m[\u001b[0m\u001b[0;34m:\u001b[0m\u001b[0mlen\u001b[0m\u001b[0;34m(\u001b[0m\u001b[0mself\u001b[0m\u001b[0;34m.\u001b[0m\u001b[0moutputs\u001b[0m\u001b[0;34m)\u001b[0m\u001b[0;34m]\u001b[0m\u001b[0;34m\u001b[0m\u001b[0m\n\u001b[1;32m   2677\u001b[0m \u001b[0;34m\u001b[0m\u001b[0m\n",
      "\u001b[0;32m~/miniconda3/envs/neuronfailure/lib/python3.6/site-packages/tensorflow/python/client/session.py\u001b[0m in \u001b[0;36m__call__\u001b[0;34m(self, *args, **kwargs)\u001b[0m\n\u001b[1;32m   1397\u001b[0m           ret = tf_session.TF_SessionRunCallable(\n\u001b[1;32m   1398\u001b[0m               \u001b[0mself\u001b[0m\u001b[0;34m.\u001b[0m\u001b[0m_session\u001b[0m\u001b[0;34m.\u001b[0m\u001b[0m_session\u001b[0m\u001b[0;34m,\u001b[0m \u001b[0mself\u001b[0m\u001b[0;34m.\u001b[0m\u001b[0m_handle\u001b[0m\u001b[0;34m,\u001b[0m \u001b[0margs\u001b[0m\u001b[0;34m,\u001b[0m \u001b[0mstatus\u001b[0m\u001b[0;34m,\u001b[0m\u001b[0;34m\u001b[0m\u001b[0m\n\u001b[0;32m-> 1399\u001b[0;31m               run_metadata_ptr)\n\u001b[0m\u001b[1;32m   1400\u001b[0m         \u001b[0;32mif\u001b[0m \u001b[0mrun_metadata\u001b[0m\u001b[0;34m:\u001b[0m\u001b[0;34m\u001b[0m\u001b[0m\n\u001b[1;32m   1401\u001b[0m           \u001b[0mproto_data\u001b[0m \u001b[0;34m=\u001b[0m \u001b[0mtf_session\u001b[0m\u001b[0;34m.\u001b[0m\u001b[0mTF_GetBuffer\u001b[0m\u001b[0;34m(\u001b[0m\u001b[0mrun_metadata_ptr\u001b[0m\u001b[0;34m)\u001b[0m\u001b[0;34m\u001b[0m\u001b[0m\n",
      "\u001b[0;31mKeyboardInterrupt\u001b[0m: "
     ]
    }
   ],
   "source": [
    "idx = np.random.choice(len(exp.x_test), 10, replace = False)\n",
    "#idx = range(10)\n",
    "for id_ in idx:\n",
    "    x0 = exp.x_test[id_].reshape(-1,1)\n",
    "    #x0 = np.ones((exp.N[0], 1)) * 10\n",
    "    #x0 = np.random.randn(exp.N[0], 1) + 0.1\n",
    "    e1 = get_error1(x0)\n",
    "    e2 = get_error2(x0)\n",
    "    #print(e1, e2)\n",
    "    print(np.mean(np.sign(e1) == np.sign(e2)), np.abs(e1 - e2) / np.mean(np.abs(e2)))"
   ]
  },
  {
   "cell_type": "code",
   "execution_count": 57,
   "metadata": {},
   "outputs": [
    {
     "data": {
      "text/plain": [
       "array([[ 0.12611416],\n",
       "       [ 0.04183775],\n",
       "       [ 0.0953725 ],\n",
       "       [ 0.18303297],\n",
       "       [ 0.08574104],\n",
       "       [ 0.73714278],\n",
       "       [ 0.00734458],\n",
       "       [-0.19188307],\n",
       "       [-0.10619611],\n",
       "       [ 0.18189531]])"
      ]
     },
     "execution_count": 57,
     "metadata": {},
     "output_type": "execute_result"
    }
   ],
   "source": []
  },
  {
   "cell_type": "code",
   "execution_count": 58,
   "metadata": {},
   "outputs": [
    {
     "data": {
      "text/plain": [
       "array([ 0.12611414,  0.04183766,  0.09537241,  0.18303299,  0.08574107,\n",
       "        0.73714256,  0.00734464, -0.19188298, -0.10619609,  0.18189539],\n",
       "      dtype=float32)"
      ]
     },
     "execution_count": 58,
     "metadata": {},
     "output_type": "execute_result"
    }
   ],
   "source": [
    "tr = exp.predict_no_dropout(x0.reshape(-1))\n",
    "tr\n",
    "#np.mean(tr.reshape(-1)-x.reshape(-1))"
   ]
  },
  {
   "cell_type": "code",
   "execution_count": null,
   "metadata": {},
   "outputs": [],
   "source": []
  }
 ],
 "metadata": {
  "kernelspec": {
   "display_name": "Python 3",
   "language": "python",
   "name": "python3"
  },
  "language_info": {
   "codemirror_mode": {
    "name": "ipython",
    "version": 3
   },
   "file_extension": ".py",
   "mimetype": "text/x-python",
   "name": "python",
   "nbconvert_exporter": "python",
   "pygments_lexer": "ipython3",
   "version": "3.6.6"
  }
 },
 "nbformat": 4,
 "nbformat_minor": 2
}
