{
 "cells": [
  {
   "cell_type": "markdown",
   "metadata": {},
   "source": [
    "### Test of regularization with error network"
   ]
  },
  {
   "cell_type": "code",
   "execution_count": 1,
   "metadata": {},
   "outputs": [
    {
     "name": "stderr",
     "output_type": "stream",
     "text": [
      "Using TensorFlow backend.\n"
     ]
    }
   ],
   "source": [
    "import os\n",
    "os.environ[\"CUDA_DEVICE_ORDER\"]=\"PCI_BUS_ID\"   # see issue #152\n",
    "os.environ[\"CUDA_VISIBLE_DEVICES\"]=\"0\"\n",
    "\n",
    "import tensorflow as tf\n",
    "from keras.backend.tensorflow_backend import set_session\n",
    "\n",
    "config = tf.ConfigProto()\n",
    "config.gpu_options.per_process_gpu_memory_fraction = 0.5\n",
    "config.gpu_options.allow_growth = True\n",
    "set_session(tf.Session(config=config))\n",
    "\n",
    "import numpy as np\n",
    "%matplotlib inline\n",
    "from matplotlib import pyplot as plt\n",
    "\n",
    "import keras\n",
    "from keras import backend as K\n",
    "from keras.models import Sequential\n",
    "from keras.layers import Dense, Dropout, Flatten\n",
    "from keras.layers.core import Lambda\n",
    "from keras.initializers import Constant\n",
    "from keras.regularizers import l1, l2\n",
    "from keras.datasets import mnist\n",
    "from experiment_constant import *\n",
    "from functools import partial"
   ]
  },
  {
   "cell_type": "code",
   "execution_count": 2,
   "metadata": {},
   "outputs": [],
   "source": [
    "def get_kernel_reg(layer, errors, is_last, C, p, KLips = 1., lambda_ = 0.1):\n",
    "    \"\"\" Get a DeltaNetwork regularizer for layer\"\"\"\n",
    "\n",
    "    def kernel_reg(w, layer = layer, is_last = is_last, C_layer = C, p_layer = p, KLips = KLips, lambda_ = lambda_):\n",
    "        \"\"\" Regularizer for a layer \"\"\"\n",
    "        # Maximal 1-norm over output neuron\n",
    "        if layer == 0: return 0\n",
    "        W = K.abs(w)\n",
    "\n",
    "        print(\"Error is_last = %d %d = W(pC + K(1-p) DeltaOld) p = %f C = %s K = %f DeltaOld = %s W = %s\" % (is_last, layer, p_layer, str(C_layer), KLips, str(errors[layer - 1]), str(W)))\n",
    "        \n",
    "        # error (induction)\n",
    "        error = K.dot(K.transpose(W), p_layer * C_layer + KLips * (1 - p_layer) * errors[layer - 1])\n",
    "        \n",
    "        # saving the error for the next call\n",
    "        errors[layer] = error\n",
    "\n",
    "        # returning the error scaled\n",
    "        return K.mean(error) * lambda_ if is_last else 0\n",
    "\n",
    "    # returning the function\n",
    "    return kernel_reg"
   ]
  },
  {
   "cell_type": "code",
   "execution_count": 3,
   "metadata": {},
   "outputs": [],
   "source": [
    "# preparing dataset\n",
    "(x_train, y_train), (x_test, y_test) = mnist.load_data()\n",
    "x_train = x_train.reshape(-1, 28 ** 2)\n",
    "x_test = x_test.reshape(-1, 28 ** 2)\n",
    "digits = {x: [1 if y == x else 0 for y in range(10)] for x in range(10)}\n",
    "y_train = np.array([digits[y] for y in y_train])\n",
    "y_test = np.array([digits[y] for y in y_test])"
   ]
  },
  {
   "cell_type": "code",
   "execution_count": 4,
   "metadata": {},
   "outputs": [],
   "source": [
    "# max per layer variable\n",
    "C1 = K.variable(value = np.zeros((11, 1)))\n",
    "C2 = K.variable(value = np.zeros((12, 1)))\n",
    "C3 = K.variable(value = np.zeros((13, 1)))\n",
    "C = [C1, C2, C3]"
   ]
  },
  {
   "cell_type": "code",
   "execution_count": 5,
   "metadata": {},
   "outputs": [],
   "source": [
    "# first layer of error network\n",
    "errors = {0: K.variable(value = np.zeros((11, 1)))}"
   ]
  },
  {
   "cell_type": "code",
   "execution_count": 6,
   "metadata": {},
   "outputs": [
    {
     "name": "stdout",
     "output_type": "stream",
     "text": [
      "Error is_last = 0 1 = W(pC + K(1-p) DeltaOld) p = 0.100000 C = <tf.Variable 'Variable:0' shape=(11, 1) dtype=float32_ref> K = 1.110000 DeltaOld = <tf.Variable 'Variable_3:0' shape=(11, 1) dtype=float32_ref> W = Tensor(\"dense_2/weight_regularizer/Abs:0\", shape=(11, 12), dtype=float32)\n",
      "Error is_last = 0 2 = W(pC + K(1-p) DeltaOld) p = 0.200000 C = <tf.Variable 'Variable_1:0' shape=(12, 1) dtype=float32_ref> K = 1.110000 DeltaOld = Tensor(\"dense_2/weight_regularizer/MatMul:0\", shape=(12, 1), dtype=float32) W = Tensor(\"dense_3/weight_regularizer/Abs:0\", shape=(12, 13), dtype=float32)\n",
      "Error is_last = 1 3 = W(pC + K(1-p) DeltaOld) p = 0.300000 C = <tf.Variable 'Variable_2:0' shape=(13, 1) dtype=float32_ref> K = 1.110000 DeltaOld = Tensor(\"dense_3/weight_regularizer/MatMul:0\", shape=(13, 1), dtype=float32) W = Tensor(\"dense_4/weight_regularizer/Abs:0\", shape=(13, 10), dtype=float32)\n"
     ]
    }
   ],
   "source": [
    "# defining the network\n",
    "model = Sequential()\n",
    "model.add(Dense(11, kernel_initializer = 'random_normal', bias_initializer = 'random_normal', activation = lambda x : K.relu(1.11 * x), input_shape = (784,)))\n",
    "model.add(Dense(12, kernel_initializer = 'random_normal', bias_initializer = 'random_normal', activation = lambda x : K.relu(1.11 * x), kernel_regularizer = get_kernel_reg(1, errors, False, C1, 0.1, 1.11, 0)))\n",
    "model.add(Dense(13, kernel_initializer = 'random_normal', bias_initializer = 'random_normal', activation = lambda x : K.relu(1.11 * x), kernel_regularizer = get_kernel_reg(2, errors, False, C2, 0.2, 1.11, 0)))\n",
    "model.add(Dense(10, kernel_initializer = 'random_normal', bias_initializer = 'random_normal', activation = 'linear', kernel_regularizer = get_kernel_reg(3, errors, True, C3, 0.3, 1.11, 0.01)))"
   ]
  },
  {
   "cell_type": "code",
   "execution_count": 7,
   "metadata": {},
   "outputs": [],
   "source": [
    "# calculating mean per neuron bound\n",
    "inp = model.input\n",
    "outputs = [K.mean(K.abs(layer.output), axis = 0) for layer in model.layers]\n",
    "mean_per_neuron = lambda x : (K.function([inp, K.learning_phase()], outputs))([x, 1])"
   ]
  },
  {
   "cell_type": "code",
   "execution_count": 8,
   "metadata": {},
   "outputs": [],
   "source": [
    "# calculating delta network output\n",
    "delta_network = lambda : (K.function([K.learning_phase()], [K.mean(errors[3])]))([1])[0]"
   ]
  },
  {
   "cell_type": "code",
   "execution_count": 9,
   "metadata": {},
   "outputs": [],
   "source": [
    "# compiling the model\n",
    "model.compile(loss=keras.losses.mean_squared_error,\n",
    "              optimizer=keras.optimizers.Adadelta(),\n",
    "              metrics=['accuracy', 'mean_squared_error'])"
   ]
  },
  {
   "cell_type": "code",
   "execution_count": 10,
   "metadata": {},
   "outputs": [
    {
     "name": "stdout",
     "output_type": "stream",
     "text": [
      "Train on 60000 samples, validate on 10000 samples\n",
      "Epoch 1/1\n",
      "60000/60000 [==============================] - 0s 7us/step - loss: 0.1828 - acc: 0.1079 - mean_squared_error: 0.1828 - val_loss: 0.1260 - val_acc: 0.1103 - val_mean_squared_error: 0.1260\n",
      "Train on 60000 samples, validate on 10000 samples\n",
      "Epoch 1/1\n",
      "60000/60000 [==============================] - 0s 2us/step - loss: 0.1291 - acc: 0.1190 - mean_squared_error: 0.1222 - val_loss: 0.1198 - val_acc: 0.1248 - val_mean_squared_error: 0.1132\n",
      "Train on 60000 samples, validate on 10000 samples\n",
      "Epoch 1/1\n",
      "60000/60000 [==============================] - 0s 2us/step - loss: 0.1179 - acc: 0.1359 - mean_squared_error: 0.1114 - val_loss: 0.1126 - val_acc: 0.1469 - val_mean_squared_error: 0.1063\n",
      "Train on 60000 samples, validate on 10000 samples\n",
      "Epoch 1/1\n",
      "60000/60000 [==============================] - 0s 2us/step - loss: 0.1116 - acc: 0.1552 - mean_squared_error: 0.1052 - val_loss: 0.1078 - val_acc: 0.1691 - val_mean_squared_error: 0.1015\n",
      "Train on 60000 samples, validate on 10000 samples\n",
      "Epoch 1/1\n",
      "60000/60000 [==============================] - 0s 2us/step - loss: 0.1072 - acc: 0.1766 - mean_squared_error: 0.1008 - val_loss: 0.1042 - val_acc: 0.1927 - val_mean_squared_error: 0.0979\n",
      "Train on 60000 samples, validate on 10000 samples\n",
      "Epoch 1/1\n",
      "60000/60000 [==============================] - 0s 2us/step - loss: 0.1037 - acc: 0.1983 - mean_squared_error: 0.0973 - val_loss: 0.1013 - val_acc: 0.2123 - val_mean_squared_error: 0.0950\n",
      "Train on 60000 samples, validate on 10000 samples\n",
      "Epoch 1/1\n",
      "60000/60000 [==============================] - 0s 2us/step - loss: 0.1010 - acc: 0.2200 - mean_squared_error: 0.0945 - val_loss: 0.0989 - val_acc: 0.2317 - val_mean_squared_error: 0.0926\n",
      "Train on 60000 samples, validate on 10000 samples\n",
      "Epoch 1/1\n",
      "60000/60000 [==============================] - 0s 2us/step - loss: 0.0987 - acc: 0.2420 - mean_squared_error: 0.0922 - val_loss: 0.0970 - val_acc: 0.2512 - val_mean_squared_error: 0.0907\n",
      "Train on 60000 samples, validate on 10000 samples\n",
      "Epoch 1/1\n",
      "60000/60000 [==============================] - 0s 2us/step - loss: 0.0967 - acc: 0.2622 - mean_squared_error: 0.0903 - val_loss: 0.0953 - val_acc: 0.2718 - val_mean_squared_error: 0.0890\n",
      "Train on 60000 samples, validate on 10000 samples\n",
      "Epoch 1/1\n",
      "60000/60000 [==============================] - 0s 2us/step - loss: 0.0951 - acc: 0.2813 - mean_squared_error: 0.0887 - val_loss: 0.0938 - val_acc: 0.2914 - val_mean_squared_error: 0.0876\n",
      "Train on 60000 samples, validate on 10000 samples\n",
      "Epoch 1/1\n",
      "60000/60000 [==============================] - 0s 2us/step - loss: 0.0936 - acc: 0.2989 - mean_squared_error: 0.0873 - val_loss: 0.0926 - val_acc: 0.3084 - val_mean_squared_error: 0.0864\n",
      "Train on 60000 samples, validate on 10000 samples\n",
      "Epoch 1/1\n",
      "60000/60000 [==============================] - 0s 2us/step - loss: 0.0924 - acc: 0.3159 - mean_squared_error: 0.0862 - val_loss: 0.0916 - val_acc: 0.3149 - val_mean_squared_error: 0.0855\n",
      "Train on 60000 samples, validate on 10000 samples\n",
      "Epoch 1/1\n",
      "60000/60000 [==============================] - 0s 2us/step - loss: 0.0914 - acc: 0.3273 - mean_squared_error: 0.0852 - val_loss: 0.0907 - val_acc: 0.3230 - val_mean_squared_error: 0.0847\n",
      "Train on 60000 samples, validate on 10000 samples\n",
      "Epoch 1/1\n",
      "60000/60000 [==============================] - 0s 2us/step - loss: 0.0905 - acc: 0.3356 - mean_squared_error: 0.0844 - val_loss: 0.0900 - val_acc: 0.3295 - val_mean_squared_error: 0.0841\n",
      "Train on 60000 samples, validate on 10000 samples\n",
      "Epoch 1/1\n",
      "60000/60000 [==============================] - 0s 2us/step - loss: 0.0898 - acc: 0.3410 - mean_squared_error: 0.0838 - val_loss: 0.0894 - val_acc: 0.3337 - val_mean_squared_error: 0.0836\n",
      "Train on 60000 samples, validate on 10000 samples\n",
      "Epoch 1/1\n",
      "60000/60000 [==============================] - 0s 2us/step - loss: 0.0891 - acc: 0.3461 - mean_squared_error: 0.0832 - val_loss: 0.0887 - val_acc: 0.3420 - val_mean_squared_error: 0.0829\n",
      "Train on 60000 samples, validate on 10000 samples\n",
      "Epoch 1/1\n",
      "60000/60000 [==============================] - 0s 2us/step - loss: 0.0884 - acc: 0.3529 - mean_squared_error: 0.0826 - val_loss: 0.0879 - val_acc: 0.3502 - val_mean_squared_error: 0.0823\n",
      "Train on 60000 samples, validate on 10000 samples\n",
      "Epoch 1/1\n",
      "60000/60000 [==============================] - 0s 2us/step - loss: 0.0876 - acc: 0.3595 - mean_squared_error: 0.0819 - val_loss: 0.0870 - val_acc: 0.3592 - val_mean_squared_error: 0.0814\n",
      "Train on 60000 samples, validate on 10000 samples\n",
      "Epoch 1/1\n",
      "60000/60000 [==============================] - 0s 2us/step - loss: 0.0868 - acc: 0.3639 - mean_squared_error: 0.0812 - val_loss: 0.0864 - val_acc: 0.3649 - val_mean_squared_error: 0.0808\n",
      "Train on 60000 samples, validate on 10000 samples\n",
      "Epoch 1/1\n",
      "60000/60000 [==============================] - 0s 2us/step - loss: 0.0862 - acc: 0.3688 - mean_squared_error: 0.0806 - val_loss: 0.0858 - val_acc: 0.3671 - val_mean_squared_error: 0.0803\n",
      "Train on 60000 samples, validate on 10000 samples\n",
      "Epoch 1/1\n",
      "60000/60000 [==============================] - 0s 2us/step - loss: 0.0856 - acc: 0.3739 - mean_squared_error: 0.0800 - val_loss: 0.0851 - val_acc: 0.3701 - val_mean_squared_error: 0.0797\n",
      "Train on 60000 samples, validate on 10000 samples\n",
      "Epoch 1/1\n",
      "60000/60000 [==============================] - 0s 2us/step - loss: 0.0849 - acc: 0.3776 - mean_squared_error: 0.0794 - val_loss: 0.0843 - val_acc: 0.3747 - val_mean_squared_error: 0.0790\n",
      "Train on 60000 samples, validate on 10000 samples\n",
      "Epoch 1/1\n",
      "60000/60000 [==============================] - 0s 2us/step - loss: 0.0841 - acc: 0.3849 - mean_squared_error: 0.0786 - val_loss: 0.0836 - val_acc: 0.3805 - val_mean_squared_error: 0.0782\n",
      "Train on 60000 samples, validate on 10000 samples\n",
      "Epoch 1/1\n",
      "60000/60000 [==============================] - 0s 2us/step - loss: 0.0834 - acc: 0.3912 - mean_squared_error: 0.0780 - val_loss: 0.0832 - val_acc: 0.3797 - val_mean_squared_error: 0.0779\n",
      "Train on 60000 samples, validate on 10000 samples\n",
      "Epoch 1/1\n",
      "60000/60000 [==============================] - 0s 2us/step - loss: 0.0830 - acc: 0.3970 - mean_squared_error: 0.0776 - val_loss: 0.0828 - val_acc: 0.3794 - val_mean_squared_error: 0.0776\n",
      "Train on 60000 samples, validate on 10000 samples\n",
      "Epoch 1/1\n",
      "60000/60000 [==============================] - 0s 2us/step - loss: 0.0826 - acc: 0.4011 - mean_squared_error: 0.0773 - val_loss: 0.0825 - val_acc: 0.3772 - val_mean_squared_error: 0.0774\n",
      "Train on 60000 samples, validate on 10000 samples\n",
      "Epoch 1/1\n",
      "60000/60000 [==============================] - 0s 2us/step - loss: 0.0823 - acc: 0.4053 - mean_squared_error: 0.0771 - val_loss: 0.0821 - val_acc: 0.3810 - val_mean_squared_error: 0.0771\n",
      "Train on 60000 samples, validate on 10000 samples\n",
      "Epoch 1/1\n",
      "60000/60000 [==============================] - 0s 2us/step - loss: 0.0818 - acc: 0.4076 - mean_squared_error: 0.0766 - val_loss: 0.0815 - val_acc: 0.3876 - val_mean_squared_error: 0.0765\n",
      "Train on 60000 samples, validate on 10000 samples\n",
      "Epoch 1/1\n",
      "60000/60000 [==============================] - 0s 2us/step - loss: 0.0813 - acc: 0.4117 - mean_squared_error: 0.0761 - val_loss: 0.0809 - val_acc: 0.3984 - val_mean_squared_error: 0.0758\n",
      "Train on 60000 samples, validate on 10000 samples\n",
      "Epoch 1/1\n",
      "60000/60000 [==============================] - 0s 2us/step - loss: 0.0807 - acc: 0.4163 - mean_squared_error: 0.0756 - val_loss: 0.0805 - val_acc: 0.4012 - val_mean_squared_error: 0.0754\n",
      "Train on 60000 samples, validate on 10000 samples\n",
      "Epoch 1/1\n",
      "60000/60000 [==============================] - 0s 2us/step - loss: 0.0803 - acc: 0.4194 - mean_squared_error: 0.0752 - val_loss: 0.0799 - val_acc: 0.4088 - val_mean_squared_error: 0.0748\n",
      "Train on 60000 samples, validate on 10000 samples\n",
      "Epoch 1/1\n",
      "60000/60000 [==============================] - 0s 2us/step - loss: 0.0798 - acc: 0.4237 - mean_squared_error: 0.0746 - val_loss: 0.0796 - val_acc: 0.4145 - val_mean_squared_error: 0.0745\n",
      "Train on 60000 samples, validate on 10000 samples\n",
      "Epoch 1/1\n",
      "60000/60000 [==============================] - 0s 2us/step - loss: 0.0793 - acc: 0.4284 - mean_squared_error: 0.0742 - val_loss: 0.0790 - val_acc: 0.4220 - val_mean_squared_error: 0.0739\n",
      "Train on 60000 samples, validate on 10000 samples\n",
      "Epoch 1/1\n"
     ]
    },
    {
     "name": "stdout",
     "output_type": "stream",
     "text": [
      "60000/60000 [==============================] - 0s 2us/step - loss: 0.0788 - acc: 0.4315 - mean_squared_error: 0.0737 - val_loss: 0.0786 - val_acc: 0.4270 - val_mean_squared_error: 0.0735\n",
      "Train on 60000 samples, validate on 10000 samples\n",
      "Epoch 1/1\n",
      "60000/60000 [==============================] - 0s 2us/step - loss: 0.0784 - acc: 0.4344 - mean_squared_error: 0.0733 - val_loss: 0.0782 - val_acc: 0.4315 - val_mean_squared_error: 0.0731\n",
      "Train on 60000 samples, validate on 10000 samples\n",
      "Epoch 1/1\n",
      "60000/60000 [==============================] - 0s 2us/step - loss: 0.0781 - acc: 0.4373 - mean_squared_error: 0.0729 - val_loss: 0.0780 - val_acc: 0.4393 - val_mean_squared_error: 0.0728\n",
      "Train on 60000 samples, validate on 10000 samples\n",
      "Epoch 1/1\n",
      "60000/60000 [==============================] - 0s 2us/step - loss: 0.0777 - acc: 0.4429 - mean_squared_error: 0.0725 - val_loss: 0.0774 - val_acc: 0.4486 - val_mean_squared_error: 0.0722\n",
      "Train on 60000 samples, validate on 10000 samples\n",
      "Epoch 1/1\n",
      "60000/60000 [==============================] - 0s 2us/step - loss: 0.0772 - acc: 0.4470 - mean_squared_error: 0.0720 - val_loss: 0.0770 - val_acc: 0.4582 - val_mean_squared_error: 0.0718\n",
      "Train on 60000 samples, validate on 10000 samples\n",
      "Epoch 1/1\n",
      "60000/60000 [==============================] - 0s 2us/step - loss: 0.0770 - acc: 0.4499 - mean_squared_error: 0.0718 - val_loss: 0.0767 - val_acc: 0.4651 - val_mean_squared_error: 0.0714\n",
      "Train on 60000 samples, validate on 10000 samples\n",
      "Epoch 1/1\n",
      "60000/60000 [==============================] - 0s 2us/step - loss: 0.0766 - acc: 0.4557 - mean_squared_error: 0.0713 - val_loss: 0.0760 - val_acc: 0.4753 - val_mean_squared_error: 0.0706\n",
      "Train on 60000 samples, validate on 10000 samples\n",
      "Epoch 1/1\n",
      "60000/60000 [==============================] - 0s 2us/step - loss: 0.0759 - acc: 0.4632 - mean_squared_error: 0.0706 - val_loss: 0.0753 - val_acc: 0.4851 - val_mean_squared_error: 0.0699\n",
      "Train on 60000 samples, validate on 10000 samples\n",
      "Epoch 1/1\n",
      "60000/60000 [==============================] - 0s 2us/step - loss: 0.0753 - acc: 0.4715 - mean_squared_error: 0.0699 - val_loss: 0.0747 - val_acc: 0.4970 - val_mean_squared_error: 0.0692\n",
      "Train on 60000 samples, validate on 10000 samples\n",
      "Epoch 1/1\n",
      "60000/60000 [==============================] - 0s 2us/step - loss: 0.0749 - acc: 0.4767 - mean_squared_error: 0.0695 - val_loss: 0.0743 - val_acc: 0.5031 - val_mean_squared_error: 0.0688\n",
      "Train on 60000 samples, validate on 10000 samples\n",
      "Epoch 1/1\n",
      "60000/60000 [==============================] - 0s 2us/step - loss: 0.0748 - acc: 0.4798 - mean_squared_error: 0.0693 - val_loss: 0.0741 - val_acc: 0.5123 - val_mean_squared_error: 0.0686\n",
      "Train on 60000 samples, validate on 10000 samples\n",
      "Epoch 1/1\n",
      "60000/60000 [==============================] - 0s 2us/step - loss: 0.0746 - acc: 0.4793 - mean_squared_error: 0.0692 - val_loss: 0.0738 - val_acc: 0.5095 - val_mean_squared_error: 0.0683\n",
      "Train on 60000 samples, validate on 10000 samples\n",
      "Epoch 1/1\n",
      "60000/60000 [==============================] - 0s 2us/step - loss: 0.0742 - acc: 0.4810 - mean_squared_error: 0.0687 - val_loss: 0.0730 - val_acc: 0.5161 - val_mean_squared_error: 0.0675\n",
      "Train on 60000 samples, validate on 10000 samples\n",
      "Epoch 1/1\n",
      "60000/60000 [==============================] - 0s 2us/step - loss: 0.0732 - acc: 0.4887 - mean_squared_error: 0.0678 - val_loss: 0.0719 - val_acc: 0.5226 - val_mean_squared_error: 0.0665\n",
      "Train on 60000 samples, validate on 10000 samples\n",
      "Epoch 1/1\n",
      "60000/60000 [==============================] - 0s 2us/step - loss: 0.0721 - acc: 0.4965 - mean_squared_error: 0.0667 - val_loss: 0.0712 - val_acc: 0.5297 - val_mean_squared_error: 0.0657\n",
      "Train on 60000 samples, validate on 10000 samples\n",
      "Epoch 1/1\n",
      "60000/60000 [==============================] - 0s 2us/step - loss: 0.0717 - acc: 0.5033 - mean_squared_error: 0.0662 - val_loss: 0.0710 - val_acc: 0.5284 - val_mean_squared_error: 0.0656\n",
      "Train on 60000 samples, validate on 10000 samples\n",
      "Epoch 1/1\n",
      "60000/60000 [==============================] - 0s 2us/step - loss: 0.0718 - acc: 0.4989 - mean_squared_error: 0.0662 - val_loss: 0.0712 - val_acc: 0.5253 - val_mean_squared_error: 0.0657\n",
      "Train on 60000 samples, validate on 10000 samples\n",
      "Epoch 1/1\n",
      "60000/60000 [==============================] - 0s 2us/step - loss: 0.0716 - acc: 0.5014 - mean_squared_error: 0.0661 - val_loss: 0.0712 - val_acc: 0.5226 - val_mean_squared_error: 0.0658\n",
      "Train on 60000 samples, validate on 10000 samples\n",
      "Epoch 1/1\n",
      "60000/60000 [==============================] - 0s 2us/step - loss: 0.0715 - acc: 0.5039 - mean_squared_error: 0.0660 - val_loss: 0.0700 - val_acc: 0.5191 - val_mean_squared_error: 0.0646\n",
      "Train on 60000 samples, validate on 10000 samples\n",
      "Epoch 1/1\n",
      "60000/60000 [==============================] - 0s 2us/step - loss: 0.0703 - acc: 0.5051 - mean_squared_error: 0.0649 - val_loss: 0.0694 - val_acc: 0.5174 - val_mean_squared_error: 0.0640\n",
      "Train on 60000 samples, validate on 10000 samples\n",
      "Epoch 1/1\n",
      "60000/60000 [==============================] - 0s 2us/step - loss: 0.0698 - acc: 0.5109 - mean_squared_error: 0.0644 - val_loss: 0.0686 - val_acc: 0.5201 - val_mean_squared_error: 0.0633\n",
      "Train on 60000 samples, validate on 10000 samples\n",
      "Epoch 1/1\n",
      "60000/60000 [==============================] - 0s 2us/step - loss: 0.0689 - acc: 0.5162 - mean_squared_error: 0.0636 - val_loss: 0.0683 - val_acc: 0.5289 - val_mean_squared_error: 0.0630\n",
      "Train on 60000 samples, validate on 10000 samples\n",
      "Epoch 1/1\n",
      "60000/60000 [==============================] - 0s 2us/step - loss: 0.0685 - acc: 0.5251 - mean_squared_error: 0.0631 - val_loss: 0.0676 - val_acc: 0.5388 - val_mean_squared_error: 0.0623\n",
      "Train on 60000 samples, validate on 10000 samples\n",
      "Epoch 1/1\n",
      "60000/60000 [==============================] - 0s 2us/step - loss: 0.0677 - acc: 0.5356 - mean_squared_error: 0.0623 - val_loss: 0.0668 - val_acc: 0.5544 - val_mean_squared_error: 0.0615\n",
      "Train on 60000 samples, validate on 10000 samples\n",
      "Epoch 1/1\n",
      "60000/60000 [==============================] - 0s 2us/step - loss: 0.0670 - acc: 0.5495 - mean_squared_error: 0.0616 - val_loss: 0.0660 - val_acc: 0.5673 - val_mean_squared_error: 0.0608\n",
      "Train on 60000 samples, validate on 10000 samples\n",
      "Epoch 1/1\n",
      "60000/60000 [==============================] - 0s 2us/step - loss: 0.0663 - acc: 0.5595 - mean_squared_error: 0.0609 - val_loss: 0.0654 - val_acc: 0.5768 - val_mean_squared_error: 0.0601\n",
      "Train on 60000 samples, validate on 10000 samples\n",
      "Epoch 1/1\n",
      "60000/60000 [==============================] - 0s 2us/step - loss: 0.0657 - acc: 0.5673 - mean_squared_error: 0.0603 - val_loss: 0.0649 - val_acc: 0.5851 - val_mean_squared_error: 0.0596\n",
      "Train on 60000 samples, validate on 10000 samples\n",
      "Epoch 1/1\n",
      "60000/60000 [==============================] - 0s 2us/step - loss: 0.0657 - acc: 0.5698 - mean_squared_error: 0.0603 - val_loss: 0.0658 - val_acc: 0.5783 - val_mean_squared_error: 0.0604\n",
      "Train on 60000 samples, validate on 10000 samples\n",
      "Epoch 1/1\n",
      "60000/60000 [==============================] - 0s 2us/step - loss: 0.0659 - acc: 0.5710 - mean_squared_error: 0.0605 - val_loss: 0.0647 - val_acc: 0.5902 - val_mean_squared_error: 0.0593\n",
      "Train on 60000 samples, validate on 10000 samples\n",
      "Epoch 1/1\n",
      "60000/60000 [==============================] - 0s 2us/step - loss: 0.0649 - acc: 0.5806 - mean_squared_error: 0.0595 - val_loss: 0.0638 - val_acc: 0.6034 - val_mean_squared_error: 0.0585\n",
      "Train on 60000 samples, validate on 10000 samples\n",
      "Epoch 1/1\n",
      "60000/60000 [==============================] - 0s 2us/step - loss: 0.0644 - acc: 0.5854 - mean_squared_error: 0.0589 - val_loss: 0.0637 - val_acc: 0.6108 - val_mean_squared_error: 0.0584\n",
      "Train on 60000 samples, validate on 10000 samples\n",
      "Epoch 1/1\n",
      "60000/60000 [==============================] - 0s 2us/step - loss: 0.0646 - acc: 0.5840 - mean_squared_error: 0.0591 - val_loss: 0.0643 - val_acc: 0.6152 - val_mean_squared_error: 0.0589\n",
      "Train on 60000 samples, validate on 10000 samples\n",
      "Epoch 1/1\n",
      "60000/60000 [==============================] - 0s 2us/step - loss: 0.0652 - acc: 0.5864 - mean_squared_error: 0.0597 - val_loss: 0.0640 - val_acc: 0.6351 - val_mean_squared_error: 0.0585\n",
      "Train on 60000 samples, validate on 10000 samples\n",
      "Epoch 1/1\n"
     ]
    },
    {
     "name": "stdout",
     "output_type": "stream",
     "text": [
      "60000/60000 [==============================] - 0s 2us/step - loss: 0.0644 - acc: 0.6076 - mean_squared_error: 0.0589 - val_loss: 0.0631 - val_acc: 0.6452 - val_mean_squared_error: 0.0577\n",
      "Train on 60000 samples, validate on 10000 samples\n",
      "Epoch 1/1\n",
      "60000/60000 [==============================] - 0s 2us/step - loss: 0.0634 - acc: 0.6250 - mean_squared_error: 0.0579 - val_loss: 0.0624 - val_acc: 0.6525 - val_mean_squared_error: 0.0569\n",
      "Train on 60000 samples, validate on 10000 samples\n",
      "Epoch 1/1\n",
      "60000/60000 [==============================] - 0s 2us/step - loss: 0.0628 - acc: 0.6292 - mean_squared_error: 0.0573 - val_loss: 0.0618 - val_acc: 0.6574 - val_mean_squared_error: 0.0563\n",
      "Train on 60000 samples, validate on 10000 samples\n",
      "Epoch 1/1\n",
      "60000/60000 [==============================] - 0s 2us/step - loss: 0.0622 - acc: 0.6353 - mean_squared_error: 0.0566 - val_loss: 0.0610 - val_acc: 0.6573 - val_mean_squared_error: 0.0554\n",
      "Train on 60000 samples, validate on 10000 samples\n",
      "Epoch 1/1\n",
      "60000/60000 [==============================] - 0s 2us/step - loss: 0.0614 - acc: 0.6360 - mean_squared_error: 0.0559 - val_loss: 0.0611 - val_acc: 0.6559 - val_mean_squared_error: 0.0556\n",
      "Train on 60000 samples, validate on 10000 samples\n",
      "Epoch 1/1\n",
      "60000/60000 [==============================] - 0s 2us/step - loss: 0.0613 - acc: 0.6406 - mean_squared_error: 0.0557 - val_loss: 0.0599 - val_acc: 0.6516 - val_mean_squared_error: 0.0544\n",
      "Train on 60000 samples, validate on 10000 samples\n",
      "Epoch 1/1\n",
      "60000/60000 [==============================] - 0s 2us/step - loss: 0.0602 - acc: 0.6363 - mean_squared_error: 0.0547 - val_loss: 0.0601 - val_acc: 0.6385 - val_mean_squared_error: 0.0546\n",
      "Train on 60000 samples, validate on 10000 samples\n",
      "Epoch 1/1\n",
      "60000/60000 [==============================] - 0s 2us/step - loss: 0.0611 - acc: 0.6142 - mean_squared_error: 0.0556 - val_loss: 0.0609 - val_acc: 0.5825 - val_mean_squared_error: 0.0555\n",
      "Train on 60000 samples, validate on 10000 samples\n",
      "Epoch 1/1\n",
      "60000/60000 [==============================] - 0s 2us/step - loss: 0.0623 - acc: 0.5716 - mean_squared_error: 0.0569 - val_loss: 0.0608 - val_acc: 0.5897 - val_mean_squared_error: 0.0555\n",
      "Train on 60000 samples, validate on 10000 samples\n",
      "Epoch 1/1\n",
      "60000/60000 [==============================] - 0s 2us/step - loss: 0.0602 - acc: 0.5958 - mean_squared_error: 0.0552 - val_loss: 0.0579 - val_acc: 0.6220 - val_mean_squared_error: 0.0529\n",
      "Train on 60000 samples, validate on 10000 samples\n",
      "Epoch 1/1\n",
      "60000/60000 [==============================] - 0s 2us/step - loss: 0.0581 - acc: 0.6272 - mean_squared_error: 0.0530 - val_loss: 0.0574 - val_acc: 0.6240 - val_mean_squared_error: 0.0524\n",
      "Train on 60000 samples, validate on 10000 samples\n",
      "Epoch 1/1\n",
      "60000/60000 [==============================] - 0s 2us/step - loss: 0.0582 - acc: 0.6215 - mean_squared_error: 0.0531 - val_loss: 0.0585 - val_acc: 0.6034 - val_mean_squared_error: 0.0534\n",
      "Train on 60000 samples, validate on 10000 samples\n",
      "Epoch 1/1\n",
      "60000/60000 [==============================] - 0s 2us/step - loss: 0.0594 - acc: 0.6023 - mean_squared_error: 0.0542 - val_loss: 0.0584 - val_acc: 0.6029 - val_mean_squared_error: 0.0533\n",
      "Train on 60000 samples, validate on 10000 samples\n",
      "Epoch 1/1\n",
      "60000/60000 [==============================] - 0s 2us/step - loss: 0.0583 - acc: 0.6189 - mean_squared_error: 0.0532 - val_loss: 0.0574 - val_acc: 0.6121 - val_mean_squared_error: 0.0524\n",
      "Train on 60000 samples, validate on 10000 samples\n",
      "Epoch 1/1\n",
      "60000/60000 [==============================] - 0s 2us/step - loss: 0.0579 - acc: 0.6239 - mean_squared_error: 0.0528 - val_loss: 0.0573 - val_acc: 0.6150 - val_mean_squared_error: 0.0522\n",
      "Train on 60000 samples, validate on 10000 samples\n",
      "Epoch 1/1\n",
      "60000/60000 [==============================] - 0s 2us/step - loss: 0.0575 - acc: 0.6298 - mean_squared_error: 0.0523 - val_loss: 0.0566 - val_acc: 0.6235 - val_mean_squared_error: 0.0515\n",
      "Train on 60000 samples, validate on 10000 samples\n",
      "Epoch 1/1\n",
      "60000/60000 [==============================] - 0s 2us/step - loss: 0.0569 - acc: 0.6368 - mean_squared_error: 0.0518 - val_loss: 0.0567 - val_acc: 0.6189 - val_mean_squared_error: 0.0517\n",
      "Train on 60000 samples, validate on 10000 samples\n",
      "Epoch 1/1\n",
      "60000/60000 [==============================] - 0s 2us/step - loss: 0.0570 - acc: 0.6400 - mean_squared_error: 0.0519 - val_loss: 0.0568 - val_acc: 0.6191 - val_mean_squared_error: 0.0517\n",
      "Train on 60000 samples, validate on 10000 samples\n",
      "Epoch 1/1\n",
      "60000/60000 [==============================] - 0s 2us/step - loss: 0.0567 - acc: 0.6428 - mean_squared_error: 0.0517 - val_loss: 0.0559 - val_acc: 0.6383 - val_mean_squared_error: 0.0509\n",
      "Train on 60000 samples, validate on 10000 samples\n",
      "Epoch 1/1\n",
      "60000/60000 [==============================] - 0s 2us/step - loss: 0.0561 - acc: 0.6581 - mean_squared_error: 0.0510 - val_loss: 0.0558 - val_acc: 0.6479 - val_mean_squared_error: 0.0507\n",
      "Train on 60000 samples, validate on 10000 samples\n",
      "Epoch 1/1\n",
      "60000/60000 [==============================] - 0s 2us/step - loss: 0.0559 - acc: 0.6660 - mean_squared_error: 0.0508 - val_loss: 0.0559 - val_acc: 0.6555 - val_mean_squared_error: 0.0508\n",
      "Train on 60000 samples, validate on 10000 samples\n",
      "Epoch 1/1\n",
      "60000/60000 [==============================] - 0s 2us/step - loss: 0.0560 - acc: 0.6705 - mean_squared_error: 0.0508 - val_loss: 0.0561 - val_acc: 0.6559 - val_mean_squared_error: 0.0509\n",
      "Train on 60000 samples, validate on 10000 samples\n",
      "Epoch 1/1\n",
      "60000/60000 [==============================] - 0s 2us/step - loss: 0.0559 - acc: 0.6662 - mean_squared_error: 0.0508 - val_loss: 0.0553 - val_acc: 0.6670 - val_mean_squared_error: 0.0502\n",
      "Train on 60000 samples, validate on 10000 samples\n",
      "Epoch 1/1\n",
      "60000/60000 [==============================] - 0s 2us/step - loss: 0.0556 - acc: 0.6631 - mean_squared_error: 0.0505 - val_loss: 0.0563 - val_acc: 0.6352 - val_mean_squared_error: 0.0512\n",
      "Train on 60000 samples, validate on 10000 samples\n",
      "Epoch 1/1\n",
      "60000/60000 [==============================] - 0s 2us/step - loss: 0.0555 - acc: 0.6485 - mean_squared_error: 0.0505 - val_loss: 0.0540 - val_acc: 0.6782 - val_mean_squared_error: 0.0489\n",
      "Train on 60000 samples, validate on 10000 samples\n",
      "Epoch 1/1\n",
      "60000/60000 [==============================] - 0s 2us/step - loss: 0.0544 - acc: 0.6658 - mean_squared_error: 0.0493 - val_loss: 0.0535 - val_acc: 0.6864 - val_mean_squared_error: 0.0484\n",
      "Train on 60000 samples, validate on 10000 samples\n",
      "Epoch 1/1\n",
      "60000/60000 [==============================] - 0s 2us/step - loss: 0.0542 - acc: 0.6655 - mean_squared_error: 0.0491 - val_loss: 0.0522 - val_acc: 0.6971 - val_mean_squared_error: 0.0470\n",
      "Train on 60000 samples, validate on 10000 samples\n",
      "Epoch 1/1\n",
      "60000/60000 [==============================] - 0s 2us/step - loss: 0.0525 - acc: 0.6897 - mean_squared_error: 0.0474 - val_loss: 0.0539 - val_acc: 0.6732 - val_mean_squared_error: 0.0488\n",
      "Train on 60000 samples, validate on 10000 samples\n",
      "Epoch 1/1\n",
      "60000/60000 [==============================] - 0s 2us/step - loss: 0.0540 - acc: 0.6617 - mean_squared_error: 0.0490 - val_loss: 0.0550 - val_acc: 0.6387 - val_mean_squared_error: 0.0500\n",
      "Train on 60000 samples, validate on 10000 samples\n",
      "Epoch 1/1\n",
      "60000/60000 [==============================] - 0s 2us/step - loss: 0.0540 - acc: 0.6472 - mean_squared_error: 0.0491 - val_loss: 0.0523 - val_acc: 0.6905 - val_mean_squared_error: 0.0474\n",
      "Train on 60000 samples, validate on 10000 samples\n",
      "Epoch 1/1\n",
      "60000/60000 [==============================] - 0s 2us/step - loss: 0.0529 - acc: 0.6716 - mean_squared_error: 0.0479 - val_loss: 0.0535 - val_acc: 0.6801 - val_mean_squared_error: 0.0485\n",
      "Train on 60000 samples, validate on 10000 samples\n",
      "Epoch 1/1\n",
      "60000/60000 [==============================] - 0s 2us/step - loss: 0.0550 - acc: 0.6436 - mean_squared_error: 0.0499 - val_loss: 0.0535 - val_acc: 0.6697 - val_mean_squared_error: 0.0484\n",
      "Train on 60000 samples, validate on 10000 samples\n",
      "Epoch 1/1\n",
      "60000/60000 [==============================] - 0s 2us/step - loss: 0.0530 - acc: 0.6657 - mean_squared_error: 0.0482 - val_loss: 0.0536 - val_acc: 0.6614 - val_mean_squared_error: 0.0488\n",
      "Train on 60000 samples, validate on 10000 samples\n",
      "Epoch 1/1\n"
     ]
    },
    {
     "name": "stdout",
     "output_type": "stream",
     "text": [
      "30000/60000 [==============>...............] - ETA: 0s - loss: 0.0537 - acc: 0.6634 - mean_squared_error: 0.0488\b\b\b\b\b\b\b\b\b\b\b\b\b\b\b\b\b\b\b\b\b\b\b\b\b\b\b\b\b\b\b\b\b\b\b\b\b\b\b\b\b\b\b\b\b\b\b\b\b\b\b\b\b\b\b\b\b\b\b\b\b\b\b\b\b\b\b\b\b\b\b\b\b\b\b\b\b\b\b\b\b\b\b\b\b\b\b\b\b\b\b\b\b\b\b\b\b\b\b\b\b\b\b\b\b\b\b\b\b\b\b\b\r",
      "60000/60000 [==============================] - 0s 2us/step - loss: 0.0543 - acc: 0.6413 - mean_squared_error: 0.0494 - val_loss: 0.0568 - val_acc: 0.6095 - val_mean_squared_error: 0.0519\n"
     ]
    }
   ],
   "source": [
    "# training the model\n",
    "history = []\n",
    "deltas = []\n",
    "for i in range(100):\n",
    "    history += [model.fit(x_train, y_train, validation_data = (x_test, y_test), epochs = 1, batch_size = 30000)]\n",
    "    for C_, v in zip(C, mean_per_neuron(x_train)):\n",
    "        K.set_value(C_, v.reshape(-1, 1))\n",
    "    deltas += [delta_network()]"
   ]
  },
  {
   "cell_type": "code",
   "execution_count": 11,
   "metadata": {},
   "outputs": [],
   "source": [
    "# obtaining accuracy\n",
    "acc = [x for h in history for x in h.history['acc']]\n",
    "val_acc = [x for h in history for x in h.history['val_acc']]"
   ]
  },
  {
   "cell_type": "code",
   "execution_count": 12,
   "metadata": {},
   "outputs": [
    {
     "data": {
      "image/png": "[encoded data removed]",
      "text/plain": [
       "<Figure size 432x288 with 1 Axes>"
      ]
     },
     "metadata": {
      "needs_background": "light"
     },
     "output_type": "display_data"
    }
   ],
   "source": [
    "# plotting the training data\n",
    "plt.figure()\n",
    "plt.title('Accuracy while training')\n",
    "plt.xlabel('Epoch')\n",
    "plt.ylabel('Accuracy/Error')\n",
    "plt.plot(acc, label = 'Accuracy')\n",
    "plt.plot(val_acc, label = 'Validation accuracy')\n",
    "plt.plot(deltas, label = 'Error Network Output')\n",
    "plt.legend()\n",
    "plt.show()"
   ]
  },
  {
   "cell_type": "code",
   "execution_count": 13,
   "metadata": {},
   "outputs": [
    {
     "data": {
      "text/plain": [
       "0.47319698"
      ]
     },
     "execution_count": 13,
     "metadata": {},
     "output_type": "execute_result"
    }
   ],
   "source": [
    "# obtaining the delta network bound (TF)\n",
    "for C_, v in zip(C, mean_per_neuron(x_train)):\n",
    "    K.set_value(C_, v.reshape(-1, 1))\n",
    "delta_network()"
   ]
  },
  {
   "cell_type": "code",
   "execution_count": 14,
   "metadata": {},
   "outputs": [],
   "source": [
    "# obtaining weights\n",
    "W = model.get_weights()[::2]\n",
    "B = model.get_weights()[1::2]"
   ]
  },
  {
   "cell_type": "code",
   "execution_count": 15,
   "metadata": {},
   "outputs": [],
   "source": [
    "# Creating a constant experiment\n",
    "experiment = ConstantExperiment([784, 11, 12, 13, 10], [0.1, 0.2, 0.3], 1.11, W, B, 'relu')"
   ]
  },
  {
   "cell_type": "code",
   "execution_count": 16,
   "metadata": {},
   "outputs": [],
   "source": [
    "# Checking that C was calculated correctly\n",
    "experiment.create_max_per_layer()\n",
    "experiment.update_C(x_train)\n",
    "assert all([np.allclose(K.get_value(C1).flatten(), C2) for C1, C2 in zip(C, experiment.C)]), \"C calculation\""
   ]
  },
  {
   "cell_type": "code",
   "execution_count": 17,
   "metadata": {},
   "outputs": [
    {
     "data": {
      "text/plain": [
       "0.47319697272590416"
      ]
     },
     "execution_count": 17,
     "metadata": {},
     "output_type": "execute_result"
    }
   ],
   "source": [
    "# Calculating mean error bound (numpy)\n",
    "np.mean(experiment.get_mean_error_v2())"
   ]
  },
  {
   "cell_type": "code",
   "execution_count": 18,
   "metadata": {},
   "outputs": [],
   "source": [
    "# Checking that numpy and TF implementations coincide\n",
    "assert all([np.allclose(K.get_value(errors[i]).flatten(), delta) for i, delta in zip(range(0, 4), experiment.EDeltaArr)]), \"Bound\""
   ]
  },
  {
   "cell_type": "code",
   "execution_count": null,
   "metadata": {},
   "outputs": [],
   "source": []
  }
 ],
 "metadata": {
  "kernelspec": {
   "display_name": "Python 3",
   "language": "python",
   "name": "python3"
  },
  "language_info": {
   "codemirror_mode": {
    "name": "ipython",
    "version": 3
   },
   "file_extension": ".py",
   "mimetype": "text/x-python",
   "name": "python",
   "nbconvert_exporter": "python",
   "pygments_lexer": "ipython3",
   "version": "3.6.6"
  }
 },
 "nbformat": 4,
 "nbformat_minor": 2
}
