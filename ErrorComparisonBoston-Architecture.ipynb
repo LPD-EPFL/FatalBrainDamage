{
 "cells": [
  {
   "cell_type": "code",
   "execution_count": 17,
   "metadata": {
    "ExecuteTime": {
     "end_time": "2019-01-20T20:09:48.283910Z",
     "start_time": "2019-01-20T20:09:46.461938Z"
    }
   },
   "outputs": [
    {
     "name": "stdout",
     "output_type": "stream",
     "text": [
      "The autoreload extension is already loaded. To reload it, use:\n",
      "  %reload_ext autoreload\n"
     ]
    }
   ],
   "source": [
    "#!rm -rf code\n",
    "#!git clone https://xxxx/yyyy.git code\n",
    "#!mv code/* .\n",
    "%load_ext autoreload\n",
    "%autoreload 2\n",
    "%matplotlib inline\n",
    "from helpers import *\n",
    "from matplotlib import pyplot as plt\n",
    "import numpy as np\n",
    "from experiment_datasets import *\n",
    "import pandas as pd\n",
    "import seaborn as sns\n",
    "import pickle\n",
    "from IPython.display import clear_output\n",
    "import matplotlib\n",
    "from scipy.optimize import curve_fit"
   ]
  },
  {
   "cell_type": "markdown",
   "metadata": {},
   "source": [
    "### Fixed single Boston experiment for all dataset as points"
   ]
  },
  {
   "cell_type": "code",
   "execution_count": 18,
   "metadata": {
    "ExecuteTime": {
     "end_time": "2019-01-20T20:09:48.298982Z",
     "start_time": "2019-01-20T20:09:48.285384Z"
    }
   },
   "outputs": [],
   "source": [
    "font = {'family' : 'normal',\n",
    "        'weight' : 'normal',\n",
    "        'size'   : 20}\n",
    "matplotlib.rc('font', **font)"
   ]
  },
  {
   "cell_type": "code",
   "execution_count": 22,
   "metadata": {
    "ExecuteTime": {
     "end_time": "2019-01-20T20:09:48.298982Z",
     "start_time": "2019-01-20T20:09:48.285384Z"
    }
   },
   "outputs": [],
   "source": [
    "# pfailure for the first layer\n",
    "p = 1e-2\n",
    "np.random.seed(42)"
   ]
  },
  {
   "cell_type": "code",
   "execution_count": 24,
   "metadata": {
    "ExecuteTime": {
     "end_time": "2019-01-20T20:09:50.215678Z",
     "start_time": "2019-01-20T20:09:48.300332Z"
    }
   },
   "outputs": [
    {
     "name": "stdout",
     "output_type": "stream",
     "text": [
      "Total runs: 50\n"
     ]
    }
   ],
   "source": [
    "repetitions = 5\n",
    "Ns = np.arange(10, 1000, 100)\n",
    "print('Total runs: %d' % (repetitions * len(Ns)))"
   ]
  },
  {
   "cell_type": "code",
   "execution_count": 25,
   "metadata": {
    "ExecuteTime": {
     "end_time": "2019-01-20T20:09:50.215678Z",
     "start_time": "2019-01-20T20:09:48.300332Z"
    }
   },
   "outputs": [],
   "source": [
    "def run_for_N(N = 50):\n",
    "    \"\"\" Train a network with given h1 size and compute mean FT variance \"\"\"\n",
    "    K.clear_session()\n",
    "    \n",
    "    # run with random weights and multiple inputs\n",
    "    exp = BostonHousingExperiment(N = [N, 49], p_inference = [0, p, 0, 0], seed = int(np.random.random() * 100000),\n",
    "                                  activation = 'sigmoid', epochs = 200, do_print = 'plot',\n",
    "                                  reg_coeff = 0, reg_type = 'l2')\n",
    "    \n",
    "    print('Loss: %s' % str(exp.get_mae_correct()))\n",
    "\n",
    "    # obtaining data points\n",
    "    data = exp.get_inputs(50)\n",
    "\n",
    "    # obtaining errors and bounds for data points\n",
    "    rmean, rstd = exp.run(data, repetitions = 10000)\n",
    "\n",
    "    return np.mean(rstd['experiment'] ** 2)"
   ]
  },
  {
   "cell_type": "code",
   "execution_count": null,
   "metadata": {
    "ExecuteTime": {
     "end_time": "2019-01-20T20:09:50.215678Z",
     "start_time": "2019-01-20T20:09:48.300332Z"
    }
   },
   "outputs": [
    {
     "name": "stderr",
     "output_type": "stream",
     "text": [
      "\r",
      "  0%|          | 0/10 [00:00<?, ?it/s]"
     ]
    }
   ],
   "source": [
    "results = [[run_for_N(N) for _ in range(repetitions)] for N in tqdm(Ns)]"
   ]
  },
  {
   "cell_type": "code",
   "execution_count": null,
   "metadata": {
    "ExecuteTime": {
     "end_time": "2019-01-20T20:09:50.215678Z",
     "start_time": "2019-01-20T20:09:48.300332Z"
    }
   },
   "outputs": [],
   "source": []
  },
  {
   "cell_type": "code",
   "execution_count": 14,
   "metadata": {
    "ExecuteTime": {
     "end_time": "2019-01-20T20:09:50.215678Z",
     "start_time": "2019-01-20T20:09:48.300332Z"
    }
   },
   "outputs": [
    {
     "data": {
      "image/png": "[encoded data removed]",
      "text/plain": [
       "<Figure size 432x288 with 1 Axes>"
      ]
     },
     "metadata": {
      "needs_background": "light"
     },
     "output_type": "display_data"
    }
   ],
   "source": [
    "mean = np.mean(results, axis = 1)\n",
    "std = np.std(results, axis = 1) / len(results[0])\n",
    "\n",
    "def hyperbola(x, a):\n",
    "    return 1. * a / x\n",
    "hyperbola_coeff = curve_fit(hyperbola, Ns, mean)[0][0]\n",
    "\n",
    "plt.figure()\n",
    "plt.xlabel('Layer 1 width')\n",
    "plt.ylabel('Var$\\Delta$')\n",
    "plt.plot(Ns, mean)\n",
    "plt.plot(Ns, hyperbola_coeff / Ns)\n",
    "plt.fill_between(Ns, mean - std, mean + std)\n",
    "#plt.ylim(0,0.2)\n",
    "plt.savefig('figures/comparison_architecture_boston.eps', bbox_inches = 'tight')\n",
    "plt.show()"
   ]
  },
  {
   "cell_type": "code",
   "execution_count": 9,
   "metadata": {
    "ExecuteTime": {
     "end_time": "2019-01-20T20:09:50.215678Z",
     "start_time": "2019-01-20T20:09:48.300332Z"
    }
   },
   "outputs": [
    {
     "data": {
      "text/plain": [
       "array([-1.38670474,  1.86176984])"
      ]
     },
     "execution_count": 9,
     "metadata": {},
     "output_type": "execute_result"
    }
   ],
   "source": [
    "# fitting line to logarithmic plot\n",
    "np.polyfit(np.log(Ns), np.log(mean), 1)"
   ]
  }
 ],
 "metadata": {
  "kernelspec": {
   "display_name": "Python 3",
   "language": "python",
   "name": "python3"
  },
  "language_info": {
   "codemirror_mode": {
    "name": "ipython",
    "version": 3
   },
   "file_extension": ".py",
   "mimetype": "text/x-python",
   "name": "python",
   "nbconvert_exporter": "python",
   "pygments_lexer": "ipython3",
   "version": "3.6.8"
  },
  "varInspector": {
   "cols": {
    "lenName": 16,
    "lenType": 16,
    "lenVar": 40
   },
   "kernels_config": {
    "python": {
     "delete_cmd_postfix": "",
     "delete_cmd_prefix": "del ",
     "library": "var_list.py",
     "varRefreshCmd": "print(var_dic_list())"
    },
    "r": {
     "delete_cmd_postfix": ") ",
     "delete_cmd_prefix": "rm(",
     "library": "var_list.r",
     "varRefreshCmd": "cat(var_dic_list()) "
    }
   },
   "types_to_exclude": [
    "module",
    "function",
    "builtin_function_or_method",
    "instance",
    "_Feature"
   ],
   "window_display": false
  }
 },
 "nbformat": 4,
 "nbformat_minor": 2
}
