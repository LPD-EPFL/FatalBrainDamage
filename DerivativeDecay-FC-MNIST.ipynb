{
 "cells": [
  {
   "cell_type": "code",
   "execution_count": 1,
   "metadata": {
    "ExecuteTime": {
     "end_time": "2019-01-20T20:13:59.673640Z",
     "start_time": "2019-01-20T20:13:57.997310Z"
    }
   },
   "outputs": [
    {
     "name": "stderr",
     "output_type": "stream",
     "text": [
      "Using TensorFlow backend.\n"
     ]
    },
    {
     "name": "stdout",
     "output_type": "stream",
     "text": [
      "Initialized TensorFlow\n"
     ]
    }
   ],
   "source": [
    "%load_ext autoreload\n",
    "%autoreload 2\n",
    "%matplotlib inline\n",
    "from experiment_train import *\n",
    "from experiment_datasets import *\n",
    "from helpers import *\n",
    "import scipy.stats as st\n",
    "import matplotlib\n",
    "from tqdm import tqdm\n",
    "import pickle\n",
    "import scipy\n",
    "from scipy.optimize import curve_fit\n",
    "from derivative_decay import *"
   ]
  },
  {
   "cell_type": "code",
   "execution_count": 2,
   "metadata": {},
   "outputs": [
    {
     "name": "stdout",
     "output_type": "stream",
     "text": [
      "Sizes [50, 117, 185, 253, 321, 389, 457, 525, 592, 660, 728, 796, 864, 932, 1000]\n",
      "Repetitions 10\n",
      "Total runs 150\n"
     ]
    }
   ],
   "source": [
    "# dimensions to try\n",
    "Ns = [int(t) for t in np.linspace(50, 1000, 15)]\n",
    "\n",
    "# how much repetitions for each experiment are needed?\n",
    "repetitions = 10\n",
    "\n",
    "print('Sizes', Ns)\n",
    "print('Repetitions', repetitions)\n",
    "print('Total runs', len(Ns) * repetitions)"
   ]
  },
  {
   "cell_type": "code",
   "execution_count": 3,
   "metadata": {},
   "outputs": [],
   "source": [
    "# list of things to compute for each experiment\n",
    "to_run = [mean_d2Ldy2, mean_dLdy]\n",
    "# parameters for each experiment\n",
    "parameters = {'reg_coeff': 0, 'reg_type': None, 'do_print': 'plot', 'epochs': 15}"
   ]
  },
  {
   "cell_type": "code",
   "execution_count": null,
   "metadata": {},
   "outputs": [
    {
     "name": "stderr",
     "output_type": "stream",
     "text": [
      "\r",
      "  0%|          | 0/15 [00:00<?, ?it/s]"
     ]
    },
    {
     "data": {
      "image/png": "[encoded data removed]",
      "text/plain": [
       "<Figure size 432x288 with 1 Axes>"
      ]
     },
     "metadata": {
      "needs_background": "light"
     },
     "output_type": "display_data"
    },
    {
     "data": {
      "image/png": "[encoded data removed]",
      "text/plain": [
       "<Figure size 432x288 with 1 Axes>"
      ]
     },
     "metadata": {
      "needs_background": "light"
     },
     "output_type": "display_data"
    }
   ],
   "source": [
    "results = []\n",
    "for N in tqdm(Ns):\n",
    "    # results for one N, many repetitions\n",
    "    buffer = []\n",
    "    for rep in range(repetitions):\n",
    "        exp = experiment_for_N(N, parameters)\n",
    "        buffer.append(get_metrics(exp, to_run))\n",
    "        tf.reset_default_graph()\n",
    "        K.clear_session()\n",
    "    results.append(buffer)"
   ]
  },
  {
   "cell_type": "code",
   "execution_count": null,
   "metadata": {},
   "outputs": [],
   "source": [
    "# key being processed\n",
    "slopes = {'D': -1, 'H_all': -2, 'H_diag': -2}\n",
    "for key in slopes.keys():\n",
    "    # get desired slope (-1/-2)\n",
    "    slope = slopes[key]\n",
    "\n",
    "    # fitting the curve\n",
    "    fcn = partial(line_1_bias, coeff = slope)\n",
    "    xs = np.log(Ns)\n",
    "    ys = np.log(get_arr(key, results))\n",
    "    ys_mean = np.mean(ys, axis = 1)\n",
    "    ys_std = np.std(ys, axis = 1)\n",
    "    C = curve_fit(fcn, xs, ys_mean)[0][0]\n",
    "\n",
    "    plt.figure()\n",
    "    plt.fill_between(xs, ys_mean - ys_std, ys_mean + ys_std, alpha = 0.3, color = 'green')\n",
    "    plt.scatter(xs, ys_mean, color = 'green')\n",
    "    plt.plot(xs, fcn(xs, C), color = 'red')\n",
    "    plt.title('Derivative decay for %s, slope=%.2f' % (key, slope))\n",
    "    plt.xlabel('log(n)')\n",
    "    plt.ylabel('log(%s)' % key)\n",
    "    plt.show()"
   ]
  },
  {
   "cell_type": "markdown",
   "metadata": {},
   "source": [
    "All derivatives decay as they should!"
   ]
  },
  {
   "cell_type": "code",
   "execution_count": null,
   "metadata": {},
   "outputs": [],
   "source": []
  }
 ],
 "metadata": {
  "kernelspec": {
   "display_name": "Python 3",
   "language": "python",
   "name": "python3"
  },
  "language_info": {
   "codemirror_mode": {
    "name": "ipython",
    "version": 3
   },
   "file_extension": ".py",
   "mimetype": "text/x-python",
   "name": "python",
   "nbconvert_exporter": "python",
   "pygments_lexer": "ipython3",
   "version": "3.6.8"
  },
  "notify_time": "5",
  "varInspector": {
   "cols": {
    "lenName": 16,
    "lenType": 16,
    "lenVar": 40
   },
   "kernels_config": {
    "python": {
     "delete_cmd_postfix": "",
     "delete_cmd_prefix": "del ",
     "library": "var_list.py",
     "varRefreshCmd": "print(var_dic_list())"
    },
    "r": {
     "delete_cmd_postfix": ") ",
     "delete_cmd_prefix": "rm(",
     "library": "var_list.r",
     "varRefreshCmd": "cat(var_dic_list()) "
    }
   },
   "position": {
    "height": "407px",
    "left": "1561px",
    "right": "20px",
    "top": "120px",
    "width": "339px"
   },
   "types_to_exclude": [
    "module",
    "function",
    "builtin_function_or_method",
    "instance",
    "_Feature"
   ],
   "window_display": false
  }
 },
 "nbformat": 4,
 "nbformat_minor": 2
}
