{
 "cells": [
  {
   "cell_type": "code",
   "execution_count": 1,
   "metadata": {},
   "outputs": [
    {
     "name": "stderr",
     "output_type": "stream",
     "text": [
      "/home/sergei/miniconda3/envs/ML/lib/python3.6/site-packages/h5py/__init__.py:36: FutureWarning: Conversion of the second argument of issubdtype from `float` to `np.floating` is deprecated. In future, it will be treated as `np.float64 == np.dtype(float).type`.\n",
      "  from ._conv import register_converters as _register_converters\n"
     ]
    }
   ],
   "source": [
    "import numpy as np\n",
    "import tensorflow as tf"
   ]
  },
  {
   "cell_type": "code",
   "execution_count": 3,
   "metadata": {},
   "outputs": [],
   "source": [
    "n_input = 5\n",
    "n_classes = 1\n",
    "\n",
    "with tf.Session() as sess:\n",
    "    x = tf.placeholder(\"float\", [None, n_input])\n",
    "    y = tf.placeholder(\"float\", [None, n_classes])\n",
    "    keep_prob = tf.placeholder(tf.float32)\n",
    "\n",
    "    def model(x, layer_shapes, ):\n",
    "        for\n",
    "        # hidden layer with RELU activation\n",
    "        layer_1 = tf.contrib.layers.fully_connected(x, )\n",
    "        # apply DropOut to hidden layer\n",
    "        drop_out = tf.nn.dropout(layer_1, keep_prob)  # DROP-OUT here\n",
    "        # output layer with linear activation\n",
    "        out_layer = tf.matmul(drop_out, weights_out) + biases_out\n",
    "        return out_layer\n",
    "    \n",
    "    output = model(x)\n",
    "    \n",
    "    sess.run([out_l, cost], feed_dict={x: batch_x, y: batch_y, keep_prob : 0.5})"
   ]
  },
  {
   "cell_type": "code",
   "execution_count": null,
   "metadata": {
    "collapsed": true
   },
   "outputs": [],
   "source": []
  }
 ],
 "metadata": {
  "kernelspec": {
   "display_name": "Python 3",
   "language": "python",
   "name": "python3"
  },
  "language_info": {
   "codemirror_mode": {
    "name": "ipython",
    "version": 3
   },
   "file_extension": ".py",
   "mimetype": "text/x-python",
   "name": "python",
   "nbconvert_exporter": "python",
   "pygments_lexer": "ipython3",
   "version": "3.6.3"
  }
 },
 "nbformat": 4,
 "nbformat_minor": 2
}
