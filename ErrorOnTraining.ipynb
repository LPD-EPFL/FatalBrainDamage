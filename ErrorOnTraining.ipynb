{
 "cells": [
  {
   "cell_type": "code",
   "execution_count": 1,
   "metadata": {
    "ExecuteTime": {
     "end_time": "2019-01-19T17:37:10.093711Z",
     "start_time": "2019-01-19T17:37:08.032291Z"
    }
   },
   "outputs": [
    {
     "name": "stderr",
     "output_type": "stream",
     "text": [
      "Using TensorFlow backend.\n"
     ]
    },
    {
     "name": "stdout",
     "output_type": "stream",
     "text": [
      "Initialized TensorFlow\n"
     ]
    }
   ],
   "source": [
    "%load_ext autoreload\n",
    "%autoreload 2\n",
    "%matplotlib inline\n",
    "from experiment_train import *\n",
    "from experiment_datasets import *\n",
    "import matplotlib"
   ]
  },
  {
   "cell_type": "code",
   "execution_count": 2,
   "metadata": {
    "ExecuteTime": {
     "end_time": "2019-01-19T17:37:10.150951Z",
     "start_time": "2019-01-19T17:37:10.095250Z"
    }
   },
   "outputs": [],
   "source": [
    "class TrainExperimentShowResilience(TrainExperiment):\n",
    "    def __init__(self, x_train, y_train, x_test, y_test, N, p_inference = None, p_train = None, KLips = 1, epochs = 20, activation = 'sigmoid', reg_type = None, reg_coeff = 0.01, do_print = False, name = 'exp', seed = 0, batch_size = 10000, exp_skip = 10, repetitions = 1000):\n",
    "        \"\"\" Get a trained with MSE loss network with configuration (N, P, activation) and reg_type(reg_coeff) with name. The last layer is linear\n",
    "                N: array with shapes [hidden1, hidden2, ..., hiddenLast]. Input and output shapes are determined automatically\n",
    "                p_inference: array with [p_input, p_h1, ..., p_hlast, p_output]: inference failure probabilities\n",
    "                Ptrain: same for the train\n",
    "                Computes v4 bound and experimental bound during training\n",
    "        \"\"\"\n",
    "\n",
    "        # fixing Pinference\n",
    "        if p_inference == None:\n",
    "            p_inference = [0] * (len(N) + 2)\n",
    "\n",
    "        # fixing Ptrain\n",
    "        if p_train == None:\n",
    "            p_train = [0] * (len(N) + 2)\n",
    "\n",
    "        # obtaining input/output shape\n",
    "        input_shape = x_train[0].size\n",
    "        output_shape = y_train[0].size\n",
    "\n",
    "        # full array of shapes\n",
    "        N = [input_shape] + N + [output_shape]\n",
    "\n",
    "        # input check\n",
    "        assert len(p_inference) == len(p_train), \"Pinference and p_train must have the same length\"\n",
    "        assert len(N) == len(p_train), \"Ptrain must have two more elements compared to N\"\n",
    "        assert input_shape > 0, \"Input must exist\"\n",
    "        assert output_shape > 0, \"Output must exist\"\n",
    "\n",
    "        # filling in the task\n",
    "        self.task = 'regression'\n",
    "\n",
    "        # remembering the dataset\n",
    "        self.x_train, self.y_train, self.x_test, self.y_test = x_train, y_train, x_test, y_test\n",
    "        \n",
    "        # seeding the weights generation\n",
    "        np.random.seed(seed)\n",
    "\n",
    "        # creating weight initialization\n",
    "        W, B = [], []\n",
    "        for i in range(1, len(N)):\n",
    "            W += [np.random.randn(N[i], N[i - 1]) * np.sqrt(2. / N[i - 1]) / KLips]\n",
    "            B += [np.random.randn(N[i])]\n",
    "\n",
    "        # creating a model\n",
    "        model = create_fc_crashing_model(N, W, B, p_train, KLips = KLips, func = activation, reg_type = reg_type, reg_coeff = reg_coeff, do_print = do_print,\n",
    "                                        loss = keras.losses.mean_absolute_error, optimizer = keras.optimizers.Adadelta())\n",
    "        \n",
    "        # creating \"crashing\" and \"normal\" models\n",
    "        Experiment.__init__(self, N, W, B, p_inference, KLips = KLips, activation = activation, do_print = False, name = name)\n",
    "        \n",
    "        # mean error over the dataset on crashes at the first layer (too slow)\n",
    "        mean_error_dLdy_exp = []\n",
    "        \n",
    "        # mean error (first order bound in p)\n",
    "        mean_error_dLdy_v3 = []\n",
    "        mean_error_dLdy_v4 = []\n",
    "        \n",
    "        # loss during training\n",
    "        losses = []\n",
    "        \n",
    "        # will contain (w, dLdw)\n",
    "        wdLdw = []\n",
    "        \n",
    "        # w of second layer\n",
    "        w = self.model_correct.layers[1].weights[0]\n",
    "        \n",
    "        # output of the whole network\n",
    "        y = self.model_correct.layers[-1].output\n",
    "        \n",
    "        # correct outputs\n",
    "        y_train_t = tf.placeholder(tf.float32, shape=(None, 1), name = 'y_train')\n",
    "        self.y_train_t = y_train_t\n",
    "        \n",
    "        # loss\n",
    "        loss = tf.reduce_mean(tf.abs(y - y_train_t))\n",
    "        \n",
    "        # dloss/dW\n",
    "        dLdw_t = tf.gradients([loss], [w])[0]\n",
    "        \n",
    "        # should be equal to E_x Delta * partialL/partialy\n",
    "        wdLdw_t = tf.reduce_sum(tf.multiply(w, dLdw_t))\n",
    "        \n",
    "        # sanity check\n",
    "        assert self.model_correct.loss == keras.losses.mean_squared_error, \"Only support MAE now\"\n",
    "        \n",
    "        def evaluate(tensor):\n",
    "            \"\"\" Evaluate tensor on x_train \"\"\"\n",
    "            return self.run_on_input_and_output({'tmp': tensor}, x_train, y_train)['tmp']\n",
    "        \n",
    "        # training one epoch at a time\n",
    "        for epoch in tqdm(range(epochs)):\n",
    "            current_history = model.fit(x_train, y_train, verbose = False, batch_size = 1000, epochs = 1, validation_data = (x_test, y_test)).history\n",
    "            \n",
    "            # updating weights...\n",
    "            self.model_crashing.set_weights(model.get_weights())\n",
    "            self.model_correct.set_weights(model.get_weights())\n",
    "            \n",
    "            # adding mean error\n",
    "            losses += [np.mean(np.abs(evaluate(y) - y_train))]\n",
    "            \n",
    "            # computing dL/dy\n",
    "            dLdy = np.sign(evaluate(y).flatten() - y_train.flatten())\n",
    "            \n",
    "            # adding mean bound\n",
    "            mean_bound_v3 = self.get_bound_v3(x_train)['mean'].flatten()\n",
    "            mean_error_dLdy_v3 += [np.mean(np.multiply(mean_bound_v3, dLdy))]\n",
    "            \n",
    "            mean_bound_v4 = self.get_bound_v4(x_train)['mean'].flatten()\n",
    "            mean_error_dLdy_v4 += [np.mean(np.multiply(mean_bound_v4, dLdy))]\n",
    "            \n",
    "            # evaluating the bound...\n",
    "            wdLdw += [evaluate(wdLdw_t)]\n",
    "            \n",
    "            # adding experimental mean occasionally\n",
    "            if epoch % exp_skip == 0:\n",
    "                # mean over repetitions\n",
    "                mean_exp = np.mean(self.compute_error(x_train, repetitions = repetitions), axis = 1).flatten()\n",
    "                \n",
    "                # mean over objects of error * dLdy\n",
    "                mean_error_dLdy_exp += [(epoch, np.mean(np.multiply(mean_exp, dLdy)))]\n",
    "\n",
    "        # saving the data\n",
    "        self.losses = losses\n",
    "        self.mean_error_dLdy_v3 = mean_error_dLdy_v3\n",
    "        self.mean_error_dLdy_v4 = mean_error_dLdy_v4\n",
    "        self.mean_error_dLdy_exp = mean_error_dLdy_exp\n",
    "        self.wdLdw = wdLdw\n",
    "        \n",
    "    def run_on_input_and_output(self, tensors, data, outputs):\n",
    "      \"\"\" Run dict of tensors on input data \"\"\"\n",
    "      self.check_input_shape(data)\n",
    "\n",
    "      # list of all keys, fixed order\n",
    "      keys = list(tensors.keys())\n",
    "\n",
    "      # running for all keys\n",
    "      results = get_session().run([tensors[key] for key in keys], feed_dict = {self.model_correct.layers[0].input.name: data,\n",
    "                                                                              self.y_train_t.name: np.array(outputs).reshape(-1, 1)})\n",
    "\n",
    "      # returning the result\n",
    "      return {key: val for key, val in zip(keys, results)}"
   ]
  },
  {
   "cell_type": "code",
   "execution_count": 3,
   "metadata": {
    "ExecuteTime": {
     "end_time": "2019-01-19T17:37:10.165784Z",
     "start_time": "2019-01-19T17:37:10.151916Z"
    }
   },
   "outputs": [],
   "source": [
    "# get Boston data\n",
    "(x_train, y_train), (x_test, y_test) = boston_housing.load_data()"
   ]
  },
  {
   "cell_type": "code",
   "execution_count": 4,
   "metadata": {
    "ExecuteTime": {
     "end_time": "2019-01-19T17:38:02.461552Z",
     "start_time": "2019-01-19T17:37:10.166702Z"
    }
   },
   "outputs": [
    {
     "name": "stdout",
     "output_type": "stream",
     "text": [
      "_________________________________________________________________\n",
      "Layer (type)                 Output Shape              Param #   \n",
      "=================================================================\n",
      "dense_1 (Dense)              (None, 20)                280       \n",
      "_________________________________________________________________\n",
      "dense_2 (Dense)              (None, 19)                399       \n",
      "_________________________________________________________________\n",
      "dense_3 (Dense)              (None, 1)                 20        \n",
      "=================================================================\n",
      "Total params: 699\n",
      "Trainable params: 699\n",
      "Non-trainable params: 0\n",
      "_________________________________________________________________\n"
     ]
    },
    {
     "name": "stderr",
     "output_type": "stream",
     "text": [
      "100%|██████████| 300/300 [00:52<00:00, 21.14it/s]\n"
     ]
    }
   ],
   "source": [
    "# Train some network\n",
    "\n",
    "# network shape (w/o input-output)\n",
    "N = [20, 19]\n",
    "p = 1e-2\n",
    "p_inference = [0, p] + [0] * len(N)\n",
    "p_train = [0] * (len(N) + 2)\n",
    "\n",
    "exp = TrainExperimentShowResilience(x_train, y_train, x_test, y_test, N, epochs = 300,\n",
    "                                    p_inference = p_inference, p_train = p_train, activation = 'sigmoid',\n",
    "                                    do_print = True, exp_skip = 50, repetitions = 200)"
   ]
  },
  {
   "cell_type": "code",
   "execution_count": 9,
   "metadata": {
    "ExecuteTime": {
     "end_time": "2019-01-19T17:40:45.535646Z",
     "start_time": "2019-01-19T17:40:45.211689Z"
    }
   },
   "outputs": [
    {
     "name": "stderr",
     "output_type": "stream",
     "text": [
      "/localhome/volodin/miniconda3/envs/neuronfailure/lib/python3.6/site-packages/matplotlib/figure.py:448: UserWarning: Matplotlib is currently using module://ipykernel.pylab.backend_inline, which is a non-GUI backend, so cannot show the figure.\n",
      "  % get_backend())\n"
     ]
    },
    {
     "data": {
      "image/png": "[encoded data removed]",
      "text/plain": [
       "<Figure size 720x360 with 2 Axes>"
      ]
     },
     "metadata": {
      "needs_background": "light"
     },
     "output_type": "display_data"
    }
   ],
   "source": [
    "font = {'family' : 'normal',\n",
    "        'weight' : 'normal',\n",
    "        'size'   : 25}\n",
    "\n",
    "matplotlib.rc('font', **font)\n",
    "\n",
    "# show data\n",
    "self = exp\n",
    "\n",
    "fig, ax1 = plt.subplots(figsize=(10, 5))\n",
    "#ax1.set_title('MAE and fault tolerance, Boston dataset')\n",
    "\n",
    "ax1.plot(self.losses, 'b-', label = 'Loss')\n",
    "ax1.set_xlabel('Epochs')\n",
    "ax1.set_ylabel('MAE', color='b')\n",
    "ax1.tick_params('y', colors='b')\n",
    "\n",
    "ax2 = ax1.twinx()\n",
    "#ax3 = ax1.twinx()\n",
    "#ax4 = ax1.twinx()\n",
    "ax2.set_ylabel('$\\mathbb{E}_x\\partial L/\\partial y\\mathbb{E}_\\\\xi \\Delta$', color = 'r')\n",
    "ax2.plot(self.mean_error_dLdy_v3, '-', label = 'b3/Th7', color = 'r')\n",
    "ax2.plot(self.mean_error_dLdy_v4, label = 'b4', color = '#a00000')\n",
    "ax2.tick_params('y', colors='r')\n",
    "ax2.scatter(*zip(*self.mean_error_dLdy_exp), label = 'Experiment', color = '#a00000')\n",
    "\n",
    "#ax3.spines[\"right\"].set_position((\"axes\", 1.1))\n",
    "#ax3.set_ylabel('$\\mathbb{E}_x dy/dw$', color = 'g')\n",
    "#ax3.plot(self.mean_dydw, label = 'Mean dy/dw', color = 'g')\n",
    "#ax3.tick_params('y', colors = 'g')\n",
    "\n",
    "#ax2.plot(-p * np.array(self.wdLdw), '--', label = 'Theorem 2', color = 'y')\n",
    "\n",
    "#ax2.set_ylim(*[fcn(self.mean_error_dLdy_v4) for fcn in [np.min, np.max]])\n",
    "\n",
    "ax2.legend()\n",
    "fig.tight_layout()\n",
    "fig.show()\n",
    "fig.savefig('figures/training_boston_loss_error.pdf', bbox_inches = 'tight')\n",
    "#plt.show()"
   ]
  },
  {
   "cell_type": "code",
   "execution_count": null,
   "metadata": {},
   "outputs": [],
   "source": []
  }
 ],
 "metadata": {
  "kernelspec": {
   "display_name": "Python 3",
   "language": "python",
   "name": "python3"
  },
  "language_info": {
   "codemirror_mode": {
    "name": "ipython",
    "version": 3
   },
   "file_extension": ".py",
   "mimetype": "text/x-python",
   "name": "python",
   "nbconvert_exporter": "python",
   "pygments_lexer": "ipython3",
   "version": "3.6.6"
  },
  "varInspector": {
   "cols": {
    "lenName": 16,
    "lenType": 16,
    "lenVar": 40
   },
   "kernels_config": {
    "python": {
     "delete_cmd_postfix": "",
     "delete_cmd_prefix": "del ",
     "library": "var_list.py",
     "varRefreshCmd": "print(var_dic_list())"
    },
    "r": {
     "delete_cmd_postfix": ") ",
     "delete_cmd_prefix": "rm(",
     "library": "var_list.r",
     "varRefreshCmd": "cat(var_dic_list()) "
    }
   },
   "types_to_exclude": [
    "module",
    "function",
    "builtin_function_or_method",
    "instance",
    "_Feature"
   ],
   "window_display": false
  }
 },
 "nbformat": 4,
 "nbformat_minor": 2
}
