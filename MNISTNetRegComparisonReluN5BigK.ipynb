{
 "cells": [
  {
   "cell_type": "code",
   "execution_count": 1,
   "metadata": {},
   "outputs": [
    {
     "name": "stderr",
     "output_type": "stream",
     "text": [
      "Using TensorFlow backend.\n"
     ]
    }
   ],
   "source": [
    "%matplotlib inline\n",
    "%load_ext autoreload\n",
    "%autoreload 2\n",
    "from matplotlib import pyplot as plt\n",
    "import numpy as np\n",
    "from keras import backend as K\n",
    "from experiment_mnist import *\n",
    "from tfshow import *"
   ]
  },
  {
   "cell_type": "code",
   "execution_count": 2,
   "metadata": {},
   "outputs": [],
   "source": [
    "methods = ['l1', 'l2', 'delta', 'dropout', 'none']\n",
    "activations = ['sigmoid', 'relu']\n",
    "layers = [1,2,3,4,5,6]\n",
    "reg_coeff = np.logspace(-3,3,10)"
   ]
  },
  {
   "cell_type": "markdown",
   "metadata": {},
   "source": [
    "### Relu, 5 layers, 10x neurons, 0.4 dropout, K = 2"
   ]
  },
  {
   "cell_type": "code",
   "execution_count": 3,
   "metadata": {},
   "outputs": [],
   "source": [
    "Layers = 3\n",
    "N = [10] * Layers\n",
    "P = [0.5] + [0] * (Layers - 1)\n",
    "KLips = 10\n",
    "epochs = 250\n",
    "activation = 'relu'"
   ]
  },
  {
   "cell_type": "code",
   "execution_count": null,
   "metadata": {},
   "outputs": [],
   "source": [
    "model_no_reg = MNISTExperiment(N, P, KLips, epochs = epochs, activation = activation, reg_type = 'delta',\n",
    "                             reg_coeff = 0, do_print = True, scaler = 1.0)"
   ]
  },
  {
   "cell_type": "markdown",
   "metadata": {},
   "source": [
    "### Running the model"
   ]
  },
  {
   "cell_type": "code",
   "execution_count": null,
   "metadata": {},
   "outputs": [],
   "source": [
    "model_no_reg.update_C(model_no_reg.get_inputs(1000))\n",
    "model_no_reg.run(inputs = 2000, repetitions = 100)"
   ]
  },
  {
   "cell_type": "markdown",
   "metadata": {},
   "source": [
    "### Calculating accuracy"
   ]
  },
  {
   "cell_type": "code",
   "execution_count": null,
   "metadata": {},
   "outputs": [],
   "source": [
    "acc_no_reg = model_no_reg.get_accuracy(1000, 1000, tqdm_ = tqdm)\n",
    "print(acc_no_reg)"
   ]
  },
  {
   "cell_type": "code",
   "execution_count": null,
   "metadata": {},
   "outputs": [],
   "source": [
    "acc_no_reg_orig = model_no_reg.get_accuracy(1000, 1000, tqdm_ = tqdm, no_dropout = True)\n",
    "print(acc_no_reg_orig)"
   ]
  },
  {
   "cell_type": "markdown",
   "metadata": {},
   "source": [
    "### Comparing regularizers"
   ]
  },
  {
   "cell_type": "code",
   "execution_count": null,
   "metadata": {},
   "outputs": [],
   "source": [
    "# method: l1/l2/delta\n",
    "def plot_error(method = 'l1', coeffs = np.logspace(-10, 1, 30)):\n",
    "    models = {}\n",
    "    fail_accs = []\n",
    "    orig_accs = []\n",
    "    for coeff in coeffs:\n",
    "        models[coeff] = MNISTExperiment(N, P, KLips, epochs = epochs, activation = activation, reg_type = method,\n",
    "                                 reg_coeff = coeff, do_print = True)\n",
    "        fail_accs += [models[coeff].get_accuracy(1000, 1000)]\n",
    "        orig_accs += [models[coeff].get_accuracy(1000, no_dropout = True)]\n",
    "        K.clear_session()\n",
    "    plt.figure()\n",
    "    plt.title(method + ' and resilience')\n",
    "    plt.xlabel('Regularization coefficient')\n",
    "    plt.ylabel('Accuracy')\n",
    "    plt.plot(coeffs, fail_accs, label = 'Dropout')\n",
    "    plt.plot(coeffs, orig_accs, label = 'No dropout')\n",
    "    plt.plot(coeffs, [acc_no_reg] * len(coeffs), label = 'No reg, dropout')\n",
    "    plt.plot(coeffs, [acc_no_reg_orig] * len(coeffs), label = 'No reg, no dropout')\n",
    "    plt.xscale('log')\n",
    "    plt.legend()\n",
    "    plt.show()"
   ]
  },
  {
   "cell_type": "code",
   "execution_count": null,
   "metadata": {},
   "outputs": [],
   "source": [
    "plot_error('delta', coeffs = np.logspace(-8, -3, 10))"
   ]
  },
  {
   "cell_type": "code",
   "execution_count": null,
   "metadata": {},
   "outputs": [],
   "source": []
  }
 ],
 "metadata": {
  "kernelspec": {
   "display_name": "Python 3",
   "language": "python",
   "name": "python3"
  },
  "language_info": {
   "codemirror_mode": {
    "name": "ipython",
    "version": 3
   },
   "file_extension": ".py",
   "mimetype": "text/x-python",
   "name": "python",
   "nbconvert_exporter": "python",
   "pygments_lexer": "ipython3",
   "version": "3.6.6"
  }
 },
 "nbformat": 4,
 "nbformat_minor": 2
}
